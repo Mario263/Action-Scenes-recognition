{
 "cells": [
  {
   "cell_type": "code",
   "execution_count": 1,
   "metadata": {},
   "outputs": [
    {
     "name": "stdout",
     "output_type": "stream",
     "text": [
      "\n",
      "🎥 Processing: /Users/mario/Desktop/Desktop/UofA/4.Winter-2025/ece-910/Batman/Batman-(1989)-002/Batman (1989)-002_part_0.mp4\n",
      "📸 Total Frames: 1008\n"
     ]
    },
    {
     "name": "stderr",
     "output_type": "stream",
     "text": [
      "Extracting Frames from Batman (1989)-002_part_0.mp4: 100%|██████████| 1008/1008 [00:01<00:00, 636.76it/s]\n"
     ]
    },
    {
     "name": "stdout",
     "output_type": "stream",
     "text": [
      "✅ Saved frames in: /Users/mario/Desktop/Desktop/UofA/4.Winter-2025/ece-910/Batman/VLM-testing/batman-frames/Batman (1989)-002_part_0\n",
      "\n",
      "🎥 Processing: /Users/mario/Desktop/Desktop/UofA/4.Winter-2025/ece-910/Batman/Batman-(1989)-002/Batman (1989)-002_part_1.mp4\n",
      "📸 Total Frames: 120\n"
     ]
    },
    {
     "name": "stderr",
     "output_type": "stream",
     "text": [
      "Extracting Frames from Batman (1989)-002_part_1.mp4: 100%|██████████| 120/120 [00:00<00:00, 633.17it/s]\n"
     ]
    },
    {
     "name": "stdout",
     "output_type": "stream",
     "text": [
      "✅ Saved frames in: /Users/mario/Desktop/Desktop/UofA/4.Winter-2025/ece-910/Batman/VLM-testing/batman-frames/Batman (1989)-002_part_1\n",
      "\n",
      "🎥 Processing: /Users/mario/Desktop/Desktop/UofA/4.Winter-2025/ece-910/Batman/Batman-(1989)-002/Batman (1989)-002_part_10.mp4\n",
      "📸 Total Frames: 26\n"
     ]
    },
    {
     "name": "stderr",
     "output_type": "stream",
     "text": [
      "Extracting Frames from Batman (1989)-002_part_10.mp4: 100%|██████████| 26/26 [00:00<00:00, 140.69it/s]\n"
     ]
    },
    {
     "name": "stdout",
     "output_type": "stream",
     "text": [
      "✅ Saved frames in: /Users/mario/Desktop/Desktop/UofA/4.Winter-2025/ece-910/Batman/VLM-testing/batman-frames/Batman (1989)-002_part_10\n",
      "\n",
      "🎥 Processing: /Users/mario/Desktop/Desktop/UofA/4.Winter-2025/ece-910/Batman/Batman-(1989)-002/Batman (1989)-002_part_100.mp4\n",
      "📸 Total Frames: 340\n"
     ]
    },
    {
     "name": "stderr",
     "output_type": "stream",
     "text": [
      "Extracting Frames from Batman (1989)-002_part_100.mp4: 100%|██████████| 340/340 [00:00<00:00, 573.90it/s]\n"
     ]
    },
    {
     "name": "stdout",
     "output_type": "stream",
     "text": [
      "✅ Saved frames in: /Users/mario/Desktop/Desktop/UofA/4.Winter-2025/ece-910/Batman/VLM-testing/batman-frames/Batman (1989)-002_part_100\n",
      "\n",
      "🎥 Processing: /Users/mario/Desktop/Desktop/UofA/4.Winter-2025/ece-910/Batman/Batman-(1989)-002/Batman (1989)-002_part_1000.mp4\n",
      "📸 Total Frames: 131\n"
     ]
    },
    {
     "name": "stderr",
     "output_type": "stream",
     "text": [
      "Extracting Frames from Batman (1989)-002_part_1000.mp4: 100%|██████████| 131/131 [00:00<00:00, 633.44it/s]\n"
     ]
    },
    {
     "name": "stdout",
     "output_type": "stream",
     "text": [
      "✅ Saved frames in: /Users/mario/Desktop/Desktop/UofA/4.Winter-2025/ece-910/Batman/VLM-testing/batman-frames/Batman (1989)-002_part_1000\n",
      "\n",
      "🎥 Processing: /Users/mario/Desktop/Desktop/UofA/4.Winter-2025/ece-910/Batman/Batman-(1989)-002/Batman (1989)-002_part_1001.mp4\n",
      "📸 Total Frames: 42\n"
     ]
    },
    {
     "name": "stderr",
     "output_type": "stream",
     "text": [
      "Extracting Frames from Batman (1989)-002_part_1001.mp4: 100%|██████████| 42/42 [00:00<00:00, 594.48it/s]\n"
     ]
    },
    {
     "name": "stdout",
     "output_type": "stream",
     "text": [
      "✅ Saved frames in: /Users/mario/Desktop/Desktop/UofA/4.Winter-2025/ece-910/Batman/VLM-testing/batman-frames/Batman (1989)-002_part_1001\n",
      "\n",
      "🎥 Processing: /Users/mario/Desktop/Desktop/UofA/4.Winter-2025/ece-910/Batman/Batman-(1989)-002/Batman (1989)-002_part_1002.mp4\n",
      "📸 Total Frames: 23\n"
     ]
    },
    {
     "name": "stderr",
     "output_type": "stream",
     "text": [
      "Extracting Frames from Batman (1989)-002_part_1002.mp4: 100%|██████████| 23/23 [00:00<00:00, 472.58it/s]\n"
     ]
    },
    {
     "name": "stdout",
     "output_type": "stream",
     "text": [
      "✅ Saved frames in: /Users/mario/Desktop/Desktop/UofA/4.Winter-2025/ece-910/Batman/VLM-testing/batman-frames/Batman (1989)-002_part_1002\n",
      "\n",
      "🎥 Processing: /Users/mario/Desktop/Desktop/UofA/4.Winter-2025/ece-910/Batman/Batman-(1989)-002/Batman (1989)-002_part_1003.mp4\n",
      "📸 Total Frames: 761\n"
     ]
    },
    {
     "name": "stderr",
     "output_type": "stream",
     "text": [
      "Extracting Frames from Batman (1989)-002_part_1003.mp4: 100%|██████████| 761/761 [00:01<00:00, 561.86it/s]\n"
     ]
    },
    {
     "name": "stdout",
     "output_type": "stream",
     "text": [
      "✅ Saved frames in: /Users/mario/Desktop/Desktop/UofA/4.Winter-2025/ece-910/Batman/VLM-testing/batman-frames/Batman (1989)-002_part_1003\n",
      "\n",
      "🎥 Processing: /Users/mario/Desktop/Desktop/UofA/4.Winter-2025/ece-910/Batman/Batman-(1989)-002/Batman (1989)-002_part_1004.mp4\n",
      "📸 Total Frames: 5\n"
     ]
    },
    {
     "name": "stderr",
     "output_type": "stream",
     "text": [
      "Extracting Frames from Batman (1989)-002_part_1004.mp4: 100%|██████████| 5/5 [00:00<00:00, 408.32it/s]\n"
     ]
    },
    {
     "name": "stdout",
     "output_type": "stream",
     "text": [
      "✅ Saved frames in: /Users/mario/Desktop/Desktop/UofA/4.Winter-2025/ece-910/Batman/VLM-testing/batman-frames/Batman (1989)-002_part_1004\n",
      "\n",
      "🎥 Processing: /Users/mario/Desktop/Desktop/UofA/4.Winter-2025/ece-910/Batman/Batman-(1989)-002/Batman (1989)-002_part_1005.mp4\n",
      "📸 Total Frames: 21\n"
     ]
    },
    {
     "name": "stderr",
     "output_type": "stream",
     "text": [
      "Extracting Frames from Batman (1989)-002_part_1005.mp4: 100%|██████████| 21/21 [00:00<00:00, 447.96it/s]\n"
     ]
    },
    {
     "name": "stdout",
     "output_type": "stream",
     "text": [
      "✅ Saved frames in: /Users/mario/Desktop/Desktop/UofA/4.Winter-2025/ece-910/Batman/VLM-testing/batman-frames/Batman (1989)-002_part_1005\n",
      "\n",
      "🎥 Processing: /Users/mario/Desktop/Desktop/UofA/4.Winter-2025/ece-910/Batman/Batman-(1989)-002/Batman (1989)-002_part_1006.mp4\n",
      "📸 Total Frames: 307\n"
     ]
    },
    {
     "name": "stderr",
     "output_type": "stream",
     "text": [
      "Extracting Frames from Batman (1989)-002_part_1006.mp4: 100%|██████████| 307/307 [00:00<00:00, 580.59it/s]\n"
     ]
    },
    {
     "name": "stdout",
     "output_type": "stream",
     "text": [
      "✅ Saved frames in: /Users/mario/Desktop/Desktop/UofA/4.Winter-2025/ece-910/Batman/VLM-testing/batman-frames/Batman (1989)-002_part_1006\n",
      "\n",
      "🎥 Processing: /Users/mario/Desktop/Desktop/UofA/4.Winter-2025/ece-910/Batman/Batman-(1989)-002/Batman (1989)-002_part_1007.mp4\n",
      "📸 Total Frames: 122\n"
     ]
    },
    {
     "name": "stderr",
     "output_type": "stream",
     "text": [
      "Extracting Frames from Batman (1989)-002_part_1007.mp4: 100%|██████████| 122/122 [00:00<00:00, 574.56it/s]\n"
     ]
    },
    {
     "name": "stdout",
     "output_type": "stream",
     "text": [
      "✅ Saved frames in: /Users/mario/Desktop/Desktop/UofA/4.Winter-2025/ece-910/Batman/VLM-testing/batman-frames/Batman (1989)-002_part_1007\n",
      "\n",
      "🎥 Processing: /Users/mario/Desktop/Desktop/UofA/4.Winter-2025/ece-910/Batman/Batman-(1989)-002/Batman (1989)-002_part_1008.mp4\n",
      "📸 Total Frames: 177\n"
     ]
    },
    {
     "name": "stderr",
     "output_type": "stream",
     "text": [
      "Extracting Frames from Batman (1989)-002_part_1008.mp4: 100%|██████████| 177/177 [00:00<00:00, 579.73it/s]\n"
     ]
    },
    {
     "name": "stdout",
     "output_type": "stream",
     "text": [
      "✅ Saved frames in: /Users/mario/Desktop/Desktop/UofA/4.Winter-2025/ece-910/Batman/VLM-testing/batman-frames/Batman (1989)-002_part_1008\n",
      "\n",
      "🎥 Processing: /Users/mario/Desktop/Desktop/UofA/4.Winter-2025/ece-910/Batman/Batman-(1989)-002/Batman (1989)-002_part_1009.mp4\n",
      "📸 Total Frames: 25\n"
     ]
    },
    {
     "name": "stderr",
     "output_type": "stream",
     "text": [
      "Extracting Frames from Batman (1989)-002_part_1009.mp4: 100%|██████████| 25/25 [00:00<00:00, 549.79it/s]\n"
     ]
    },
    {
     "name": "stdout",
     "output_type": "stream",
     "text": [
      "✅ Saved frames in: /Users/mario/Desktop/Desktop/UofA/4.Winter-2025/ece-910/Batman/VLM-testing/batman-frames/Batman (1989)-002_part_1009\n",
      "\n",
      "🎥 Processing: /Users/mario/Desktop/Desktop/UofA/4.Winter-2025/ece-910/Batman/Batman-(1989)-002/Batman (1989)-002_part_101.mp4\n",
      "📸 Total Frames: 57\n"
     ]
    },
    {
     "name": "stderr",
     "output_type": "stream",
     "text": [
      "Extracting Frames from Batman (1989)-002_part_101.mp4: 100%|██████████| 57/57 [00:00<00:00, 588.19it/s]\n"
     ]
    },
    {
     "name": "stdout",
     "output_type": "stream",
     "text": [
      "✅ Saved frames in: /Users/mario/Desktop/Desktop/UofA/4.Winter-2025/ece-910/Batman/VLM-testing/batman-frames/Batman (1989)-002_part_101\n",
      "\n",
      "🎥 Processing: /Users/mario/Desktop/Desktop/UofA/4.Winter-2025/ece-910/Batman/Batman-(1989)-002/Batman (1989)-002_part_1010.mp4\n",
      "📸 Total Frames: 63\n"
     ]
    },
    {
     "name": "stderr",
     "output_type": "stream",
     "text": [
      "Extracting Frames from Batman (1989)-002_part_1010.mp4: 100%|██████████| 63/63 [00:00<00:00, 241.91it/s]\n"
     ]
    },
    {
     "name": "stdout",
     "output_type": "stream",
     "text": [
      "✅ Saved frames in: /Users/mario/Desktop/Desktop/UofA/4.Winter-2025/ece-910/Batman/VLM-testing/batman-frames/Batman (1989)-002_part_1010\n",
      "\n",
      "🎥 Processing: /Users/mario/Desktop/Desktop/UofA/4.Winter-2025/ece-910/Batman/Batman-(1989)-002/Batman (1989)-002_part_1011.mp4\n",
      "📸 Total Frames: 48\n"
     ]
    },
    {
     "name": "stderr",
     "output_type": "stream",
     "text": [
      "Extracting Frames from Batman (1989)-002_part_1011.mp4: 100%|██████████| 48/48 [00:00<00:00, 576.82it/s]\n"
     ]
    },
    {
     "name": "stdout",
     "output_type": "stream",
     "text": [
      "✅ Saved frames in: /Users/mario/Desktop/Desktop/UofA/4.Winter-2025/ece-910/Batman/VLM-testing/batman-frames/Batman (1989)-002_part_1011\n",
      "\n",
      "🎥 Processing: /Users/mario/Desktop/Desktop/UofA/4.Winter-2025/ece-910/Batman/Batman-(1989)-002/Batman (1989)-002_part_1012.mp4\n",
      "📸 Total Frames: 127\n"
     ]
    },
    {
     "name": "stderr",
     "output_type": "stream",
     "text": [
      "Extracting Frames from Batman (1989)-002_part_1012.mp4: 100%|██████████| 127/127 [00:00<00:00, 611.05it/s]\n"
     ]
    },
    {
     "name": "stdout",
     "output_type": "stream",
     "text": [
      "✅ Saved frames in: /Users/mario/Desktop/Desktop/UofA/4.Winter-2025/ece-910/Batman/VLM-testing/batman-frames/Batman (1989)-002_part_1012\n",
      "\n",
      "🎥 Processing: /Users/mario/Desktop/Desktop/UofA/4.Winter-2025/ece-910/Batman/Batman-(1989)-002/Batman (1989)-002_part_1013.mp4\n",
      "📸 Total Frames: 131\n"
     ]
    },
    {
     "name": "stderr",
     "output_type": "stream",
     "text": [
      "Extracting Frames from Batman (1989)-002_part_1013.mp4: 100%|██████████| 131/131 [00:00<00:00, 610.51it/s]\n"
     ]
    },
    {
     "name": "stdout",
     "output_type": "stream",
     "text": [
      "✅ Saved frames in: /Users/mario/Desktop/Desktop/UofA/4.Winter-2025/ece-910/Batman/VLM-testing/batman-frames/Batman (1989)-002_part_1013\n",
      "\n",
      "🎥 Processing: /Users/mario/Desktop/Desktop/UofA/4.Winter-2025/ece-910/Batman/Batman-(1989)-002/Batman (1989)-002_part_1014.mp4\n",
      "📸 Total Frames: 78\n"
     ]
    },
    {
     "name": "stderr",
     "output_type": "stream",
     "text": [
      "Extracting Frames from Batman (1989)-002_part_1014.mp4: 100%|██████████| 78/78 [00:00<00:00, 596.43it/s]\n"
     ]
    },
    {
     "name": "stdout",
     "output_type": "stream",
     "text": [
      "✅ Saved frames in: /Users/mario/Desktop/Desktop/UofA/4.Winter-2025/ece-910/Batman/VLM-testing/batman-frames/Batman (1989)-002_part_1014\n",
      "\n",
      "🎥 Processing: /Users/mario/Desktop/Desktop/UofA/4.Winter-2025/ece-910/Batman/Batman-(1989)-002/Batman (1989)-002_part_1015.mp4\n",
      "📸 Total Frames: 100\n"
     ]
    },
    {
     "name": "stderr",
     "output_type": "stream",
     "text": [
      "Extracting Frames from Batman (1989)-002_part_1015.mp4: 100%|██████████| 100/100 [00:00<00:00, 591.14it/s]\n"
     ]
    },
    {
     "name": "stdout",
     "output_type": "stream",
     "text": [
      "✅ Saved frames in: /Users/mario/Desktop/Desktop/UofA/4.Winter-2025/ece-910/Batman/VLM-testing/batman-frames/Batman (1989)-002_part_1015\n",
      "\n",
      "🎥 Processing: /Users/mario/Desktop/Desktop/UofA/4.Winter-2025/ece-910/Batman/Batman-(1989)-002/Batman (1989)-002_part_1016.mp4\n",
      "📸 Total Frames: 71\n"
     ]
    },
    {
     "name": "stderr",
     "output_type": "stream",
     "text": [
      "Extracting Frames from Batman (1989)-002_part_1016.mp4: 100%|██████████| 71/71 [00:00<00:00, 592.59it/s]\n"
     ]
    },
    {
     "name": "stdout",
     "output_type": "stream",
     "text": [
      "✅ Saved frames in: /Users/mario/Desktop/Desktop/UofA/4.Winter-2025/ece-910/Batman/VLM-testing/batman-frames/Batman (1989)-002_part_1016\n",
      "\n",
      "🎥 Processing: /Users/mario/Desktop/Desktop/UofA/4.Winter-2025/ece-910/Batman/Batman-(1989)-002/Batman (1989)-002_part_1017.mp4\n",
      "📸 Total Frames: 96\n"
     ]
    },
    {
     "name": "stderr",
     "output_type": "stream",
     "text": [
      "Extracting Frames from Batman (1989)-002_part_1017.mp4: 100%|██████████| 96/96 [00:00<00:00, 635.52it/s]\n"
     ]
    },
    {
     "name": "stdout",
     "output_type": "stream",
     "text": [
      "✅ Saved frames in: /Users/mario/Desktop/Desktop/UofA/4.Winter-2025/ece-910/Batman/VLM-testing/batman-frames/Batman (1989)-002_part_1017\n",
      "\n",
      "🎥 Processing: /Users/mario/Desktop/Desktop/UofA/4.Winter-2025/ece-910/Batman/Batman-(1989)-002/Batman (1989)-002_part_1018.mp4\n",
      "📸 Total Frames: 135\n"
     ]
    },
    {
     "name": "stderr",
     "output_type": "stream",
     "text": [
      "Extracting Frames from Batman (1989)-002_part_1018.mp4: 100%|██████████| 135/135 [00:00<00:00, 594.36it/s]\n"
     ]
    },
    {
     "name": "stdout",
     "output_type": "stream",
     "text": [
      "✅ Saved frames in: /Users/mario/Desktop/Desktop/UofA/4.Winter-2025/ece-910/Batman/VLM-testing/batman-frames/Batman (1989)-002_part_1018\n",
      "\n",
      "🎥 Processing: /Users/mario/Desktop/Desktop/UofA/4.Winter-2025/ece-910/Batman/Batman-(1989)-002/Batman (1989)-002_part_1019.mp4\n",
      "📸 Total Frames: 81\n"
     ]
    },
    {
     "name": "stderr",
     "output_type": "stream",
     "text": [
      "Extracting Frames from Batman (1989)-002_part_1019.mp4: 100%|██████████| 81/81 [00:00<00:00, 591.51it/s]\n"
     ]
    },
    {
     "name": "stdout",
     "output_type": "stream",
     "text": [
      "✅ Saved frames in: /Users/mario/Desktop/Desktop/UofA/4.Winter-2025/ece-910/Batman/VLM-testing/batman-frames/Batman (1989)-002_part_1019\n",
      "\n",
      "🎥 Processing: /Users/mario/Desktop/Desktop/UofA/4.Winter-2025/ece-910/Batman/Batman-(1989)-002/Batman (1989)-002_part_102.mp4\n",
      "📸 Total Frames: 27\n"
     ]
    },
    {
     "name": "stderr",
     "output_type": "stream",
     "text": [
      "Extracting Frames from Batman (1989)-002_part_102.mp4: 100%|██████████| 27/27 [00:00<00:00, 561.85it/s]\n"
     ]
    },
    {
     "name": "stdout",
     "output_type": "stream",
     "text": [
      "✅ Saved frames in: /Users/mario/Desktop/Desktop/UofA/4.Winter-2025/ece-910/Batman/VLM-testing/batman-frames/Batman (1989)-002_part_102\n",
      "\n",
      "🎥 Processing: /Users/mario/Desktop/Desktop/UofA/4.Winter-2025/ece-910/Batman/Batman-(1989)-002/Batman (1989)-002_part_1020.mp4\n",
      "📸 Total Frames: 59\n"
     ]
    },
    {
     "name": "stderr",
     "output_type": "stream",
     "text": [
      "Extracting Frames from Batman (1989)-002_part_1020.mp4: 100%|██████████| 59/59 [00:00<00:00, 592.94it/s]\n"
     ]
    },
    {
     "name": "stdout",
     "output_type": "stream",
     "text": [
      "✅ Saved frames in: /Users/mario/Desktop/Desktop/UofA/4.Winter-2025/ece-910/Batman/VLM-testing/batman-frames/Batman (1989)-002_part_1020\n",
      "\n",
      "🎥 Processing: /Users/mario/Desktop/Desktop/UofA/4.Winter-2025/ece-910/Batman/Batman-(1989)-002/Batman (1989)-002_part_1021.mp4\n",
      "📸 Total Frames: 73\n"
     ]
    },
    {
     "name": "stderr",
     "output_type": "stream",
     "text": [
      "Extracting Frames from Batman (1989)-002_part_1021.mp4: 100%|██████████| 73/73 [00:00<00:00, 573.55it/s]\n"
     ]
    },
    {
     "name": "stdout",
     "output_type": "stream",
     "text": [
      "✅ Saved frames in: /Users/mario/Desktop/Desktop/UofA/4.Winter-2025/ece-910/Batman/VLM-testing/batman-frames/Batman (1989)-002_part_1021\n",
      "\n",
      "🎥 Processing: /Users/mario/Desktop/Desktop/UofA/4.Winter-2025/ece-910/Batman/Batman-(1989)-002/Batman (1989)-002_part_1022.mp4\n",
      "📸 Total Frames: 40\n"
     ]
    },
    {
     "name": "stderr",
     "output_type": "stream",
     "text": [
      "Extracting Frames from Batman (1989)-002_part_1022.mp4: 100%|██████████| 40/40 [00:00<00:00, 587.41it/s]\n"
     ]
    },
    {
     "name": "stdout",
     "output_type": "stream",
     "text": [
      "✅ Saved frames in: /Users/mario/Desktop/Desktop/UofA/4.Winter-2025/ece-910/Batman/VLM-testing/batman-frames/Batman (1989)-002_part_1022\n",
      "\n",
      "🎥 Processing: /Users/mario/Desktop/Desktop/UofA/4.Winter-2025/ece-910/Batman/Batman-(1989)-002/Batman (1989)-002_part_1023.mp4\n",
      "📸 Total Frames: 72\n"
     ]
    },
    {
     "name": "stderr",
     "output_type": "stream",
     "text": [
      "Extracting Frames from Batman (1989)-002_part_1023.mp4: 100%|██████████| 72/72 [00:00<00:00, 576.36it/s]\n"
     ]
    },
    {
     "name": "stdout",
     "output_type": "stream",
     "text": [
      "✅ Saved frames in: /Users/mario/Desktop/Desktop/UofA/4.Winter-2025/ece-910/Batman/VLM-testing/batman-frames/Batman (1989)-002_part_1023\n",
      "\n",
      "🎥 Processing: /Users/mario/Desktop/Desktop/UofA/4.Winter-2025/ece-910/Batman/Batman-(1989)-002/Batman (1989)-002_part_1024.mp4\n",
      "📸 Total Frames: 36\n"
     ]
    },
    {
     "name": "stderr",
     "output_type": "stream",
     "text": [
      "Extracting Frames from Batman (1989)-002_part_1024.mp4: 100%|██████████| 36/36 [00:00<00:00, 570.37it/s]"
     ]
    },
    {
     "name": "stdout",
     "output_type": "stream",
     "text": [
      "✅ Saved frames in: /Users/mario/Desktop/Desktop/UofA/4.Winter-2025/ece-910/Batman/VLM-testing/batman-frames/Batman (1989)-002_part_1024\n",
      "\n",
      "🎥 Processing: /Users/mario/Desktop/Desktop/UofA/4.Winter-2025/ece-910/Batman/Batman-(1989)-002/Batman (1989)-002_part_1025.mp4\n"
     ]
    },
    {
     "name": "stderr",
     "output_type": "stream",
     "text": [
      "\n"
     ]
    },
    {
     "name": "stdout",
     "output_type": "stream",
     "text": [
      "📸 Total Frames: 24\n"
     ]
    },
    {
     "name": "stderr",
     "output_type": "stream",
     "text": [
      "Extracting Frames from Batman (1989)-002_part_1025.mp4: 100%|██████████| 24/24 [00:00<00:00, 187.29it/s]\n"
     ]
    },
    {
     "name": "stdout",
     "output_type": "stream",
     "text": [
      "✅ Saved frames in: /Users/mario/Desktop/Desktop/UofA/4.Winter-2025/ece-910/Batman/VLM-testing/batman-frames/Batman (1989)-002_part_1025\n",
      "\n",
      "🎥 Processing: /Users/mario/Desktop/Desktop/UofA/4.Winter-2025/ece-910/Batman/Batman-(1989)-002/Batman (1989)-002_part_1026.mp4\n",
      "📸 Total Frames: 96\n"
     ]
    },
    {
     "name": "stderr",
     "output_type": "stream",
     "text": [
      "Extracting Frames from Batman (1989)-002_part_1026.mp4: 100%|██████████| 96/96 [00:00<00:00, 586.23it/s]\n"
     ]
    },
    {
     "name": "stdout",
     "output_type": "stream",
     "text": [
      "✅ Saved frames in: /Users/mario/Desktop/Desktop/UofA/4.Winter-2025/ece-910/Batman/VLM-testing/batman-frames/Batman (1989)-002_part_1026\n",
      "\n",
      "🎥 Processing: /Users/mario/Desktop/Desktop/UofA/4.Winter-2025/ece-910/Batman/Batman-(1989)-002/Batman (1989)-002_part_1027.mp4\n",
      "📸 Total Frames: 98\n"
     ]
    },
    {
     "name": "stderr",
     "output_type": "stream",
     "text": [
      "Extracting Frames from Batman (1989)-002_part_1027.mp4: 100%|██████████| 98/98 [00:00<00:00, 611.41it/s]\n"
     ]
    },
    {
     "name": "stdout",
     "output_type": "stream",
     "text": [
      "✅ Saved frames in: /Users/mario/Desktop/Desktop/UofA/4.Winter-2025/ece-910/Batman/VLM-testing/batman-frames/Batman (1989)-002_part_1027\n",
      "\n",
      "🎥 Processing: /Users/mario/Desktop/Desktop/UofA/4.Winter-2025/ece-910/Batman/Batman-(1989)-002/Batman (1989)-002_part_1028.mp4\n",
      "📸 Total Frames: 41\n"
     ]
    },
    {
     "name": "stderr",
     "output_type": "stream",
     "text": [
      "Extracting Frames from Batman (1989)-002_part_1028.mp4: 100%|██████████| 41/41 [00:00<00:00, 606.72it/s]\n"
     ]
    },
    {
     "name": "stdout",
     "output_type": "stream",
     "text": [
      "✅ Saved frames in: /Users/mario/Desktop/Desktop/UofA/4.Winter-2025/ece-910/Batman/VLM-testing/batman-frames/Batman (1989)-002_part_1028\n",
      "\n",
      "🎥 Processing: /Users/mario/Desktop/Desktop/UofA/4.Winter-2025/ece-910/Batman/Batman-(1989)-002/Batman (1989)-002_part_1029.mp4\n",
      "📸 Total Frames: 137\n"
     ]
    },
    {
     "name": "stderr",
     "output_type": "stream",
     "text": [
      "Extracting Frames from Batman (1989)-002_part_1029.mp4: 100%|██████████| 137/137 [00:00<00:00, 614.21it/s]\n"
     ]
    },
    {
     "name": "stdout",
     "output_type": "stream",
     "text": [
      "✅ Saved frames in: /Users/mario/Desktop/Desktop/UofA/4.Winter-2025/ece-910/Batman/VLM-testing/batman-frames/Batman (1989)-002_part_1029\n",
      "\n",
      "🎥 Processing: /Users/mario/Desktop/Desktop/UofA/4.Winter-2025/ece-910/Batman/Batman-(1989)-002/Batman (1989)-002_part_103.mp4\n",
      "📸 Total Frames: 85\n"
     ]
    },
    {
     "name": "stderr",
     "output_type": "stream",
     "text": [
      "Extracting Frames from Batman (1989)-002_part_103.mp4: 100%|██████████| 85/85 [00:00<00:00, 580.20it/s]\n"
     ]
    },
    {
     "name": "stdout",
     "output_type": "stream",
     "text": [
      "✅ Saved frames in: /Users/mario/Desktop/Desktop/UofA/4.Winter-2025/ece-910/Batman/VLM-testing/batman-frames/Batman (1989)-002_part_103\n",
      "\n",
      "🎥 Processing: /Users/mario/Desktop/Desktop/UofA/4.Winter-2025/ece-910/Batman/Batman-(1989)-002/Batman (1989)-002_part_1030.mp4\n",
      "📸 Total Frames: 57\n"
     ]
    },
    {
     "name": "stderr",
     "output_type": "stream",
     "text": [
      "Extracting Frames from Batman (1989)-002_part_1030.mp4: 100%|██████████| 57/57 [00:00<00:00, 615.75it/s]\n"
     ]
    },
    {
     "name": "stdout",
     "output_type": "stream",
     "text": [
      "✅ Saved frames in: /Users/mario/Desktop/Desktop/UofA/4.Winter-2025/ece-910/Batman/VLM-testing/batman-frames/Batman (1989)-002_part_1030\n",
      "\n",
      "🎥 Processing: /Users/mario/Desktop/Desktop/UofA/4.Winter-2025/ece-910/Batman/Batman-(1989)-002/Batman (1989)-002_part_1031.mp4\n",
      "📸 Total Frames: 62\n"
     ]
    },
    {
     "name": "stderr",
     "output_type": "stream",
     "text": [
      "Extracting Frames from Batman (1989)-002_part_1031.mp4: 100%|██████████| 62/62 [00:00<00:00, 456.25it/s]\n"
     ]
    },
    {
     "name": "stdout",
     "output_type": "stream",
     "text": [
      "✅ Saved frames in: /Users/mario/Desktop/Desktop/UofA/4.Winter-2025/ece-910/Batman/VLM-testing/batman-frames/Batman (1989)-002_part_1031\n",
      "\n",
      "🎥 Processing: /Users/mario/Desktop/Desktop/UofA/4.Winter-2025/ece-910/Batman/Batman-(1989)-002/Batman (1989)-002_part_1032.mp4\n",
      "📸 Total Frames: 91\n"
     ]
    },
    {
     "name": "stderr",
     "output_type": "stream",
     "text": [
      "Extracting Frames from Batman (1989)-002_part_1032.mp4: 100%|██████████| 91/91 [00:00<00:00, 607.72it/s]\n"
     ]
    },
    {
     "name": "stdout",
     "output_type": "stream",
     "text": [
      "✅ Saved frames in: /Users/mario/Desktop/Desktop/UofA/4.Winter-2025/ece-910/Batman/VLM-testing/batman-frames/Batman (1989)-002_part_1032\n",
      "\n",
      "🎥 Processing: /Users/mario/Desktop/Desktop/UofA/4.Winter-2025/ece-910/Batman/Batman-(1989)-002/Batman (1989)-002_part_1033.mp4\n",
      "📸 Total Frames: 68\n"
     ]
    },
    {
     "name": "stderr",
     "output_type": "stream",
     "text": [
      "Extracting Frames from Batman (1989)-002_part_1033.mp4: 100%|██████████| 68/68 [00:00<00:00, 587.33it/s]\n"
     ]
    },
    {
     "name": "stdout",
     "output_type": "stream",
     "text": [
      "✅ Saved frames in: /Users/mario/Desktop/Desktop/UofA/4.Winter-2025/ece-910/Batman/VLM-testing/batman-frames/Batman (1989)-002_part_1033\n",
      "\n",
      "🎥 Processing: /Users/mario/Desktop/Desktop/UofA/4.Winter-2025/ece-910/Batman/Batman-(1989)-002/Batman (1989)-002_part_1034.mp4\n",
      "📸 Total Frames: 53\n"
     ]
    },
    {
     "name": "stderr",
     "output_type": "stream",
     "text": [
      "Extracting Frames from Batman (1989)-002_part_1034.mp4: 100%|██████████| 53/53 [00:00<00:00, 595.71it/s]\n"
     ]
    },
    {
     "name": "stdout",
     "output_type": "stream",
     "text": [
      "✅ Saved frames in: /Users/mario/Desktop/Desktop/UofA/4.Winter-2025/ece-910/Batman/VLM-testing/batman-frames/Batman (1989)-002_part_1034\n",
      "\n",
      "🎥 Processing: /Users/mario/Desktop/Desktop/UofA/4.Winter-2025/ece-910/Batman/Batman-(1989)-002/Batman (1989)-002_part_1035.mp4\n",
      "📸 Total Frames: 46\n"
     ]
    },
    {
     "name": "stderr",
     "output_type": "stream",
     "text": [
      "Extracting Frames from Batman (1989)-002_part_1035.mp4: 100%|██████████| 46/46 [00:00<00:00, 610.37it/s]\n"
     ]
    },
    {
     "name": "stdout",
     "output_type": "stream",
     "text": [
      "✅ Saved frames in: /Users/mario/Desktop/Desktop/UofA/4.Winter-2025/ece-910/Batman/VLM-testing/batman-frames/Batman (1989)-002_part_1035\n",
      "\n",
      "🎥 Processing: /Users/mario/Desktop/Desktop/UofA/4.Winter-2025/ece-910/Batman/Batman-(1989)-002/Batman (1989)-002_part_1036.mp4\n",
      "📸 Total Frames: 30\n"
     ]
    },
    {
     "name": "stderr",
     "output_type": "stream",
     "text": [
      "Extracting Frames from Batman (1989)-002_part_1036.mp4: 100%|██████████| 30/30 [00:00<00:00, 535.11it/s]\n"
     ]
    },
    {
     "name": "stdout",
     "output_type": "stream",
     "text": [
      "✅ Saved frames in: /Users/mario/Desktop/Desktop/UofA/4.Winter-2025/ece-910/Batman/VLM-testing/batman-frames/Batman (1989)-002_part_1036\n",
      "\n",
      "🎥 Processing: /Users/mario/Desktop/Desktop/UofA/4.Winter-2025/ece-910/Batman/Batman-(1989)-002/Batman (1989)-002_part_1037.mp4\n",
      "📸 Total Frames: 44\n"
     ]
    },
    {
     "name": "stderr",
     "output_type": "stream",
     "text": [
      "Extracting Frames from Batman (1989)-002_part_1037.mp4: 100%|██████████| 44/44 [00:00<00:00, 587.65it/s]\n"
     ]
    },
    {
     "name": "stdout",
     "output_type": "stream",
     "text": [
      "✅ Saved frames in: /Users/mario/Desktop/Desktop/UofA/4.Winter-2025/ece-910/Batman/VLM-testing/batman-frames/Batman (1989)-002_part_1037\n",
      "\n",
      "🎥 Processing: /Users/mario/Desktop/Desktop/UofA/4.Winter-2025/ece-910/Batman/Batman-(1989)-002/Batman (1989)-002_part_1038.mp4\n",
      "📸 Total Frames: 113\n"
     ]
    },
    {
     "name": "stderr",
     "output_type": "stream",
     "text": [
      "Extracting Frames from Batman (1989)-002_part_1038.mp4: 100%|██████████| 113/113 [00:00<00:00, 401.35it/s]\n"
     ]
    },
    {
     "name": "stdout",
     "output_type": "stream",
     "text": [
      "✅ Saved frames in: /Users/mario/Desktop/Desktop/UofA/4.Winter-2025/ece-910/Batman/VLM-testing/batman-frames/Batman (1989)-002_part_1038\n",
      "\n",
      "🎥 Processing: /Users/mario/Desktop/Desktop/UofA/4.Winter-2025/ece-910/Batman/Batman-(1989)-002/Batman (1989)-002_part_1039.mp4\n",
      "📸 Total Frames: 36\n"
     ]
    },
    {
     "name": "stderr",
     "output_type": "stream",
     "text": [
      "Extracting Frames from Batman (1989)-002_part_1039.mp4: 100%|██████████| 36/36 [00:00<00:00, 578.22it/s]\n"
     ]
    },
    {
     "name": "stdout",
     "output_type": "stream",
     "text": [
      "✅ Saved frames in: /Users/mario/Desktop/Desktop/UofA/4.Winter-2025/ece-910/Batman/VLM-testing/batman-frames/Batman (1989)-002_part_1039\n",
      "\n",
      "🎥 Processing: /Users/mario/Desktop/Desktop/UofA/4.Winter-2025/ece-910/Batman/Batman-(1989)-002/Batman (1989)-002_part_104.mp4\n",
      "📸 Total Frames: 99\n"
     ]
    },
    {
     "name": "stderr",
     "output_type": "stream",
     "text": [
      "Extracting Frames from Batman (1989)-002_part_104.mp4: 100%|██████████| 99/99 [00:00<00:00, 575.11it/s]\n"
     ]
    },
    {
     "name": "stdout",
     "output_type": "stream",
     "text": [
      "✅ Saved frames in: /Users/mario/Desktop/Desktop/UofA/4.Winter-2025/ece-910/Batman/VLM-testing/batman-frames/Batman (1989)-002_part_104\n",
      "\n",
      "🎥 Processing: /Users/mario/Desktop/Desktop/UofA/4.Winter-2025/ece-910/Batman/Batman-(1989)-002/Batman (1989)-002_part_1040.mp4\n",
      "📸 Total Frames: 42\n"
     ]
    },
    {
     "name": "stderr",
     "output_type": "stream",
     "text": [
      "Extracting Frames from Batman (1989)-002_part_1040.mp4: 100%|██████████| 42/42 [00:00<00:00, 579.56it/s]\n"
     ]
    },
    {
     "name": "stdout",
     "output_type": "stream",
     "text": [
      "✅ Saved frames in: /Users/mario/Desktop/Desktop/UofA/4.Winter-2025/ece-910/Batman/VLM-testing/batman-frames/Batman (1989)-002_part_1040\n",
      "\n",
      "🎥 Processing: /Users/mario/Desktop/Desktop/UofA/4.Winter-2025/ece-910/Batman/Batman-(1989)-002/Batman (1989)-002_part_1041.mp4\n",
      "📸 Total Frames: 42\n"
     ]
    },
    {
     "name": "stderr",
     "output_type": "stream",
     "text": [
      "Extracting Frames from Batman (1989)-002_part_1041.mp4: 100%|██████████| 42/42 [00:00<00:00, 585.25it/s]\n"
     ]
    },
    {
     "name": "stdout",
     "output_type": "stream",
     "text": [
      "✅ Saved frames in: /Users/mario/Desktop/Desktop/UofA/4.Winter-2025/ece-910/Batman/VLM-testing/batman-frames/Batman (1989)-002_part_1041\n",
      "\n",
      "🎥 Processing: /Users/mario/Desktop/Desktop/UofA/4.Winter-2025/ece-910/Batman/Batman-(1989)-002/Batman (1989)-002_part_1042.mp4\n",
      "📸 Total Frames: 30\n"
     ]
    },
    {
     "name": "stderr",
     "output_type": "stream",
     "text": [
      "Extracting Frames from Batman (1989)-002_part_1042.mp4: 100%|██████████| 30/30 [00:00<00:00, 569.12it/s]\n"
     ]
    },
    {
     "name": "stdout",
     "output_type": "stream",
     "text": [
      "✅ Saved frames in: /Users/mario/Desktop/Desktop/UofA/4.Winter-2025/ece-910/Batman/VLM-testing/batman-frames/Batman (1989)-002_part_1042\n",
      "\n",
      "🎥 Processing: /Users/mario/Desktop/Desktop/UofA/4.Winter-2025/ece-910/Batman/Batman-(1989)-002/Batman (1989)-002_part_1043.mp4\n",
      "📸 Total Frames: 71\n"
     ]
    },
    {
     "name": "stderr",
     "output_type": "stream",
     "text": [
      "Extracting Frames from Batman (1989)-002_part_1043.mp4: 100%|██████████| 71/71 [00:00<00:00, 582.21it/s]\n"
     ]
    },
    {
     "name": "stdout",
     "output_type": "stream",
     "text": [
      "✅ Saved frames in: /Users/mario/Desktop/Desktop/UofA/4.Winter-2025/ece-910/Batman/VLM-testing/batman-frames/Batman (1989)-002_part_1043\n",
      "\n",
      "🎥 Processing: /Users/mario/Desktop/Desktop/UofA/4.Winter-2025/ece-910/Batman/Batman-(1989)-002/Batman (1989)-002_part_1044.mp4\n",
      "📸 Total Frames: 56\n"
     ]
    },
    {
     "name": "stderr",
     "output_type": "stream",
     "text": [
      "Extracting Frames from Batman (1989)-002_part_1044.mp4: 100%|██████████| 56/56 [00:00<00:00, 543.81it/s]\n"
     ]
    },
    {
     "name": "stdout",
     "output_type": "stream",
     "text": [
      "✅ Saved frames in: /Users/mario/Desktop/Desktop/UofA/4.Winter-2025/ece-910/Batman/VLM-testing/batman-frames/Batman (1989)-002_part_1044\n",
      "\n",
      "🎥 Processing: /Users/mario/Desktop/Desktop/UofA/4.Winter-2025/ece-910/Batman/Batman-(1989)-002/Batman (1989)-002_part_1045.mp4\n",
      "📸 Total Frames: 91\n"
     ]
    },
    {
     "name": "stderr",
     "output_type": "stream",
     "text": [
      "Extracting Frames from Batman (1989)-002_part_1045.mp4: 100%|██████████| 91/91 [00:00<00:00, 608.45it/s]\n"
     ]
    },
    {
     "name": "stdout",
     "output_type": "stream",
     "text": [
      "✅ Saved frames in: /Users/mario/Desktop/Desktop/UofA/4.Winter-2025/ece-910/Batman/VLM-testing/batman-frames/Batman (1989)-002_part_1045\n",
      "\n",
      "🎥 Processing: /Users/mario/Desktop/Desktop/UofA/4.Winter-2025/ece-910/Batman/Batman-(1989)-002/Batman (1989)-002_part_1046.mp4\n",
      "📸 Total Frames: 57\n"
     ]
    },
    {
     "name": "stderr",
     "output_type": "stream",
     "text": [
      "Extracting Frames from Batman (1989)-002_part_1046.mp4: 100%|██████████| 57/57 [00:00<00:00, 583.89it/s]\n"
     ]
    },
    {
     "name": "stdout",
     "output_type": "stream",
     "text": [
      "✅ Saved frames in: /Users/mario/Desktop/Desktop/UofA/4.Winter-2025/ece-910/Batman/VLM-testing/batman-frames/Batman (1989)-002_part_1046\n",
      "\n",
      "🎥 Processing: /Users/mario/Desktop/Desktop/UofA/4.Winter-2025/ece-910/Batman/Batman-(1989)-002/Batman (1989)-002_part_1047.mp4\n",
      "📸 Total Frames: 79\n"
     ]
    },
    {
     "name": "stderr",
     "output_type": "stream",
     "text": [
      "Extracting Frames from Batman (1989)-002_part_1047.mp4: 100%|██████████| 79/79 [00:00<00:00, 375.76it/s]\n"
     ]
    },
    {
     "name": "stdout",
     "output_type": "stream",
     "text": [
      "✅ Saved frames in: /Users/mario/Desktop/Desktop/UofA/4.Winter-2025/ece-910/Batman/VLM-testing/batman-frames/Batman (1989)-002_part_1047\n",
      "\n",
      "🎥 Processing: /Users/mario/Desktop/Desktop/UofA/4.Winter-2025/ece-910/Batman/Batman-(1989)-002/Batman (1989)-002_part_1048.mp4\n",
      "📸 Total Frames: 90\n"
     ]
    },
    {
     "name": "stderr",
     "output_type": "stream",
     "text": [
      "Extracting Frames from Batman (1989)-002_part_1048.mp4: 100%|██████████| 90/90 [00:00<00:00, 615.96it/s]\n"
     ]
    },
    {
     "name": "stdout",
     "output_type": "stream",
     "text": [
      "✅ Saved frames in: /Users/mario/Desktop/Desktop/UofA/4.Winter-2025/ece-910/Batman/VLM-testing/batman-frames/Batman (1989)-002_part_1048\n",
      "\n",
      "🎥 Processing: /Users/mario/Desktop/Desktop/UofA/4.Winter-2025/ece-910/Batman/Batman-(1989)-002/Batman (1989)-002_part_1049.mp4\n",
      "📸 Total Frames: 17\n"
     ]
    },
    {
     "name": "stderr",
     "output_type": "stream",
     "text": [
      "Extracting Frames from Batman (1989)-002_part_1049.mp4: 100%|██████████| 17/17 [00:00<00:00, 472.66it/s]\n"
     ]
    },
    {
     "name": "stdout",
     "output_type": "stream",
     "text": [
      "✅ Saved frames in: /Users/mario/Desktop/Desktop/UofA/4.Winter-2025/ece-910/Batman/VLM-testing/batman-frames/Batman (1989)-002_part_1049\n",
      "\n",
      "🎥 Processing: /Users/mario/Desktop/Desktop/UofA/4.Winter-2025/ece-910/Batman/Batman-(1989)-002/Batman (1989)-002_part_105.mp4\n",
      "📸 Total Frames: 204\n"
     ]
    },
    {
     "name": "stderr",
     "output_type": "stream",
     "text": [
      "Extracting Frames from Batman (1989)-002_part_105.mp4: 100%|██████████| 204/204 [00:00<00:00, 585.13it/s]\n"
     ]
    },
    {
     "name": "stdout",
     "output_type": "stream",
     "text": [
      "✅ Saved frames in: /Users/mario/Desktop/Desktop/UofA/4.Winter-2025/ece-910/Batman/VLM-testing/batman-frames/Batman (1989)-002_part_105\n",
      "\n",
      "🎥 Processing: /Users/mario/Desktop/Desktop/UofA/4.Winter-2025/ece-910/Batman/Batman-(1989)-002/Batman (1989)-002_part_1050.mp4\n",
      "📸 Total Frames: 39\n"
     ]
    },
    {
     "name": "stderr",
     "output_type": "stream",
     "text": [
      "Extracting Frames from Batman (1989)-002_part_1050.mp4: 100%|██████████| 39/39 [00:00<00:00, 566.87it/s]\n"
     ]
    },
    {
     "name": "stdout",
     "output_type": "stream",
     "text": [
      "✅ Saved frames in: /Users/mario/Desktop/Desktop/UofA/4.Winter-2025/ece-910/Batman/VLM-testing/batman-frames/Batman (1989)-002_part_1050\n",
      "\n",
      "🎥 Processing: /Users/mario/Desktop/Desktop/UofA/4.Winter-2025/ece-910/Batman/Batman-(1989)-002/Batman (1989)-002_part_1051.mp4\n",
      "📸 Total Frames: 85\n"
     ]
    },
    {
     "name": "stderr",
     "output_type": "stream",
     "text": [
      "Extracting Frames from Batman (1989)-002_part_1051.mp4: 100%|██████████| 85/85 [00:00<00:00, 580.83it/s]\n"
     ]
    },
    {
     "name": "stdout",
     "output_type": "stream",
     "text": [
      "✅ Saved frames in: /Users/mario/Desktop/Desktop/UofA/4.Winter-2025/ece-910/Batman/VLM-testing/batman-frames/Batman (1989)-002_part_1051\n",
      "\n",
      "🎥 Processing: /Users/mario/Desktop/Desktop/UofA/4.Winter-2025/ece-910/Batman/Batman-(1989)-002/Batman (1989)-002_part_1052.mp4\n",
      "📸 Total Frames: 184\n"
     ]
    },
    {
     "name": "stderr",
     "output_type": "stream",
     "text": [
      "Extracting Frames from Batman (1989)-002_part_1052.mp4: 100%|██████████| 184/184 [00:00<00:00, 477.80it/s]\n"
     ]
    },
    {
     "name": "stdout",
     "output_type": "stream",
     "text": [
      "✅ Saved frames in: /Users/mario/Desktop/Desktop/UofA/4.Winter-2025/ece-910/Batman/VLM-testing/batman-frames/Batman (1989)-002_part_1052\n",
      "\n",
      "🎥 Processing: /Users/mario/Desktop/Desktop/UofA/4.Winter-2025/ece-910/Batman/Batman-(1989)-002/Batman (1989)-002_part_1053.mp4\n",
      "📸 Total Frames: 347\n"
     ]
    },
    {
     "name": "stderr",
     "output_type": "stream",
     "text": [
      "Extracting Frames from Batman (1989)-002_part_1053.mp4: 100%|██████████| 347/347 [00:00<00:00, 620.24it/s]\n"
     ]
    },
    {
     "name": "stdout",
     "output_type": "stream",
     "text": [
      "✅ Saved frames in: /Users/mario/Desktop/Desktop/UofA/4.Winter-2025/ece-910/Batman/VLM-testing/batman-frames/Batman (1989)-002_part_1053\n",
      "\n",
      "🎥 Processing: /Users/mario/Desktop/Desktop/UofA/4.Winter-2025/ece-910/Batman/Batman-(1989)-002/Batman (1989)-002_part_1054.mp4\n",
      "📸 Total Frames: 77\n"
     ]
    },
    {
     "name": "stderr",
     "output_type": "stream",
     "text": [
      "Extracting Frames from Batman (1989)-002_part_1054.mp4: 100%|██████████| 77/77 [00:00<00:00, 590.53it/s]\n"
     ]
    },
    {
     "name": "stdout",
     "output_type": "stream",
     "text": [
      "✅ Saved frames in: /Users/mario/Desktop/Desktop/UofA/4.Winter-2025/ece-910/Batman/VLM-testing/batman-frames/Batman (1989)-002_part_1054\n",
      "\n",
      "🎥 Processing: /Users/mario/Desktop/Desktop/UofA/4.Winter-2025/ece-910/Batman/Batman-(1989)-002/Batman (1989)-002_part_1055.mp4\n",
      "📸 Total Frames: 78\n"
     ]
    },
    {
     "name": "stderr",
     "output_type": "stream",
     "text": [
      "Extracting Frames from Batman (1989)-002_part_1055.mp4: 100%|██████████| 78/78 [00:00<00:00, 598.80it/s]\n"
     ]
    },
    {
     "name": "stdout",
     "output_type": "stream",
     "text": [
      "✅ Saved frames in: /Users/mario/Desktop/Desktop/UofA/4.Winter-2025/ece-910/Batman/VLM-testing/batman-frames/Batman (1989)-002_part_1055\n",
      "\n",
      "🎥 Processing: /Users/mario/Desktop/Desktop/UofA/4.Winter-2025/ece-910/Batman/Batman-(1989)-002/Batman (1989)-002_part_1056.mp4\n",
      "📸 Total Frames: 828\n"
     ]
    },
    {
     "name": "stderr",
     "output_type": "stream",
     "text": [
      "Extracting Frames from Batman (1989)-002_part_1056.mp4: 100%|██████████| 828/828 [00:01<00:00, 614.09it/s]\n"
     ]
    },
    {
     "name": "stdout",
     "output_type": "stream",
     "text": [
      "✅ Saved frames in: /Users/mario/Desktop/Desktop/UofA/4.Winter-2025/ece-910/Batman/VLM-testing/batman-frames/Batman (1989)-002_part_1056\n",
      "\n",
      "🎥 Processing: /Users/mario/Desktop/Desktop/UofA/4.Winter-2025/ece-910/Batman/Batman-(1989)-002/Batman (1989)-002_part_1057.mp4\n",
      "📸 Total Frames: 144\n"
     ]
    },
    {
     "name": "stderr",
     "output_type": "stream",
     "text": [
      "Extracting Frames from Batman (1989)-002_part_1057.mp4: 100%|██████████| 144/144 [00:00<00:00, 609.65it/s]\n"
     ]
    },
    {
     "name": "stdout",
     "output_type": "stream",
     "text": [
      "✅ Saved frames in: /Users/mario/Desktop/Desktop/UofA/4.Winter-2025/ece-910/Batman/VLM-testing/batman-frames/Batman (1989)-002_part_1057\n",
      "\n",
      "🎥 Processing: /Users/mario/Desktop/Desktop/UofA/4.Winter-2025/ece-910/Batman/Batman-(1989)-002/Batman (1989)-002_part_1058.mp4\n",
      "📸 Total Frames: 112\n"
     ]
    },
    {
     "name": "stderr",
     "output_type": "stream",
     "text": [
      "Extracting Frames from Batman (1989)-002_part_1058.mp4: 100%|██████████| 112/112 [00:00<00:00, 601.98it/s]\n"
     ]
    },
    {
     "name": "stdout",
     "output_type": "stream",
     "text": [
      "✅ Saved frames in: /Users/mario/Desktop/Desktop/UofA/4.Winter-2025/ece-910/Batman/VLM-testing/batman-frames/Batman (1989)-002_part_1058\n",
      "\n",
      "🎥 Processing: /Users/mario/Desktop/Desktop/UofA/4.Winter-2025/ece-910/Batman/Batman-(1989)-002/Batman (1989)-002_part_1059.mp4\n",
      "📸 Total Frames: 101\n"
     ]
    },
    {
     "name": "stderr",
     "output_type": "stream",
     "text": [
      "Extracting Frames from Batman (1989)-002_part_1059.mp4: 100%|██████████| 101/101 [00:00<00:00, 503.95it/s]\n"
     ]
    },
    {
     "name": "stdout",
     "output_type": "stream",
     "text": [
      "✅ Saved frames in: /Users/mario/Desktop/Desktop/UofA/4.Winter-2025/ece-910/Batman/VLM-testing/batman-frames/Batman (1989)-002_part_1059\n",
      "\n",
      "🎥 Processing: /Users/mario/Desktop/Desktop/UofA/4.Winter-2025/ece-910/Batman/Batman-(1989)-002/Batman (1989)-002_part_106.mp4\n",
      "📸 Total Frames: 459\n"
     ]
    },
    {
     "name": "stderr",
     "output_type": "stream",
     "text": [
      "Extracting Frames from Batman (1989)-002_part_106.mp4: 100%|██████████| 459/459 [00:00<00:00, 557.71it/s]\n"
     ]
    },
    {
     "name": "stdout",
     "output_type": "stream",
     "text": [
      "✅ Saved frames in: /Users/mario/Desktop/Desktop/UofA/4.Winter-2025/ece-910/Batman/VLM-testing/batman-frames/Batman (1989)-002_part_106\n",
      "\n",
      "🎥 Processing: /Users/mario/Desktop/Desktop/UofA/4.Winter-2025/ece-910/Batman/Batman-(1989)-002/Batman (1989)-002_part_1060.mp4\n",
      "📸 Total Frames: 102\n"
     ]
    },
    {
     "name": "stderr",
     "output_type": "stream",
     "text": [
      "Extracting Frames from Batman (1989)-002_part_1060.mp4: 100%|██████████| 102/102 [00:00<00:00, 546.87it/s]\n"
     ]
    },
    {
     "name": "stdout",
     "output_type": "stream",
     "text": [
      "✅ Saved frames in: /Users/mario/Desktop/Desktop/UofA/4.Winter-2025/ece-910/Batman/VLM-testing/batman-frames/Batman (1989)-002_part_1060\n",
      "\n",
      "🎥 Processing: /Users/mario/Desktop/Desktop/UofA/4.Winter-2025/ece-910/Batman/Batman-(1989)-002/Batman (1989)-002_part_1061.mp4\n",
      "📸 Total Frames: 496\n"
     ]
    },
    {
     "name": "stderr",
     "output_type": "stream",
     "text": [
      "Extracting Frames from Batman (1989)-002_part_1061.mp4: 100%|██████████| 496/496 [00:00<00:00, 597.98it/s]\n"
     ]
    },
    {
     "name": "stdout",
     "output_type": "stream",
     "text": [
      "✅ Saved frames in: /Users/mario/Desktop/Desktop/UofA/4.Winter-2025/ece-910/Batman/VLM-testing/batman-frames/Batman (1989)-002_part_1061\n",
      "\n",
      "🎥 Processing: /Users/mario/Desktop/Desktop/UofA/4.Winter-2025/ece-910/Batman/Batman-(1989)-002/Batman (1989)-002_part_1062.mp4\n",
      "📸 Total Frames: 914\n"
     ]
    },
    {
     "name": "stderr",
     "output_type": "stream",
     "text": [
      "Extracting Frames from Batman (1989)-002_part_1062.mp4: 100%|██████████| 914/914 [00:01<00:00, 526.53it/s]\n"
     ]
    },
    {
     "name": "stdout",
     "output_type": "stream",
     "text": [
      "✅ Saved frames in: /Users/mario/Desktop/Desktop/UofA/4.Winter-2025/ece-910/Batman/VLM-testing/batman-frames/Batman (1989)-002_part_1062\n",
      "\n",
      "🎥 Processing: /Users/mario/Desktop/Desktop/UofA/4.Winter-2025/ece-910/Batman/Batman-(1989)-002/Batman (1989)-002_part_1063.mp4\n",
      "📸 Total Frames: 318\n"
     ]
    },
    {
     "name": "stderr",
     "output_type": "stream",
     "text": [
      "Extracting Frames from Batman (1989)-002_part_1063.mp4: 100%|██████████| 318/318 [00:00<00:00, 608.98it/s]\n"
     ]
    },
    {
     "name": "stdout",
     "output_type": "stream",
     "text": [
      "✅ Saved frames in: /Users/mario/Desktop/Desktop/UofA/4.Winter-2025/ece-910/Batman/VLM-testing/batman-frames/Batman (1989)-002_part_1063\n",
      "\n",
      "🎥 Processing: /Users/mario/Desktop/Desktop/UofA/4.Winter-2025/ece-910/Batman/Batman-(1989)-002/Batman (1989)-002_part_1064.mp4\n",
      "📸 Total Frames: 160\n"
     ]
    },
    {
     "name": "stderr",
     "output_type": "stream",
     "text": [
      "Extracting Frames from Batman (1989)-002_part_1064.mp4: 100%|██████████| 160/160 [00:00<00:00, 617.79it/s]\n"
     ]
    },
    {
     "name": "stdout",
     "output_type": "stream",
     "text": [
      "✅ Saved frames in: /Users/mario/Desktop/Desktop/UofA/4.Winter-2025/ece-910/Batman/VLM-testing/batman-frames/Batman (1989)-002_part_1064\n",
      "\n",
      "🎥 Processing: /Users/mario/Desktop/Desktop/UofA/4.Winter-2025/ece-910/Batman/Batman-(1989)-002/Batman (1989)-002_part_1065.mp4\n",
      "📸 Total Frames: 48\n"
     ]
    },
    {
     "name": "stderr",
     "output_type": "stream",
     "text": [
      "Extracting Frames from Batman (1989)-002_part_1065.mp4: 100%|██████████| 48/48 [00:00<00:00, 526.07it/s]\n"
     ]
    },
    {
     "name": "stdout",
     "output_type": "stream",
     "text": [
      "✅ Saved frames in: /Users/mario/Desktop/Desktop/UofA/4.Winter-2025/ece-910/Batman/VLM-testing/batman-frames/Batman (1989)-002_part_1065\n",
      "\n",
      "🎥 Processing: /Users/mario/Desktop/Desktop/UofA/4.Winter-2025/ece-910/Batman/Batman-(1989)-002/Batman (1989)-002_part_1066.mp4\n",
      "📸 Total Frames: 358\n"
     ]
    },
    {
     "name": "stderr",
     "output_type": "stream",
     "text": [
      "Extracting Frames from Batman (1989)-002_part_1066.mp4: 100%|██████████| 358/358 [00:00<00:00, 619.32it/s]\n"
     ]
    },
    {
     "name": "stdout",
     "output_type": "stream",
     "text": [
      "✅ Saved frames in: /Users/mario/Desktop/Desktop/UofA/4.Winter-2025/ece-910/Batman/VLM-testing/batman-frames/Batman (1989)-002_part_1066\n",
      "\n",
      "🎥 Processing: /Users/mario/Desktop/Desktop/UofA/4.Winter-2025/ece-910/Batman/Batman-(1989)-002/Batman (1989)-002_part_1067.mp4\n",
      "📸 Total Frames: 438\n"
     ]
    },
    {
     "name": "stderr",
     "output_type": "stream",
     "text": [
      "Extracting Frames from Batman (1989)-002_part_1067.mp4: 100%|██████████| 438/438 [00:00<00:00, 628.22it/s]\n"
     ]
    },
    {
     "name": "stdout",
     "output_type": "stream",
     "text": [
      "✅ Saved frames in: /Users/mario/Desktop/Desktop/UofA/4.Winter-2025/ece-910/Batman/VLM-testing/batman-frames/Batman (1989)-002_part_1067\n",
      "\n",
      "🎥 Processing: /Users/mario/Desktop/Desktop/UofA/4.Winter-2025/ece-910/Batman/Batman-(1989)-002/Batman (1989)-002_part_1068.mp4\n",
      "📸 Total Frames: 189\n"
     ]
    },
    {
     "name": "stderr",
     "output_type": "stream",
     "text": [
      "Extracting Frames from Batman (1989)-002_part_1068.mp4: 100%|██████████| 189/189 [00:00<00:00, 614.47it/s]\n"
     ]
    },
    {
     "name": "stdout",
     "output_type": "stream",
     "text": [
      "✅ Saved frames in: /Users/mario/Desktop/Desktop/UofA/4.Winter-2025/ece-910/Batman/VLM-testing/batman-frames/Batman (1989)-002_part_1068\n",
      "\n",
      "🎥 Processing: /Users/mario/Desktop/Desktop/UofA/4.Winter-2025/ece-910/Batman/Batman-(1989)-002/Batman (1989)-002_part_1069.mp4\n",
      "📸 Total Frames: 974\n"
     ]
    },
    {
     "name": "stderr",
     "output_type": "stream",
     "text": [
      "Extracting Frames from Batman (1989)-002_part_1069.mp4: 100%|██████████| 974/974 [00:01<00:00, 657.00it/s]\n"
     ]
    },
    {
     "name": "stdout",
     "output_type": "stream",
     "text": [
      "✅ Saved frames in: /Users/mario/Desktop/Desktop/UofA/4.Winter-2025/ece-910/Batman/VLM-testing/batman-frames/Batman (1989)-002_part_1069\n",
      "\n",
      "🎥 Processing: /Users/mario/Desktop/Desktop/UofA/4.Winter-2025/ece-910/Batman/Batman-(1989)-002/Batman (1989)-002_part_107.mp4\n",
      "📸 Total Frames: 56\n"
     ]
    },
    {
     "name": "stderr",
     "output_type": "stream",
     "text": [
      "Extracting Frames from Batman (1989)-002_part_107.mp4: 100%|██████████| 56/56 [00:00<00:00, 250.41it/s]\n"
     ]
    },
    {
     "name": "stdout",
     "output_type": "stream",
     "text": [
      "✅ Saved frames in: /Users/mario/Desktop/Desktop/UofA/4.Winter-2025/ece-910/Batman/VLM-testing/batman-frames/Batman (1989)-002_part_107\n",
      "\n",
      "🎥 Processing: /Users/mario/Desktop/Desktop/UofA/4.Winter-2025/ece-910/Batman/Batman-(1989)-002/Batman (1989)-002_part_1070.mp4\n",
      "📸 Total Frames: 92\n"
     ]
    },
    {
     "name": "stderr",
     "output_type": "stream",
     "text": [
      "Extracting Frames from Batman (1989)-002_part_1070.mp4: 100%|██████████| 92/92 [00:00<00:00, 631.22it/s]\n"
     ]
    },
    {
     "name": "stdout",
     "output_type": "stream",
     "text": [
      "✅ Saved frames in: /Users/mario/Desktop/Desktop/UofA/4.Winter-2025/ece-910/Batman/VLM-testing/batman-frames/Batman (1989)-002_part_1070\n",
      "\n",
      "🎥 Processing: /Users/mario/Desktop/Desktop/UofA/4.Winter-2025/ece-910/Batman/Batman-(1989)-002/Batman (1989)-002_part_1071.mp4\n",
      "📸 Total Frames: 6\n"
     ]
    },
    {
     "name": "stderr",
     "output_type": "stream",
     "text": [
      "Extracting Frames from Batman (1989)-002_part_1071.mp4: 100%|██████████| 6/6 [00:00<00:00, 579.32it/s]\n"
     ]
    },
    {
     "name": "stdout",
     "output_type": "stream",
     "text": [
      "✅ Saved frames in: /Users/mario/Desktop/Desktop/UofA/4.Winter-2025/ece-910/Batman/VLM-testing/batman-frames/Batman (1989)-002_part_1071\n",
      "\n",
      "🎥 Processing: /Users/mario/Desktop/Desktop/UofA/4.Winter-2025/ece-910/Batman/Batman-(1989)-002/Batman (1989)-002_part_1072.mp4\n",
      "📸 Total Frames: 92\n"
     ]
    },
    {
     "name": "stderr",
     "output_type": "stream",
     "text": [
      "Extracting Frames from Batman (1989)-002_part_1072.mp4: 100%|██████████| 92/92 [00:00<00:00, 650.93it/s]\n"
     ]
    },
    {
     "name": "stdout",
     "output_type": "stream",
     "text": [
      "✅ Saved frames in: /Users/mario/Desktop/Desktop/UofA/4.Winter-2025/ece-910/Batman/VLM-testing/batman-frames/Batman (1989)-002_part_1072\n",
      "\n",
      "🎥 Processing: /Users/mario/Desktop/Desktop/UofA/4.Winter-2025/ece-910/Batman/Batman-(1989)-002/Batman (1989)-002_part_1073.mp4\n",
      "📸 Total Frames: 6\n"
     ]
    },
    {
     "name": "stderr",
     "output_type": "stream",
     "text": [
      "Extracting Frames from Batman (1989)-002_part_1073.mp4: 100%|██████████| 6/6 [00:00<00:00, 619.85it/s]\n"
     ]
    },
    {
     "name": "stdout",
     "output_type": "stream",
     "text": [
      "✅ Saved frames in: /Users/mario/Desktop/Desktop/UofA/4.Winter-2025/ece-910/Batman/VLM-testing/batman-frames/Batman (1989)-002_part_1073\n",
      "\n",
      "🎥 Processing: /Users/mario/Desktop/Desktop/UofA/4.Winter-2025/ece-910/Batman/Batman-(1989)-002/Batman (1989)-002_part_1074.mp4\n",
      "📸 Total Frames: 99\n"
     ]
    },
    {
     "name": "stderr",
     "output_type": "stream",
     "text": [
      "Extracting Frames from Batman (1989)-002_part_1074.mp4: 100%|██████████| 99/99 [00:00<00:00, 654.94it/s]\n"
     ]
    },
    {
     "name": "stdout",
     "output_type": "stream",
     "text": [
      "✅ Saved frames in: /Users/mario/Desktop/Desktop/UofA/4.Winter-2025/ece-910/Batman/VLM-testing/batman-frames/Batman (1989)-002_part_1074\n",
      "\n",
      "🎥 Processing: /Users/mario/Desktop/Desktop/UofA/4.Winter-2025/ece-910/Batman/Batman-(1989)-002/Batman (1989)-002_part_1075.mp4\n",
      "📸 Total Frames: 92\n"
     ]
    },
    {
     "name": "stderr",
     "output_type": "stream",
     "text": [
      "Extracting Frames from Batman (1989)-002_part_1075.mp4: 100%|██████████| 92/92 [00:00<00:00, 654.07it/s]\n"
     ]
    },
    {
     "name": "stdout",
     "output_type": "stream",
     "text": [
      "✅ Saved frames in: /Users/mario/Desktop/Desktop/UofA/4.Winter-2025/ece-910/Batman/VLM-testing/batman-frames/Batman (1989)-002_part_1075\n",
      "\n",
      "🎥 Processing: /Users/mario/Desktop/Desktop/UofA/4.Winter-2025/ece-910/Batman/Batman-(1989)-002/Batman (1989)-002_part_108.mp4\n",
      "📸 Total Frames: 901\n"
     ]
    },
    {
     "name": "stderr",
     "output_type": "stream",
     "text": [
      "Extracting Frames from Batman (1989)-002_part_108.mp4: 100%|██████████| 901/901 [00:01<00:00, 558.24it/s]\n"
     ]
    },
    {
     "name": "stdout",
     "output_type": "stream",
     "text": [
      "✅ Saved frames in: /Users/mario/Desktop/Desktop/UofA/4.Winter-2025/ece-910/Batman/VLM-testing/batman-frames/Batman (1989)-002_part_108\n",
      "\n",
      "🎥 Processing: /Users/mario/Desktop/Desktop/UofA/4.Winter-2025/ece-910/Batman/Batman-(1989)-002/Batman (1989)-002_part_109.mp4\n",
      "📸 Total Frames: 464\n"
     ]
    },
    {
     "name": "stderr",
     "output_type": "stream",
     "text": [
      "Extracting Frames from Batman (1989)-002_part_109.mp4: 100%|██████████| 464/464 [00:00<00:00, 623.00it/s]\n"
     ]
    },
    {
     "name": "stdout",
     "output_type": "stream",
     "text": [
      "✅ Saved frames in: /Users/mario/Desktop/Desktop/UofA/4.Winter-2025/ece-910/Batman/VLM-testing/batman-frames/Batman (1989)-002_part_109\n",
      "\n",
      "🎥 Processing: /Users/mario/Desktop/Desktop/UofA/4.Winter-2025/ece-910/Batman/Batman-(1989)-002/Batman (1989)-002_part_11.mp4\n",
      "📸 Total Frames: 15\n"
     ]
    },
    {
     "name": "stderr",
     "output_type": "stream",
     "text": [
      "Extracting Frames from Batman (1989)-002_part_11.mp4: 100%|██████████| 15/15 [00:00<00:00, 534.87it/s]\n"
     ]
    },
    {
     "name": "stdout",
     "output_type": "stream",
     "text": [
      "✅ Saved frames in: /Users/mario/Desktop/Desktop/UofA/4.Winter-2025/ece-910/Batman/VLM-testing/batman-frames/Batman (1989)-002_part_11\n",
      "\n",
      "🎥 Processing: /Users/mario/Desktop/Desktop/UofA/4.Winter-2025/ece-910/Batman/Batman-(1989)-002/Batman (1989)-002_part_110.mp4\n",
      "📸 Total Frames: 453\n"
     ]
    },
    {
     "name": "stderr",
     "output_type": "stream",
     "text": [
      "Extracting Frames from Batman (1989)-002_part_110.mp4: 100%|██████████| 453/453 [00:00<00:00, 638.54it/s]\n"
     ]
    },
    {
     "name": "stdout",
     "output_type": "stream",
     "text": [
      "✅ Saved frames in: /Users/mario/Desktop/Desktop/UofA/4.Winter-2025/ece-910/Batman/VLM-testing/batman-frames/Batman (1989)-002_part_110\n",
      "\n",
      "🎥 Processing: /Users/mario/Desktop/Desktop/UofA/4.Winter-2025/ece-910/Batman/Batman-(1989)-002/Batman (1989)-002_part_111.mp4\n",
      "📸 Total Frames: 214\n"
     ]
    },
    {
     "name": "stderr",
     "output_type": "stream",
     "text": [
      "Extracting Frames from Batman (1989)-002_part_111.mp4: 100%|██████████| 214/214 [00:00<00:00, 604.83it/s]\n"
     ]
    },
    {
     "name": "stdout",
     "output_type": "stream",
     "text": [
      "✅ Saved frames in: /Users/mario/Desktop/Desktop/UofA/4.Winter-2025/ece-910/Batman/VLM-testing/batman-frames/Batman (1989)-002_part_111\n",
      "\n",
      "🎥 Processing: /Users/mario/Desktop/Desktop/UofA/4.Winter-2025/ece-910/Batman/Batman-(1989)-002/Batman (1989)-002_part_112.mp4\n",
      "📸 Total Frames: 97\n"
     ]
    },
    {
     "name": "stderr",
     "output_type": "stream",
     "text": [
      "Extracting Frames from Batman (1989)-002_part_112.mp4: 100%|██████████| 97/97 [00:00<00:00, 308.56it/s]\n"
     ]
    },
    {
     "name": "stdout",
     "output_type": "stream",
     "text": [
      "✅ Saved frames in: /Users/mario/Desktop/Desktop/UofA/4.Winter-2025/ece-910/Batman/VLM-testing/batman-frames/Batman (1989)-002_part_112\n",
      "\n",
      "🎥 Processing: /Users/mario/Desktop/Desktop/UofA/4.Winter-2025/ece-910/Batman/Batman-(1989)-002/Batman (1989)-002_part_113.mp4\n",
      "📸 Total Frames: 57\n"
     ]
    },
    {
     "name": "stderr",
     "output_type": "stream",
     "text": [
      "Extracting Frames from Batman (1989)-002_part_113.mp4: 100%|██████████| 57/57 [00:00<00:00, 560.46it/s]\n"
     ]
    },
    {
     "name": "stdout",
     "output_type": "stream",
     "text": [
      "✅ Saved frames in: /Users/mario/Desktop/Desktop/UofA/4.Winter-2025/ece-910/Batman/VLM-testing/batman-frames/Batman (1989)-002_part_113\n",
      "\n",
      "🎥 Processing: /Users/mario/Desktop/Desktop/UofA/4.Winter-2025/ece-910/Batman/Batman-(1989)-002/Batman (1989)-002_part_114.mp4\n",
      "📸 Total Frames: 383\n"
     ]
    },
    {
     "name": "stderr",
     "output_type": "stream",
     "text": [
      "Extracting Frames from Batman (1989)-002_part_114.mp4: 100%|██████████| 383/383 [00:00<00:00, 613.11it/s]\n"
     ]
    },
    {
     "name": "stdout",
     "output_type": "stream",
     "text": [
      "✅ Saved frames in: /Users/mario/Desktop/Desktop/UofA/4.Winter-2025/ece-910/Batman/VLM-testing/batman-frames/Batman (1989)-002_part_114\n",
      "\n",
      "🎥 Processing: /Users/mario/Desktop/Desktop/UofA/4.Winter-2025/ece-910/Batman/Batman-(1989)-002/Batman (1989)-002_part_115.mp4\n",
      "📸 Total Frames: 563\n"
     ]
    },
    {
     "name": "stderr",
     "output_type": "stream",
     "text": [
      "Extracting Frames from Batman (1989)-002_part_115.mp4: 100%|██████████| 563/563 [00:00<00:00, 633.16it/s]\n"
     ]
    },
    {
     "name": "stdout",
     "output_type": "stream",
     "text": [
      "✅ Saved frames in: /Users/mario/Desktop/Desktop/UofA/4.Winter-2025/ece-910/Batman/VLM-testing/batman-frames/Batman (1989)-002_part_115\n",
      "\n",
      "🎥 Processing: /Users/mario/Desktop/Desktop/UofA/4.Winter-2025/ece-910/Batman/Batman-(1989)-002/Batman (1989)-002_part_116.mp4\n",
      "📸 Total Frames: 36\n"
     ]
    },
    {
     "name": "stderr",
     "output_type": "stream",
     "text": [
      "Extracting Frames from Batman (1989)-002_part_116.mp4: 100%|██████████| 36/36 [00:00<00:00, 525.59it/s]\n"
     ]
    },
    {
     "name": "stdout",
     "output_type": "stream",
     "text": [
      "✅ Saved frames in: /Users/mario/Desktop/Desktop/UofA/4.Winter-2025/ece-910/Batman/VLM-testing/batman-frames/Batman (1989)-002_part_116\n",
      "\n",
      "🎥 Processing: /Users/mario/Desktop/Desktop/UofA/4.Winter-2025/ece-910/Batman/Batman-(1989)-002/Batman (1989)-002_part_117.mp4\n",
      "📸 Total Frames: 104\n"
     ]
    },
    {
     "name": "stderr",
     "output_type": "stream",
     "text": [
      "Extracting Frames from Batman (1989)-002_part_117.mp4: 100%|██████████| 104/104 [00:00<00:00, 610.66it/s]\n"
     ]
    },
    {
     "name": "stdout",
     "output_type": "stream",
     "text": [
      "✅ Saved frames in: /Users/mario/Desktop/Desktop/UofA/4.Winter-2025/ece-910/Batman/VLM-testing/batman-frames/Batman (1989)-002_part_117\n",
      "\n",
      "🎥 Processing: /Users/mario/Desktop/Desktop/UofA/4.Winter-2025/ece-910/Batman/Batman-(1989)-002/Batman (1989)-002_part_118.mp4\n",
      "📸 Total Frames: 136\n"
     ]
    },
    {
     "name": "stderr",
     "output_type": "stream",
     "text": [
      "Extracting Frames from Batman (1989)-002_part_118.mp4: 100%|██████████| 136/136 [00:00<00:00, 597.67it/s]\n"
     ]
    },
    {
     "name": "stdout",
     "output_type": "stream",
     "text": [
      "✅ Saved frames in: /Users/mario/Desktop/Desktop/UofA/4.Winter-2025/ece-910/Batman/VLM-testing/batman-frames/Batman (1989)-002_part_118\n",
      "\n",
      "🎥 Processing: /Users/mario/Desktop/Desktop/UofA/4.Winter-2025/ece-910/Batman/Batman-(1989)-002/Batman (1989)-002_part_119.mp4\n",
      "📸 Total Frames: 89\n"
     ]
    },
    {
     "name": "stderr",
     "output_type": "stream",
     "text": [
      "Extracting Frames from Batman (1989)-002_part_119.mp4: 100%|██████████| 89/89 [00:00<00:00, 576.86it/s]\n"
     ]
    },
    {
     "name": "stdout",
     "output_type": "stream",
     "text": [
      "✅ Saved frames in: /Users/mario/Desktop/Desktop/UofA/4.Winter-2025/ece-910/Batman/VLM-testing/batman-frames/Batman (1989)-002_part_119\n",
      "\n",
      "🎥 Processing: /Users/mario/Desktop/Desktop/UofA/4.Winter-2025/ece-910/Batman/Batman-(1989)-002/Batman (1989)-002_part_12.mp4\n",
      "📸 Total Frames: 37\n"
     ]
    },
    {
     "name": "stderr",
     "output_type": "stream",
     "text": [
      "Extracting Frames from Batman (1989)-002_part_12.mp4: 100%|██████████| 37/37 [00:00<00:00, 553.61it/s]\n"
     ]
    },
    {
     "name": "stdout",
     "output_type": "stream",
     "text": [
      "✅ Saved frames in: /Users/mario/Desktop/Desktop/UofA/4.Winter-2025/ece-910/Batman/VLM-testing/batman-frames/Batman (1989)-002_part_12\n",
      "\n",
      "🎥 Processing: /Users/mario/Desktop/Desktop/UofA/4.Winter-2025/ece-910/Batman/Batman-(1989)-002/Batman (1989)-002_part_120.mp4\n",
      "📸 Total Frames: 28\n"
     ]
    },
    {
     "name": "stderr",
     "output_type": "stream",
     "text": [
      "Extracting Frames from Batman (1989)-002_part_120.mp4: 100%|██████████| 28/28 [00:00<00:00, 529.70it/s]\n"
     ]
    },
    {
     "name": "stdout",
     "output_type": "stream",
     "text": [
      "✅ Saved frames in: /Users/mario/Desktop/Desktop/UofA/4.Winter-2025/ece-910/Batman/VLM-testing/batman-frames/Batman (1989)-002_part_120\n",
      "\n",
      "🎥 Processing: /Users/mario/Desktop/Desktop/UofA/4.Winter-2025/ece-910/Batman/Batman-(1989)-002/Batman (1989)-002_part_121.mp4\n",
      "📸 Total Frames: 16\n"
     ]
    },
    {
     "name": "stderr",
     "output_type": "stream",
     "text": [
      "Extracting Frames from Batman (1989)-002_part_121.mp4: 100%|██████████| 16/16 [00:00<00:00, 409.37it/s]\n"
     ]
    },
    {
     "name": "stdout",
     "output_type": "stream",
     "text": [
      "✅ Saved frames in: /Users/mario/Desktop/Desktop/UofA/4.Winter-2025/ece-910/Batman/VLM-testing/batman-frames/Batman (1989)-002_part_121\n",
      "\n",
      "🎥 Processing: /Users/mario/Desktop/Desktop/UofA/4.Winter-2025/ece-910/Batman/Batman-(1989)-002/Batman (1989)-002_part_122.mp4\n",
      "📸 Total Frames: 24\n"
     ]
    },
    {
     "name": "stderr",
     "output_type": "stream",
     "text": [
      "Extracting Frames from Batman (1989)-002_part_122.mp4: 100%|██████████| 24/24 [00:00<00:00, 492.97it/s]\n"
     ]
    },
    {
     "name": "stdout",
     "output_type": "stream",
     "text": [
      "✅ Saved frames in: /Users/mario/Desktop/Desktop/UofA/4.Winter-2025/ece-910/Batman/VLM-testing/batman-frames/Batman (1989)-002_part_122\n",
      "\n",
      "🎥 Processing: /Users/mario/Desktop/Desktop/UofA/4.Winter-2025/ece-910/Batman/Batman-(1989)-002/Batman (1989)-002_part_123.mp4\n",
      "📸 Total Frames: 268\n"
     ]
    },
    {
     "name": "stderr",
     "output_type": "stream",
     "text": [
      "Extracting Frames from Batman (1989)-002_part_123.mp4: 100%|██████████| 268/268 [00:00<00:00, 561.16it/s]\n"
     ]
    },
    {
     "name": "stdout",
     "output_type": "stream",
     "text": [
      "✅ Saved frames in: /Users/mario/Desktop/Desktop/UofA/4.Winter-2025/ece-910/Batman/VLM-testing/batman-frames/Batman (1989)-002_part_123\n",
      "\n",
      "🎥 Processing: /Users/mario/Desktop/Desktop/UofA/4.Winter-2025/ece-910/Batman/Batman-(1989)-002/Batman (1989)-002_part_124.mp4\n",
      "📸 Total Frames: 704\n"
     ]
    },
    {
     "name": "stderr",
     "output_type": "stream",
     "text": [
      "Extracting Frames from Batman (1989)-002_part_124.mp4: 100%|██████████| 704/704 [00:01<00:00, 549.09it/s]\n"
     ]
    },
    {
     "name": "stdout",
     "output_type": "stream",
     "text": [
      "✅ Saved frames in: /Users/mario/Desktop/Desktop/UofA/4.Winter-2025/ece-910/Batman/VLM-testing/batman-frames/Batman (1989)-002_part_124\n",
      "\n",
      "🎥 Processing: /Users/mario/Desktop/Desktop/UofA/4.Winter-2025/ece-910/Batman/Batman-(1989)-002/Batman (1989)-002_part_125.mp4\n",
      "📸 Total Frames: 42\n"
     ]
    },
    {
     "name": "stderr",
     "output_type": "stream",
     "text": [
      "Extracting Frames from Batman (1989)-002_part_125.mp4: 100%|██████████| 42/42 [00:00<00:00, 542.52it/s]\n"
     ]
    },
    {
     "name": "stdout",
     "output_type": "stream",
     "text": [
      "✅ Saved frames in: /Users/mario/Desktop/Desktop/UofA/4.Winter-2025/ece-910/Batman/VLM-testing/batman-frames/Batman (1989)-002_part_125\n",
      "\n",
      "🎥 Processing: /Users/mario/Desktop/Desktop/UofA/4.Winter-2025/ece-910/Batman/Batman-(1989)-002/Batman (1989)-002_part_126.mp4\n",
      "📸 Total Frames: 155\n"
     ]
    },
    {
     "name": "stderr",
     "output_type": "stream",
     "text": [
      "Extracting Frames from Batman (1989)-002_part_126.mp4: 100%|██████████| 155/155 [00:00<00:00, 569.24it/s]\n"
     ]
    },
    {
     "name": "stdout",
     "output_type": "stream",
     "text": [
      "✅ Saved frames in: /Users/mario/Desktop/Desktop/UofA/4.Winter-2025/ece-910/Batman/VLM-testing/batman-frames/Batman (1989)-002_part_126\n",
      "\n",
      "🎥 Processing: /Users/mario/Desktop/Desktop/UofA/4.Winter-2025/ece-910/Batman/Batman-(1989)-002/Batman (1989)-002_part_127.mp4\n",
      "📸 Total Frames: 14\n"
     ]
    },
    {
     "name": "stderr",
     "output_type": "stream",
     "text": [
      "Extracting Frames from Batman (1989)-002_part_127.mp4: 100%|██████████| 14/14 [00:00<00:00, 116.10it/s]\n"
     ]
    },
    {
     "name": "stdout",
     "output_type": "stream",
     "text": [
      "✅ Saved frames in: /Users/mario/Desktop/Desktop/UofA/4.Winter-2025/ece-910/Batman/VLM-testing/batman-frames/Batman (1989)-002_part_127\n",
      "\n",
      "🎥 Processing: /Users/mario/Desktop/Desktop/UofA/4.Winter-2025/ece-910/Batman/Batman-(1989)-002/Batman (1989)-002_part_128.mp4\n",
      "📸 Total Frames: 5\n"
     ]
    },
    {
     "name": "stderr",
     "output_type": "stream",
     "text": [
      "Extracting Frames from Batman (1989)-002_part_128.mp4: 100%|██████████| 5/5 [00:00<00:00, 342.19it/s]\n"
     ]
    },
    {
     "name": "stdout",
     "output_type": "stream",
     "text": [
      "✅ Saved frames in: /Users/mario/Desktop/Desktop/UofA/4.Winter-2025/ece-910/Batman/VLM-testing/batman-frames/Batman (1989)-002_part_128\n",
      "\n",
      "🎥 Processing: /Users/mario/Desktop/Desktop/UofA/4.Winter-2025/ece-910/Batman/Batman-(1989)-002/Batman (1989)-002_part_129.mp4\n",
      "📸 Total Frames: 59\n"
     ]
    },
    {
     "name": "stderr",
     "output_type": "stream",
     "text": [
      "Extracting Frames from Batman (1989)-002_part_129.mp4: 100%|██████████| 59/59 [00:00<00:00, 523.21it/s]\n"
     ]
    },
    {
     "name": "stdout",
     "output_type": "stream",
     "text": [
      "✅ Saved frames in: /Users/mario/Desktop/Desktop/UofA/4.Winter-2025/ece-910/Batman/VLM-testing/batman-frames/Batman (1989)-002_part_129\n",
      "\n",
      "🎥 Processing: /Users/mario/Desktop/Desktop/UofA/4.Winter-2025/ece-910/Batman/Batman-(1989)-002/Batman (1989)-002_part_13.mp4\n",
      "📸 Total Frames: 74\n"
     ]
    },
    {
     "name": "stderr",
     "output_type": "stream",
     "text": [
      "Extracting Frames from Batman (1989)-002_part_13.mp4: 100%|██████████| 74/74 [00:00<00:00, 547.11it/s]\n"
     ]
    },
    {
     "name": "stdout",
     "output_type": "stream",
     "text": [
      "✅ Saved frames in: /Users/mario/Desktop/Desktop/UofA/4.Winter-2025/ece-910/Batman/VLM-testing/batman-frames/Batman (1989)-002_part_13\n",
      "\n",
      "🎥 Processing: /Users/mario/Desktop/Desktop/UofA/4.Winter-2025/ece-910/Batman/Batman-(1989)-002/Batman (1989)-002_part_130.mp4\n",
      "📸 Total Frames: 90\n"
     ]
    },
    {
     "name": "stderr",
     "output_type": "stream",
     "text": [
      "Extracting Frames from Batman (1989)-002_part_130.mp4: 100%|██████████| 90/90 [00:00<00:00, 511.85it/s]\n"
     ]
    },
    {
     "name": "stdout",
     "output_type": "stream",
     "text": [
      "✅ Saved frames in: /Users/mario/Desktop/Desktop/UofA/4.Winter-2025/ece-910/Batman/VLM-testing/batman-frames/Batman (1989)-002_part_130\n",
      "\n",
      "🎥 Processing: /Users/mario/Desktop/Desktop/UofA/4.Winter-2025/ece-910/Batman/Batman-(1989)-002/Batman (1989)-002_part_131.mp4\n",
      "📸 Total Frames: 45\n"
     ]
    },
    {
     "name": "stderr",
     "output_type": "stream",
     "text": [
      "Extracting Frames from Batman (1989)-002_part_131.mp4: 100%|██████████| 45/45 [00:00<00:00, 509.79it/s]\n"
     ]
    },
    {
     "name": "stdout",
     "output_type": "stream",
     "text": [
      "✅ Saved frames in: /Users/mario/Desktop/Desktop/UofA/4.Winter-2025/ece-910/Batman/VLM-testing/batman-frames/Batman (1989)-002_part_131\n",
      "\n",
      "🎥 Processing: /Users/mario/Desktop/Desktop/UofA/4.Winter-2025/ece-910/Batman/Batman-(1989)-002/Batman (1989)-002_part_132.mp4\n",
      "📸 Total Frames: 136\n"
     ]
    },
    {
     "name": "stderr",
     "output_type": "stream",
     "text": [
      "Extracting Frames from Batman (1989)-002_part_132.mp4: 100%|██████████| 136/136 [00:00<00:00, 594.42it/s]\n"
     ]
    },
    {
     "name": "stdout",
     "output_type": "stream",
     "text": [
      "✅ Saved frames in: /Users/mario/Desktop/Desktop/UofA/4.Winter-2025/ece-910/Batman/VLM-testing/batman-frames/Batman (1989)-002_part_132\n",
      "\n",
      "🎥 Processing: /Users/mario/Desktop/Desktop/UofA/4.Winter-2025/ece-910/Batman/Batman-(1989)-002/Batman (1989)-002_part_133.mp4\n",
      "📸 Total Frames: 104\n"
     ]
    },
    {
     "name": "stderr",
     "output_type": "stream",
     "text": [
      "Extracting Frames from Batman (1989)-002_part_133.mp4: 100%|██████████| 104/104 [00:00<00:00, 581.12it/s]\n"
     ]
    },
    {
     "name": "stdout",
     "output_type": "stream",
     "text": [
      "✅ Saved frames in: /Users/mario/Desktop/Desktop/UofA/4.Winter-2025/ece-910/Batman/VLM-testing/batman-frames/Batman (1989)-002_part_133\n",
      "\n",
      "🎥 Processing: /Users/mario/Desktop/Desktop/UofA/4.Winter-2025/ece-910/Batman/Batman-(1989)-002/Batman (1989)-002_part_134.mp4\n",
      "📸 Total Frames: 32\n"
     ]
    },
    {
     "name": "stderr",
     "output_type": "stream",
     "text": [
      "Extracting Frames from Batman (1989)-002_part_134.mp4: 100%|██████████| 32/32 [00:00<00:00, 546.53it/s]\n"
     ]
    },
    {
     "name": "stdout",
     "output_type": "stream",
     "text": [
      "✅ Saved frames in: /Users/mario/Desktop/Desktop/UofA/4.Winter-2025/ece-910/Batman/VLM-testing/batman-frames/Batman (1989)-002_part_134\n",
      "\n",
      "🎥 Processing: /Users/mario/Desktop/Desktop/UofA/4.Winter-2025/ece-910/Batman/Batman-(1989)-002/Batman (1989)-002_part_135.mp4\n",
      "📸 Total Frames: 56\n"
     ]
    },
    {
     "name": "stderr",
     "output_type": "stream",
     "text": [
      "Extracting Frames from Batman (1989)-002_part_135.mp4: 100%|██████████| 56/56 [00:00<00:00, 546.86it/s]\n"
     ]
    },
    {
     "name": "stdout",
     "output_type": "stream",
     "text": [
      "✅ Saved frames in: /Users/mario/Desktop/Desktop/UofA/4.Winter-2025/ece-910/Batman/VLM-testing/batman-frames/Batman (1989)-002_part_135\n",
      "\n",
      "🎥 Processing: /Users/mario/Desktop/Desktop/UofA/4.Winter-2025/ece-910/Batman/Batman-(1989)-002/Batman (1989)-002_part_136.mp4\n",
      "📸 Total Frames: 9\n"
     ]
    },
    {
     "name": "stderr",
     "output_type": "stream",
     "text": [
      "Extracting Frames from Batman (1989)-002_part_136.mp4: 100%|██████████| 9/9 [00:00<00:00, 493.62it/s]\n"
     ]
    },
    {
     "name": "stdout",
     "output_type": "stream",
     "text": [
      "✅ Saved frames in: /Users/mario/Desktop/Desktop/UofA/4.Winter-2025/ece-910/Batman/VLM-testing/batman-frames/Batman (1989)-002_part_136\n",
      "\n",
      "🎥 Processing: /Users/mario/Desktop/Desktop/UofA/4.Winter-2025/ece-910/Batman/Batman-(1989)-002/Batman (1989)-002_part_137.mp4\n",
      "📸 Total Frames: 16\n"
     ]
    },
    {
     "name": "stderr",
     "output_type": "stream",
     "text": [
      "Extracting Frames from Batman (1989)-002_part_137.mp4: 100%|██████████| 16/16 [00:00<00:00, 515.96it/s]\n"
     ]
    },
    {
     "name": "stdout",
     "output_type": "stream",
     "text": [
      "✅ Saved frames in: /Users/mario/Desktop/Desktop/UofA/4.Winter-2025/ece-910/Batman/VLM-testing/batman-frames/Batman (1989)-002_part_137\n",
      "\n",
      "🎥 Processing: /Users/mario/Desktop/Desktop/UofA/4.Winter-2025/ece-910/Batman/Batman-(1989)-002/Batman (1989)-002_part_138.mp4\n",
      "📸 Total Frames: 19\n"
     ]
    },
    {
     "name": "stderr",
     "output_type": "stream",
     "text": [
      "Extracting Frames from Batman (1989)-002_part_138.mp4: 100%|██████████| 19/19 [00:00<00:00, 465.33it/s]\n"
     ]
    },
    {
     "name": "stdout",
     "output_type": "stream",
     "text": [
      "✅ Saved frames in: /Users/mario/Desktop/Desktop/UofA/4.Winter-2025/ece-910/Batman/VLM-testing/batman-frames/Batman (1989)-002_part_138\n",
      "\n",
      "🎥 Processing: /Users/mario/Desktop/Desktop/UofA/4.Winter-2025/ece-910/Batman/Batman-(1989)-002/Batman (1989)-002_part_139.mp4\n",
      "📸 Total Frames: 36\n"
     ]
    },
    {
     "name": "stderr",
     "output_type": "stream",
     "text": [
      "Extracting Frames from Batman (1989)-002_part_139.mp4: 100%|██████████| 36/36 [00:00<00:00, 172.55it/s]\n"
     ]
    },
    {
     "name": "stdout",
     "output_type": "stream",
     "text": [
      "✅ Saved frames in: /Users/mario/Desktop/Desktop/UofA/4.Winter-2025/ece-910/Batman/VLM-testing/batman-frames/Batman (1989)-002_part_139\n",
      "\n",
      "🎥 Processing: /Users/mario/Desktop/Desktop/UofA/4.Winter-2025/ece-910/Batman/Batman-(1989)-002/Batman (1989)-002_part_14.mp4\n",
      "📸 Total Frames: 10\n"
     ]
    },
    {
     "name": "stderr",
     "output_type": "stream",
     "text": [
      "Extracting Frames from Batman (1989)-002_part_14.mp4: 100%|██████████| 10/10 [00:00<00:00, 353.26it/s]\n"
     ]
    },
    {
     "name": "stdout",
     "output_type": "stream",
     "text": [
      "✅ Saved frames in: /Users/mario/Desktop/Desktop/UofA/4.Winter-2025/ece-910/Batman/VLM-testing/batman-frames/Batman (1989)-002_part_14\n",
      "\n",
      "🎥 Processing: /Users/mario/Desktop/Desktop/UofA/4.Winter-2025/ece-910/Batman/Batman-(1989)-002/Batman (1989)-002_part_140.mp4\n",
      "📸 Total Frames: 49\n"
     ]
    },
    {
     "name": "stderr",
     "output_type": "stream",
     "text": [
      "Extracting Frames from Batman (1989)-002_part_140.mp4: 100%|██████████| 49/49 [00:00<00:00, 505.81it/s]\n"
     ]
    },
    {
     "name": "stdout",
     "output_type": "stream",
     "text": [
      "✅ Saved frames in: /Users/mario/Desktop/Desktop/UofA/4.Winter-2025/ece-910/Batman/VLM-testing/batman-frames/Batman (1989)-002_part_140\n",
      "\n",
      "🎥 Processing: /Users/mario/Desktop/Desktop/UofA/4.Winter-2025/ece-910/Batman/Batman-(1989)-002/Batman (1989)-002_part_141.mp4\n",
      "📸 Total Frames: 8\n"
     ]
    },
    {
     "name": "stderr",
     "output_type": "stream",
     "text": [
      "Extracting Frames from Batman (1989)-002_part_141.mp4: 100%|██████████| 8/8 [00:00<00:00, 374.41it/s]\n"
     ]
    },
    {
     "name": "stdout",
     "output_type": "stream",
     "text": [
      "✅ Saved frames in: /Users/mario/Desktop/Desktop/UofA/4.Winter-2025/ece-910/Batman/VLM-testing/batman-frames/Batman (1989)-002_part_141\n",
      "\n",
      "🎥 Processing: /Users/mario/Desktop/Desktop/UofA/4.Winter-2025/ece-910/Batman/Batman-(1989)-002/Batman (1989)-002_part_142.mp4\n",
      "📸 Total Frames: 8\n"
     ]
    },
    {
     "name": "stderr",
     "output_type": "stream",
     "text": [
      "Extracting Frames from Batman (1989)-002_part_142.mp4: 100%|██████████| 8/8 [00:00<00:00, 441.21it/s]\n"
     ]
    },
    {
     "name": "stdout",
     "output_type": "stream",
     "text": [
      "✅ Saved frames in: /Users/mario/Desktop/Desktop/UofA/4.Winter-2025/ece-910/Batman/VLM-testing/batman-frames/Batman (1989)-002_part_142\n",
      "\n",
      "🎥 Processing: /Users/mario/Desktop/Desktop/UofA/4.Winter-2025/ece-910/Batman/Batman-(1989)-002/Batman (1989)-002_part_143.mp4\n",
      "📸 Total Frames: 41\n"
     ]
    },
    {
     "name": "stderr",
     "output_type": "stream",
     "text": [
      "Extracting Frames from Batman (1989)-002_part_143.mp4: 100%|██████████| 41/41 [00:00<00:00, 531.94it/s]\n"
     ]
    },
    {
     "name": "stdout",
     "output_type": "stream",
     "text": [
      "✅ Saved frames in: /Users/mario/Desktop/Desktop/UofA/4.Winter-2025/ece-910/Batman/VLM-testing/batman-frames/Batman (1989)-002_part_143\n",
      "\n",
      "🎥 Processing: /Users/mario/Desktop/Desktop/UofA/4.Winter-2025/ece-910/Batman/Batman-(1989)-002/Batman (1989)-002_part_144.mp4\n",
      "📸 Total Frames: 25\n"
     ]
    },
    {
     "name": "stderr",
     "output_type": "stream",
     "text": [
      "Extracting Frames from Batman (1989)-002_part_144.mp4: 100%|██████████| 25/25 [00:00<00:00, 554.80it/s]\n"
     ]
    },
    {
     "name": "stdout",
     "output_type": "stream",
     "text": [
      "✅ Saved frames in: /Users/mario/Desktop/Desktop/UofA/4.Winter-2025/ece-910/Batman/VLM-testing/batman-frames/Batman (1989)-002_part_144\n",
      "\n",
      "🎥 Processing: /Users/mario/Desktop/Desktop/UofA/4.Winter-2025/ece-910/Batman/Batman-(1989)-002/Batman (1989)-002_part_145.mp4\n",
      "📸 Total Frames: 178\n"
     ]
    },
    {
     "name": "stderr",
     "output_type": "stream",
     "text": [
      "Extracting Frames from Batman (1989)-002_part_145.mp4: 100%|██████████| 178/178 [00:00<00:00, 490.67it/s]\n"
     ]
    },
    {
     "name": "stdout",
     "output_type": "stream",
     "text": [
      "✅ Saved frames in: /Users/mario/Desktop/Desktop/UofA/4.Winter-2025/ece-910/Batman/VLM-testing/batman-frames/Batman (1989)-002_part_145\n",
      "\n",
      "🎥 Processing: /Users/mario/Desktop/Desktop/UofA/4.Winter-2025/ece-910/Batman/Batman-(1989)-002/Batman (1989)-002_part_146.mp4\n",
      "📸 Total Frames: 74\n"
     ]
    },
    {
     "name": "stderr",
     "output_type": "stream",
     "text": [
      "Extracting Frames from Batman (1989)-002_part_146.mp4: 100%|██████████| 74/74 [00:00<00:00, 505.52it/s]\n"
     ]
    },
    {
     "name": "stdout",
     "output_type": "stream",
     "text": [
      "✅ Saved frames in: /Users/mario/Desktop/Desktop/UofA/4.Winter-2025/ece-910/Batman/VLM-testing/batman-frames/Batman (1989)-002_part_146\n",
      "\n",
      "🎥 Processing: /Users/mario/Desktop/Desktop/UofA/4.Winter-2025/ece-910/Batman/Batman-(1989)-002/Batman (1989)-002_part_147.mp4\n",
      "📸 Total Frames: 107\n"
     ]
    },
    {
     "name": "stderr",
     "output_type": "stream",
     "text": [
      "Extracting Frames from Batman (1989)-002_part_147.mp4: 100%|██████████| 107/107 [00:00<00:00, 565.56it/s]\n"
     ]
    },
    {
     "name": "stdout",
     "output_type": "stream",
     "text": [
      "✅ Saved frames in: /Users/mario/Desktop/Desktop/UofA/4.Winter-2025/ece-910/Batman/VLM-testing/batman-frames/Batman (1989)-002_part_147\n",
      "\n",
      "🎥 Processing: /Users/mario/Desktop/Desktop/UofA/4.Winter-2025/ece-910/Batman/Batman-(1989)-002/Batman (1989)-002_part_148.mp4\n",
      "📸 Total Frames: 34\n"
     ]
    },
    {
     "name": "stderr",
     "output_type": "stream",
     "text": [
      "Extracting Frames from Batman (1989)-002_part_148.mp4: 100%|██████████| 34/34 [00:00<00:00, 504.96it/s]\n"
     ]
    },
    {
     "name": "stdout",
     "output_type": "stream",
     "text": [
      "✅ Saved frames in: /Users/mario/Desktop/Desktop/UofA/4.Winter-2025/ece-910/Batman/VLM-testing/batman-frames/Batman (1989)-002_part_148\n",
      "\n",
      "🎥 Processing: /Users/mario/Desktop/Desktop/UofA/4.Winter-2025/ece-910/Batman/Batman-(1989)-002/Batman (1989)-002_part_149.mp4\n",
      "📸 Total Frames: 48\n"
     ]
    },
    {
     "name": "stderr",
     "output_type": "stream",
     "text": [
      "Extracting Frames from Batman (1989)-002_part_149.mp4: 100%|██████████| 48/48 [00:00<00:00, 560.31it/s]\n"
     ]
    },
    {
     "name": "stdout",
     "output_type": "stream",
     "text": [
      "✅ Saved frames in: /Users/mario/Desktop/Desktop/UofA/4.Winter-2025/ece-910/Batman/VLM-testing/batman-frames/Batman (1989)-002_part_149\n",
      "\n",
      "🎥 Processing: /Users/mario/Desktop/Desktop/UofA/4.Winter-2025/ece-910/Batman/Batman-(1989)-002/Batman (1989)-002_part_15.mp4\n",
      "📸 Total Frames: 105\n"
     ]
    },
    {
     "name": "stderr",
     "output_type": "stream",
     "text": [
      "Extracting Frames from Batman (1989)-002_part_15.mp4: 100%|██████████| 105/105 [00:00<00:00, 579.03it/s]\n"
     ]
    },
    {
     "name": "stdout",
     "output_type": "stream",
     "text": [
      "✅ Saved frames in: /Users/mario/Desktop/Desktop/UofA/4.Winter-2025/ece-910/Batman/VLM-testing/batman-frames/Batman (1989)-002_part_15\n",
      "\n",
      "🎥 Processing: /Users/mario/Desktop/Desktop/UofA/4.Winter-2025/ece-910/Batman/Batman-(1989)-002/Batman (1989)-002_part_150.mp4\n",
      "📸 Total Frames: 296\n"
     ]
    },
    {
     "name": "stderr",
     "output_type": "stream",
     "text": [
      "Extracting Frames from Batman (1989)-002_part_150.mp4: 100%|██████████| 296/296 [00:00<00:00, 591.01it/s]\n"
     ]
    },
    {
     "name": "stdout",
     "output_type": "stream",
     "text": [
      "✅ Saved frames in: /Users/mario/Desktop/Desktop/UofA/4.Winter-2025/ece-910/Batman/VLM-testing/batman-frames/Batman (1989)-002_part_150\n",
      "\n",
      "🎥 Processing: /Users/mario/Desktop/Desktop/UofA/4.Winter-2025/ece-910/Batman/Batman-(1989)-002/Batman (1989)-002_part_151.mp4\n",
      "📸 Total Frames: 305\n"
     ]
    },
    {
     "name": "stderr",
     "output_type": "stream",
     "text": [
      "Extracting Frames from Batman (1989)-002_part_151.mp4: 100%|██████████| 305/305 [00:00<00:00, 548.87it/s]\n"
     ]
    },
    {
     "name": "stdout",
     "output_type": "stream",
     "text": [
      "✅ Saved frames in: /Users/mario/Desktop/Desktop/UofA/4.Winter-2025/ece-910/Batman/VLM-testing/batman-frames/Batman (1989)-002_part_151\n",
      "\n",
      "🎥 Processing: /Users/mario/Desktop/Desktop/UofA/4.Winter-2025/ece-910/Batman/Batman-(1989)-002/Batman (1989)-002_part_152.mp4\n",
      "📸 Total Frames: 189\n"
     ]
    },
    {
     "name": "stderr",
     "output_type": "stream",
     "text": [
      "Extracting Frames from Batman (1989)-002_part_152.mp4: 100%|██████████| 189/189 [00:00<00:00, 406.74it/s]\n"
     ]
    },
    {
     "name": "stdout",
     "output_type": "stream",
     "text": [
      "✅ Saved frames in: /Users/mario/Desktop/Desktop/UofA/4.Winter-2025/ece-910/Batman/VLM-testing/batman-frames/Batman (1989)-002_part_152\n",
      "\n",
      "🎥 Processing: /Users/mario/Desktop/Desktop/UofA/4.Winter-2025/ece-910/Batman/Batman-(1989)-002/Batman (1989)-002_part_153.mp4\n",
      "📸 Total Frames: 475\n"
     ]
    },
    {
     "name": "stderr",
     "output_type": "stream",
     "text": [
      "Extracting Frames from Batman (1989)-002_part_153.mp4: 100%|██████████| 475/475 [00:00<00:00, 559.50it/s]\n"
     ]
    },
    {
     "name": "stdout",
     "output_type": "stream",
     "text": [
      "✅ Saved frames in: /Users/mario/Desktop/Desktop/UofA/4.Winter-2025/ece-910/Batman/VLM-testing/batman-frames/Batman (1989)-002_part_153\n",
      "\n",
      "🎥 Processing: /Users/mario/Desktop/Desktop/UofA/4.Winter-2025/ece-910/Batman/Batman-(1989)-002/Batman (1989)-002_part_154.mp4\n",
      "📸 Total Frames: 48\n"
     ]
    },
    {
     "name": "stderr",
     "output_type": "stream",
     "text": [
      "Extracting Frames from Batman (1989)-002_part_154.mp4: 100%|██████████| 48/48 [00:00<00:00, 518.25it/s]\n"
     ]
    },
    {
     "name": "stdout",
     "output_type": "stream",
     "text": [
      "✅ Saved frames in: /Users/mario/Desktop/Desktop/UofA/4.Winter-2025/ece-910/Batman/VLM-testing/batman-frames/Batman (1989)-002_part_154\n",
      "\n",
      "🎥 Processing: /Users/mario/Desktop/Desktop/UofA/4.Winter-2025/ece-910/Batman/Batman-(1989)-002/Batman (1989)-002_part_155.mp4\n",
      "📸 Total Frames: 55\n"
     ]
    },
    {
     "name": "stderr",
     "output_type": "stream",
     "text": [
      "Extracting Frames from Batman (1989)-002_part_155.mp4: 100%|██████████| 55/55 [00:00<00:00, 586.18it/s]\n"
     ]
    },
    {
     "name": "stdout",
     "output_type": "stream",
     "text": [
      "✅ Saved frames in: /Users/mario/Desktop/Desktop/UofA/4.Winter-2025/ece-910/Batman/VLM-testing/batman-frames/Batman (1989)-002_part_155\n",
      "\n",
      "🎥 Processing: /Users/mario/Desktop/Desktop/UofA/4.Winter-2025/ece-910/Batman/Batman-(1989)-002/Batman (1989)-002_part_156.mp4\n",
      "📸 Total Frames: 31\n"
     ]
    },
    {
     "name": "stderr",
     "output_type": "stream",
     "text": [
      "Extracting Frames from Batman (1989)-002_part_156.mp4: 100%|██████████| 31/31 [00:00<00:00, 536.56it/s]\n"
     ]
    },
    {
     "name": "stdout",
     "output_type": "stream",
     "text": [
      "✅ Saved frames in: /Users/mario/Desktop/Desktop/UofA/4.Winter-2025/ece-910/Batman/VLM-testing/batman-frames/Batman (1989)-002_part_156\n",
      "\n",
      "🎥 Processing: /Users/mario/Desktop/Desktop/UofA/4.Winter-2025/ece-910/Batman/Batman-(1989)-002/Batman (1989)-002_part_157.mp4\n",
      "📸 Total Frames: 22\n"
     ]
    },
    {
     "name": "stderr",
     "output_type": "stream",
     "text": [
      "Extracting Frames from Batman (1989)-002_part_157.mp4: 100%|██████████| 22/22 [00:00<00:00, 562.33it/s]\n"
     ]
    },
    {
     "name": "stdout",
     "output_type": "stream",
     "text": [
      "✅ Saved frames in: /Users/mario/Desktop/Desktop/UofA/4.Winter-2025/ece-910/Batman/VLM-testing/batman-frames/Batman (1989)-002_part_157\n",
      "\n",
      "🎥 Processing: /Users/mario/Desktop/Desktop/UofA/4.Winter-2025/ece-910/Batman/Batman-(1989)-002/Batman (1989)-002_part_158.mp4\n",
      "📸 Total Frames: 157\n"
     ]
    },
    {
     "name": "stderr",
     "output_type": "stream",
     "text": [
      "Extracting Frames from Batman (1989)-002_part_158.mp4: 100%|██████████| 157/157 [00:00<00:00, 573.48it/s]\n"
     ]
    },
    {
     "name": "stdout",
     "output_type": "stream",
     "text": [
      "✅ Saved frames in: /Users/mario/Desktop/Desktop/UofA/4.Winter-2025/ece-910/Batman/VLM-testing/batman-frames/Batman (1989)-002_part_158\n",
      "\n",
      "🎥 Processing: /Users/mario/Desktop/Desktop/UofA/4.Winter-2025/ece-910/Batman/Batman-(1989)-002/Batman (1989)-002_part_159.mp4\n",
      "📸 Total Frames: 96\n"
     ]
    },
    {
     "name": "stderr",
     "output_type": "stream",
     "text": [
      "Extracting Frames from Batman (1989)-002_part_159.mp4: 100%|██████████| 96/96 [00:00<00:00, 592.34it/s]\n"
     ]
    },
    {
     "name": "stdout",
     "output_type": "stream",
     "text": [
      "✅ Saved frames in: /Users/mario/Desktop/Desktop/UofA/4.Winter-2025/ece-910/Batman/VLM-testing/batman-frames/Batman (1989)-002_part_159\n",
      "\n",
      "🎥 Processing: /Users/mario/Desktop/Desktop/UofA/4.Winter-2025/ece-910/Batman/Batman-(1989)-002/Batman (1989)-002_part_16.mp4\n",
      "📸 Total Frames: 38\n"
     ]
    },
    {
     "name": "stderr",
     "output_type": "stream",
     "text": [
      "Extracting Frames from Batman (1989)-002_part_16.mp4: 100%|██████████| 38/38 [00:00<00:00, 545.13it/s]\n"
     ]
    },
    {
     "name": "stdout",
     "output_type": "stream",
     "text": [
      "✅ Saved frames in: /Users/mario/Desktop/Desktop/UofA/4.Winter-2025/ece-910/Batman/VLM-testing/batman-frames/Batman (1989)-002_part_16\n",
      "\n",
      "🎥 Processing: /Users/mario/Desktop/Desktop/UofA/4.Winter-2025/ece-910/Batman/Batman-(1989)-002/Batman (1989)-002_part_160.mp4\n",
      "📸 Total Frames: 48\n"
     ]
    },
    {
     "name": "stderr",
     "output_type": "stream",
     "text": [
      "Extracting Frames from Batman (1989)-002_part_160.mp4: 100%|██████████| 48/48 [00:00<00:00, 568.59it/s]\n"
     ]
    },
    {
     "name": "stdout",
     "output_type": "stream",
     "text": [
      "✅ Saved frames in: /Users/mario/Desktop/Desktop/UofA/4.Winter-2025/ece-910/Batman/VLM-testing/batman-frames/Batman (1989)-002_part_160\n",
      "\n",
      "🎥 Processing: /Users/mario/Desktop/Desktop/UofA/4.Winter-2025/ece-910/Batman/Batman-(1989)-002/Batman (1989)-002_part_161.mp4\n",
      "📸 Total Frames: 20\n"
     ]
    },
    {
     "name": "stderr",
     "output_type": "stream",
     "text": [
      "Extracting Frames from Batman (1989)-002_part_161.mp4: 100%|██████████| 20/20 [00:00<00:00, 533.12it/s]\n"
     ]
    },
    {
     "name": "stdout",
     "output_type": "stream",
     "text": [
      "✅ Saved frames in: /Users/mario/Desktop/Desktop/UofA/4.Winter-2025/ece-910/Batman/VLM-testing/batman-frames/Batman (1989)-002_part_161\n",
      "\n",
      "🎥 Processing: /Users/mario/Desktop/Desktop/UofA/4.Winter-2025/ece-910/Batman/Batman-(1989)-002/Batman (1989)-002_part_162.mp4\n",
      "📸 Total Frames: 41\n"
     ]
    },
    {
     "name": "stderr",
     "output_type": "stream",
     "text": [
      "Extracting Frames from Batman (1989)-002_part_162.mp4: 100%|██████████| 41/41 [00:00<00:00, 480.82it/s]\n"
     ]
    },
    {
     "name": "stdout",
     "output_type": "stream",
     "text": [
      "✅ Saved frames in: /Users/mario/Desktop/Desktop/UofA/4.Winter-2025/ece-910/Batman/VLM-testing/batman-frames/Batman (1989)-002_part_162\n",
      "\n",
      "🎥 Processing: /Users/mario/Desktop/Desktop/UofA/4.Winter-2025/ece-910/Batman/Batman-(1989)-002/Batman (1989)-002_part_163.mp4\n",
      "📸 Total Frames: 25\n"
     ]
    },
    {
     "name": "stderr",
     "output_type": "stream",
     "text": [
      "Extracting Frames from Batman (1989)-002_part_163.mp4: 100%|██████████| 25/25 [00:00<00:00, 493.14it/s]\n"
     ]
    },
    {
     "name": "stdout",
     "output_type": "stream",
     "text": [
      "✅ Saved frames in: /Users/mario/Desktop/Desktop/UofA/4.Winter-2025/ece-910/Batman/VLM-testing/batman-frames/Batman (1989)-002_part_163\n",
      "\n",
      "🎥 Processing: /Users/mario/Desktop/Desktop/UofA/4.Winter-2025/ece-910/Batman/Batman-(1989)-002/Batman (1989)-002_part_164.mp4\n",
      "📸 Total Frames: 28\n"
     ]
    },
    {
     "name": "stderr",
     "output_type": "stream",
     "text": [
      "Extracting Frames from Batman (1989)-002_part_164.mp4: 100%|██████████| 28/28 [00:00<00:00, 519.56it/s]\n"
     ]
    },
    {
     "name": "stdout",
     "output_type": "stream",
     "text": [
      "✅ Saved frames in: /Users/mario/Desktop/Desktop/UofA/4.Winter-2025/ece-910/Batman/VLM-testing/batman-frames/Batman (1989)-002_part_164\n",
      "\n",
      "🎥 Processing: /Users/mario/Desktop/Desktop/UofA/4.Winter-2025/ece-910/Batman/Batman-(1989)-002/Batman (1989)-002_part_165.mp4\n",
      "📸 Total Frames: 12\n"
     ]
    },
    {
     "name": "stderr",
     "output_type": "stream",
     "text": [
      "Extracting Frames from Batman (1989)-002_part_165.mp4: 100%|██████████| 12/12 [00:00<00:00, 473.76it/s]\n"
     ]
    },
    {
     "name": "stdout",
     "output_type": "stream",
     "text": [
      "✅ Saved frames in: /Users/mario/Desktop/Desktop/UofA/4.Winter-2025/ece-910/Batman/VLM-testing/batman-frames/Batman (1989)-002_part_165\n",
      "\n",
      "🎥 Processing: /Users/mario/Desktop/Desktop/UofA/4.Winter-2025/ece-910/Batman/Batman-(1989)-002/Batman (1989)-002_part_166.mp4\n",
      "📸 Total Frames: 14\n"
     ]
    },
    {
     "name": "stderr",
     "output_type": "stream",
     "text": [
      "Extracting Frames from Batman (1989)-002_part_166.mp4: 100%|██████████| 14/14 [00:00<00:00, 460.74it/s]\n"
     ]
    },
    {
     "name": "stdout",
     "output_type": "stream",
     "text": [
      "✅ Saved frames in: /Users/mario/Desktop/Desktop/UofA/4.Winter-2025/ece-910/Batman/VLM-testing/batman-frames/Batman (1989)-002_part_166\n",
      "\n",
      "🎥 Processing: /Users/mario/Desktop/Desktop/UofA/4.Winter-2025/ece-910/Batman/Batman-(1989)-002/Batman (1989)-002_part_167.mp4\n",
      "📸 Total Frames: 26\n"
     ]
    },
    {
     "name": "stderr",
     "output_type": "stream",
     "text": [
      "Extracting Frames from Batman (1989)-002_part_167.mp4: 100%|██████████| 26/26 [00:00<00:00, 517.68it/s]\n"
     ]
    },
    {
     "name": "stdout",
     "output_type": "stream",
     "text": [
      "✅ Saved frames in: /Users/mario/Desktop/Desktop/UofA/4.Winter-2025/ece-910/Batman/VLM-testing/batman-frames/Batman (1989)-002_part_167\n",
      "\n",
      "🎥 Processing: /Users/mario/Desktop/Desktop/UofA/4.Winter-2025/ece-910/Batman/Batman-(1989)-002/Batman (1989)-002_part_168.mp4\n",
      "📸 Total Frames: 43\n"
     ]
    },
    {
     "name": "stderr",
     "output_type": "stream",
     "text": [
      "Extracting Frames from Batman (1989)-002_part_168.mp4: 100%|██████████| 43/43 [00:00<00:00, 228.81it/s]\n"
     ]
    },
    {
     "name": "stdout",
     "output_type": "stream",
     "text": [
      "✅ Saved frames in: /Users/mario/Desktop/Desktop/UofA/4.Winter-2025/ece-910/Batman/VLM-testing/batman-frames/Batman (1989)-002_part_168\n",
      "\n",
      "🎥 Processing: /Users/mario/Desktop/Desktop/UofA/4.Winter-2025/ece-910/Batman/Batman-(1989)-002/Batman (1989)-002_part_169.mp4\n",
      "📸 Total Frames: 410\n"
     ]
    },
    {
     "name": "stderr",
     "output_type": "stream",
     "text": [
      "Extracting Frames from Batman (1989)-002_part_169.mp4: 100%|██████████| 410/410 [00:00<00:00, 609.45it/s]\n"
     ]
    },
    {
     "name": "stdout",
     "output_type": "stream",
     "text": [
      "✅ Saved frames in: /Users/mario/Desktop/Desktop/UofA/4.Winter-2025/ece-910/Batman/VLM-testing/batman-frames/Batman (1989)-002_part_169\n",
      "\n",
      "🎥 Processing: /Users/mario/Desktop/Desktop/UofA/4.Winter-2025/ece-910/Batman/Batman-(1989)-002/Batman (1989)-002_part_17.mp4\n",
      "📸 Total Frames: 22\n"
     ]
    },
    {
     "name": "stderr",
     "output_type": "stream",
     "text": [
      "Extracting Frames from Batman (1989)-002_part_17.mp4: 100%|██████████| 22/22 [00:00<00:00, 539.32it/s]\n"
     ]
    },
    {
     "name": "stdout",
     "output_type": "stream",
     "text": [
      "✅ Saved frames in: /Users/mario/Desktop/Desktop/UofA/4.Winter-2025/ece-910/Batman/VLM-testing/batman-frames/Batman (1989)-002_part_17\n",
      "\n",
      "🎥 Processing: /Users/mario/Desktop/Desktop/UofA/4.Winter-2025/ece-910/Batman/Batman-(1989)-002/Batman (1989)-002_part_170.mp4\n",
      "📸 Total Frames: 59\n"
     ]
    },
    {
     "name": "stderr",
     "output_type": "stream",
     "text": [
      "Extracting Frames from Batman (1989)-002_part_170.mp4: 100%|██████████| 59/59 [00:00<00:00, 571.81it/s]\n"
     ]
    },
    {
     "name": "stdout",
     "output_type": "stream",
     "text": [
      "✅ Saved frames in: /Users/mario/Desktop/Desktop/UofA/4.Winter-2025/ece-910/Batman/VLM-testing/batman-frames/Batman (1989)-002_part_170\n",
      "\n",
      "🎥 Processing: /Users/mario/Desktop/Desktop/UofA/4.Winter-2025/ece-910/Batman/Batman-(1989)-002/Batman (1989)-002_part_171.mp4\n",
      "📸 Total Frames: 28\n"
     ]
    },
    {
     "name": "stderr",
     "output_type": "stream",
     "text": [
      "Extracting Frames from Batman (1989)-002_part_171.mp4: 100%|██████████| 28/28 [00:00<00:00, 493.66it/s]\n"
     ]
    },
    {
     "name": "stdout",
     "output_type": "stream",
     "text": [
      "✅ Saved frames in: /Users/mario/Desktop/Desktop/UofA/4.Winter-2025/ece-910/Batman/VLM-testing/batman-frames/Batman (1989)-002_part_171\n",
      "\n",
      "🎥 Processing: /Users/mario/Desktop/Desktop/UofA/4.Winter-2025/ece-910/Batman/Batman-(1989)-002/Batman (1989)-002_part_172.mp4\n",
      "📸 Total Frames: 44\n"
     ]
    },
    {
     "name": "stderr",
     "output_type": "stream",
     "text": [
      "Extracting Frames from Batman (1989)-002_part_172.mp4: 100%|██████████| 44/44 [00:00<00:00, 565.27it/s]\n"
     ]
    },
    {
     "name": "stdout",
     "output_type": "stream",
     "text": [
      "✅ Saved frames in: /Users/mario/Desktop/Desktop/UofA/4.Winter-2025/ece-910/Batman/VLM-testing/batman-frames/Batman (1989)-002_part_172\n",
      "\n",
      "🎥 Processing: /Users/mario/Desktop/Desktop/UofA/4.Winter-2025/ece-910/Batman/Batman-(1989)-002/Batman (1989)-002_part_173.mp4\n",
      "📸 Total Frames: 35\n"
     ]
    },
    {
     "name": "stderr",
     "output_type": "stream",
     "text": [
      "Extracting Frames from Batman (1989)-002_part_173.mp4: 100%|██████████| 35/35 [00:00<00:00, 517.29it/s]\n"
     ]
    },
    {
     "name": "stdout",
     "output_type": "stream",
     "text": [
      "✅ Saved frames in: /Users/mario/Desktop/Desktop/UofA/4.Winter-2025/ece-910/Batman/VLM-testing/batman-frames/Batman (1989)-002_part_173\n",
      "\n",
      "🎥 Processing: /Users/mario/Desktop/Desktop/UofA/4.Winter-2025/ece-910/Batman/Batman-(1989)-002/Batman (1989)-002_part_174.mp4\n",
      "📸 Total Frames: 26\n"
     ]
    },
    {
     "name": "stderr",
     "output_type": "stream",
     "text": [
      "Extracting Frames from Batman (1989)-002_part_174.mp4: 100%|██████████| 26/26 [00:00<00:00, 450.93it/s]\n"
     ]
    },
    {
     "name": "stdout",
     "output_type": "stream",
     "text": [
      "✅ Saved frames in: /Users/mario/Desktop/Desktop/UofA/4.Winter-2025/ece-910/Batman/VLM-testing/batman-frames/Batman (1989)-002_part_174\n",
      "\n",
      "🎥 Processing: /Users/mario/Desktop/Desktop/UofA/4.Winter-2025/ece-910/Batman/Batman-(1989)-002/Batman (1989)-002_part_175.mp4\n",
      "📸 Total Frames: 31\n"
     ]
    },
    {
     "name": "stderr",
     "output_type": "stream",
     "text": [
      "Extracting Frames from Batman (1989)-002_part_175.mp4: 100%|██████████| 31/31 [00:00<00:00, 479.47it/s]\n"
     ]
    },
    {
     "name": "stdout",
     "output_type": "stream",
     "text": [
      "✅ Saved frames in: /Users/mario/Desktop/Desktop/UofA/4.Winter-2025/ece-910/Batman/VLM-testing/batman-frames/Batman (1989)-002_part_175\n",
      "\n",
      "🎥 Processing: /Users/mario/Desktop/Desktop/UofA/4.Winter-2025/ece-910/Batman/Batman-(1989)-002/Batman (1989)-002_part_176.mp4\n",
      "📸 Total Frames: 208\n"
     ]
    },
    {
     "name": "stderr",
     "output_type": "stream",
     "text": [
      "Extracting Frames from Batman (1989)-002_part_176.mp4: 100%|██████████| 208/208 [00:00<00:00, 610.77it/s]\n"
     ]
    },
    {
     "name": "stdout",
     "output_type": "stream",
     "text": [
      "✅ Saved frames in: /Users/mario/Desktop/Desktop/UofA/4.Winter-2025/ece-910/Batman/VLM-testing/batman-frames/Batman (1989)-002_part_176\n",
      "\n",
      "🎥 Processing: /Users/mario/Desktop/Desktop/UofA/4.Winter-2025/ece-910/Batman/Batman-(1989)-002/Batman (1989)-002_part_177.mp4\n",
      "📸 Total Frames: 129\n"
     ]
    },
    {
     "name": "stderr",
     "output_type": "stream",
     "text": [
      "Extracting Frames from Batman (1989)-002_part_177.mp4: 100%|██████████| 129/129 [00:00<00:00, 595.47it/s]\n"
     ]
    },
    {
     "name": "stdout",
     "output_type": "stream",
     "text": [
      "✅ Saved frames in: /Users/mario/Desktop/Desktop/UofA/4.Winter-2025/ece-910/Batman/VLM-testing/batman-frames/Batman (1989)-002_part_177\n",
      "\n",
      "🎥 Processing: /Users/mario/Desktop/Desktop/UofA/4.Winter-2025/ece-910/Batman/Batman-(1989)-002/Batman (1989)-002_part_178.mp4\n",
      "📸 Total Frames: 62\n"
     ]
    },
    {
     "name": "stderr",
     "output_type": "stream",
     "text": [
      "Extracting Frames from Batman (1989)-002_part_178.mp4: 100%|██████████| 62/62 [00:00<00:00, 328.17it/s]\n"
     ]
    },
    {
     "name": "stdout",
     "output_type": "stream",
     "text": [
      "✅ Saved frames in: /Users/mario/Desktop/Desktop/UofA/4.Winter-2025/ece-910/Batman/VLM-testing/batman-frames/Batman (1989)-002_part_178\n",
      "\n",
      "🎥 Processing: /Users/mario/Desktop/Desktop/UofA/4.Winter-2025/ece-910/Batman/Batman-(1989)-002/Batman (1989)-002_part_179.mp4\n",
      "📸 Total Frames: 147\n"
     ]
    },
    {
     "name": "stderr",
     "output_type": "stream",
     "text": [
      "Extracting Frames from Batman (1989)-002_part_179.mp4: 100%|██████████| 147/147 [00:00<00:00, 575.19it/s]\n"
     ]
    },
    {
     "name": "stdout",
     "output_type": "stream",
     "text": [
      "✅ Saved frames in: /Users/mario/Desktop/Desktop/UofA/4.Winter-2025/ece-910/Batman/VLM-testing/batman-frames/Batman (1989)-002_part_179\n",
      "\n",
      "🎥 Processing: /Users/mario/Desktop/Desktop/UofA/4.Winter-2025/ece-910/Batman/Batman-(1989)-002/Batman (1989)-002_part_18.mp4\n",
      "📸 Total Frames: 151\n"
     ]
    },
    {
     "name": "stderr",
     "output_type": "stream",
     "text": [
      "Extracting Frames from Batman (1989)-002_part_18.mp4: 100%|██████████| 151/151 [00:00<00:00, 593.09it/s]\n"
     ]
    },
    {
     "name": "stdout",
     "output_type": "stream",
     "text": [
      "✅ Saved frames in: /Users/mario/Desktop/Desktop/UofA/4.Winter-2025/ece-910/Batman/VLM-testing/batman-frames/Batman (1989)-002_part_18\n",
      "\n",
      "🎥 Processing: /Users/mario/Desktop/Desktop/UofA/4.Winter-2025/ece-910/Batman/Batman-(1989)-002/Batman (1989)-002_part_180.mp4\n",
      "📸 Total Frames: 18\n"
     ]
    },
    {
     "name": "stderr",
     "output_type": "stream",
     "text": [
      "Extracting Frames from Batman (1989)-002_part_180.mp4: 100%|██████████| 18/18 [00:00<00:00, 502.63it/s]\n"
     ]
    },
    {
     "name": "stdout",
     "output_type": "stream",
     "text": [
      "✅ Saved frames in: /Users/mario/Desktop/Desktop/UofA/4.Winter-2025/ece-910/Batman/VLM-testing/batman-frames/Batman (1989)-002_part_180\n",
      "\n",
      "🎥 Processing: /Users/mario/Desktop/Desktop/UofA/4.Winter-2025/ece-910/Batman/Batman-(1989)-002/Batman (1989)-002_part_181.mp4\n",
      "📸 Total Frames: 127\n"
     ]
    },
    {
     "name": "stderr",
     "output_type": "stream",
     "text": [
      "Extracting Frames from Batman (1989)-002_part_181.mp4: 100%|██████████| 127/127 [00:00<00:00, 395.29it/s]\n"
     ]
    },
    {
     "name": "stdout",
     "output_type": "stream",
     "text": [
      "✅ Saved frames in: /Users/mario/Desktop/Desktop/UofA/4.Winter-2025/ece-910/Batman/VLM-testing/batman-frames/Batman (1989)-002_part_181\n",
      "\n",
      "🎥 Processing: /Users/mario/Desktop/Desktop/UofA/4.Winter-2025/ece-910/Batman/Batman-(1989)-002/Batman (1989)-002_part_182.mp4\n",
      "📸 Total Frames: 52\n"
     ]
    },
    {
     "name": "stderr",
     "output_type": "stream",
     "text": [
      "Extracting Frames from Batman (1989)-002_part_182.mp4: 100%|██████████| 52/52 [00:00<00:00, 504.92it/s]\n"
     ]
    },
    {
     "name": "stdout",
     "output_type": "stream",
     "text": [
      "✅ Saved frames in: /Users/mario/Desktop/Desktop/UofA/4.Winter-2025/ece-910/Batman/VLM-testing/batman-frames/Batman (1989)-002_part_182\n",
      "\n",
      "🎥 Processing: /Users/mario/Desktop/Desktop/UofA/4.Winter-2025/ece-910/Batman/Batman-(1989)-002/Batman (1989)-002_part_183.mp4\n",
      "📸 Total Frames: 91\n"
     ]
    },
    {
     "name": "stderr",
     "output_type": "stream",
     "text": [
      "Extracting Frames from Batman (1989)-002_part_183.mp4: 100%|██████████| 91/91 [00:00<00:00, 560.83it/s]\n"
     ]
    },
    {
     "name": "stdout",
     "output_type": "stream",
     "text": [
      "✅ Saved frames in: /Users/mario/Desktop/Desktop/UofA/4.Winter-2025/ece-910/Batman/VLM-testing/batman-frames/Batman (1989)-002_part_183\n",
      "\n",
      "🎥 Processing: /Users/mario/Desktop/Desktop/UofA/4.Winter-2025/ece-910/Batman/Batman-(1989)-002/Batman (1989)-002_part_184.mp4\n",
      "📸 Total Frames: 6\n"
     ]
    },
    {
     "name": "stderr",
     "output_type": "stream",
     "text": [
      "Extracting Frames from Batman (1989)-002_part_184.mp4: 100%|██████████| 6/6 [00:00<00:00, 460.87it/s]\n"
     ]
    },
    {
     "name": "stdout",
     "output_type": "stream",
     "text": [
      "✅ Saved frames in: /Users/mario/Desktop/Desktop/UofA/4.Winter-2025/ece-910/Batman/VLM-testing/batman-frames/Batman (1989)-002_part_184\n",
      "\n",
      "🎥 Processing: /Users/mario/Desktop/Desktop/UofA/4.Winter-2025/ece-910/Batman/Batman-(1989)-002/Batman (1989)-002_part_185.mp4\n",
      "📸 Total Frames: 4\n"
     ]
    },
    {
     "name": "stderr",
     "output_type": "stream",
     "text": [
      "Extracting Frames from Batman (1989)-002_part_185.mp4: 100%|██████████| 4/4 [00:00<00:00, 377.71it/s]\n"
     ]
    },
    {
     "name": "stdout",
     "output_type": "stream",
     "text": [
      "✅ Saved frames in: /Users/mario/Desktop/Desktop/UofA/4.Winter-2025/ece-910/Batman/VLM-testing/batman-frames/Batman (1989)-002_part_185\n",
      "\n",
      "🎥 Processing: /Users/mario/Desktop/Desktop/UofA/4.Winter-2025/ece-910/Batman/Batman-(1989)-002/Batman (1989)-002_part_186.mp4\n",
      "📸 Total Frames: 169\n"
     ]
    },
    {
     "name": "stderr",
     "output_type": "stream",
     "text": [
      "Extracting Frames from Batman (1989)-002_part_186.mp4: 100%|██████████| 169/169 [00:00<00:00, 589.58it/s]\n"
     ]
    },
    {
     "name": "stdout",
     "output_type": "stream",
     "text": [
      "✅ Saved frames in: /Users/mario/Desktop/Desktop/UofA/4.Winter-2025/ece-910/Batman/VLM-testing/batman-frames/Batman (1989)-002_part_186\n",
      "\n",
      "🎥 Processing: /Users/mario/Desktop/Desktop/UofA/4.Winter-2025/ece-910/Batman/Batman-(1989)-002/Batman (1989)-002_part_187.mp4\n",
      "📸 Total Frames: 18\n"
     ]
    },
    {
     "name": "stderr",
     "output_type": "stream",
     "text": [
      "Extracting Frames from Batman (1989)-002_part_187.mp4: 100%|██████████| 18/18 [00:00<00:00, 535.81it/s]\n"
     ]
    },
    {
     "name": "stdout",
     "output_type": "stream",
     "text": [
      "✅ Saved frames in: /Users/mario/Desktop/Desktop/UofA/4.Winter-2025/ece-910/Batman/VLM-testing/batman-frames/Batman (1989)-002_part_187\n",
      "\n",
      "🎥 Processing: /Users/mario/Desktop/Desktop/UofA/4.Winter-2025/ece-910/Batman/Batman-(1989)-002/Batman (1989)-002_part_188.mp4\n",
      "📸 Total Frames: 35\n"
     ]
    },
    {
     "name": "stderr",
     "output_type": "stream",
     "text": [
      "Extracting Frames from Batman (1989)-002_part_188.mp4: 100%|██████████| 35/35 [00:00<00:00, 451.64it/s]\n"
     ]
    },
    {
     "name": "stdout",
     "output_type": "stream",
     "text": [
      "✅ Saved frames in: /Users/mario/Desktop/Desktop/UofA/4.Winter-2025/ece-910/Batman/VLM-testing/batman-frames/Batman (1989)-002_part_188\n",
      "\n",
      "🎥 Processing: /Users/mario/Desktop/Desktop/UofA/4.Winter-2025/ece-910/Batman/Batman-(1989)-002/Batman (1989)-002_part_189.mp4\n",
      "📸 Total Frames: 22\n"
     ]
    },
    {
     "name": "stderr",
     "output_type": "stream",
     "text": [
      "Extracting Frames from Batman (1989)-002_part_189.mp4: 100%|██████████| 22/22 [00:00<00:00, 542.90it/s]\n"
     ]
    },
    {
     "name": "stdout",
     "output_type": "stream",
     "text": [
      "✅ Saved frames in: /Users/mario/Desktop/Desktop/UofA/4.Winter-2025/ece-910/Batman/VLM-testing/batman-frames/Batman (1989)-002_part_189\n",
      "\n",
      "🎥 Processing: /Users/mario/Desktop/Desktop/UofA/4.Winter-2025/ece-910/Batman/Batman-(1989)-002/Batman (1989)-002_part_19.mp4\n",
      "📸 Total Frames: 135\n"
     ]
    },
    {
     "name": "stderr",
     "output_type": "stream",
     "text": [
      "Extracting Frames from Batman (1989)-002_part_19.mp4: 100%|██████████| 135/135 [00:00<00:00, 593.26it/s]\n"
     ]
    },
    {
     "name": "stdout",
     "output_type": "stream",
     "text": [
      "✅ Saved frames in: /Users/mario/Desktop/Desktop/UofA/4.Winter-2025/ece-910/Batman/VLM-testing/batman-frames/Batman (1989)-002_part_19\n",
      "\n",
      "🎥 Processing: /Users/mario/Desktop/Desktop/UofA/4.Winter-2025/ece-910/Batman/Batman-(1989)-002/Batman (1989)-002_part_190.mp4\n",
      "📸 Total Frames: 44\n"
     ]
    },
    {
     "name": "stderr",
     "output_type": "stream",
     "text": [
      "Extracting Frames from Batman (1989)-002_part_190.mp4: 100%|██████████| 44/44 [00:00<00:00, 486.41it/s]\n"
     ]
    },
    {
     "name": "stdout",
     "output_type": "stream",
     "text": [
      "✅ Saved frames in: /Users/mario/Desktop/Desktop/UofA/4.Winter-2025/ece-910/Batman/VLM-testing/batman-frames/Batman (1989)-002_part_190\n",
      "\n",
      "🎥 Processing: /Users/mario/Desktop/Desktop/UofA/4.Winter-2025/ece-910/Batman/Batman-(1989)-002/Batman (1989)-002_part_191.mp4\n",
      "📸 Total Frames: 42\n"
     ]
    },
    {
     "name": "stderr",
     "output_type": "stream",
     "text": [
      "Extracting Frames from Batman (1989)-002_part_191.mp4: 100%|██████████| 42/42 [00:00<00:00, 565.73it/s]\n"
     ]
    },
    {
     "name": "stdout",
     "output_type": "stream",
     "text": [
      "✅ Saved frames in: /Users/mario/Desktop/Desktop/UofA/4.Winter-2025/ece-910/Batman/VLM-testing/batman-frames/Batman (1989)-002_part_191\n",
      "\n",
      "🎥 Processing: /Users/mario/Desktop/Desktop/UofA/4.Winter-2025/ece-910/Batman/Batman-(1989)-002/Batman (1989)-002_part_192.mp4\n",
      "📸 Total Frames: 60\n"
     ]
    },
    {
     "name": "stderr",
     "output_type": "stream",
     "text": [
      "Extracting Frames from Batman (1989)-002_part_192.mp4: 100%|██████████| 60/60 [00:00<00:00, 561.03it/s]\n"
     ]
    },
    {
     "name": "stdout",
     "output_type": "stream",
     "text": [
      "✅ Saved frames in: /Users/mario/Desktop/Desktop/UofA/4.Winter-2025/ece-910/Batman/VLM-testing/batman-frames/Batman (1989)-002_part_192\n",
      "\n",
      "🎥 Processing: /Users/mario/Desktop/Desktop/UofA/4.Winter-2025/ece-910/Batman/Batman-(1989)-002/Batman (1989)-002_part_193.mp4\n",
      "📸 Total Frames: 70\n"
     ]
    },
    {
     "name": "stderr",
     "output_type": "stream",
     "text": [
      "Extracting Frames from Batman (1989)-002_part_193.mp4: 100%|██████████| 70/70 [00:00<00:00, 526.29it/s]\n"
     ]
    },
    {
     "name": "stdout",
     "output_type": "stream",
     "text": [
      "✅ Saved frames in: /Users/mario/Desktop/Desktop/UofA/4.Winter-2025/ece-910/Batman/VLM-testing/batman-frames/Batman (1989)-002_part_193\n",
      "\n",
      "🎥 Processing: /Users/mario/Desktop/Desktop/UofA/4.Winter-2025/ece-910/Batman/Batman-(1989)-002/Batman (1989)-002_part_194.mp4\n",
      "📸 Total Frames: 7\n"
     ]
    },
    {
     "name": "stderr",
     "output_type": "stream",
     "text": [
      "Extracting Frames from Batman (1989)-002_part_194.mp4: 100%|██████████| 7/7 [00:00<00:00, 433.62it/s]\n"
     ]
    },
    {
     "name": "stdout",
     "output_type": "stream",
     "text": [
      "✅ Saved frames in: /Users/mario/Desktop/Desktop/UofA/4.Winter-2025/ece-910/Batman/VLM-testing/batman-frames/Batman (1989)-002_part_194\n",
      "\n",
      "🎥 Processing: /Users/mario/Desktop/Desktop/UofA/4.Winter-2025/ece-910/Batman/Batman-(1989)-002/Batman (1989)-002_part_195.mp4\n",
      "📸 Total Frames: 225\n"
     ]
    },
    {
     "name": "stderr",
     "output_type": "stream",
     "text": [
      "Extracting Frames from Batman (1989)-002_part_195.mp4: 100%|██████████| 225/225 [00:00<00:00, 593.16it/s]\n"
     ]
    },
    {
     "name": "stdout",
     "output_type": "stream",
     "text": [
      "✅ Saved frames in: /Users/mario/Desktop/Desktop/UofA/4.Winter-2025/ece-910/Batman/VLM-testing/batman-frames/Batman (1989)-002_part_195\n",
      "\n",
      "🎥 Processing: /Users/mario/Desktop/Desktop/UofA/4.Winter-2025/ece-910/Batman/Batman-(1989)-002/Batman (1989)-002_part_196.mp4\n",
      "📸 Total Frames: 32\n"
     ]
    },
    {
     "name": "stderr",
     "output_type": "stream",
     "text": [
      "Extracting Frames from Batman (1989)-002_part_196.mp4: 100%|██████████| 32/32 [00:00<00:00, 544.47it/s]\n"
     ]
    },
    {
     "name": "stdout",
     "output_type": "stream",
     "text": [
      "✅ Saved frames in: /Users/mario/Desktop/Desktop/UofA/4.Winter-2025/ece-910/Batman/VLM-testing/batman-frames/Batman (1989)-002_part_196\n",
      "\n",
      "🎥 Processing: /Users/mario/Desktop/Desktop/UofA/4.Winter-2025/ece-910/Batman/Batman-(1989)-002/Batman (1989)-002_part_197.mp4\n",
      "📸 Total Frames: 190\n"
     ]
    },
    {
     "name": "stderr",
     "output_type": "stream",
     "text": [
      "Extracting Frames from Batman (1989)-002_part_197.mp4: 100%|██████████| 190/190 [00:00<00:00, 461.27it/s]\n"
     ]
    },
    {
     "name": "stdout",
     "output_type": "stream",
     "text": [
      "✅ Saved frames in: /Users/mario/Desktop/Desktop/UofA/4.Winter-2025/ece-910/Batman/VLM-testing/batman-frames/Batman (1989)-002_part_197\n",
      "\n",
      "🎥 Processing: /Users/mario/Desktop/Desktop/UofA/4.Winter-2025/ece-910/Batman/Batman-(1989)-002/Batman (1989)-002_part_198.mp4\n",
      "📸 Total Frames: 38\n"
     ]
    },
    {
     "name": "stderr",
     "output_type": "stream",
     "text": [
      "Extracting Frames from Batman (1989)-002_part_198.mp4: 100%|██████████| 38/38 [00:00<00:00, 547.59it/s]\n"
     ]
    },
    {
     "name": "stdout",
     "output_type": "stream",
     "text": [
      "✅ Saved frames in: /Users/mario/Desktop/Desktop/UofA/4.Winter-2025/ece-910/Batman/VLM-testing/batman-frames/Batman (1989)-002_part_198\n",
      "\n",
      "🎥 Processing: /Users/mario/Desktop/Desktop/UofA/4.Winter-2025/ece-910/Batman/Batman-(1989)-002/Batman (1989)-002_part_199.mp4\n",
      "📸 Total Frames: 39\n"
     ]
    },
    {
     "name": "stderr",
     "output_type": "stream",
     "text": [
      "Extracting Frames from Batman (1989)-002_part_199.mp4: 100%|██████████| 39/39 [00:00<00:00, 521.15it/s]\n"
     ]
    },
    {
     "name": "stdout",
     "output_type": "stream",
     "text": [
      "✅ Saved frames in: /Users/mario/Desktop/Desktop/UofA/4.Winter-2025/ece-910/Batman/VLM-testing/batman-frames/Batman (1989)-002_part_199\n",
      "\n",
      "🎥 Processing: /Users/mario/Desktop/Desktop/UofA/4.Winter-2025/ece-910/Batman/Batman-(1989)-002/Batman (1989)-002_part_2.mp4\n",
      "📸 Total Frames: 4993\n"
     ]
    },
    {
     "name": "stderr",
     "output_type": "stream",
     "text": [
      "Extracting Frames from Batman (1989)-002_part_2.mp4: 100%|██████████| 4993/4993 [00:08<00:00, 614.00it/s]\n"
     ]
    },
    {
     "name": "stdout",
     "output_type": "stream",
     "text": [
      "✅ Saved frames in: /Users/mario/Desktop/Desktop/UofA/4.Winter-2025/ece-910/Batman/VLM-testing/batman-frames/Batman (1989)-002_part_2\n",
      "\n",
      "🎥 Processing: /Users/mario/Desktop/Desktop/UofA/4.Winter-2025/ece-910/Batman/Batman-(1989)-002/Batman (1989)-002_part_20.mp4\n",
      "📸 Total Frames: 493\n"
     ]
    },
    {
     "name": "stderr",
     "output_type": "stream",
     "text": [
      "Extracting Frames from Batman (1989)-002_part_20.mp4: 100%|██████████| 493/493 [00:00<00:00, 603.98it/s]\n"
     ]
    },
    {
     "name": "stdout",
     "output_type": "stream",
     "text": [
      "✅ Saved frames in: /Users/mario/Desktop/Desktop/UofA/4.Winter-2025/ece-910/Batman/VLM-testing/batman-frames/Batman (1989)-002_part_20\n",
      "\n",
      "🎥 Processing: /Users/mario/Desktop/Desktop/UofA/4.Winter-2025/ece-910/Batman/Batman-(1989)-002/Batman (1989)-002_part_200.mp4\n",
      "📸 Total Frames: 55\n"
     ]
    },
    {
     "name": "stderr",
     "output_type": "stream",
     "text": [
      "Extracting Frames from Batman (1989)-002_part_200.mp4: 100%|██████████| 55/55 [00:00<00:00, 559.90it/s]\n"
     ]
    },
    {
     "name": "stdout",
     "output_type": "stream",
     "text": [
      "✅ Saved frames in: /Users/mario/Desktop/Desktop/UofA/4.Winter-2025/ece-910/Batman/VLM-testing/batman-frames/Batman (1989)-002_part_200\n",
      "\n",
      "🎥 Processing: /Users/mario/Desktop/Desktop/UofA/4.Winter-2025/ece-910/Batman/Batman-(1989)-002/Batman (1989)-002_part_201.mp4\n",
      "📸 Total Frames: 9\n"
     ]
    },
    {
     "name": "stderr",
     "output_type": "stream",
     "text": [
      "Extracting Frames from Batman (1989)-002_part_201.mp4: 100%|██████████| 9/9 [00:00<00:00, 381.68it/s]\n"
     ]
    },
    {
     "name": "stdout",
     "output_type": "stream",
     "text": [
      "✅ Saved frames in: /Users/mario/Desktop/Desktop/UofA/4.Winter-2025/ece-910/Batman/VLM-testing/batman-frames/Batman (1989)-002_part_201\n",
      "\n",
      "🎥 Processing: /Users/mario/Desktop/Desktop/UofA/4.Winter-2025/ece-910/Batman/Batman-(1989)-002/Batman (1989)-002_part_202.mp4\n",
      "📸 Total Frames: 20\n"
     ]
    },
    {
     "name": "stderr",
     "output_type": "stream",
     "text": [
      "Extracting Frames from Batman (1989)-002_part_202.mp4: 100%|██████████| 20/20 [00:00<00:00, 495.10it/s]\n"
     ]
    },
    {
     "name": "stdout",
     "output_type": "stream",
     "text": [
      "✅ Saved frames in: /Users/mario/Desktop/Desktop/UofA/4.Winter-2025/ece-910/Batman/VLM-testing/batman-frames/Batman (1989)-002_part_202\n",
      "\n",
      "🎥 Processing: /Users/mario/Desktop/Desktop/UofA/4.Winter-2025/ece-910/Batman/Batman-(1989)-002/Batman (1989)-002_part_203.mp4\n",
      "📸 Total Frames: 26\n"
     ]
    },
    {
     "name": "stderr",
     "output_type": "stream",
     "text": [
      "Extracting Frames from Batman (1989)-002_part_203.mp4: 100%|██████████| 26/26 [00:00<00:00, 485.77it/s]\n"
     ]
    },
    {
     "name": "stdout",
     "output_type": "stream",
     "text": [
      "✅ Saved frames in: /Users/mario/Desktop/Desktop/UofA/4.Winter-2025/ece-910/Batman/VLM-testing/batman-frames/Batman (1989)-002_part_203\n",
      "\n",
      "🎥 Processing: /Users/mario/Desktop/Desktop/UofA/4.Winter-2025/ece-910/Batman/Batman-(1989)-002/Batman (1989)-002_part_204.mp4\n",
      "📸 Total Frames: 69\n"
     ]
    },
    {
     "name": "stderr",
     "output_type": "stream",
     "text": [
      "Extracting Frames from Batman (1989)-002_part_204.mp4: 100%|██████████| 69/69 [00:00<00:00, 556.33it/s]\n"
     ]
    },
    {
     "name": "stdout",
     "output_type": "stream",
     "text": [
      "✅ Saved frames in: /Users/mario/Desktop/Desktop/UofA/4.Winter-2025/ece-910/Batman/VLM-testing/batman-frames/Batman (1989)-002_part_204\n",
      "\n",
      "🎥 Processing: /Users/mario/Desktop/Desktop/UofA/4.Winter-2025/ece-910/Batman/Batman-(1989)-002/Batman (1989)-002_part_205.mp4\n",
      "📸 Total Frames: 36\n"
     ]
    },
    {
     "name": "stderr",
     "output_type": "stream",
     "text": [
      "Extracting Frames from Batman (1989)-002_part_205.mp4: 100%|██████████| 36/36 [00:00<00:00, 508.28it/s]\n"
     ]
    },
    {
     "name": "stdout",
     "output_type": "stream",
     "text": [
      "✅ Saved frames in: /Users/mario/Desktop/Desktop/UofA/4.Winter-2025/ece-910/Batman/VLM-testing/batman-frames/Batman (1989)-002_part_205\n",
      "\n",
      "🎥 Processing: /Users/mario/Desktop/Desktop/UofA/4.Winter-2025/ece-910/Batman/Batman-(1989)-002/Batman (1989)-002_part_206.mp4\n",
      "📸 Total Frames: 80\n"
     ]
    },
    {
     "name": "stderr",
     "output_type": "stream",
     "text": [
      "Extracting Frames from Batman (1989)-002_part_206.mp4: 100%|██████████| 80/80 [00:00<00:00, 567.07it/s]\n"
     ]
    },
    {
     "name": "stdout",
     "output_type": "stream",
     "text": [
      "✅ Saved frames in: /Users/mario/Desktop/Desktop/UofA/4.Winter-2025/ece-910/Batman/VLM-testing/batman-frames/Batman (1989)-002_part_206\n",
      "\n",
      "🎥 Processing: /Users/mario/Desktop/Desktop/UofA/4.Winter-2025/ece-910/Batman/Batman-(1989)-002/Batman (1989)-002_part_207.mp4\n",
      "📸 Total Frames: 73\n"
     ]
    },
    {
     "name": "stderr",
     "output_type": "stream",
     "text": [
      "Extracting Frames from Batman (1989)-002_part_207.mp4: 100%|██████████| 73/73 [00:00<00:00, 527.62it/s]\n"
     ]
    },
    {
     "name": "stdout",
     "output_type": "stream",
     "text": [
      "✅ Saved frames in: /Users/mario/Desktop/Desktop/UofA/4.Winter-2025/ece-910/Batman/VLM-testing/batman-frames/Batman (1989)-002_part_207\n",
      "\n",
      "🎥 Processing: /Users/mario/Desktop/Desktop/UofA/4.Winter-2025/ece-910/Batman/Batman-(1989)-002/Batman (1989)-002_part_208.mp4\n",
      "📸 Total Frames: 134\n"
     ]
    },
    {
     "name": "stderr",
     "output_type": "stream",
     "text": [
      "Extracting Frames from Batman (1989)-002_part_208.mp4: 100%|██████████| 134/134 [00:00<00:00, 568.70it/s]\n"
     ]
    },
    {
     "name": "stdout",
     "output_type": "stream",
     "text": [
      "✅ Saved frames in: /Users/mario/Desktop/Desktop/UofA/4.Winter-2025/ece-910/Batman/VLM-testing/batman-frames/Batman (1989)-002_part_208\n",
      "\n",
      "🎥 Processing: /Users/mario/Desktop/Desktop/UofA/4.Winter-2025/ece-910/Batman/Batman-(1989)-002/Batman (1989)-002_part_209.mp4\n",
      "📸 Total Frames: 64\n"
     ]
    },
    {
     "name": "stderr",
     "output_type": "stream",
     "text": [
      "Extracting Frames from Batman (1989)-002_part_209.mp4: 100%|██████████| 64/64 [00:00<00:00, 500.41it/s]\n"
     ]
    },
    {
     "name": "stdout",
     "output_type": "stream",
     "text": [
      "✅ Saved frames in: /Users/mario/Desktop/Desktop/UofA/4.Winter-2025/ece-910/Batman/VLM-testing/batman-frames/Batman (1989)-002_part_209\n",
      "\n",
      "🎥 Processing: /Users/mario/Desktop/Desktop/UofA/4.Winter-2025/ece-910/Batman/Batman-(1989)-002/Batman (1989)-002_part_21.mp4\n",
      "📸 Total Frames: 145\n"
     ]
    },
    {
     "name": "stderr",
     "output_type": "stream",
     "text": [
      "Extracting Frames from Batman (1989)-002_part_21.mp4: 100%|██████████| 145/145 [00:00<00:00, 607.46it/s]\n"
     ]
    },
    {
     "name": "stdout",
     "output_type": "stream",
     "text": [
      "✅ Saved frames in: /Users/mario/Desktop/Desktop/UofA/4.Winter-2025/ece-910/Batman/VLM-testing/batman-frames/Batman (1989)-002_part_21\n",
      "\n",
      "🎥 Processing: /Users/mario/Desktop/Desktop/UofA/4.Winter-2025/ece-910/Batman/Batman-(1989)-002/Batman (1989)-002_part_210.mp4\n",
      "📸 Total Frames: 333\n"
     ]
    },
    {
     "name": "stderr",
     "output_type": "stream",
     "text": [
      "Extracting Frames from Batman (1989)-002_part_210.mp4: 100%|██████████| 333/333 [00:00<00:00, 567.60it/s]\n"
     ]
    },
    {
     "name": "stdout",
     "output_type": "stream",
     "text": [
      "✅ Saved frames in: /Users/mario/Desktop/Desktop/UofA/4.Winter-2025/ece-910/Batman/VLM-testing/batman-frames/Batman (1989)-002_part_210\n",
      "\n",
      "🎥 Processing: /Users/mario/Desktop/Desktop/UofA/4.Winter-2025/ece-910/Batman/Batman-(1989)-002/Batman (1989)-002_part_211.mp4\n",
      "📸 Total Frames: 358\n"
     ]
    },
    {
     "name": "stderr",
     "output_type": "stream",
     "text": [
      "Extracting Frames from Batman (1989)-002_part_211.mp4: 100%|██████████| 358/358 [00:00<00:00, 582.35it/s]\n"
     ]
    },
    {
     "name": "stdout",
     "output_type": "stream",
     "text": [
      "✅ Saved frames in: /Users/mario/Desktop/Desktop/UofA/4.Winter-2025/ece-910/Batman/VLM-testing/batman-frames/Batman (1989)-002_part_211\n",
      "\n",
      "🎥 Processing: /Users/mario/Desktop/Desktop/UofA/4.Winter-2025/ece-910/Batman/Batman-(1989)-002/Batman (1989)-002_part_212.mp4\n",
      "📸 Total Frames: 44\n"
     ]
    },
    {
     "name": "stderr",
     "output_type": "stream",
     "text": [
      "Extracting Frames from Batman (1989)-002_part_212.mp4: 100%|██████████| 44/44 [00:00<00:00, 131.73it/s]\n"
     ]
    },
    {
     "name": "stdout",
     "output_type": "stream",
     "text": [
      "✅ Saved frames in: /Users/mario/Desktop/Desktop/UofA/4.Winter-2025/ece-910/Batman/VLM-testing/batman-frames/Batman (1989)-002_part_212\n",
      "\n",
      "🎥 Processing: /Users/mario/Desktop/Desktop/UofA/4.Winter-2025/ece-910/Batman/Batman-(1989)-002/Batman (1989)-002_part_213.mp4\n",
      "📸 Total Frames: 532\n"
     ]
    },
    {
     "name": "stderr",
     "output_type": "stream",
     "text": [
      "Extracting Frames from Batman (1989)-002_part_213.mp4: 100%|██████████| 532/532 [00:00<00:00, 576.53it/s]\n"
     ]
    },
    {
     "name": "stdout",
     "output_type": "stream",
     "text": [
      "✅ Saved frames in: /Users/mario/Desktop/Desktop/UofA/4.Winter-2025/ece-910/Batman/VLM-testing/batman-frames/Batman (1989)-002_part_213\n",
      "\n",
      "🎥 Processing: /Users/mario/Desktop/Desktop/UofA/4.Winter-2025/ece-910/Batman/Batman-(1989)-002/Batman (1989)-002_part_214.mp4\n",
      "📸 Total Frames: 156\n"
     ]
    },
    {
     "name": "stderr",
     "output_type": "stream",
     "text": [
      "Extracting Frames from Batman (1989)-002_part_214.mp4: 100%|██████████| 156/156 [00:00<00:00, 481.66it/s]\n"
     ]
    },
    {
     "name": "stdout",
     "output_type": "stream",
     "text": [
      "✅ Saved frames in: /Users/mario/Desktop/Desktop/UofA/4.Winter-2025/ece-910/Batman/VLM-testing/batman-frames/Batman (1989)-002_part_214\n",
      "\n",
      "🎥 Processing: /Users/mario/Desktop/Desktop/UofA/4.Winter-2025/ece-910/Batman/Batman-(1989)-002/Batman (1989)-002_part_215.mp4\n",
      "📸 Total Frames: 240\n"
     ]
    },
    {
     "name": "stderr",
     "output_type": "stream",
     "text": [
      "Extracting Frames from Batman (1989)-002_part_215.mp4: 100%|██████████| 240/240 [00:00<00:00, 561.89it/s]\n"
     ]
    },
    {
     "name": "stdout",
     "output_type": "stream",
     "text": [
      "✅ Saved frames in: /Users/mario/Desktop/Desktop/UofA/4.Winter-2025/ece-910/Batman/VLM-testing/batman-frames/Batman (1989)-002_part_215\n",
      "\n",
      "🎥 Processing: /Users/mario/Desktop/Desktop/UofA/4.Winter-2025/ece-910/Batman/Batman-(1989)-002/Batman (1989)-002_part_216.mp4\n",
      "📸 Total Frames: 160\n"
     ]
    },
    {
     "name": "stderr",
     "output_type": "stream",
     "text": [
      "Extracting Frames from Batman (1989)-002_part_216.mp4: 100%|██████████| 160/160 [00:00<00:00, 539.11it/s]\n"
     ]
    },
    {
     "name": "stdout",
     "output_type": "stream",
     "text": [
      "✅ Saved frames in: /Users/mario/Desktop/Desktop/UofA/4.Winter-2025/ece-910/Batman/VLM-testing/batman-frames/Batman (1989)-002_part_216\n",
      "\n",
      "🎥 Processing: /Users/mario/Desktop/Desktop/UofA/4.Winter-2025/ece-910/Batman/Batman-(1989)-002/Batman (1989)-002_part_217.mp4\n",
      "📸 Total Frames: 1234\n"
     ]
    },
    {
     "name": "stderr",
     "output_type": "stream",
     "text": [
      "Extracting Frames from Batman (1989)-002_part_217.mp4: 100%|██████████| 1234/1234 [00:02<00:00, 597.42it/s]\n"
     ]
    },
    {
     "name": "stdout",
     "output_type": "stream",
     "text": [
      "✅ Saved frames in: /Users/mario/Desktop/Desktop/UofA/4.Winter-2025/ece-910/Batman/VLM-testing/batman-frames/Batman (1989)-002_part_217\n",
      "\n",
      "🎥 Processing: /Users/mario/Desktop/Desktop/UofA/4.Winter-2025/ece-910/Batman/Batman-(1989)-002/Batman (1989)-002_part_218.mp4\n",
      "📸 Total Frames: 24\n"
     ]
    },
    {
     "name": "stderr",
     "output_type": "stream",
     "text": [
      "Extracting Frames from Batman (1989)-002_part_218.mp4: 100%|██████████| 24/24 [00:00<00:00, 389.16it/s]\n"
     ]
    },
    {
     "name": "stdout",
     "output_type": "stream",
     "text": [
      "✅ Saved frames in: /Users/mario/Desktop/Desktop/UofA/4.Winter-2025/ece-910/Batman/VLM-testing/batman-frames/Batman (1989)-002_part_218\n",
      "\n",
      "🎥 Processing: /Users/mario/Desktop/Desktop/UofA/4.Winter-2025/ece-910/Batman/Batman-(1989)-002/Batman (1989)-002_part_219.mp4\n",
      "📸 Total Frames: 65\n"
     ]
    },
    {
     "name": "stderr",
     "output_type": "stream",
     "text": [
      "Extracting Frames from Batman (1989)-002_part_219.mp4: 100%|██████████| 65/65 [00:00<00:00, 538.26it/s]\n"
     ]
    },
    {
     "name": "stdout",
     "output_type": "stream",
     "text": [
      "✅ Saved frames in: /Users/mario/Desktop/Desktop/UofA/4.Winter-2025/ece-910/Batman/VLM-testing/batman-frames/Batman (1989)-002_part_219\n",
      "\n",
      "🎥 Processing: /Users/mario/Desktop/Desktop/UofA/4.Winter-2025/ece-910/Batman/Batman-(1989)-002/Batman (1989)-002_part_22.mp4\n",
      "📸 Total Frames: 145\n"
     ]
    },
    {
     "name": "stderr",
     "output_type": "stream",
     "text": [
      "Extracting Frames from Batman (1989)-002_part_22.mp4: 100%|██████████| 145/145 [00:00<00:00, 521.13it/s]\n"
     ]
    },
    {
     "name": "stdout",
     "output_type": "stream",
     "text": [
      "✅ Saved frames in: /Users/mario/Desktop/Desktop/UofA/4.Winter-2025/ece-910/Batman/VLM-testing/batman-frames/Batman (1989)-002_part_22\n",
      "\n",
      "🎥 Processing: /Users/mario/Desktop/Desktop/UofA/4.Winter-2025/ece-910/Batman/Batman-(1989)-002/Batman (1989)-002_part_220.mp4\n",
      "📸 Total Frames: 47\n"
     ]
    },
    {
     "name": "stderr",
     "output_type": "stream",
     "text": [
      "Extracting Frames from Batman (1989)-002_part_220.mp4: 100%|██████████| 47/47 [00:00<00:00, 440.40it/s]\n"
     ]
    },
    {
     "name": "stdout",
     "output_type": "stream",
     "text": [
      "✅ Saved frames in: /Users/mario/Desktop/Desktop/UofA/4.Winter-2025/ece-910/Batman/VLM-testing/batman-frames/Batman (1989)-002_part_220\n",
      "\n",
      "🎥 Processing: /Users/mario/Desktop/Desktop/UofA/4.Winter-2025/ece-910/Batman/Batman-(1989)-002/Batman (1989)-002_part_221.mp4\n",
      "📸 Total Frames: 426\n"
     ]
    },
    {
     "name": "stderr",
     "output_type": "stream",
     "text": [
      "Extracting Frames from Batman (1989)-002_part_221.mp4: 100%|██████████| 426/426 [00:00<00:00, 470.14it/s]\n"
     ]
    },
    {
     "name": "stdout",
     "output_type": "stream",
     "text": [
      "✅ Saved frames in: /Users/mario/Desktop/Desktop/UofA/4.Winter-2025/ece-910/Batman/VLM-testing/batman-frames/Batman (1989)-002_part_221\n",
      "\n",
      "🎥 Processing: /Users/mario/Desktop/Desktop/UofA/4.Winter-2025/ece-910/Batman/Batman-(1989)-002/Batman (1989)-002_part_222.mp4\n",
      "📸 Total Frames: 1657\n"
     ]
    },
    {
     "name": "stderr",
     "output_type": "stream",
     "text": [
      "Extracting Frames from Batman (1989)-002_part_222.mp4: 100%|██████████| 1657/1657 [00:02<00:00, 561.30it/s]\n"
     ]
    },
    {
     "name": "stdout",
     "output_type": "stream",
     "text": [
      "✅ Saved frames in: /Users/mario/Desktop/Desktop/UofA/4.Winter-2025/ece-910/Batman/VLM-testing/batman-frames/Batman (1989)-002_part_222\n",
      "\n",
      "🎥 Processing: /Users/mario/Desktop/Desktop/UofA/4.Winter-2025/ece-910/Batman/Batman-(1989)-002/Batman (1989)-002_part_223.mp4\n",
      "📸 Total Frames: 197\n"
     ]
    },
    {
     "name": "stderr",
     "output_type": "stream",
     "text": [
      "Extracting Frames from Batman (1989)-002_part_223.mp4: 100%|██████████| 197/197 [00:00<00:00, 512.25it/s]\n"
     ]
    },
    {
     "name": "stdout",
     "output_type": "stream",
     "text": [
      "✅ Saved frames in: /Users/mario/Desktop/Desktop/UofA/4.Winter-2025/ece-910/Batman/VLM-testing/batman-frames/Batman (1989)-002_part_223\n",
      "\n",
      "🎥 Processing: /Users/mario/Desktop/Desktop/UofA/4.Winter-2025/ece-910/Batman/Batman-(1989)-002/Batman (1989)-002_part_224.mp4\n",
      "📸 Total Frames: 112\n"
     ]
    },
    {
     "name": "stderr",
     "output_type": "stream",
     "text": [
      "Extracting Frames from Batman (1989)-002_part_224.mp4: 100%|██████████| 112/112 [00:00<00:00, 536.29it/s]\n"
     ]
    },
    {
     "name": "stdout",
     "output_type": "stream",
     "text": [
      "✅ Saved frames in: /Users/mario/Desktop/Desktop/UofA/4.Winter-2025/ece-910/Batman/VLM-testing/batman-frames/Batman (1989)-002_part_224\n",
      "\n",
      "🎥 Processing: /Users/mario/Desktop/Desktop/UofA/4.Winter-2025/ece-910/Batman/Batman-(1989)-002/Batman (1989)-002_part_225.mp4\n",
      "📸 Total Frames: 110\n"
     ]
    },
    {
     "name": "stderr",
     "output_type": "stream",
     "text": [
      "Extracting Frames from Batman (1989)-002_part_225.mp4: 100%|██████████| 110/110 [00:00<00:00, 567.14it/s]\n"
     ]
    },
    {
     "name": "stdout",
     "output_type": "stream",
     "text": [
      "✅ Saved frames in: /Users/mario/Desktop/Desktop/UofA/4.Winter-2025/ece-910/Batman/VLM-testing/batman-frames/Batman (1989)-002_part_225\n",
      "\n",
      "🎥 Processing: /Users/mario/Desktop/Desktop/UofA/4.Winter-2025/ece-910/Batman/Batman-(1989)-002/Batman (1989)-002_part_226.mp4\n",
      "📸 Total Frames: 63\n"
     ]
    },
    {
     "name": "stderr",
     "output_type": "stream",
     "text": [
      "Extracting Frames from Batman (1989)-002_part_226.mp4: 100%|██████████| 63/63 [00:00<00:00, 556.15it/s]\n"
     ]
    },
    {
     "name": "stdout",
     "output_type": "stream",
     "text": [
      "✅ Saved frames in: /Users/mario/Desktop/Desktop/UofA/4.Winter-2025/ece-910/Batman/VLM-testing/batman-frames/Batman (1989)-002_part_226\n",
      "\n",
      "🎥 Processing: /Users/mario/Desktop/Desktop/UofA/4.Winter-2025/ece-910/Batman/Batman-(1989)-002/Batman (1989)-002_part_227.mp4\n",
      "📸 Total Frames: 127\n"
     ]
    },
    {
     "name": "stderr",
     "output_type": "stream",
     "text": [
      "Extracting Frames from Batman (1989)-002_part_227.mp4: 100%|██████████| 127/127 [00:00<00:00, 606.40it/s]\n"
     ]
    },
    {
     "name": "stdout",
     "output_type": "stream",
     "text": [
      "✅ Saved frames in: /Users/mario/Desktop/Desktop/UofA/4.Winter-2025/ece-910/Batman/VLM-testing/batman-frames/Batman (1989)-002_part_227\n",
      "\n",
      "🎥 Processing: /Users/mario/Desktop/Desktop/UofA/4.Winter-2025/ece-910/Batman/Batman-(1989)-002/Batman (1989)-002_part_228.mp4\n",
      "📸 Total Frames: 449\n"
     ]
    },
    {
     "name": "stderr",
     "output_type": "stream",
     "text": [
      "Extracting Frames from Batman (1989)-002_part_228.mp4: 100%|██████████| 449/449 [00:00<00:00, 608.58it/s]\n"
     ]
    },
    {
     "name": "stdout",
     "output_type": "stream",
     "text": [
      "✅ Saved frames in: /Users/mario/Desktop/Desktop/UofA/4.Winter-2025/ece-910/Batman/VLM-testing/batman-frames/Batman (1989)-002_part_228\n",
      "\n",
      "🎥 Processing: /Users/mario/Desktop/Desktop/UofA/4.Winter-2025/ece-910/Batman/Batman-(1989)-002/Batman (1989)-002_part_229.mp4\n",
      "📸 Total Frames: 51\n"
     ]
    },
    {
     "name": "stderr",
     "output_type": "stream",
     "text": [
      "Extracting Frames from Batman (1989)-002_part_229.mp4: 100%|██████████| 51/51 [00:00<00:00, 541.71it/s]\n"
     ]
    },
    {
     "name": "stdout",
     "output_type": "stream",
     "text": [
      "✅ Saved frames in: /Users/mario/Desktop/Desktop/UofA/4.Winter-2025/ece-910/Batman/VLM-testing/batman-frames/Batman (1989)-002_part_229\n",
      "\n",
      "🎥 Processing: /Users/mario/Desktop/Desktop/UofA/4.Winter-2025/ece-910/Batman/Batman-(1989)-002/Batman (1989)-002_part_23.mp4\n",
      "📸 Total Frames: 421\n"
     ]
    },
    {
     "name": "stderr",
     "output_type": "stream",
     "text": [
      "Extracting Frames from Batman (1989)-002_part_23.mp4: 100%|██████████| 421/421 [00:00<00:00, 504.76it/s]\n"
     ]
    },
    {
     "name": "stdout",
     "output_type": "stream",
     "text": [
      "✅ Saved frames in: /Users/mario/Desktop/Desktop/UofA/4.Winter-2025/ece-910/Batman/VLM-testing/batman-frames/Batman (1989)-002_part_23\n",
      "\n",
      "🎥 Processing: /Users/mario/Desktop/Desktop/UofA/4.Winter-2025/ece-910/Batman/Batman-(1989)-002/Batman (1989)-002_part_230.mp4\n",
      "📸 Total Frames: 90\n"
     ]
    },
    {
     "name": "stderr",
     "output_type": "stream",
     "text": [
      "Extracting Frames from Batman (1989)-002_part_230.mp4: 100%|██████████| 90/90 [00:00<00:00, 574.21it/s]\n"
     ]
    },
    {
     "name": "stdout",
     "output_type": "stream",
     "text": [
      "✅ Saved frames in: /Users/mario/Desktop/Desktop/UofA/4.Winter-2025/ece-910/Batman/VLM-testing/batman-frames/Batman (1989)-002_part_230\n",
      "\n",
      "🎥 Processing: /Users/mario/Desktop/Desktop/UofA/4.Winter-2025/ece-910/Batman/Batman-(1989)-002/Batman (1989)-002_part_231.mp4\n",
      "📸 Total Frames: 50\n"
     ]
    },
    {
     "name": "stderr",
     "output_type": "stream",
     "text": [
      "Extracting Frames from Batman (1989)-002_part_231.mp4: 100%|██████████| 50/50 [00:00<00:00, 513.86it/s]\n"
     ]
    },
    {
     "name": "stdout",
     "output_type": "stream",
     "text": [
      "✅ Saved frames in: /Users/mario/Desktop/Desktop/UofA/4.Winter-2025/ece-910/Batman/VLM-testing/batman-frames/Batman (1989)-002_part_231\n",
      "\n",
      "🎥 Processing: /Users/mario/Desktop/Desktop/UofA/4.Winter-2025/ece-910/Batman/Batman-(1989)-002/Batman (1989)-002_part_232.mp4\n",
      "📸 Total Frames: 62\n"
     ]
    },
    {
     "name": "stderr",
     "output_type": "stream",
     "text": [
      "Extracting Frames from Batman (1989)-002_part_232.mp4: 100%|██████████| 62/62 [00:00<00:00, 567.68it/s]\n"
     ]
    },
    {
     "name": "stdout",
     "output_type": "stream",
     "text": [
      "✅ Saved frames in: /Users/mario/Desktop/Desktop/UofA/4.Winter-2025/ece-910/Batman/VLM-testing/batman-frames/Batman (1989)-002_part_232\n",
      "\n",
      "🎥 Processing: /Users/mario/Desktop/Desktop/UofA/4.Winter-2025/ece-910/Batman/Batman-(1989)-002/Batman (1989)-002_part_233.mp4\n",
      "📸 Total Frames: 108\n"
     ]
    },
    {
     "name": "stderr",
     "output_type": "stream",
     "text": [
      "Extracting Frames from Batman (1989)-002_part_233.mp4: 100%|██████████| 108/108 [00:00<00:00, 611.50it/s]\n"
     ]
    },
    {
     "name": "stdout",
     "output_type": "stream",
     "text": [
      "✅ Saved frames in: /Users/mario/Desktop/Desktop/UofA/4.Winter-2025/ece-910/Batman/VLM-testing/batman-frames/Batman (1989)-002_part_233\n",
      "\n",
      "🎥 Processing: /Users/mario/Desktop/Desktop/UofA/4.Winter-2025/ece-910/Batman/Batman-(1989)-002/Batman (1989)-002_part_234.mp4\n",
      "📸 Total Frames: 57\n"
     ]
    },
    {
     "name": "stderr",
     "output_type": "stream",
     "text": [
      "Extracting Frames from Batman (1989)-002_part_234.mp4: 100%|██████████| 57/57 [00:00<00:00, 548.64it/s]\n"
     ]
    },
    {
     "name": "stdout",
     "output_type": "stream",
     "text": [
      "✅ Saved frames in: /Users/mario/Desktop/Desktop/UofA/4.Winter-2025/ece-910/Batman/VLM-testing/batman-frames/Batman (1989)-002_part_234\n",
      "\n",
      "🎥 Processing: /Users/mario/Desktop/Desktop/UofA/4.Winter-2025/ece-910/Batman/Batman-(1989)-002/Batman (1989)-002_part_235.mp4\n",
      "📸 Total Frames: 35\n"
     ]
    },
    {
     "name": "stderr",
     "output_type": "stream",
     "text": [
      "Extracting Frames from Batman (1989)-002_part_235.mp4: 100%|██████████| 35/35 [00:00<00:00, 558.18it/s]\n"
     ]
    },
    {
     "name": "stdout",
     "output_type": "stream",
     "text": [
      "✅ Saved frames in: /Users/mario/Desktop/Desktop/UofA/4.Winter-2025/ece-910/Batman/VLM-testing/batman-frames/Batman (1989)-002_part_235\n",
      "\n",
      "🎥 Processing: /Users/mario/Desktop/Desktop/UofA/4.Winter-2025/ece-910/Batman/Batman-(1989)-002/Batman (1989)-002_part_236.mp4\n",
      "📸 Total Frames: 39\n"
     ]
    },
    {
     "name": "stderr",
     "output_type": "stream",
     "text": [
      "Extracting Frames from Batman (1989)-002_part_236.mp4: 100%|██████████| 39/39 [00:00<00:00, 553.22it/s]\n"
     ]
    },
    {
     "name": "stdout",
     "output_type": "stream",
     "text": [
      "✅ Saved frames in: /Users/mario/Desktop/Desktop/UofA/4.Winter-2025/ece-910/Batman/VLM-testing/batman-frames/Batman (1989)-002_part_236\n",
      "\n",
      "🎥 Processing: /Users/mario/Desktop/Desktop/UofA/4.Winter-2025/ece-910/Batman/Batman-(1989)-002/Batman (1989)-002_part_237.mp4\n",
      "📸 Total Frames: 20\n"
     ]
    },
    {
     "name": "stderr",
     "output_type": "stream",
     "text": [
      "Extracting Frames from Batman (1989)-002_part_237.mp4: 100%|██████████| 20/20 [00:00<00:00, 532.86it/s]\n"
     ]
    },
    {
     "name": "stdout",
     "output_type": "stream",
     "text": [
      "✅ Saved frames in: /Users/mario/Desktop/Desktop/UofA/4.Winter-2025/ece-910/Batman/VLM-testing/batman-frames/Batman (1989)-002_part_237\n",
      "\n",
      "🎥 Processing: /Users/mario/Desktop/Desktop/UofA/4.Winter-2025/ece-910/Batman/Batman-(1989)-002/Batman (1989)-002_part_238.mp4\n",
      "📸 Total Frames: 19\n"
     ]
    },
    {
     "name": "stderr",
     "output_type": "stream",
     "text": [
      "Extracting Frames from Batman (1989)-002_part_238.mp4: 100%|██████████| 19/19 [00:00<00:00, 473.86it/s]\n"
     ]
    },
    {
     "name": "stdout",
     "output_type": "stream",
     "text": [
      "✅ Saved frames in: /Users/mario/Desktop/Desktop/UofA/4.Winter-2025/ece-910/Batman/VLM-testing/batman-frames/Batman (1989)-002_part_238\n",
      "\n",
      "🎥 Processing: /Users/mario/Desktop/Desktop/UofA/4.Winter-2025/ece-910/Batman/Batman-(1989)-002/Batman (1989)-002_part_239.mp4\n",
      "📸 Total Frames: 380\n"
     ]
    },
    {
     "name": "stderr",
     "output_type": "stream",
     "text": [
      "Extracting Frames from Batman (1989)-002_part_239.mp4: 100%|██████████| 380/380 [00:00<00:00, 609.98it/s]\n"
     ]
    },
    {
     "name": "stdout",
     "output_type": "stream",
     "text": [
      "✅ Saved frames in: /Users/mario/Desktop/Desktop/UofA/4.Winter-2025/ece-910/Batman/VLM-testing/batman-frames/Batman (1989)-002_part_239\n",
      "\n",
      "🎥 Processing: /Users/mario/Desktop/Desktop/UofA/4.Winter-2025/ece-910/Batman/Batman-(1989)-002/Batman (1989)-002_part_24.mp4\n",
      "📸 Total Frames: 149\n"
     ]
    },
    {
     "name": "stderr",
     "output_type": "stream",
     "text": [
      "Extracting Frames from Batman (1989)-002_part_24.mp4: 100%|██████████| 149/149 [00:00<00:00, 551.44it/s]\n"
     ]
    },
    {
     "name": "stdout",
     "output_type": "stream",
     "text": [
      "✅ Saved frames in: /Users/mario/Desktop/Desktop/UofA/4.Winter-2025/ece-910/Batman/VLM-testing/batman-frames/Batman (1989)-002_part_24\n",
      "\n",
      "🎥 Processing: /Users/mario/Desktop/Desktop/UofA/4.Winter-2025/ece-910/Batman/Batman-(1989)-002/Batman (1989)-002_part_240.mp4\n",
      "📸 Total Frames: 30\n"
     ]
    },
    {
     "name": "stderr",
     "output_type": "stream",
     "text": [
      "Extracting Frames from Batman (1989)-002_part_240.mp4: 100%|██████████| 30/30 [00:00<00:00, 498.15it/s]\n"
     ]
    },
    {
     "name": "stdout",
     "output_type": "stream",
     "text": [
      "✅ Saved frames in: /Users/mario/Desktop/Desktop/UofA/4.Winter-2025/ece-910/Batman/VLM-testing/batman-frames/Batman (1989)-002_part_240\n",
      "\n",
      "🎥 Processing: /Users/mario/Desktop/Desktop/UofA/4.Winter-2025/ece-910/Batman/Batman-(1989)-002/Batman (1989)-002_part_241.mp4\n",
      "📸 Total Frames: 67\n"
     ]
    },
    {
     "name": "stderr",
     "output_type": "stream",
     "text": [
      "Extracting Frames from Batman (1989)-002_part_241.mp4: 100%|██████████| 67/67 [00:00<00:00, 553.93it/s]\n"
     ]
    },
    {
     "name": "stdout",
     "output_type": "stream",
     "text": [
      "✅ Saved frames in: /Users/mario/Desktop/Desktop/UofA/4.Winter-2025/ece-910/Batman/VLM-testing/batman-frames/Batman (1989)-002_part_241\n",
      "\n",
      "🎥 Processing: /Users/mario/Desktop/Desktop/UofA/4.Winter-2025/ece-910/Batman/Batman-(1989)-002/Batman (1989)-002_part_242.mp4\n",
      "📸 Total Frames: 49\n"
     ]
    },
    {
     "name": "stderr",
     "output_type": "stream",
     "text": [
      "Extracting Frames from Batman (1989)-002_part_242.mp4: 100%|██████████| 49/49 [00:00<00:00, 499.40it/s]\n"
     ]
    },
    {
     "name": "stdout",
     "output_type": "stream",
     "text": [
      "✅ Saved frames in: /Users/mario/Desktop/Desktop/UofA/4.Winter-2025/ece-910/Batman/VLM-testing/batman-frames/Batman (1989)-002_part_242\n",
      "\n",
      "🎥 Processing: /Users/mario/Desktop/Desktop/UofA/4.Winter-2025/ece-910/Batman/Batman-(1989)-002/Batman (1989)-002_part_243.mp4\n",
      "📸 Total Frames: 47\n"
     ]
    },
    {
     "name": "stderr",
     "output_type": "stream",
     "text": [
      "Extracting Frames from Batman (1989)-002_part_243.mp4: 100%|██████████| 47/47 [00:00<00:00, 550.24it/s]\n"
     ]
    },
    {
     "name": "stdout",
     "output_type": "stream",
     "text": [
      "✅ Saved frames in: /Users/mario/Desktop/Desktop/UofA/4.Winter-2025/ece-910/Batman/VLM-testing/batman-frames/Batman (1989)-002_part_243\n",
      "\n",
      "🎥 Processing: /Users/mario/Desktop/Desktop/UofA/4.Winter-2025/ece-910/Batman/Batman-(1989)-002/Batman (1989)-002_part_244.mp4\n",
      "📸 Total Frames: 740\n"
     ]
    },
    {
     "name": "stderr",
     "output_type": "stream",
     "text": [
      "Extracting Frames from Batman (1989)-002_part_244.mp4: 100%|██████████| 740/740 [00:01<00:00, 571.23it/s]\n"
     ]
    },
    {
     "name": "stdout",
     "output_type": "stream",
     "text": [
      "✅ Saved frames in: /Users/mario/Desktop/Desktop/UofA/4.Winter-2025/ece-910/Batman/VLM-testing/batman-frames/Batman (1989)-002_part_244\n",
      "\n",
      "🎥 Processing: /Users/mario/Desktop/Desktop/UofA/4.Winter-2025/ece-910/Batman/Batman-(1989)-002/Batman (1989)-002_part_245.mp4\n",
      "📸 Total Frames: 469\n"
     ]
    },
    {
     "name": "stderr",
     "output_type": "stream",
     "text": [
      "Extracting Frames from Batman (1989)-002_part_245.mp4: 100%|██████████| 469/469 [00:00<00:00, 596.27it/s]\n"
     ]
    },
    {
     "name": "stdout",
     "output_type": "stream",
     "text": [
      "✅ Saved frames in: /Users/mario/Desktop/Desktop/UofA/4.Winter-2025/ece-910/Batman/VLM-testing/batman-frames/Batman (1989)-002_part_245\n",
      "\n",
      "🎥 Processing: /Users/mario/Desktop/Desktop/UofA/4.Winter-2025/ece-910/Batman/Batman-(1989)-002/Batman (1989)-002_part_246.mp4\n",
      "📸 Total Frames: 145\n"
     ]
    },
    {
     "name": "stderr",
     "output_type": "stream",
     "text": [
      "Extracting Frames from Batman (1989)-002_part_246.mp4: 100%|██████████| 145/145 [00:00<00:00, 554.01it/s]\n"
     ]
    },
    {
     "name": "stdout",
     "output_type": "stream",
     "text": [
      "✅ Saved frames in: /Users/mario/Desktop/Desktop/UofA/4.Winter-2025/ece-910/Batman/VLM-testing/batman-frames/Batman (1989)-002_part_246\n",
      "\n",
      "🎥 Processing: /Users/mario/Desktop/Desktop/UofA/4.Winter-2025/ece-910/Batman/Batman-(1989)-002/Batman (1989)-002_part_247.mp4\n",
      "📸 Total Frames: 1071\n"
     ]
    },
    {
     "name": "stderr",
     "output_type": "stream",
     "text": [
      "Extracting Frames from Batman (1989)-002_part_247.mp4: 100%|██████████| 1071/1071 [00:01<00:00, 578.76it/s]\n"
     ]
    },
    {
     "name": "stdout",
     "output_type": "stream",
     "text": [
      "✅ Saved frames in: /Users/mario/Desktop/Desktop/UofA/4.Winter-2025/ece-910/Batman/VLM-testing/batman-frames/Batman (1989)-002_part_247\n",
      "\n",
      "🎥 Processing: /Users/mario/Desktop/Desktop/UofA/4.Winter-2025/ece-910/Batman/Batman-(1989)-002/Batman (1989)-002_part_248.mp4\n",
      "📸 Total Frames: 275\n"
     ]
    },
    {
     "name": "stderr",
     "output_type": "stream",
     "text": [
      "Extracting Frames from Batman (1989)-002_part_248.mp4: 100%|██████████| 275/275 [00:00<00:00, 547.23it/s]\n"
     ]
    },
    {
     "name": "stdout",
     "output_type": "stream",
     "text": [
      "✅ Saved frames in: /Users/mario/Desktop/Desktop/UofA/4.Winter-2025/ece-910/Batman/VLM-testing/batman-frames/Batman (1989)-002_part_248\n",
      "\n",
      "🎥 Processing: /Users/mario/Desktop/Desktop/UofA/4.Winter-2025/ece-910/Batman/Batman-(1989)-002/Batman (1989)-002_part_249.mp4\n",
      "📸 Total Frames: 55\n"
     ]
    },
    {
     "name": "stderr",
     "output_type": "stream",
     "text": [
      "Extracting Frames from Batman (1989)-002_part_249.mp4: 100%|██████████| 55/55 [00:00<00:00, 495.34it/s]\n"
     ]
    },
    {
     "name": "stdout",
     "output_type": "stream",
     "text": [
      "✅ Saved frames in: /Users/mario/Desktop/Desktop/UofA/4.Winter-2025/ece-910/Batman/VLM-testing/batman-frames/Batman (1989)-002_part_249\n",
      "\n",
      "🎥 Processing: /Users/mario/Desktop/Desktop/UofA/4.Winter-2025/ece-910/Batman/Batman-(1989)-002/Batman (1989)-002_part_25.mp4\n",
      "📸 Total Frames: 156\n"
     ]
    },
    {
     "name": "stderr",
     "output_type": "stream",
     "text": [
      "Extracting Frames from Batman (1989)-002_part_25.mp4: 100%|██████████| 156/156 [00:00<00:00, 553.08it/s]\n"
     ]
    },
    {
     "name": "stdout",
     "output_type": "stream",
     "text": [
      "✅ Saved frames in: /Users/mario/Desktop/Desktop/UofA/4.Winter-2025/ece-910/Batman/VLM-testing/batman-frames/Batman (1989)-002_part_25\n",
      "\n",
      "🎥 Processing: /Users/mario/Desktop/Desktop/UofA/4.Winter-2025/ece-910/Batman/Batman-(1989)-002/Batman (1989)-002_part_250.mp4\n",
      "📸 Total Frames: 37\n"
     ]
    },
    {
     "name": "stderr",
     "output_type": "stream",
     "text": [
      "Extracting Frames from Batman (1989)-002_part_250.mp4: 100%|██████████| 37/37 [00:00<00:00, 533.24it/s]\n"
     ]
    },
    {
     "name": "stdout",
     "output_type": "stream",
     "text": [
      "✅ Saved frames in: /Users/mario/Desktop/Desktop/UofA/4.Winter-2025/ece-910/Batman/VLM-testing/batman-frames/Batman (1989)-002_part_250\n",
      "\n",
      "🎥 Processing: /Users/mario/Desktop/Desktop/UofA/4.Winter-2025/ece-910/Batman/Batman-(1989)-002/Batman (1989)-002_part_251.mp4\n",
      "📸 Total Frames: 97\n"
     ]
    },
    {
     "name": "stderr",
     "output_type": "stream",
     "text": [
      "Extracting Frames from Batman (1989)-002_part_251.mp4: 100%|██████████| 97/97 [00:00<00:00, 366.93it/s]\n"
     ]
    },
    {
     "name": "stdout",
     "output_type": "stream",
     "text": [
      "✅ Saved frames in: /Users/mario/Desktop/Desktop/UofA/4.Winter-2025/ece-910/Batman/VLM-testing/batman-frames/Batman (1989)-002_part_251\n",
      "\n",
      "🎥 Processing: /Users/mario/Desktop/Desktop/UofA/4.Winter-2025/ece-910/Batman/Batman-(1989)-002/Batman (1989)-002_part_252.mp4\n",
      "📸 Total Frames: 429\n"
     ]
    },
    {
     "name": "stderr",
     "output_type": "stream",
     "text": [
      "Extracting Frames from Batman (1989)-002_part_252.mp4: 100%|██████████| 429/429 [00:00<00:00, 511.59it/s]\n"
     ]
    },
    {
     "name": "stdout",
     "output_type": "stream",
     "text": [
      "✅ Saved frames in: /Users/mario/Desktop/Desktop/UofA/4.Winter-2025/ece-910/Batman/VLM-testing/batman-frames/Batman (1989)-002_part_252\n",
      "\n",
      "🎥 Processing: /Users/mario/Desktop/Desktop/UofA/4.Winter-2025/ece-910/Batman/Batman-(1989)-002/Batman (1989)-002_part_253.mp4\n",
      "📸 Total Frames: 227\n"
     ]
    },
    {
     "name": "stderr",
     "output_type": "stream",
     "text": [
      "Extracting Frames from Batman (1989)-002_part_253.mp4: 100%|██████████| 227/227 [00:00<00:00, 588.84it/s]\n"
     ]
    },
    {
     "name": "stdout",
     "output_type": "stream",
     "text": [
      "✅ Saved frames in: /Users/mario/Desktop/Desktop/UofA/4.Winter-2025/ece-910/Batman/VLM-testing/batman-frames/Batman (1989)-002_part_253\n",
      "\n",
      "🎥 Processing: /Users/mario/Desktop/Desktop/UofA/4.Winter-2025/ece-910/Batman/Batman-(1989)-002/Batman (1989)-002_part_254.mp4\n",
      "📸 Total Frames: 32\n"
     ]
    },
    {
     "name": "stderr",
     "output_type": "stream",
     "text": [
      "Extracting Frames from Batman (1989)-002_part_254.mp4: 100%|██████████| 32/32 [00:00<00:00, 561.83it/s]\n"
     ]
    },
    {
     "name": "stdout",
     "output_type": "stream",
     "text": [
      "✅ Saved frames in: /Users/mario/Desktop/Desktop/UofA/4.Winter-2025/ece-910/Batman/VLM-testing/batman-frames/Batman (1989)-002_part_254\n",
      "\n",
      "🎥 Processing: /Users/mario/Desktop/Desktop/UofA/4.Winter-2025/ece-910/Batman/Batman-(1989)-002/Batman (1989)-002_part_255.mp4\n",
      "📸 Total Frames: 118\n"
     ]
    },
    {
     "name": "stderr",
     "output_type": "stream",
     "text": [
      "Extracting Frames from Batman (1989)-002_part_255.mp4: 100%|██████████| 118/118 [00:00<00:00, 637.08it/s]\n"
     ]
    },
    {
     "name": "stdout",
     "output_type": "stream",
     "text": [
      "✅ Saved frames in: /Users/mario/Desktop/Desktop/UofA/4.Winter-2025/ece-910/Batman/VLM-testing/batman-frames/Batman (1989)-002_part_255\n",
      "\n",
      "🎥 Processing: /Users/mario/Desktop/Desktop/UofA/4.Winter-2025/ece-910/Batman/Batman-(1989)-002/Batman (1989)-002_part_256.mp4\n",
      "📸 Total Frames: 15\n"
     ]
    },
    {
     "name": "stderr",
     "output_type": "stream",
     "text": [
      "Extracting Frames from Batman (1989)-002_part_256.mp4: 100%|██████████| 15/15 [00:00<00:00, 386.07it/s]\n"
     ]
    },
    {
     "name": "stdout",
     "output_type": "stream",
     "text": [
      "✅ Saved frames in: /Users/mario/Desktop/Desktop/UofA/4.Winter-2025/ece-910/Batman/VLM-testing/batman-frames/Batman (1989)-002_part_256\n",
      "\n",
      "🎥 Processing: /Users/mario/Desktop/Desktop/UofA/4.Winter-2025/ece-910/Batman/Batman-(1989)-002/Batman (1989)-002_part_257.mp4\n",
      "📸 Total Frames: 4\n"
     ]
    },
    {
     "name": "stderr",
     "output_type": "stream",
     "text": [
      "Extracting Frames from Batman (1989)-002_part_257.mp4: 100%|██████████| 4/4 [00:00<00:00, 313.55it/s]\n"
     ]
    },
    {
     "name": "stdout",
     "output_type": "stream",
     "text": [
      "✅ Saved frames in: /Users/mario/Desktop/Desktop/UofA/4.Winter-2025/ece-910/Batman/VLM-testing/batman-frames/Batman (1989)-002_part_257\n",
      "\n",
      "🎥 Processing: /Users/mario/Desktop/Desktop/UofA/4.Winter-2025/ece-910/Batman/Batman-(1989)-002/Batman (1989)-002_part_258.mp4\n",
      "📸 Total Frames: 60\n"
     ]
    },
    {
     "name": "stderr",
     "output_type": "stream",
     "text": [
      "Extracting Frames from Batman (1989)-002_part_258.mp4: 100%|██████████| 60/60 [00:00<00:00, 576.14it/s]\n"
     ]
    },
    {
     "name": "stdout",
     "output_type": "stream",
     "text": [
      "✅ Saved frames in: /Users/mario/Desktop/Desktop/UofA/4.Winter-2025/ece-910/Batman/VLM-testing/batman-frames/Batman (1989)-002_part_258\n",
      "\n",
      "🎥 Processing: /Users/mario/Desktop/Desktop/UofA/4.Winter-2025/ece-910/Batman/Batman-(1989)-002/Batman (1989)-002_part_259.mp4\n",
      "📸 Total Frames: 19\n"
     ]
    },
    {
     "name": "stderr",
     "output_type": "stream",
     "text": [
      "Extracting Frames from Batman (1989)-002_part_259.mp4: 100%|██████████| 19/19 [00:00<00:00, 580.15it/s]\n"
     ]
    },
    {
     "name": "stdout",
     "output_type": "stream",
     "text": [
      "✅ Saved frames in: /Users/mario/Desktop/Desktop/UofA/4.Winter-2025/ece-910/Batman/VLM-testing/batman-frames/Batman (1989)-002_part_259\n",
      "\n",
      "🎥 Processing: /Users/mario/Desktop/Desktop/UofA/4.Winter-2025/ece-910/Batman/Batman-(1989)-002/Batman (1989)-002_part_26.mp4\n",
      "📸 Total Frames: 80\n"
     ]
    },
    {
     "name": "stderr",
     "output_type": "stream",
     "text": [
      "Extracting Frames from Batman (1989)-002_part_26.mp4: 100%|██████████| 80/80 [00:00<00:00, 572.54it/s]\n"
     ]
    },
    {
     "name": "stdout",
     "output_type": "stream",
     "text": [
      "✅ Saved frames in: /Users/mario/Desktop/Desktop/UofA/4.Winter-2025/ece-910/Batman/VLM-testing/batman-frames/Batman (1989)-002_part_26\n",
      "\n",
      "🎥 Processing: /Users/mario/Desktop/Desktop/UofA/4.Winter-2025/ece-910/Batman/Batman-(1989)-002/Batman (1989)-002_part_260.mp4\n",
      "📸 Total Frames: 60\n"
     ]
    },
    {
     "name": "stderr",
     "output_type": "stream",
     "text": [
      "Extracting Frames from Batman (1989)-002_part_260.mp4: 100%|██████████| 60/60 [00:00<00:00, 626.55it/s]\n"
     ]
    },
    {
     "name": "stdout",
     "output_type": "stream",
     "text": [
      "✅ Saved frames in: /Users/mario/Desktop/Desktop/UofA/4.Winter-2025/ece-910/Batman/VLM-testing/batman-frames/Batman (1989)-002_part_260\n",
      "\n",
      "🎥 Processing: /Users/mario/Desktop/Desktop/UofA/4.Winter-2025/ece-910/Batman/Batman-(1989)-002/Batman (1989)-002_part_261.mp4\n",
      "📸 Total Frames: 245\n"
     ]
    },
    {
     "name": "stderr",
     "output_type": "stream",
     "text": [
      "Extracting Frames from Batman (1989)-002_part_261.mp4: 100%|██████████| 245/245 [00:00<00:00, 595.94it/s]\n"
     ]
    },
    {
     "name": "stdout",
     "output_type": "stream",
     "text": [
      "✅ Saved frames in: /Users/mario/Desktop/Desktop/UofA/4.Winter-2025/ece-910/Batman/VLM-testing/batman-frames/Batman (1989)-002_part_261\n",
      "\n",
      "🎥 Processing: /Users/mario/Desktop/Desktop/UofA/4.Winter-2025/ece-910/Batman/Batman-(1989)-002/Batman (1989)-002_part_262.mp4\n",
      "📸 Total Frames: 229\n"
     ]
    },
    {
     "name": "stderr",
     "output_type": "stream",
     "text": [
      "Extracting Frames from Batman (1989)-002_part_262.mp4: 100%|██████████| 229/229 [00:00<00:00, 633.78it/s]\n"
     ]
    },
    {
     "name": "stdout",
     "output_type": "stream",
     "text": [
      "✅ Saved frames in: /Users/mario/Desktop/Desktop/UofA/4.Winter-2025/ece-910/Batman/VLM-testing/batman-frames/Batman (1989)-002_part_262\n",
      "\n",
      "🎥 Processing: /Users/mario/Desktop/Desktop/UofA/4.Winter-2025/ece-910/Batman/Batman-(1989)-002/Batman (1989)-002_part_263.mp4\n",
      "📸 Total Frames: 1083\n"
     ]
    },
    {
     "name": "stderr",
     "output_type": "stream",
     "text": [
      "Extracting Frames from Batman (1989)-002_part_263.mp4: 100%|██████████| 1083/1083 [00:01<00:00, 618.10it/s]\n"
     ]
    },
    {
     "name": "stdout",
     "output_type": "stream",
     "text": [
      "✅ Saved frames in: /Users/mario/Desktop/Desktop/UofA/4.Winter-2025/ece-910/Batman/VLM-testing/batman-frames/Batman (1989)-002_part_263\n",
      "\n",
      "🎥 Processing: /Users/mario/Desktop/Desktop/UofA/4.Winter-2025/ece-910/Batman/Batman-(1989)-002/Batman (1989)-002_part_264.mp4\n",
      "📸 Total Frames: 145\n"
     ]
    },
    {
     "name": "stderr",
     "output_type": "stream",
     "text": [
      "Extracting Frames from Batman (1989)-002_part_264.mp4: 100%|██████████| 145/145 [00:00<00:00, 629.72it/s]\n"
     ]
    },
    {
     "name": "stdout",
     "output_type": "stream",
     "text": [
      "✅ Saved frames in: /Users/mario/Desktop/Desktop/UofA/4.Winter-2025/ece-910/Batman/VLM-testing/batman-frames/Batman (1989)-002_part_264\n",
      "\n",
      "🎥 Processing: /Users/mario/Desktop/Desktop/UofA/4.Winter-2025/ece-910/Batman/Batman-(1989)-002/Batman (1989)-002_part_265.mp4\n",
      "📸 Total Frames: 337\n"
     ]
    },
    {
     "name": "stderr",
     "output_type": "stream",
     "text": [
      "Extracting Frames from Batman (1989)-002_part_265.mp4: 100%|██████████| 337/337 [00:00<00:00, 639.64it/s]\n"
     ]
    },
    {
     "name": "stdout",
     "output_type": "stream",
     "text": [
      "✅ Saved frames in: /Users/mario/Desktop/Desktop/UofA/4.Winter-2025/ece-910/Batman/VLM-testing/batman-frames/Batman (1989)-002_part_265\n",
      "\n",
      "🎥 Processing: /Users/mario/Desktop/Desktop/UofA/4.Winter-2025/ece-910/Batman/Batman-(1989)-002/Batman (1989)-002_part_266.mp4\n",
      "📸 Total Frames: 70\n"
     ]
    },
    {
     "name": "stderr",
     "output_type": "stream",
     "text": [
      "Extracting Frames from Batman (1989)-002_part_266.mp4: 100%|██████████| 70/70 [00:00<00:00, 589.41it/s]\n"
     ]
    },
    {
     "name": "stdout",
     "output_type": "stream",
     "text": [
      "✅ Saved frames in: /Users/mario/Desktop/Desktop/UofA/4.Winter-2025/ece-910/Batman/VLM-testing/batman-frames/Batman (1989)-002_part_266\n",
      "\n",
      "🎥 Processing: /Users/mario/Desktop/Desktop/UofA/4.Winter-2025/ece-910/Batman/Batman-(1989)-002/Batman (1989)-002_part_267.mp4\n",
      "📸 Total Frames: 570\n"
     ]
    },
    {
     "name": "stderr",
     "output_type": "stream",
     "text": [
      "Extracting Frames from Batman (1989)-002_part_267.mp4: 100%|██████████| 570/570 [00:01<00:00, 563.47it/s]\n"
     ]
    },
    {
     "name": "stdout",
     "output_type": "stream",
     "text": [
      "✅ Saved frames in: /Users/mario/Desktop/Desktop/UofA/4.Winter-2025/ece-910/Batman/VLM-testing/batman-frames/Batman (1989)-002_part_267\n",
      "\n",
      "🎥 Processing: /Users/mario/Desktop/Desktop/UofA/4.Winter-2025/ece-910/Batman/Batman-(1989)-002/Batman (1989)-002_part_268.mp4\n",
      "📸 Total Frames: 586\n"
     ]
    },
    {
     "name": "stderr",
     "output_type": "stream",
     "text": [
      "Extracting Frames from Batman (1989)-002_part_268.mp4: 100%|██████████| 586/586 [00:01<00:00, 568.02it/s]\n"
     ]
    },
    {
     "name": "stdout",
     "output_type": "stream",
     "text": [
      "✅ Saved frames in: /Users/mario/Desktop/Desktop/UofA/4.Winter-2025/ece-910/Batman/VLM-testing/batman-frames/Batman (1989)-002_part_268\n",
      "\n",
      "🎥 Processing: /Users/mario/Desktop/Desktop/UofA/4.Winter-2025/ece-910/Batman/Batman-(1989)-002/Batman (1989)-002_part_269.mp4\n",
      "📸 Total Frames: 85\n"
     ]
    },
    {
     "name": "stderr",
     "output_type": "stream",
     "text": [
      "Extracting Frames from Batman (1989)-002_part_269.mp4: 100%|██████████| 85/85 [00:00<00:00, 611.44it/s]\n"
     ]
    },
    {
     "name": "stdout",
     "output_type": "stream",
     "text": [
      "✅ Saved frames in: /Users/mario/Desktop/Desktop/UofA/4.Winter-2025/ece-910/Batman/VLM-testing/batman-frames/Batman (1989)-002_part_269\n",
      "\n",
      "🎥 Processing: /Users/mario/Desktop/Desktop/UofA/4.Winter-2025/ece-910/Batman/Batman-(1989)-002/Batman (1989)-002_part_27.mp4\n",
      "📸 Total Frames: 99\n"
     ]
    },
    {
     "name": "stderr",
     "output_type": "stream",
     "text": [
      "Extracting Frames from Batman (1989)-002_part_27.mp4: 100%|██████████| 99/99 [00:00<00:00, 576.81it/s]\n"
     ]
    },
    {
     "name": "stdout",
     "output_type": "stream",
     "text": [
      "✅ Saved frames in: /Users/mario/Desktop/Desktop/UofA/4.Winter-2025/ece-910/Batman/VLM-testing/batman-frames/Batman (1989)-002_part_27\n",
      "\n",
      "🎥 Processing: /Users/mario/Desktop/Desktop/UofA/4.Winter-2025/ece-910/Batman/Batman-(1989)-002/Batman (1989)-002_part_270.mp4\n",
      "📸 Total Frames: 61\n"
     ]
    },
    {
     "name": "stderr",
     "output_type": "stream",
     "text": [
      "Extracting Frames from Batman (1989)-002_part_270.mp4: 100%|██████████| 61/61 [00:00<00:00, 579.42it/s]\n"
     ]
    },
    {
     "name": "stdout",
     "output_type": "stream",
     "text": [
      "✅ Saved frames in: /Users/mario/Desktop/Desktop/UofA/4.Winter-2025/ece-910/Batman/VLM-testing/batman-frames/Batman (1989)-002_part_270\n",
      "\n",
      "🎥 Processing: /Users/mario/Desktop/Desktop/UofA/4.Winter-2025/ece-910/Batman/Batman-(1989)-002/Batman (1989)-002_part_271.mp4\n",
      "📸 Total Frames: 403\n"
     ]
    },
    {
     "name": "stderr",
     "output_type": "stream",
     "text": [
      "Extracting Frames from Batman (1989)-002_part_271.mp4: 100%|██████████| 403/403 [00:00<00:00, 637.58it/s]\n"
     ]
    },
    {
     "name": "stdout",
     "output_type": "stream",
     "text": [
      "✅ Saved frames in: /Users/mario/Desktop/Desktop/UofA/4.Winter-2025/ece-910/Batman/VLM-testing/batman-frames/Batman (1989)-002_part_271\n",
      "\n",
      "🎥 Processing: /Users/mario/Desktop/Desktop/UofA/4.Winter-2025/ece-910/Batman/Batman-(1989)-002/Batman (1989)-002_part_272.mp4\n",
      "📸 Total Frames: 528\n"
     ]
    },
    {
     "name": "stderr",
     "output_type": "stream",
     "text": [
      "Extracting Frames from Batman (1989)-002_part_272.mp4: 100%|██████████| 528/528 [00:00<00:00, 608.09it/s]\n"
     ]
    },
    {
     "name": "stdout",
     "output_type": "stream",
     "text": [
      "✅ Saved frames in: /Users/mario/Desktop/Desktop/UofA/4.Winter-2025/ece-910/Batman/VLM-testing/batman-frames/Batman (1989)-002_part_272\n",
      "\n",
      "🎥 Processing: /Users/mario/Desktop/Desktop/UofA/4.Winter-2025/ece-910/Batman/Batman-(1989)-002/Batman (1989)-002_part_273.mp4\n",
      "📸 Total Frames: 78\n"
     ]
    },
    {
     "name": "stderr",
     "output_type": "stream",
     "text": [
      "Extracting Frames from Batman (1989)-002_part_273.mp4: 100%|██████████| 78/78 [00:00<00:00, 586.20it/s]\n"
     ]
    },
    {
     "name": "stdout",
     "output_type": "stream",
     "text": [
      "✅ Saved frames in: /Users/mario/Desktop/Desktop/UofA/4.Winter-2025/ece-910/Batman/VLM-testing/batman-frames/Batman (1989)-002_part_273\n",
      "\n",
      "🎥 Processing: /Users/mario/Desktop/Desktop/UofA/4.Winter-2025/ece-910/Batman/Batman-(1989)-002/Batman (1989)-002_part_274.mp4\n",
      "📸 Total Frames: 33\n"
     ]
    },
    {
     "name": "stderr",
     "output_type": "stream",
     "text": [
      "Extracting Frames from Batman (1989)-002_part_274.mp4: 100%|██████████| 33/33 [00:00<00:00, 569.98it/s]\n"
     ]
    },
    {
     "name": "stdout",
     "output_type": "stream",
     "text": [
      "✅ Saved frames in: /Users/mario/Desktop/Desktop/UofA/4.Winter-2025/ece-910/Batman/VLM-testing/batman-frames/Batman (1989)-002_part_274\n",
      "\n",
      "🎥 Processing: /Users/mario/Desktop/Desktop/UofA/4.Winter-2025/ece-910/Batman/Batman-(1989)-002/Batman (1989)-002_part_275.mp4\n",
      "📸 Total Frames: 56\n"
     ]
    },
    {
     "name": "stderr",
     "output_type": "stream",
     "text": [
      "Extracting Frames from Batman (1989)-002_part_275.mp4: 100%|██████████| 56/56 [00:00<00:00, 615.87it/s]\n"
     ]
    },
    {
     "name": "stdout",
     "output_type": "stream",
     "text": [
      "✅ Saved frames in: /Users/mario/Desktop/Desktop/UofA/4.Winter-2025/ece-910/Batman/VLM-testing/batman-frames/Batman (1989)-002_part_275\n",
      "\n",
      "🎥 Processing: /Users/mario/Desktop/Desktop/UofA/4.Winter-2025/ece-910/Batman/Batman-(1989)-002/Batman (1989)-002_part_276.mp4\n",
      "📸 Total Frames: 82\n"
     ]
    },
    {
     "name": "stderr",
     "output_type": "stream",
     "text": [
      "Extracting Frames from Batman (1989)-002_part_276.mp4: 100%|██████████| 82/82 [00:00<00:00, 607.84it/s]\n"
     ]
    },
    {
     "name": "stdout",
     "output_type": "stream",
     "text": [
      "✅ Saved frames in: /Users/mario/Desktop/Desktop/UofA/4.Winter-2025/ece-910/Batman/VLM-testing/batman-frames/Batman (1989)-002_part_276\n",
      "\n",
      "🎥 Processing: /Users/mario/Desktop/Desktop/UofA/4.Winter-2025/ece-910/Batman/Batman-(1989)-002/Batman (1989)-002_part_277.mp4\n",
      "📸 Total Frames: 36\n"
     ]
    },
    {
     "name": "stderr",
     "output_type": "stream",
     "text": [
      "Extracting Frames from Batman (1989)-002_part_277.mp4: 100%|██████████| 36/36 [00:00<00:00, 573.33it/s]\n"
     ]
    },
    {
     "name": "stdout",
     "output_type": "stream",
     "text": [
      "✅ Saved frames in: /Users/mario/Desktop/Desktop/UofA/4.Winter-2025/ece-910/Batman/VLM-testing/batman-frames/Batman (1989)-002_part_277\n",
      "\n",
      "🎥 Processing: /Users/mario/Desktop/Desktop/UofA/4.Winter-2025/ece-910/Batman/Batman-(1989)-002/Batman (1989)-002_part_278.mp4\n",
      "📸 Total Frames: 33\n"
     ]
    },
    {
     "name": "stderr",
     "output_type": "stream",
     "text": [
      "Extracting Frames from Batman (1989)-002_part_278.mp4: 100%|██████████| 33/33 [00:00<00:00, 557.87it/s]\n"
     ]
    },
    {
     "name": "stdout",
     "output_type": "stream",
     "text": [
      "✅ Saved frames in: /Users/mario/Desktop/Desktop/UofA/4.Winter-2025/ece-910/Batman/VLM-testing/batman-frames/Batman (1989)-002_part_278\n",
      "\n",
      "🎥 Processing: /Users/mario/Desktop/Desktop/UofA/4.Winter-2025/ece-910/Batman/Batman-(1989)-002/Batman (1989)-002_part_279.mp4\n",
      "📸 Total Frames: 195\n"
     ]
    },
    {
     "name": "stderr",
     "output_type": "stream",
     "text": [
      "Extracting Frames from Batman (1989)-002_part_279.mp4: 100%|██████████| 195/195 [00:00<00:00, 599.60it/s]\n"
     ]
    },
    {
     "name": "stdout",
     "output_type": "stream",
     "text": [
      "✅ Saved frames in: /Users/mario/Desktop/Desktop/UofA/4.Winter-2025/ece-910/Batman/VLM-testing/batman-frames/Batman (1989)-002_part_279\n",
      "\n",
      "🎥 Processing: /Users/mario/Desktop/Desktop/UofA/4.Winter-2025/ece-910/Batman/Batman-(1989)-002/Batman (1989)-002_part_28.mp4\n",
      "📸 Total Frames: 117\n"
     ]
    },
    {
     "name": "stderr",
     "output_type": "stream",
     "text": [
      "Extracting Frames from Batman (1989)-002_part_28.mp4: 100%|██████████| 117/117 [00:00<00:00, 563.33it/s]\n"
     ]
    },
    {
     "name": "stdout",
     "output_type": "stream",
     "text": [
      "✅ Saved frames in: /Users/mario/Desktop/Desktop/UofA/4.Winter-2025/ece-910/Batman/VLM-testing/batman-frames/Batman (1989)-002_part_28\n",
      "\n",
      "🎥 Processing: /Users/mario/Desktop/Desktop/UofA/4.Winter-2025/ece-910/Batman/Batman-(1989)-002/Batman (1989)-002_part_280.mp4\n",
      "📸 Total Frames: 798\n"
     ]
    },
    {
     "name": "stderr",
     "output_type": "stream",
     "text": [
      "Extracting Frames from Batman (1989)-002_part_280.mp4: 100%|██████████| 798/798 [00:01<00:00, 632.16it/s]\n"
     ]
    },
    {
     "name": "stdout",
     "output_type": "stream",
     "text": [
      "✅ Saved frames in: /Users/mario/Desktop/Desktop/UofA/4.Winter-2025/ece-910/Batman/VLM-testing/batman-frames/Batman (1989)-002_part_280\n",
      "\n",
      "🎥 Processing: /Users/mario/Desktop/Desktop/UofA/4.Winter-2025/ece-910/Batman/Batman-(1989)-002/Batman (1989)-002_part_281.mp4\n",
      "📸 Total Frames: 326\n"
     ]
    },
    {
     "name": "stderr",
     "output_type": "stream",
     "text": [
      "Extracting Frames from Batman (1989)-002_part_281.mp4: 100%|██████████| 326/326 [00:00<00:00, 487.96it/s]\n"
     ]
    },
    {
     "name": "stdout",
     "output_type": "stream",
     "text": [
      "✅ Saved frames in: /Users/mario/Desktop/Desktop/UofA/4.Winter-2025/ece-910/Batman/VLM-testing/batman-frames/Batman (1989)-002_part_281\n",
      "\n",
      "🎥 Processing: /Users/mario/Desktop/Desktop/UofA/4.Winter-2025/ece-910/Batman/Batman-(1989)-002/Batman (1989)-002_part_282.mp4\n",
      "📸 Total Frames: 16\n"
     ]
    },
    {
     "name": "stderr",
     "output_type": "stream",
     "text": [
      "Extracting Frames from Batman (1989)-002_part_282.mp4: 100%|██████████| 16/16 [00:00<00:00, 546.65it/s]\n"
     ]
    },
    {
     "name": "stdout",
     "output_type": "stream",
     "text": [
      "✅ Saved frames in: /Users/mario/Desktop/Desktop/UofA/4.Winter-2025/ece-910/Batman/VLM-testing/batman-frames/Batman (1989)-002_part_282\n",
      "\n",
      "🎥 Processing: /Users/mario/Desktop/Desktop/UofA/4.Winter-2025/ece-910/Batman/Batman-(1989)-002/Batman (1989)-002_part_283.mp4\n",
      "📸 Total Frames: 170\n"
     ]
    },
    {
     "name": "stderr",
     "output_type": "stream",
     "text": [
      "Extracting Frames from Batman (1989)-002_part_283.mp4: 100%|██████████| 170/170 [00:00<00:00, 639.54it/s]\n"
     ]
    },
    {
     "name": "stdout",
     "output_type": "stream",
     "text": [
      "✅ Saved frames in: /Users/mario/Desktop/Desktop/UofA/4.Winter-2025/ece-910/Batman/VLM-testing/batman-frames/Batman (1989)-002_part_283\n",
      "\n",
      "🎥 Processing: /Users/mario/Desktop/Desktop/UofA/4.Winter-2025/ece-910/Batman/Batman-(1989)-002/Batman (1989)-002_part_284.mp4\n",
      "📸 Total Frames: 84\n"
     ]
    },
    {
     "name": "stderr",
     "output_type": "stream",
     "text": [
      "Extracting Frames from Batman (1989)-002_part_284.mp4: 100%|██████████| 84/84 [00:00<00:00, 534.12it/s]\n"
     ]
    },
    {
     "name": "stdout",
     "output_type": "stream",
     "text": [
      "✅ Saved frames in: /Users/mario/Desktop/Desktop/UofA/4.Winter-2025/ece-910/Batman/VLM-testing/batman-frames/Batman (1989)-002_part_284\n",
      "\n",
      "🎥 Processing: /Users/mario/Desktop/Desktop/UofA/4.Winter-2025/ece-910/Batman/Batman-(1989)-002/Batman (1989)-002_part_285.mp4\n",
      "📸 Total Frames: 52\n"
     ]
    },
    {
     "name": "stderr",
     "output_type": "stream",
     "text": [
      "Extracting Frames from Batman (1989)-002_part_285.mp4: 100%|██████████| 52/52 [00:00<00:00, 579.66it/s]\n"
     ]
    },
    {
     "name": "stdout",
     "output_type": "stream",
     "text": [
      "✅ Saved frames in: /Users/mario/Desktop/Desktop/UofA/4.Winter-2025/ece-910/Batman/VLM-testing/batman-frames/Batman (1989)-002_part_285\n",
      "\n",
      "🎥 Processing: /Users/mario/Desktop/Desktop/UofA/4.Winter-2025/ece-910/Batman/Batman-(1989)-002/Batman (1989)-002_part_286.mp4\n",
      "📸 Total Frames: 293\n"
     ]
    },
    {
     "name": "stderr",
     "output_type": "stream",
     "text": [
      "Extracting Frames from Batman (1989)-002_part_286.mp4: 100%|██████████| 293/293 [00:00<00:00, 645.75it/s]\n"
     ]
    },
    {
     "name": "stdout",
     "output_type": "stream",
     "text": [
      "✅ Saved frames in: /Users/mario/Desktop/Desktop/UofA/4.Winter-2025/ece-910/Batman/VLM-testing/batman-frames/Batman (1989)-002_part_286\n",
      "\n",
      "🎥 Processing: /Users/mario/Desktop/Desktop/UofA/4.Winter-2025/ece-910/Batman/Batman-(1989)-002/Batman (1989)-002_part_287.mp4\n",
      "📸 Total Frames: 25\n"
     ]
    },
    {
     "name": "stderr",
     "output_type": "stream",
     "text": [
      "Extracting Frames from Batman (1989)-002_part_287.mp4: 100%|██████████| 25/25 [00:00<00:00, 602.86it/s]\n"
     ]
    },
    {
     "name": "stdout",
     "output_type": "stream",
     "text": [
      "✅ Saved frames in: /Users/mario/Desktop/Desktop/UofA/4.Winter-2025/ece-910/Batman/VLM-testing/batman-frames/Batman (1989)-002_part_287\n",
      "\n",
      "🎥 Processing: /Users/mario/Desktop/Desktop/UofA/4.Winter-2025/ece-910/Batman/Batman-(1989)-002/Batman (1989)-002_part_288.mp4\n",
      "📸 Total Frames: 49\n"
     ]
    },
    {
     "name": "stderr",
     "output_type": "stream",
     "text": [
      "Extracting Frames from Batman (1989)-002_part_288.mp4: 100%|██████████| 49/49 [00:00<00:00, 605.10it/s]\n"
     ]
    },
    {
     "name": "stdout",
     "output_type": "stream",
     "text": [
      "✅ Saved frames in: /Users/mario/Desktop/Desktop/UofA/4.Winter-2025/ece-910/Batman/VLM-testing/batman-frames/Batman (1989)-002_part_288\n",
      "\n",
      "🎥 Processing: /Users/mario/Desktop/Desktop/UofA/4.Winter-2025/ece-910/Batman/Batman-(1989)-002/Batman (1989)-002_part_289.mp4\n",
      "📸 Total Frames: 44\n"
     ]
    },
    {
     "name": "stderr",
     "output_type": "stream",
     "text": [
      "Extracting Frames from Batman (1989)-002_part_289.mp4: 100%|██████████| 44/44 [00:00<00:00, 594.69it/s]\n"
     ]
    },
    {
     "name": "stdout",
     "output_type": "stream",
     "text": [
      "✅ Saved frames in: /Users/mario/Desktop/Desktop/UofA/4.Winter-2025/ece-910/Batman/VLM-testing/batman-frames/Batman (1989)-002_part_289\n",
      "\n",
      "🎥 Processing: /Users/mario/Desktop/Desktop/UofA/4.Winter-2025/ece-910/Batman/Batman-(1989)-002/Batman (1989)-002_part_29.mp4\n",
      "📸 Total Frames: 535\n"
     ]
    },
    {
     "name": "stderr",
     "output_type": "stream",
     "text": [
      "Extracting Frames from Batman (1989)-002_part_29.mp4: 100%|██████████| 535/535 [00:00<00:00, 630.23it/s]\n"
     ]
    },
    {
     "name": "stdout",
     "output_type": "stream",
     "text": [
      "✅ Saved frames in: /Users/mario/Desktop/Desktop/UofA/4.Winter-2025/ece-910/Batman/VLM-testing/batman-frames/Batman (1989)-002_part_29\n",
      "\n",
      "🎥 Processing: /Users/mario/Desktop/Desktop/UofA/4.Winter-2025/ece-910/Batman/Batman-(1989)-002/Batman (1989)-002_part_290.mp4\n",
      "📸 Total Frames: 167\n"
     ]
    },
    {
     "name": "stderr",
     "output_type": "stream",
     "text": [
      "Extracting Frames from Batman (1989)-002_part_290.mp4: 100%|██████████| 167/167 [00:00<00:00, 619.78it/s]\n"
     ]
    },
    {
     "name": "stdout",
     "output_type": "stream",
     "text": [
      "✅ Saved frames in: /Users/mario/Desktop/Desktop/UofA/4.Winter-2025/ece-910/Batman/VLM-testing/batman-frames/Batman (1989)-002_part_290\n",
      "\n",
      "🎥 Processing: /Users/mario/Desktop/Desktop/UofA/4.Winter-2025/ece-910/Batman/Batman-(1989)-002/Batman (1989)-002_part_291.mp4\n",
      "📸 Total Frames: 601\n"
     ]
    },
    {
     "name": "stderr",
     "output_type": "stream",
     "text": [
      "Extracting Frames from Batman (1989)-002_part_291.mp4: 100%|██████████| 601/601 [00:01<00:00, 564.44it/s]\n"
     ]
    },
    {
     "name": "stdout",
     "output_type": "stream",
     "text": [
      "✅ Saved frames in: /Users/mario/Desktop/Desktop/UofA/4.Winter-2025/ece-910/Batman/VLM-testing/batman-frames/Batman (1989)-002_part_291\n",
      "\n",
      "🎥 Processing: /Users/mario/Desktop/Desktop/UofA/4.Winter-2025/ece-910/Batman/Batman-(1989)-002/Batman (1989)-002_part_292.mp4\n",
      "📸 Total Frames: 128\n"
     ]
    },
    {
     "name": "stderr",
     "output_type": "stream",
     "text": [
      "Extracting Frames from Batman (1989)-002_part_292.mp4: 100%|██████████| 128/128 [00:00<00:00, 622.85it/s]\n"
     ]
    },
    {
     "name": "stdout",
     "output_type": "stream",
     "text": [
      "✅ Saved frames in: /Users/mario/Desktop/Desktop/UofA/4.Winter-2025/ece-910/Batman/VLM-testing/batman-frames/Batman (1989)-002_part_292\n",
      "\n",
      "🎥 Processing: /Users/mario/Desktop/Desktop/UofA/4.Winter-2025/ece-910/Batman/Batman-(1989)-002/Batman (1989)-002_part_293.mp4\n",
      "📸 Total Frames: 102\n"
     ]
    },
    {
     "name": "stderr",
     "output_type": "stream",
     "text": [
      "Extracting Frames from Batman (1989)-002_part_293.mp4: 100%|██████████| 102/102 [00:00<00:00, 610.83it/s]\n"
     ]
    },
    {
     "name": "stdout",
     "output_type": "stream",
     "text": [
      "✅ Saved frames in: /Users/mario/Desktop/Desktop/UofA/4.Winter-2025/ece-910/Batman/VLM-testing/batman-frames/Batman (1989)-002_part_293\n",
      "\n",
      "🎥 Processing: /Users/mario/Desktop/Desktop/UofA/4.Winter-2025/ece-910/Batman/Batman-(1989)-002/Batman (1989)-002_part_294.mp4\n",
      "📸 Total Frames: 1079\n"
     ]
    },
    {
     "name": "stderr",
     "output_type": "stream",
     "text": [
      "Extracting Frames from Batman (1989)-002_part_294.mp4: 100%|██████████| 1079/1079 [00:01<00:00, 633.56it/s]\n"
     ]
    },
    {
     "name": "stdout",
     "output_type": "stream",
     "text": [
      "✅ Saved frames in: /Users/mario/Desktop/Desktop/UofA/4.Winter-2025/ece-910/Batman/VLM-testing/batman-frames/Batman (1989)-002_part_294\n",
      "\n",
      "🎥 Processing: /Users/mario/Desktop/Desktop/UofA/4.Winter-2025/ece-910/Batman/Batman-(1989)-002/Batman (1989)-002_part_295.mp4\n",
      "📸 Total Frames: 1295\n"
     ]
    },
    {
     "name": "stderr",
     "output_type": "stream",
     "text": [
      "Extracting Frames from Batman (1989)-002_part_295.mp4: 100%|██████████| 1295/1295 [00:02<00:00, 569.69it/s]\n"
     ]
    },
    {
     "name": "stdout",
     "output_type": "stream",
     "text": [
      "✅ Saved frames in: /Users/mario/Desktop/Desktop/UofA/4.Winter-2025/ece-910/Batman/VLM-testing/batman-frames/Batman (1989)-002_part_295\n",
      "\n",
      "🎥 Processing: /Users/mario/Desktop/Desktop/UofA/4.Winter-2025/ece-910/Batman/Batman-(1989)-002/Batman (1989)-002_part_296.mp4\n",
      "📸 Total Frames: 206\n"
     ]
    },
    {
     "name": "stderr",
     "output_type": "stream",
     "text": [
      "Extracting Frames from Batman (1989)-002_part_296.mp4: 100%|██████████| 206/206 [00:00<00:00, 592.34it/s]\n"
     ]
    },
    {
     "name": "stdout",
     "output_type": "stream",
     "text": [
      "✅ Saved frames in: /Users/mario/Desktop/Desktop/UofA/4.Winter-2025/ece-910/Batman/VLM-testing/batman-frames/Batman (1989)-002_part_296\n",
      "\n",
      "🎥 Processing: /Users/mario/Desktop/Desktop/UofA/4.Winter-2025/ece-910/Batman/Batman-(1989)-002/Batman (1989)-002_part_297.mp4\n",
      "📸 Total Frames: 38\n"
     ]
    },
    {
     "name": "stderr",
     "output_type": "stream",
     "text": [
      "Extracting Frames from Batman (1989)-002_part_297.mp4: 100%|██████████| 38/38 [00:00<00:00, 555.98it/s]\n"
     ]
    },
    {
     "name": "stdout",
     "output_type": "stream",
     "text": [
      "✅ Saved frames in: /Users/mario/Desktop/Desktop/UofA/4.Winter-2025/ece-910/Batman/VLM-testing/batman-frames/Batman (1989)-002_part_297\n",
      "\n",
      "🎥 Processing: /Users/mario/Desktop/Desktop/UofA/4.Winter-2025/ece-910/Batman/Batman-(1989)-002/Batman (1989)-002_part_298.mp4\n",
      "📸 Total Frames: 85\n"
     ]
    },
    {
     "name": "stderr",
     "output_type": "stream",
     "text": [
      "Extracting Frames from Batman (1989)-002_part_298.mp4: 100%|██████████| 85/85 [00:00<00:00, 610.36it/s]\n"
     ]
    },
    {
     "name": "stdout",
     "output_type": "stream",
     "text": [
      "✅ Saved frames in: /Users/mario/Desktop/Desktop/UofA/4.Winter-2025/ece-910/Batman/VLM-testing/batman-frames/Batman (1989)-002_part_298\n",
      "\n",
      "🎥 Processing: /Users/mario/Desktop/Desktop/UofA/4.Winter-2025/ece-910/Batman/Batman-(1989)-002/Batman (1989)-002_part_299.mp4\n",
      "📸 Total Frames: 38\n"
     ]
    },
    {
     "name": "stderr",
     "output_type": "stream",
     "text": [
      "Extracting Frames from Batman (1989)-002_part_299.mp4: 100%|██████████| 38/38 [00:00<00:00, 578.44it/s]\n"
     ]
    },
    {
     "name": "stdout",
     "output_type": "stream",
     "text": [
      "✅ Saved frames in: /Users/mario/Desktop/Desktop/UofA/4.Winter-2025/ece-910/Batman/VLM-testing/batman-frames/Batman (1989)-002_part_299\n",
      "\n",
      "🎥 Processing: /Users/mario/Desktop/Desktop/UofA/4.Winter-2025/ece-910/Batman/Batman-(1989)-002/Batman (1989)-002_part_3.mp4\n",
      "📸 Total Frames: 2281\n"
     ]
    },
    {
     "name": "stderr",
     "output_type": "stream",
     "text": [
      "Extracting Frames from Batman (1989)-002_part_3.mp4: 100%|██████████| 2281/2281 [00:03<00:00, 643.10it/s]\n"
     ]
    },
    {
     "name": "stdout",
     "output_type": "stream",
     "text": [
      "✅ Saved frames in: /Users/mario/Desktop/Desktop/UofA/4.Winter-2025/ece-910/Batman/VLM-testing/batman-frames/Batman (1989)-002_part_3\n",
      "\n",
      "🎥 Processing: /Users/mario/Desktop/Desktop/UofA/4.Winter-2025/ece-910/Batman/Batman-(1989)-002/Batman (1989)-002_part_30.mp4\n",
      "📸 Total Frames: 35\n"
     ]
    },
    {
     "name": "stderr",
     "output_type": "stream",
     "text": [
      "Extracting Frames from Batman (1989)-002_part_30.mp4: 100%|██████████| 35/35 [00:00<00:00, 569.37it/s]\n"
     ]
    },
    {
     "name": "stdout",
     "output_type": "stream",
     "text": [
      "✅ Saved frames in: /Users/mario/Desktop/Desktop/UofA/4.Winter-2025/ece-910/Batman/VLM-testing/batman-frames/Batman (1989)-002_part_30\n",
      "\n",
      "🎥 Processing: /Users/mario/Desktop/Desktop/UofA/4.Winter-2025/ece-910/Batman/Batman-(1989)-002/Batman (1989)-002_part_300.mp4\n",
      "📸 Total Frames: 41\n"
     ]
    },
    {
     "name": "stderr",
     "output_type": "stream",
     "text": [
      "Extracting Frames from Batman (1989)-002_part_300.mp4: 100%|██████████| 41/41 [00:00<00:00, 599.74it/s]\n"
     ]
    },
    {
     "name": "stdout",
     "output_type": "stream",
     "text": [
      "✅ Saved frames in: /Users/mario/Desktop/Desktop/UofA/4.Winter-2025/ece-910/Batman/VLM-testing/batman-frames/Batman (1989)-002_part_300\n",
      "\n",
      "🎥 Processing: /Users/mario/Desktop/Desktop/UofA/4.Winter-2025/ece-910/Batman/Batman-(1989)-002/Batman (1989)-002_part_301.mp4\n",
      "📸 Total Frames: 317\n"
     ]
    },
    {
     "name": "stderr",
     "output_type": "stream",
     "text": [
      "Extracting Frames from Batman (1989)-002_part_301.mp4: 100%|██████████| 317/317 [00:00<00:00, 513.94it/s]\n"
     ]
    },
    {
     "name": "stdout",
     "output_type": "stream",
     "text": [
      "✅ Saved frames in: /Users/mario/Desktop/Desktop/UofA/4.Winter-2025/ece-910/Batman/VLM-testing/batman-frames/Batman (1989)-002_part_301\n",
      "\n",
      "🎥 Processing: /Users/mario/Desktop/Desktop/UofA/4.Winter-2025/ece-910/Batman/Batman-(1989)-002/Batman (1989)-002_part_302.mp4\n",
      "📸 Total Frames: 304\n"
     ]
    },
    {
     "name": "stderr",
     "output_type": "stream",
     "text": [
      "Extracting Frames from Batman (1989)-002_part_302.mp4: 100%|██████████| 304/304 [00:00<00:00, 485.80it/s]\n"
     ]
    },
    {
     "name": "stdout",
     "output_type": "stream",
     "text": [
      "✅ Saved frames in: /Users/mario/Desktop/Desktop/UofA/4.Winter-2025/ece-910/Batman/VLM-testing/batman-frames/Batman (1989)-002_part_302\n",
      "\n",
      "🎥 Processing: /Users/mario/Desktop/Desktop/UofA/4.Winter-2025/ece-910/Batman/Batman-(1989)-002/Batman (1989)-002_part_303.mp4\n",
      "📸 Total Frames: 61\n"
     ]
    },
    {
     "name": "stderr",
     "output_type": "stream",
     "text": [
      "Extracting Frames from Batman (1989)-002_part_303.mp4: 100%|██████████| 61/61 [00:00<00:00, 565.87it/s]\n"
     ]
    },
    {
     "name": "stdout",
     "output_type": "stream",
     "text": [
      "✅ Saved frames in: /Users/mario/Desktop/Desktop/UofA/4.Winter-2025/ece-910/Batman/VLM-testing/batman-frames/Batman (1989)-002_part_303\n",
      "\n",
      "🎥 Processing: /Users/mario/Desktop/Desktop/UofA/4.Winter-2025/ece-910/Batman/Batman-(1989)-002/Batman (1989)-002_part_304.mp4\n",
      "📸 Total Frames: 112\n"
     ]
    },
    {
     "name": "stderr",
     "output_type": "stream",
     "text": [
      "Extracting Frames from Batman (1989)-002_part_304.mp4: 100%|██████████| 112/112 [00:00<00:00, 297.90it/s]\n"
     ]
    },
    {
     "name": "stdout",
     "output_type": "stream",
     "text": [
      "✅ Saved frames in: /Users/mario/Desktop/Desktop/UofA/4.Winter-2025/ece-910/Batman/VLM-testing/batman-frames/Batman (1989)-002_part_304\n",
      "\n",
      "🎥 Processing: /Users/mario/Desktop/Desktop/UofA/4.Winter-2025/ece-910/Batman/Batman-(1989)-002/Batman (1989)-002_part_305.mp4\n",
      "📸 Total Frames: 61\n"
     ]
    },
    {
     "name": "stderr",
     "output_type": "stream",
     "text": [
      "Extracting Frames from Batman (1989)-002_part_305.mp4: 100%|██████████| 61/61 [00:00<00:00, 545.57it/s]\n"
     ]
    },
    {
     "name": "stdout",
     "output_type": "stream",
     "text": [
      "✅ Saved frames in: /Users/mario/Desktop/Desktop/UofA/4.Winter-2025/ece-910/Batman/VLM-testing/batman-frames/Batman (1989)-002_part_305\n",
      "\n",
      "🎥 Processing: /Users/mario/Desktop/Desktop/UofA/4.Winter-2025/ece-910/Batman/Batman-(1989)-002/Batman (1989)-002_part_306.mp4\n",
      "📸 Total Frames: 655\n"
     ]
    },
    {
     "name": "stderr",
     "output_type": "stream",
     "text": [
      "Extracting Frames from Batman (1989)-002_part_306.mp4: 100%|██████████| 655/655 [00:01<00:00, 597.24it/s]\n"
     ]
    },
    {
     "name": "stdout",
     "output_type": "stream",
     "text": [
      "✅ Saved frames in: /Users/mario/Desktop/Desktop/UofA/4.Winter-2025/ece-910/Batman/VLM-testing/batman-frames/Batman (1989)-002_part_306\n",
      "\n",
      "🎥 Processing: /Users/mario/Desktop/Desktop/UofA/4.Winter-2025/ece-910/Batman/Batman-(1989)-002/Batman (1989)-002_part_307.mp4\n",
      "📸 Total Frames: 60\n"
     ]
    },
    {
     "name": "stderr",
     "output_type": "stream",
     "text": [
      "Extracting Frames from Batman (1989)-002_part_307.mp4: 100%|██████████| 60/60 [00:00<00:00, 427.80it/s]\n"
     ]
    },
    {
     "name": "stdout",
     "output_type": "stream",
     "text": [
      "✅ Saved frames in: /Users/mario/Desktop/Desktop/UofA/4.Winter-2025/ece-910/Batman/VLM-testing/batman-frames/Batman (1989)-002_part_307\n",
      "\n",
      "🎥 Processing: /Users/mario/Desktop/Desktop/UofA/4.Winter-2025/ece-910/Batman/Batman-(1989)-002/Batman (1989)-002_part_308.mp4\n",
      "📸 Total Frames: 215\n"
     ]
    },
    {
     "name": "stderr",
     "output_type": "stream",
     "text": [
      "Extracting Frames from Batman (1989)-002_part_308.mp4: 100%|██████████| 215/215 [00:00<00:00, 535.72it/s]\n"
     ]
    },
    {
     "name": "stdout",
     "output_type": "stream",
     "text": [
      "✅ Saved frames in: /Users/mario/Desktop/Desktop/UofA/4.Winter-2025/ece-910/Batman/VLM-testing/batman-frames/Batman (1989)-002_part_308\n",
      "\n",
      "🎥 Processing: /Users/mario/Desktop/Desktop/UofA/4.Winter-2025/ece-910/Batman/Batman-(1989)-002/Batman (1989)-002_part_309.mp4\n",
      "📸 Total Frames: 474\n"
     ]
    },
    {
     "name": "stderr",
     "output_type": "stream",
     "text": [
      "Extracting Frames from Batman (1989)-002_part_309.mp4: 100%|██████████| 474/474 [00:00<00:00, 610.37it/s]\n"
     ]
    },
    {
     "name": "stdout",
     "output_type": "stream",
     "text": [
      "✅ Saved frames in: /Users/mario/Desktop/Desktop/UofA/4.Winter-2025/ece-910/Batman/VLM-testing/batman-frames/Batman (1989)-002_part_309\n",
      "\n",
      "🎥 Processing: /Users/mario/Desktop/Desktop/UofA/4.Winter-2025/ece-910/Batman/Batman-(1989)-002/Batman (1989)-002_part_31.mp4\n",
      "📸 Total Frames: 1058\n"
     ]
    },
    {
     "name": "stderr",
     "output_type": "stream",
     "text": [
      "Extracting Frames from Batman (1989)-002_part_31.mp4: 100%|██████████| 1058/1058 [00:01<00:00, 564.46it/s]\n"
     ]
    },
    {
     "name": "stdout",
     "output_type": "stream",
     "text": [
      "✅ Saved frames in: /Users/mario/Desktop/Desktop/UofA/4.Winter-2025/ece-910/Batman/VLM-testing/batman-frames/Batman (1989)-002_part_31\n",
      "\n",
      "🎥 Processing: /Users/mario/Desktop/Desktop/UofA/4.Winter-2025/ece-910/Batman/Batman-(1989)-002/Batman (1989)-002_part_310.mp4\n",
      "📸 Total Frames: 230\n"
     ]
    },
    {
     "name": "stderr",
     "output_type": "stream",
     "text": [
      "Extracting Frames from Batman (1989)-002_part_310.mp4: 100%|██████████| 230/230 [00:00<00:00, 562.47it/s]\n"
     ]
    },
    {
     "name": "stdout",
     "output_type": "stream",
     "text": [
      "✅ Saved frames in: /Users/mario/Desktop/Desktop/UofA/4.Winter-2025/ece-910/Batman/VLM-testing/batman-frames/Batman (1989)-002_part_310\n",
      "\n",
      "🎥 Processing: /Users/mario/Desktop/Desktop/UofA/4.Winter-2025/ece-910/Batman/Batman-(1989)-002/Batman (1989)-002_part_311.mp4\n",
      "📸 Total Frames: 190\n"
     ]
    },
    {
     "name": "stderr",
     "output_type": "stream",
     "text": [
      "Extracting Frames from Batman (1989)-002_part_311.mp4: 100%|██████████| 190/190 [00:00<00:00, 611.70it/s]\n"
     ]
    },
    {
     "name": "stdout",
     "output_type": "stream",
     "text": [
      "✅ Saved frames in: /Users/mario/Desktop/Desktop/UofA/4.Winter-2025/ece-910/Batman/VLM-testing/batman-frames/Batman (1989)-002_part_311\n",
      "\n",
      "🎥 Processing: /Users/mario/Desktop/Desktop/UofA/4.Winter-2025/ece-910/Batman/Batman-(1989)-002/Batman (1989)-002_part_312.mp4\n",
      "📸 Total Frames: 279\n"
     ]
    },
    {
     "name": "stderr",
     "output_type": "stream",
     "text": [
      "Extracting Frames from Batman (1989)-002_part_312.mp4: 100%|██████████| 279/279 [00:00<00:00, 611.70it/s]\n"
     ]
    },
    {
     "name": "stdout",
     "output_type": "stream",
     "text": [
      "✅ Saved frames in: /Users/mario/Desktop/Desktop/UofA/4.Winter-2025/ece-910/Batman/VLM-testing/batman-frames/Batman (1989)-002_part_312\n",
      "\n",
      "🎥 Processing: /Users/mario/Desktop/Desktop/UofA/4.Winter-2025/ece-910/Batman/Batman-(1989)-002/Batman (1989)-002_part_313.mp4\n",
      "📸 Total Frames: 746\n"
     ]
    },
    {
     "name": "stderr",
     "output_type": "stream",
     "text": [
      "Extracting Frames from Batman (1989)-002_part_313.mp4: 100%|██████████| 746/746 [00:01<00:00, 585.57it/s]\n"
     ]
    },
    {
     "name": "stdout",
     "output_type": "stream",
     "text": [
      "✅ Saved frames in: /Users/mario/Desktop/Desktop/UofA/4.Winter-2025/ece-910/Batman/VLM-testing/batman-frames/Batman (1989)-002_part_313\n",
      "\n",
      "🎥 Processing: /Users/mario/Desktop/Desktop/UofA/4.Winter-2025/ece-910/Batman/Batman-(1989)-002/Batman (1989)-002_part_314.mp4\n",
      "📸 Total Frames: 192\n"
     ]
    },
    {
     "name": "stderr",
     "output_type": "stream",
     "text": [
      "Extracting Frames from Batman (1989)-002_part_314.mp4: 100%|██████████| 192/192 [00:00<00:00, 375.91it/s]\n"
     ]
    },
    {
     "name": "stdout",
     "output_type": "stream",
     "text": [
      "✅ Saved frames in: /Users/mario/Desktop/Desktop/UofA/4.Winter-2025/ece-910/Batman/VLM-testing/batman-frames/Batman (1989)-002_part_314\n",
      "\n",
      "🎥 Processing: /Users/mario/Desktop/Desktop/UofA/4.Winter-2025/ece-910/Batman/Batman-(1989)-002/Batman (1989)-002_part_315.mp4\n",
      "📸 Total Frames: 622\n"
     ]
    },
    {
     "name": "stderr",
     "output_type": "stream",
     "text": [
      "Extracting Frames from Batman (1989)-002_part_315.mp4: 100%|██████████| 622/622 [00:01<00:00, 509.89it/s]\n"
     ]
    },
    {
     "name": "stdout",
     "output_type": "stream",
     "text": [
      "✅ Saved frames in: /Users/mario/Desktop/Desktop/UofA/4.Winter-2025/ece-910/Batman/VLM-testing/batman-frames/Batman (1989)-002_part_315\n",
      "\n",
      "🎥 Processing: /Users/mario/Desktop/Desktop/UofA/4.Winter-2025/ece-910/Batman/Batman-(1989)-002/Batman (1989)-002_part_316.mp4\n",
      "📸 Total Frames: 185\n"
     ]
    },
    {
     "name": "stderr",
     "output_type": "stream",
     "text": [
      "Extracting Frames from Batman (1989)-002_part_316.mp4: 100%|██████████| 185/185 [00:00<00:00, 553.15it/s]\n"
     ]
    },
    {
     "name": "stdout",
     "output_type": "stream",
     "text": [
      "✅ Saved frames in: /Users/mario/Desktop/Desktop/UofA/4.Winter-2025/ece-910/Batman/VLM-testing/batman-frames/Batman (1989)-002_part_316\n",
      "\n",
      "🎥 Processing: /Users/mario/Desktop/Desktop/UofA/4.Winter-2025/ece-910/Batman/Batman-(1989)-002/Batman (1989)-002_part_317.mp4\n",
      "📸 Total Frames: 80\n"
     ]
    },
    {
     "name": "stderr",
     "output_type": "stream",
     "text": [
      "Extracting Frames from Batman (1989)-002_part_317.mp4: 100%|██████████| 80/80 [00:00<00:00, 515.92it/s]\n"
     ]
    },
    {
     "name": "stdout",
     "output_type": "stream",
     "text": [
      "✅ Saved frames in: /Users/mario/Desktop/Desktop/UofA/4.Winter-2025/ece-910/Batman/VLM-testing/batman-frames/Batman (1989)-002_part_317\n",
      "\n",
      "🎥 Processing: /Users/mario/Desktop/Desktop/UofA/4.Winter-2025/ece-910/Batman/Batman-(1989)-002/Batman (1989)-002_part_318.mp4\n",
      "📸 Total Frames: 65\n"
     ]
    },
    {
     "name": "stderr",
     "output_type": "stream",
     "text": [
      "Extracting Frames from Batman (1989)-002_part_318.mp4: 100%|██████████| 65/65 [00:00<00:00, 555.97it/s]\n"
     ]
    },
    {
     "name": "stdout",
     "output_type": "stream",
     "text": [
      "✅ Saved frames in: /Users/mario/Desktop/Desktop/UofA/4.Winter-2025/ece-910/Batman/VLM-testing/batman-frames/Batman (1989)-002_part_318\n",
      "\n",
      "🎥 Processing: /Users/mario/Desktop/Desktop/UofA/4.Winter-2025/ece-910/Batman/Batman-(1989)-002/Batman (1989)-002_part_319.mp4\n",
      "📸 Total Frames: 68\n"
     ]
    },
    {
     "name": "stderr",
     "output_type": "stream",
     "text": [
      "Extracting Frames from Batman (1989)-002_part_319.mp4: 100%|██████████| 68/68 [00:00<00:00, 528.08it/s]\n"
     ]
    },
    {
     "name": "stdout",
     "output_type": "stream",
     "text": [
      "✅ Saved frames in: /Users/mario/Desktop/Desktop/UofA/4.Winter-2025/ece-910/Batman/VLM-testing/batman-frames/Batman (1989)-002_part_319\n",
      "\n",
      "🎥 Processing: /Users/mario/Desktop/Desktop/UofA/4.Winter-2025/ece-910/Batman/Batman-(1989)-002/Batman (1989)-002_part_32.mp4\n",
      "📸 Total Frames: 622\n"
     ]
    },
    {
     "name": "stderr",
     "output_type": "stream",
     "text": [
      "Extracting Frames from Batman (1989)-002_part_32.mp4: 100%|██████████| 622/622 [00:01<00:00, 584.98it/s]\n"
     ]
    },
    {
     "name": "stdout",
     "output_type": "stream",
     "text": [
      "✅ Saved frames in: /Users/mario/Desktop/Desktop/UofA/4.Winter-2025/ece-910/Batman/VLM-testing/batman-frames/Batman (1989)-002_part_32\n",
      "\n",
      "🎥 Processing: /Users/mario/Desktop/Desktop/UofA/4.Winter-2025/ece-910/Batman/Batman-(1989)-002/Batman (1989)-002_part_320.mp4\n",
      "📸 Total Frames: 336\n"
     ]
    },
    {
     "name": "stderr",
     "output_type": "stream",
     "text": [
      "Extracting Frames from Batman (1989)-002_part_320.mp4: 100%|██████████| 336/336 [00:00<00:00, 546.90it/s]\n"
     ]
    },
    {
     "name": "stdout",
     "output_type": "stream",
     "text": [
      "✅ Saved frames in: /Users/mario/Desktop/Desktop/UofA/4.Winter-2025/ece-910/Batman/VLM-testing/batman-frames/Batman (1989)-002_part_320\n",
      "\n",
      "🎥 Processing: /Users/mario/Desktop/Desktop/UofA/4.Winter-2025/ece-910/Batman/Batman-(1989)-002/Batman (1989)-002_part_321.mp4\n",
      "📸 Total Frames: 52\n"
     ]
    },
    {
     "name": "stderr",
     "output_type": "stream",
     "text": [
      "Extracting Frames from Batman (1989)-002_part_321.mp4: 100%|██████████| 52/52 [00:00<00:00, 527.59it/s]\n"
     ]
    },
    {
     "name": "stdout",
     "output_type": "stream",
     "text": [
      "✅ Saved frames in: /Users/mario/Desktop/Desktop/UofA/4.Winter-2025/ece-910/Batman/VLM-testing/batman-frames/Batman (1989)-002_part_321\n",
      "\n",
      "🎥 Processing: /Users/mario/Desktop/Desktop/UofA/4.Winter-2025/ece-910/Batman/Batman-(1989)-002/Batman (1989)-002_part_322.mp4\n",
      "📸 Total Frames: 133\n"
     ]
    },
    {
     "name": "stderr",
     "output_type": "stream",
     "text": [
      "Extracting Frames from Batman (1989)-002_part_322.mp4: 100%|██████████| 133/133 [00:00<00:00, 565.32it/s]\n"
     ]
    },
    {
     "name": "stdout",
     "output_type": "stream",
     "text": [
      "✅ Saved frames in: /Users/mario/Desktop/Desktop/UofA/4.Winter-2025/ece-910/Batman/VLM-testing/batman-frames/Batman (1989)-002_part_322\n",
      "\n",
      "🎥 Processing: /Users/mario/Desktop/Desktop/UofA/4.Winter-2025/ece-910/Batman/Batman-(1989)-002/Batman (1989)-002_part_323.mp4\n",
      "📸 Total Frames: 95\n"
     ]
    },
    {
     "name": "stderr",
     "output_type": "stream",
     "text": [
      "Extracting Frames from Batman (1989)-002_part_323.mp4: 100%|██████████| 95/95 [00:00<00:00, 544.83it/s]\n"
     ]
    },
    {
     "name": "stdout",
     "output_type": "stream",
     "text": [
      "✅ Saved frames in: /Users/mario/Desktop/Desktop/UofA/4.Winter-2025/ece-910/Batman/VLM-testing/batman-frames/Batman (1989)-002_part_323\n",
      "\n",
      "🎥 Processing: /Users/mario/Desktop/Desktop/UofA/4.Winter-2025/ece-910/Batman/Batman-(1989)-002/Batman (1989)-002_part_324.mp4\n",
      "📸 Total Frames: 33\n"
     ]
    },
    {
     "name": "stderr",
     "output_type": "stream",
     "text": [
      "Extracting Frames from Batman (1989)-002_part_324.mp4: 100%|██████████| 33/33 [00:00<00:00, 546.56it/s]\n"
     ]
    },
    {
     "name": "stdout",
     "output_type": "stream",
     "text": [
      "✅ Saved frames in: /Users/mario/Desktop/Desktop/UofA/4.Winter-2025/ece-910/Batman/VLM-testing/batman-frames/Batman (1989)-002_part_324\n",
      "\n",
      "🎥 Processing: /Users/mario/Desktop/Desktop/UofA/4.Winter-2025/ece-910/Batman/Batman-(1989)-002/Batman (1989)-002_part_325.mp4\n",
      "📸 Total Frames: 43\n"
     ]
    },
    {
     "name": "stderr",
     "output_type": "stream",
     "text": [
      "Extracting Frames from Batman (1989)-002_part_325.mp4: 100%|██████████| 43/43 [00:00<00:00, 521.54it/s]\n"
     ]
    },
    {
     "name": "stdout",
     "output_type": "stream",
     "text": [
      "✅ Saved frames in: /Users/mario/Desktop/Desktop/UofA/4.Winter-2025/ece-910/Batman/VLM-testing/batman-frames/Batman (1989)-002_part_325\n",
      "\n",
      "🎥 Processing: /Users/mario/Desktop/Desktop/UofA/4.Winter-2025/ece-910/Batman/Batman-(1989)-002/Batman (1989)-002_part_326.mp4\n",
      "📸 Total Frames: 32\n"
     ]
    },
    {
     "name": "stderr",
     "output_type": "stream",
     "text": [
      "Extracting Frames from Batman (1989)-002_part_326.mp4: 100%|██████████| 32/32 [00:00<00:00, 503.81it/s]\n"
     ]
    },
    {
     "name": "stdout",
     "output_type": "stream",
     "text": [
      "✅ Saved frames in: /Users/mario/Desktop/Desktop/UofA/4.Winter-2025/ece-910/Batman/VLM-testing/batman-frames/Batman (1989)-002_part_326\n",
      "\n",
      "🎥 Processing: /Users/mario/Desktop/Desktop/UofA/4.Winter-2025/ece-910/Batman/Batman-(1989)-002/Batman (1989)-002_part_327.mp4\n",
      "📸 Total Frames: 79\n"
     ]
    },
    {
     "name": "stderr",
     "output_type": "stream",
     "text": [
      "Extracting Frames from Batman (1989)-002_part_327.mp4: 100%|██████████| 79/79 [00:00<00:00, 569.46it/s]\n"
     ]
    },
    {
     "name": "stdout",
     "output_type": "stream",
     "text": [
      "✅ Saved frames in: /Users/mario/Desktop/Desktop/UofA/4.Winter-2025/ece-910/Batman/VLM-testing/batman-frames/Batman (1989)-002_part_327\n",
      "\n",
      "🎥 Processing: /Users/mario/Desktop/Desktop/UofA/4.Winter-2025/ece-910/Batman/Batman-(1989)-002/Batman (1989)-002_part_328.mp4\n",
      "📸 Total Frames: 34\n"
     ]
    },
    {
     "name": "stderr",
     "output_type": "stream",
     "text": [
      "Extracting Frames from Batman (1989)-002_part_328.mp4: 100%|██████████| 34/34 [00:00<00:00, 452.61it/s]\n"
     ]
    },
    {
     "name": "stdout",
     "output_type": "stream",
     "text": [
      "✅ Saved frames in: /Users/mario/Desktop/Desktop/UofA/4.Winter-2025/ece-910/Batman/VLM-testing/batman-frames/Batman (1989)-002_part_328\n",
      "\n",
      "🎥 Processing: /Users/mario/Desktop/Desktop/UofA/4.Winter-2025/ece-910/Batman/Batman-(1989)-002/Batman (1989)-002_part_329.mp4\n",
      "📸 Total Frames: 174\n"
     ]
    },
    {
     "name": "stderr",
     "output_type": "stream",
     "text": [
      "Extracting Frames from Batman (1989)-002_part_329.mp4: 100%|██████████| 174/174 [00:00<00:00, 582.69it/s]\n"
     ]
    },
    {
     "name": "stdout",
     "output_type": "stream",
     "text": [
      "✅ Saved frames in: /Users/mario/Desktop/Desktop/UofA/4.Winter-2025/ece-910/Batman/VLM-testing/batman-frames/Batman (1989)-002_part_329\n",
      "\n",
      "🎥 Processing: /Users/mario/Desktop/Desktop/UofA/4.Winter-2025/ece-910/Batman/Batman-(1989)-002/Batman (1989)-002_part_33.mp4\n",
      "📸 Total Frames: 2042\n"
     ]
    },
    {
     "name": "stderr",
     "output_type": "stream",
     "text": [
      "Extracting Frames from Batman (1989)-002_part_33.mp4: 100%|██████████| 2042/2042 [00:03<00:00, 556.18it/s]\n"
     ]
    },
    {
     "name": "stdout",
     "output_type": "stream",
     "text": [
      "✅ Saved frames in: /Users/mario/Desktop/Desktop/UofA/4.Winter-2025/ece-910/Batman/VLM-testing/batman-frames/Batman (1989)-002_part_33\n",
      "\n",
      "🎥 Processing: /Users/mario/Desktop/Desktop/UofA/4.Winter-2025/ece-910/Batman/Batman-(1989)-002/Batman (1989)-002_part_330.mp4\n",
      "📸 Total Frames: 10\n"
     ]
    },
    {
     "name": "stderr",
     "output_type": "stream",
     "text": [
      "Extracting Frames from Batman (1989)-002_part_330.mp4: 100%|██████████| 10/10 [00:00<00:00, 415.31it/s]\n"
     ]
    },
    {
     "name": "stdout",
     "output_type": "stream",
     "text": [
      "✅ Saved frames in: /Users/mario/Desktop/Desktop/UofA/4.Winter-2025/ece-910/Batman/VLM-testing/batman-frames/Batman (1989)-002_part_330\n",
      "\n",
      "🎥 Processing: /Users/mario/Desktop/Desktop/UofA/4.Winter-2025/ece-910/Batman/Batman-(1989)-002/Batman (1989)-002_part_331.mp4\n",
      "📸 Total Frames: 20\n"
     ]
    },
    {
     "name": "stderr",
     "output_type": "stream",
     "text": [
      "Extracting Frames from Batman (1989)-002_part_331.mp4: 100%|██████████| 20/20 [00:00<00:00, 447.15it/s]\n"
     ]
    },
    {
     "name": "stdout",
     "output_type": "stream",
     "text": [
      "✅ Saved frames in: /Users/mario/Desktop/Desktop/UofA/4.Winter-2025/ece-910/Batman/VLM-testing/batman-frames/Batman (1989)-002_part_331\n",
      "\n",
      "🎥 Processing: /Users/mario/Desktop/Desktop/UofA/4.Winter-2025/ece-910/Batman/Batman-(1989)-002/Batman (1989)-002_part_332.mp4\n",
      "📸 Total Frames: 47\n"
     ]
    },
    {
     "name": "stderr",
     "output_type": "stream",
     "text": [
      "Extracting Frames from Batman (1989)-002_part_332.mp4: 100%|██████████| 47/47 [00:00<00:00, 525.02it/s]\n"
     ]
    },
    {
     "name": "stdout",
     "output_type": "stream",
     "text": [
      "✅ Saved frames in: /Users/mario/Desktop/Desktop/UofA/4.Winter-2025/ece-910/Batman/VLM-testing/batman-frames/Batman (1989)-002_part_332\n",
      "\n",
      "🎥 Processing: /Users/mario/Desktop/Desktop/UofA/4.Winter-2025/ece-910/Batman/Batman-(1989)-002/Batman (1989)-002_part_333.mp4\n",
      "📸 Total Frames: 11\n"
     ]
    },
    {
     "name": "stderr",
     "output_type": "stream",
     "text": [
      "Extracting Frames from Batman (1989)-002_part_333.mp4: 100%|██████████| 11/11 [00:00<00:00, 431.83it/s]\n"
     ]
    },
    {
     "name": "stdout",
     "output_type": "stream",
     "text": [
      "✅ Saved frames in: /Users/mario/Desktop/Desktop/UofA/4.Winter-2025/ece-910/Batman/VLM-testing/batman-frames/Batman (1989)-002_part_333\n",
      "\n",
      "🎥 Processing: /Users/mario/Desktop/Desktop/UofA/4.Winter-2025/ece-910/Batman/Batman-(1989)-002/Batman (1989)-002_part_334.mp4\n",
      "📸 Total Frames: 28\n"
     ]
    },
    {
     "name": "stderr",
     "output_type": "stream",
     "text": [
      "Extracting Frames from Batman (1989)-002_part_334.mp4: 100%|██████████| 28/28 [00:00<00:00, 506.22it/s]\n"
     ]
    },
    {
     "name": "stdout",
     "output_type": "stream",
     "text": [
      "✅ Saved frames in: /Users/mario/Desktop/Desktop/UofA/4.Winter-2025/ece-910/Batman/VLM-testing/batman-frames/Batman (1989)-002_part_334\n",
      "\n",
      "🎥 Processing: /Users/mario/Desktop/Desktop/UofA/4.Winter-2025/ece-910/Batman/Batman-(1989)-002/Batman (1989)-002_part_335.mp4\n",
      "📸 Total Frames: 21\n"
     ]
    },
    {
     "name": "stderr",
     "output_type": "stream",
     "text": [
      "Extracting Frames from Batman (1989)-002_part_335.mp4: 100%|██████████| 21/21 [00:00<00:00, 482.46it/s]\n"
     ]
    },
    {
     "name": "stdout",
     "output_type": "stream",
     "text": [
      "✅ Saved frames in: /Users/mario/Desktop/Desktop/UofA/4.Winter-2025/ece-910/Batman/VLM-testing/batman-frames/Batman (1989)-002_part_335\n",
      "\n",
      "🎥 Processing: /Users/mario/Desktop/Desktop/UofA/4.Winter-2025/ece-910/Batman/Batman-(1989)-002/Batman (1989)-002_part_336.mp4\n",
      "📸 Total Frames: 36\n"
     ]
    },
    {
     "name": "stderr",
     "output_type": "stream",
     "text": [
      "Extracting Frames from Batman (1989)-002_part_336.mp4: 100%|██████████| 36/36 [00:00<00:00, 551.16it/s]\n"
     ]
    },
    {
     "name": "stdout",
     "output_type": "stream",
     "text": [
      "✅ Saved frames in: /Users/mario/Desktop/Desktop/UofA/4.Winter-2025/ece-910/Batman/VLM-testing/batman-frames/Batman (1989)-002_part_336\n",
      "\n",
      "🎥 Processing: /Users/mario/Desktop/Desktop/UofA/4.Winter-2025/ece-910/Batman/Batman-(1989)-002/Batman (1989)-002_part_337.mp4\n",
      "📸 Total Frames: 12\n"
     ]
    },
    {
     "name": "stderr",
     "output_type": "stream",
     "text": [
      "Extracting Frames from Batman (1989)-002_part_337.mp4: 100%|██████████| 12/12 [00:00<00:00, 447.20it/s]\n"
     ]
    },
    {
     "name": "stdout",
     "output_type": "stream",
     "text": [
      "✅ Saved frames in: /Users/mario/Desktop/Desktop/UofA/4.Winter-2025/ece-910/Batman/VLM-testing/batman-frames/Batman (1989)-002_part_337\n",
      "\n",
      "🎥 Processing: /Users/mario/Desktop/Desktop/UofA/4.Winter-2025/ece-910/Batman/Batman-(1989)-002/Batman (1989)-002_part_338.mp4\n",
      "📸 Total Frames: 18\n"
     ]
    },
    {
     "name": "stderr",
     "output_type": "stream",
     "text": [
      "Extracting Frames from Batman (1989)-002_part_338.mp4: 100%|██████████| 18/18 [00:00<00:00, 393.22it/s]\n"
     ]
    },
    {
     "name": "stdout",
     "output_type": "stream",
     "text": [
      "✅ Saved frames in: /Users/mario/Desktop/Desktop/UofA/4.Winter-2025/ece-910/Batman/VLM-testing/batman-frames/Batman (1989)-002_part_338\n",
      "\n",
      "🎥 Processing: /Users/mario/Desktop/Desktop/UofA/4.Winter-2025/ece-910/Batman/Batman-(1989)-002/Batman (1989)-002_part_339.mp4\n",
      "📸 Total Frames: 27\n"
     ]
    },
    {
     "name": "stderr",
     "output_type": "stream",
     "text": [
      "Extracting Frames from Batman (1989)-002_part_339.mp4: 100%|██████████| 27/27 [00:00<00:00, 431.95it/s]\n"
     ]
    },
    {
     "name": "stdout",
     "output_type": "stream",
     "text": [
      "✅ Saved frames in: /Users/mario/Desktop/Desktop/UofA/4.Winter-2025/ece-910/Batman/VLM-testing/batman-frames/Batman (1989)-002_part_339\n",
      "\n",
      "🎥 Processing: /Users/mario/Desktop/Desktop/UofA/4.Winter-2025/ece-910/Batman/Batman-(1989)-002/Batman (1989)-002_part_34.mp4\n",
      "📸 Total Frames: 86\n"
     ]
    },
    {
     "name": "stderr",
     "output_type": "stream",
     "text": [
      "Extracting Frames from Batman (1989)-002_part_34.mp4: 100%|██████████| 86/86 [00:00<00:00, 550.06it/s]\n"
     ]
    },
    {
     "name": "stdout",
     "output_type": "stream",
     "text": [
      "✅ Saved frames in: /Users/mario/Desktop/Desktop/UofA/4.Winter-2025/ece-910/Batman/VLM-testing/batman-frames/Batman (1989)-002_part_34\n",
      "\n",
      "🎥 Processing: /Users/mario/Desktop/Desktop/UofA/4.Winter-2025/ece-910/Batman/Batman-(1989)-002/Batman (1989)-002_part_340.mp4\n",
      "📸 Total Frames: 19\n"
     ]
    },
    {
     "name": "stderr",
     "output_type": "stream",
     "text": [
      "Extracting Frames from Batman (1989)-002_part_340.mp4: 100%|██████████| 19/19 [00:00<00:00, 487.07it/s]\n"
     ]
    },
    {
     "name": "stdout",
     "output_type": "stream",
     "text": [
      "✅ Saved frames in: /Users/mario/Desktop/Desktop/UofA/4.Winter-2025/ece-910/Batman/VLM-testing/batman-frames/Batman (1989)-002_part_340\n",
      "\n",
      "🎥 Processing: /Users/mario/Desktop/Desktop/UofA/4.Winter-2025/ece-910/Batman/Batman-(1989)-002/Batman (1989)-002_part_341.mp4\n",
      "📸 Total Frames: 47\n"
     ]
    },
    {
     "name": "stderr",
     "output_type": "stream",
     "text": [
      "Extracting Frames from Batman (1989)-002_part_341.mp4: 100%|██████████| 47/47 [00:00<00:00, 262.65it/s]\n"
     ]
    },
    {
     "name": "stdout",
     "output_type": "stream",
     "text": [
      "✅ Saved frames in: /Users/mario/Desktop/Desktop/UofA/4.Winter-2025/ece-910/Batman/VLM-testing/batman-frames/Batman (1989)-002_part_341\n",
      "\n",
      "🎥 Processing: /Users/mario/Desktop/Desktop/UofA/4.Winter-2025/ece-910/Batman/Batman-(1989)-002/Batman (1989)-002_part_342.mp4\n",
      "📸 Total Frames: 78\n"
     ]
    },
    {
     "name": "stderr",
     "output_type": "stream",
     "text": [
      "Extracting Frames from Batman (1989)-002_part_342.mp4: 100%|██████████| 78/78 [00:00<00:00, 545.84it/s]\n"
     ]
    },
    {
     "name": "stdout",
     "output_type": "stream",
     "text": [
      "✅ Saved frames in: /Users/mario/Desktop/Desktop/UofA/4.Winter-2025/ece-910/Batman/VLM-testing/batman-frames/Batman (1989)-002_part_342\n",
      "\n",
      "🎥 Processing: /Users/mario/Desktop/Desktop/UofA/4.Winter-2025/ece-910/Batman/Batman-(1989)-002/Batman (1989)-002_part_343.mp4\n",
      "📸 Total Frames: 162\n"
     ]
    },
    {
     "name": "stderr",
     "output_type": "stream",
     "text": [
      "Extracting Frames from Batman (1989)-002_part_343.mp4: 100%|██████████| 162/162 [00:00<00:00, 603.57it/s]\n"
     ]
    },
    {
     "name": "stdout",
     "output_type": "stream",
     "text": [
      "✅ Saved frames in: /Users/mario/Desktop/Desktop/UofA/4.Winter-2025/ece-910/Batman/VLM-testing/batman-frames/Batman (1989)-002_part_343\n",
      "\n",
      "🎥 Processing: /Users/mario/Desktop/Desktop/UofA/4.Winter-2025/ece-910/Batman/Batman-(1989)-002/Batman (1989)-002_part_344.mp4\n",
      "📸 Total Frames: 261\n"
     ]
    },
    {
     "name": "stderr",
     "output_type": "stream",
     "text": [
      "Extracting Frames from Batman (1989)-002_part_344.mp4: 100%|██████████| 261/261 [00:00<00:00, 571.31it/s]\n"
     ]
    },
    {
     "name": "stdout",
     "output_type": "stream",
     "text": [
      "✅ Saved frames in: /Users/mario/Desktop/Desktop/UofA/4.Winter-2025/ece-910/Batman/VLM-testing/batman-frames/Batman (1989)-002_part_344\n",
      "\n",
      "🎥 Processing: /Users/mario/Desktop/Desktop/UofA/4.Winter-2025/ece-910/Batman/Batman-(1989)-002/Batman (1989)-002_part_345.mp4\n",
      "📸 Total Frames: 154\n"
     ]
    },
    {
     "name": "stderr",
     "output_type": "stream",
     "text": [
      "Extracting Frames from Batman (1989)-002_part_345.mp4: 100%|██████████| 154/154 [00:00<00:00, 612.09it/s]\n"
     ]
    },
    {
     "name": "stdout",
     "output_type": "stream",
     "text": [
      "✅ Saved frames in: /Users/mario/Desktop/Desktop/UofA/4.Winter-2025/ece-910/Batman/VLM-testing/batman-frames/Batman (1989)-002_part_345\n",
      "\n",
      "🎥 Processing: /Users/mario/Desktop/Desktop/UofA/4.Winter-2025/ece-910/Batman/Batman-(1989)-002/Batman (1989)-002_part_346.mp4\n",
      "📸 Total Frames: 50\n"
     ]
    },
    {
     "name": "stderr",
     "output_type": "stream",
     "text": [
      "Extracting Frames from Batman (1989)-002_part_346.mp4: 100%|██████████| 50/50 [00:00<00:00, 588.33it/s]\n"
     ]
    },
    {
     "name": "stdout",
     "output_type": "stream",
     "text": [
      "✅ Saved frames in: /Users/mario/Desktop/Desktop/UofA/4.Winter-2025/ece-910/Batman/VLM-testing/batman-frames/Batman (1989)-002_part_346\n",
      "\n",
      "🎥 Processing: /Users/mario/Desktop/Desktop/UofA/4.Winter-2025/ece-910/Batman/Batman-(1989)-002/Batman (1989)-002_part_348.mp4\n",
      "📸 Total Frames: 108\n"
     ]
    },
    {
     "name": "stderr",
     "output_type": "stream",
     "text": [
      "Extracting Frames from Batman (1989)-002_part_348.mp4: 100%|██████████| 108/108 [00:00<00:00, 353.71it/s]\n"
     ]
    },
    {
     "name": "stdout",
     "output_type": "stream",
     "text": [
      "✅ Saved frames in: /Users/mario/Desktop/Desktop/UofA/4.Winter-2025/ece-910/Batman/VLM-testing/batman-frames/Batman (1989)-002_part_348\n",
      "\n",
      "🎥 Processing: /Users/mario/Desktop/Desktop/UofA/4.Winter-2025/ece-910/Batman/Batman-(1989)-002/Batman (1989)-002_part_349.mp4\n",
      "📸 Total Frames: 5\n"
     ]
    },
    {
     "name": "stderr",
     "output_type": "stream",
     "text": [
      "Extracting Frames from Batman (1989)-002_part_349.mp4: 100%|██████████| 5/5 [00:00<00:00, 464.25it/s]\n"
     ]
    },
    {
     "name": "stdout",
     "output_type": "stream",
     "text": [
      "✅ Saved frames in: /Users/mario/Desktop/Desktop/UofA/4.Winter-2025/ece-910/Batman/VLM-testing/batman-frames/Batman (1989)-002_part_349\n",
      "\n",
      "🎥 Processing: /Users/mario/Desktop/Desktop/UofA/4.Winter-2025/ece-910/Batman/Batman-(1989)-002/Batman (1989)-002_part_35.mp4\n",
      "📸 Total Frames: 50\n"
     ]
    },
    {
     "name": "stderr",
     "output_type": "stream",
     "text": [
      "Extracting Frames from Batman (1989)-002_part_35.mp4: 100%|██████████| 50/50 [00:00<00:00, 533.85it/s]\n"
     ]
    },
    {
     "name": "stdout",
     "output_type": "stream",
     "text": [
      "✅ Saved frames in: /Users/mario/Desktop/Desktop/UofA/4.Winter-2025/ece-910/Batman/VLM-testing/batman-frames/Batman (1989)-002_part_35\n",
      "\n",
      "🎥 Processing: /Users/mario/Desktop/Desktop/UofA/4.Winter-2025/ece-910/Batman/Batman-(1989)-002/Batman (1989)-002_part_350.mp4\n",
      "📸 Total Frames: 120\n"
     ]
    },
    {
     "name": "stderr",
     "output_type": "stream",
     "text": [
      "Extracting Frames from Batman (1989)-002_part_350.mp4: 100%|██████████| 120/120 [00:00<00:00, 585.20it/s]\n"
     ]
    },
    {
     "name": "stdout",
     "output_type": "stream",
     "text": [
      "✅ Saved frames in: /Users/mario/Desktop/Desktop/UofA/4.Winter-2025/ece-910/Batman/VLM-testing/batman-frames/Batman (1989)-002_part_350\n",
      "\n",
      "🎥 Processing: /Users/mario/Desktop/Desktop/UofA/4.Winter-2025/ece-910/Batman/Batman-(1989)-002/Batman (1989)-002_part_351.mp4\n",
      "📸 Total Frames: 3\n"
     ]
    },
    {
     "name": "stderr",
     "output_type": "stream",
     "text": [
      "Extracting Frames from Batman (1989)-002_part_351.mp4: 100%|██████████| 3/3 [00:00<00:00, 373.47it/s]\n"
     ]
    },
    {
     "name": "stdout",
     "output_type": "stream",
     "text": [
      "✅ Saved frames in: /Users/mario/Desktop/Desktop/UofA/4.Winter-2025/ece-910/Batman/VLM-testing/batman-frames/Batman (1989)-002_part_351\n",
      "\n",
      "🎥 Processing: /Users/mario/Desktop/Desktop/UofA/4.Winter-2025/ece-910/Batman/Batman-(1989)-002/Batman (1989)-002_part_352.mp4\n",
      "📸 Total Frames: 18\n"
     ]
    },
    {
     "name": "stderr",
     "output_type": "stream",
     "text": [
      "Extracting Frames from Batman (1989)-002_part_352.mp4: 100%|██████████| 18/18 [00:00<00:00, 438.18it/s]\n"
     ]
    },
    {
     "name": "stdout",
     "output_type": "stream",
     "text": [
      "✅ Saved frames in: /Users/mario/Desktop/Desktop/UofA/4.Winter-2025/ece-910/Batman/VLM-testing/batman-frames/Batman (1989)-002_part_352\n",
      "\n",
      "🎥 Processing: /Users/mario/Desktop/Desktop/UofA/4.Winter-2025/ece-910/Batman/Batman-(1989)-002/Batman (1989)-002_part_353.mp4\n",
      "📸 Total Frames: 607\n"
     ]
    },
    {
     "name": "stderr",
     "output_type": "stream",
     "text": [
      "Extracting Frames from Batman (1989)-002_part_353.mp4: 100%|██████████| 607/607 [00:00<00:00, 609.15it/s]\n"
     ]
    },
    {
     "name": "stdout",
     "output_type": "stream",
     "text": [
      "✅ Saved frames in: /Users/mario/Desktop/Desktop/UofA/4.Winter-2025/ece-910/Batman/VLM-testing/batman-frames/Batman (1989)-002_part_353\n",
      "\n",
      "🎥 Processing: /Users/mario/Desktop/Desktop/UofA/4.Winter-2025/ece-910/Batman/Batman-(1989)-002/Batman (1989)-002_part_354.mp4\n",
      "📸 Total Frames: 265\n"
     ]
    },
    {
     "name": "stderr",
     "output_type": "stream",
     "text": [
      "Extracting Frames from Batman (1989)-002_part_354.mp4: 100%|██████████| 265/265 [00:00<00:00, 601.30it/s]\n"
     ]
    },
    {
     "name": "stdout",
     "output_type": "stream",
     "text": [
      "✅ Saved frames in: /Users/mario/Desktop/Desktop/UofA/4.Winter-2025/ece-910/Batman/VLM-testing/batman-frames/Batman (1989)-002_part_354\n",
      "\n",
      "🎥 Processing: /Users/mario/Desktop/Desktop/UofA/4.Winter-2025/ece-910/Batman/Batman-(1989)-002/Batman (1989)-002_part_355.mp4\n",
      "📸 Total Frames: 303\n"
     ]
    },
    {
     "name": "stderr",
     "output_type": "stream",
     "text": [
      "Extracting Frames from Batman (1989)-002_part_355.mp4: 100%|██████████| 303/303 [00:00<00:00, 592.95it/s]\n"
     ]
    },
    {
     "name": "stdout",
     "output_type": "stream",
     "text": [
      "✅ Saved frames in: /Users/mario/Desktop/Desktop/UofA/4.Winter-2025/ece-910/Batman/VLM-testing/batman-frames/Batman (1989)-002_part_355\n",
      "\n",
      "🎥 Processing: /Users/mario/Desktop/Desktop/UofA/4.Winter-2025/ece-910/Batman/Batman-(1989)-002/Batman (1989)-002_part_356.mp4\n",
      "📸 Total Frames: 291\n"
     ]
    },
    {
     "name": "stderr",
     "output_type": "stream",
     "text": [
      "Extracting Frames from Batman (1989)-002_part_356.mp4: 100%|██████████| 291/291 [00:00<00:00, 618.65it/s]\n"
     ]
    },
    {
     "name": "stdout",
     "output_type": "stream",
     "text": [
      "✅ Saved frames in: /Users/mario/Desktop/Desktop/UofA/4.Winter-2025/ece-910/Batman/VLM-testing/batman-frames/Batman (1989)-002_part_356\n",
      "\n",
      "🎥 Processing: /Users/mario/Desktop/Desktop/UofA/4.Winter-2025/ece-910/Batman/Batman-(1989)-002/Batman (1989)-002_part_357.mp4\n",
      "📸 Total Frames: 1063\n"
     ]
    },
    {
     "name": "stderr",
     "output_type": "stream",
     "text": [
      "Extracting Frames from Batman (1989)-002_part_357.mp4: 100%|██████████| 1063/1063 [00:01<00:00, 603.80it/s]\n"
     ]
    },
    {
     "name": "stdout",
     "output_type": "stream",
     "text": [
      "✅ Saved frames in: /Users/mario/Desktop/Desktop/UofA/4.Winter-2025/ece-910/Batman/VLM-testing/batman-frames/Batman (1989)-002_part_357\n",
      "\n",
      "🎥 Processing: /Users/mario/Desktop/Desktop/UofA/4.Winter-2025/ece-910/Batman/Batman-(1989)-002/Batman (1989)-002_part_358.mp4\n",
      "📸 Total Frames: 102\n"
     ]
    },
    {
     "name": "stderr",
     "output_type": "stream",
     "text": [
      "Extracting Frames from Batman (1989)-002_part_358.mp4: 100%|██████████| 102/102 [00:00<00:00, 580.06it/s]\n"
     ]
    },
    {
     "name": "stdout",
     "output_type": "stream",
     "text": [
      "✅ Saved frames in: /Users/mario/Desktop/Desktop/UofA/4.Winter-2025/ece-910/Batman/VLM-testing/batman-frames/Batman (1989)-002_part_358\n",
      "\n",
      "🎥 Processing: /Users/mario/Desktop/Desktop/UofA/4.Winter-2025/ece-910/Batman/Batman-(1989)-002/Batman (1989)-002_part_359.mp4\n",
      "📸 Total Frames: 396\n"
     ]
    },
    {
     "name": "stderr",
     "output_type": "stream",
     "text": [
      "Extracting Frames from Batman (1989)-002_part_359.mp4: 100%|██████████| 396/396 [00:00<00:00, 621.32it/s]\n"
     ]
    },
    {
     "name": "stdout",
     "output_type": "stream",
     "text": [
      "✅ Saved frames in: /Users/mario/Desktop/Desktop/UofA/4.Winter-2025/ece-910/Batman/VLM-testing/batman-frames/Batman (1989)-002_part_359\n",
      "\n",
      "🎥 Processing: /Users/mario/Desktop/Desktop/UofA/4.Winter-2025/ece-910/Batman/Batman-(1989)-002/Batman (1989)-002_part_36.mp4\n",
      "📸 Total Frames: 130\n"
     ]
    },
    {
     "name": "stderr",
     "output_type": "stream",
     "text": [
      "Extracting Frames from Batman (1989)-002_part_36.mp4: 100%|██████████| 130/130 [00:00<00:00, 624.35it/s]\n"
     ]
    },
    {
     "name": "stdout",
     "output_type": "stream",
     "text": [
      "✅ Saved frames in: /Users/mario/Desktop/Desktop/UofA/4.Winter-2025/ece-910/Batman/VLM-testing/batman-frames/Batman (1989)-002_part_36\n",
      "\n",
      "🎥 Processing: /Users/mario/Desktop/Desktop/UofA/4.Winter-2025/ece-910/Batman/Batman-(1989)-002/Batman (1989)-002_part_360.mp4\n",
      "📸 Total Frames: 157\n"
     ]
    },
    {
     "name": "stderr",
     "output_type": "stream",
     "text": [
      "Extracting Frames from Batman (1989)-002_part_360.mp4: 100%|██████████| 157/157 [00:00<00:00, 601.12it/s]\n"
     ]
    },
    {
     "name": "stdout",
     "output_type": "stream",
     "text": [
      "✅ Saved frames in: /Users/mario/Desktop/Desktop/UofA/4.Winter-2025/ece-910/Batman/VLM-testing/batman-frames/Batman (1989)-002_part_360\n",
      "\n",
      "🎥 Processing: /Users/mario/Desktop/Desktop/UofA/4.Winter-2025/ece-910/Batman/Batman-(1989)-002/Batman (1989)-002_part_361.mp4\n",
      "📸 Total Frames: 148\n"
     ]
    },
    {
     "name": "stderr",
     "output_type": "stream",
     "text": [
      "Extracting Frames from Batman (1989)-002_part_361.mp4: 100%|██████████| 148/148 [00:00<00:00, 624.56it/s]\n"
     ]
    },
    {
     "name": "stdout",
     "output_type": "stream",
     "text": [
      "✅ Saved frames in: /Users/mario/Desktop/Desktop/UofA/4.Winter-2025/ece-910/Batman/VLM-testing/batman-frames/Batman (1989)-002_part_361\n",
      "\n",
      "🎥 Processing: /Users/mario/Desktop/Desktop/UofA/4.Winter-2025/ece-910/Batman/Batman-(1989)-002/Batman (1989)-002_part_362.mp4\n",
      "📸 Total Frames: 374\n"
     ]
    },
    {
     "name": "stderr",
     "output_type": "stream",
     "text": [
      "Extracting Frames from Batman (1989)-002_part_362.mp4: 100%|██████████| 374/374 [00:00<00:00, 431.93it/s]\n"
     ]
    },
    {
     "name": "stdout",
     "output_type": "stream",
     "text": [
      "✅ Saved frames in: /Users/mario/Desktop/Desktop/UofA/4.Winter-2025/ece-910/Batman/VLM-testing/batman-frames/Batman (1989)-002_part_362\n",
      "\n",
      "🎥 Processing: /Users/mario/Desktop/Desktop/UofA/4.Winter-2025/ece-910/Batman/Batman-(1989)-002/Batman (1989)-002_part_363.mp4\n",
      "📸 Total Frames: 325\n"
     ]
    },
    {
     "name": "stderr",
     "output_type": "stream",
     "text": [
      "Extracting Frames from Batman (1989)-002_part_363.mp4: 100%|██████████| 325/325 [00:00<00:00, 548.00it/s]\n"
     ]
    },
    {
     "name": "stdout",
     "output_type": "stream",
     "text": [
      "✅ Saved frames in: /Users/mario/Desktop/Desktop/UofA/4.Winter-2025/ece-910/Batman/VLM-testing/batman-frames/Batman (1989)-002_part_363\n",
      "\n",
      "🎥 Processing: /Users/mario/Desktop/Desktop/UofA/4.Winter-2025/ece-910/Batman/Batman-(1989)-002/Batman (1989)-002_part_364.mp4\n",
      "📸 Total Frames: 131\n"
     ]
    },
    {
     "name": "stderr",
     "output_type": "stream",
     "text": [
      "Extracting Frames from Batman (1989)-002_part_364.mp4: 100%|██████████| 131/131 [00:00<00:00, 576.23it/s]\n"
     ]
    },
    {
     "name": "stdout",
     "output_type": "stream",
     "text": [
      "✅ Saved frames in: /Users/mario/Desktop/Desktop/UofA/4.Winter-2025/ece-910/Batman/VLM-testing/batman-frames/Batman (1989)-002_part_364\n",
      "\n",
      "🎥 Processing: /Users/mario/Desktop/Desktop/UofA/4.Winter-2025/ece-910/Batman/Batman-(1989)-002/Batman (1989)-002_part_365.mp4\n",
      "📸 Total Frames: 73\n"
     ]
    },
    {
     "name": "stderr",
     "output_type": "stream",
     "text": [
      "Extracting Frames from Batman (1989)-002_part_365.mp4: 100%|██████████| 73/73 [00:00<00:00, 607.32it/s]\n"
     ]
    },
    {
     "name": "stdout",
     "output_type": "stream",
     "text": [
      "✅ Saved frames in: /Users/mario/Desktop/Desktop/UofA/4.Winter-2025/ece-910/Batman/VLM-testing/batman-frames/Batman (1989)-002_part_365\n",
      "\n",
      "🎥 Processing: /Users/mario/Desktop/Desktop/UofA/4.Winter-2025/ece-910/Batman/Batman-(1989)-002/Batman (1989)-002_part_366.mp4\n",
      "📸 Total Frames: 52\n"
     ]
    },
    {
     "name": "stderr",
     "output_type": "stream",
     "text": [
      "Extracting Frames from Batman (1989)-002_part_366.mp4: 100%|██████████| 52/52 [00:00<00:00, 558.35it/s]\n"
     ]
    },
    {
     "name": "stdout",
     "output_type": "stream",
     "text": [
      "✅ Saved frames in: /Users/mario/Desktop/Desktop/UofA/4.Winter-2025/ece-910/Batman/VLM-testing/batman-frames/Batman (1989)-002_part_366\n",
      "\n",
      "🎥 Processing: /Users/mario/Desktop/Desktop/UofA/4.Winter-2025/ece-910/Batman/Batman-(1989)-002/Batman (1989)-002_part_367.mp4\n",
      "📸 Total Frames: 869\n"
     ]
    },
    {
     "name": "stderr",
     "output_type": "stream",
     "text": [
      "Extracting Frames from Batman (1989)-002_part_367.mp4: 100%|██████████| 869/869 [00:01<00:00, 600.71it/s]\n"
     ]
    },
    {
     "name": "stdout",
     "output_type": "stream",
     "text": [
      "✅ Saved frames in: /Users/mario/Desktop/Desktop/UofA/4.Winter-2025/ece-910/Batman/VLM-testing/batman-frames/Batman (1989)-002_part_367\n",
      "\n",
      "🎥 Processing: /Users/mario/Desktop/Desktop/UofA/4.Winter-2025/ece-910/Batman/Batman-(1989)-002/Batman (1989)-002_part_368.mp4\n",
      "📸 Total Frames: 59\n"
     ]
    },
    {
     "name": "stderr",
     "output_type": "stream",
     "text": [
      "Extracting Frames from Batman (1989)-002_part_368.mp4: 100%|██████████| 59/59 [00:00<00:00, 592.07it/s]\n"
     ]
    },
    {
     "name": "stdout",
     "output_type": "stream",
     "text": [
      "✅ Saved frames in: /Users/mario/Desktop/Desktop/UofA/4.Winter-2025/ece-910/Batman/VLM-testing/batman-frames/Batman (1989)-002_part_368\n",
      "\n",
      "🎥 Processing: /Users/mario/Desktop/Desktop/UofA/4.Winter-2025/ece-910/Batman/Batman-(1989)-002/Batman (1989)-002_part_369.mp4\n",
      "📸 Total Frames: 349\n"
     ]
    },
    {
     "name": "stderr",
     "output_type": "stream",
     "text": [
      "Extracting Frames from Batman (1989)-002_part_369.mp4: 100%|██████████| 349/349 [00:00<00:00, 568.23it/s]\n"
     ]
    },
    {
     "name": "stdout",
     "output_type": "stream",
     "text": [
      "✅ Saved frames in: /Users/mario/Desktop/Desktop/UofA/4.Winter-2025/ece-910/Batman/VLM-testing/batman-frames/Batman (1989)-002_part_369\n",
      "\n",
      "🎥 Processing: /Users/mario/Desktop/Desktop/UofA/4.Winter-2025/ece-910/Batman/Batman-(1989)-002/Batman (1989)-002_part_37.mp4\n",
      "📸 Total Frames: 128\n"
     ]
    },
    {
     "name": "stderr",
     "output_type": "stream",
     "text": [
      "Extracting Frames from Batman (1989)-002_part_37.mp4: 100%|██████████| 128/128 [00:00<00:00, 625.95it/s]\n"
     ]
    },
    {
     "name": "stdout",
     "output_type": "stream",
     "text": [
      "✅ Saved frames in: /Users/mario/Desktop/Desktop/UofA/4.Winter-2025/ece-910/Batman/VLM-testing/batman-frames/Batman (1989)-002_part_37\n",
      "\n",
      "🎥 Processing: /Users/mario/Desktop/Desktop/UofA/4.Winter-2025/ece-910/Batman/Batman-(1989)-002/Batman (1989)-002_part_370.mp4\n",
      "📸 Total Frames: 309\n"
     ]
    },
    {
     "name": "stderr",
     "output_type": "stream",
     "text": [
      "Extracting Frames from Batman (1989)-002_part_370.mp4: 100%|██████████| 309/309 [00:00<00:00, 619.82it/s]\n"
     ]
    },
    {
     "name": "stdout",
     "output_type": "stream",
     "text": [
      "✅ Saved frames in: /Users/mario/Desktop/Desktop/UofA/4.Winter-2025/ece-910/Batman/VLM-testing/batman-frames/Batman (1989)-002_part_370\n",
      "\n",
      "🎥 Processing: /Users/mario/Desktop/Desktop/UofA/4.Winter-2025/ece-910/Batman/Batman-(1989)-002/Batman (1989)-002_part_371.mp4\n",
      "📸 Total Frames: 186\n"
     ]
    },
    {
     "name": "stderr",
     "output_type": "stream",
     "text": [
      "Extracting Frames from Batman (1989)-002_part_371.mp4: 100%|██████████| 186/186 [00:00<00:00, 597.97it/s]\n"
     ]
    },
    {
     "name": "stdout",
     "output_type": "stream",
     "text": [
      "✅ Saved frames in: /Users/mario/Desktop/Desktop/UofA/4.Winter-2025/ece-910/Batman/VLM-testing/batman-frames/Batman (1989)-002_part_371\n",
      "\n",
      "🎥 Processing: /Users/mario/Desktop/Desktop/UofA/4.Winter-2025/ece-910/Batman/Batman-(1989)-002/Batman (1989)-002_part_372.mp4\n",
      "📸 Total Frames: 175\n"
     ]
    },
    {
     "name": "stderr",
     "output_type": "stream",
     "text": [
      "Extracting Frames from Batman (1989)-002_part_372.mp4: 100%|██████████| 175/175 [00:00<00:00, 635.63it/s]\n"
     ]
    },
    {
     "name": "stdout",
     "output_type": "stream",
     "text": [
      "✅ Saved frames in: /Users/mario/Desktop/Desktop/UofA/4.Winter-2025/ece-910/Batman/VLM-testing/batman-frames/Batman (1989)-002_part_372\n",
      "\n",
      "🎥 Processing: /Users/mario/Desktop/Desktop/UofA/4.Winter-2025/ece-910/Batman/Batman-(1989)-002/Batman (1989)-002_part_373.mp4\n",
      "📸 Total Frames: 366\n"
     ]
    },
    {
     "name": "stderr",
     "output_type": "stream",
     "text": [
      "Extracting Frames from Batman (1989)-002_part_373.mp4: 100%|██████████| 366/366 [00:00<00:00, 620.35it/s]\n"
     ]
    },
    {
     "name": "stdout",
     "output_type": "stream",
     "text": [
      "✅ Saved frames in: /Users/mario/Desktop/Desktop/UofA/4.Winter-2025/ece-910/Batman/VLM-testing/batman-frames/Batman (1989)-002_part_373\n",
      "\n",
      "🎥 Processing: /Users/mario/Desktop/Desktop/UofA/4.Winter-2025/ece-910/Batman/Batman-(1989)-002/Batman (1989)-002_part_374.mp4\n",
      "📸 Total Frames: 53\n"
     ]
    },
    {
     "name": "stderr",
     "output_type": "stream",
     "text": [
      "Extracting Frames from Batman (1989)-002_part_374.mp4: 100%|██████████| 53/53 [00:00<00:00, 565.03it/s]\n"
     ]
    },
    {
     "name": "stdout",
     "output_type": "stream",
     "text": [
      "✅ Saved frames in: /Users/mario/Desktop/Desktop/UofA/4.Winter-2025/ece-910/Batman/VLM-testing/batman-frames/Batman (1989)-002_part_374\n",
      "\n",
      "🎥 Processing: /Users/mario/Desktop/Desktop/UofA/4.Winter-2025/ece-910/Batman/Batman-(1989)-002/Batman (1989)-002_part_375.mp4\n",
      "📸 Total Frames: 808\n"
     ]
    },
    {
     "name": "stderr",
     "output_type": "stream",
     "text": [
      "Extracting Frames from Batman (1989)-002_part_375.mp4: 100%|██████████| 808/808 [00:01<00:00, 575.83it/s]\n"
     ]
    },
    {
     "name": "stdout",
     "output_type": "stream",
     "text": [
      "✅ Saved frames in: /Users/mario/Desktop/Desktop/UofA/4.Winter-2025/ece-910/Batman/VLM-testing/batman-frames/Batman (1989)-002_part_375\n",
      "\n",
      "🎥 Processing: /Users/mario/Desktop/Desktop/UofA/4.Winter-2025/ece-910/Batman/Batman-(1989)-002/Batman (1989)-002_part_376.mp4\n",
      "📸 Total Frames: 24\n"
     ]
    },
    {
     "name": "stderr",
     "output_type": "stream",
     "text": [
      "Extracting Frames from Batman (1989)-002_part_376.mp4: 100%|██████████| 24/24 [00:00<00:00, 538.01it/s]\n"
     ]
    },
    {
     "name": "stdout",
     "output_type": "stream",
     "text": [
      "✅ Saved frames in: /Users/mario/Desktop/Desktop/UofA/4.Winter-2025/ece-910/Batman/VLM-testing/batman-frames/Batman (1989)-002_part_376\n",
      "\n",
      "🎥 Processing: /Users/mario/Desktop/Desktop/UofA/4.Winter-2025/ece-910/Batman/Batman-(1989)-002/Batman (1989)-002_part_377.mp4\n",
      "📸 Total Frames: 146\n"
     ]
    },
    {
     "name": "stderr",
     "output_type": "stream",
     "text": [
      "Extracting Frames from Batman (1989)-002_part_377.mp4: 100%|██████████| 146/146 [00:00<00:00, 560.73it/s]\n"
     ]
    },
    {
     "name": "stdout",
     "output_type": "stream",
     "text": [
      "✅ Saved frames in: /Users/mario/Desktop/Desktop/UofA/4.Winter-2025/ece-910/Batman/VLM-testing/batman-frames/Batman (1989)-002_part_377\n",
      "\n",
      "🎥 Processing: /Users/mario/Desktop/Desktop/UofA/4.Winter-2025/ece-910/Batman/Batman-(1989)-002/Batman (1989)-002_part_378.mp4\n",
      "📸 Total Frames: 22\n"
     ]
    },
    {
     "name": "stderr",
     "output_type": "stream",
     "text": [
      "Extracting Frames from Batman (1989)-002_part_378.mp4: 100%|██████████| 22/22 [00:00<00:00, 557.57it/s]\n"
     ]
    },
    {
     "name": "stdout",
     "output_type": "stream",
     "text": [
      "✅ Saved frames in: /Users/mario/Desktop/Desktop/UofA/4.Winter-2025/ece-910/Batman/VLM-testing/batman-frames/Batman (1989)-002_part_378\n",
      "\n",
      "🎥 Processing: /Users/mario/Desktop/Desktop/UofA/4.Winter-2025/ece-910/Batman/Batman-(1989)-002/Batman (1989)-002_part_379.mp4\n",
      "📸 Total Frames: 37\n"
     ]
    },
    {
     "name": "stderr",
     "output_type": "stream",
     "text": [
      "Extracting Frames from Batman (1989)-002_part_379.mp4: 100%|██████████| 37/37 [00:00<00:00, 565.98it/s]\n"
     ]
    },
    {
     "name": "stdout",
     "output_type": "stream",
     "text": [
      "✅ Saved frames in: /Users/mario/Desktop/Desktop/UofA/4.Winter-2025/ece-910/Batman/VLM-testing/batman-frames/Batman (1989)-002_part_379\n",
      "\n",
      "🎥 Processing: /Users/mario/Desktop/Desktop/UofA/4.Winter-2025/ece-910/Batman/Batman-(1989)-002/Batman (1989)-002_part_38.mp4\n",
      "📸 Total Frames: 49\n"
     ]
    },
    {
     "name": "stderr",
     "output_type": "stream",
     "text": [
      "Extracting Frames from Batman (1989)-002_part_38.mp4: 100%|██████████| 49/49 [00:00<00:00, 570.74it/s]\n"
     ]
    },
    {
     "name": "stdout",
     "output_type": "stream",
     "text": [
      "✅ Saved frames in: /Users/mario/Desktop/Desktop/UofA/4.Winter-2025/ece-910/Batman/VLM-testing/batman-frames/Batman (1989)-002_part_38\n",
      "\n",
      "🎥 Processing: /Users/mario/Desktop/Desktop/UofA/4.Winter-2025/ece-910/Batman/Batman-(1989)-002/Batman (1989)-002_part_380.mp4\n",
      "📸 Total Frames: 159\n"
     ]
    },
    {
     "name": "stderr",
     "output_type": "stream",
     "text": [
      "Extracting Frames from Batman (1989)-002_part_380.mp4: 100%|██████████| 159/159 [00:00<00:00, 610.09it/s]\n"
     ]
    },
    {
     "name": "stdout",
     "output_type": "stream",
     "text": [
      "✅ Saved frames in: /Users/mario/Desktop/Desktop/UofA/4.Winter-2025/ece-910/Batman/VLM-testing/batman-frames/Batman (1989)-002_part_380\n",
      "\n",
      "🎥 Processing: /Users/mario/Desktop/Desktop/UofA/4.Winter-2025/ece-910/Batman/Batman-(1989)-002/Batman (1989)-002_part_381.mp4\n",
      "📸 Total Frames: 72\n"
     ]
    },
    {
     "name": "stderr",
     "output_type": "stream",
     "text": [
      "Extracting Frames from Batman (1989)-002_part_381.mp4: 100%|██████████| 72/72 [00:00<00:00, 563.61it/s]\n"
     ]
    },
    {
     "name": "stdout",
     "output_type": "stream",
     "text": [
      "✅ Saved frames in: /Users/mario/Desktop/Desktop/UofA/4.Winter-2025/ece-910/Batman/VLM-testing/batman-frames/Batman (1989)-002_part_381\n",
      "\n",
      "🎥 Processing: /Users/mario/Desktop/Desktop/UofA/4.Winter-2025/ece-910/Batman/Batman-(1989)-002/Batman (1989)-002_part_382.mp4\n",
      "📸 Total Frames: 63\n"
     ]
    },
    {
     "name": "stderr",
     "output_type": "stream",
     "text": [
      "Extracting Frames from Batman (1989)-002_part_382.mp4: 100%|██████████| 63/63 [00:00<00:00, 584.84it/s]\n"
     ]
    },
    {
     "name": "stdout",
     "output_type": "stream",
     "text": [
      "✅ Saved frames in: /Users/mario/Desktop/Desktop/UofA/4.Winter-2025/ece-910/Batman/VLM-testing/batman-frames/Batman (1989)-002_part_382\n",
      "\n",
      "🎥 Processing: /Users/mario/Desktop/Desktop/UofA/4.Winter-2025/ece-910/Batman/Batman-(1989)-002/Batman (1989)-002_part_383.mp4\n",
      "📸 Total Frames: 80\n"
     ]
    },
    {
     "name": "stderr",
     "output_type": "stream",
     "text": [
      "Extracting Frames from Batman (1989)-002_part_383.mp4: 100%|██████████| 80/80 [00:00<00:00, 596.08it/s]\n"
     ]
    },
    {
     "name": "stdout",
     "output_type": "stream",
     "text": [
      "✅ Saved frames in: /Users/mario/Desktop/Desktop/UofA/4.Winter-2025/ece-910/Batman/VLM-testing/batman-frames/Batman (1989)-002_part_383\n",
      "\n",
      "🎥 Processing: /Users/mario/Desktop/Desktop/UofA/4.Winter-2025/ece-910/Batman/Batman-(1989)-002/Batman (1989)-002_part_384.mp4\n",
      "📸 Total Frames: 170\n"
     ]
    },
    {
     "name": "stderr",
     "output_type": "stream",
     "text": [
      "Extracting Frames from Batman (1989)-002_part_384.mp4: 100%|██████████| 170/170 [00:00<00:00, 558.43it/s]\n"
     ]
    },
    {
     "name": "stdout",
     "output_type": "stream",
     "text": [
      "✅ Saved frames in: /Users/mario/Desktop/Desktop/UofA/4.Winter-2025/ece-910/Batman/VLM-testing/batman-frames/Batman (1989)-002_part_384\n",
      "\n",
      "🎥 Processing: /Users/mario/Desktop/Desktop/UofA/4.Winter-2025/ece-910/Batman/Batman-(1989)-002/Batman (1989)-002_part_385.mp4\n",
      "📸 Total Frames: 50\n"
     ]
    },
    {
     "name": "stderr",
     "output_type": "stream",
     "text": [
      "Extracting Frames from Batman (1989)-002_part_385.mp4: 100%|██████████| 50/50 [00:00<00:00, 593.59it/s]\n"
     ]
    },
    {
     "name": "stdout",
     "output_type": "stream",
     "text": [
      "✅ Saved frames in: /Users/mario/Desktop/Desktop/UofA/4.Winter-2025/ece-910/Batman/VLM-testing/batman-frames/Batman (1989)-002_part_385\n",
      "\n",
      "🎥 Processing: /Users/mario/Desktop/Desktop/UofA/4.Winter-2025/ece-910/Batman/Batman-(1989)-002/Batman (1989)-002_part_386.mp4\n",
      "📸 Total Frames: 126\n"
     ]
    },
    {
     "name": "stderr",
     "output_type": "stream",
     "text": [
      "Extracting Frames from Batman (1989)-002_part_386.mp4: 100%|██████████| 126/126 [00:00<00:00, 598.23it/s]\n"
     ]
    },
    {
     "name": "stdout",
     "output_type": "stream",
     "text": [
      "✅ Saved frames in: /Users/mario/Desktop/Desktop/UofA/4.Winter-2025/ece-910/Batman/VLM-testing/batman-frames/Batman (1989)-002_part_386\n",
      "\n",
      "🎥 Processing: /Users/mario/Desktop/Desktop/UofA/4.Winter-2025/ece-910/Batman/Batman-(1989)-002/Batman (1989)-002_part_387.mp4\n",
      "📸 Total Frames: 88\n"
     ]
    },
    {
     "name": "stderr",
     "output_type": "stream",
     "text": [
      "Extracting Frames from Batman (1989)-002_part_387.mp4: 100%|██████████| 88/88 [00:00<00:00, 590.77it/s]\n"
     ]
    },
    {
     "name": "stdout",
     "output_type": "stream",
     "text": [
      "✅ Saved frames in: /Users/mario/Desktop/Desktop/UofA/4.Winter-2025/ece-910/Batman/VLM-testing/batman-frames/Batman (1989)-002_part_387\n",
      "\n",
      "🎥 Processing: /Users/mario/Desktop/Desktop/UofA/4.Winter-2025/ece-910/Batman/Batman-(1989)-002/Batman (1989)-002_part_388.mp4\n",
      "📸 Total Frames: 33\n"
     ]
    },
    {
     "name": "stderr",
     "output_type": "stream",
     "text": [
      "Extracting Frames from Batman (1989)-002_part_388.mp4: 100%|██████████| 33/33 [00:00<00:00, 577.04it/s]\n"
     ]
    },
    {
     "name": "stdout",
     "output_type": "stream",
     "text": [
      "✅ Saved frames in: /Users/mario/Desktop/Desktop/UofA/4.Winter-2025/ece-910/Batman/VLM-testing/batman-frames/Batman (1989)-002_part_388\n",
      "\n",
      "🎥 Processing: /Users/mario/Desktop/Desktop/UofA/4.Winter-2025/ece-910/Batman/Batman-(1989)-002/Batman (1989)-002_part_389.mp4\n",
      "📸 Total Frames: 183\n"
     ]
    },
    {
     "name": "stderr",
     "output_type": "stream",
     "text": [
      "Extracting Frames from Batman (1989)-002_part_389.mp4: 100%|██████████| 183/183 [00:00<00:00, 473.19it/s]\n"
     ]
    },
    {
     "name": "stdout",
     "output_type": "stream",
     "text": [
      "✅ Saved frames in: /Users/mario/Desktop/Desktop/UofA/4.Winter-2025/ece-910/Batman/VLM-testing/batman-frames/Batman (1989)-002_part_389\n",
      "\n",
      "🎥 Processing: /Users/mario/Desktop/Desktop/UofA/4.Winter-2025/ece-910/Batman/Batman-(1989)-002/Batman (1989)-002_part_39.mp4\n",
      "📸 Total Frames: 104\n"
     ]
    },
    {
     "name": "stderr",
     "output_type": "stream",
     "text": [
      "Extracting Frames from Batman (1989)-002_part_39.mp4: 100%|██████████| 104/104 [00:00<00:00, 605.46it/s]\n"
     ]
    },
    {
     "name": "stdout",
     "output_type": "stream",
     "text": [
      "✅ Saved frames in: /Users/mario/Desktop/Desktop/UofA/4.Winter-2025/ece-910/Batman/VLM-testing/batman-frames/Batman (1989)-002_part_39\n",
      "\n",
      "🎥 Processing: /Users/mario/Desktop/Desktop/UofA/4.Winter-2025/ece-910/Batman/Batman-(1989)-002/Batman (1989)-002_part_390.mp4\n",
      "📸 Total Frames: 29\n"
     ]
    },
    {
     "name": "stderr",
     "output_type": "stream",
     "text": [
      "Extracting Frames from Batman (1989)-002_part_390.mp4: 100%|██████████| 29/29 [00:00<00:00, 557.40it/s]\n"
     ]
    },
    {
     "name": "stdout",
     "output_type": "stream",
     "text": [
      "✅ Saved frames in: /Users/mario/Desktop/Desktop/UofA/4.Winter-2025/ece-910/Batman/VLM-testing/batman-frames/Batman (1989)-002_part_390\n",
      "\n",
      "🎥 Processing: /Users/mario/Desktop/Desktop/UofA/4.Winter-2025/ece-910/Batman/Batman-(1989)-002/Batman (1989)-002_part_391.mp4\n",
      "📸 Total Frames: 132\n"
     ]
    },
    {
     "name": "stderr",
     "output_type": "stream",
     "text": [
      "Extracting Frames from Batman (1989)-002_part_391.mp4: 100%|██████████| 132/132 [00:00<00:00, 610.07it/s]\n"
     ]
    },
    {
     "name": "stdout",
     "output_type": "stream",
     "text": [
      "✅ Saved frames in: /Users/mario/Desktop/Desktop/UofA/4.Winter-2025/ece-910/Batman/VLM-testing/batman-frames/Batman (1989)-002_part_391\n",
      "\n",
      "🎥 Processing: /Users/mario/Desktop/Desktop/UofA/4.Winter-2025/ece-910/Batman/Batman-(1989)-002/Batman (1989)-002_part_392.mp4\n",
      "📸 Total Frames: 74\n"
     ]
    },
    {
     "name": "stderr",
     "output_type": "stream",
     "text": [
      "Extracting Frames from Batman (1989)-002_part_392.mp4: 100%|██████████| 74/74 [00:00<00:00, 620.44it/s]\n"
     ]
    },
    {
     "name": "stdout",
     "output_type": "stream",
     "text": [
      "✅ Saved frames in: /Users/mario/Desktop/Desktop/UofA/4.Winter-2025/ece-910/Batman/VLM-testing/batman-frames/Batman (1989)-002_part_392\n",
      "\n",
      "🎥 Processing: /Users/mario/Desktop/Desktop/UofA/4.Winter-2025/ece-910/Batman/Batman-(1989)-002/Batman (1989)-002_part_393.mp4\n",
      "📸 Total Frames: 98\n"
     ]
    },
    {
     "name": "stderr",
     "output_type": "stream",
     "text": [
      "Extracting Frames from Batman (1989)-002_part_393.mp4: 100%|██████████| 98/98 [00:00<00:00, 618.79it/s]\n"
     ]
    },
    {
     "name": "stdout",
     "output_type": "stream",
     "text": [
      "✅ Saved frames in: /Users/mario/Desktop/Desktop/UofA/4.Winter-2025/ece-910/Batman/VLM-testing/batman-frames/Batman (1989)-002_part_393\n",
      "\n",
      "🎥 Processing: /Users/mario/Desktop/Desktop/UofA/4.Winter-2025/ece-910/Batman/Batman-(1989)-002/Batman (1989)-002_part_394.mp4\n",
      "📸 Total Frames: 117\n"
     ]
    },
    {
     "name": "stderr",
     "output_type": "stream",
     "text": [
      "Extracting Frames from Batman (1989)-002_part_394.mp4: 100%|██████████| 117/117 [00:00<00:00, 624.68it/s]\n"
     ]
    },
    {
     "name": "stdout",
     "output_type": "stream",
     "text": [
      "✅ Saved frames in: /Users/mario/Desktop/Desktop/UofA/4.Winter-2025/ece-910/Batman/VLM-testing/batman-frames/Batman (1989)-002_part_394\n",
      "\n",
      "🎥 Processing: /Users/mario/Desktop/Desktop/UofA/4.Winter-2025/ece-910/Batman/Batman-(1989)-002/Batman (1989)-002_part_395.mp4\n",
      "📸 Total Frames: 71\n"
     ]
    },
    {
     "name": "stderr",
     "output_type": "stream",
     "text": [
      "Extracting Frames from Batman (1989)-002_part_395.mp4: 100%|██████████| 71/71 [00:00<00:00, 253.23it/s]\n"
     ]
    },
    {
     "name": "stdout",
     "output_type": "stream",
     "text": [
      "✅ Saved frames in: /Users/mario/Desktop/Desktop/UofA/4.Winter-2025/ece-910/Batman/VLM-testing/batman-frames/Batman (1989)-002_part_395\n",
      "\n",
      "🎥 Processing: /Users/mario/Desktop/Desktop/UofA/4.Winter-2025/ece-910/Batman/Batman-(1989)-002/Batman (1989)-002_part_396.mp4\n",
      "📸 Total Frames: 265\n"
     ]
    },
    {
     "name": "stderr",
     "output_type": "stream",
     "text": [
      "Extracting Frames from Batman (1989)-002_part_396.mp4: 100%|██████████| 265/265 [00:00<00:00, 641.70it/s]\n"
     ]
    },
    {
     "name": "stdout",
     "output_type": "stream",
     "text": [
      "✅ Saved frames in: /Users/mario/Desktop/Desktop/UofA/4.Winter-2025/ece-910/Batman/VLM-testing/batman-frames/Batman (1989)-002_part_396\n",
      "\n",
      "🎥 Processing: /Users/mario/Desktop/Desktop/UofA/4.Winter-2025/ece-910/Batman/Batman-(1989)-002/Batman (1989)-002_part_397.mp4\n",
      "📸 Total Frames: 328\n"
     ]
    },
    {
     "name": "stderr",
     "output_type": "stream",
     "text": [
      "Extracting Frames from Batman (1989)-002_part_397.mp4: 100%|██████████| 328/328 [00:00<00:00, 582.25it/s]\n"
     ]
    },
    {
     "name": "stdout",
     "output_type": "stream",
     "text": [
      "✅ Saved frames in: /Users/mario/Desktop/Desktop/UofA/4.Winter-2025/ece-910/Batman/VLM-testing/batman-frames/Batman (1989)-002_part_397\n",
      "\n",
      "🎥 Processing: /Users/mario/Desktop/Desktop/UofA/4.Winter-2025/ece-910/Batman/Batman-(1989)-002/Batman (1989)-002_part_398.mp4\n",
      "📸 Total Frames: 34\n"
     ]
    },
    {
     "name": "stderr",
     "output_type": "stream",
     "text": [
      "Extracting Frames from Batman (1989)-002_part_398.mp4: 100%|██████████| 34/34 [00:00<00:00, 587.00it/s]\n"
     ]
    },
    {
     "name": "stdout",
     "output_type": "stream",
     "text": [
      "✅ Saved frames in: /Users/mario/Desktop/Desktop/UofA/4.Winter-2025/ece-910/Batman/VLM-testing/batman-frames/Batman (1989)-002_part_398\n",
      "\n",
      "🎥 Processing: /Users/mario/Desktop/Desktop/UofA/4.Winter-2025/ece-910/Batman/Batman-(1989)-002/Batman (1989)-002_part_399.mp4\n",
      "📸 Total Frames: 253\n"
     ]
    },
    {
     "name": "stderr",
     "output_type": "stream",
     "text": [
      "Extracting Frames from Batman (1989)-002_part_399.mp4: 100%|██████████| 253/253 [00:00<00:00, 560.51it/s]\n"
     ]
    },
    {
     "name": "stdout",
     "output_type": "stream",
     "text": [
      "✅ Saved frames in: /Users/mario/Desktop/Desktop/UofA/4.Winter-2025/ece-910/Batman/VLM-testing/batman-frames/Batman (1989)-002_part_399\n",
      "\n",
      "🎥 Processing: /Users/mario/Desktop/Desktop/UofA/4.Winter-2025/ece-910/Batman/Batman-(1989)-002/Batman (1989)-002_part_4.mp4\n",
      "📸 Total Frames: 45\n"
     ]
    },
    {
     "name": "stderr",
     "output_type": "stream",
     "text": [
      "Extracting Frames from Batman (1989)-002_part_4.mp4: 100%|██████████| 45/45 [00:00<00:00, 621.94it/s]\n"
     ]
    },
    {
     "name": "stdout",
     "output_type": "stream",
     "text": [
      "✅ Saved frames in: /Users/mario/Desktop/Desktop/UofA/4.Winter-2025/ece-910/Batman/VLM-testing/batman-frames/Batman (1989)-002_part_4\n",
      "\n",
      "🎥 Processing: /Users/mario/Desktop/Desktop/UofA/4.Winter-2025/ece-910/Batman/Batman-(1989)-002/Batman (1989)-002_part_40.mp4\n",
      "📸 Total Frames: 305\n"
     ]
    },
    {
     "name": "stderr",
     "output_type": "stream",
     "text": [
      "Extracting Frames from Batman (1989)-002_part_40.mp4: 100%|██████████| 305/305 [00:00<00:00, 631.08it/s]\n"
     ]
    },
    {
     "name": "stdout",
     "output_type": "stream",
     "text": [
      "✅ Saved frames in: /Users/mario/Desktop/Desktop/UofA/4.Winter-2025/ece-910/Batman/VLM-testing/batman-frames/Batman (1989)-002_part_40\n",
      "\n",
      "🎥 Processing: /Users/mario/Desktop/Desktop/UofA/4.Winter-2025/ece-910/Batman/Batman-(1989)-002/Batman (1989)-002_part_400.mp4\n",
      "📸 Total Frames: 202\n"
     ]
    },
    {
     "name": "stderr",
     "output_type": "stream",
     "text": [
      "Extracting Frames from Batman (1989)-002_part_400.mp4: 100%|██████████| 202/202 [00:00<00:00, 610.73it/s]\n"
     ]
    },
    {
     "name": "stdout",
     "output_type": "stream",
     "text": [
      "✅ Saved frames in: /Users/mario/Desktop/Desktop/UofA/4.Winter-2025/ece-910/Batman/VLM-testing/batman-frames/Batman (1989)-002_part_400\n",
      "\n",
      "🎥 Processing: /Users/mario/Desktop/Desktop/UofA/4.Winter-2025/ece-910/Batman/Batman-(1989)-002/Batman (1989)-002_part_401.mp4\n",
      "📸 Total Frames: 375\n"
     ]
    },
    {
     "name": "stderr",
     "output_type": "stream",
     "text": [
      "Extracting Frames from Batman (1989)-002_part_401.mp4: 100%|██████████| 375/375 [00:00<00:00, 620.01it/s]\n"
     ]
    },
    {
     "name": "stdout",
     "output_type": "stream",
     "text": [
      "✅ Saved frames in: /Users/mario/Desktop/Desktop/UofA/4.Winter-2025/ece-910/Batman/VLM-testing/batman-frames/Batman (1989)-002_part_401\n",
      "\n",
      "🎥 Processing: /Users/mario/Desktop/Desktop/UofA/4.Winter-2025/ece-910/Batman/Batman-(1989)-002/Batman (1989)-002_part_402.mp4\n",
      "📸 Total Frames: 14\n"
     ]
    },
    {
     "name": "stderr",
     "output_type": "stream",
     "text": [
      "Extracting Frames from Batman (1989)-002_part_402.mp4: 100%|██████████| 14/14 [00:00<00:00, 459.45it/s]\n"
     ]
    },
    {
     "name": "stdout",
     "output_type": "stream",
     "text": [
      "✅ Saved frames in: /Users/mario/Desktop/Desktop/UofA/4.Winter-2025/ece-910/Batman/VLM-testing/batman-frames/Batman (1989)-002_part_402\n",
      "\n",
      "🎥 Processing: /Users/mario/Desktop/Desktop/UofA/4.Winter-2025/ece-910/Batman/Batman-(1989)-002/Batman (1989)-002_part_403.mp4\n",
      "📸 Total Frames: 112\n"
     ]
    },
    {
     "name": "stderr",
     "output_type": "stream",
     "text": [
      "Extracting Frames from Batman (1989)-002_part_403.mp4: 100%|██████████| 112/112 [00:00<00:00, 571.14it/s]\n"
     ]
    },
    {
     "name": "stdout",
     "output_type": "stream",
     "text": [
      "✅ Saved frames in: /Users/mario/Desktop/Desktop/UofA/4.Winter-2025/ece-910/Batman/VLM-testing/batman-frames/Batman (1989)-002_part_403\n",
      "\n",
      "🎥 Processing: /Users/mario/Desktop/Desktop/UofA/4.Winter-2025/ece-910/Batman/Batman-(1989)-002/Batman (1989)-002_part_404.mp4\n",
      "📸 Total Frames: 120\n"
     ]
    },
    {
     "name": "stderr",
     "output_type": "stream",
     "text": [
      "Extracting Frames from Batman (1989)-002_part_404.mp4: 100%|██████████| 120/120 [00:00<00:00, 620.87it/s]\n"
     ]
    },
    {
     "name": "stdout",
     "output_type": "stream",
     "text": [
      "✅ Saved frames in: /Users/mario/Desktop/Desktop/UofA/4.Winter-2025/ece-910/Batman/VLM-testing/batman-frames/Batman (1989)-002_part_404\n",
      "\n",
      "🎥 Processing: /Users/mario/Desktop/Desktop/UofA/4.Winter-2025/ece-910/Batman/Batman-(1989)-002/Batman (1989)-002_part_405.mp4\n",
      "📸 Total Frames: 469\n"
     ]
    },
    {
     "name": "stderr",
     "output_type": "stream",
     "text": [
      "Extracting Frames from Batman (1989)-002_part_405.mp4: 100%|██████████| 469/469 [00:00<00:00, 638.74it/s]\n"
     ]
    },
    {
     "name": "stdout",
     "output_type": "stream",
     "text": [
      "✅ Saved frames in: /Users/mario/Desktop/Desktop/UofA/4.Winter-2025/ece-910/Batman/VLM-testing/batman-frames/Batman (1989)-002_part_405\n",
      "\n",
      "🎥 Processing: /Users/mario/Desktop/Desktop/UofA/4.Winter-2025/ece-910/Batman/Batman-(1989)-002/Batman (1989)-002_part_406.mp4\n",
      "📸 Total Frames: 261\n"
     ]
    },
    {
     "name": "stderr",
     "output_type": "stream",
     "text": [
      "Extracting Frames from Batman (1989)-002_part_406.mp4: 100%|██████████| 261/261 [00:00<00:00, 590.65it/s]\n"
     ]
    },
    {
     "name": "stdout",
     "output_type": "stream",
     "text": [
      "✅ Saved frames in: /Users/mario/Desktop/Desktop/UofA/4.Winter-2025/ece-910/Batman/VLM-testing/batman-frames/Batman (1989)-002_part_406\n",
      "\n",
      "🎥 Processing: /Users/mario/Desktop/Desktop/UofA/4.Winter-2025/ece-910/Batman/Batman-(1989)-002/Batman (1989)-002_part_407.mp4\n",
      "📸 Total Frames: 189\n"
     ]
    },
    {
     "name": "stderr",
     "output_type": "stream",
     "text": [
      "Extracting Frames from Batman (1989)-002_part_407.mp4: 100%|██████████| 189/189 [00:00<00:00, 625.36it/s]\n"
     ]
    },
    {
     "name": "stdout",
     "output_type": "stream",
     "text": [
      "✅ Saved frames in: /Users/mario/Desktop/Desktop/UofA/4.Winter-2025/ece-910/Batman/VLM-testing/batman-frames/Batman (1989)-002_part_407\n",
      "\n",
      "🎥 Processing: /Users/mario/Desktop/Desktop/UofA/4.Winter-2025/ece-910/Batman/Batman-(1989)-002/Batman (1989)-002_part_408.mp4\n",
      "📸 Total Frames: 222\n"
     ]
    },
    {
     "name": "stderr",
     "output_type": "stream",
     "text": [
      "Extracting Frames from Batman (1989)-002_part_408.mp4: 100%|██████████| 222/222 [00:00<00:00, 642.10it/s]\n"
     ]
    },
    {
     "name": "stdout",
     "output_type": "stream",
     "text": [
      "✅ Saved frames in: /Users/mario/Desktop/Desktop/UofA/4.Winter-2025/ece-910/Batman/VLM-testing/batman-frames/Batman (1989)-002_part_408\n",
      "\n",
      "🎥 Processing: /Users/mario/Desktop/Desktop/UofA/4.Winter-2025/ece-910/Batman/Batman-(1989)-002/Batman (1989)-002_part_409.mp4\n",
      "📸 Total Frames: 468\n"
     ]
    },
    {
     "name": "stderr",
     "output_type": "stream",
     "text": [
      "Extracting Frames from Batman (1989)-002_part_409.mp4: 100%|██████████| 468/468 [00:00<00:00, 491.71it/s]\n"
     ]
    },
    {
     "name": "stdout",
     "output_type": "stream",
     "text": [
      "✅ Saved frames in: /Users/mario/Desktop/Desktop/UofA/4.Winter-2025/ece-910/Batman/VLM-testing/batman-frames/Batman (1989)-002_part_409\n",
      "\n",
      "🎥 Processing: /Users/mario/Desktop/Desktop/UofA/4.Winter-2025/ece-910/Batman/Batman-(1989)-002/Batman (1989)-002_part_41.mp4\n",
      "📸 Total Frames: 56\n"
     ]
    },
    {
     "name": "stderr",
     "output_type": "stream",
     "text": [
      "Extracting Frames from Batman (1989)-002_part_41.mp4: 100%|██████████| 56/56 [00:00<00:00, 640.59it/s]\n"
     ]
    },
    {
     "name": "stdout",
     "output_type": "stream",
     "text": [
      "✅ Saved frames in: /Users/mario/Desktop/Desktop/UofA/4.Winter-2025/ece-910/Batman/VLM-testing/batman-frames/Batman (1989)-002_part_41\n",
      "\n",
      "🎥 Processing: /Users/mario/Desktop/Desktop/UofA/4.Winter-2025/ece-910/Batman/Batman-(1989)-002/Batman (1989)-002_part_410.mp4\n",
      "📸 Total Frames: 486\n"
     ]
    },
    {
     "name": "stderr",
     "output_type": "stream",
     "text": [
      "Extracting Frames from Batman (1989)-002_part_410.mp4: 100%|██████████| 486/486 [00:00<00:00, 619.52it/s]\n"
     ]
    },
    {
     "name": "stdout",
     "output_type": "stream",
     "text": [
      "✅ Saved frames in: /Users/mario/Desktop/Desktop/UofA/4.Winter-2025/ece-910/Batman/VLM-testing/batman-frames/Batman (1989)-002_part_410\n",
      "\n",
      "🎥 Processing: /Users/mario/Desktop/Desktop/UofA/4.Winter-2025/ece-910/Batman/Batman-(1989)-002/Batman (1989)-002_part_411.mp4\n",
      "📸 Total Frames: 46\n"
     ]
    },
    {
     "name": "stderr",
     "output_type": "stream",
     "text": [
      "Extracting Frames from Batman (1989)-002_part_411.mp4: 100%|██████████| 46/46 [00:00<00:00, 581.84it/s]\n"
     ]
    },
    {
     "name": "stdout",
     "output_type": "stream",
     "text": [
      "✅ Saved frames in: /Users/mario/Desktop/Desktop/UofA/4.Winter-2025/ece-910/Batman/VLM-testing/batman-frames/Batman (1989)-002_part_411\n",
      "\n",
      "🎥 Processing: /Users/mario/Desktop/Desktop/UofA/4.Winter-2025/ece-910/Batman/Batman-(1989)-002/Batman (1989)-002_part_412.mp4\n",
      "📸 Total Frames: 1120\n"
     ]
    },
    {
     "name": "stderr",
     "output_type": "stream",
     "text": [
      "Extracting Frames from Batman (1989)-002_part_412.mp4: 100%|██████████| 1120/1120 [00:01<00:00, 577.41it/s]\n"
     ]
    },
    {
     "name": "stdout",
     "output_type": "stream",
     "text": [
      "✅ Saved frames in: /Users/mario/Desktop/Desktop/UofA/4.Winter-2025/ece-910/Batman/VLM-testing/batman-frames/Batman (1989)-002_part_412\n",
      "\n",
      "🎥 Processing: /Users/mario/Desktop/Desktop/UofA/4.Winter-2025/ece-910/Batman/Batman-(1989)-002/Batman (1989)-002_part_413.mp4\n",
      "📸 Total Frames: 612\n"
     ]
    },
    {
     "name": "stderr",
     "output_type": "stream",
     "text": [
      "Extracting Frames from Batman (1989)-002_part_413.mp4: 100%|██████████| 612/612 [00:01<00:00, 589.77it/s]\n"
     ]
    },
    {
     "name": "stdout",
     "output_type": "stream",
     "text": [
      "✅ Saved frames in: /Users/mario/Desktop/Desktop/UofA/4.Winter-2025/ece-910/Batman/VLM-testing/batman-frames/Batman (1989)-002_part_413\n",
      "\n",
      "🎥 Processing: /Users/mario/Desktop/Desktop/UofA/4.Winter-2025/ece-910/Batman/Batman-(1989)-002/Batman (1989)-002_part_414.mp4\n",
      "📸 Total Frames: 48\n"
     ]
    },
    {
     "name": "stderr",
     "output_type": "stream",
     "text": [
      "Extracting Frames from Batman (1989)-002_part_414.mp4: 100%|██████████| 48/48 [00:00<00:00, 582.03it/s]\n"
     ]
    },
    {
     "name": "stdout",
     "output_type": "stream",
     "text": [
      "✅ Saved frames in: /Users/mario/Desktop/Desktop/UofA/4.Winter-2025/ece-910/Batman/VLM-testing/batman-frames/Batman (1989)-002_part_414\n",
      "\n",
      "🎥 Processing: /Users/mario/Desktop/Desktop/UofA/4.Winter-2025/ece-910/Batman/Batman-(1989)-002/Batman (1989)-002_part_415.mp4\n",
      "📸 Total Frames: 54\n"
     ]
    },
    {
     "name": "stderr",
     "output_type": "stream",
     "text": [
      "Extracting Frames from Batman (1989)-002_part_415.mp4: 100%|██████████| 54/54 [00:00<00:00, 559.08it/s]\n"
     ]
    },
    {
     "name": "stdout",
     "output_type": "stream",
     "text": [
      "✅ Saved frames in: /Users/mario/Desktop/Desktop/UofA/4.Winter-2025/ece-910/Batman/VLM-testing/batman-frames/Batman (1989)-002_part_415\n",
      "\n",
      "🎥 Processing: /Users/mario/Desktop/Desktop/UofA/4.Winter-2025/ece-910/Batman/Batman-(1989)-002/Batman (1989)-002_part_416.mp4\n",
      "📸 Total Frames: 223\n"
     ]
    },
    {
     "name": "stderr",
     "output_type": "stream",
     "text": [
      "Extracting Frames from Batman (1989)-002_part_416.mp4: 100%|██████████| 223/223 [00:00<00:00, 596.97it/s]\n"
     ]
    },
    {
     "name": "stdout",
     "output_type": "stream",
     "text": [
      "✅ Saved frames in: /Users/mario/Desktop/Desktop/UofA/4.Winter-2025/ece-910/Batman/VLM-testing/batman-frames/Batman (1989)-002_part_416\n",
      "\n",
      "🎥 Processing: /Users/mario/Desktop/Desktop/UofA/4.Winter-2025/ece-910/Batman/Batman-(1989)-002/Batman (1989)-002_part_417.mp4\n",
      "📸 Total Frames: 43\n"
     ]
    },
    {
     "name": "stderr",
     "output_type": "stream",
     "text": [
      "Extracting Frames from Batman (1989)-002_part_417.mp4: 100%|██████████| 43/43 [00:00<00:00, 577.47it/s]\n"
     ]
    },
    {
     "name": "stdout",
     "output_type": "stream",
     "text": [
      "✅ Saved frames in: /Users/mario/Desktop/Desktop/UofA/4.Winter-2025/ece-910/Batman/VLM-testing/batman-frames/Batman (1989)-002_part_417\n",
      "\n",
      "🎥 Processing: /Users/mario/Desktop/Desktop/UofA/4.Winter-2025/ece-910/Batman/Batman-(1989)-002/Batman (1989)-002_part_418.mp4\n",
      "📸 Total Frames: 95\n"
     ]
    },
    {
     "name": "stderr",
     "output_type": "stream",
     "text": [
      "Extracting Frames from Batman (1989)-002_part_418.mp4: 100%|██████████| 95/95 [00:00<00:00, 632.50it/s]\n"
     ]
    },
    {
     "name": "stdout",
     "output_type": "stream",
     "text": [
      "✅ Saved frames in: /Users/mario/Desktop/Desktop/UofA/4.Winter-2025/ece-910/Batman/VLM-testing/batman-frames/Batman (1989)-002_part_418\n",
      "\n",
      "🎥 Processing: /Users/mario/Desktop/Desktop/UofA/4.Winter-2025/ece-910/Batman/Batman-(1989)-002/Batman (1989)-002_part_419.mp4\n",
      "📸 Total Frames: 203\n"
     ]
    },
    {
     "name": "stderr",
     "output_type": "stream",
     "text": [
      "Extracting Frames from Batman (1989)-002_part_419.mp4: 100%|██████████| 203/203 [00:00<00:00, 614.96it/s]\n"
     ]
    },
    {
     "name": "stdout",
     "output_type": "stream",
     "text": [
      "✅ Saved frames in: /Users/mario/Desktop/Desktop/UofA/4.Winter-2025/ece-910/Batman/VLM-testing/batman-frames/Batman (1989)-002_part_419\n",
      "\n",
      "🎥 Processing: /Users/mario/Desktop/Desktop/UofA/4.Winter-2025/ece-910/Batman/Batman-(1989)-002/Batman (1989)-002_part_42.mp4\n",
      "📸 Total Frames: 1246\n"
     ]
    },
    {
     "name": "stderr",
     "output_type": "stream",
     "text": [
      "Extracting Frames from Batman (1989)-002_part_42.mp4: 100%|██████████| 1246/1246 [00:02<00:00, 588.87it/s]\n"
     ]
    },
    {
     "name": "stdout",
     "output_type": "stream",
     "text": [
      "✅ Saved frames in: /Users/mario/Desktop/Desktop/UofA/4.Winter-2025/ece-910/Batman/VLM-testing/batman-frames/Batman (1989)-002_part_42\n",
      "\n",
      "🎥 Processing: /Users/mario/Desktop/Desktop/UofA/4.Winter-2025/ece-910/Batman/Batman-(1989)-002/Batman (1989)-002_part_420.mp4\n",
      "📸 Total Frames: 158\n"
     ]
    },
    {
     "name": "stderr",
     "output_type": "stream",
     "text": [
      "Extracting Frames from Batman (1989)-002_part_420.mp4: 100%|██████████| 158/158 [00:00<00:00, 589.39it/s]\n"
     ]
    },
    {
     "name": "stdout",
     "output_type": "stream",
     "text": [
      "✅ Saved frames in: /Users/mario/Desktop/Desktop/UofA/4.Winter-2025/ece-910/Batman/VLM-testing/batman-frames/Batman (1989)-002_part_420\n",
      "\n",
      "🎥 Processing: /Users/mario/Desktop/Desktop/UofA/4.Winter-2025/ece-910/Batman/Batman-(1989)-002/Batman (1989)-002_part_421.mp4\n",
      "📸 Total Frames: 112\n"
     ]
    },
    {
     "name": "stderr",
     "output_type": "stream",
     "text": [
      "Extracting Frames from Batman (1989)-002_part_421.mp4: 100%|██████████| 112/112 [00:00<00:00, 631.66it/s]\n"
     ]
    },
    {
     "name": "stdout",
     "output_type": "stream",
     "text": [
      "✅ Saved frames in: /Users/mario/Desktop/Desktop/UofA/4.Winter-2025/ece-910/Batman/VLM-testing/batman-frames/Batman (1989)-002_part_421\n",
      "\n",
      "🎥 Processing: /Users/mario/Desktop/Desktop/UofA/4.Winter-2025/ece-910/Batman/Batman-(1989)-002/Batman (1989)-002_part_422.mp4\n",
      "📸 Total Frames: 7\n"
     ]
    },
    {
     "name": "stderr",
     "output_type": "stream",
     "text": [
      "Extracting Frames from Batman (1989)-002_part_422.mp4: 100%|██████████| 7/7 [00:00<00:00, 521.18it/s]\n"
     ]
    },
    {
     "name": "stdout",
     "output_type": "stream",
     "text": [
      "✅ Saved frames in: /Users/mario/Desktop/Desktop/UofA/4.Winter-2025/ece-910/Batman/VLM-testing/batman-frames/Batman (1989)-002_part_422\n",
      "\n",
      "🎥 Processing: /Users/mario/Desktop/Desktop/UofA/4.Winter-2025/ece-910/Batman/Batman-(1989)-002/Batman (1989)-002_part_423.mp4\n",
      "📸 Total Frames: 87\n"
     ]
    },
    {
     "name": "stderr",
     "output_type": "stream",
     "text": [
      "Extracting Frames from Batman (1989)-002_part_423.mp4: 100%|██████████| 87/87 [00:00<00:00, 625.06it/s]\n"
     ]
    },
    {
     "name": "stdout",
     "output_type": "stream",
     "text": [
      "✅ Saved frames in: /Users/mario/Desktop/Desktop/UofA/4.Winter-2025/ece-910/Batman/VLM-testing/batman-frames/Batman (1989)-002_part_423\n",
      "\n",
      "🎥 Processing: /Users/mario/Desktop/Desktop/UofA/4.Winter-2025/ece-910/Batman/Batman-(1989)-002/Batman (1989)-002_part_424.mp4\n",
      "📸 Total Frames: 285\n"
     ]
    },
    {
     "name": "stderr",
     "output_type": "stream",
     "text": [
      "Extracting Frames from Batman (1989)-002_part_424.mp4: 100%|██████████| 285/285 [00:00<00:00, 661.94it/s]\n"
     ]
    },
    {
     "name": "stdout",
     "output_type": "stream",
     "text": [
      "✅ Saved frames in: /Users/mario/Desktop/Desktop/UofA/4.Winter-2025/ece-910/Batman/VLM-testing/batman-frames/Batman (1989)-002_part_424\n",
      "\n",
      "🎥 Processing: /Users/mario/Desktop/Desktop/UofA/4.Winter-2025/ece-910/Batman/Batman-(1989)-002/Batman (1989)-002_part_425.mp4\n",
      "📸 Total Frames: 368\n"
     ]
    },
    {
     "name": "stderr",
     "output_type": "stream",
     "text": [
      "Extracting Frames from Batman (1989)-002_part_425.mp4: 100%|██████████| 368/368 [00:00<00:00, 606.62it/s]\n"
     ]
    },
    {
     "name": "stdout",
     "output_type": "stream",
     "text": [
      "✅ Saved frames in: /Users/mario/Desktop/Desktop/UofA/4.Winter-2025/ece-910/Batman/VLM-testing/batman-frames/Batman (1989)-002_part_425\n",
      "\n",
      "🎥 Processing: /Users/mario/Desktop/Desktop/UofA/4.Winter-2025/ece-910/Batman/Batman-(1989)-002/Batman (1989)-002_part_426.mp4\n",
      "📸 Total Frames: 226\n"
     ]
    },
    {
     "name": "stderr",
     "output_type": "stream",
     "text": [
      "Extracting Frames from Batman (1989)-002_part_426.mp4: 100%|██████████| 226/226 [00:00<00:00, 622.66it/s]\n"
     ]
    },
    {
     "name": "stdout",
     "output_type": "stream",
     "text": [
      "✅ Saved frames in: /Users/mario/Desktop/Desktop/UofA/4.Winter-2025/ece-910/Batman/VLM-testing/batman-frames/Batman (1989)-002_part_426\n",
      "\n",
      "🎥 Processing: /Users/mario/Desktop/Desktop/UofA/4.Winter-2025/ece-910/Batman/Batman-(1989)-002/Batman (1989)-002_part_427.mp4\n",
      "📸 Total Frames: 34\n"
     ]
    },
    {
     "name": "stderr",
     "output_type": "stream",
     "text": [
      "Extracting Frames from Batman (1989)-002_part_427.mp4: 100%|██████████| 34/34 [00:00<00:00, 579.54it/s]\n"
     ]
    },
    {
     "name": "stdout",
     "output_type": "stream",
     "text": [
      "✅ Saved frames in: /Users/mario/Desktop/Desktop/UofA/4.Winter-2025/ece-910/Batman/VLM-testing/batman-frames/Batman (1989)-002_part_427\n",
      "\n",
      "🎥 Processing: /Users/mario/Desktop/Desktop/UofA/4.Winter-2025/ece-910/Batman/Batman-(1989)-002/Batman (1989)-002_part_428.mp4\n",
      "📸 Total Frames: 361\n"
     ]
    },
    {
     "name": "stderr",
     "output_type": "stream",
     "text": [
      "Extracting Frames from Batman (1989)-002_part_428.mp4: 100%|██████████| 361/361 [00:00<00:00, 614.35it/s]\n"
     ]
    },
    {
     "name": "stdout",
     "output_type": "stream",
     "text": [
      "✅ Saved frames in: /Users/mario/Desktop/Desktop/UofA/4.Winter-2025/ece-910/Batman/VLM-testing/batman-frames/Batman (1989)-002_part_428\n",
      "\n",
      "🎥 Processing: /Users/mario/Desktop/Desktop/UofA/4.Winter-2025/ece-910/Batman/Batman-(1989)-002/Batman (1989)-002_part_429.mp4\n",
      "📸 Total Frames: 128\n"
     ]
    },
    {
     "name": "stderr",
     "output_type": "stream",
     "text": [
      "Extracting Frames from Batman (1989)-002_part_429.mp4: 100%|██████████| 128/128 [00:00<00:00, 603.92it/s]\n"
     ]
    },
    {
     "name": "stdout",
     "output_type": "stream",
     "text": [
      "✅ Saved frames in: /Users/mario/Desktop/Desktop/UofA/4.Winter-2025/ece-910/Batman/VLM-testing/batman-frames/Batman (1989)-002_part_429\n",
      "\n",
      "🎥 Processing: /Users/mario/Desktop/Desktop/UofA/4.Winter-2025/ece-910/Batman/Batman-(1989)-002/Batman (1989)-002_part_43.mp4\n",
      "📸 Total Frames: 111\n"
     ]
    },
    {
     "name": "stderr",
     "output_type": "stream",
     "text": [
      "Extracting Frames from Batman (1989)-002_part_43.mp4: 100%|██████████| 111/111 [00:00<00:00, 558.58it/s]\n"
     ]
    },
    {
     "name": "stdout",
     "output_type": "stream",
     "text": [
      "✅ Saved frames in: /Users/mario/Desktop/Desktop/UofA/4.Winter-2025/ece-910/Batman/VLM-testing/batman-frames/Batman (1989)-002_part_43\n",
      "\n",
      "🎥 Processing: /Users/mario/Desktop/Desktop/UofA/4.Winter-2025/ece-910/Batman/Batman-(1989)-002/Batman (1989)-002_part_430.mp4\n",
      "📸 Total Frames: 123\n"
     ]
    },
    {
     "name": "stderr",
     "output_type": "stream",
     "text": [
      "Extracting Frames from Batman (1989)-002_part_430.mp4: 100%|██████████| 123/123 [00:00<00:00, 614.97it/s]\n"
     ]
    },
    {
     "name": "stdout",
     "output_type": "stream",
     "text": [
      "✅ Saved frames in: /Users/mario/Desktop/Desktop/UofA/4.Winter-2025/ece-910/Batman/VLM-testing/batman-frames/Batman (1989)-002_part_430\n",
      "\n",
      "🎥 Processing: /Users/mario/Desktop/Desktop/UofA/4.Winter-2025/ece-910/Batman/Batman-(1989)-002/Batman (1989)-002_part_431.mp4\n",
      "📸 Total Frames: 123\n"
     ]
    },
    {
     "name": "stderr",
     "output_type": "stream",
     "text": [
      "Extracting Frames from Batman (1989)-002_part_431.mp4: 100%|██████████| 123/123 [00:00<00:00, 613.87it/s]\n"
     ]
    },
    {
     "name": "stdout",
     "output_type": "stream",
     "text": [
      "✅ Saved frames in: /Users/mario/Desktop/Desktop/UofA/4.Winter-2025/ece-910/Batman/VLM-testing/batman-frames/Batman (1989)-002_part_431\n",
      "\n",
      "🎥 Processing: /Users/mario/Desktop/Desktop/UofA/4.Winter-2025/ece-910/Batman/Batman-(1989)-002/Batman (1989)-002_part_432.mp4\n",
      "📸 Total Frames: 362\n"
     ]
    },
    {
     "name": "stderr",
     "output_type": "stream",
     "text": [
      "Extracting Frames from Batman (1989)-002_part_432.mp4: 100%|██████████| 362/362 [00:00<00:00, 541.26it/s]\n"
     ]
    },
    {
     "name": "stdout",
     "output_type": "stream",
     "text": [
      "✅ Saved frames in: /Users/mario/Desktop/Desktop/UofA/4.Winter-2025/ece-910/Batman/VLM-testing/batman-frames/Batman (1989)-002_part_432\n",
      "\n",
      "🎥 Processing: /Users/mario/Desktop/Desktop/UofA/4.Winter-2025/ece-910/Batman/Batman-(1989)-002/Batman (1989)-002_part_433.mp4\n",
      "📸 Total Frames: 19\n"
     ]
    },
    {
     "name": "stderr",
     "output_type": "stream",
     "text": [
      "Extracting Frames from Batman (1989)-002_part_433.mp4: 100%|██████████| 19/19 [00:00<00:00, 497.54it/s]\n"
     ]
    },
    {
     "name": "stdout",
     "output_type": "stream",
     "text": [
      "✅ Saved frames in: /Users/mario/Desktop/Desktop/UofA/4.Winter-2025/ece-910/Batman/VLM-testing/batman-frames/Batman (1989)-002_part_433\n",
      "\n",
      "🎥 Processing: /Users/mario/Desktop/Desktop/UofA/4.Winter-2025/ece-910/Batman/Batman-(1989)-002/Batman (1989)-002_part_434.mp4\n",
      "📸 Total Frames: 37\n"
     ]
    },
    {
     "name": "stderr",
     "output_type": "stream",
     "text": [
      "Extracting Frames from Batman (1989)-002_part_434.mp4: 100%|██████████| 37/37 [00:00<00:00, 545.97it/s]\n"
     ]
    },
    {
     "name": "stdout",
     "output_type": "stream",
     "text": [
      "✅ Saved frames in: /Users/mario/Desktop/Desktop/UofA/4.Winter-2025/ece-910/Batman/VLM-testing/batman-frames/Batman (1989)-002_part_434\n",
      "\n",
      "🎥 Processing: /Users/mario/Desktop/Desktop/UofA/4.Winter-2025/ece-910/Batman/Batman-(1989)-002/Batman (1989)-002_part_435.mp4\n",
      "📸 Total Frames: 21\n"
     ]
    },
    {
     "name": "stderr",
     "output_type": "stream",
     "text": [
      "Extracting Frames from Batman (1989)-002_part_435.mp4: 100%|██████████| 21/21 [00:00<00:00, 148.41it/s]\n"
     ]
    },
    {
     "name": "stdout",
     "output_type": "stream",
     "text": [
      "✅ Saved frames in: /Users/mario/Desktop/Desktop/UofA/4.Winter-2025/ece-910/Batman/VLM-testing/batman-frames/Batman (1989)-002_part_435\n",
      "\n",
      "🎥 Processing: /Users/mario/Desktop/Desktop/UofA/4.Winter-2025/ece-910/Batman/Batman-(1989)-002/Batman (1989)-002_part_436.mp4\n",
      "📸 Total Frames: 543\n"
     ]
    },
    {
     "name": "stderr",
     "output_type": "stream",
     "text": [
      "Extracting Frames from Batman (1989)-002_part_436.mp4: 100%|██████████| 543/543 [00:01<00:00, 511.62it/s]\n"
     ]
    },
    {
     "name": "stdout",
     "output_type": "stream",
     "text": [
      "✅ Saved frames in: /Users/mario/Desktop/Desktop/UofA/4.Winter-2025/ece-910/Batman/VLM-testing/batman-frames/Batman (1989)-002_part_436\n",
      "\n",
      "🎥 Processing: /Users/mario/Desktop/Desktop/UofA/4.Winter-2025/ece-910/Batman/Batman-(1989)-002/Batman (1989)-002_part_437.mp4\n",
      "📸 Total Frames: 365\n"
     ]
    },
    {
     "name": "stderr",
     "output_type": "stream",
     "text": [
      "Extracting Frames from Batman (1989)-002_part_437.mp4: 100%|██████████| 365/365 [00:00<00:00, 519.71it/s]\n"
     ]
    },
    {
     "name": "stdout",
     "output_type": "stream",
     "text": [
      "✅ Saved frames in: /Users/mario/Desktop/Desktop/UofA/4.Winter-2025/ece-910/Batman/VLM-testing/batman-frames/Batman (1989)-002_part_437\n",
      "\n",
      "🎥 Processing: /Users/mario/Desktop/Desktop/UofA/4.Winter-2025/ece-910/Batman/Batman-(1989)-002/Batman (1989)-002_part_438.mp4\n",
      "📸 Total Frames: 70\n"
     ]
    },
    {
     "name": "stderr",
     "output_type": "stream",
     "text": [
      "Extracting Frames from Batman (1989)-002_part_438.mp4: 100%|██████████| 70/70 [00:00<00:00, 596.84it/s]\n"
     ]
    },
    {
     "name": "stdout",
     "output_type": "stream",
     "text": [
      "✅ Saved frames in: /Users/mario/Desktop/Desktop/UofA/4.Winter-2025/ece-910/Batman/VLM-testing/batman-frames/Batman (1989)-002_part_438\n",
      "\n",
      "🎥 Processing: /Users/mario/Desktop/Desktop/UofA/4.Winter-2025/ece-910/Batman/Batman-(1989)-002/Batman (1989)-002_part_439.mp4\n",
      "📸 Total Frames: 180\n"
     ]
    },
    {
     "name": "stderr",
     "output_type": "stream",
     "text": [
      "Extracting Frames from Batman (1989)-002_part_439.mp4: 100%|██████████| 180/180 [00:00<00:00, 588.68it/s]\n"
     ]
    },
    {
     "name": "stdout",
     "output_type": "stream",
     "text": [
      "✅ Saved frames in: /Users/mario/Desktop/Desktop/UofA/4.Winter-2025/ece-910/Batman/VLM-testing/batman-frames/Batman (1989)-002_part_439\n",
      "\n",
      "🎥 Processing: /Users/mario/Desktop/Desktop/UofA/4.Winter-2025/ece-910/Batman/Batman-(1989)-002/Batman (1989)-002_part_44.mp4\n",
      "📸 Total Frames: 712\n"
     ]
    },
    {
     "name": "stderr",
     "output_type": "stream",
     "text": [
      "Extracting Frames from Batman (1989)-002_part_44.mp4: 100%|██████████| 712/712 [00:01<00:00, 600.66it/s]\n"
     ]
    },
    {
     "name": "stdout",
     "output_type": "stream",
     "text": [
      "✅ Saved frames in: /Users/mario/Desktop/Desktop/UofA/4.Winter-2025/ece-910/Batman/VLM-testing/batman-frames/Batman (1989)-002_part_44\n",
      "\n",
      "🎥 Processing: /Users/mario/Desktop/Desktop/UofA/4.Winter-2025/ece-910/Batman/Batman-(1989)-002/Batman (1989)-002_part_440.mp4\n",
      "📸 Total Frames: 42\n"
     ]
    },
    {
     "name": "stderr",
     "output_type": "stream",
     "text": [
      "Extracting Frames from Batman (1989)-002_part_440.mp4: 100%|██████████| 42/42 [00:00<00:00, 580.53it/s]\n"
     ]
    },
    {
     "name": "stdout",
     "output_type": "stream",
     "text": [
      "✅ Saved frames in: /Users/mario/Desktop/Desktop/UofA/4.Winter-2025/ece-910/Batman/VLM-testing/batman-frames/Batman (1989)-002_part_440\n",
      "\n",
      "🎥 Processing: /Users/mario/Desktop/Desktop/UofA/4.Winter-2025/ece-910/Batman/Batman-(1989)-002/Batman (1989)-002_part_441.mp4\n",
      "📸 Total Frames: 76\n"
     ]
    },
    {
     "name": "stderr",
     "output_type": "stream",
     "text": [
      "Extracting Frames from Batman (1989)-002_part_441.mp4: 100%|██████████| 76/76 [00:00<00:00, 541.44it/s]\n"
     ]
    },
    {
     "name": "stdout",
     "output_type": "stream",
     "text": [
      "✅ Saved frames in: /Users/mario/Desktop/Desktop/UofA/4.Winter-2025/ece-910/Batman/VLM-testing/batman-frames/Batman (1989)-002_part_441\n",
      "\n",
      "🎥 Processing: /Users/mario/Desktop/Desktop/UofA/4.Winter-2025/ece-910/Batman/Batman-(1989)-002/Batman (1989)-002_part_442.mp4\n",
      "📸 Total Frames: 62\n"
     ]
    },
    {
     "name": "stderr",
     "output_type": "stream",
     "text": [
      "Extracting Frames from Batman (1989)-002_part_442.mp4: 100%|██████████| 62/62 [00:00<00:00, 584.24it/s]\n"
     ]
    },
    {
     "name": "stdout",
     "output_type": "stream",
     "text": [
      "✅ Saved frames in: /Users/mario/Desktop/Desktop/UofA/4.Winter-2025/ece-910/Batman/VLM-testing/batman-frames/Batman (1989)-002_part_442\n",
      "\n",
      "🎥 Processing: /Users/mario/Desktop/Desktop/UofA/4.Winter-2025/ece-910/Batman/Batman-(1989)-002/Batman (1989)-002_part_443.mp4\n",
      "📸 Total Frames: 102\n"
     ]
    },
    {
     "name": "stderr",
     "output_type": "stream",
     "text": [
      "Extracting Frames from Batman (1989)-002_part_443.mp4: 100%|██████████| 102/102 [00:00<00:00, 591.65it/s]\n"
     ]
    },
    {
     "name": "stdout",
     "output_type": "stream",
     "text": [
      "✅ Saved frames in: /Users/mario/Desktop/Desktop/UofA/4.Winter-2025/ece-910/Batman/VLM-testing/batman-frames/Batman (1989)-002_part_443\n",
      "\n",
      "🎥 Processing: /Users/mario/Desktop/Desktop/UofA/4.Winter-2025/ece-910/Batman/Batman-(1989)-002/Batman (1989)-002_part_444.mp4\n",
      "📸 Total Frames: 86\n"
     ]
    },
    {
     "name": "stderr",
     "output_type": "stream",
     "text": [
      "Extracting Frames from Batman (1989)-002_part_444.mp4: 100%|██████████| 86/86 [00:00<00:00, 629.96it/s]\n"
     ]
    },
    {
     "name": "stdout",
     "output_type": "stream",
     "text": [
      "✅ Saved frames in: /Users/mario/Desktop/Desktop/UofA/4.Winter-2025/ece-910/Batman/VLM-testing/batman-frames/Batman (1989)-002_part_444\n",
      "\n",
      "🎥 Processing: /Users/mario/Desktop/Desktop/UofA/4.Winter-2025/ece-910/Batman/Batman-(1989)-002/Batman (1989)-002_part_445.mp4\n",
      "📸 Total Frames: 65\n"
     ]
    },
    {
     "name": "stderr",
     "output_type": "stream",
     "text": [
      "Extracting Frames from Batman (1989)-002_part_445.mp4: 100%|██████████| 65/65 [00:00<00:00, 557.58it/s]\n"
     ]
    },
    {
     "name": "stdout",
     "output_type": "stream",
     "text": [
      "✅ Saved frames in: /Users/mario/Desktop/Desktop/UofA/4.Winter-2025/ece-910/Batman/VLM-testing/batman-frames/Batman (1989)-002_part_445\n",
      "\n",
      "🎥 Processing: /Users/mario/Desktop/Desktop/UofA/4.Winter-2025/ece-910/Batman/Batman-(1989)-002/Batman (1989)-002_part_446.mp4\n",
      "📸 Total Frames: 71\n"
     ]
    },
    {
     "name": "stderr",
     "output_type": "stream",
     "text": [
      "Extracting Frames from Batman (1989)-002_part_446.mp4: 100%|██████████| 71/71 [00:00<00:00, 575.48it/s]\n"
     ]
    },
    {
     "name": "stdout",
     "output_type": "stream",
     "text": [
      "✅ Saved frames in: /Users/mario/Desktop/Desktop/UofA/4.Winter-2025/ece-910/Batman/VLM-testing/batman-frames/Batman (1989)-002_part_446\n",
      "\n",
      "🎥 Processing: /Users/mario/Desktop/Desktop/UofA/4.Winter-2025/ece-910/Batman/Batman-(1989)-002/Batman (1989)-002_part_447.mp4\n",
      "📸 Total Frames: 62\n"
     ]
    },
    {
     "name": "stderr",
     "output_type": "stream",
     "text": [
      "Extracting Frames from Batman (1989)-002_part_447.mp4: 100%|██████████| 62/62 [00:00<00:00, 565.20it/s]\n"
     ]
    },
    {
     "name": "stdout",
     "output_type": "stream",
     "text": [
      "✅ Saved frames in: /Users/mario/Desktop/Desktop/UofA/4.Winter-2025/ece-910/Batman/VLM-testing/batman-frames/Batman (1989)-002_part_447\n",
      "\n",
      "🎥 Processing: /Users/mario/Desktop/Desktop/UofA/4.Winter-2025/ece-910/Batman/Batman-(1989)-002/Batman (1989)-002_part_448.mp4\n",
      "📸 Total Frames: 72\n"
     ]
    },
    {
     "name": "stderr",
     "output_type": "stream",
     "text": [
      "Extracting Frames from Batman (1989)-002_part_448.mp4: 100%|██████████| 72/72 [00:00<00:00, 588.91it/s]\n"
     ]
    },
    {
     "name": "stdout",
     "output_type": "stream",
     "text": [
      "✅ Saved frames in: /Users/mario/Desktop/Desktop/UofA/4.Winter-2025/ece-910/Batman/VLM-testing/batman-frames/Batman (1989)-002_part_448\n",
      "\n",
      "🎥 Processing: /Users/mario/Desktop/Desktop/UofA/4.Winter-2025/ece-910/Batman/Batman-(1989)-002/Batman (1989)-002_part_449.mp4\n",
      "📸 Total Frames: 157\n"
     ]
    },
    {
     "name": "stderr",
     "output_type": "stream",
     "text": [
      "Extracting Frames from Batman (1989)-002_part_449.mp4: 100%|██████████| 157/157 [00:00<00:00, 578.73it/s]\n"
     ]
    },
    {
     "name": "stdout",
     "output_type": "stream",
     "text": [
      "✅ Saved frames in: /Users/mario/Desktop/Desktop/UofA/4.Winter-2025/ece-910/Batman/VLM-testing/batman-frames/Batman (1989)-002_part_449\n",
      "\n",
      "🎥 Processing: /Users/mario/Desktop/Desktop/UofA/4.Winter-2025/ece-910/Batman/Batman-(1989)-002/Batman (1989)-002_part_45.mp4\n",
      "📸 Total Frames: 411\n"
     ]
    },
    {
     "name": "stderr",
     "output_type": "stream",
     "text": [
      "Extracting Frames from Batman (1989)-002_part_45.mp4: 100%|██████████| 411/411 [00:00<00:00, 632.04it/s]\n"
     ]
    },
    {
     "name": "stdout",
     "output_type": "stream",
     "text": [
      "✅ Saved frames in: /Users/mario/Desktop/Desktop/UofA/4.Winter-2025/ece-910/Batman/VLM-testing/batman-frames/Batman (1989)-002_part_45\n",
      "\n",
      "🎥 Processing: /Users/mario/Desktop/Desktop/UofA/4.Winter-2025/ece-910/Batman/Batman-(1989)-002/Batman (1989)-002_part_450.mp4\n",
      "📸 Total Frames: 35\n"
     ]
    },
    {
     "name": "stderr",
     "output_type": "stream",
     "text": [
      "Extracting Frames from Batman (1989)-002_part_450.mp4: 100%|██████████| 35/35 [00:00<00:00, 527.42it/s]\n"
     ]
    },
    {
     "name": "stdout",
     "output_type": "stream",
     "text": [
      "✅ Saved frames in: /Users/mario/Desktop/Desktop/UofA/4.Winter-2025/ece-910/Batman/VLM-testing/batman-frames/Batman (1989)-002_part_450\n",
      "\n",
      "🎥 Processing: /Users/mario/Desktop/Desktop/UofA/4.Winter-2025/ece-910/Batman/Batman-(1989)-002/Batman (1989)-002_part_451.mp4\n",
      "📸 Total Frames: 269\n"
     ]
    },
    {
     "name": "stderr",
     "output_type": "stream",
     "text": [
      "Extracting Frames from Batman (1989)-002_part_451.mp4: 100%|██████████| 269/269 [00:00<00:00, 461.77it/s]\n"
     ]
    },
    {
     "name": "stdout",
     "output_type": "stream",
     "text": [
      "✅ Saved frames in: /Users/mario/Desktop/Desktop/UofA/4.Winter-2025/ece-910/Batman/VLM-testing/batman-frames/Batman (1989)-002_part_451\n",
      "\n",
      "🎥 Processing: /Users/mario/Desktop/Desktop/UofA/4.Winter-2025/ece-910/Batman/Batman-(1989)-002/Batman (1989)-002_part_452.mp4\n",
      "📸 Total Frames: 45\n"
     ]
    },
    {
     "name": "stderr",
     "output_type": "stream",
     "text": [
      "Extracting Frames from Batman (1989)-002_part_452.mp4: 100%|██████████| 45/45 [00:00<00:00, 593.01it/s]\n"
     ]
    },
    {
     "name": "stdout",
     "output_type": "stream",
     "text": [
      "✅ Saved frames in: /Users/mario/Desktop/Desktop/UofA/4.Winter-2025/ece-910/Batman/VLM-testing/batman-frames/Batman (1989)-002_part_452\n",
      "\n",
      "🎥 Processing: /Users/mario/Desktop/Desktop/UofA/4.Winter-2025/ece-910/Batman/Batman-(1989)-002/Batman (1989)-002_part_453.mp4\n",
      "📸 Total Frames: 111\n"
     ]
    },
    {
     "name": "stderr",
     "output_type": "stream",
     "text": [
      "Extracting Frames from Batman (1989)-002_part_453.mp4: 100%|██████████| 111/111 [00:00<00:00, 606.04it/s]\n"
     ]
    },
    {
     "name": "stdout",
     "output_type": "stream",
     "text": [
      "✅ Saved frames in: /Users/mario/Desktop/Desktop/UofA/4.Winter-2025/ece-910/Batman/VLM-testing/batman-frames/Batman (1989)-002_part_453\n",
      "\n",
      "🎥 Processing: /Users/mario/Desktop/Desktop/UofA/4.Winter-2025/ece-910/Batman/Batman-(1989)-002/Batman (1989)-002_part_454.mp4\n",
      "📸 Total Frames: 79\n"
     ]
    },
    {
     "name": "stderr",
     "output_type": "stream",
     "text": [
      "Extracting Frames from Batman (1989)-002_part_454.mp4: 100%|██████████| 79/79 [00:00<00:00, 617.76it/s]\n"
     ]
    },
    {
     "name": "stdout",
     "output_type": "stream",
     "text": [
      "✅ Saved frames in: /Users/mario/Desktop/Desktop/UofA/4.Winter-2025/ece-910/Batman/VLM-testing/batman-frames/Batman (1989)-002_part_454\n",
      "\n",
      "🎥 Processing: /Users/mario/Desktop/Desktop/UofA/4.Winter-2025/ece-910/Batman/Batman-(1989)-002/Batman (1989)-002_part_455.mp4\n",
      "📸 Total Frames: 260\n"
     ]
    },
    {
     "name": "stderr",
     "output_type": "stream",
     "text": [
      "Extracting Frames from Batman (1989)-002_part_455.mp4: 100%|██████████| 260/260 [00:00<00:00, 624.39it/s]\n"
     ]
    },
    {
     "name": "stdout",
     "output_type": "stream",
     "text": [
      "✅ Saved frames in: /Users/mario/Desktop/Desktop/UofA/4.Winter-2025/ece-910/Batman/VLM-testing/batman-frames/Batman (1989)-002_part_455\n",
      "\n",
      "🎥 Processing: /Users/mario/Desktop/Desktop/UofA/4.Winter-2025/ece-910/Batman/Batman-(1989)-002/Batman (1989)-002_part_456.mp4\n",
      "📸 Total Frames: 67\n"
     ]
    },
    {
     "name": "stderr",
     "output_type": "stream",
     "text": [
      "Extracting Frames from Batman (1989)-002_part_456.mp4: 100%|██████████| 67/67 [00:00<00:00, 605.41it/s]\n"
     ]
    },
    {
     "name": "stdout",
     "output_type": "stream",
     "text": [
      "✅ Saved frames in: /Users/mario/Desktop/Desktop/UofA/4.Winter-2025/ece-910/Batman/VLM-testing/batman-frames/Batman (1989)-002_part_456\n",
      "\n",
      "🎥 Processing: /Users/mario/Desktop/Desktop/UofA/4.Winter-2025/ece-910/Batman/Batman-(1989)-002/Batman (1989)-002_part_457.mp4\n",
      "📸 Total Frames: 91\n"
     ]
    },
    {
     "name": "stderr",
     "output_type": "stream",
     "text": [
      "Extracting Frames from Batman (1989)-002_part_457.mp4: 100%|██████████| 91/91 [00:00<00:00, 572.41it/s]\n"
     ]
    },
    {
     "name": "stdout",
     "output_type": "stream",
     "text": [
      "✅ Saved frames in: /Users/mario/Desktop/Desktop/UofA/4.Winter-2025/ece-910/Batman/VLM-testing/batman-frames/Batman (1989)-002_part_457\n",
      "\n",
      "🎥 Processing: /Users/mario/Desktop/Desktop/UofA/4.Winter-2025/ece-910/Batman/Batman-(1989)-002/Batman (1989)-002_part_458.mp4\n",
      "📸 Total Frames: 91\n"
     ]
    },
    {
     "name": "stderr",
     "output_type": "stream",
     "text": [
      "Extracting Frames from Batman (1989)-002_part_458.mp4: 100%|██████████| 91/91 [00:00<00:00, 573.89it/s]\n"
     ]
    },
    {
     "name": "stdout",
     "output_type": "stream",
     "text": [
      "✅ Saved frames in: /Users/mario/Desktop/Desktop/UofA/4.Winter-2025/ece-910/Batman/VLM-testing/batman-frames/Batman (1989)-002_part_458\n",
      "\n",
      "🎥 Processing: /Users/mario/Desktop/Desktop/UofA/4.Winter-2025/ece-910/Batman/Batman-(1989)-002/Batman (1989)-002_part_459.mp4\n",
      "📸 Total Frames: 68\n"
     ]
    },
    {
     "name": "stderr",
     "output_type": "stream",
     "text": [
      "Extracting Frames from Batman (1989)-002_part_459.mp4: 100%|██████████| 68/68 [00:00<00:00, 635.31it/s]\n"
     ]
    },
    {
     "name": "stdout",
     "output_type": "stream",
     "text": [
      "✅ Saved frames in: /Users/mario/Desktop/Desktop/UofA/4.Winter-2025/ece-910/Batman/VLM-testing/batman-frames/Batman (1989)-002_part_459\n",
      "\n",
      "🎥 Processing: /Users/mario/Desktop/Desktop/UofA/4.Winter-2025/ece-910/Batman/Batman-(1989)-002/Batman (1989)-002_part_46.mp4\n",
      "📸 Total Frames: 57\n"
     ]
    },
    {
     "name": "stderr",
     "output_type": "stream",
     "text": [
      "Extracting Frames from Batman (1989)-002_part_46.mp4: 100%|██████████| 57/57 [00:00<00:00, 584.43it/s]\n"
     ]
    },
    {
     "name": "stdout",
     "output_type": "stream",
     "text": [
      "✅ Saved frames in: /Users/mario/Desktop/Desktop/UofA/4.Winter-2025/ece-910/Batman/VLM-testing/batman-frames/Batman (1989)-002_part_46\n",
      "\n",
      "🎥 Processing: /Users/mario/Desktop/Desktop/UofA/4.Winter-2025/ece-910/Batman/Batman-(1989)-002/Batman (1989)-002_part_460.mp4\n",
      "📸 Total Frames: 48\n"
     ]
    },
    {
     "name": "stderr",
     "output_type": "stream",
     "text": [
      "Extracting Frames from Batman (1989)-002_part_460.mp4: 100%|██████████| 48/48 [00:00<00:00, 588.91it/s]\n"
     ]
    },
    {
     "name": "stdout",
     "output_type": "stream",
     "text": [
      "✅ Saved frames in: /Users/mario/Desktop/Desktop/UofA/4.Winter-2025/ece-910/Batman/VLM-testing/batman-frames/Batman (1989)-002_part_460\n",
      "\n",
      "🎥 Processing: /Users/mario/Desktop/Desktop/UofA/4.Winter-2025/ece-910/Batman/Batman-(1989)-002/Batman (1989)-002_part_461.mp4\n",
      "📸 Total Frames: 153\n"
     ]
    },
    {
     "name": "stderr",
     "output_type": "stream",
     "text": [
      "Extracting Frames from Batman (1989)-002_part_461.mp4: 100%|██████████| 153/153 [00:00<00:00, 623.55it/s]\n"
     ]
    },
    {
     "name": "stdout",
     "output_type": "stream",
     "text": [
      "✅ Saved frames in: /Users/mario/Desktop/Desktop/UofA/4.Winter-2025/ece-910/Batman/VLM-testing/batman-frames/Batman (1989)-002_part_461\n",
      "\n",
      "🎥 Processing: /Users/mario/Desktop/Desktop/UofA/4.Winter-2025/ece-910/Batman/Batman-(1989)-002/Batman (1989)-002_part_462.mp4\n",
      "📸 Total Frames: 70\n"
     ]
    },
    {
     "name": "stderr",
     "output_type": "stream",
     "text": [
      "Extracting Frames from Batman (1989)-002_part_462.mp4: 100%|██████████| 70/70 [00:00<00:00, 607.05it/s]\n"
     ]
    },
    {
     "name": "stdout",
     "output_type": "stream",
     "text": [
      "✅ Saved frames in: /Users/mario/Desktop/Desktop/UofA/4.Winter-2025/ece-910/Batman/VLM-testing/batman-frames/Batman (1989)-002_part_462\n",
      "\n",
      "🎥 Processing: /Users/mario/Desktop/Desktop/UofA/4.Winter-2025/ece-910/Batman/Batman-(1989)-002/Batman (1989)-002_part_463.mp4\n",
      "📸 Total Frames: 380\n"
     ]
    },
    {
     "name": "stderr",
     "output_type": "stream",
     "text": [
      "Extracting Frames from Batman (1989)-002_part_463.mp4: 100%|██████████| 380/380 [00:00<00:00, 597.68it/s]\n"
     ]
    },
    {
     "name": "stdout",
     "output_type": "stream",
     "text": [
      "✅ Saved frames in: /Users/mario/Desktop/Desktop/UofA/4.Winter-2025/ece-910/Batman/VLM-testing/batman-frames/Batman (1989)-002_part_463\n",
      "\n",
      "🎥 Processing: /Users/mario/Desktop/Desktop/UofA/4.Winter-2025/ece-910/Batman/Batman-(1989)-002/Batman (1989)-002_part_464.mp4\n",
      "📸 Total Frames: 36\n"
     ]
    },
    {
     "name": "stderr",
     "output_type": "stream",
     "text": [
      "Extracting Frames from Batman (1989)-002_part_464.mp4: 100%|██████████| 36/36 [00:00<00:00, 585.68it/s]\n"
     ]
    },
    {
     "name": "stdout",
     "output_type": "stream",
     "text": [
      "✅ Saved frames in: /Users/mario/Desktop/Desktop/UofA/4.Winter-2025/ece-910/Batman/VLM-testing/batman-frames/Batman (1989)-002_part_464\n",
      "\n",
      "🎥 Processing: /Users/mario/Desktop/Desktop/UofA/4.Winter-2025/ece-910/Batman/Batman-(1989)-002/Batman (1989)-002_part_465.mp4\n",
      "📸 Total Frames: 65\n"
     ]
    },
    {
     "name": "stderr",
     "output_type": "stream",
     "text": [
      "Extracting Frames from Batman (1989)-002_part_465.mp4: 100%|██████████| 65/65 [00:00<00:00, 605.78it/s]\n"
     ]
    },
    {
     "name": "stdout",
     "output_type": "stream",
     "text": [
      "✅ Saved frames in: /Users/mario/Desktop/Desktop/UofA/4.Winter-2025/ece-910/Batman/VLM-testing/batman-frames/Batman (1989)-002_part_465\n",
      "\n",
      "🎥 Processing: /Users/mario/Desktop/Desktop/UofA/4.Winter-2025/ece-910/Batman/Batman-(1989)-002/Batman (1989)-002_part_466.mp4\n",
      "📸 Total Frames: 27\n"
     ]
    },
    {
     "name": "stderr",
     "output_type": "stream",
     "text": [
      "Extracting Frames from Batman (1989)-002_part_466.mp4: 100%|██████████| 27/27 [00:00<00:00, 570.85it/s]\n"
     ]
    },
    {
     "name": "stdout",
     "output_type": "stream",
     "text": [
      "✅ Saved frames in: /Users/mario/Desktop/Desktop/UofA/4.Winter-2025/ece-910/Batman/VLM-testing/batman-frames/Batman (1989)-002_part_466\n",
      "\n",
      "🎥 Processing: /Users/mario/Desktop/Desktop/UofA/4.Winter-2025/ece-910/Batman/Batman-(1989)-002/Batman (1989)-002_part_467.mp4\n",
      "📸 Total Frames: 300\n"
     ]
    },
    {
     "name": "stderr",
     "output_type": "stream",
     "text": [
      "Extracting Frames from Batman (1989)-002_part_467.mp4: 100%|██████████| 300/300 [00:00<00:00, 617.85it/s]\n"
     ]
    },
    {
     "name": "stdout",
     "output_type": "stream",
     "text": [
      "✅ Saved frames in: /Users/mario/Desktop/Desktop/UofA/4.Winter-2025/ece-910/Batman/VLM-testing/batman-frames/Batman (1989)-002_part_467\n",
      "\n",
      "🎥 Processing: /Users/mario/Desktop/Desktop/UofA/4.Winter-2025/ece-910/Batman/Batman-(1989)-002/Batman (1989)-002_part_468.mp4\n",
      "📸 Total Frames: 102\n"
     ]
    },
    {
     "name": "stderr",
     "output_type": "stream",
     "text": [
      "Extracting Frames from Batman (1989)-002_part_468.mp4: 100%|██████████| 102/102 [00:00<00:00, 607.86it/s]\n"
     ]
    },
    {
     "name": "stdout",
     "output_type": "stream",
     "text": [
      "✅ Saved frames in: /Users/mario/Desktop/Desktop/UofA/4.Winter-2025/ece-910/Batman/VLM-testing/batman-frames/Batman (1989)-002_part_468\n",
      "\n",
      "🎥 Processing: /Users/mario/Desktop/Desktop/UofA/4.Winter-2025/ece-910/Batman/Batman-(1989)-002/Batman (1989)-002_part_469.mp4\n",
      "📸 Total Frames: 29\n"
     ]
    },
    {
     "name": "stderr",
     "output_type": "stream",
     "text": [
      "Extracting Frames from Batman (1989)-002_part_469.mp4: 100%|██████████| 29/29 [00:00<00:00, 515.36it/s]\n"
     ]
    },
    {
     "name": "stdout",
     "output_type": "stream",
     "text": [
      "✅ Saved frames in: /Users/mario/Desktop/Desktop/UofA/4.Winter-2025/ece-910/Batman/VLM-testing/batman-frames/Batman (1989)-002_part_469\n",
      "\n",
      "🎥 Processing: /Users/mario/Desktop/Desktop/UofA/4.Winter-2025/ece-910/Batman/Batman-(1989)-002/Batman (1989)-002_part_47.mp4\n",
      "📸 Total Frames: 31\n"
     ]
    },
    {
     "name": "stderr",
     "output_type": "stream",
     "text": [
      "Extracting Frames from Batman (1989)-002_part_47.mp4: 100%|██████████| 31/31 [00:00<00:00, 576.33it/s]\n"
     ]
    },
    {
     "name": "stdout",
     "output_type": "stream",
     "text": [
      "✅ Saved frames in: /Users/mario/Desktop/Desktop/UofA/4.Winter-2025/ece-910/Batman/VLM-testing/batman-frames/Batman (1989)-002_part_47\n",
      "\n",
      "🎥 Processing: /Users/mario/Desktop/Desktop/UofA/4.Winter-2025/ece-910/Batman/Batman-(1989)-002/Batman (1989)-002_part_470.mp4\n",
      "📸 Total Frames: 93\n"
     ]
    },
    {
     "name": "stderr",
     "output_type": "stream",
     "text": [
      "Extracting Frames from Batman (1989)-002_part_470.mp4: 100%|██████████| 93/93 [00:00<00:00, 367.53it/s]\n"
     ]
    },
    {
     "name": "stdout",
     "output_type": "stream",
     "text": [
      "✅ Saved frames in: /Users/mario/Desktop/Desktop/UofA/4.Winter-2025/ece-910/Batman/VLM-testing/batman-frames/Batman (1989)-002_part_470\n",
      "\n",
      "🎥 Processing: /Users/mario/Desktop/Desktop/UofA/4.Winter-2025/ece-910/Batman/Batman-(1989)-002/Batman (1989)-002_part_471.mp4\n",
      "📸 Total Frames: 159\n"
     ]
    },
    {
     "name": "stderr",
     "output_type": "stream",
     "text": [
      "Extracting Frames from Batman (1989)-002_part_471.mp4: 100%|██████████| 159/159 [00:00<00:00, 381.63it/s]\n"
     ]
    },
    {
     "name": "stdout",
     "output_type": "stream",
     "text": [
      "✅ Saved frames in: /Users/mario/Desktop/Desktop/UofA/4.Winter-2025/ece-910/Batman/VLM-testing/batman-frames/Batman (1989)-002_part_471\n",
      "\n",
      "🎥 Processing: /Users/mario/Desktop/Desktop/UofA/4.Winter-2025/ece-910/Batman/Batman-(1989)-002/Batman (1989)-002_part_472.mp4\n",
      "📸 Total Frames: 207\n"
     ]
    },
    {
     "name": "stderr",
     "output_type": "stream",
     "text": [
      "Extracting Frames from Batman (1989)-002_part_472.mp4: 100%|██████████| 207/207 [00:00<00:00, 607.77it/s]\n"
     ]
    },
    {
     "name": "stdout",
     "output_type": "stream",
     "text": [
      "✅ Saved frames in: /Users/mario/Desktop/Desktop/UofA/4.Winter-2025/ece-910/Batman/VLM-testing/batman-frames/Batman (1989)-002_part_472\n",
      "\n",
      "🎥 Processing: /Users/mario/Desktop/Desktop/UofA/4.Winter-2025/ece-910/Batman/Batman-(1989)-002/Batman (1989)-002_part_473.mp4\n",
      "📸 Total Frames: 36\n"
     ]
    },
    {
     "name": "stderr",
     "output_type": "stream",
     "text": [
      "Extracting Frames from Batman (1989)-002_part_473.mp4: 100%|██████████| 36/36 [00:00<00:00, 577.18it/s]\n"
     ]
    },
    {
     "name": "stdout",
     "output_type": "stream",
     "text": [
      "✅ Saved frames in: /Users/mario/Desktop/Desktop/UofA/4.Winter-2025/ece-910/Batman/VLM-testing/batman-frames/Batman (1989)-002_part_473\n",
      "\n",
      "🎥 Processing: /Users/mario/Desktop/Desktop/UofA/4.Winter-2025/ece-910/Batman/Batman-(1989)-002/Batman (1989)-002_part_474.mp4\n",
      "📸 Total Frames: 297\n"
     ]
    },
    {
     "name": "stderr",
     "output_type": "stream",
     "text": [
      "Extracting Frames from Batman (1989)-002_part_474.mp4: 100%|██████████| 297/297 [00:00<00:00, 614.83it/s]\n"
     ]
    },
    {
     "name": "stdout",
     "output_type": "stream",
     "text": [
      "✅ Saved frames in: /Users/mario/Desktop/Desktop/UofA/4.Winter-2025/ece-910/Batman/VLM-testing/batman-frames/Batman (1989)-002_part_474\n",
      "\n",
      "🎥 Processing: /Users/mario/Desktop/Desktop/UofA/4.Winter-2025/ece-910/Batman/Batman-(1989)-002/Batman (1989)-002_part_475.mp4\n",
      "📸 Total Frames: 69\n"
     ]
    },
    {
     "name": "stderr",
     "output_type": "stream",
     "text": [
      "Extracting Frames from Batman (1989)-002_part_475.mp4: 100%|██████████| 69/69 [00:00<00:00, 587.12it/s]\n"
     ]
    },
    {
     "name": "stdout",
     "output_type": "stream",
     "text": [
      "✅ Saved frames in: /Users/mario/Desktop/Desktop/UofA/4.Winter-2025/ece-910/Batman/VLM-testing/batman-frames/Batman (1989)-002_part_475\n",
      "\n",
      "🎥 Processing: /Users/mario/Desktop/Desktop/UofA/4.Winter-2025/ece-910/Batman/Batman-(1989)-002/Batman (1989)-002_part_476.mp4\n",
      "📸 Total Frames: 48\n"
     ]
    },
    {
     "name": "stderr",
     "output_type": "stream",
     "text": [
      "Extracting Frames from Batman (1989)-002_part_476.mp4: 100%|██████████| 48/48 [00:00<00:00, 588.25it/s]\n"
     ]
    },
    {
     "name": "stdout",
     "output_type": "stream",
     "text": [
      "✅ Saved frames in: /Users/mario/Desktop/Desktop/UofA/4.Winter-2025/ece-910/Batman/VLM-testing/batman-frames/Batman (1989)-002_part_476\n",
      "\n",
      "🎥 Processing: /Users/mario/Desktop/Desktop/UofA/4.Winter-2025/ece-910/Batman/Batman-(1989)-002/Batman (1989)-002_part_477.mp4\n",
      "📸 Total Frames: 56\n"
     ]
    },
    {
     "name": "stderr",
     "output_type": "stream",
     "text": [
      "Extracting Frames from Batman (1989)-002_part_477.mp4: 100%|██████████| 56/56 [00:00<00:00, 561.96it/s]\n"
     ]
    },
    {
     "name": "stdout",
     "output_type": "stream",
     "text": [
      "✅ Saved frames in: /Users/mario/Desktop/Desktop/UofA/4.Winter-2025/ece-910/Batman/VLM-testing/batman-frames/Batman (1989)-002_part_477\n",
      "\n",
      "🎥 Processing: /Users/mario/Desktop/Desktop/UofA/4.Winter-2025/ece-910/Batman/Batman-(1989)-002/Batman (1989)-002_part_478.mp4\n",
      "📸 Total Frames: 43\n"
     ]
    },
    {
     "name": "stderr",
     "output_type": "stream",
     "text": [
      "Extracting Frames from Batman (1989)-002_part_478.mp4: 100%|██████████| 43/43 [00:00<00:00, 586.92it/s]\n"
     ]
    },
    {
     "name": "stdout",
     "output_type": "stream",
     "text": [
      "✅ Saved frames in: /Users/mario/Desktop/Desktop/UofA/4.Winter-2025/ece-910/Batman/VLM-testing/batman-frames/Batman (1989)-002_part_478\n",
      "\n",
      "🎥 Processing: /Users/mario/Desktop/Desktop/UofA/4.Winter-2025/ece-910/Batman/Batman-(1989)-002/Batman (1989)-002_part_479.mp4\n",
      "📸 Total Frames: 374\n"
     ]
    },
    {
     "name": "stderr",
     "output_type": "stream",
     "text": [
      "Extracting Frames from Batman (1989)-002_part_479.mp4: 100%|██████████| 374/374 [00:00<00:00, 612.35it/s]\n"
     ]
    },
    {
     "name": "stdout",
     "output_type": "stream",
     "text": [
      "✅ Saved frames in: /Users/mario/Desktop/Desktop/UofA/4.Winter-2025/ece-910/Batman/VLM-testing/batman-frames/Batman (1989)-002_part_479\n",
      "\n",
      "🎥 Processing: /Users/mario/Desktop/Desktop/UofA/4.Winter-2025/ece-910/Batman/Batman-(1989)-002/Batman (1989)-002_part_48.mp4\n",
      "📸 Total Frames: 116\n"
     ]
    },
    {
     "name": "stderr",
     "output_type": "stream",
     "text": [
      "Extracting Frames from Batman (1989)-002_part_48.mp4: 100%|██████████| 116/116 [00:00<00:00, 620.74it/s]\n"
     ]
    },
    {
     "name": "stdout",
     "output_type": "stream",
     "text": [
      "✅ Saved frames in: /Users/mario/Desktop/Desktop/UofA/4.Winter-2025/ece-910/Batman/VLM-testing/batman-frames/Batman (1989)-002_part_48\n",
      "\n",
      "🎥 Processing: /Users/mario/Desktop/Desktop/UofA/4.Winter-2025/ece-910/Batman/Batman-(1989)-002/Batman (1989)-002_part_480.mp4\n",
      "📸 Total Frames: 16\n"
     ]
    },
    {
     "name": "stderr",
     "output_type": "stream",
     "text": [
      "Extracting Frames from Batman (1989)-002_part_480.mp4: 100%|██████████| 16/16 [00:00<00:00, 470.12it/s]\n"
     ]
    },
    {
     "name": "stdout",
     "output_type": "stream",
     "text": [
      "✅ Saved frames in: /Users/mario/Desktop/Desktop/UofA/4.Winter-2025/ece-910/Batman/VLM-testing/batman-frames/Batman (1989)-002_part_480\n",
      "\n",
      "🎥 Processing: /Users/mario/Desktop/Desktop/UofA/4.Winter-2025/ece-910/Batman/Batman-(1989)-002/Batman (1989)-002_part_481.mp4\n",
      "📸 Total Frames: 52\n"
     ]
    },
    {
     "name": "stderr",
     "output_type": "stream",
     "text": [
      "Extracting Frames from Batman (1989)-002_part_481.mp4: 100%|██████████| 52/52 [00:00<00:00, 586.08it/s]\n"
     ]
    },
    {
     "name": "stdout",
     "output_type": "stream",
     "text": [
      "✅ Saved frames in: /Users/mario/Desktop/Desktop/UofA/4.Winter-2025/ece-910/Batman/VLM-testing/batman-frames/Batman (1989)-002_part_481\n",
      "\n",
      "🎥 Processing: /Users/mario/Desktop/Desktop/UofA/4.Winter-2025/ece-910/Batman/Batman-(1989)-002/Batman (1989)-002_part_482.mp4\n",
      "📸 Total Frames: 25\n"
     ]
    },
    {
     "name": "stderr",
     "output_type": "stream",
     "text": [
      "Extracting Frames from Batman (1989)-002_part_482.mp4: 100%|██████████| 25/25 [00:00<00:00, 507.76it/s]\n"
     ]
    },
    {
     "name": "stdout",
     "output_type": "stream",
     "text": [
      "✅ Saved frames in: /Users/mario/Desktop/Desktop/UofA/4.Winter-2025/ece-910/Batman/VLM-testing/batman-frames/Batman (1989)-002_part_482\n",
      "\n",
      "🎥 Processing: /Users/mario/Desktop/Desktop/UofA/4.Winter-2025/ece-910/Batman/Batman-(1989)-002/Batman (1989)-002_part_483.mp4\n",
      "📸 Total Frames: 14\n"
     ]
    },
    {
     "name": "stderr",
     "output_type": "stream",
     "text": [
      "Extracting Frames from Batman (1989)-002_part_483.mp4: 100%|██████████| 14/14 [00:00<00:00, 542.85it/s]\n"
     ]
    },
    {
     "name": "stdout",
     "output_type": "stream",
     "text": [
      "✅ Saved frames in: /Users/mario/Desktop/Desktop/UofA/4.Winter-2025/ece-910/Batman/VLM-testing/batman-frames/Batman (1989)-002_part_483\n",
      "\n",
      "🎥 Processing: /Users/mario/Desktop/Desktop/UofA/4.Winter-2025/ece-910/Batman/Batman-(1989)-002/Batman (1989)-002_part_484.mp4\n",
      "📸 Total Frames: 14\n"
     ]
    },
    {
     "name": "stderr",
     "output_type": "stream",
     "text": [
      "Extracting Frames from Batman (1989)-002_part_484.mp4: 100%|██████████| 14/14 [00:00<00:00, 518.30it/s]\n"
     ]
    },
    {
     "name": "stdout",
     "output_type": "stream",
     "text": [
      "✅ Saved frames in: /Users/mario/Desktop/Desktop/UofA/4.Winter-2025/ece-910/Batman/VLM-testing/batman-frames/Batman (1989)-002_part_484\n",
      "\n",
      "🎥 Processing: /Users/mario/Desktop/Desktop/UofA/4.Winter-2025/ece-910/Batman/Batman-(1989)-002/Batman (1989)-002_part_485.mp4\n",
      "📸 Total Frames: 42\n"
     ]
    },
    {
     "name": "stderr",
     "output_type": "stream",
     "text": [
      "Extracting Frames from Batman (1989)-002_part_485.mp4: 100%|██████████| 42/42 [00:00<00:00, 528.55it/s]\n"
     ]
    },
    {
     "name": "stdout",
     "output_type": "stream",
     "text": [
      "✅ Saved frames in: /Users/mario/Desktop/Desktop/UofA/4.Winter-2025/ece-910/Batman/VLM-testing/batman-frames/Batman (1989)-002_part_485\n",
      "\n",
      "🎥 Processing: /Users/mario/Desktop/Desktop/UofA/4.Winter-2025/ece-910/Batman/Batman-(1989)-002/Batman (1989)-002_part_486.mp4\n",
      "📸 Total Frames: 49\n"
     ]
    },
    {
     "name": "stderr",
     "output_type": "stream",
     "text": [
      "Extracting Frames from Batman (1989)-002_part_486.mp4: 100%|██████████| 49/49 [00:00<00:00, 578.64it/s]\n"
     ]
    },
    {
     "name": "stdout",
     "output_type": "stream",
     "text": [
      "✅ Saved frames in: /Users/mario/Desktop/Desktop/UofA/4.Winter-2025/ece-910/Batman/VLM-testing/batman-frames/Batman (1989)-002_part_486\n",
      "\n",
      "🎥 Processing: /Users/mario/Desktop/Desktop/UofA/4.Winter-2025/ece-910/Batman/Batman-(1989)-002/Batman (1989)-002_part_487.mp4\n",
      "📸 Total Frames: 23\n"
     ]
    },
    {
     "name": "stderr",
     "output_type": "stream",
     "text": [
      "Extracting Frames from Batman (1989)-002_part_487.mp4: 100%|██████████| 23/23 [00:00<00:00, 557.31it/s]\n"
     ]
    },
    {
     "name": "stdout",
     "output_type": "stream",
     "text": [
      "✅ Saved frames in: /Users/mario/Desktop/Desktop/UofA/4.Winter-2025/ece-910/Batman/VLM-testing/batman-frames/Batman (1989)-002_part_487\n",
      "\n",
      "🎥 Processing: /Users/mario/Desktop/Desktop/UofA/4.Winter-2025/ece-910/Batman/Batman-(1989)-002/Batman (1989)-002_part_488.mp4\n",
      "📸 Total Frames: 36\n"
     ]
    },
    {
     "name": "stderr",
     "output_type": "stream",
     "text": [
      "Extracting Frames from Batman (1989)-002_part_488.mp4: 100%|██████████| 36/36 [00:00<00:00, 545.97it/s]\n"
     ]
    },
    {
     "name": "stdout",
     "output_type": "stream",
     "text": [
      "✅ Saved frames in: /Users/mario/Desktop/Desktop/UofA/4.Winter-2025/ece-910/Batman/VLM-testing/batman-frames/Batman (1989)-002_part_488\n",
      "\n",
      "🎥 Processing: /Users/mario/Desktop/Desktop/UofA/4.Winter-2025/ece-910/Batman/Batman-(1989)-002/Batman (1989)-002_part_489.mp4\n",
      "📸 Total Frames: 6\n"
     ]
    },
    {
     "name": "stderr",
     "output_type": "stream",
     "text": [
      "Extracting Frames from Batman (1989)-002_part_489.mp4: 100%|██████████| 6/6 [00:00<00:00, 376.32it/s]\n"
     ]
    },
    {
     "name": "stdout",
     "output_type": "stream",
     "text": [
      "✅ Saved frames in: /Users/mario/Desktop/Desktop/UofA/4.Winter-2025/ece-910/Batman/VLM-testing/batman-frames/Batman (1989)-002_part_489\n",
      "\n",
      "🎥 Processing: /Users/mario/Desktop/Desktop/UofA/4.Winter-2025/ece-910/Batman/Batman-(1989)-002/Batman (1989)-002_part_49.mp4\n",
      "📸 Total Frames: 37\n"
     ]
    },
    {
     "name": "stderr",
     "output_type": "stream",
     "text": [
      "Extracting Frames from Batman (1989)-002_part_49.mp4: 100%|██████████| 37/37 [00:00<00:00, 576.27it/s]\n"
     ]
    },
    {
     "name": "stdout",
     "output_type": "stream",
     "text": [
      "✅ Saved frames in: /Users/mario/Desktop/Desktop/UofA/4.Winter-2025/ece-910/Batman/VLM-testing/batman-frames/Batman (1989)-002_part_49\n",
      "\n",
      "🎥 Processing: /Users/mario/Desktop/Desktop/UofA/4.Winter-2025/ece-910/Batman/Batman-(1989)-002/Batman (1989)-002_part_490.mp4\n",
      "📸 Total Frames: 11\n"
     ]
    },
    {
     "name": "stderr",
     "output_type": "stream",
     "text": [
      "Extracting Frames from Batman (1989)-002_part_490.mp4: 100%|██████████| 11/11 [00:00<00:00, 486.28it/s]\n"
     ]
    },
    {
     "name": "stdout",
     "output_type": "stream",
     "text": [
      "✅ Saved frames in: /Users/mario/Desktop/Desktop/UofA/4.Winter-2025/ece-910/Batman/VLM-testing/batman-frames/Batman (1989)-002_part_490\n",
      "\n",
      "🎥 Processing: /Users/mario/Desktop/Desktop/UofA/4.Winter-2025/ece-910/Batman/Batman-(1989)-002/Batman (1989)-002_part_491.mp4\n",
      "📸 Total Frames: 26\n"
     ]
    },
    {
     "name": "stderr",
     "output_type": "stream",
     "text": [
      "Extracting Frames from Batman (1989)-002_part_491.mp4: 100%|██████████| 26/26 [00:00<00:00, 565.91it/s]\n"
     ]
    },
    {
     "name": "stdout",
     "output_type": "stream",
     "text": [
      "✅ Saved frames in: /Users/mario/Desktop/Desktop/UofA/4.Winter-2025/ece-910/Batman/VLM-testing/batman-frames/Batman (1989)-002_part_491\n",
      "\n",
      "🎥 Processing: /Users/mario/Desktop/Desktop/UofA/4.Winter-2025/ece-910/Batman/Batman-(1989)-002/Batman (1989)-002_part_492.mp4\n",
      "📸 Total Frames: 26\n"
     ]
    },
    {
     "name": "stderr",
     "output_type": "stream",
     "text": [
      "Extracting Frames from Batman (1989)-002_part_492.mp4: 100%|██████████| 26/26 [00:00<00:00, 550.71it/s]\n"
     ]
    },
    {
     "name": "stdout",
     "output_type": "stream",
     "text": [
      "✅ Saved frames in: /Users/mario/Desktop/Desktop/UofA/4.Winter-2025/ece-910/Batman/VLM-testing/batman-frames/Batman (1989)-002_part_492\n",
      "\n",
      "🎥 Processing: /Users/mario/Desktop/Desktop/UofA/4.Winter-2025/ece-910/Batman/Batman-(1989)-002/Batman (1989)-002_part_493.mp4\n",
      "📸 Total Frames: 25\n"
     ]
    },
    {
     "name": "stderr",
     "output_type": "stream",
     "text": [
      "Extracting Frames from Batman (1989)-002_part_493.mp4: 100%|██████████| 25/25 [00:00<00:00, 534.26it/s]\n"
     ]
    },
    {
     "name": "stdout",
     "output_type": "stream",
     "text": [
      "✅ Saved frames in: /Users/mario/Desktop/Desktop/UofA/4.Winter-2025/ece-910/Batman/VLM-testing/batman-frames/Batman (1989)-002_part_493\n",
      "\n",
      "🎥 Processing: /Users/mario/Desktop/Desktop/UofA/4.Winter-2025/ece-910/Batman/Batman-(1989)-002/Batman (1989)-002_part_494.mp4\n",
      "📸 Total Frames: 64\n"
     ]
    },
    {
     "name": "stderr",
     "output_type": "stream",
     "text": [
      "Extracting Frames from Batman (1989)-002_part_494.mp4: 100%|██████████| 64/64 [00:00<00:00, 246.15it/s]\n"
     ]
    },
    {
     "name": "stdout",
     "output_type": "stream",
     "text": [
      "✅ Saved frames in: /Users/mario/Desktop/Desktop/UofA/4.Winter-2025/ece-910/Batman/VLM-testing/batman-frames/Batman (1989)-002_part_494\n",
      "\n",
      "🎥 Processing: /Users/mario/Desktop/Desktop/UofA/4.Winter-2025/ece-910/Batman/Batman-(1989)-002/Batman (1989)-002_part_495.mp4\n",
      "📸 Total Frames: 83\n"
     ]
    },
    {
     "name": "stderr",
     "output_type": "stream",
     "text": [
      "Extracting Frames from Batman (1989)-002_part_495.mp4: 100%|██████████| 83/83 [00:00<00:00, 606.93it/s]\n"
     ]
    },
    {
     "name": "stdout",
     "output_type": "stream",
     "text": [
      "✅ Saved frames in: /Users/mario/Desktop/Desktop/UofA/4.Winter-2025/ece-910/Batman/VLM-testing/batman-frames/Batman (1989)-002_part_495\n",
      "\n",
      "🎥 Processing: /Users/mario/Desktop/Desktop/UofA/4.Winter-2025/ece-910/Batman/Batman-(1989)-002/Batman (1989)-002_part_496.mp4\n",
      "📸 Total Frames: 47\n"
     ]
    },
    {
     "name": "stderr",
     "output_type": "stream",
     "text": [
      "Extracting Frames from Batman (1989)-002_part_496.mp4: 100%|██████████| 47/47 [00:00<00:00, 571.17it/s]\n"
     ]
    },
    {
     "name": "stdout",
     "output_type": "stream",
     "text": [
      "✅ Saved frames in: /Users/mario/Desktop/Desktop/UofA/4.Winter-2025/ece-910/Batman/VLM-testing/batman-frames/Batman (1989)-002_part_496\n",
      "\n",
      "🎥 Processing: /Users/mario/Desktop/Desktop/UofA/4.Winter-2025/ece-910/Batman/Batman-(1989)-002/Batman (1989)-002_part_497.mp4\n",
      "📸 Total Frames: 13\n"
     ]
    },
    {
     "name": "stderr",
     "output_type": "stream",
     "text": [
      "Extracting Frames from Batman (1989)-002_part_497.mp4: 100%|██████████| 13/13 [00:00<00:00, 546.59it/s]\n"
     ]
    },
    {
     "name": "stdout",
     "output_type": "stream",
     "text": [
      "✅ Saved frames in: /Users/mario/Desktop/Desktop/UofA/4.Winter-2025/ece-910/Batman/VLM-testing/batman-frames/Batman (1989)-002_part_497\n",
      "\n",
      "🎥 Processing: /Users/mario/Desktop/Desktop/UofA/4.Winter-2025/ece-910/Batman/Batman-(1989)-002/Batman (1989)-002_part_498.mp4\n",
      "📸 Total Frames: 68\n"
     ]
    },
    {
     "name": "stderr",
     "output_type": "stream",
     "text": [
      "Extracting Frames from Batman (1989)-002_part_498.mp4: 100%|██████████| 68/68 [00:00<00:00, 603.14it/s]\n"
     ]
    },
    {
     "name": "stdout",
     "output_type": "stream",
     "text": [
      "✅ Saved frames in: /Users/mario/Desktop/Desktop/UofA/4.Winter-2025/ece-910/Batman/VLM-testing/batman-frames/Batman (1989)-002_part_498\n",
      "\n",
      "🎥 Processing: /Users/mario/Desktop/Desktop/UofA/4.Winter-2025/ece-910/Batman/Batman-(1989)-002/Batman (1989)-002_part_499.mp4\n",
      "📸 Total Frames: 72\n"
     ]
    },
    {
     "name": "stderr",
     "output_type": "stream",
     "text": [
      "Extracting Frames from Batman (1989)-002_part_499.mp4: 100%|██████████| 72/72 [00:00<00:00, 561.28it/s]\n"
     ]
    },
    {
     "name": "stdout",
     "output_type": "stream",
     "text": [
      "✅ Saved frames in: /Users/mario/Desktop/Desktop/UofA/4.Winter-2025/ece-910/Batman/VLM-testing/batman-frames/Batman (1989)-002_part_499\n",
      "\n",
      "🎥 Processing: /Users/mario/Desktop/Desktop/UofA/4.Winter-2025/ece-910/Batman/Batman-(1989)-002/Batman (1989)-002_part_5.mp4\n",
      "📸 Total Frames: 37\n"
     ]
    },
    {
     "name": "stderr",
     "output_type": "stream",
     "text": [
      "Extracting Frames from Batman (1989)-002_part_5.mp4: 100%|██████████| 37/37 [00:00<00:00, 598.30it/s]\n"
     ]
    },
    {
     "name": "stdout",
     "output_type": "stream",
     "text": [
      "✅ Saved frames in: /Users/mario/Desktop/Desktop/UofA/4.Winter-2025/ece-910/Batman/VLM-testing/batman-frames/Batman (1989)-002_part_5\n",
      "\n",
      "🎥 Processing: /Users/mario/Desktop/Desktop/UofA/4.Winter-2025/ece-910/Batman/Batman-(1989)-002/Batman (1989)-002_part_50.mp4\n",
      "📸 Total Frames: 68\n"
     ]
    },
    {
     "name": "stderr",
     "output_type": "stream",
     "text": [
      "Extracting Frames from Batman (1989)-002_part_50.mp4: 100%|██████████| 68/68 [00:00<00:00, 622.22it/s]\n"
     ]
    },
    {
     "name": "stdout",
     "output_type": "stream",
     "text": [
      "✅ Saved frames in: /Users/mario/Desktop/Desktop/UofA/4.Winter-2025/ece-910/Batman/VLM-testing/batman-frames/Batman (1989)-002_part_50\n",
      "\n",
      "🎥 Processing: /Users/mario/Desktop/Desktop/UofA/4.Winter-2025/ece-910/Batman/Batman-(1989)-002/Batman (1989)-002_part_500.mp4\n",
      "📸 Total Frames: 152\n"
     ]
    },
    {
     "name": "stderr",
     "output_type": "stream",
     "text": [
      "Extracting Frames from Batman (1989)-002_part_500.mp4: 100%|██████████| 152/152 [00:00<00:00, 625.89it/s]\n"
     ]
    },
    {
     "name": "stdout",
     "output_type": "stream",
     "text": [
      "✅ Saved frames in: /Users/mario/Desktop/Desktop/UofA/4.Winter-2025/ece-910/Batman/VLM-testing/batman-frames/Batman (1989)-002_part_500\n",
      "\n",
      "🎥 Processing: /Users/mario/Desktop/Desktop/UofA/4.Winter-2025/ece-910/Batman/Batman-(1989)-002/Batman (1989)-002_part_501.mp4\n",
      "📸 Total Frames: 61\n"
     ]
    },
    {
     "name": "stderr",
     "output_type": "stream",
     "text": [
      "Extracting Frames from Batman (1989)-002_part_501.mp4: 100%|██████████| 61/61 [00:00<00:00, 561.80it/s]\n"
     ]
    },
    {
     "name": "stdout",
     "output_type": "stream",
     "text": [
      "✅ Saved frames in: /Users/mario/Desktop/Desktop/UofA/4.Winter-2025/ece-910/Batman/VLM-testing/batman-frames/Batman (1989)-002_part_501\n",
      "\n",
      "🎥 Processing: /Users/mario/Desktop/Desktop/UofA/4.Winter-2025/ece-910/Batman/Batman-(1989)-002/Batman (1989)-002_part_502.mp4\n",
      "📸 Total Frames: 38\n"
     ]
    },
    {
     "name": "stderr",
     "output_type": "stream",
     "text": [
      "Extracting Frames from Batman (1989)-002_part_502.mp4: 100%|██████████| 38/38 [00:00<00:00, 601.86it/s]\n"
     ]
    },
    {
     "name": "stdout",
     "output_type": "stream",
     "text": [
      "✅ Saved frames in: /Users/mario/Desktop/Desktop/UofA/4.Winter-2025/ece-910/Batman/VLM-testing/batman-frames/Batman (1989)-002_part_502\n",
      "\n",
      "🎥 Processing: /Users/mario/Desktop/Desktop/UofA/4.Winter-2025/ece-910/Batman/Batman-(1989)-002/Batman (1989)-002_part_503.mp4\n",
      "📸 Total Frames: 54\n"
     ]
    },
    {
     "name": "stderr",
     "output_type": "stream",
     "text": [
      "Extracting Frames from Batman (1989)-002_part_503.mp4: 100%|██████████| 54/54 [00:00<00:00, 581.76it/s]\n"
     ]
    },
    {
     "name": "stdout",
     "output_type": "stream",
     "text": [
      "✅ Saved frames in: /Users/mario/Desktop/Desktop/UofA/4.Winter-2025/ece-910/Batman/VLM-testing/batman-frames/Batman (1989)-002_part_503\n",
      "\n",
      "🎥 Processing: /Users/mario/Desktop/Desktop/UofA/4.Winter-2025/ece-910/Batman/Batman-(1989)-002/Batman (1989)-002_part_504.mp4\n",
      "📸 Total Frames: 65\n"
     ]
    },
    {
     "name": "stderr",
     "output_type": "stream",
     "text": [
      "Extracting Frames from Batman (1989)-002_part_504.mp4: 100%|██████████| 65/65 [00:00<00:00, 629.83it/s]\n"
     ]
    },
    {
     "name": "stdout",
     "output_type": "stream",
     "text": [
      "✅ Saved frames in: /Users/mario/Desktop/Desktop/UofA/4.Winter-2025/ece-910/Batman/VLM-testing/batman-frames/Batman (1989)-002_part_504\n",
      "\n",
      "🎥 Processing: /Users/mario/Desktop/Desktop/UofA/4.Winter-2025/ece-910/Batman/Batman-(1989)-002/Batman (1989)-002_part_505.mp4\n",
      "📸 Total Frames: 62\n"
     ]
    },
    {
     "name": "stderr",
     "output_type": "stream",
     "text": [
      "Extracting Frames from Batman (1989)-002_part_505.mp4: 100%|██████████| 62/62 [00:00<00:00, 571.71it/s]\n"
     ]
    },
    {
     "name": "stdout",
     "output_type": "stream",
     "text": [
      "✅ Saved frames in: /Users/mario/Desktop/Desktop/UofA/4.Winter-2025/ece-910/Batman/VLM-testing/batman-frames/Batman (1989)-002_part_505\n",
      "\n",
      "🎥 Processing: /Users/mario/Desktop/Desktop/UofA/4.Winter-2025/ece-910/Batman/Batman-(1989)-002/Batman (1989)-002_part_506.mp4\n",
      "📸 Total Frames: 172\n"
     ]
    },
    {
     "name": "stderr",
     "output_type": "stream",
     "text": [
      "Extracting Frames from Batman (1989)-002_part_506.mp4: 100%|██████████| 172/172 [00:00<00:00, 606.92it/s]\n"
     ]
    },
    {
     "name": "stdout",
     "output_type": "stream",
     "text": [
      "✅ Saved frames in: /Users/mario/Desktop/Desktop/UofA/4.Winter-2025/ece-910/Batman/VLM-testing/batman-frames/Batman (1989)-002_part_506\n",
      "\n",
      "🎥 Processing: /Users/mario/Desktop/Desktop/UofA/4.Winter-2025/ece-910/Batman/Batman-(1989)-002/Batman (1989)-002_part_507.mp4\n",
      "📸 Total Frames: 84\n"
     ]
    },
    {
     "name": "stderr",
     "output_type": "stream",
     "text": [
      "Extracting Frames from Batman (1989)-002_part_507.mp4: 100%|██████████| 84/84 [00:00<00:00, 621.14it/s]\n"
     ]
    },
    {
     "name": "stdout",
     "output_type": "stream",
     "text": [
      "✅ Saved frames in: /Users/mario/Desktop/Desktop/UofA/4.Winter-2025/ece-910/Batman/VLM-testing/batman-frames/Batman (1989)-002_part_507\n",
      "\n",
      "🎥 Processing: /Users/mario/Desktop/Desktop/UofA/4.Winter-2025/ece-910/Batman/Batman-(1989)-002/Batman (1989)-002_part_508.mp4\n",
      "📸 Total Frames: 159\n"
     ]
    },
    {
     "name": "stderr",
     "output_type": "stream",
     "text": [
      "Extracting Frames from Batman (1989)-002_part_508.mp4: 100%|██████████| 159/159 [00:00<00:00, 623.56it/s]\n"
     ]
    },
    {
     "name": "stdout",
     "output_type": "stream",
     "text": [
      "✅ Saved frames in: /Users/mario/Desktop/Desktop/UofA/4.Winter-2025/ece-910/Batman/VLM-testing/batman-frames/Batman (1989)-002_part_508\n",
      "\n",
      "🎥 Processing: /Users/mario/Desktop/Desktop/UofA/4.Winter-2025/ece-910/Batman/Batman-(1989)-002/Batman (1989)-002_part_509.mp4\n",
      "📸 Total Frames: 80\n"
     ]
    },
    {
     "name": "stderr",
     "output_type": "stream",
     "text": [
      "Extracting Frames from Batman (1989)-002_part_509.mp4: 100%|██████████| 80/80 [00:00<00:00, 613.37it/s]\n"
     ]
    },
    {
     "name": "stdout",
     "output_type": "stream",
     "text": [
      "✅ Saved frames in: /Users/mario/Desktop/Desktop/UofA/4.Winter-2025/ece-910/Batman/VLM-testing/batman-frames/Batman (1989)-002_part_509\n",
      "\n",
      "🎥 Processing: /Users/mario/Desktop/Desktop/UofA/4.Winter-2025/ece-910/Batman/Batman-(1989)-002/Batman (1989)-002_part_51.mp4\n",
      "📸 Total Frames: 260\n"
     ]
    },
    {
     "name": "stderr",
     "output_type": "stream",
     "text": [
      "Extracting Frames from Batman (1989)-002_part_51.mp4: 100%|██████████| 260/260 [00:00<00:00, 600.49it/s]\n"
     ]
    },
    {
     "name": "stdout",
     "output_type": "stream",
     "text": [
      "✅ Saved frames in: /Users/mario/Desktop/Desktop/UofA/4.Winter-2025/ece-910/Batman/VLM-testing/batman-frames/Batman (1989)-002_part_51\n",
      "\n",
      "🎥 Processing: /Users/mario/Desktop/Desktop/UofA/4.Winter-2025/ece-910/Batman/Batman-(1989)-002/Batman (1989)-002_part_510.mp4\n",
      "📸 Total Frames: 118\n"
     ]
    },
    {
     "name": "stderr",
     "output_type": "stream",
     "text": [
      "Extracting Frames from Batman (1989)-002_part_510.mp4: 100%|██████████| 118/118 [00:00<00:00, 577.99it/s]\n"
     ]
    },
    {
     "name": "stdout",
     "output_type": "stream",
     "text": [
      "✅ Saved frames in: /Users/mario/Desktop/Desktop/UofA/4.Winter-2025/ece-910/Batman/VLM-testing/batman-frames/Batman (1989)-002_part_510\n",
      "\n",
      "🎥 Processing: /Users/mario/Desktop/Desktop/UofA/4.Winter-2025/ece-910/Batman/Batman-(1989)-002/Batman (1989)-002_part_511.mp4\n",
      "📸 Total Frames: 135\n"
     ]
    },
    {
     "name": "stderr",
     "output_type": "stream",
     "text": [
      "Extracting Frames from Batman (1989)-002_part_511.mp4: 100%|██████████| 135/135 [00:00<00:00, 552.01it/s]\n"
     ]
    },
    {
     "name": "stdout",
     "output_type": "stream",
     "text": [
      "✅ Saved frames in: /Users/mario/Desktop/Desktop/UofA/4.Winter-2025/ece-910/Batman/VLM-testing/batman-frames/Batman (1989)-002_part_511\n",
      "\n",
      "🎥 Processing: /Users/mario/Desktop/Desktop/UofA/4.Winter-2025/ece-910/Batman/Batman-(1989)-002/Batman (1989)-002_part_512.mp4\n",
      "📸 Total Frames: 97\n"
     ]
    },
    {
     "name": "stderr",
     "output_type": "stream",
     "text": [
      "Extracting Frames from Batman (1989)-002_part_512.mp4: 100%|██████████| 97/97 [00:00<00:00, 593.76it/s]\n"
     ]
    },
    {
     "name": "stdout",
     "output_type": "stream",
     "text": [
      "✅ Saved frames in: /Users/mario/Desktop/Desktop/UofA/4.Winter-2025/ece-910/Batman/VLM-testing/batman-frames/Batman (1989)-002_part_512\n",
      "\n",
      "🎥 Processing: /Users/mario/Desktop/Desktop/UofA/4.Winter-2025/ece-910/Batman/Batman-(1989)-002/Batman (1989)-002_part_513.mp4\n",
      "📸 Total Frames: 36\n"
     ]
    },
    {
     "name": "stderr",
     "output_type": "stream",
     "text": [
      "Extracting Frames from Batman (1989)-002_part_513.mp4: 100%|██████████| 36/36 [00:00<00:00, 640.74it/s]\n"
     ]
    },
    {
     "name": "stdout",
     "output_type": "stream",
     "text": [
      "✅ Saved frames in: /Users/mario/Desktop/Desktop/UofA/4.Winter-2025/ece-910/Batman/VLM-testing/batman-frames/Batman (1989)-002_part_513\n",
      "\n",
      "🎥 Processing: /Users/mario/Desktop/Desktop/UofA/4.Winter-2025/ece-910/Batman/Batman-(1989)-002/Batman (1989)-002_part_514.mp4\n",
      "📸 Total Frames: 37\n"
     ]
    },
    {
     "name": "stderr",
     "output_type": "stream",
     "text": [
      "Extracting Frames from Batman (1989)-002_part_514.mp4: 100%|██████████| 37/37 [00:00<00:00, 587.14it/s]\n"
     ]
    },
    {
     "name": "stdout",
     "output_type": "stream",
     "text": [
      "✅ Saved frames in: /Users/mario/Desktop/Desktop/UofA/4.Winter-2025/ece-910/Batman/VLM-testing/batman-frames/Batman (1989)-002_part_514\n",
      "\n",
      "🎥 Processing: /Users/mario/Desktop/Desktop/UofA/4.Winter-2025/ece-910/Batman/Batman-(1989)-002/Batman (1989)-002_part_515.mp4\n",
      "📸 Total Frames: 62\n"
     ]
    },
    {
     "name": "stderr",
     "output_type": "stream",
     "text": [
      "Extracting Frames from Batman (1989)-002_part_515.mp4: 100%|██████████| 62/62 [00:00<00:00, 585.67it/s]\n"
     ]
    },
    {
     "name": "stdout",
     "output_type": "stream",
     "text": [
      "✅ Saved frames in: /Users/mario/Desktop/Desktop/UofA/4.Winter-2025/ece-910/Batman/VLM-testing/batman-frames/Batman (1989)-002_part_515\n",
      "\n",
      "🎥 Processing: /Users/mario/Desktop/Desktop/UofA/4.Winter-2025/ece-910/Batman/Batman-(1989)-002/Batman (1989)-002_part_516.mp4\n",
      "📸 Total Frames: 95\n"
     ]
    },
    {
     "name": "stderr",
     "output_type": "stream",
     "text": [
      "Extracting Frames from Batman (1989)-002_part_516.mp4: 100%|██████████| 95/95 [00:00<00:00, 316.06it/s]\n"
     ]
    },
    {
     "name": "stdout",
     "output_type": "stream",
     "text": [
      "✅ Saved frames in: /Users/mario/Desktop/Desktop/UofA/4.Winter-2025/ece-910/Batman/VLM-testing/batman-frames/Batman (1989)-002_part_516\n",
      "\n",
      "🎥 Processing: /Users/mario/Desktop/Desktop/UofA/4.Winter-2025/ece-910/Batman/Batman-(1989)-002/Batman (1989)-002_part_517.mp4\n",
      "📸 Total Frames: 23\n"
     ]
    },
    {
     "name": "stderr",
     "output_type": "stream",
     "text": [
      "Extracting Frames from Batman (1989)-002_part_517.mp4: 100%|██████████| 23/23 [00:00<00:00, 541.59it/s]\n"
     ]
    },
    {
     "name": "stdout",
     "output_type": "stream",
     "text": [
      "✅ Saved frames in: /Users/mario/Desktop/Desktop/UofA/4.Winter-2025/ece-910/Batman/VLM-testing/batman-frames/Batman (1989)-002_part_517\n",
      "\n",
      "🎥 Processing: /Users/mario/Desktop/Desktop/UofA/4.Winter-2025/ece-910/Batman/Batman-(1989)-002/Batman (1989)-002_part_518.mp4\n",
      "📸 Total Frames: 57\n"
     ]
    },
    {
     "name": "stderr",
     "output_type": "stream",
     "text": [
      "Extracting Frames from Batman (1989)-002_part_518.mp4: 100%|██████████| 57/57 [00:00<00:00, 532.33it/s]\n"
     ]
    },
    {
     "name": "stdout",
     "output_type": "stream",
     "text": [
      "✅ Saved frames in: /Users/mario/Desktop/Desktop/UofA/4.Winter-2025/ece-910/Batman/VLM-testing/batman-frames/Batman (1989)-002_part_518\n",
      "\n",
      "🎥 Processing: /Users/mario/Desktop/Desktop/UofA/4.Winter-2025/ece-910/Batman/Batman-(1989)-002/Batman (1989)-002_part_519.mp4\n",
      "📸 Total Frames: 44\n"
     ]
    },
    {
     "name": "stderr",
     "output_type": "stream",
     "text": [
      "Extracting Frames from Batman (1989)-002_part_519.mp4: 100%|██████████| 44/44 [00:00<00:00, 588.29it/s]\n"
     ]
    },
    {
     "name": "stdout",
     "output_type": "stream",
     "text": [
      "✅ Saved frames in: /Users/mario/Desktop/Desktop/UofA/4.Winter-2025/ece-910/Batman/VLM-testing/batman-frames/Batman (1989)-002_part_519\n",
      "\n",
      "🎥 Processing: /Users/mario/Desktop/Desktop/UofA/4.Winter-2025/ece-910/Batman/Batman-(1989)-002/Batman (1989)-002_part_52.mp4\n",
      "📸 Total Frames: 162\n"
     ]
    },
    {
     "name": "stderr",
     "output_type": "stream",
     "text": [
      "Extracting Frames from Batman (1989)-002_part_52.mp4: 100%|██████████| 162/162 [00:00<00:00, 618.60it/s]\n"
     ]
    },
    {
     "name": "stdout",
     "output_type": "stream",
     "text": [
      "✅ Saved frames in: /Users/mario/Desktop/Desktop/UofA/4.Winter-2025/ece-910/Batman/VLM-testing/batman-frames/Batman (1989)-002_part_52\n",
      "\n",
      "🎥 Processing: /Users/mario/Desktop/Desktop/UofA/4.Winter-2025/ece-910/Batman/Batman-(1989)-002/Batman (1989)-002_part_520.mp4\n",
      "📸 Total Frames: 61\n"
     ]
    },
    {
     "name": "stderr",
     "output_type": "stream",
     "text": [
      "Extracting Frames from Batman (1989)-002_part_520.mp4: 100%|██████████| 61/61 [00:00<00:00, 549.78it/s]\n"
     ]
    },
    {
     "name": "stdout",
     "output_type": "stream",
     "text": [
      "✅ Saved frames in: /Users/mario/Desktop/Desktop/UofA/4.Winter-2025/ece-910/Batman/VLM-testing/batman-frames/Batman (1989)-002_part_520\n",
      "\n",
      "🎥 Processing: /Users/mario/Desktop/Desktop/UofA/4.Winter-2025/ece-910/Batman/Batman-(1989)-002/Batman (1989)-002_part_521.mp4\n",
      "📸 Total Frames: 55\n"
     ]
    },
    {
     "name": "stderr",
     "output_type": "stream",
     "text": [
      "Extracting Frames from Batman (1989)-002_part_521.mp4: 100%|██████████| 55/55 [00:00<00:00, 577.57it/s]\n"
     ]
    },
    {
     "name": "stdout",
     "output_type": "stream",
     "text": [
      "✅ Saved frames in: /Users/mario/Desktop/Desktop/UofA/4.Winter-2025/ece-910/Batman/VLM-testing/batman-frames/Batman (1989)-002_part_521\n",
      "\n",
      "🎥 Processing: /Users/mario/Desktop/Desktop/UofA/4.Winter-2025/ece-910/Batman/Batman-(1989)-002/Batman (1989)-002_part_522.mp4\n",
      "📸 Total Frames: 41\n"
     ]
    },
    {
     "name": "stderr",
     "output_type": "stream",
     "text": [
      "Extracting Frames from Batman (1989)-002_part_522.mp4: 100%|██████████| 41/41 [00:00<00:00, 574.37it/s]\n"
     ]
    },
    {
     "name": "stdout",
     "output_type": "stream",
     "text": [
      "✅ Saved frames in: /Users/mario/Desktop/Desktop/UofA/4.Winter-2025/ece-910/Batman/VLM-testing/batman-frames/Batman (1989)-002_part_522\n",
      "\n",
      "🎥 Processing: /Users/mario/Desktop/Desktop/UofA/4.Winter-2025/ece-910/Batman/Batman-(1989)-002/Batman (1989)-002_part_523.mp4\n",
      "📸 Total Frames: 55\n"
     ]
    },
    {
     "name": "stderr",
     "output_type": "stream",
     "text": [
      "Extracting Frames from Batman (1989)-002_part_523.mp4: 100%|██████████| 55/55 [00:00<00:00, 607.95it/s]\n"
     ]
    },
    {
     "name": "stdout",
     "output_type": "stream",
     "text": [
      "✅ Saved frames in: /Users/mario/Desktop/Desktop/UofA/4.Winter-2025/ece-910/Batman/VLM-testing/batman-frames/Batman (1989)-002_part_523\n",
      "\n",
      "🎥 Processing: /Users/mario/Desktop/Desktop/UofA/4.Winter-2025/ece-910/Batman/Batman-(1989)-002/Batman (1989)-002_part_524.mp4\n",
      "📸 Total Frames: 58\n"
     ]
    },
    {
     "name": "stderr",
     "output_type": "stream",
     "text": [
      "Extracting Frames from Batman (1989)-002_part_524.mp4: 100%|██████████| 58/58 [00:00<00:00, 633.54it/s]\n"
     ]
    },
    {
     "name": "stdout",
     "output_type": "stream",
     "text": [
      "✅ Saved frames in: /Users/mario/Desktop/Desktop/UofA/4.Winter-2025/ece-910/Batman/VLM-testing/batman-frames/Batman (1989)-002_part_524\n",
      "\n",
      "🎥 Processing: /Users/mario/Desktop/Desktop/UofA/4.Winter-2025/ece-910/Batman/Batman-(1989)-002/Batman (1989)-002_part_525.mp4\n",
      "📸 Total Frames: 53\n"
     ]
    },
    {
     "name": "stderr",
     "output_type": "stream",
     "text": [
      "Extracting Frames from Batman (1989)-002_part_525.mp4: 100%|██████████| 53/53 [00:00<00:00, 565.80it/s]\n"
     ]
    },
    {
     "name": "stdout",
     "output_type": "stream",
     "text": [
      "✅ Saved frames in: /Users/mario/Desktop/Desktop/UofA/4.Winter-2025/ece-910/Batman/VLM-testing/batman-frames/Batman (1989)-002_part_525\n",
      "\n",
      "🎥 Processing: /Users/mario/Desktop/Desktop/UofA/4.Winter-2025/ece-910/Batman/Batman-(1989)-002/Batman (1989)-002_part_526.mp4\n",
      "📸 Total Frames: 25\n"
     ]
    },
    {
     "name": "stderr",
     "output_type": "stream",
     "text": [
      "Extracting Frames from Batman (1989)-002_part_526.mp4: 100%|██████████| 25/25 [00:00<00:00, 396.56it/s]\n"
     ]
    },
    {
     "name": "stdout",
     "output_type": "stream",
     "text": [
      "✅ Saved frames in: /Users/mario/Desktop/Desktop/UofA/4.Winter-2025/ece-910/Batman/VLM-testing/batman-frames/Batman (1989)-002_part_526\n",
      "\n",
      "🎥 Processing: /Users/mario/Desktop/Desktop/UofA/4.Winter-2025/ece-910/Batman/Batman-(1989)-002/Batman (1989)-002_part_527.mp4\n",
      "📸 Total Frames: 22\n"
     ]
    },
    {
     "name": "stderr",
     "output_type": "stream",
     "text": [
      "Extracting Frames from Batman (1989)-002_part_527.mp4: 100%|██████████| 22/22 [00:00<00:00, 364.17it/s]\n"
     ]
    },
    {
     "name": "stdout",
     "output_type": "stream",
     "text": [
      "✅ Saved frames in: /Users/mario/Desktop/Desktop/UofA/4.Winter-2025/ece-910/Batman/VLM-testing/batman-frames/Batman (1989)-002_part_527\n",
      "\n",
      "🎥 Processing: /Users/mario/Desktop/Desktop/UofA/4.Winter-2025/ece-910/Batman/Batman-(1989)-002/Batman (1989)-002_part_528.mp4\n",
      "📸 Total Frames: 8\n"
     ]
    },
    {
     "name": "stderr",
     "output_type": "stream",
     "text": [
      "Extracting Frames from Batman (1989)-002_part_528.mp4: 100%|██████████| 8/8 [00:00<00:00, 487.33it/s]\n"
     ]
    },
    {
     "name": "stdout",
     "output_type": "stream",
     "text": [
      "✅ Saved frames in: /Users/mario/Desktop/Desktop/UofA/4.Winter-2025/ece-910/Batman/VLM-testing/batman-frames/Batman (1989)-002_part_528\n",
      "\n",
      "🎥 Processing: /Users/mario/Desktop/Desktop/UofA/4.Winter-2025/ece-910/Batman/Batman-(1989)-002/Batman (1989)-002_part_529.mp4\n",
      "📸 Total Frames: 14\n"
     ]
    },
    {
     "name": "stderr",
     "output_type": "stream",
     "text": [
      "Extracting Frames from Batman (1989)-002_part_529.mp4: 100%|██████████| 14/14 [00:00<00:00, 563.02it/s]\n"
     ]
    },
    {
     "name": "stdout",
     "output_type": "stream",
     "text": [
      "✅ Saved frames in: /Users/mario/Desktop/Desktop/UofA/4.Winter-2025/ece-910/Batman/VLM-testing/batman-frames/Batman (1989)-002_part_529\n",
      "\n",
      "🎥 Processing: /Users/mario/Desktop/Desktop/UofA/4.Winter-2025/ece-910/Batman/Batman-(1989)-002/Batman (1989)-002_part_53.mp4\n",
      "📸 Total Frames: 74\n"
     ]
    },
    {
     "name": "stderr",
     "output_type": "stream",
     "text": [
      "Extracting Frames from Batman (1989)-002_part_53.mp4: 100%|██████████| 74/74 [00:00<00:00, 513.69it/s]\n"
     ]
    },
    {
     "name": "stdout",
     "output_type": "stream",
     "text": [
      "✅ Saved frames in: /Users/mario/Desktop/Desktop/UofA/4.Winter-2025/ece-910/Batman/VLM-testing/batman-frames/Batman (1989)-002_part_53\n",
      "\n",
      "🎥 Processing: /Users/mario/Desktop/Desktop/UofA/4.Winter-2025/ece-910/Batman/Batman-(1989)-002/Batman (1989)-002_part_530.mp4\n",
      "📸 Total Frames: 6\n"
     ]
    },
    {
     "name": "stderr",
     "output_type": "stream",
     "text": [
      "Extracting Frames from Batman (1989)-002_part_530.mp4: 100%|██████████| 6/6 [00:00<00:00, 505.05it/s]\n"
     ]
    },
    {
     "name": "stdout",
     "output_type": "stream",
     "text": [
      "✅ Saved frames in: /Users/mario/Desktop/Desktop/UofA/4.Winter-2025/ece-910/Batman/VLM-testing/batman-frames/Batman (1989)-002_part_530\n",
      "\n",
      "🎥 Processing: /Users/mario/Desktop/Desktop/UofA/4.Winter-2025/ece-910/Batman/Batman-(1989)-002/Batman (1989)-002_part_531.mp4\n",
      "📸 Total Frames: 14\n"
     ]
    },
    {
     "name": "stderr",
     "output_type": "stream",
     "text": [
      "Extracting Frames from Batman (1989)-002_part_531.mp4: 100%|██████████| 14/14 [00:00<00:00, 505.40it/s]\n"
     ]
    },
    {
     "name": "stdout",
     "output_type": "stream",
     "text": [
      "✅ Saved frames in: /Users/mario/Desktop/Desktop/UofA/4.Winter-2025/ece-910/Batman/VLM-testing/batman-frames/Batman (1989)-002_part_531\n",
      "\n",
      "🎥 Processing: /Users/mario/Desktop/Desktop/UofA/4.Winter-2025/ece-910/Batman/Batman-(1989)-002/Batman (1989)-002_part_532.mp4\n",
      "📸 Total Frames: 370\n"
     ]
    },
    {
     "name": "stderr",
     "output_type": "stream",
     "text": [
      "Extracting Frames from Batman (1989)-002_part_532.mp4: 100%|██████████| 370/370 [00:00<00:00, 597.42it/s]\n"
     ]
    },
    {
     "name": "stdout",
     "output_type": "stream",
     "text": [
      "✅ Saved frames in: /Users/mario/Desktop/Desktop/UofA/4.Winter-2025/ece-910/Batman/VLM-testing/batman-frames/Batman (1989)-002_part_532\n",
      "\n",
      "🎥 Processing: /Users/mario/Desktop/Desktop/UofA/4.Winter-2025/ece-910/Batman/Batman-(1989)-002/Batman (1989)-002_part_533.mp4\n",
      "📸 Total Frames: 46\n"
     ]
    },
    {
     "name": "stderr",
     "output_type": "stream",
     "text": [
      "Extracting Frames from Batman (1989)-002_part_533.mp4: 100%|██████████| 46/46 [00:00<00:00, 586.98it/s]\n"
     ]
    },
    {
     "name": "stdout",
     "output_type": "stream",
     "text": [
      "✅ Saved frames in: /Users/mario/Desktop/Desktop/UofA/4.Winter-2025/ece-910/Batman/VLM-testing/batman-frames/Batman (1989)-002_part_533\n",
      "\n",
      "🎥 Processing: /Users/mario/Desktop/Desktop/UofA/4.Winter-2025/ece-910/Batman/Batman-(1989)-002/Batman (1989)-002_part_534.mp4\n",
      "📸 Total Frames: 91\n"
     ]
    },
    {
     "name": "stderr",
     "output_type": "stream",
     "text": [
      "Extracting Frames from Batman (1989)-002_part_534.mp4: 100%|██████████| 91/91 [00:00<00:00, 611.80it/s]\n"
     ]
    },
    {
     "name": "stdout",
     "output_type": "stream",
     "text": [
      "✅ Saved frames in: /Users/mario/Desktop/Desktop/UofA/4.Winter-2025/ece-910/Batman/VLM-testing/batman-frames/Batman (1989)-002_part_534\n",
      "\n",
      "🎥 Processing: /Users/mario/Desktop/Desktop/UofA/4.Winter-2025/ece-910/Batman/Batman-(1989)-002/Batman (1989)-002_part_535.mp4\n",
      "📸 Total Frames: 23\n"
     ]
    },
    {
     "name": "stderr",
     "output_type": "stream",
     "text": [
      "Extracting Frames from Batman (1989)-002_part_535.mp4: 100%|██████████| 23/23 [00:00<00:00, 609.24it/s]\n"
     ]
    },
    {
     "name": "stdout",
     "output_type": "stream",
     "text": [
      "✅ Saved frames in: /Users/mario/Desktop/Desktop/UofA/4.Winter-2025/ece-910/Batman/VLM-testing/batman-frames/Batman (1989)-002_part_535\n",
      "\n",
      "🎥 Processing: /Users/mario/Desktop/Desktop/UofA/4.Winter-2025/ece-910/Batman/Batman-(1989)-002/Batman (1989)-002_part_536.mp4\n",
      "📸 Total Frames: 70\n"
     ]
    },
    {
     "name": "stderr",
     "output_type": "stream",
     "text": [
      "Extracting Frames from Batman (1989)-002_part_536.mp4: 100%|██████████| 70/70 [00:00<00:00, 606.43it/s]\n"
     ]
    },
    {
     "name": "stdout",
     "output_type": "stream",
     "text": [
      "✅ Saved frames in: /Users/mario/Desktop/Desktop/UofA/4.Winter-2025/ece-910/Batman/VLM-testing/batman-frames/Batman (1989)-002_part_536\n",
      "\n",
      "🎥 Processing: /Users/mario/Desktop/Desktop/UofA/4.Winter-2025/ece-910/Batman/Batman-(1989)-002/Batman (1989)-002_part_537.mp4\n",
      "📸 Total Frames: 20\n"
     ]
    },
    {
     "name": "stderr",
     "output_type": "stream",
     "text": [
      "Extracting Frames from Batman (1989)-002_part_537.mp4: 100%|██████████| 20/20 [00:00<00:00, 582.90it/s]\n"
     ]
    },
    {
     "name": "stdout",
     "output_type": "stream",
     "text": [
      "✅ Saved frames in: /Users/mario/Desktop/Desktop/UofA/4.Winter-2025/ece-910/Batman/VLM-testing/batman-frames/Batman (1989)-002_part_537\n",
      "\n",
      "🎥 Processing: /Users/mario/Desktop/Desktop/UofA/4.Winter-2025/ece-910/Batman/Batman-(1989)-002/Batman (1989)-002_part_538.mp4\n",
      "📸 Total Frames: 48\n"
     ]
    },
    {
     "name": "stderr",
     "output_type": "stream",
     "text": [
      "Extracting Frames from Batman (1989)-002_part_538.mp4: 100%|██████████| 48/48 [00:00<00:00, 592.71it/s]\n"
     ]
    },
    {
     "name": "stdout",
     "output_type": "stream",
     "text": [
      "✅ Saved frames in: /Users/mario/Desktop/Desktop/UofA/4.Winter-2025/ece-910/Batman/VLM-testing/batman-frames/Batman (1989)-002_part_538\n",
      "\n",
      "🎥 Processing: /Users/mario/Desktop/Desktop/UofA/4.Winter-2025/ece-910/Batman/Batman-(1989)-002/Batman (1989)-002_part_539.mp4\n",
      "📸 Total Frames: 122\n"
     ]
    },
    {
     "name": "stderr",
     "output_type": "stream",
     "text": [
      "Extracting Frames from Batman (1989)-002_part_539.mp4: 100%|██████████| 122/122 [00:00<00:00, 329.69it/s]\n"
     ]
    },
    {
     "name": "stdout",
     "output_type": "stream",
     "text": [
      "✅ Saved frames in: /Users/mario/Desktop/Desktop/UofA/4.Winter-2025/ece-910/Batman/VLM-testing/batman-frames/Batman (1989)-002_part_539\n",
      "\n",
      "🎥 Processing: /Users/mario/Desktop/Desktop/UofA/4.Winter-2025/ece-910/Batman/Batman-(1989)-002/Batman (1989)-002_part_54.mp4\n",
      "📸 Total Frames: 530\n"
     ]
    },
    {
     "name": "stderr",
     "output_type": "stream",
     "text": [
      "Extracting Frames from Batman (1989)-002_part_54.mp4: 100%|██████████| 530/530 [00:00<00:00, 553.91it/s]\n"
     ]
    },
    {
     "name": "stdout",
     "output_type": "stream",
     "text": [
      "✅ Saved frames in: /Users/mario/Desktop/Desktop/UofA/4.Winter-2025/ece-910/Batman/VLM-testing/batman-frames/Batman (1989)-002_part_54\n",
      "\n",
      "🎥 Processing: /Users/mario/Desktop/Desktop/UofA/4.Winter-2025/ece-910/Batman/Batman-(1989)-002/Batman (1989)-002_part_540.mp4\n",
      "📸 Total Frames: 161\n"
     ]
    },
    {
     "name": "stderr",
     "output_type": "stream",
     "text": [
      "Extracting Frames from Batman (1989)-002_part_540.mp4: 100%|██████████| 161/161 [00:00<00:00, 603.51it/s]\n"
     ]
    },
    {
     "name": "stdout",
     "output_type": "stream",
     "text": [
      "✅ Saved frames in: /Users/mario/Desktop/Desktop/UofA/4.Winter-2025/ece-910/Batman/VLM-testing/batman-frames/Batman (1989)-002_part_540\n",
      "\n",
      "🎥 Processing: /Users/mario/Desktop/Desktop/UofA/4.Winter-2025/ece-910/Batman/Batman-(1989)-002/Batman (1989)-002_part_541.mp4\n",
      "📸 Total Frames: 89\n"
     ]
    },
    {
     "name": "stderr",
     "output_type": "stream",
     "text": [
      "Extracting Frames from Batman (1989)-002_part_541.mp4: 100%|██████████| 89/89 [00:00<00:00, 587.28it/s]\n"
     ]
    },
    {
     "name": "stdout",
     "output_type": "stream",
     "text": [
      "✅ Saved frames in: /Users/mario/Desktop/Desktop/UofA/4.Winter-2025/ece-910/Batman/VLM-testing/batman-frames/Batman (1989)-002_part_541\n",
      "\n",
      "🎥 Processing: /Users/mario/Desktop/Desktop/UofA/4.Winter-2025/ece-910/Batman/Batman-(1989)-002/Batman (1989)-002_part_542.mp4\n",
      "📸 Total Frames: 24\n"
     ]
    },
    {
     "name": "stderr",
     "output_type": "stream",
     "text": [
      "Extracting Frames from Batman (1989)-002_part_542.mp4: 100%|██████████| 24/24 [00:00<00:00, 576.00it/s]\n"
     ]
    },
    {
     "name": "stdout",
     "output_type": "stream",
     "text": [
      "✅ Saved frames in: /Users/mario/Desktop/Desktop/UofA/4.Winter-2025/ece-910/Batman/VLM-testing/batman-frames/Batman (1989)-002_part_542\n",
      "\n",
      "🎥 Processing: /Users/mario/Desktop/Desktop/UofA/4.Winter-2025/ece-910/Batman/Batman-(1989)-002/Batman (1989)-002_part_543.mp4\n",
      "📸 Total Frames: 13\n"
     ]
    },
    {
     "name": "stderr",
     "output_type": "stream",
     "text": [
      "Extracting Frames from Batman (1989)-002_part_543.mp4: 100%|██████████| 13/13 [00:00<00:00, 489.50it/s]\n"
     ]
    },
    {
     "name": "stdout",
     "output_type": "stream",
     "text": [
      "✅ Saved frames in: /Users/mario/Desktop/Desktop/UofA/4.Winter-2025/ece-910/Batman/VLM-testing/batman-frames/Batman (1989)-002_part_543\n",
      "\n",
      "🎥 Processing: /Users/mario/Desktop/Desktop/UofA/4.Winter-2025/ece-910/Batman/Batman-(1989)-002/Batman (1989)-002_part_544.mp4\n",
      "📸 Total Frames: 23\n"
     ]
    },
    {
     "name": "stderr",
     "output_type": "stream",
     "text": [
      "Extracting Frames from Batman (1989)-002_part_544.mp4: 100%|██████████| 23/23 [00:00<00:00, 562.39it/s]\n"
     ]
    },
    {
     "name": "stdout",
     "output_type": "stream",
     "text": [
      "✅ Saved frames in: /Users/mario/Desktop/Desktop/UofA/4.Winter-2025/ece-910/Batman/VLM-testing/batman-frames/Batman (1989)-002_part_544\n",
      "\n",
      "🎥 Processing: /Users/mario/Desktop/Desktop/UofA/4.Winter-2025/ece-910/Batman/Batman-(1989)-002/Batman (1989)-002_part_545.mp4\n",
      "📸 Total Frames: 88\n"
     ]
    },
    {
     "name": "stderr",
     "output_type": "stream",
     "text": [
      "Extracting Frames from Batman (1989)-002_part_545.mp4: 100%|██████████| 88/88 [00:00<00:00, 598.47it/s]\n"
     ]
    },
    {
     "name": "stdout",
     "output_type": "stream",
     "text": [
      "✅ Saved frames in: /Users/mario/Desktop/Desktop/UofA/4.Winter-2025/ece-910/Batman/VLM-testing/batman-frames/Batman (1989)-002_part_545\n",
      "\n",
      "🎥 Processing: /Users/mario/Desktop/Desktop/UofA/4.Winter-2025/ece-910/Batman/Batman-(1989)-002/Batman (1989)-002_part_546.mp4\n",
      "📸 Total Frames: 34\n"
     ]
    },
    {
     "name": "stderr",
     "output_type": "stream",
     "text": [
      "Extracting Frames from Batman (1989)-002_part_546.mp4: 100%|██████████| 34/34 [00:00<00:00, 585.56it/s]\n"
     ]
    },
    {
     "name": "stdout",
     "output_type": "stream",
     "text": [
      "✅ Saved frames in: /Users/mario/Desktop/Desktop/UofA/4.Winter-2025/ece-910/Batman/VLM-testing/batman-frames/Batman (1989)-002_part_546\n",
      "\n",
      "🎥 Processing: /Users/mario/Desktop/Desktop/UofA/4.Winter-2025/ece-910/Batman/Batman-(1989)-002/Batman (1989)-002_part_547.mp4\n",
      "📸 Total Frames: 64\n"
     ]
    },
    {
     "name": "stderr",
     "output_type": "stream",
     "text": [
      "Extracting Frames from Batman (1989)-002_part_547.mp4: 100%|██████████| 64/64 [00:00<00:00, 624.29it/s]\n"
     ]
    },
    {
     "name": "stdout",
     "output_type": "stream",
     "text": [
      "✅ Saved frames in: /Users/mario/Desktop/Desktop/UofA/4.Winter-2025/ece-910/Batman/VLM-testing/batman-frames/Batman (1989)-002_part_547\n",
      "\n",
      "🎥 Processing: /Users/mario/Desktop/Desktop/UofA/4.Winter-2025/ece-910/Batman/Batman-(1989)-002/Batman (1989)-002_part_548.mp4\n",
      "📸 Total Frames: 25\n"
     ]
    },
    {
     "name": "stderr",
     "output_type": "stream",
     "text": [
      "Extracting Frames from Batman (1989)-002_part_548.mp4: 100%|██████████| 25/25 [00:00<00:00, 500.10it/s]\n"
     ]
    },
    {
     "name": "stdout",
     "output_type": "stream",
     "text": [
      "✅ Saved frames in: /Users/mario/Desktop/Desktop/UofA/4.Winter-2025/ece-910/Batman/VLM-testing/batman-frames/Batman (1989)-002_part_548\n",
      "\n",
      "🎥 Processing: /Users/mario/Desktop/Desktop/UofA/4.Winter-2025/ece-910/Batman/Batman-(1989)-002/Batman (1989)-002_part_549.mp4\n",
      "📸 Total Frames: 39\n"
     ]
    },
    {
     "name": "stderr",
     "output_type": "stream",
     "text": [
      "Extracting Frames from Batman (1989)-002_part_549.mp4: 100%|██████████| 39/39 [00:00<00:00, 615.59it/s]\n"
     ]
    },
    {
     "name": "stdout",
     "output_type": "stream",
     "text": [
      "✅ Saved frames in: /Users/mario/Desktop/Desktop/UofA/4.Winter-2025/ece-910/Batman/VLM-testing/batman-frames/Batman (1989)-002_part_549\n",
      "\n",
      "🎥 Processing: /Users/mario/Desktop/Desktop/UofA/4.Winter-2025/ece-910/Batman/Batman-(1989)-002/Batman (1989)-002_part_55.mp4\n",
      "📸 Total Frames: 30\n"
     ]
    },
    {
     "name": "stderr",
     "output_type": "stream",
     "text": [
      "Extracting Frames from Batman (1989)-002_part_55.mp4: 100%|██████████| 30/30 [00:00<00:00, 553.50it/s]\n"
     ]
    },
    {
     "name": "stdout",
     "output_type": "stream",
     "text": [
      "✅ Saved frames in: /Users/mario/Desktop/Desktop/UofA/4.Winter-2025/ece-910/Batman/VLM-testing/batman-frames/Batman (1989)-002_part_55\n",
      "\n",
      "🎥 Processing: /Users/mario/Desktop/Desktop/UofA/4.Winter-2025/ece-910/Batman/Batman-(1989)-002/Batman (1989)-002_part_550.mp4\n",
      "📸 Total Frames: 12\n"
     ]
    },
    {
     "name": "stderr",
     "output_type": "stream",
     "text": [
      "Extracting Frames from Batman (1989)-002_part_550.mp4: 100%|██████████| 12/12 [00:00<00:00, 406.99it/s]\n"
     ]
    },
    {
     "name": "stdout",
     "output_type": "stream",
     "text": [
      "✅ Saved frames in: /Users/mario/Desktop/Desktop/UofA/4.Winter-2025/ece-910/Batman/VLM-testing/batman-frames/Batman (1989)-002_part_550\n",
      "\n",
      "🎥 Processing: /Users/mario/Desktop/Desktop/UofA/4.Winter-2025/ece-910/Batman/Batman-(1989)-002/Batman (1989)-002_part_551.mp4\n",
      "📸 Total Frames: 27\n"
     ]
    },
    {
     "name": "stderr",
     "output_type": "stream",
     "text": [
      "Extracting Frames from Batman (1989)-002_part_551.mp4: 100%|██████████| 27/27 [00:00<00:00, 585.18it/s]\n"
     ]
    },
    {
     "name": "stdout",
     "output_type": "stream",
     "text": [
      "✅ Saved frames in: /Users/mario/Desktop/Desktop/UofA/4.Winter-2025/ece-910/Batman/VLM-testing/batman-frames/Batman (1989)-002_part_551\n",
      "\n",
      "🎥 Processing: /Users/mario/Desktop/Desktop/UofA/4.Winter-2025/ece-910/Batman/Batman-(1989)-002/Batman (1989)-002_part_552.mp4\n",
      "📸 Total Frames: 51\n"
     ]
    },
    {
     "name": "stderr",
     "output_type": "stream",
     "text": [
      "Extracting Frames from Batman (1989)-002_part_552.mp4: 100%|██████████| 51/51 [00:00<00:00, 609.61it/s]\n"
     ]
    },
    {
     "name": "stdout",
     "output_type": "stream",
     "text": [
      "✅ Saved frames in: /Users/mario/Desktop/Desktop/UofA/4.Winter-2025/ece-910/Batman/VLM-testing/batman-frames/Batman (1989)-002_part_552\n",
      "\n",
      "🎥 Processing: /Users/mario/Desktop/Desktop/UofA/4.Winter-2025/ece-910/Batman/Batman-(1989)-002/Batman (1989)-002_part_553.mp4\n",
      "📸 Total Frames: 181\n"
     ]
    },
    {
     "name": "stderr",
     "output_type": "stream",
     "text": [
      "Extracting Frames from Batman (1989)-002_part_553.mp4: 100%|██████████| 181/181 [00:00<00:00, 633.03it/s]\n"
     ]
    },
    {
     "name": "stdout",
     "output_type": "stream",
     "text": [
      "✅ Saved frames in: /Users/mario/Desktop/Desktop/UofA/4.Winter-2025/ece-910/Batman/VLM-testing/batman-frames/Batman (1989)-002_part_553\n",
      "\n",
      "🎥 Processing: /Users/mario/Desktop/Desktop/UofA/4.Winter-2025/ece-910/Batman/Batman-(1989)-002/Batman (1989)-002_part_554.mp4\n",
      "📸 Total Frames: 113\n"
     ]
    },
    {
     "name": "stderr",
     "output_type": "stream",
     "text": [
      "Extracting Frames from Batman (1989)-002_part_554.mp4: 100%|██████████| 113/113 [00:00<00:00, 615.06it/s]\n"
     ]
    },
    {
     "name": "stdout",
     "output_type": "stream",
     "text": [
      "✅ Saved frames in: /Users/mario/Desktop/Desktop/UofA/4.Winter-2025/ece-910/Batman/VLM-testing/batman-frames/Batman (1989)-002_part_554\n",
      "\n",
      "🎥 Processing: /Users/mario/Desktop/Desktop/UofA/4.Winter-2025/ece-910/Batman/Batman-(1989)-002/Batman (1989)-002_part_555.mp4\n",
      "📸 Total Frames: 29\n"
     ]
    },
    {
     "name": "stderr",
     "output_type": "stream",
     "text": [
      "Extracting Frames from Batman (1989)-002_part_555.mp4: 100%|██████████| 29/29 [00:00<00:00, 611.92it/s]\n"
     ]
    },
    {
     "name": "stdout",
     "output_type": "stream",
     "text": [
      "✅ Saved frames in: /Users/mario/Desktop/Desktop/UofA/4.Winter-2025/ece-910/Batman/VLM-testing/batman-frames/Batman (1989)-002_part_555\n",
      "\n",
      "🎥 Processing: /Users/mario/Desktop/Desktop/UofA/4.Winter-2025/ece-910/Batman/Batman-(1989)-002/Batman (1989)-002_part_556.mp4\n",
      "📸 Total Frames: 292\n"
     ]
    },
    {
     "name": "stderr",
     "output_type": "stream",
     "text": [
      "Extracting Frames from Batman (1989)-002_part_556.mp4: 100%|██████████| 292/292 [00:00<00:00, 622.49it/s]\n"
     ]
    },
    {
     "name": "stdout",
     "output_type": "stream",
     "text": [
      "✅ Saved frames in: /Users/mario/Desktop/Desktop/UofA/4.Winter-2025/ece-910/Batman/VLM-testing/batman-frames/Batman (1989)-002_part_556\n",
      "\n",
      "🎥 Processing: /Users/mario/Desktop/Desktop/UofA/4.Winter-2025/ece-910/Batman/Batman-(1989)-002/Batman (1989)-002_part_557.mp4\n",
      "📸 Total Frames: 63\n"
     ]
    },
    {
     "name": "stderr",
     "output_type": "stream",
     "text": [
      "Extracting Frames from Batman (1989)-002_part_557.mp4: 100%|██████████| 63/63 [00:00<00:00, 607.40it/s]\n"
     ]
    },
    {
     "name": "stdout",
     "output_type": "stream",
     "text": [
      "✅ Saved frames in: /Users/mario/Desktop/Desktop/UofA/4.Winter-2025/ece-910/Batman/VLM-testing/batman-frames/Batman (1989)-002_part_557\n",
      "\n",
      "🎥 Processing: /Users/mario/Desktop/Desktop/UofA/4.Winter-2025/ece-910/Batman/Batman-(1989)-002/Batman (1989)-002_part_558.mp4\n",
      "📸 Total Frames: 27\n"
     ]
    },
    {
     "name": "stderr",
     "output_type": "stream",
     "text": [
      "Extracting Frames from Batman (1989)-002_part_558.mp4: 100%|██████████| 27/27 [00:00<00:00, 505.96it/s]\n"
     ]
    },
    {
     "name": "stdout",
     "output_type": "stream",
     "text": [
      "✅ Saved frames in: /Users/mario/Desktop/Desktop/UofA/4.Winter-2025/ece-910/Batman/VLM-testing/batman-frames/Batman (1989)-002_part_558\n",
      "\n",
      "🎥 Processing: /Users/mario/Desktop/Desktop/UofA/4.Winter-2025/ece-910/Batman/Batman-(1989)-002/Batman (1989)-002_part_559.mp4\n",
      "📸 Total Frames: 73\n"
     ]
    },
    {
     "name": "stderr",
     "output_type": "stream",
     "text": [
      "Extracting Frames from Batman (1989)-002_part_559.mp4: 100%|██████████| 73/73 [00:00<00:00, 620.75it/s]\n"
     ]
    },
    {
     "name": "stdout",
     "output_type": "stream",
     "text": [
      "✅ Saved frames in: /Users/mario/Desktop/Desktop/UofA/4.Winter-2025/ece-910/Batman/VLM-testing/batman-frames/Batman (1989)-002_part_559\n",
      "\n",
      "🎥 Processing: /Users/mario/Desktop/Desktop/UofA/4.Winter-2025/ece-910/Batman/Batman-(1989)-002/Batman (1989)-002_part_56.mp4\n",
      "📸 Total Frames: 110\n"
     ]
    },
    {
     "name": "stderr",
     "output_type": "stream",
     "text": [
      "Extracting Frames from Batman (1989)-002_part_56.mp4: 100%|██████████| 110/110 [00:00<00:00, 352.32it/s]\n"
     ]
    },
    {
     "name": "stdout",
     "output_type": "stream",
     "text": [
      "✅ Saved frames in: /Users/mario/Desktop/Desktop/UofA/4.Winter-2025/ece-910/Batman/VLM-testing/batman-frames/Batman (1989)-002_part_56\n",
      "\n",
      "🎥 Processing: /Users/mario/Desktop/Desktop/UofA/4.Winter-2025/ece-910/Batman/Batman-(1989)-002/Batman (1989)-002_part_560.mp4\n",
      "📸 Total Frames: 98\n"
     ]
    },
    {
     "name": "stderr",
     "output_type": "stream",
     "text": [
      "Extracting Frames from Batman (1989)-002_part_560.mp4: 100%|██████████| 98/98 [00:00<00:00, 594.72it/s]\n"
     ]
    },
    {
     "name": "stdout",
     "output_type": "stream",
     "text": [
      "✅ Saved frames in: /Users/mario/Desktop/Desktop/UofA/4.Winter-2025/ece-910/Batman/VLM-testing/batman-frames/Batman (1989)-002_part_560\n",
      "\n",
      "🎥 Processing: /Users/mario/Desktop/Desktop/UofA/4.Winter-2025/ece-910/Batman/Batman-(1989)-002/Batman (1989)-002_part_561.mp4\n",
      "📸 Total Frames: 92\n"
     ]
    },
    {
     "name": "stderr",
     "output_type": "stream",
     "text": [
      "Extracting Frames from Batman (1989)-002_part_561.mp4: 100%|██████████| 92/92 [00:00<00:00, 597.10it/s]\n"
     ]
    },
    {
     "name": "stdout",
     "output_type": "stream",
     "text": [
      "✅ Saved frames in: /Users/mario/Desktop/Desktop/UofA/4.Winter-2025/ece-910/Batman/VLM-testing/batman-frames/Batman (1989)-002_part_561\n",
      "\n",
      "🎥 Processing: /Users/mario/Desktop/Desktop/UofA/4.Winter-2025/ece-910/Batman/Batman-(1989)-002/Batman (1989)-002_part_562.mp4\n",
      "📸 Total Frames: 36\n"
     ]
    },
    {
     "name": "stderr",
     "output_type": "stream",
     "text": [
      "Extracting Frames from Batman (1989)-002_part_562.mp4: 100%|██████████| 36/36 [00:00<00:00, 598.50it/s]\n"
     ]
    },
    {
     "name": "stdout",
     "output_type": "stream",
     "text": [
      "✅ Saved frames in: /Users/mario/Desktop/Desktop/UofA/4.Winter-2025/ece-910/Batman/VLM-testing/batman-frames/Batman (1989)-002_part_562\n",
      "\n",
      "🎥 Processing: /Users/mario/Desktop/Desktop/UofA/4.Winter-2025/ece-910/Batman/Batman-(1989)-002/Batman (1989)-002_part_563.mp4\n",
      "📸 Total Frames: 38\n"
     ]
    },
    {
     "name": "stderr",
     "output_type": "stream",
     "text": [
      "Extracting Frames from Batman (1989)-002_part_563.mp4: 100%|██████████| 38/38 [00:00<00:00, 600.78it/s]\n"
     ]
    },
    {
     "name": "stdout",
     "output_type": "stream",
     "text": [
      "✅ Saved frames in: /Users/mario/Desktop/Desktop/UofA/4.Winter-2025/ece-910/Batman/VLM-testing/batman-frames/Batman (1989)-002_part_563\n",
      "\n",
      "🎥 Processing: /Users/mario/Desktop/Desktop/UofA/4.Winter-2025/ece-910/Batman/Batman-(1989)-002/Batman (1989)-002_part_564.mp4\n",
      "📸 Total Frames: 33\n"
     ]
    },
    {
     "name": "stderr",
     "output_type": "stream",
     "text": [
      "Extracting Frames from Batman (1989)-002_part_564.mp4: 100%|██████████| 33/33 [00:00<00:00, 584.72it/s]\n"
     ]
    },
    {
     "name": "stdout",
     "output_type": "stream",
     "text": [
      "✅ Saved frames in: /Users/mario/Desktop/Desktop/UofA/4.Winter-2025/ece-910/Batman/VLM-testing/batman-frames/Batman (1989)-002_part_564\n",
      "\n",
      "🎥 Processing: /Users/mario/Desktop/Desktop/UofA/4.Winter-2025/ece-910/Batman/Batman-(1989)-002/Batman (1989)-002_part_565.mp4\n",
      "📸 Total Frames: 39\n"
     ]
    },
    {
     "name": "stderr",
     "output_type": "stream",
     "text": [
      "Extracting Frames from Batman (1989)-002_part_565.mp4: 100%|██████████| 39/39 [00:00<00:00, 566.28it/s]\n"
     ]
    },
    {
     "name": "stdout",
     "output_type": "stream",
     "text": [
      "✅ Saved frames in: /Users/mario/Desktop/Desktop/UofA/4.Winter-2025/ece-910/Batman/VLM-testing/batman-frames/Batman (1989)-002_part_565\n",
      "\n",
      "🎥 Processing: /Users/mario/Desktop/Desktop/UofA/4.Winter-2025/ece-910/Batman/Batman-(1989)-002/Batman (1989)-002_part_566.mp4\n",
      "📸 Total Frames: 65\n"
     ]
    },
    {
     "name": "stderr",
     "output_type": "stream",
     "text": [
      "Extracting Frames from Batman (1989)-002_part_566.mp4: 100%|██████████| 65/65 [00:00<00:00, 636.66it/s]\n"
     ]
    },
    {
     "name": "stdout",
     "output_type": "stream",
     "text": [
      "✅ Saved frames in: /Users/mario/Desktop/Desktop/UofA/4.Winter-2025/ece-910/Batman/VLM-testing/batman-frames/Batman (1989)-002_part_566\n",
      "\n",
      "🎥 Processing: /Users/mario/Desktop/Desktop/UofA/4.Winter-2025/ece-910/Batman/Batman-(1989)-002/Batman (1989)-002_part_567.mp4\n",
      "📸 Total Frames: 32\n"
     ]
    },
    {
     "name": "stderr",
     "output_type": "stream",
     "text": [
      "Extracting Frames from Batman (1989)-002_part_567.mp4: 100%|██████████| 32/32 [00:00<00:00, 559.47it/s]\n"
     ]
    },
    {
     "name": "stdout",
     "output_type": "stream",
     "text": [
      "✅ Saved frames in: /Users/mario/Desktop/Desktop/UofA/4.Winter-2025/ece-910/Batman/VLM-testing/batman-frames/Batman (1989)-002_part_567\n",
      "\n",
      "🎥 Processing: /Users/mario/Desktop/Desktop/UofA/4.Winter-2025/ece-910/Batman/Batman-(1989)-002/Batman (1989)-002_part_568.mp4\n",
      "📸 Total Frames: 149\n"
     ]
    },
    {
     "name": "stderr",
     "output_type": "stream",
     "text": [
      "Extracting Frames from Batman (1989)-002_part_568.mp4: 100%|██████████| 149/149 [00:00<00:00, 637.32it/s]\n"
     ]
    },
    {
     "name": "stdout",
     "output_type": "stream",
     "text": [
      "✅ Saved frames in: /Users/mario/Desktop/Desktop/UofA/4.Winter-2025/ece-910/Batman/VLM-testing/batman-frames/Batman (1989)-002_part_568\n",
      "\n",
      "🎥 Processing: /Users/mario/Desktop/Desktop/UofA/4.Winter-2025/ece-910/Batman/Batman-(1989)-002/Batman (1989)-002_part_569.mp4\n",
      "📸 Total Frames: 26\n"
     ]
    },
    {
     "name": "stderr",
     "output_type": "stream",
     "text": [
      "Extracting Frames from Batman (1989)-002_part_569.mp4: 100%|██████████| 26/26 [00:00<00:00, 541.51it/s]\n"
     ]
    },
    {
     "name": "stdout",
     "output_type": "stream",
     "text": [
      "✅ Saved frames in: /Users/mario/Desktop/Desktop/UofA/4.Winter-2025/ece-910/Batman/VLM-testing/batman-frames/Batman (1989)-002_part_569\n",
      "\n",
      "🎥 Processing: /Users/mario/Desktop/Desktop/UofA/4.Winter-2025/ece-910/Batman/Batman-(1989)-002/Batman (1989)-002_part_57.mp4\n",
      "📸 Total Frames: 771\n"
     ]
    },
    {
     "name": "stderr",
     "output_type": "stream",
     "text": [
      "Extracting Frames from Batman (1989)-002_part_57.mp4: 100%|██████████| 771/771 [00:01<00:00, 619.40it/s]\n"
     ]
    },
    {
     "name": "stdout",
     "output_type": "stream",
     "text": [
      "✅ Saved frames in: /Users/mario/Desktop/Desktop/UofA/4.Winter-2025/ece-910/Batman/VLM-testing/batman-frames/Batman (1989)-002_part_57\n",
      "\n",
      "🎥 Processing: /Users/mario/Desktop/Desktop/UofA/4.Winter-2025/ece-910/Batman/Batman-(1989)-002/Batman (1989)-002_part_570.mp4\n",
      "📸 Total Frames: 32\n"
     ]
    },
    {
     "name": "stderr",
     "output_type": "stream",
     "text": [
      "Extracting Frames from Batman (1989)-002_part_570.mp4: 100%|██████████| 32/32 [00:00<00:00, 599.44it/s]\n"
     ]
    },
    {
     "name": "stdout",
     "output_type": "stream",
     "text": [
      "✅ Saved frames in: /Users/mario/Desktop/Desktop/UofA/4.Winter-2025/ece-910/Batman/VLM-testing/batman-frames/Batman (1989)-002_part_570\n",
      "\n",
      "🎥 Processing: /Users/mario/Desktop/Desktop/UofA/4.Winter-2025/ece-910/Batman/Batman-(1989)-002/Batman (1989)-002_part_571.mp4\n",
      "📸 Total Frames: 46\n"
     ]
    },
    {
     "name": "stderr",
     "output_type": "stream",
     "text": [
      "Extracting Frames from Batman (1989)-002_part_571.mp4: 100%|██████████| 46/46 [00:00<00:00, 582.88it/s]\n"
     ]
    },
    {
     "name": "stdout",
     "output_type": "stream",
     "text": [
      "✅ Saved frames in: /Users/mario/Desktop/Desktop/UofA/4.Winter-2025/ece-910/Batman/VLM-testing/batman-frames/Batman (1989)-002_part_571\n",
      "\n",
      "🎥 Processing: /Users/mario/Desktop/Desktop/UofA/4.Winter-2025/ece-910/Batman/Batman-(1989)-002/Batman (1989)-002_part_572.mp4\n",
      "📸 Total Frames: 1\n"
     ]
    },
    {
     "name": "stderr",
     "output_type": "stream",
     "text": [
      "Extracting Frames from Batman (1989)-002_part_572.mp4: 100%|██████████| 1/1 [00:00<00:00, 319.71it/s]\n"
     ]
    },
    {
     "name": "stdout",
     "output_type": "stream",
     "text": [
      "✅ Saved frames in: /Users/mario/Desktop/Desktop/UofA/4.Winter-2025/ece-910/Batman/VLM-testing/batman-frames/Batman (1989)-002_part_572\n",
      "\n",
      "🎥 Processing: /Users/mario/Desktop/Desktop/UofA/4.Winter-2025/ece-910/Batman/Batman-(1989)-002/Batman (1989)-002_part_574.mp4\n",
      "📸 Total Frames: 6\n"
     ]
    },
    {
     "name": "stderr",
     "output_type": "stream",
     "text": [
      "Extracting Frames from Batman (1989)-002_part_574.mp4: 100%|██████████| 6/6 [00:00<00:00, 397.65it/s]\n"
     ]
    },
    {
     "name": "stdout",
     "output_type": "stream",
     "text": [
      "✅ Saved frames in: /Users/mario/Desktop/Desktop/UofA/4.Winter-2025/ece-910/Batman/VLM-testing/batman-frames/Batman (1989)-002_part_574\n",
      "\n",
      "🎥 Processing: /Users/mario/Desktop/Desktop/UofA/4.Winter-2025/ece-910/Batman/Batman-(1989)-002/Batman (1989)-002_part_575.mp4\n",
      "📸 Total Frames: 17\n"
     ]
    },
    {
     "name": "stderr",
     "output_type": "stream",
     "text": [
      "Extracting Frames from Batman (1989)-002_part_575.mp4: 100%|██████████| 17/17 [00:00<00:00, 538.38it/s]\n"
     ]
    },
    {
     "name": "stdout",
     "output_type": "stream",
     "text": [
      "✅ Saved frames in: /Users/mario/Desktop/Desktop/UofA/4.Winter-2025/ece-910/Batman/VLM-testing/batman-frames/Batman (1989)-002_part_575\n",
      "\n",
      "🎥 Processing: /Users/mario/Desktop/Desktop/UofA/4.Winter-2025/ece-910/Batman/Batman-(1989)-002/Batman (1989)-002_part_576.mp4\n",
      "📸 Total Frames: 7\n"
     ]
    },
    {
     "name": "stderr",
     "output_type": "stream",
     "text": [
      "Extracting Frames from Batman (1989)-002_part_576.mp4: 100%|██████████| 7/7 [00:00<00:00, 418.71it/s]\n"
     ]
    },
    {
     "name": "stdout",
     "output_type": "stream",
     "text": [
      "✅ Saved frames in: /Users/mario/Desktop/Desktop/UofA/4.Winter-2025/ece-910/Batman/VLM-testing/batman-frames/Batman (1989)-002_part_576\n",
      "\n",
      "🎥 Processing: /Users/mario/Desktop/Desktop/UofA/4.Winter-2025/ece-910/Batman/Batman-(1989)-002/Batman (1989)-002_part_577.mp4\n",
      "📸 Total Frames: 24\n"
     ]
    },
    {
     "name": "stderr",
     "output_type": "stream",
     "text": [
      "Extracting Frames from Batman (1989)-002_part_577.mp4: 100%|██████████| 24/24 [00:00<00:00, 531.56it/s]\n"
     ]
    },
    {
     "name": "stdout",
     "output_type": "stream",
     "text": [
      "✅ Saved frames in: /Users/mario/Desktop/Desktop/UofA/4.Winter-2025/ece-910/Batman/VLM-testing/batman-frames/Batman (1989)-002_part_577\n",
      "\n",
      "🎥 Processing: /Users/mario/Desktop/Desktop/UofA/4.Winter-2025/ece-910/Batman/Batman-(1989)-002/Batman (1989)-002_part_578.mp4\n",
      "📸 Total Frames: 164\n"
     ]
    },
    {
     "name": "stderr",
     "output_type": "stream",
     "text": [
      "Extracting Frames from Batman (1989)-002_part_578.mp4: 100%|██████████| 164/164 [00:00<00:00, 624.80it/s]\n"
     ]
    },
    {
     "name": "stdout",
     "output_type": "stream",
     "text": [
      "✅ Saved frames in: /Users/mario/Desktop/Desktop/UofA/4.Winter-2025/ece-910/Batman/VLM-testing/batman-frames/Batman (1989)-002_part_578\n",
      "\n",
      "🎥 Processing: /Users/mario/Desktop/Desktop/UofA/4.Winter-2025/ece-910/Batman/Batman-(1989)-002/Batman (1989)-002_part_579.mp4\n",
      "📸 Total Frames: 13\n"
     ]
    },
    {
     "name": "stderr",
     "output_type": "stream",
     "text": [
      "Extracting Frames from Batman (1989)-002_part_579.mp4: 100%|██████████| 13/13 [00:00<00:00, 482.70it/s]\n"
     ]
    },
    {
     "name": "stdout",
     "output_type": "stream",
     "text": [
      "✅ Saved frames in: /Users/mario/Desktop/Desktop/UofA/4.Winter-2025/ece-910/Batman/VLM-testing/batman-frames/Batman (1989)-002_part_579\n",
      "\n",
      "🎥 Processing: /Users/mario/Desktop/Desktop/UofA/4.Winter-2025/ece-910/Batman/Batman-(1989)-002/Batman (1989)-002_part_58.mp4\n",
      "📸 Total Frames: 71\n"
     ]
    },
    {
     "name": "stderr",
     "output_type": "stream",
     "text": [
      "Extracting Frames from Batman (1989)-002_part_58.mp4: 100%|██████████| 71/71 [00:00<00:00, 546.94it/s]\n"
     ]
    },
    {
     "name": "stdout",
     "output_type": "stream",
     "text": [
      "✅ Saved frames in: /Users/mario/Desktop/Desktop/UofA/4.Winter-2025/ece-910/Batman/VLM-testing/batman-frames/Batman (1989)-002_part_58\n",
      "\n",
      "🎥 Processing: /Users/mario/Desktop/Desktop/UofA/4.Winter-2025/ece-910/Batman/Batman-(1989)-002/Batman (1989)-002_part_580.mp4\n",
      "📸 Total Frames: 116\n"
     ]
    },
    {
     "name": "stderr",
     "output_type": "stream",
     "text": [
      "Extracting Frames from Batman (1989)-002_part_580.mp4: 100%|██████████| 116/116 [00:00<00:00, 619.09it/s]\n"
     ]
    },
    {
     "name": "stdout",
     "output_type": "stream",
     "text": [
      "✅ Saved frames in: /Users/mario/Desktop/Desktop/UofA/4.Winter-2025/ece-910/Batman/VLM-testing/batman-frames/Batman (1989)-002_part_580\n",
      "\n",
      "🎥 Processing: /Users/mario/Desktop/Desktop/UofA/4.Winter-2025/ece-910/Batman/Batman-(1989)-002/Batman (1989)-002_part_581.mp4\n",
      "📸 Total Frames: 45\n"
     ]
    },
    {
     "name": "stderr",
     "output_type": "stream",
     "text": [
      "Extracting Frames from Batman (1989)-002_part_581.mp4: 100%|██████████| 45/45 [00:00<00:00, 276.53it/s]\n"
     ]
    },
    {
     "name": "stdout",
     "output_type": "stream",
     "text": [
      "✅ Saved frames in: /Users/mario/Desktop/Desktop/UofA/4.Winter-2025/ece-910/Batman/VLM-testing/batman-frames/Batman (1989)-002_part_581\n",
      "\n",
      "🎥 Processing: /Users/mario/Desktop/Desktop/UofA/4.Winter-2025/ece-910/Batman/Batman-(1989)-002/Batman (1989)-002_part_582.mp4\n",
      "📸 Total Frames: 119\n"
     ]
    },
    {
     "name": "stderr",
     "output_type": "stream",
     "text": [
      "Extracting Frames from Batman (1989)-002_part_582.mp4: 100%|██████████| 119/119 [00:00<00:00, 622.21it/s]\n"
     ]
    },
    {
     "name": "stdout",
     "output_type": "stream",
     "text": [
      "✅ Saved frames in: /Users/mario/Desktop/Desktop/UofA/4.Winter-2025/ece-910/Batman/VLM-testing/batman-frames/Batman (1989)-002_part_582\n",
      "\n",
      "🎥 Processing: /Users/mario/Desktop/Desktop/UofA/4.Winter-2025/ece-910/Batman/Batman-(1989)-002/Batman (1989)-002_part_583.mp4\n",
      "📸 Total Frames: 51\n"
     ]
    },
    {
     "name": "stderr",
     "output_type": "stream",
     "text": [
      "Extracting Frames from Batman (1989)-002_part_583.mp4: 100%|██████████| 51/51 [00:00<00:00, 608.34it/s]\n"
     ]
    },
    {
     "name": "stdout",
     "output_type": "stream",
     "text": [
      "✅ Saved frames in: /Users/mario/Desktop/Desktop/UofA/4.Winter-2025/ece-910/Batman/VLM-testing/batman-frames/Batman (1989)-002_part_583\n",
      "\n",
      "🎥 Processing: /Users/mario/Desktop/Desktop/UofA/4.Winter-2025/ece-910/Batman/Batman-(1989)-002/Batman (1989)-002_part_584.mp4\n",
      "📸 Total Frames: 53\n"
     ]
    },
    {
     "name": "stderr",
     "output_type": "stream",
     "text": [
      "Extracting Frames from Batman (1989)-002_part_584.mp4: 100%|██████████| 53/53 [00:00<00:00, 582.77it/s]\n"
     ]
    },
    {
     "name": "stdout",
     "output_type": "stream",
     "text": [
      "✅ Saved frames in: /Users/mario/Desktop/Desktop/UofA/4.Winter-2025/ece-910/Batman/VLM-testing/batman-frames/Batman (1989)-002_part_584\n",
      "\n",
      "🎥 Processing: /Users/mario/Desktop/Desktop/UofA/4.Winter-2025/ece-910/Batman/Batman-(1989)-002/Batman (1989)-002_part_585.mp4\n",
      "📸 Total Frames: 42\n"
     ]
    },
    {
     "name": "stderr",
     "output_type": "stream",
     "text": [
      "Extracting Frames from Batman (1989)-002_part_585.mp4: 100%|██████████| 42/42 [00:00<00:00, 582.86it/s]\n"
     ]
    },
    {
     "name": "stdout",
     "output_type": "stream",
     "text": [
      "✅ Saved frames in: /Users/mario/Desktop/Desktop/UofA/4.Winter-2025/ece-910/Batman/VLM-testing/batman-frames/Batman (1989)-002_part_585\n",
      "\n",
      "🎥 Processing: /Users/mario/Desktop/Desktop/UofA/4.Winter-2025/ece-910/Batman/Batman-(1989)-002/Batman (1989)-002_part_586.mp4\n",
      "📸 Total Frames: 103\n"
     ]
    },
    {
     "name": "stderr",
     "output_type": "stream",
     "text": [
      "Extracting Frames from Batman (1989)-002_part_586.mp4: 100%|██████████| 103/103 [00:00<00:00, 624.50it/s]\n"
     ]
    },
    {
     "name": "stdout",
     "output_type": "stream",
     "text": [
      "✅ Saved frames in: /Users/mario/Desktop/Desktop/UofA/4.Winter-2025/ece-910/Batman/VLM-testing/batman-frames/Batman (1989)-002_part_586\n",
      "\n",
      "🎥 Processing: /Users/mario/Desktop/Desktop/UofA/4.Winter-2025/ece-910/Batman/Batman-(1989)-002/Batman (1989)-002_part_587.mp4\n",
      "📸 Total Frames: 18\n"
     ]
    },
    {
     "name": "stderr",
     "output_type": "stream",
     "text": [
      "Extracting Frames from Batman (1989)-002_part_587.mp4: 100%|██████████| 18/18 [00:00<00:00, 497.94it/s]\n"
     ]
    },
    {
     "name": "stdout",
     "output_type": "stream",
     "text": [
      "✅ Saved frames in: /Users/mario/Desktop/Desktop/UofA/4.Winter-2025/ece-910/Batman/VLM-testing/batman-frames/Batman (1989)-002_part_587\n",
      "\n",
      "🎥 Processing: /Users/mario/Desktop/Desktop/UofA/4.Winter-2025/ece-910/Batman/Batman-(1989)-002/Batman (1989)-002_part_588.mp4\n",
      "📸 Total Frames: 73\n"
     ]
    },
    {
     "name": "stderr",
     "output_type": "stream",
     "text": [
      "Extracting Frames from Batman (1989)-002_part_588.mp4: 100%|██████████| 73/73 [00:00<00:00, 599.22it/s]\n"
     ]
    },
    {
     "name": "stdout",
     "output_type": "stream",
     "text": [
      "✅ Saved frames in: /Users/mario/Desktop/Desktop/UofA/4.Winter-2025/ece-910/Batman/VLM-testing/batman-frames/Batman (1989)-002_part_588\n",
      "\n",
      "🎥 Processing: /Users/mario/Desktop/Desktop/UofA/4.Winter-2025/ece-910/Batman/Batman-(1989)-002/Batman (1989)-002_part_589.mp4\n",
      "📸 Total Frames: 133\n"
     ]
    },
    {
     "name": "stderr",
     "output_type": "stream",
     "text": [
      "Extracting Frames from Batman (1989)-002_part_589.mp4: 100%|██████████| 133/133 [00:00<00:00, 626.41it/s]\n"
     ]
    },
    {
     "name": "stdout",
     "output_type": "stream",
     "text": [
      "✅ Saved frames in: /Users/mario/Desktop/Desktop/UofA/4.Winter-2025/ece-910/Batman/VLM-testing/batman-frames/Batman (1989)-002_part_589\n",
      "\n",
      "🎥 Processing: /Users/mario/Desktop/Desktop/UofA/4.Winter-2025/ece-910/Batman/Batman-(1989)-002/Batman (1989)-002_part_59.mp4\n",
      "📸 Total Frames: 2\n"
     ]
    },
    {
     "name": "stderr",
     "output_type": "stream",
     "text": [
      "Extracting Frames from Batman (1989)-002_part_59.mp4: 100%|██████████| 2/2 [00:00<00:00, 362.52it/s]\n"
     ]
    },
    {
     "name": "stdout",
     "output_type": "stream",
     "text": [
      "✅ Saved frames in: /Users/mario/Desktop/Desktop/UofA/4.Winter-2025/ece-910/Batman/VLM-testing/batman-frames/Batman (1989)-002_part_59\n",
      "\n",
      "🎥 Processing: /Users/mario/Desktop/Desktop/UofA/4.Winter-2025/ece-910/Batman/Batman-(1989)-002/Batman (1989)-002_part_590.mp4\n",
      "📸 Total Frames: 39\n"
     ]
    },
    {
     "name": "stderr",
     "output_type": "stream",
     "text": [
      "Extracting Frames from Batman (1989)-002_part_590.mp4: 100%|██████████| 39/39 [00:00<00:00, 580.12it/s]\n"
     ]
    },
    {
     "name": "stdout",
     "output_type": "stream",
     "text": [
      "✅ Saved frames in: /Users/mario/Desktop/Desktop/UofA/4.Winter-2025/ece-910/Batman/VLM-testing/batman-frames/Batman (1989)-002_part_590\n",
      "\n",
      "🎥 Processing: /Users/mario/Desktop/Desktop/UofA/4.Winter-2025/ece-910/Batman/Batman-(1989)-002/Batman (1989)-002_part_591.mp4\n",
      "📸 Total Frames: 69\n"
     ]
    },
    {
     "name": "stderr",
     "output_type": "stream",
     "text": [
      "Extracting Frames from Batman (1989)-002_part_591.mp4: 100%|██████████| 69/69 [00:00<00:00, 596.55it/s]\n"
     ]
    },
    {
     "name": "stdout",
     "output_type": "stream",
     "text": [
      "✅ Saved frames in: /Users/mario/Desktop/Desktop/UofA/4.Winter-2025/ece-910/Batman/VLM-testing/batman-frames/Batman (1989)-002_part_591\n",
      "\n",
      "🎥 Processing: /Users/mario/Desktop/Desktop/UofA/4.Winter-2025/ece-910/Batman/Batman-(1989)-002/Batman (1989)-002_part_592.mp4\n",
      "📸 Total Frames: 60\n"
     ]
    },
    {
     "name": "stderr",
     "output_type": "stream",
     "text": [
      "Extracting Frames from Batman (1989)-002_part_592.mp4: 100%|██████████| 60/60 [00:00<00:00, 592.18it/s]\n"
     ]
    },
    {
     "name": "stdout",
     "output_type": "stream",
     "text": [
      "✅ Saved frames in: /Users/mario/Desktop/Desktop/UofA/4.Winter-2025/ece-910/Batman/VLM-testing/batman-frames/Batman (1989)-002_part_592\n",
      "\n",
      "🎥 Processing: /Users/mario/Desktop/Desktop/UofA/4.Winter-2025/ece-910/Batman/Batman-(1989)-002/Batman (1989)-002_part_593.mp4\n",
      "📸 Total Frames: 75\n"
     ]
    },
    {
     "name": "stderr",
     "output_type": "stream",
     "text": [
      "Extracting Frames from Batman (1989)-002_part_593.mp4: 100%|██████████| 75/75 [00:00<00:00, 577.76it/s]\n"
     ]
    },
    {
     "name": "stdout",
     "output_type": "stream",
     "text": [
      "✅ Saved frames in: /Users/mario/Desktop/Desktop/UofA/4.Winter-2025/ece-910/Batman/VLM-testing/batman-frames/Batman (1989)-002_part_593\n",
      "\n",
      "🎥 Processing: /Users/mario/Desktop/Desktop/UofA/4.Winter-2025/ece-910/Batman/Batman-(1989)-002/Batman (1989)-002_part_594.mp4\n",
      "📸 Total Frames: 20\n"
     ]
    },
    {
     "name": "stderr",
     "output_type": "stream",
     "text": [
      "Extracting Frames from Batman (1989)-002_part_594.mp4: 100%|██████████| 20/20 [00:00<00:00, 328.53it/s]\n"
     ]
    },
    {
     "name": "stdout",
     "output_type": "stream",
     "text": [
      "✅ Saved frames in: /Users/mario/Desktop/Desktop/UofA/4.Winter-2025/ece-910/Batman/VLM-testing/batman-frames/Batman (1989)-002_part_594\n",
      "\n",
      "🎥 Processing: /Users/mario/Desktop/Desktop/UofA/4.Winter-2025/ece-910/Batman/Batman-(1989)-002/Batman (1989)-002_part_595.mp4\n",
      "📸 Total Frames: 12\n"
     ]
    },
    {
     "name": "stderr",
     "output_type": "stream",
     "text": [
      "Extracting Frames from Batman (1989)-002_part_595.mp4: 100%|██████████| 12/12 [00:00<00:00, 499.71it/s]\n"
     ]
    },
    {
     "name": "stdout",
     "output_type": "stream",
     "text": [
      "✅ Saved frames in: /Users/mario/Desktop/Desktop/UofA/4.Winter-2025/ece-910/Batman/VLM-testing/batman-frames/Batman (1989)-002_part_595\n",
      "\n",
      "🎥 Processing: /Users/mario/Desktop/Desktop/UofA/4.Winter-2025/ece-910/Batman/Batman-(1989)-002/Batman (1989)-002_part_596.mp4\n",
      "📸 Total Frames: 61\n"
     ]
    },
    {
     "name": "stderr",
     "output_type": "stream",
     "text": [
      "Extracting Frames from Batman (1989)-002_part_596.mp4: 100%|██████████| 61/61 [00:00<00:00, 278.86it/s]\n"
     ]
    },
    {
     "name": "stdout",
     "output_type": "stream",
     "text": [
      "✅ Saved frames in: /Users/mario/Desktop/Desktop/UofA/4.Winter-2025/ece-910/Batman/VLM-testing/batman-frames/Batman (1989)-002_part_596\n",
      "\n",
      "🎥 Processing: /Users/mario/Desktop/Desktop/UofA/4.Winter-2025/ece-910/Batman/Batman-(1989)-002/Batman (1989)-002_part_597.mp4\n",
      "📸 Total Frames: 142\n"
     ]
    },
    {
     "name": "stderr",
     "output_type": "stream",
     "text": [
      "Extracting Frames from Batman (1989)-002_part_597.mp4: 100%|██████████| 142/142 [00:00<00:00, 556.09it/s]\n"
     ]
    },
    {
     "name": "stdout",
     "output_type": "stream",
     "text": [
      "✅ Saved frames in: /Users/mario/Desktop/Desktop/UofA/4.Winter-2025/ece-910/Batman/VLM-testing/batman-frames/Batman (1989)-002_part_597\n",
      "\n",
      "🎥 Processing: /Users/mario/Desktop/Desktop/UofA/4.Winter-2025/ece-910/Batman/Batman-(1989)-002/Batman (1989)-002_part_598.mp4\n",
      "📸 Total Frames: 270\n"
     ]
    },
    {
     "name": "stderr",
     "output_type": "stream",
     "text": [
      "Extracting Frames from Batman (1989)-002_part_598.mp4: 100%|██████████| 270/270 [00:00<00:00, 623.83it/s]\n"
     ]
    },
    {
     "name": "stdout",
     "output_type": "stream",
     "text": [
      "✅ Saved frames in: /Users/mario/Desktop/Desktop/UofA/4.Winter-2025/ece-910/Batman/VLM-testing/batman-frames/Batman (1989)-002_part_598\n",
      "\n",
      "🎥 Processing: /Users/mario/Desktop/Desktop/UofA/4.Winter-2025/ece-910/Batman/Batman-(1989)-002/Batman (1989)-002_part_599.mp4\n",
      "📸 Total Frames: 367\n"
     ]
    },
    {
     "name": "stderr",
     "output_type": "stream",
     "text": [
      "Extracting Frames from Batman (1989)-002_part_599.mp4: 100%|██████████| 367/367 [00:00<00:00, 623.56it/s]\n"
     ]
    },
    {
     "name": "stdout",
     "output_type": "stream",
     "text": [
      "✅ Saved frames in: /Users/mario/Desktop/Desktop/UofA/4.Winter-2025/ece-910/Batman/VLM-testing/batman-frames/Batman (1989)-002_part_599\n",
      "\n",
      "🎥 Processing: /Users/mario/Desktop/Desktop/UofA/4.Winter-2025/ece-910/Batman/Batman-(1989)-002/Batman (1989)-002_part_6.mp4\n",
      "📸 Total Frames: 80\n"
     ]
    },
    {
     "name": "stderr",
     "output_type": "stream",
     "text": [
      "Extracting Frames from Batman (1989)-002_part_6.mp4: 100%|██████████| 80/80 [00:00<00:00, 563.76it/s]\n"
     ]
    },
    {
     "name": "stdout",
     "output_type": "stream",
     "text": [
      "✅ Saved frames in: /Users/mario/Desktop/Desktop/UofA/4.Winter-2025/ece-910/Batman/VLM-testing/batman-frames/Batman (1989)-002_part_6\n",
      "\n",
      "🎥 Processing: /Users/mario/Desktop/Desktop/UofA/4.Winter-2025/ece-910/Batman/Batman-(1989)-002/Batman (1989)-002_part_60.mp4\n",
      "📸 Total Frames: 922\n"
     ]
    },
    {
     "name": "stderr",
     "output_type": "stream",
     "text": [
      "Extracting Frames from Batman (1989)-002_part_60.mp4: 100%|██████████| 922/922 [00:01<00:00, 516.14it/s]\n"
     ]
    },
    {
     "name": "stdout",
     "output_type": "stream",
     "text": [
      "✅ Saved frames in: /Users/mario/Desktop/Desktop/UofA/4.Winter-2025/ece-910/Batman/VLM-testing/batman-frames/Batman (1989)-002_part_60\n",
      "\n",
      "🎥 Processing: /Users/mario/Desktop/Desktop/UofA/4.Winter-2025/ece-910/Batman/Batman-(1989)-002/Batman (1989)-002_part_600.mp4\n",
      "📸 Total Frames: 184\n"
     ]
    },
    {
     "name": "stderr",
     "output_type": "stream",
     "text": [
      "Extracting Frames from Batman (1989)-002_part_600.mp4: 100%|██████████| 184/184 [00:00<00:00, 642.27it/s]\n"
     ]
    },
    {
     "name": "stdout",
     "output_type": "stream",
     "text": [
      "✅ Saved frames in: /Users/mario/Desktop/Desktop/UofA/4.Winter-2025/ece-910/Batman/VLM-testing/batman-frames/Batman (1989)-002_part_600\n",
      "\n",
      "🎥 Processing: /Users/mario/Desktop/Desktop/UofA/4.Winter-2025/ece-910/Batman/Batman-(1989)-002/Batman (1989)-002_part_601.mp4\n",
      "📸 Total Frames: 306\n"
     ]
    },
    {
     "name": "stderr",
     "output_type": "stream",
     "text": [
      "Extracting Frames from Batman (1989)-002_part_601.mp4: 100%|██████████| 306/306 [00:00<00:00, 609.39it/s]\n"
     ]
    },
    {
     "name": "stdout",
     "output_type": "stream",
     "text": [
      "✅ Saved frames in: /Users/mario/Desktop/Desktop/UofA/4.Winter-2025/ece-910/Batman/VLM-testing/batman-frames/Batman (1989)-002_part_601\n",
      "\n",
      "🎥 Processing: /Users/mario/Desktop/Desktop/UofA/4.Winter-2025/ece-910/Batman/Batman-(1989)-002/Batman (1989)-002_part_602.mp4\n",
      "📸 Total Frames: 334\n"
     ]
    },
    {
     "name": "stderr",
     "output_type": "stream",
     "text": [
      "Extracting Frames from Batman (1989)-002_part_602.mp4: 100%|██████████| 334/334 [00:00<00:00, 661.16it/s]\n"
     ]
    },
    {
     "name": "stdout",
     "output_type": "stream",
     "text": [
      "✅ Saved frames in: /Users/mario/Desktop/Desktop/UofA/4.Winter-2025/ece-910/Batman/VLM-testing/batman-frames/Batman (1989)-002_part_602\n",
      "\n",
      "🎥 Processing: /Users/mario/Desktop/Desktop/UofA/4.Winter-2025/ece-910/Batman/Batman-(1989)-002/Batman (1989)-002_part_603.mp4\n",
      "📸 Total Frames: 45\n"
     ]
    },
    {
     "name": "stderr",
     "output_type": "stream",
     "text": [
      "Extracting Frames from Batman (1989)-002_part_603.mp4: 100%|██████████| 45/45 [00:00<00:00, 606.96it/s]\n"
     ]
    },
    {
     "name": "stdout",
     "output_type": "stream",
     "text": [
      "✅ Saved frames in: /Users/mario/Desktop/Desktop/UofA/4.Winter-2025/ece-910/Batman/VLM-testing/batman-frames/Batman (1989)-002_part_603\n",
      "\n",
      "🎥 Processing: /Users/mario/Desktop/Desktop/UofA/4.Winter-2025/ece-910/Batman/Batman-(1989)-002/Batman (1989)-002_part_604.mp4\n",
      "📸 Total Frames: 473\n"
     ]
    },
    {
     "name": "stderr",
     "output_type": "stream",
     "text": [
      "Extracting Frames from Batman (1989)-002_part_604.mp4: 100%|██████████| 473/473 [00:00<00:00, 641.96it/s]\n"
     ]
    },
    {
     "name": "stdout",
     "output_type": "stream",
     "text": [
      "✅ Saved frames in: /Users/mario/Desktop/Desktop/UofA/4.Winter-2025/ece-910/Batman/VLM-testing/batman-frames/Batman (1989)-002_part_604\n",
      "\n",
      "🎥 Processing: /Users/mario/Desktop/Desktop/UofA/4.Winter-2025/ece-910/Batman/Batman-(1989)-002/Batman (1989)-002_part_605.mp4\n",
      "📸 Total Frames: 231\n"
     ]
    },
    {
     "name": "stderr",
     "output_type": "stream",
     "text": [
      "Extracting Frames from Batman (1989)-002_part_605.mp4: 100%|██████████| 231/231 [00:00<00:00, 641.67it/s]\n"
     ]
    },
    {
     "name": "stdout",
     "output_type": "stream",
     "text": [
      "✅ Saved frames in: /Users/mario/Desktop/Desktop/UofA/4.Winter-2025/ece-910/Batman/VLM-testing/batman-frames/Batman (1989)-002_part_605\n",
      "\n",
      "🎥 Processing: /Users/mario/Desktop/Desktop/UofA/4.Winter-2025/ece-910/Batman/Batman-(1989)-002/Batman (1989)-002_part_606.mp4\n",
      "📸 Total Frames: 127\n"
     ]
    },
    {
     "name": "stderr",
     "output_type": "stream",
     "text": [
      "Extracting Frames from Batman (1989)-002_part_606.mp4: 100%|██████████| 127/127 [00:00<00:00, 591.40it/s]\n"
     ]
    },
    {
     "name": "stdout",
     "output_type": "stream",
     "text": [
      "✅ Saved frames in: /Users/mario/Desktop/Desktop/UofA/4.Winter-2025/ece-910/Batman/VLM-testing/batman-frames/Batman (1989)-002_part_606\n",
      "\n",
      "🎥 Processing: /Users/mario/Desktop/Desktop/UofA/4.Winter-2025/ece-910/Batman/Batman-(1989)-002/Batman (1989)-002_part_607.mp4\n",
      "📸 Total Frames: 53\n"
     ]
    },
    {
     "name": "stderr",
     "output_type": "stream",
     "text": [
      "Extracting Frames from Batman (1989)-002_part_607.mp4: 100%|██████████| 53/53 [00:00<00:00, 638.92it/s]\n"
     ]
    },
    {
     "name": "stdout",
     "output_type": "stream",
     "text": [
      "✅ Saved frames in: /Users/mario/Desktop/Desktop/UofA/4.Winter-2025/ece-910/Batman/VLM-testing/batman-frames/Batman (1989)-002_part_607\n",
      "\n",
      "🎥 Processing: /Users/mario/Desktop/Desktop/UofA/4.Winter-2025/ece-910/Batman/Batman-(1989)-002/Batman (1989)-002_part_608.mp4\n",
      "📸 Total Frames: 118\n"
     ]
    },
    {
     "name": "stderr",
     "output_type": "stream",
     "text": [
      "Extracting Frames from Batman (1989)-002_part_608.mp4: 100%|██████████| 118/118 [00:00<00:00, 637.99it/s]\n"
     ]
    },
    {
     "name": "stdout",
     "output_type": "stream",
     "text": [
      "✅ Saved frames in: /Users/mario/Desktop/Desktop/UofA/4.Winter-2025/ece-910/Batman/VLM-testing/batman-frames/Batman (1989)-002_part_608\n",
      "\n",
      "🎥 Processing: /Users/mario/Desktop/Desktop/UofA/4.Winter-2025/ece-910/Batman/Batman-(1989)-002/Batman (1989)-002_part_609.mp4\n",
      "📸 Total Frames: 161\n"
     ]
    },
    {
     "name": "stderr",
     "output_type": "stream",
     "text": [
      "Extracting Frames from Batman (1989)-002_part_609.mp4: 100%|██████████| 161/161 [00:00<00:00, 597.62it/s]\n"
     ]
    },
    {
     "name": "stdout",
     "output_type": "stream",
     "text": [
      "✅ Saved frames in: /Users/mario/Desktop/Desktop/UofA/4.Winter-2025/ece-910/Batman/VLM-testing/batman-frames/Batman (1989)-002_part_609\n",
      "\n",
      "🎥 Processing: /Users/mario/Desktop/Desktop/UofA/4.Winter-2025/ece-910/Batman/Batman-(1989)-002/Batman (1989)-002_part_61.mp4\n",
      "📸 Total Frames: 130\n"
     ]
    },
    {
     "name": "stderr",
     "output_type": "stream",
     "text": [
      "Extracting Frames from Batman (1989)-002_part_61.mp4: 100%|██████████| 130/130 [00:00<00:00, 589.66it/s]\n"
     ]
    },
    {
     "name": "stdout",
     "output_type": "stream",
     "text": [
      "✅ Saved frames in: /Users/mario/Desktop/Desktop/UofA/4.Winter-2025/ece-910/Batman/VLM-testing/batman-frames/Batman (1989)-002_part_61\n",
      "\n",
      "🎥 Processing: /Users/mario/Desktop/Desktop/UofA/4.Winter-2025/ece-910/Batman/Batman-(1989)-002/Batman (1989)-002_part_610.mp4\n",
      "📸 Total Frames: 45\n"
     ]
    },
    {
     "name": "stderr",
     "output_type": "stream",
     "text": [
      "Extracting Frames from Batman (1989)-002_part_610.mp4: 100%|██████████| 45/45 [00:00<00:00, 639.18it/s]\n"
     ]
    },
    {
     "name": "stdout",
     "output_type": "stream",
     "text": [
      "✅ Saved frames in: /Users/mario/Desktop/Desktop/UofA/4.Winter-2025/ece-910/Batman/VLM-testing/batman-frames/Batman (1989)-002_part_610\n",
      "\n",
      "🎥 Processing: /Users/mario/Desktop/Desktop/UofA/4.Winter-2025/ece-910/Batman/Batman-(1989)-002/Batman (1989)-002_part_611.mp4\n",
      "📸 Total Frames: 81\n"
     ]
    },
    {
     "name": "stderr",
     "output_type": "stream",
     "text": [
      "Extracting Frames from Batman (1989)-002_part_611.mp4: 100%|██████████| 81/81 [00:00<00:00, 589.58it/s]\n"
     ]
    },
    {
     "name": "stdout",
     "output_type": "stream",
     "text": [
      "✅ Saved frames in: /Users/mario/Desktop/Desktop/UofA/4.Winter-2025/ece-910/Batman/VLM-testing/batman-frames/Batman (1989)-002_part_611\n",
      "\n",
      "🎥 Processing: /Users/mario/Desktop/Desktop/UofA/4.Winter-2025/ece-910/Batman/Batman-(1989)-002/Batman (1989)-002_part_612.mp4\n",
      "📸 Total Frames: 406\n"
     ]
    },
    {
     "name": "stderr",
     "output_type": "stream",
     "text": [
      "Extracting Frames from Batman (1989)-002_part_612.mp4: 100%|██████████| 406/406 [00:00<00:00, 619.77it/s]\n"
     ]
    },
    {
     "name": "stdout",
     "output_type": "stream",
     "text": [
      "✅ Saved frames in: /Users/mario/Desktop/Desktop/UofA/4.Winter-2025/ece-910/Batman/VLM-testing/batman-frames/Batman (1989)-002_part_612\n",
      "\n",
      "🎥 Processing: /Users/mario/Desktop/Desktop/UofA/4.Winter-2025/ece-910/Batman/Batman-(1989)-002/Batman (1989)-002_part_613.mp4\n",
      "📸 Total Frames: 54\n"
     ]
    },
    {
     "name": "stderr",
     "output_type": "stream",
     "text": [
      "Extracting Frames from Batman (1989)-002_part_613.mp4: 100%|██████████| 54/54 [00:00<00:00, 627.34it/s]\n"
     ]
    },
    {
     "name": "stdout",
     "output_type": "stream",
     "text": [
      "✅ Saved frames in: /Users/mario/Desktop/Desktop/UofA/4.Winter-2025/ece-910/Batman/VLM-testing/batman-frames/Batman (1989)-002_part_613\n",
      "\n",
      "🎥 Processing: /Users/mario/Desktop/Desktop/UofA/4.Winter-2025/ece-910/Batman/Batman-(1989)-002/Batman (1989)-002_part_614.mp4\n",
      "📸 Total Frames: 87\n"
     ]
    },
    {
     "name": "stderr",
     "output_type": "stream",
     "text": [
      "Extracting Frames from Batman (1989)-002_part_614.mp4: 100%|██████████| 87/87 [00:00<00:00, 602.35it/s]\n"
     ]
    },
    {
     "name": "stdout",
     "output_type": "stream",
     "text": [
      "✅ Saved frames in: /Users/mario/Desktop/Desktop/UofA/4.Winter-2025/ece-910/Batman/VLM-testing/batman-frames/Batman (1989)-002_part_614\n",
      "\n",
      "🎥 Processing: /Users/mario/Desktop/Desktop/UofA/4.Winter-2025/ece-910/Batman/Batman-(1989)-002/Batman (1989)-002_part_615.mp4\n",
      "📸 Total Frames: 61\n"
     ]
    },
    {
     "name": "stderr",
     "output_type": "stream",
     "text": [
      "Extracting Frames from Batman (1989)-002_part_615.mp4: 100%|██████████| 61/61 [00:00<00:00, 231.09it/s]\n"
     ]
    },
    {
     "name": "stdout",
     "output_type": "stream",
     "text": [
      "✅ Saved frames in: /Users/mario/Desktop/Desktop/UofA/4.Winter-2025/ece-910/Batman/VLM-testing/batman-frames/Batman (1989)-002_part_615\n",
      "\n",
      "🎥 Processing: /Users/mario/Desktop/Desktop/UofA/4.Winter-2025/ece-910/Batman/Batman-(1989)-002/Batman (1989)-002_part_616.mp4\n",
      "📸 Total Frames: 52\n"
     ]
    },
    {
     "name": "stderr",
     "output_type": "stream",
     "text": [
      "Extracting Frames from Batman (1989)-002_part_616.mp4: 100%|██████████| 52/52 [00:00<00:00, 603.59it/s]\n"
     ]
    },
    {
     "name": "stdout",
     "output_type": "stream",
     "text": [
      "✅ Saved frames in: /Users/mario/Desktop/Desktop/UofA/4.Winter-2025/ece-910/Batman/VLM-testing/batman-frames/Batman (1989)-002_part_616\n",
      "\n",
      "🎥 Processing: /Users/mario/Desktop/Desktop/UofA/4.Winter-2025/ece-910/Batman/Batman-(1989)-002/Batman (1989)-002_part_617.mp4\n",
      "📸 Total Frames: 29\n"
     ]
    },
    {
     "name": "stderr",
     "output_type": "stream",
     "text": [
      "Extracting Frames from Batman (1989)-002_part_617.mp4: 100%|██████████| 29/29 [00:00<00:00, 565.71it/s]\n"
     ]
    },
    {
     "name": "stdout",
     "output_type": "stream",
     "text": [
      "✅ Saved frames in: /Users/mario/Desktop/Desktop/UofA/4.Winter-2025/ece-910/Batman/VLM-testing/batman-frames/Batman (1989)-002_part_617\n",
      "\n",
      "🎥 Processing: /Users/mario/Desktop/Desktop/UofA/4.Winter-2025/ece-910/Batman/Batman-(1989)-002/Batman (1989)-002_part_618.mp4\n",
      "📸 Total Frames: 76\n"
     ]
    },
    {
     "name": "stderr",
     "output_type": "stream",
     "text": [
      "Extracting Frames from Batman (1989)-002_part_618.mp4: 100%|██████████| 76/76 [00:00<00:00, 574.24it/s]\n"
     ]
    },
    {
     "name": "stdout",
     "output_type": "stream",
     "text": [
      "✅ Saved frames in: /Users/mario/Desktop/Desktop/UofA/4.Winter-2025/ece-910/Batman/VLM-testing/batman-frames/Batman (1989)-002_part_618\n",
      "\n",
      "🎥 Processing: /Users/mario/Desktop/Desktop/UofA/4.Winter-2025/ece-910/Batman/Batman-(1989)-002/Batman (1989)-002_part_619.mp4\n",
      "📸 Total Frames: 679\n"
     ]
    },
    {
     "name": "stderr",
     "output_type": "stream",
     "text": [
      "Extracting Frames from Batman (1989)-002_part_619.mp4: 100%|██████████| 679/679 [00:01<00:00, 634.25it/s]\n"
     ]
    },
    {
     "name": "stdout",
     "output_type": "stream",
     "text": [
      "✅ Saved frames in: /Users/mario/Desktop/Desktop/UofA/4.Winter-2025/ece-910/Batman/VLM-testing/batman-frames/Batman (1989)-002_part_619\n",
      "\n",
      "🎥 Processing: /Users/mario/Desktop/Desktop/UofA/4.Winter-2025/ece-910/Batman/Batman-(1989)-002/Batman (1989)-002_part_62.mp4\n",
      "📸 Total Frames: 71\n"
     ]
    },
    {
     "name": "stderr",
     "output_type": "stream",
     "text": [
      "Extracting Frames from Batman (1989)-002_part_62.mp4: 100%|██████████| 71/71 [00:00<00:00, 583.13it/s]\n"
     ]
    },
    {
     "name": "stdout",
     "output_type": "stream",
     "text": [
      "✅ Saved frames in: /Users/mario/Desktop/Desktop/UofA/4.Winter-2025/ece-910/Batman/VLM-testing/batman-frames/Batman (1989)-002_part_62\n",
      "\n",
      "🎥 Processing: /Users/mario/Desktop/Desktop/UofA/4.Winter-2025/ece-910/Batman/Batman-(1989)-002/Batman (1989)-002_part_620.mp4\n",
      "📸 Total Frames: 670\n"
     ]
    },
    {
     "name": "stderr",
     "output_type": "stream",
     "text": [
      "Extracting Frames from Batman (1989)-002_part_620.mp4: 100%|██████████| 670/670 [00:01<00:00, 506.54it/s]\n"
     ]
    },
    {
     "name": "stdout",
     "output_type": "stream",
     "text": [
      "✅ Saved frames in: /Users/mario/Desktop/Desktop/UofA/4.Winter-2025/ece-910/Batman/VLM-testing/batman-frames/Batman (1989)-002_part_620\n",
      "\n",
      "🎥 Processing: /Users/mario/Desktop/Desktop/UofA/4.Winter-2025/ece-910/Batman/Batman-(1989)-002/Batman (1989)-002_part_621.mp4\n",
      "📸 Total Frames: 1581\n"
     ]
    },
    {
     "name": "stderr",
     "output_type": "stream",
     "text": [
      "Extracting Frames from Batman (1989)-002_part_621.mp4: 100%|██████████| 1581/1581 [00:02<00:00, 580.70it/s]\n"
     ]
    },
    {
     "name": "stdout",
     "output_type": "stream",
     "text": [
      "✅ Saved frames in: /Users/mario/Desktop/Desktop/UofA/4.Winter-2025/ece-910/Batman/VLM-testing/batman-frames/Batman (1989)-002_part_621\n",
      "\n",
      "🎥 Processing: /Users/mario/Desktop/Desktop/UofA/4.Winter-2025/ece-910/Batman/Batman-(1989)-002/Batman (1989)-002_part_622.mp4\n",
      "📸 Total Frames: 256\n"
     ]
    },
    {
     "name": "stderr",
     "output_type": "stream",
     "text": [
      "Extracting Frames from Batman (1989)-002_part_622.mp4: 100%|██████████| 256/256 [00:00<00:00, 516.18it/s]\n"
     ]
    },
    {
     "name": "stdout",
     "output_type": "stream",
     "text": [
      "✅ Saved frames in: /Users/mario/Desktop/Desktop/UofA/4.Winter-2025/ece-910/Batman/VLM-testing/batman-frames/Batman (1989)-002_part_622\n",
      "\n",
      "🎥 Processing: /Users/mario/Desktop/Desktop/UofA/4.Winter-2025/ece-910/Batman/Batman-(1989)-002/Batman (1989)-002_part_623.mp4\n",
      "📸 Total Frames: 99\n"
     ]
    },
    {
     "name": "stderr",
     "output_type": "stream",
     "text": [
      "Extracting Frames from Batman (1989)-002_part_623.mp4: 100%|██████████| 99/99 [00:00<00:00, 570.38it/s]\n"
     ]
    },
    {
     "name": "stdout",
     "output_type": "stream",
     "text": [
      "✅ Saved frames in: /Users/mario/Desktop/Desktop/UofA/4.Winter-2025/ece-910/Batman/VLM-testing/batman-frames/Batman (1989)-002_part_623\n",
      "\n",
      "🎥 Processing: /Users/mario/Desktop/Desktop/UofA/4.Winter-2025/ece-910/Batman/Batman-(1989)-002/Batman (1989)-002_part_624.mp4\n",
      "📸 Total Frames: 153\n"
     ]
    },
    {
     "name": "stderr",
     "output_type": "stream",
     "text": [
      "Extracting Frames from Batman (1989)-002_part_624.mp4: 100%|██████████| 153/153 [00:00<00:00, 541.90it/s]\n"
     ]
    },
    {
     "name": "stdout",
     "output_type": "stream",
     "text": [
      "✅ Saved frames in: /Users/mario/Desktop/Desktop/UofA/4.Winter-2025/ece-910/Batman/VLM-testing/batman-frames/Batman (1989)-002_part_624\n",
      "\n",
      "🎥 Processing: /Users/mario/Desktop/Desktop/UofA/4.Winter-2025/ece-910/Batman/Batman-(1989)-002/Batman (1989)-002_part_625.mp4\n",
      "📸 Total Frames: 79\n"
     ]
    },
    {
     "name": "stderr",
     "output_type": "stream",
     "text": [
      "Extracting Frames from Batman (1989)-002_part_625.mp4: 100%|██████████| 79/79 [00:00<00:00, 575.53it/s]\n"
     ]
    },
    {
     "name": "stdout",
     "output_type": "stream",
     "text": [
      "✅ Saved frames in: /Users/mario/Desktop/Desktop/UofA/4.Winter-2025/ece-910/Batman/VLM-testing/batman-frames/Batman (1989)-002_part_625\n",
      "\n",
      "🎥 Processing: /Users/mario/Desktop/Desktop/UofA/4.Winter-2025/ece-910/Batman/Batman-(1989)-002/Batman (1989)-002_part_626.mp4\n",
      "📸 Total Frames: 108\n"
     ]
    },
    {
     "name": "stderr",
     "output_type": "stream",
     "text": [
      "Extracting Frames from Batman (1989)-002_part_626.mp4: 100%|██████████| 108/108 [00:00<00:00, 573.73it/s]\n"
     ]
    },
    {
     "name": "stdout",
     "output_type": "stream",
     "text": [
      "✅ Saved frames in: /Users/mario/Desktop/Desktop/UofA/4.Winter-2025/ece-910/Batman/VLM-testing/batman-frames/Batman (1989)-002_part_626\n",
      "\n",
      "🎥 Processing: /Users/mario/Desktop/Desktop/UofA/4.Winter-2025/ece-910/Batman/Batman-(1989)-002/Batman (1989)-002_part_627.mp4\n",
      "📸 Total Frames: 63\n"
     ]
    },
    {
     "name": "stderr",
     "output_type": "stream",
     "text": [
      "Extracting Frames from Batman (1989)-002_part_627.mp4: 100%|██████████| 63/63 [00:00<00:00, 573.57it/s]\n"
     ]
    },
    {
     "name": "stdout",
     "output_type": "stream",
     "text": [
      "✅ Saved frames in: /Users/mario/Desktop/Desktop/UofA/4.Winter-2025/ece-910/Batman/VLM-testing/batman-frames/Batman (1989)-002_part_627\n",
      "\n",
      "🎥 Processing: /Users/mario/Desktop/Desktop/UofA/4.Winter-2025/ece-910/Batman/Batman-(1989)-002/Batman (1989)-002_part_628.mp4\n",
      "📸 Total Frames: 120\n"
     ]
    },
    {
     "name": "stderr",
     "output_type": "stream",
     "text": [
      "Extracting Frames from Batman (1989)-002_part_628.mp4: 100%|██████████| 120/120 [00:00<00:00, 351.61it/s]\n"
     ]
    },
    {
     "name": "stdout",
     "output_type": "stream",
     "text": [
      "✅ Saved frames in: /Users/mario/Desktop/Desktop/UofA/4.Winter-2025/ece-910/Batman/VLM-testing/batman-frames/Batman (1989)-002_part_628\n",
      "\n",
      "🎥 Processing: /Users/mario/Desktop/Desktop/UofA/4.Winter-2025/ece-910/Batman/Batman-(1989)-002/Batman (1989)-002_part_629.mp4\n",
      "📸 Total Frames: 43\n"
     ]
    },
    {
     "name": "stderr",
     "output_type": "stream",
     "text": [
      "Extracting Frames from Batman (1989)-002_part_629.mp4: 100%|██████████| 43/43 [00:00<00:00, 575.45it/s]\n"
     ]
    },
    {
     "name": "stdout",
     "output_type": "stream",
     "text": [
      "✅ Saved frames in: /Users/mario/Desktop/Desktop/UofA/4.Winter-2025/ece-910/Batman/VLM-testing/batman-frames/Batman (1989)-002_part_629\n",
      "\n",
      "🎥 Processing: /Users/mario/Desktop/Desktop/UofA/4.Winter-2025/ece-910/Batman/Batman-(1989)-002/Batman (1989)-002_part_63.mp4\n",
      "📸 Total Frames: 61\n"
     ]
    },
    {
     "name": "stderr",
     "output_type": "stream",
     "text": [
      "Extracting Frames from Batman (1989)-002_part_63.mp4: 100%|██████████| 61/61 [00:00<00:00, 556.79it/s]\n"
     ]
    },
    {
     "name": "stdout",
     "output_type": "stream",
     "text": [
      "✅ Saved frames in: /Users/mario/Desktop/Desktop/UofA/4.Winter-2025/ece-910/Batman/VLM-testing/batman-frames/Batman (1989)-002_part_63\n",
      "\n",
      "🎥 Processing: /Users/mario/Desktop/Desktop/UofA/4.Winter-2025/ece-910/Batman/Batman-(1989)-002/Batman (1989)-002_part_630.mp4\n",
      "📸 Total Frames: 83\n"
     ]
    },
    {
     "name": "stderr",
     "output_type": "stream",
     "text": [
      "Extracting Frames from Batman (1989)-002_part_630.mp4: 100%|██████████| 83/83 [00:00<00:00, 576.90it/s]\n"
     ]
    },
    {
     "name": "stdout",
     "output_type": "stream",
     "text": [
      "✅ Saved frames in: /Users/mario/Desktop/Desktop/UofA/4.Winter-2025/ece-910/Batman/VLM-testing/batman-frames/Batman (1989)-002_part_630\n",
      "\n",
      "🎥 Processing: /Users/mario/Desktop/Desktop/UofA/4.Winter-2025/ece-910/Batman/Batman-(1989)-002/Batman (1989)-002_part_631.mp4\n",
      "📸 Total Frames: 419\n"
     ]
    },
    {
     "name": "stderr",
     "output_type": "stream",
     "text": [
      "Extracting Frames from Batman (1989)-002_part_631.mp4: 100%|██████████| 419/419 [00:00<00:00, 645.60it/s]\n"
     ]
    },
    {
     "name": "stdout",
     "output_type": "stream",
     "text": [
      "✅ Saved frames in: /Users/mario/Desktop/Desktop/UofA/4.Winter-2025/ece-910/Batman/VLM-testing/batman-frames/Batman (1989)-002_part_631\n",
      "\n",
      "🎥 Processing: /Users/mario/Desktop/Desktop/UofA/4.Winter-2025/ece-910/Batman/Batman-(1989)-002/Batman (1989)-002_part_632.mp4\n",
      "📸 Total Frames: 81\n"
     ]
    },
    {
     "name": "stderr",
     "output_type": "stream",
     "text": [
      "Extracting Frames from Batman (1989)-002_part_632.mp4: 100%|██████████| 81/81 [00:00<00:00, 568.75it/s]\n"
     ]
    },
    {
     "name": "stdout",
     "output_type": "stream",
     "text": [
      "✅ Saved frames in: /Users/mario/Desktop/Desktop/UofA/4.Winter-2025/ece-910/Batman/VLM-testing/batman-frames/Batman (1989)-002_part_632\n",
      "\n",
      "🎥 Processing: /Users/mario/Desktop/Desktop/UofA/4.Winter-2025/ece-910/Batman/Batman-(1989)-002/Batman (1989)-002_part_633.mp4\n",
      "📸 Total Frames: 87\n"
     ]
    },
    {
     "name": "stderr",
     "output_type": "stream",
     "text": [
      "Extracting Frames from Batman (1989)-002_part_633.mp4: 100%|██████████| 87/87 [00:00<00:00, 579.59it/s]\n"
     ]
    },
    {
     "name": "stdout",
     "output_type": "stream",
     "text": [
      "✅ Saved frames in: /Users/mario/Desktop/Desktop/UofA/4.Winter-2025/ece-910/Batman/VLM-testing/batman-frames/Batman (1989)-002_part_633\n",
      "\n",
      "🎥 Processing: /Users/mario/Desktop/Desktop/UofA/4.Winter-2025/ece-910/Batman/Batman-(1989)-002/Batman (1989)-002_part_634.mp4\n",
      "📸 Total Frames: 2\n"
     ]
    },
    {
     "name": "stderr",
     "output_type": "stream",
     "text": [
      "Extracting Frames from Batman (1989)-002_part_634.mp4: 100%|██████████| 2/2 [00:00<00:00, 429.57it/s]\n"
     ]
    },
    {
     "name": "stdout",
     "output_type": "stream",
     "text": [
      "✅ Saved frames in: /Users/mario/Desktop/Desktop/UofA/4.Winter-2025/ece-910/Batman/VLM-testing/batman-frames/Batman (1989)-002_part_634\n",
      "\n",
      "🎥 Processing: /Users/mario/Desktop/Desktop/UofA/4.Winter-2025/ece-910/Batman/Batman-(1989)-002/Batman (1989)-002_part_635.mp4\n",
      "📸 Total Frames: 366\n"
     ]
    },
    {
     "name": "stderr",
     "output_type": "stream",
     "text": [
      "Extracting Frames from Batman (1989)-002_part_635.mp4: 100%|██████████| 366/366 [00:00<00:00, 618.53it/s]\n"
     ]
    },
    {
     "name": "stdout",
     "output_type": "stream",
     "text": [
      "✅ Saved frames in: /Users/mario/Desktop/Desktop/UofA/4.Winter-2025/ece-910/Batman/VLM-testing/batman-frames/Batman (1989)-002_part_635\n",
      "\n",
      "🎥 Processing: /Users/mario/Desktop/Desktop/UofA/4.Winter-2025/ece-910/Batman/Batman-(1989)-002/Batman (1989)-002_part_636.mp4\n",
      "📸 Total Frames: 279\n"
     ]
    },
    {
     "name": "stderr",
     "output_type": "stream",
     "text": [
      "Extracting Frames from Batman (1989)-002_part_636.mp4: 100%|██████████| 279/279 [00:00<00:00, 644.59it/s]\n"
     ]
    },
    {
     "name": "stdout",
     "output_type": "stream",
     "text": [
      "✅ Saved frames in: /Users/mario/Desktop/Desktop/UofA/4.Winter-2025/ece-910/Batman/VLM-testing/batman-frames/Batman (1989)-002_part_636\n",
      "\n",
      "🎥 Processing: /Users/mario/Desktop/Desktop/UofA/4.Winter-2025/ece-910/Batman/Batman-(1989)-002/Batman (1989)-002_part_637.mp4\n",
      "📸 Total Frames: 381\n"
     ]
    },
    {
     "name": "stderr",
     "output_type": "stream",
     "text": [
      "Extracting Frames from Batman (1989)-002_part_637.mp4: 100%|██████████| 381/381 [00:00<00:00, 594.68it/s]\n"
     ]
    },
    {
     "name": "stdout",
     "output_type": "stream",
     "text": [
      "✅ Saved frames in: /Users/mario/Desktop/Desktop/UofA/4.Winter-2025/ece-910/Batman/VLM-testing/batman-frames/Batman (1989)-002_part_637\n",
      "\n",
      "🎥 Processing: /Users/mario/Desktop/Desktop/UofA/4.Winter-2025/ece-910/Batman/Batman-(1989)-002/Batman (1989)-002_part_638.mp4\n",
      "📸 Total Frames: 295\n"
     ]
    },
    {
     "name": "stderr",
     "output_type": "stream",
     "text": [
      "Extracting Frames from Batman (1989)-002_part_638.mp4: 100%|██████████| 295/295 [00:00<00:00, 623.20it/s]\n"
     ]
    },
    {
     "name": "stdout",
     "output_type": "stream",
     "text": [
      "✅ Saved frames in: /Users/mario/Desktop/Desktop/UofA/4.Winter-2025/ece-910/Batman/VLM-testing/batman-frames/Batman (1989)-002_part_638\n",
      "\n",
      "🎥 Processing: /Users/mario/Desktop/Desktop/UofA/4.Winter-2025/ece-910/Batman/Batman-(1989)-002/Batman (1989)-002_part_639.mp4\n",
      "📸 Total Frames: 36\n"
     ]
    },
    {
     "name": "stderr",
     "output_type": "stream",
     "text": [
      "Extracting Frames from Batman (1989)-002_part_639.mp4: 100%|██████████| 36/36 [00:00<00:00, 503.73it/s]\n"
     ]
    },
    {
     "name": "stdout",
     "output_type": "stream",
     "text": [
      "✅ Saved frames in: /Users/mario/Desktop/Desktop/UofA/4.Winter-2025/ece-910/Batman/VLM-testing/batman-frames/Batman (1989)-002_part_639\n",
      "\n",
      "🎥 Processing: /Users/mario/Desktop/Desktop/UofA/4.Winter-2025/ece-910/Batman/Batman-(1989)-002/Batman (1989)-002_part_64.mp4\n",
      "📸 Total Frames: 42\n"
     ]
    },
    {
     "name": "stderr",
     "output_type": "stream",
     "text": [
      "Extracting Frames from Batman (1989)-002_part_64.mp4: 100%|██████████| 42/42 [00:00<00:00, 563.06it/s]\n"
     ]
    },
    {
     "name": "stdout",
     "output_type": "stream",
     "text": [
      "✅ Saved frames in: /Users/mario/Desktop/Desktop/UofA/4.Winter-2025/ece-910/Batman/VLM-testing/batman-frames/Batman (1989)-002_part_64\n",
      "\n",
      "🎥 Processing: /Users/mario/Desktop/Desktop/UofA/4.Winter-2025/ece-910/Batman/Batman-(1989)-002/Batman (1989)-002_part_640.mp4\n",
      "📸 Total Frames: 157\n"
     ]
    },
    {
     "name": "stderr",
     "output_type": "stream",
     "text": [
      "Extracting Frames from Batman (1989)-002_part_640.mp4: 100%|██████████| 157/157 [00:00<00:00, 598.05it/s]\n"
     ]
    },
    {
     "name": "stdout",
     "output_type": "stream",
     "text": [
      "✅ Saved frames in: /Users/mario/Desktop/Desktop/UofA/4.Winter-2025/ece-910/Batman/VLM-testing/batman-frames/Batman (1989)-002_part_640\n",
      "\n",
      "🎥 Processing: /Users/mario/Desktop/Desktop/UofA/4.Winter-2025/ece-910/Batman/Batman-(1989)-002/Batman (1989)-002_part_641.mp4\n",
      "📸 Total Frames: 1047\n"
     ]
    },
    {
     "name": "stderr",
     "output_type": "stream",
     "text": [
      "Extracting Frames from Batman (1989)-002_part_641.mp4: 100%|██████████| 1047/1047 [00:01<00:00, 604.54it/s]\n"
     ]
    },
    {
     "name": "stdout",
     "output_type": "stream",
     "text": [
      "✅ Saved frames in: /Users/mario/Desktop/Desktop/UofA/4.Winter-2025/ece-910/Batman/VLM-testing/batman-frames/Batman (1989)-002_part_641\n",
      "\n",
      "🎥 Processing: /Users/mario/Desktop/Desktop/UofA/4.Winter-2025/ece-910/Batman/Batman-(1989)-002/Batman (1989)-002_part_642.mp4\n",
      "📸 Total Frames: 28\n"
     ]
    },
    {
     "name": "stderr",
     "output_type": "stream",
     "text": [
      "Extracting Frames from Batman (1989)-002_part_642.mp4: 100%|██████████| 28/28 [00:00<00:00, 94.77it/s] \n"
     ]
    },
    {
     "name": "stdout",
     "output_type": "stream",
     "text": [
      "✅ Saved frames in: /Users/mario/Desktop/Desktop/UofA/4.Winter-2025/ece-910/Batman/VLM-testing/batman-frames/Batman (1989)-002_part_642\n",
      "\n",
      "🎥 Processing: /Users/mario/Desktop/Desktop/UofA/4.Winter-2025/ece-910/Batman/Batman-(1989)-002/Batman (1989)-002_part_643.mp4\n",
      "📸 Total Frames: 122\n"
     ]
    },
    {
     "name": "stderr",
     "output_type": "stream",
     "text": [
      "Extracting Frames from Batman (1989)-002_part_643.mp4: 100%|██████████| 122/122 [00:00<00:00, 582.34it/s]\n"
     ]
    },
    {
     "name": "stdout",
     "output_type": "stream",
     "text": [
      "✅ Saved frames in: /Users/mario/Desktop/Desktop/UofA/4.Winter-2025/ece-910/Batman/VLM-testing/batman-frames/Batman (1989)-002_part_643\n",
      "\n",
      "🎥 Processing: /Users/mario/Desktop/Desktop/UofA/4.Winter-2025/ece-910/Batman/Batman-(1989)-002/Batman (1989)-002_part_644.mp4\n",
      "📸 Total Frames: 29\n"
     ]
    },
    {
     "name": "stderr",
     "output_type": "stream",
     "text": [
      "Extracting Frames from Batman (1989)-002_part_644.mp4: 100%|██████████| 29/29 [00:00<00:00, 537.24it/s]\n"
     ]
    },
    {
     "name": "stdout",
     "output_type": "stream",
     "text": [
      "✅ Saved frames in: /Users/mario/Desktop/Desktop/UofA/4.Winter-2025/ece-910/Batman/VLM-testing/batman-frames/Batman (1989)-002_part_644\n",
      "\n",
      "🎥 Processing: /Users/mario/Desktop/Desktop/UofA/4.Winter-2025/ece-910/Batman/Batman-(1989)-002/Batman (1989)-002_part_645.mp4\n",
      "📸 Total Frames: 44\n"
     ]
    },
    {
     "name": "stderr",
     "output_type": "stream",
     "text": [
      "Extracting Frames from Batman (1989)-002_part_645.mp4: 100%|██████████| 44/44 [00:00<00:00, 507.34it/s]\n"
     ]
    },
    {
     "name": "stdout",
     "output_type": "stream",
     "text": [
      "✅ Saved frames in: /Users/mario/Desktop/Desktop/UofA/4.Winter-2025/ece-910/Batman/VLM-testing/batman-frames/Batman (1989)-002_part_645\n",
      "\n",
      "🎥 Processing: /Users/mario/Desktop/Desktop/UofA/4.Winter-2025/ece-910/Batman/Batman-(1989)-002/Batman (1989)-002_part_646.mp4\n",
      "📸 Total Frames: 31\n"
     ]
    },
    {
     "name": "stderr",
     "output_type": "stream",
     "text": [
      "Extracting Frames from Batman (1989)-002_part_646.mp4: 100%|██████████| 31/31 [00:00<00:00, 561.85it/s]\n"
     ]
    },
    {
     "name": "stdout",
     "output_type": "stream",
     "text": [
      "✅ Saved frames in: /Users/mario/Desktop/Desktop/UofA/4.Winter-2025/ece-910/Batman/VLM-testing/batman-frames/Batman (1989)-002_part_646\n",
      "\n",
      "🎥 Processing: /Users/mario/Desktop/Desktop/UofA/4.Winter-2025/ece-910/Batman/Batman-(1989)-002/Batman (1989)-002_part_647.mp4\n",
      "📸 Total Frames: 270\n"
     ]
    },
    {
     "name": "stderr",
     "output_type": "stream",
     "text": [
      "Extracting Frames from Batman (1989)-002_part_647.mp4: 100%|██████████| 270/270 [00:00<00:00, 599.43it/s]\n"
     ]
    },
    {
     "name": "stdout",
     "output_type": "stream",
     "text": [
      "✅ Saved frames in: /Users/mario/Desktop/Desktop/UofA/4.Winter-2025/ece-910/Batman/VLM-testing/batman-frames/Batman (1989)-002_part_647\n",
      "\n",
      "🎥 Processing: /Users/mario/Desktop/Desktop/UofA/4.Winter-2025/ece-910/Batman/Batman-(1989)-002/Batman (1989)-002_part_648.mp4\n",
      "📸 Total Frames: 40\n"
     ]
    },
    {
     "name": "stderr",
     "output_type": "stream",
     "text": [
      "Extracting Frames from Batman (1989)-002_part_648.mp4: 100%|██████████| 40/40 [00:00<00:00, 587.69it/s]\n"
     ]
    },
    {
     "name": "stdout",
     "output_type": "stream",
     "text": [
      "✅ Saved frames in: /Users/mario/Desktop/Desktop/UofA/4.Winter-2025/ece-910/Batman/VLM-testing/batman-frames/Batman (1989)-002_part_648\n",
      "\n",
      "🎥 Processing: /Users/mario/Desktop/Desktop/UofA/4.Winter-2025/ece-910/Batman/Batman-(1989)-002/Batman (1989)-002_part_649.mp4\n",
      "📸 Total Frames: 153\n"
     ]
    },
    {
     "name": "stderr",
     "output_type": "stream",
     "text": [
      "Extracting Frames from Batman (1989)-002_part_649.mp4: 100%|██████████| 153/153 [00:00<00:00, 617.36it/s]\n"
     ]
    },
    {
     "name": "stdout",
     "output_type": "stream",
     "text": [
      "✅ Saved frames in: /Users/mario/Desktop/Desktop/UofA/4.Winter-2025/ece-910/Batman/VLM-testing/batman-frames/Batman (1989)-002_part_649\n",
      "\n",
      "🎥 Processing: /Users/mario/Desktop/Desktop/UofA/4.Winter-2025/ece-910/Batman/Batman-(1989)-002/Batman (1989)-002_part_65.mp4\n",
      "📸 Total Frames: 73\n"
     ]
    },
    {
     "name": "stderr",
     "output_type": "stream",
     "text": [
      "Extracting Frames from Batman (1989)-002_part_65.mp4: 100%|██████████| 73/73 [00:00<00:00, 589.74it/s]\n"
     ]
    },
    {
     "name": "stdout",
     "output_type": "stream",
     "text": [
      "✅ Saved frames in: /Users/mario/Desktop/Desktop/UofA/4.Winter-2025/ece-910/Batman/VLM-testing/batman-frames/Batman (1989)-002_part_65\n",
      "\n",
      "🎥 Processing: /Users/mario/Desktop/Desktop/UofA/4.Winter-2025/ece-910/Batman/Batman-(1989)-002/Batman (1989)-002_part_650.mp4\n",
      "📸 Total Frames: 505\n"
     ]
    },
    {
     "name": "stderr",
     "output_type": "stream",
     "text": [
      "Extracting Frames from Batman (1989)-002_part_650.mp4: 100%|██████████| 505/505 [00:00<00:00, 600.45it/s]\n"
     ]
    },
    {
     "name": "stdout",
     "output_type": "stream",
     "text": [
      "✅ Saved frames in: /Users/mario/Desktop/Desktop/UofA/4.Winter-2025/ece-910/Batman/VLM-testing/batman-frames/Batman (1989)-002_part_650\n",
      "\n",
      "🎥 Processing: /Users/mario/Desktop/Desktop/UofA/4.Winter-2025/ece-910/Batman/Batman-(1989)-002/Batman (1989)-002_part_651.mp4\n",
      "📸 Total Frames: 52\n"
     ]
    },
    {
     "name": "stderr",
     "output_type": "stream",
     "text": [
      "Extracting Frames from Batman (1989)-002_part_651.mp4: 100%|██████████| 52/52 [00:00<00:00, 556.48it/s]\n"
     ]
    },
    {
     "name": "stdout",
     "output_type": "stream",
     "text": [
      "✅ Saved frames in: /Users/mario/Desktop/Desktop/UofA/4.Winter-2025/ece-910/Batman/VLM-testing/batman-frames/Batman (1989)-002_part_651\n",
      "\n",
      "🎥 Processing: /Users/mario/Desktop/Desktop/UofA/4.Winter-2025/ece-910/Batman/Batman-(1989)-002/Batman (1989)-002_part_652.mp4\n",
      "📸 Total Frames: 436\n"
     ]
    },
    {
     "name": "stderr",
     "output_type": "stream",
     "text": [
      "Extracting Frames from Batman (1989)-002_part_652.mp4: 100%|██████████| 436/436 [00:00<00:00, 619.34it/s]\n"
     ]
    },
    {
     "name": "stdout",
     "output_type": "stream",
     "text": [
      "✅ Saved frames in: /Users/mario/Desktop/Desktop/UofA/4.Winter-2025/ece-910/Batman/VLM-testing/batman-frames/Batman (1989)-002_part_652\n",
      "\n",
      "🎥 Processing: /Users/mario/Desktop/Desktop/UofA/4.Winter-2025/ece-910/Batman/Batman-(1989)-002/Batman (1989)-002_part_653.mp4\n",
      "📸 Total Frames: 49\n"
     ]
    },
    {
     "name": "stderr",
     "output_type": "stream",
     "text": [
      "Extracting Frames from Batman (1989)-002_part_653.mp4: 100%|██████████| 49/49 [00:00<00:00, 597.43it/s]\n"
     ]
    },
    {
     "name": "stdout",
     "output_type": "stream",
     "text": [
      "✅ Saved frames in: /Users/mario/Desktop/Desktop/UofA/4.Winter-2025/ece-910/Batman/VLM-testing/batman-frames/Batman (1989)-002_part_653\n",
      "\n",
      "🎥 Processing: /Users/mario/Desktop/Desktop/UofA/4.Winter-2025/ece-910/Batman/Batman-(1989)-002/Batman (1989)-002_part_654.mp4\n",
      "📸 Total Frames: 124\n"
     ]
    },
    {
     "name": "stderr",
     "output_type": "stream",
     "text": [
      "Extracting Frames from Batman (1989)-002_part_654.mp4: 100%|██████████| 124/124 [00:00<00:00, 605.59it/s]\n"
     ]
    },
    {
     "name": "stdout",
     "output_type": "stream",
     "text": [
      "✅ Saved frames in: /Users/mario/Desktop/Desktop/UofA/4.Winter-2025/ece-910/Batman/VLM-testing/batman-frames/Batman (1989)-002_part_654\n",
      "\n",
      "🎥 Processing: /Users/mario/Desktop/Desktop/UofA/4.Winter-2025/ece-910/Batman/Batman-(1989)-002/Batman (1989)-002_part_655.mp4\n",
      "📸 Total Frames: 40\n"
     ]
    },
    {
     "name": "stderr",
     "output_type": "stream",
     "text": [
      "Extracting Frames from Batman (1989)-002_part_655.mp4: 100%|██████████| 40/40 [00:00<00:00, 552.88it/s]\n"
     ]
    },
    {
     "name": "stdout",
     "output_type": "stream",
     "text": [
      "✅ Saved frames in: /Users/mario/Desktop/Desktop/UofA/4.Winter-2025/ece-910/Batman/VLM-testing/batman-frames/Batman (1989)-002_part_655\n",
      "\n",
      "🎥 Processing: /Users/mario/Desktop/Desktop/UofA/4.Winter-2025/ece-910/Batman/Batman-(1989)-002/Batman (1989)-002_part_656.mp4\n",
      "📸 Total Frames: 131\n"
     ]
    },
    {
     "name": "stderr",
     "output_type": "stream",
     "text": [
      "Extracting Frames from Batman (1989)-002_part_656.mp4: 100%|██████████| 131/131 [00:00<00:00, 603.53it/s]\n"
     ]
    },
    {
     "name": "stdout",
     "output_type": "stream",
     "text": [
      "✅ Saved frames in: /Users/mario/Desktop/Desktop/UofA/4.Winter-2025/ece-910/Batman/VLM-testing/batman-frames/Batman (1989)-002_part_656\n",
      "\n",
      "🎥 Processing: /Users/mario/Desktop/Desktop/UofA/4.Winter-2025/ece-910/Batman/Batman-(1989)-002/Batman (1989)-002_part_657.mp4\n",
      "📸 Total Frames: 67\n"
     ]
    },
    {
     "name": "stderr",
     "output_type": "stream",
     "text": [
      "Extracting Frames from Batman (1989)-002_part_657.mp4: 100%|██████████| 67/67 [00:00<00:00, 594.27it/s]\n"
     ]
    },
    {
     "name": "stdout",
     "output_type": "stream",
     "text": [
      "✅ Saved frames in: /Users/mario/Desktop/Desktop/UofA/4.Winter-2025/ece-910/Batman/VLM-testing/batman-frames/Batman (1989)-002_part_657\n",
      "\n",
      "🎥 Processing: /Users/mario/Desktop/Desktop/UofA/4.Winter-2025/ece-910/Batman/Batman-(1989)-002/Batman (1989)-002_part_658.mp4\n",
      "📸 Total Frames: 79\n"
     ]
    },
    {
     "name": "stderr",
     "output_type": "stream",
     "text": [
      "Extracting Frames from Batman (1989)-002_part_658.mp4: 100%|██████████| 79/79 [00:00<00:00, 569.76it/s]\n"
     ]
    },
    {
     "name": "stdout",
     "output_type": "stream",
     "text": [
      "✅ Saved frames in: /Users/mario/Desktop/Desktop/UofA/4.Winter-2025/ece-910/Batman/VLM-testing/batman-frames/Batman (1989)-002_part_658\n",
      "\n",
      "🎥 Processing: /Users/mario/Desktop/Desktop/UofA/4.Winter-2025/ece-910/Batman/Batman-(1989)-002/Batman (1989)-002_part_659.mp4\n",
      "📸 Total Frames: 29\n"
     ]
    },
    {
     "name": "stderr",
     "output_type": "stream",
     "text": [
      "Extracting Frames from Batman (1989)-002_part_659.mp4: 100%|██████████| 29/29 [00:00<00:00, 595.38it/s]\n"
     ]
    },
    {
     "name": "stdout",
     "output_type": "stream",
     "text": [
      "✅ Saved frames in: /Users/mario/Desktop/Desktop/UofA/4.Winter-2025/ece-910/Batman/VLM-testing/batman-frames/Batman (1989)-002_part_659\n",
      "\n",
      "🎥 Processing: /Users/mario/Desktop/Desktop/UofA/4.Winter-2025/ece-910/Batman/Batman-(1989)-002/Batman (1989)-002_part_66.mp4\n",
      "📸 Total Frames: 1663\n"
     ]
    },
    {
     "name": "stderr",
     "output_type": "stream",
     "text": [
      "Extracting Frames from Batman (1989)-002_part_66.mp4: 100%|██████████| 1663/1663 [00:02<00:00, 591.82it/s]\n"
     ]
    },
    {
     "name": "stdout",
     "output_type": "stream",
     "text": [
      "✅ Saved frames in: /Users/mario/Desktop/Desktop/UofA/4.Winter-2025/ece-910/Batman/VLM-testing/batman-frames/Batman (1989)-002_part_66\n",
      "\n",
      "🎥 Processing: /Users/mario/Desktop/Desktop/UofA/4.Winter-2025/ece-910/Batman/Batman-(1989)-002/Batman (1989)-002_part_660.mp4\n",
      "📸 Total Frames: 130\n"
     ]
    },
    {
     "name": "stderr",
     "output_type": "stream",
     "text": [
      "Extracting Frames from Batman (1989)-002_part_660.mp4: 100%|██████████| 130/130 [00:00<00:00, 584.36it/s]\n"
     ]
    },
    {
     "name": "stdout",
     "output_type": "stream",
     "text": [
      "✅ Saved frames in: /Users/mario/Desktop/Desktop/UofA/4.Winter-2025/ece-910/Batman/VLM-testing/batman-frames/Batman (1989)-002_part_660\n",
      "\n",
      "🎥 Processing: /Users/mario/Desktop/Desktop/UofA/4.Winter-2025/ece-910/Batman/Batman-(1989)-002/Batman (1989)-002_part_661.mp4\n",
      "📸 Total Frames: 57\n"
     ]
    },
    {
     "name": "stderr",
     "output_type": "stream",
     "text": [
      "Extracting Frames from Batman (1989)-002_part_661.mp4: 100%|██████████| 57/57 [00:00<00:00, 613.27it/s]\n"
     ]
    },
    {
     "name": "stdout",
     "output_type": "stream",
     "text": [
      "✅ Saved frames in: /Users/mario/Desktop/Desktop/UofA/4.Winter-2025/ece-910/Batman/VLM-testing/batman-frames/Batman (1989)-002_part_661\n",
      "\n",
      "🎥 Processing: /Users/mario/Desktop/Desktop/UofA/4.Winter-2025/ece-910/Batman/Batman-(1989)-002/Batman (1989)-002_part_662.mp4\n",
      "📸 Total Frames: 138\n"
     ]
    },
    {
     "name": "stderr",
     "output_type": "stream",
     "text": [
      "Extracting Frames from Batman (1989)-002_part_662.mp4: 100%|██████████| 138/138 [00:00<00:00, 618.72it/s]\n"
     ]
    },
    {
     "name": "stdout",
     "output_type": "stream",
     "text": [
      "✅ Saved frames in: /Users/mario/Desktop/Desktop/UofA/4.Winter-2025/ece-910/Batman/VLM-testing/batman-frames/Batman (1989)-002_part_662\n",
      "\n",
      "🎥 Processing: /Users/mario/Desktop/Desktop/UofA/4.Winter-2025/ece-910/Batman/Batman-(1989)-002/Batman (1989)-002_part_663.mp4\n",
      "📸 Total Frames: 42\n"
     ]
    },
    {
     "name": "stderr",
     "output_type": "stream",
     "text": [
      "Extracting Frames from Batman (1989)-002_part_663.mp4: 100%|██████████| 42/42 [00:00<00:00, 547.97it/s]\n"
     ]
    },
    {
     "name": "stdout",
     "output_type": "stream",
     "text": [
      "✅ Saved frames in: /Users/mario/Desktop/Desktop/UofA/4.Winter-2025/ece-910/Batman/VLM-testing/batman-frames/Batman (1989)-002_part_663\n",
      "\n",
      "🎥 Processing: /Users/mario/Desktop/Desktop/UofA/4.Winter-2025/ece-910/Batman/Batman-(1989)-002/Batman (1989)-002_part_664.mp4\n",
      "📸 Total Frames: 11\n"
     ]
    },
    {
     "name": "stderr",
     "output_type": "stream",
     "text": [
      "Extracting Frames from Batman (1989)-002_part_664.mp4: 100%|██████████| 11/11 [00:00<00:00, 528.70it/s]\n"
     ]
    },
    {
     "name": "stdout",
     "output_type": "stream",
     "text": [
      "✅ Saved frames in: /Users/mario/Desktop/Desktop/UofA/4.Winter-2025/ece-910/Batman/VLM-testing/batman-frames/Batman (1989)-002_part_664\n",
      "\n",
      "🎥 Processing: /Users/mario/Desktop/Desktop/UofA/4.Winter-2025/ece-910/Batman/Batman-(1989)-002/Batman (1989)-002_part_665.mp4\n",
      "📸 Total Frames: 29\n"
     ]
    },
    {
     "name": "stderr",
     "output_type": "stream",
     "text": [
      "Extracting Frames from Batman (1989)-002_part_665.mp4: 100%|██████████| 29/29 [00:00<00:00, 608.39it/s]\n"
     ]
    },
    {
     "name": "stdout",
     "output_type": "stream",
     "text": [
      "✅ Saved frames in: /Users/mario/Desktop/Desktop/UofA/4.Winter-2025/ece-910/Batman/VLM-testing/batman-frames/Batman (1989)-002_part_665\n",
      "\n",
      "🎥 Processing: /Users/mario/Desktop/Desktop/UofA/4.Winter-2025/ece-910/Batman/Batman-(1989)-002/Batman (1989)-002_part_666.mp4\n",
      "📸 Total Frames: 20\n"
     ]
    },
    {
     "name": "stderr",
     "output_type": "stream",
     "text": [
      "Extracting Frames from Batman (1989)-002_part_666.mp4: 100%|██████████| 20/20 [00:00<00:00, 521.42it/s]\n"
     ]
    },
    {
     "name": "stdout",
     "output_type": "stream",
     "text": [
      "✅ Saved frames in: /Users/mario/Desktop/Desktop/UofA/4.Winter-2025/ece-910/Batman/VLM-testing/batman-frames/Batman (1989)-002_part_666\n",
      "\n",
      "🎥 Processing: /Users/mario/Desktop/Desktop/UofA/4.Winter-2025/ece-910/Batman/Batman-(1989)-002/Batman (1989)-002_part_667.mp4\n",
      "📸 Total Frames: 97\n"
     ]
    },
    {
     "name": "stderr",
     "output_type": "stream",
     "text": [
      "Extracting Frames from Batman (1989)-002_part_667.mp4: 100%|██████████| 97/97 [00:00<00:00, 587.77it/s]\n"
     ]
    },
    {
     "name": "stdout",
     "output_type": "stream",
     "text": [
      "✅ Saved frames in: /Users/mario/Desktop/Desktop/UofA/4.Winter-2025/ece-910/Batman/VLM-testing/batman-frames/Batman (1989)-002_part_667\n",
      "\n",
      "🎥 Processing: /Users/mario/Desktop/Desktop/UofA/4.Winter-2025/ece-910/Batman/Batman-(1989)-002/Batman (1989)-002_part_668.mp4\n",
      "📸 Total Frames: 30\n"
     ]
    },
    {
     "name": "stderr",
     "output_type": "stream",
     "text": [
      "Extracting Frames from Batman (1989)-002_part_668.mp4: 100%|██████████| 30/30 [00:00<00:00, 558.84it/s]\n"
     ]
    },
    {
     "name": "stdout",
     "output_type": "stream",
     "text": [
      "✅ Saved frames in: /Users/mario/Desktop/Desktop/UofA/4.Winter-2025/ece-910/Batman/VLM-testing/batman-frames/Batman (1989)-002_part_668\n",
      "\n",
      "🎥 Processing: /Users/mario/Desktop/Desktop/UofA/4.Winter-2025/ece-910/Batman/Batman-(1989)-002/Batman (1989)-002_part_669.mp4\n",
      "📸 Total Frames: 42\n"
     ]
    },
    {
     "name": "stderr",
     "output_type": "stream",
     "text": [
      "Extracting Frames from Batman (1989)-002_part_669.mp4: 100%|██████████| 42/42 [00:00<00:00, 554.61it/s]\n"
     ]
    },
    {
     "name": "stdout",
     "output_type": "stream",
     "text": [
      "✅ Saved frames in: /Users/mario/Desktop/Desktop/UofA/4.Winter-2025/ece-910/Batman/VLM-testing/batman-frames/Batman (1989)-002_part_669\n",
      "\n",
      "🎥 Processing: /Users/mario/Desktop/Desktop/UofA/4.Winter-2025/ece-910/Batman/Batman-(1989)-002/Batman (1989)-002_part_67.mp4\n",
      "📸 Total Frames: 209\n"
     ]
    },
    {
     "name": "stderr",
     "output_type": "stream",
     "text": [
      "Extracting Frames from Batman (1989)-002_part_67.mp4: 100%|██████████| 209/209 [00:00<00:00, 610.50it/s]\n"
     ]
    },
    {
     "name": "stdout",
     "output_type": "stream",
     "text": [
      "✅ Saved frames in: /Users/mario/Desktop/Desktop/UofA/4.Winter-2025/ece-910/Batman/VLM-testing/batman-frames/Batman (1989)-002_part_67\n",
      "\n",
      "🎥 Processing: /Users/mario/Desktop/Desktop/UofA/4.Winter-2025/ece-910/Batman/Batman-(1989)-002/Batman (1989)-002_part_670.mp4\n",
      "📸 Total Frames: 210\n"
     ]
    },
    {
     "name": "stderr",
     "output_type": "stream",
     "text": [
      "Extracting Frames from Batman (1989)-002_part_670.mp4: 100%|██████████| 210/210 [00:00<00:00, 501.29it/s]\n"
     ]
    },
    {
     "name": "stdout",
     "output_type": "stream",
     "text": [
      "✅ Saved frames in: /Users/mario/Desktop/Desktop/UofA/4.Winter-2025/ece-910/Batman/VLM-testing/batman-frames/Batman (1989)-002_part_670\n",
      "\n",
      "🎥 Processing: /Users/mario/Desktop/Desktop/UofA/4.Winter-2025/ece-910/Batman/Batman-(1989)-002/Batman (1989)-002_part_671.mp4\n",
      "📸 Total Frames: 203\n"
     ]
    },
    {
     "name": "stderr",
     "output_type": "stream",
     "text": [
      "Extracting Frames from Batman (1989)-002_part_671.mp4: 100%|██████████| 203/203 [00:00<00:00, 592.02it/s]\n"
     ]
    },
    {
     "name": "stdout",
     "output_type": "stream",
     "text": [
      "✅ Saved frames in: /Users/mario/Desktop/Desktop/UofA/4.Winter-2025/ece-910/Batman/VLM-testing/batman-frames/Batman (1989)-002_part_671\n",
      "\n",
      "🎥 Processing: /Users/mario/Desktop/Desktop/UofA/4.Winter-2025/ece-910/Batman/Batman-(1989)-002/Batman (1989)-002_part_672.mp4\n",
      "📸 Total Frames: 231\n"
     ]
    },
    {
     "name": "stderr",
     "output_type": "stream",
     "text": [
      "Extracting Frames from Batman (1989)-002_part_672.mp4: 100%|██████████| 231/231 [00:00<00:00, 597.76it/s]\n"
     ]
    },
    {
     "name": "stdout",
     "output_type": "stream",
     "text": [
      "✅ Saved frames in: /Users/mario/Desktop/Desktop/UofA/4.Winter-2025/ece-910/Batman/VLM-testing/batman-frames/Batman (1989)-002_part_672\n",
      "\n",
      "🎥 Processing: /Users/mario/Desktop/Desktop/UofA/4.Winter-2025/ece-910/Batman/Batman-(1989)-002/Batman (1989)-002_part_673.mp4\n",
      "📸 Total Frames: 29\n"
     ]
    },
    {
     "name": "stderr",
     "output_type": "stream",
     "text": [
      "Extracting Frames from Batman (1989)-002_part_673.mp4: 100%|██████████| 29/29 [00:00<00:00, 570.46it/s]\n"
     ]
    },
    {
     "name": "stdout",
     "output_type": "stream",
     "text": [
      "✅ Saved frames in: /Users/mario/Desktop/Desktop/UofA/4.Winter-2025/ece-910/Batman/VLM-testing/batman-frames/Batman (1989)-002_part_673\n",
      "\n",
      "🎥 Processing: /Users/mario/Desktop/Desktop/UofA/4.Winter-2025/ece-910/Batman/Batman-(1989)-002/Batman (1989)-002_part_674.mp4\n",
      "📸 Total Frames: 98\n"
     ]
    },
    {
     "name": "stderr",
     "output_type": "stream",
     "text": [
      "Extracting Frames from Batman (1989)-002_part_674.mp4: 100%|██████████| 98/98 [00:00<00:00, 615.49it/s]\n"
     ]
    },
    {
     "name": "stdout",
     "output_type": "stream",
     "text": [
      "✅ Saved frames in: /Users/mario/Desktop/Desktop/UofA/4.Winter-2025/ece-910/Batman/VLM-testing/batman-frames/Batman (1989)-002_part_674\n",
      "\n",
      "🎥 Processing: /Users/mario/Desktop/Desktop/UofA/4.Winter-2025/ece-910/Batman/Batman-(1989)-002/Batman (1989)-002_part_675.mp4\n",
      "📸 Total Frames: 97\n"
     ]
    },
    {
     "name": "stderr",
     "output_type": "stream",
     "text": [
      "Extracting Frames from Batman (1989)-002_part_675.mp4: 100%|██████████| 97/97 [00:00<00:00, 313.29it/s]\n"
     ]
    },
    {
     "name": "stdout",
     "output_type": "stream",
     "text": [
      "✅ Saved frames in: /Users/mario/Desktop/Desktop/UofA/4.Winter-2025/ece-910/Batman/VLM-testing/batman-frames/Batman (1989)-002_part_675\n",
      "\n",
      "🎥 Processing: /Users/mario/Desktop/Desktop/UofA/4.Winter-2025/ece-910/Batman/Batman-(1989)-002/Batman (1989)-002_part_676.mp4\n",
      "📸 Total Frames: 144\n"
     ]
    },
    {
     "name": "stderr",
     "output_type": "stream",
     "text": [
      "Extracting Frames from Batman (1989)-002_part_676.mp4: 100%|██████████| 144/144 [00:00<00:00, 607.15it/s]\n"
     ]
    },
    {
     "name": "stdout",
     "output_type": "stream",
     "text": [
      "✅ Saved frames in: /Users/mario/Desktop/Desktop/UofA/4.Winter-2025/ece-910/Batman/VLM-testing/batman-frames/Batman (1989)-002_part_676\n",
      "\n",
      "🎥 Processing: /Users/mario/Desktop/Desktop/UofA/4.Winter-2025/ece-910/Batman/Batman-(1989)-002/Batman (1989)-002_part_677.mp4\n",
      "📸 Total Frames: 31\n"
     ]
    },
    {
     "name": "stderr",
     "output_type": "stream",
     "text": [
      "Extracting Frames from Batman (1989)-002_part_677.mp4: 100%|██████████| 31/31 [00:00<00:00, 551.01it/s]\n"
     ]
    },
    {
     "name": "stdout",
     "output_type": "stream",
     "text": [
      "✅ Saved frames in: /Users/mario/Desktop/Desktop/UofA/4.Winter-2025/ece-910/Batman/VLM-testing/batman-frames/Batman (1989)-002_part_677\n",
      "\n",
      "🎥 Processing: /Users/mario/Desktop/Desktop/UofA/4.Winter-2025/ece-910/Batman/Batman-(1989)-002/Batman (1989)-002_part_678.mp4\n",
      "📸 Total Frames: 183\n"
     ]
    },
    {
     "name": "stderr",
     "output_type": "stream",
     "text": [
      "Extracting Frames from Batman (1989)-002_part_678.mp4: 100%|██████████| 183/183 [00:00<00:00, 623.25it/s]\n"
     ]
    },
    {
     "name": "stdout",
     "output_type": "stream",
     "text": [
      "✅ Saved frames in: /Users/mario/Desktop/Desktop/UofA/4.Winter-2025/ece-910/Batman/VLM-testing/batman-frames/Batman (1989)-002_part_678\n",
      "\n",
      "🎥 Processing: /Users/mario/Desktop/Desktop/UofA/4.Winter-2025/ece-910/Batman/Batman-(1989)-002/Batman (1989)-002_part_679.mp4\n",
      "📸 Total Frames: 29\n"
     ]
    },
    {
     "name": "stderr",
     "output_type": "stream",
     "text": [
      "Extracting Frames from Batman (1989)-002_part_679.mp4: 100%|██████████| 29/29 [00:00<00:00, 196.37it/s]\n"
     ]
    },
    {
     "name": "stdout",
     "output_type": "stream",
     "text": [
      "✅ Saved frames in: /Users/mario/Desktop/Desktop/UofA/4.Winter-2025/ece-910/Batman/VLM-testing/batman-frames/Batman (1989)-002_part_679\n",
      "\n",
      "🎥 Processing: /Users/mario/Desktop/Desktop/UofA/4.Winter-2025/ece-910/Batman/Batman-(1989)-002/Batman (1989)-002_part_68.mp4\n",
      "📸 Total Frames: 157\n"
     ]
    },
    {
     "name": "stderr",
     "output_type": "stream",
     "text": [
      "Extracting Frames from Batman (1989)-002_part_68.mp4: 100%|██████████| 157/157 [00:00<00:00, 613.15it/s]\n"
     ]
    },
    {
     "name": "stdout",
     "output_type": "stream",
     "text": [
      "✅ Saved frames in: /Users/mario/Desktop/Desktop/UofA/4.Winter-2025/ece-910/Batman/VLM-testing/batman-frames/Batman (1989)-002_part_68\n",
      "\n",
      "🎥 Processing: /Users/mario/Desktop/Desktop/UofA/4.Winter-2025/ece-910/Batman/Batman-(1989)-002/Batman (1989)-002_part_680.mp4\n",
      "📸 Total Frames: 24\n"
     ]
    },
    {
     "name": "stderr",
     "output_type": "stream",
     "text": [
      "Extracting Frames from Batman (1989)-002_part_680.mp4: 100%|██████████| 24/24 [00:00<00:00, 546.84it/s]\n"
     ]
    },
    {
     "name": "stdout",
     "output_type": "stream",
     "text": [
      "✅ Saved frames in: /Users/mario/Desktop/Desktop/UofA/4.Winter-2025/ece-910/Batman/VLM-testing/batman-frames/Batman (1989)-002_part_680\n",
      "\n",
      "🎥 Processing: /Users/mario/Desktop/Desktop/UofA/4.Winter-2025/ece-910/Batman/Batman-(1989)-002/Batman (1989)-002_part_681.mp4\n",
      "📸 Total Frames: 32\n"
     ]
    },
    {
     "name": "stderr",
     "output_type": "stream",
     "text": [
      "Extracting Frames from Batman (1989)-002_part_681.mp4: 100%|██████████| 32/32 [00:00<00:00, 582.04it/s]\n"
     ]
    },
    {
     "name": "stdout",
     "output_type": "stream",
     "text": [
      "✅ Saved frames in: /Users/mario/Desktop/Desktop/UofA/4.Winter-2025/ece-910/Batman/VLM-testing/batman-frames/Batman (1989)-002_part_681\n",
      "\n",
      "🎥 Processing: /Users/mario/Desktop/Desktop/UofA/4.Winter-2025/ece-910/Batman/Batman-(1989)-002/Batman (1989)-002_part_682.mp4\n",
      "📸 Total Frames: 51\n"
     ]
    },
    {
     "name": "stderr",
     "output_type": "stream",
     "text": [
      "Extracting Frames from Batman (1989)-002_part_682.mp4: 100%|██████████| 51/51 [00:00<00:00, 605.12it/s]\n"
     ]
    },
    {
     "name": "stdout",
     "output_type": "stream",
     "text": [
      "✅ Saved frames in: /Users/mario/Desktop/Desktop/UofA/4.Winter-2025/ece-910/Batman/VLM-testing/batman-frames/Batman (1989)-002_part_682\n",
      "\n",
      "🎥 Processing: /Users/mario/Desktop/Desktop/UofA/4.Winter-2025/ece-910/Batman/Batman-(1989)-002/Batman (1989)-002_part_683.mp4\n",
      "📸 Total Frames: 22\n"
     ]
    },
    {
     "name": "stderr",
     "output_type": "stream",
     "text": [
      "Extracting Frames from Batman (1989)-002_part_683.mp4: 100%|██████████| 22/22 [00:00<00:00, 496.71it/s]\n"
     ]
    },
    {
     "name": "stdout",
     "output_type": "stream",
     "text": [
      "✅ Saved frames in: /Users/mario/Desktop/Desktop/UofA/4.Winter-2025/ece-910/Batman/VLM-testing/batman-frames/Batman (1989)-002_part_683\n",
      "\n",
      "🎥 Processing: /Users/mario/Desktop/Desktop/UofA/4.Winter-2025/ece-910/Batman/Batman-(1989)-002/Batman (1989)-002_part_684.mp4\n",
      "📸 Total Frames: 150\n"
     ]
    },
    {
     "name": "stderr",
     "output_type": "stream",
     "text": [
      "Extracting Frames from Batman (1989)-002_part_684.mp4: 100%|██████████| 150/150 [00:00<00:00, 572.90it/s]\n"
     ]
    },
    {
     "name": "stdout",
     "output_type": "stream",
     "text": [
      "✅ Saved frames in: /Users/mario/Desktop/Desktop/UofA/4.Winter-2025/ece-910/Batman/VLM-testing/batman-frames/Batman (1989)-002_part_684\n",
      "\n",
      "🎥 Processing: /Users/mario/Desktop/Desktop/UofA/4.Winter-2025/ece-910/Batman/Batman-(1989)-002/Batman (1989)-002_part_685.mp4\n",
      "📸 Total Frames: 41\n"
     ]
    },
    {
     "name": "stderr",
     "output_type": "stream",
     "text": [
      "Extracting Frames from Batman (1989)-002_part_685.mp4: 100%|██████████| 41/41 [00:00<00:00, 586.98it/s]\n"
     ]
    },
    {
     "name": "stdout",
     "output_type": "stream",
     "text": [
      "✅ Saved frames in: /Users/mario/Desktop/Desktop/UofA/4.Winter-2025/ece-910/Batman/VLM-testing/batman-frames/Batman (1989)-002_part_685\n",
      "\n",
      "🎥 Processing: /Users/mario/Desktop/Desktop/UofA/4.Winter-2025/ece-910/Batman/Batman-(1989)-002/Batman (1989)-002_part_686.mp4\n",
      "📸 Total Frames: 47\n"
     ]
    },
    {
     "name": "stderr",
     "output_type": "stream",
     "text": [
      "Extracting Frames from Batman (1989)-002_part_686.mp4: 100%|██████████| 47/47 [00:00<00:00, 586.76it/s]\n"
     ]
    },
    {
     "name": "stdout",
     "output_type": "stream",
     "text": [
      "✅ Saved frames in: /Users/mario/Desktop/Desktop/UofA/4.Winter-2025/ece-910/Batman/VLM-testing/batman-frames/Batman (1989)-002_part_686\n",
      "\n",
      "🎥 Processing: /Users/mario/Desktop/Desktop/UofA/4.Winter-2025/ece-910/Batman/Batman-(1989)-002/Batman (1989)-002_part_687.mp4\n",
      "📸 Total Frames: 25\n"
     ]
    },
    {
     "name": "stderr",
     "output_type": "stream",
     "text": [
      "Extracting Frames from Batman (1989)-002_part_687.mp4: 100%|██████████| 25/25 [00:00<00:00, 555.25it/s]\n"
     ]
    },
    {
     "name": "stdout",
     "output_type": "stream",
     "text": [
      "✅ Saved frames in: /Users/mario/Desktop/Desktop/UofA/4.Winter-2025/ece-910/Batman/VLM-testing/batman-frames/Batman (1989)-002_part_687\n",
      "\n",
      "🎥 Processing: /Users/mario/Desktop/Desktop/UofA/4.Winter-2025/ece-910/Batman/Batman-(1989)-002/Batman (1989)-002_part_688.mp4\n",
      "📸 Total Frames: 168\n"
     ]
    },
    {
     "name": "stderr",
     "output_type": "stream",
     "text": [
      "Extracting Frames from Batman (1989)-002_part_688.mp4: 100%|██████████| 168/168 [00:00<00:00, 605.13it/s]\n"
     ]
    },
    {
     "name": "stdout",
     "output_type": "stream",
     "text": [
      "✅ Saved frames in: /Users/mario/Desktop/Desktop/UofA/4.Winter-2025/ece-910/Batman/VLM-testing/batman-frames/Batman (1989)-002_part_688\n",
      "\n",
      "🎥 Processing: /Users/mario/Desktop/Desktop/UofA/4.Winter-2025/ece-910/Batman/Batman-(1989)-002/Batman (1989)-002_part_689.mp4\n",
      "📸 Total Frames: 40\n"
     ]
    },
    {
     "name": "stderr",
     "output_type": "stream",
     "text": [
      "Extracting Frames from Batman (1989)-002_part_689.mp4: 100%|██████████| 40/40 [00:00<00:00, 562.73it/s]\n"
     ]
    },
    {
     "name": "stdout",
     "output_type": "stream",
     "text": [
      "✅ Saved frames in: /Users/mario/Desktop/Desktop/UofA/4.Winter-2025/ece-910/Batman/VLM-testing/batman-frames/Batman (1989)-002_part_689\n",
      "\n",
      "🎥 Processing: /Users/mario/Desktop/Desktop/UofA/4.Winter-2025/ece-910/Batman/Batman-(1989)-002/Batman (1989)-002_part_69.mp4\n",
      "📸 Total Frames: 104\n"
     ]
    },
    {
     "name": "stderr",
     "output_type": "stream",
     "text": [
      "Extracting Frames from Batman (1989)-002_part_69.mp4: 100%|██████████| 104/104 [00:00<00:00, 611.98it/s]\n"
     ]
    },
    {
     "name": "stdout",
     "output_type": "stream",
     "text": [
      "✅ Saved frames in: /Users/mario/Desktop/Desktop/UofA/4.Winter-2025/ece-910/Batman/VLM-testing/batman-frames/Batman (1989)-002_part_69\n",
      "\n",
      "🎥 Processing: /Users/mario/Desktop/Desktop/UofA/4.Winter-2025/ece-910/Batman/Batman-(1989)-002/Batman (1989)-002_part_690.mp4\n",
      "📸 Total Frames: 206\n"
     ]
    },
    {
     "name": "stderr",
     "output_type": "stream",
     "text": [
      "Extracting Frames from Batman (1989)-002_part_690.mp4: 100%|██████████| 206/206 [00:00<00:00, 591.68it/s]\n"
     ]
    },
    {
     "name": "stdout",
     "output_type": "stream",
     "text": [
      "✅ Saved frames in: /Users/mario/Desktop/Desktop/UofA/4.Winter-2025/ece-910/Batman/VLM-testing/batman-frames/Batman (1989)-002_part_690\n",
      "\n",
      "🎥 Processing: /Users/mario/Desktop/Desktop/UofA/4.Winter-2025/ece-910/Batman/Batman-(1989)-002/Batman (1989)-002_part_691.mp4\n",
      "📸 Total Frames: 20\n"
     ]
    },
    {
     "name": "stderr",
     "output_type": "stream",
     "text": [
      "Extracting Frames from Batman (1989)-002_part_691.mp4: 100%|██████████| 20/20 [00:00<00:00, 469.94it/s]\n"
     ]
    },
    {
     "name": "stdout",
     "output_type": "stream",
     "text": [
      "✅ Saved frames in: /Users/mario/Desktop/Desktop/UofA/4.Winter-2025/ece-910/Batman/VLM-testing/batman-frames/Batman (1989)-002_part_691\n",
      "\n",
      "🎥 Processing: /Users/mario/Desktop/Desktop/UofA/4.Winter-2025/ece-910/Batman/Batman-(1989)-002/Batman (1989)-002_part_692.mp4\n",
      "📸 Total Frames: 476\n"
     ]
    },
    {
     "name": "stderr",
     "output_type": "stream",
     "text": [
      "Extracting Frames from Batman (1989)-002_part_692.mp4: 100%|██████████| 476/476 [00:00<00:00, 614.40it/s]\n"
     ]
    },
    {
     "name": "stdout",
     "output_type": "stream",
     "text": [
      "✅ Saved frames in: /Users/mario/Desktop/Desktop/UofA/4.Winter-2025/ece-910/Batman/VLM-testing/batman-frames/Batman (1989)-002_part_692\n",
      "\n",
      "🎥 Processing: /Users/mario/Desktop/Desktop/UofA/4.Winter-2025/ece-910/Batman/Batman-(1989)-002/Batman (1989)-002_part_693.mp4\n",
      "📸 Total Frames: 36\n"
     ]
    },
    {
     "name": "stderr",
     "output_type": "stream",
     "text": [
      "Extracting Frames from Batman (1989)-002_part_693.mp4: 100%|██████████| 36/36 [00:00<00:00, 580.33it/s]\n"
     ]
    },
    {
     "name": "stdout",
     "output_type": "stream",
     "text": [
      "✅ Saved frames in: /Users/mario/Desktop/Desktop/UofA/4.Winter-2025/ece-910/Batman/VLM-testing/batman-frames/Batman (1989)-002_part_693\n",
      "\n",
      "🎥 Processing: /Users/mario/Desktop/Desktop/UofA/4.Winter-2025/ece-910/Batman/Batman-(1989)-002/Batman (1989)-002_part_694.mp4\n",
      "📸 Total Frames: 237\n"
     ]
    },
    {
     "name": "stderr",
     "output_type": "stream",
     "text": [
      "Extracting Frames from Batman (1989)-002_part_694.mp4: 100%|██████████| 237/237 [00:00<00:00, 603.98it/s]\n"
     ]
    },
    {
     "name": "stdout",
     "output_type": "stream",
     "text": [
      "✅ Saved frames in: /Users/mario/Desktop/Desktop/UofA/4.Winter-2025/ece-910/Batman/VLM-testing/batman-frames/Batman (1989)-002_part_694\n",
      "\n",
      "🎥 Processing: /Users/mario/Desktop/Desktop/UofA/4.Winter-2025/ece-910/Batman/Batman-(1989)-002/Batman (1989)-002_part_695.mp4\n",
      "📸 Total Frames: 263\n"
     ]
    },
    {
     "name": "stderr",
     "output_type": "stream",
     "text": [
      "Extracting Frames from Batman (1989)-002_part_695.mp4: 100%|██████████| 263/263 [00:00<00:00, 449.70it/s]\n"
     ]
    },
    {
     "name": "stdout",
     "output_type": "stream",
     "text": [
      "✅ Saved frames in: /Users/mario/Desktop/Desktop/UofA/4.Winter-2025/ece-910/Batman/VLM-testing/batman-frames/Batman (1989)-002_part_695\n",
      "\n",
      "🎥 Processing: /Users/mario/Desktop/Desktop/UofA/4.Winter-2025/ece-910/Batman/Batman-(1989)-002/Batman (1989)-002_part_696.mp4\n",
      "📸 Total Frames: 77\n"
     ]
    },
    {
     "name": "stderr",
     "output_type": "stream",
     "text": [
      "Extracting Frames from Batman (1989)-002_part_696.mp4: 100%|██████████| 77/77 [00:00<00:00, 604.99it/s]\n"
     ]
    },
    {
     "name": "stdout",
     "output_type": "stream",
     "text": [
      "✅ Saved frames in: /Users/mario/Desktop/Desktop/UofA/4.Winter-2025/ece-910/Batman/VLM-testing/batman-frames/Batman (1989)-002_part_696\n",
      "\n",
      "🎥 Processing: /Users/mario/Desktop/Desktop/UofA/4.Winter-2025/ece-910/Batman/Batman-(1989)-002/Batman (1989)-002_part_697.mp4\n",
      "📸 Total Frames: 27\n"
     ]
    },
    {
     "name": "stderr",
     "output_type": "stream",
     "text": [
      "Extracting Frames from Batman (1989)-002_part_697.mp4: 100%|██████████| 27/27 [00:00<00:00, 581.50it/s]\n"
     ]
    },
    {
     "name": "stdout",
     "output_type": "stream",
     "text": [
      "✅ Saved frames in: /Users/mario/Desktop/Desktop/UofA/4.Winter-2025/ece-910/Batman/VLM-testing/batman-frames/Batman (1989)-002_part_697\n",
      "\n",
      "🎥 Processing: /Users/mario/Desktop/Desktop/UofA/4.Winter-2025/ece-910/Batman/Batman-(1989)-002/Batman (1989)-002_part_698.mp4\n",
      "📸 Total Frames: 95\n"
     ]
    },
    {
     "name": "stderr",
     "output_type": "stream",
     "text": [
      "Extracting Frames from Batman (1989)-002_part_698.mp4: 100%|██████████| 95/95 [00:00<00:00, 592.74it/s]\n"
     ]
    },
    {
     "name": "stdout",
     "output_type": "stream",
     "text": [
      "✅ Saved frames in: /Users/mario/Desktop/Desktop/UofA/4.Winter-2025/ece-910/Batman/VLM-testing/batman-frames/Batman (1989)-002_part_698\n",
      "\n",
      "🎥 Processing: /Users/mario/Desktop/Desktop/UofA/4.Winter-2025/ece-910/Batman/Batman-(1989)-002/Batman (1989)-002_part_699.mp4\n",
      "📸 Total Frames: 32\n"
     ]
    },
    {
     "name": "stderr",
     "output_type": "stream",
     "text": [
      "Extracting Frames from Batman (1989)-002_part_699.mp4: 100%|██████████| 32/32 [00:00<00:00, 583.91it/s]\n"
     ]
    },
    {
     "name": "stdout",
     "output_type": "stream",
     "text": [
      "✅ Saved frames in: /Users/mario/Desktop/Desktop/UofA/4.Winter-2025/ece-910/Batman/VLM-testing/batman-frames/Batman (1989)-002_part_699\n",
      "\n",
      "🎥 Processing: /Users/mario/Desktop/Desktop/UofA/4.Winter-2025/ece-910/Batman/Batman-(1989)-002/Batman (1989)-002_part_7.mp4\n",
      "📸 Total Frames: 246\n"
     ]
    },
    {
     "name": "stderr",
     "output_type": "stream",
     "text": [
      "Extracting Frames from Batman (1989)-002_part_7.mp4: 100%|██████████| 246/246 [00:00<00:00, 649.24it/s]\n"
     ]
    },
    {
     "name": "stdout",
     "output_type": "stream",
     "text": [
      "✅ Saved frames in: /Users/mario/Desktop/Desktop/UofA/4.Winter-2025/ece-910/Batman/VLM-testing/batman-frames/Batman (1989)-002_part_7\n",
      "\n",
      "🎥 Processing: /Users/mario/Desktop/Desktop/UofA/4.Winter-2025/ece-910/Batman/Batman-(1989)-002/Batman (1989)-002_part_70.mp4\n",
      "📸 Total Frames: 208\n"
     ]
    },
    {
     "name": "stderr",
     "output_type": "stream",
     "text": [
      "Extracting Frames from Batman (1989)-002_part_70.mp4: 100%|██████████| 208/208 [00:00<00:00, 586.92it/s]\n"
     ]
    },
    {
     "name": "stdout",
     "output_type": "stream",
     "text": [
      "✅ Saved frames in: /Users/mario/Desktop/Desktop/UofA/4.Winter-2025/ece-910/Batman/VLM-testing/batman-frames/Batman (1989)-002_part_70\n",
      "\n",
      "🎥 Processing: /Users/mario/Desktop/Desktop/UofA/4.Winter-2025/ece-910/Batman/Batman-(1989)-002/Batman (1989)-002_part_700.mp4\n",
      "📸 Total Frames: 193\n"
     ]
    },
    {
     "name": "stderr",
     "output_type": "stream",
     "text": [
      "Extracting Frames from Batman (1989)-002_part_700.mp4: 100%|██████████| 193/193 [00:00<00:00, 589.81it/s]\n"
     ]
    },
    {
     "name": "stdout",
     "output_type": "stream",
     "text": [
      "✅ Saved frames in: /Users/mario/Desktop/Desktop/UofA/4.Winter-2025/ece-910/Batman/VLM-testing/batman-frames/Batman (1989)-002_part_700\n",
      "\n",
      "🎥 Processing: /Users/mario/Desktop/Desktop/UofA/4.Winter-2025/ece-910/Batman/Batman-(1989)-002/Batman (1989)-002_part_701.mp4\n",
      "📸 Total Frames: 181\n"
     ]
    },
    {
     "name": "stderr",
     "output_type": "stream",
     "text": [
      "Extracting Frames from Batman (1989)-002_part_701.mp4: 100%|██████████| 181/181 [00:00<00:00, 600.65it/s]\n"
     ]
    },
    {
     "name": "stdout",
     "output_type": "stream",
     "text": [
      "✅ Saved frames in: /Users/mario/Desktop/Desktop/UofA/4.Winter-2025/ece-910/Batman/VLM-testing/batman-frames/Batman (1989)-002_part_701\n",
      "\n",
      "🎥 Processing: /Users/mario/Desktop/Desktop/UofA/4.Winter-2025/ece-910/Batman/Batman-(1989)-002/Batman (1989)-002_part_702.mp4\n",
      "📸 Total Frames: 35\n"
     ]
    },
    {
     "name": "stderr",
     "output_type": "stream",
     "text": [
      "Extracting Frames from Batman (1989)-002_part_702.mp4: 100%|██████████| 35/35 [00:00<00:00, 523.19it/s]\n"
     ]
    },
    {
     "name": "stdout",
     "output_type": "stream",
     "text": [
      "✅ Saved frames in: /Users/mario/Desktop/Desktop/UofA/4.Winter-2025/ece-910/Batman/VLM-testing/batman-frames/Batman (1989)-002_part_702\n",
      "\n",
      "🎥 Processing: /Users/mario/Desktop/Desktop/UofA/4.Winter-2025/ece-910/Batman/Batman-(1989)-002/Batman (1989)-002_part_703.mp4\n",
      "📸 Total Frames: 66\n"
     ]
    },
    {
     "name": "stderr",
     "output_type": "stream",
     "text": [
      "Extracting Frames from Batman (1989)-002_part_703.mp4: 100%|██████████| 66/66 [00:00<00:00, 575.64it/s]\n"
     ]
    },
    {
     "name": "stdout",
     "output_type": "stream",
     "text": [
      "✅ Saved frames in: /Users/mario/Desktop/Desktop/UofA/4.Winter-2025/ece-910/Batman/VLM-testing/batman-frames/Batman (1989)-002_part_703\n",
      "\n",
      "🎥 Processing: /Users/mario/Desktop/Desktop/UofA/4.Winter-2025/ece-910/Batman/Batman-(1989)-002/Batman (1989)-002_part_704.mp4\n",
      "📸 Total Frames: 47\n"
     ]
    },
    {
     "name": "stderr",
     "output_type": "stream",
     "text": [
      "Extracting Frames from Batman (1989)-002_part_704.mp4: 100%|██████████| 47/47 [00:00<00:00, 573.16it/s]\n"
     ]
    },
    {
     "name": "stdout",
     "output_type": "stream",
     "text": [
      "✅ Saved frames in: /Users/mario/Desktop/Desktop/UofA/4.Winter-2025/ece-910/Batman/VLM-testing/batman-frames/Batman (1989)-002_part_704\n",
      "\n",
      "🎥 Processing: /Users/mario/Desktop/Desktop/UofA/4.Winter-2025/ece-910/Batman/Batman-(1989)-002/Batman (1989)-002_part_705.mp4\n",
      "📸 Total Frames: 133\n"
     ]
    },
    {
     "name": "stderr",
     "output_type": "stream",
     "text": [
      "Extracting Frames from Batman (1989)-002_part_705.mp4: 100%|██████████| 133/133 [00:00<00:00, 562.79it/s]\n"
     ]
    },
    {
     "name": "stdout",
     "output_type": "stream",
     "text": [
      "✅ Saved frames in: /Users/mario/Desktop/Desktop/UofA/4.Winter-2025/ece-910/Batman/VLM-testing/batman-frames/Batman (1989)-002_part_705\n",
      "\n",
      "🎥 Processing: /Users/mario/Desktop/Desktop/UofA/4.Winter-2025/ece-910/Batman/Batman-(1989)-002/Batman (1989)-002_part_706.mp4\n",
      "📸 Total Frames: 18\n"
     ]
    },
    {
     "name": "stderr",
     "output_type": "stream",
     "text": [
      "Extracting Frames from Batman (1989)-002_part_706.mp4: 100%|██████████| 18/18 [00:00<00:00, 465.82it/s]\n"
     ]
    },
    {
     "name": "stdout",
     "output_type": "stream",
     "text": [
      "✅ Saved frames in: /Users/mario/Desktop/Desktop/UofA/4.Winter-2025/ece-910/Batman/VLM-testing/batman-frames/Batman (1989)-002_part_706\n",
      "\n",
      "🎥 Processing: /Users/mario/Desktop/Desktop/UofA/4.Winter-2025/ece-910/Batman/Batman-(1989)-002/Batman (1989)-002_part_707.mp4\n",
      "📸 Total Frames: 34\n"
     ]
    },
    {
     "name": "stderr",
     "output_type": "stream",
     "text": [
      "Extracting Frames from Batman (1989)-002_part_707.mp4: 100%|██████████| 34/34 [00:00<00:00, 505.90it/s]\n"
     ]
    },
    {
     "name": "stdout",
     "output_type": "stream",
     "text": [
      "✅ Saved frames in: /Users/mario/Desktop/Desktop/UofA/4.Winter-2025/ece-910/Batman/VLM-testing/batman-frames/Batman (1989)-002_part_707\n",
      "\n",
      "🎥 Processing: /Users/mario/Desktop/Desktop/UofA/4.Winter-2025/ece-910/Batman/Batman-(1989)-002/Batman (1989)-002_part_708.mp4\n",
      "📸 Total Frames: 31\n"
     ]
    },
    {
     "name": "stderr",
     "output_type": "stream",
     "text": [
      "Extracting Frames from Batman (1989)-002_part_708.mp4: 100%|██████████| 31/31 [00:00<00:00, 578.37it/s]\n"
     ]
    },
    {
     "name": "stdout",
     "output_type": "stream",
     "text": [
      "✅ Saved frames in: /Users/mario/Desktop/Desktop/UofA/4.Winter-2025/ece-910/Batman/VLM-testing/batman-frames/Batman (1989)-002_part_708\n",
      "\n",
      "🎥 Processing: /Users/mario/Desktop/Desktop/UofA/4.Winter-2025/ece-910/Batman/Batman-(1989)-002/Batman (1989)-002_part_709.mp4\n",
      "📸 Total Frames: 24\n"
     ]
    },
    {
     "name": "stderr",
     "output_type": "stream",
     "text": [
      "Extracting Frames from Batman (1989)-002_part_709.mp4: 100%|██████████| 24/24 [00:00<00:00, 546.83it/s]\n"
     ]
    },
    {
     "name": "stdout",
     "output_type": "stream",
     "text": [
      "✅ Saved frames in: /Users/mario/Desktop/Desktop/UofA/4.Winter-2025/ece-910/Batman/VLM-testing/batman-frames/Batman (1989)-002_part_709\n",
      "\n",
      "🎥 Processing: /Users/mario/Desktop/Desktop/UofA/4.Winter-2025/ece-910/Batman/Batman-(1989)-002/Batman (1989)-002_part_71.mp4\n",
      "📸 Total Frames: 1299\n"
     ]
    },
    {
     "name": "stderr",
     "output_type": "stream",
     "text": [
      "Extracting Frames from Batman (1989)-002_part_71.mp4: 100%|██████████| 1299/1299 [00:02<00:00, 611.71it/s]\n"
     ]
    },
    {
     "name": "stdout",
     "output_type": "stream",
     "text": [
      "✅ Saved frames in: /Users/mario/Desktop/Desktop/UofA/4.Winter-2025/ece-910/Batman/VLM-testing/batman-frames/Batman (1989)-002_part_71\n",
      "\n",
      "🎥 Processing: /Users/mario/Desktop/Desktop/UofA/4.Winter-2025/ece-910/Batman/Batman-(1989)-002/Batman (1989)-002_part_710.mp4\n",
      "📸 Total Frames: 95\n"
     ]
    },
    {
     "name": "stderr",
     "output_type": "stream",
     "text": [
      "Extracting Frames from Batman (1989)-002_part_710.mp4: 100%|██████████| 95/95 [00:00<00:00, 614.45it/s]\n"
     ]
    },
    {
     "name": "stdout",
     "output_type": "stream",
     "text": [
      "✅ Saved frames in: /Users/mario/Desktop/Desktop/UofA/4.Winter-2025/ece-910/Batman/VLM-testing/batman-frames/Batman (1989)-002_part_710\n",
      "\n",
      "🎥 Processing: /Users/mario/Desktop/Desktop/UofA/4.Winter-2025/ece-910/Batman/Batman-(1989)-002/Batman (1989)-002_part_711.mp4\n",
      "📸 Total Frames: 29\n"
     ]
    },
    {
     "name": "stderr",
     "output_type": "stream",
     "text": [
      "Extracting Frames from Batman (1989)-002_part_711.mp4: 100%|██████████| 29/29 [00:00<00:00, 575.19it/s]\n"
     ]
    },
    {
     "name": "stdout",
     "output_type": "stream",
     "text": [
      "✅ Saved frames in: /Users/mario/Desktop/Desktop/UofA/4.Winter-2025/ece-910/Batman/VLM-testing/batman-frames/Batman (1989)-002_part_711\n",
      "\n",
      "🎥 Processing: /Users/mario/Desktop/Desktop/UofA/4.Winter-2025/ece-910/Batman/Batman-(1989)-002/Batman (1989)-002_part_712.mp4\n",
      "📸 Total Frames: 75\n"
     ]
    },
    {
     "name": "stderr",
     "output_type": "stream",
     "text": [
      "Extracting Frames from Batman (1989)-002_part_712.mp4: 100%|██████████| 75/75 [00:00<00:00, 251.25it/s]\n"
     ]
    },
    {
     "name": "stdout",
     "output_type": "stream",
     "text": [
      "✅ Saved frames in: /Users/mario/Desktop/Desktop/UofA/4.Winter-2025/ece-910/Batman/VLM-testing/batman-frames/Batman (1989)-002_part_712\n",
      "\n",
      "🎥 Processing: /Users/mario/Desktop/Desktop/UofA/4.Winter-2025/ece-910/Batman/Batman-(1989)-002/Batman (1989)-002_part_713.mp4\n",
      "📸 Total Frames: 531\n"
     ]
    },
    {
     "name": "stderr",
     "output_type": "stream",
     "text": [
      "Extracting Frames from Batman (1989)-002_part_713.mp4: 100%|██████████| 531/531 [00:00<00:00, 601.05it/s]\n"
     ]
    },
    {
     "name": "stdout",
     "output_type": "stream",
     "text": [
      "✅ Saved frames in: /Users/mario/Desktop/Desktop/UofA/4.Winter-2025/ece-910/Batman/VLM-testing/batman-frames/Batman (1989)-002_part_713\n",
      "\n",
      "🎥 Processing: /Users/mario/Desktop/Desktop/UofA/4.Winter-2025/ece-910/Batman/Batman-(1989)-002/Batman (1989)-002_part_714.mp4\n",
      "📸 Total Frames: 57\n"
     ]
    },
    {
     "name": "stderr",
     "output_type": "stream",
     "text": [
      "Extracting Frames from Batman (1989)-002_part_714.mp4: 100%|██████████| 57/57 [00:00<00:00, 573.85it/s]\n"
     ]
    },
    {
     "name": "stdout",
     "output_type": "stream",
     "text": [
      "✅ Saved frames in: /Users/mario/Desktop/Desktop/UofA/4.Winter-2025/ece-910/Batman/VLM-testing/batman-frames/Batman (1989)-002_part_714\n",
      "\n",
      "🎥 Processing: /Users/mario/Desktop/Desktop/UofA/4.Winter-2025/ece-910/Batman/Batman-(1989)-002/Batman (1989)-002_part_715.mp4\n",
      "📸 Total Frames: 199\n"
     ]
    },
    {
     "name": "stderr",
     "output_type": "stream",
     "text": [
      "Extracting Frames from Batman (1989)-002_part_715.mp4: 100%|██████████| 199/199 [00:00<00:00, 607.21it/s]\n"
     ]
    },
    {
     "name": "stdout",
     "output_type": "stream",
     "text": [
      "✅ Saved frames in: /Users/mario/Desktop/Desktop/UofA/4.Winter-2025/ece-910/Batman/VLM-testing/batman-frames/Batman (1989)-002_part_715\n",
      "\n",
      "🎥 Processing: /Users/mario/Desktop/Desktop/UofA/4.Winter-2025/ece-910/Batman/Batman-(1989)-002/Batman (1989)-002_part_716.mp4\n",
      "📸 Total Frames: 36\n"
     ]
    },
    {
     "name": "stderr",
     "output_type": "stream",
     "text": [
      "Extracting Frames from Batman (1989)-002_part_716.mp4: 100%|██████████| 36/36 [00:00<00:00, 534.00it/s]\n"
     ]
    },
    {
     "name": "stdout",
     "output_type": "stream",
     "text": [
      "✅ Saved frames in: /Users/mario/Desktop/Desktop/UofA/4.Winter-2025/ece-910/Batman/VLM-testing/batman-frames/Batman (1989)-002_part_716\n",
      "\n",
      "🎥 Processing: /Users/mario/Desktop/Desktop/UofA/4.Winter-2025/ece-910/Batman/Batman-(1989)-002/Batman (1989)-002_part_717.mp4\n",
      "📸 Total Frames: 122\n"
     ]
    },
    {
     "name": "stderr",
     "output_type": "stream",
     "text": [
      "Extracting Frames from Batman (1989)-002_part_717.mp4: 100%|██████████| 122/122 [00:00<00:00, 594.00it/s]\n"
     ]
    },
    {
     "name": "stdout",
     "output_type": "stream",
     "text": [
      "✅ Saved frames in: /Users/mario/Desktop/Desktop/UofA/4.Winter-2025/ece-910/Batman/VLM-testing/batman-frames/Batman (1989)-002_part_717\n",
      "\n",
      "🎥 Processing: /Users/mario/Desktop/Desktop/UofA/4.Winter-2025/ece-910/Batman/Batman-(1989)-002/Batman (1989)-002_part_718.mp4\n",
      "📸 Total Frames: 83\n"
     ]
    },
    {
     "name": "stderr",
     "output_type": "stream",
     "text": [
      "Extracting Frames from Batman (1989)-002_part_718.mp4: 100%|██████████| 83/83 [00:00<00:00, 592.06it/s]\n"
     ]
    },
    {
     "name": "stdout",
     "output_type": "stream",
     "text": [
      "✅ Saved frames in: /Users/mario/Desktop/Desktop/UofA/4.Winter-2025/ece-910/Batman/VLM-testing/batman-frames/Batman (1989)-002_part_718\n",
      "\n",
      "🎥 Processing: /Users/mario/Desktop/Desktop/UofA/4.Winter-2025/ece-910/Batman/Batman-(1989)-002/Batman (1989)-002_part_719.mp4\n",
      "📸 Total Frames: 40\n"
     ]
    },
    {
     "name": "stderr",
     "output_type": "stream",
     "text": [
      "Extracting Frames from Batman (1989)-002_part_719.mp4: 100%|██████████| 40/40 [00:00<00:00, 539.47it/s]\n"
     ]
    },
    {
     "name": "stdout",
     "output_type": "stream",
     "text": [
      "✅ Saved frames in: /Users/mario/Desktop/Desktop/UofA/4.Winter-2025/ece-910/Batman/VLM-testing/batman-frames/Batman (1989)-002_part_719\n",
      "\n",
      "🎥 Processing: /Users/mario/Desktop/Desktop/UofA/4.Winter-2025/ece-910/Batman/Batman-(1989)-002/Batman (1989)-002_part_72.mp4\n",
      "📸 Total Frames: 567\n"
     ]
    },
    {
     "name": "stderr",
     "output_type": "stream",
     "text": [
      "Extracting Frames from Batman (1989)-002_part_72.mp4: 100%|██████████| 567/567 [00:01<00:00, 543.00it/s]\n"
     ]
    },
    {
     "name": "stdout",
     "output_type": "stream",
     "text": [
      "✅ Saved frames in: /Users/mario/Desktop/Desktop/UofA/4.Winter-2025/ece-910/Batman/VLM-testing/batman-frames/Batman (1989)-002_part_72\n",
      "\n",
      "🎥 Processing: /Users/mario/Desktop/Desktop/UofA/4.Winter-2025/ece-910/Batman/Batman-(1989)-002/Batman (1989)-002_part_720.mp4\n",
      "📸 Total Frames: 65\n"
     ]
    },
    {
     "name": "stderr",
     "output_type": "stream",
     "text": [
      "Extracting Frames from Batman (1989)-002_part_720.mp4: 100%|██████████| 65/65 [00:00<00:00, 598.39it/s]\n"
     ]
    },
    {
     "name": "stdout",
     "output_type": "stream",
     "text": [
      "✅ Saved frames in: /Users/mario/Desktop/Desktop/UofA/4.Winter-2025/ece-910/Batman/VLM-testing/batman-frames/Batman (1989)-002_part_720\n",
      "\n",
      "🎥 Processing: /Users/mario/Desktop/Desktop/UofA/4.Winter-2025/ece-910/Batman/Batman-(1989)-002/Batman (1989)-002_part_721.mp4\n",
      "📸 Total Frames: 471\n"
     ]
    },
    {
     "name": "stderr",
     "output_type": "stream",
     "text": [
      "Extracting Frames from Batman (1989)-002_part_721.mp4: 100%|██████████| 471/471 [00:00<00:00, 613.44it/s]\n"
     ]
    },
    {
     "name": "stdout",
     "output_type": "stream",
     "text": [
      "✅ Saved frames in: /Users/mario/Desktop/Desktop/UofA/4.Winter-2025/ece-910/Batman/VLM-testing/batman-frames/Batman (1989)-002_part_721\n",
      "\n",
      "🎥 Processing: /Users/mario/Desktop/Desktop/UofA/4.Winter-2025/ece-910/Batman/Batman-(1989)-002/Batman (1989)-002_part_722.mp4\n",
      "📸 Total Frames: 669\n"
     ]
    },
    {
     "name": "stderr",
     "output_type": "stream",
     "text": [
      "Extracting Frames from Batman (1989)-002_part_722.mp4: 100%|██████████| 669/669 [00:01<00:00, 603.54it/s]\n"
     ]
    },
    {
     "name": "stdout",
     "output_type": "stream",
     "text": [
      "✅ Saved frames in: /Users/mario/Desktop/Desktop/UofA/4.Winter-2025/ece-910/Batman/VLM-testing/batman-frames/Batman (1989)-002_part_722\n",
      "\n",
      "🎥 Processing: /Users/mario/Desktop/Desktop/UofA/4.Winter-2025/ece-910/Batman/Batman-(1989)-002/Batman (1989)-002_part_723.mp4\n",
      "📸 Total Frames: 80\n"
     ]
    },
    {
     "name": "stderr",
     "output_type": "stream",
     "text": [
      "Extracting Frames from Batman (1989)-002_part_723.mp4: 100%|██████████| 80/80 [00:00<00:00, 574.34it/s]\n"
     ]
    },
    {
     "name": "stdout",
     "output_type": "stream",
     "text": [
      "✅ Saved frames in: /Users/mario/Desktop/Desktop/UofA/4.Winter-2025/ece-910/Batman/VLM-testing/batman-frames/Batman (1989)-002_part_723\n",
      "\n",
      "🎥 Processing: /Users/mario/Desktop/Desktop/UofA/4.Winter-2025/ece-910/Batman/Batman-(1989)-002/Batman (1989)-002_part_724.mp4\n",
      "📸 Total Frames: 245\n"
     ]
    },
    {
     "name": "stderr",
     "output_type": "stream",
     "text": [
      "Extracting Frames from Batman (1989)-002_part_724.mp4: 100%|██████████| 245/245 [00:00<00:00, 603.16it/s]\n"
     ]
    },
    {
     "name": "stdout",
     "output_type": "stream",
     "text": [
      "✅ Saved frames in: /Users/mario/Desktop/Desktop/UofA/4.Winter-2025/ece-910/Batman/VLM-testing/batman-frames/Batman (1989)-002_part_724\n",
      "\n",
      "🎥 Processing: /Users/mario/Desktop/Desktop/UofA/4.Winter-2025/ece-910/Batman/Batman-(1989)-002/Batman (1989)-002_part_725.mp4\n",
      "📸 Total Frames: 179\n"
     ]
    },
    {
     "name": "stderr",
     "output_type": "stream",
     "text": [
      "Extracting Frames from Batman (1989)-002_part_725.mp4: 100%|██████████| 179/179 [00:00<00:00, 624.71it/s]\n"
     ]
    },
    {
     "name": "stdout",
     "output_type": "stream",
     "text": [
      "✅ Saved frames in: /Users/mario/Desktop/Desktop/UofA/4.Winter-2025/ece-910/Batman/VLM-testing/batman-frames/Batman (1989)-002_part_725\n",
      "\n",
      "🎥 Processing: /Users/mario/Desktop/Desktop/UofA/4.Winter-2025/ece-910/Batman/Batman-(1989)-002/Batman (1989)-002_part_726.mp4\n",
      "📸 Total Frames: 373\n"
     ]
    },
    {
     "name": "stderr",
     "output_type": "stream",
     "text": [
      "Extracting Frames from Batman (1989)-002_part_726.mp4: 100%|██████████| 373/373 [00:00<00:00, 595.52it/s]\n"
     ]
    },
    {
     "name": "stdout",
     "output_type": "stream",
     "text": [
      "✅ Saved frames in: /Users/mario/Desktop/Desktop/UofA/4.Winter-2025/ece-910/Batman/VLM-testing/batman-frames/Batman (1989)-002_part_726\n",
      "\n",
      "🎥 Processing: /Users/mario/Desktop/Desktop/UofA/4.Winter-2025/ece-910/Batman/Batman-(1989)-002/Batman (1989)-002_part_727.mp4\n",
      "📸 Total Frames: 197\n"
     ]
    },
    {
     "name": "stderr",
     "output_type": "stream",
     "text": [
      "Extracting Frames from Batman (1989)-002_part_727.mp4: 100%|██████████| 197/197 [00:00<00:00, 404.93it/s]\n"
     ]
    },
    {
     "name": "stdout",
     "output_type": "stream",
     "text": [
      "✅ Saved frames in: /Users/mario/Desktop/Desktop/UofA/4.Winter-2025/ece-910/Batman/VLM-testing/batman-frames/Batman (1989)-002_part_727\n",
      "\n",
      "🎥 Processing: /Users/mario/Desktop/Desktop/UofA/4.Winter-2025/ece-910/Batman/Batman-(1989)-002/Batman (1989)-002_part_728.mp4\n",
      "📸 Total Frames: 841\n"
     ]
    },
    {
     "name": "stderr",
     "output_type": "stream",
     "text": [
      "Extracting Frames from Batman (1989)-002_part_728.mp4: 100%|██████████| 841/841 [00:01<00:00, 623.33it/s]\n"
     ]
    },
    {
     "name": "stdout",
     "output_type": "stream",
     "text": [
      "✅ Saved frames in: /Users/mario/Desktop/Desktop/UofA/4.Winter-2025/ece-910/Batman/VLM-testing/batman-frames/Batman (1989)-002_part_728\n",
      "\n",
      "🎥 Processing: /Users/mario/Desktop/Desktop/UofA/4.Winter-2025/ece-910/Batman/Batman-(1989)-002/Batman (1989)-002_part_729.mp4\n",
      "📸 Total Frames: 162\n"
     ]
    },
    {
     "name": "stderr",
     "output_type": "stream",
     "text": [
      "Extracting Frames from Batman (1989)-002_part_729.mp4: 100%|██████████| 162/162 [00:00<00:00, 601.63it/s]\n"
     ]
    },
    {
     "name": "stdout",
     "output_type": "stream",
     "text": [
      "✅ Saved frames in: /Users/mario/Desktop/Desktop/UofA/4.Winter-2025/ece-910/Batman/VLM-testing/batman-frames/Batman (1989)-002_part_729\n",
      "\n",
      "🎥 Processing: /Users/mario/Desktop/Desktop/UofA/4.Winter-2025/ece-910/Batman/Batman-(1989)-002/Batman (1989)-002_part_73.mp4\n",
      "📸 Total Frames: 264\n"
     ]
    },
    {
     "name": "stderr",
     "output_type": "stream",
     "text": [
      "Extracting Frames from Batman (1989)-002_part_73.mp4: 100%|██████████| 264/264 [00:00<00:00, 598.59it/s]\n"
     ]
    },
    {
     "name": "stdout",
     "output_type": "stream",
     "text": [
      "✅ Saved frames in: /Users/mario/Desktop/Desktop/UofA/4.Winter-2025/ece-910/Batman/VLM-testing/batman-frames/Batman (1989)-002_part_73\n",
      "\n",
      "🎥 Processing: /Users/mario/Desktop/Desktop/UofA/4.Winter-2025/ece-910/Batman/Batman-(1989)-002/Batman (1989)-002_part_730.mp4\n",
      "📸 Total Frames: 189\n"
     ]
    },
    {
     "name": "stderr",
     "output_type": "stream",
     "text": [
      "Extracting Frames from Batman (1989)-002_part_730.mp4: 100%|██████████| 189/189 [00:00<00:00, 600.64it/s]\n"
     ]
    },
    {
     "name": "stdout",
     "output_type": "stream",
     "text": [
      "✅ Saved frames in: /Users/mario/Desktop/Desktop/UofA/4.Winter-2025/ece-910/Batman/VLM-testing/batman-frames/Batman (1989)-002_part_730\n",
      "\n",
      "🎥 Processing: /Users/mario/Desktop/Desktop/UofA/4.Winter-2025/ece-910/Batman/Batman-(1989)-002/Batman (1989)-002_part_731.mp4\n",
      "📸 Total Frames: 1131\n"
     ]
    },
    {
     "name": "stderr",
     "output_type": "stream",
     "text": [
      "Extracting Frames from Batman (1989)-002_part_731.mp4: 100%|██████████| 1131/1131 [00:01<00:00, 619.72it/s]\n"
     ]
    },
    {
     "name": "stdout",
     "output_type": "stream",
     "text": [
      "✅ Saved frames in: /Users/mario/Desktop/Desktop/UofA/4.Winter-2025/ece-910/Batman/VLM-testing/batman-frames/Batman (1989)-002_part_731\n",
      "\n",
      "🎥 Processing: /Users/mario/Desktop/Desktop/UofA/4.Winter-2025/ece-910/Batman/Batman-(1989)-002/Batman (1989)-002_part_732.mp4\n",
      "📸 Total Frames: 109\n"
     ]
    },
    {
     "name": "stderr",
     "output_type": "stream",
     "text": [
      "Extracting Frames from Batman (1989)-002_part_732.mp4: 100%|██████████| 109/109 [00:00<00:00, 520.83it/s]\n"
     ]
    },
    {
     "name": "stdout",
     "output_type": "stream",
     "text": [
      "✅ Saved frames in: /Users/mario/Desktop/Desktop/UofA/4.Winter-2025/ece-910/Batman/VLM-testing/batman-frames/Batman (1989)-002_part_732\n",
      "\n",
      "🎥 Processing: /Users/mario/Desktop/Desktop/UofA/4.Winter-2025/ece-910/Batman/Batman-(1989)-002/Batman (1989)-002_part_733.mp4\n",
      "📸 Total Frames: 94\n"
     ]
    },
    {
     "name": "stderr",
     "output_type": "stream",
     "text": [
      "Extracting Frames from Batman (1989)-002_part_733.mp4: 100%|██████████| 94/94 [00:00<00:00, 557.11it/s]\n"
     ]
    },
    {
     "name": "stdout",
     "output_type": "stream",
     "text": [
      "✅ Saved frames in: /Users/mario/Desktop/Desktop/UofA/4.Winter-2025/ece-910/Batman/VLM-testing/batman-frames/Batman (1989)-002_part_733\n",
      "\n",
      "🎥 Processing: /Users/mario/Desktop/Desktop/UofA/4.Winter-2025/ece-910/Batman/Batman-(1989)-002/Batman (1989)-002_part_734.mp4\n",
      "📸 Total Frames: 87\n"
     ]
    },
    {
     "name": "stderr",
     "output_type": "stream",
     "text": [
      "Extracting Frames from Batman (1989)-002_part_734.mp4: 100%|██████████| 87/87 [00:00<00:00, 594.71it/s]\n"
     ]
    },
    {
     "name": "stdout",
     "output_type": "stream",
     "text": [
      "✅ Saved frames in: /Users/mario/Desktop/Desktop/UofA/4.Winter-2025/ece-910/Batman/VLM-testing/batman-frames/Batman (1989)-002_part_734\n",
      "\n",
      "🎥 Processing: /Users/mario/Desktop/Desktop/UofA/4.Winter-2025/ece-910/Batman/Batman-(1989)-002/Batman (1989)-002_part_735.mp4\n",
      "📸 Total Frames: 111\n"
     ]
    },
    {
     "name": "stderr",
     "output_type": "stream",
     "text": [
      "Extracting Frames from Batman (1989)-002_part_735.mp4: 100%|██████████| 111/111 [00:00<00:00, 592.45it/s]\n"
     ]
    },
    {
     "name": "stdout",
     "output_type": "stream",
     "text": [
      "✅ Saved frames in: /Users/mario/Desktop/Desktop/UofA/4.Winter-2025/ece-910/Batman/VLM-testing/batman-frames/Batman (1989)-002_part_735\n",
      "\n",
      "🎥 Processing: /Users/mario/Desktop/Desktop/UofA/4.Winter-2025/ece-910/Batman/Batman-(1989)-002/Batman (1989)-002_part_736.mp4\n",
      "📸 Total Frames: 112\n"
     ]
    },
    {
     "name": "stderr",
     "output_type": "stream",
     "text": [
      "Extracting Frames from Batman (1989)-002_part_736.mp4: 100%|██████████| 112/112 [00:00<00:00, 613.67it/s]\n"
     ]
    },
    {
     "name": "stdout",
     "output_type": "stream",
     "text": [
      "✅ Saved frames in: /Users/mario/Desktop/Desktop/UofA/4.Winter-2025/ece-910/Batman/VLM-testing/batman-frames/Batman (1989)-002_part_736\n",
      "\n",
      "🎥 Processing: /Users/mario/Desktop/Desktop/UofA/4.Winter-2025/ece-910/Batman/Batman-(1989)-002/Batman (1989)-002_part_737.mp4\n",
      "📸 Total Frames: 154\n"
     ]
    },
    {
     "name": "stderr",
     "output_type": "stream",
     "text": [
      "Extracting Frames from Batman (1989)-002_part_737.mp4: 100%|██████████| 154/154 [00:00<00:00, 519.13it/s]\n"
     ]
    },
    {
     "name": "stdout",
     "output_type": "stream",
     "text": [
      "✅ Saved frames in: /Users/mario/Desktop/Desktop/UofA/4.Winter-2025/ece-910/Batman/VLM-testing/batman-frames/Batman (1989)-002_part_737\n",
      "\n",
      "🎥 Processing: /Users/mario/Desktop/Desktop/UofA/4.Winter-2025/ece-910/Batman/Batman-(1989)-002/Batman (1989)-002_part_738.mp4\n",
      "📸 Total Frames: 204\n"
     ]
    },
    {
     "name": "stderr",
     "output_type": "stream",
     "text": [
      "Extracting Frames from Batman (1989)-002_part_738.mp4: 100%|██████████| 204/204 [00:00<00:00, 535.87it/s]\n"
     ]
    },
    {
     "name": "stdout",
     "output_type": "stream",
     "text": [
      "✅ Saved frames in: /Users/mario/Desktop/Desktop/UofA/4.Winter-2025/ece-910/Batman/VLM-testing/batman-frames/Batman (1989)-002_part_738\n",
      "\n",
      "🎥 Processing: /Users/mario/Desktop/Desktop/UofA/4.Winter-2025/ece-910/Batman/Batman-(1989)-002/Batman (1989)-002_part_739.mp4\n",
      "📸 Total Frames: 77\n"
     ]
    },
    {
     "name": "stderr",
     "output_type": "stream",
     "text": [
      "Extracting Frames from Batman (1989)-002_part_739.mp4: 100%|██████████| 77/77 [00:00<00:00, 236.02it/s]\n"
     ]
    },
    {
     "name": "stdout",
     "output_type": "stream",
     "text": [
      "✅ Saved frames in: /Users/mario/Desktop/Desktop/UofA/4.Winter-2025/ece-910/Batman/VLM-testing/batman-frames/Batman (1989)-002_part_739\n",
      "\n",
      "🎥 Processing: /Users/mario/Desktop/Desktop/UofA/4.Winter-2025/ece-910/Batman/Batman-(1989)-002/Batman (1989)-002_part_74.mp4\n",
      "📸 Total Frames: 1185\n"
     ]
    },
    {
     "name": "stderr",
     "output_type": "stream",
     "text": [
      "Extracting Frames from Batman (1989)-002_part_74.mp4: 100%|██████████| 1185/1185 [00:02<00:00, 541.14it/s]\n"
     ]
    },
    {
     "name": "stdout",
     "output_type": "stream",
     "text": [
      "✅ Saved frames in: /Users/mario/Desktop/Desktop/UofA/4.Winter-2025/ece-910/Batman/VLM-testing/batman-frames/Batman (1989)-002_part_74\n",
      "\n",
      "🎥 Processing: /Users/mario/Desktop/Desktop/UofA/4.Winter-2025/ece-910/Batman/Batman-(1989)-002/Batman (1989)-002_part_740.mp4\n",
      "📸 Total Frames: 732\n"
     ]
    },
    {
     "name": "stderr",
     "output_type": "stream",
     "text": [
      "Extracting Frames from Batman (1989)-002_part_740.mp4: 100%|██████████| 732/732 [00:01<00:00, 606.17it/s]\n"
     ]
    },
    {
     "name": "stdout",
     "output_type": "stream",
     "text": [
      "✅ Saved frames in: /Users/mario/Desktop/Desktop/UofA/4.Winter-2025/ece-910/Batman/VLM-testing/batman-frames/Batman (1989)-002_part_740\n",
      "\n",
      "🎥 Processing: /Users/mario/Desktop/Desktop/UofA/4.Winter-2025/ece-910/Batman/Batman-(1989)-002/Batman (1989)-002_part_741.mp4\n",
      "📸 Total Frames: 56\n"
     ]
    },
    {
     "name": "stderr",
     "output_type": "stream",
     "text": [
      "Extracting Frames from Batman (1989)-002_part_741.mp4: 100%|██████████| 56/56 [00:00<00:00, 593.94it/s]\n"
     ]
    },
    {
     "name": "stdout",
     "output_type": "stream",
     "text": [
      "✅ Saved frames in: /Users/mario/Desktop/Desktop/UofA/4.Winter-2025/ece-910/Batman/VLM-testing/batman-frames/Batman (1989)-002_part_741\n",
      "\n",
      "🎥 Processing: /Users/mario/Desktop/Desktop/UofA/4.Winter-2025/ece-910/Batman/Batman-(1989)-002/Batman (1989)-002_part_742.mp4\n",
      "📸 Total Frames: 202\n"
     ]
    },
    {
     "name": "stderr",
     "output_type": "stream",
     "text": [
      "Extracting Frames from Batman (1989)-002_part_742.mp4: 100%|██████████| 202/202 [00:00<00:00, 589.06it/s]\n"
     ]
    },
    {
     "name": "stdout",
     "output_type": "stream",
     "text": [
      "✅ Saved frames in: /Users/mario/Desktop/Desktop/UofA/4.Winter-2025/ece-910/Batman/VLM-testing/batman-frames/Batman (1989)-002_part_742\n",
      "\n",
      "🎥 Processing: /Users/mario/Desktop/Desktop/UofA/4.Winter-2025/ece-910/Batman/Batman-(1989)-002/Batman (1989)-002_part_743.mp4\n",
      "📸 Total Frames: 95\n"
     ]
    },
    {
     "name": "stderr",
     "output_type": "stream",
     "text": [
      "Extracting Frames from Batman (1989)-002_part_743.mp4: 100%|██████████| 95/95 [00:00<00:00, 591.06it/s]\n"
     ]
    },
    {
     "name": "stdout",
     "output_type": "stream",
     "text": [
      "✅ Saved frames in: /Users/mario/Desktop/Desktop/UofA/4.Winter-2025/ece-910/Batman/VLM-testing/batman-frames/Batman (1989)-002_part_743\n",
      "\n",
      "🎥 Processing: /Users/mario/Desktop/Desktop/UofA/4.Winter-2025/ece-910/Batman/Batman-(1989)-002/Batman (1989)-002_part_744.mp4\n",
      "📸 Total Frames: 287\n"
     ]
    },
    {
     "name": "stderr",
     "output_type": "stream",
     "text": [
      "Extracting Frames from Batman (1989)-002_part_744.mp4: 100%|██████████| 287/287 [00:00<00:00, 619.60it/s]\n"
     ]
    },
    {
     "name": "stdout",
     "output_type": "stream",
     "text": [
      "✅ Saved frames in: /Users/mario/Desktop/Desktop/UofA/4.Winter-2025/ece-910/Batman/VLM-testing/batman-frames/Batman (1989)-002_part_744\n",
      "\n",
      "🎥 Processing: /Users/mario/Desktop/Desktop/UofA/4.Winter-2025/ece-910/Batman/Batman-(1989)-002/Batman (1989)-002_part_745.mp4\n",
      "📸 Total Frames: 414\n"
     ]
    },
    {
     "name": "stderr",
     "output_type": "stream",
     "text": [
      "Extracting Frames from Batman (1989)-002_part_745.mp4: 100%|██████████| 414/414 [00:00<00:00, 612.08it/s]\n"
     ]
    },
    {
     "name": "stdout",
     "output_type": "stream",
     "text": [
      "✅ Saved frames in: /Users/mario/Desktop/Desktop/UofA/4.Winter-2025/ece-910/Batman/VLM-testing/batman-frames/Batman (1989)-002_part_745\n",
      "\n",
      "🎥 Processing: /Users/mario/Desktop/Desktop/UofA/4.Winter-2025/ece-910/Batman/Batman-(1989)-002/Batman (1989)-002_part_746.mp4\n",
      "📸 Total Frames: 1439\n"
     ]
    },
    {
     "name": "stderr",
     "output_type": "stream",
     "text": [
      "Extracting Frames from Batman (1989)-002_part_746.mp4: 100%|██████████| 1439/1439 [00:02<00:00, 614.51it/s]\n"
     ]
    },
    {
     "name": "stdout",
     "output_type": "stream",
     "text": [
      "✅ Saved frames in: /Users/mario/Desktop/Desktop/UofA/4.Winter-2025/ece-910/Batman/VLM-testing/batman-frames/Batman (1989)-002_part_746\n",
      "\n",
      "🎥 Processing: /Users/mario/Desktop/Desktop/UofA/4.Winter-2025/ece-910/Batman/Batman-(1989)-002/Batman (1989)-002_part_747.mp4\n",
      "📸 Total Frames: 50\n"
     ]
    },
    {
     "name": "stderr",
     "output_type": "stream",
     "text": [
      "Extracting Frames from Batman (1989)-002_part_747.mp4: 100%|██████████| 50/50 [00:00<00:00, 622.32it/s]\n"
     ]
    },
    {
     "name": "stdout",
     "output_type": "stream",
     "text": [
      "✅ Saved frames in: /Users/mario/Desktop/Desktop/UofA/4.Winter-2025/ece-910/Batman/VLM-testing/batman-frames/Batman (1989)-002_part_747\n",
      "\n",
      "🎥 Processing: /Users/mario/Desktop/Desktop/UofA/4.Winter-2025/ece-910/Batman/Batman-(1989)-002/Batman (1989)-002_part_748.mp4\n",
      "📸 Total Frames: 173\n"
     ]
    },
    {
     "name": "stderr",
     "output_type": "stream",
     "text": [
      "Extracting Frames from Batman (1989)-002_part_748.mp4: 100%|██████████| 173/173 [00:00<00:00, 644.85it/s]\n"
     ]
    },
    {
     "name": "stdout",
     "output_type": "stream",
     "text": [
      "✅ Saved frames in: /Users/mario/Desktop/Desktop/UofA/4.Winter-2025/ece-910/Batman/VLM-testing/batman-frames/Batman (1989)-002_part_748\n",
      "\n",
      "🎥 Processing: /Users/mario/Desktop/Desktop/UofA/4.Winter-2025/ece-910/Batman/Batman-(1989)-002/Batman (1989)-002_part_749.mp4\n",
      "📸 Total Frames: 24\n"
     ]
    },
    {
     "name": "stderr",
     "output_type": "stream",
     "text": [
      "Extracting Frames from Batman (1989)-002_part_749.mp4: 100%|██████████| 24/24 [00:00<00:00, 129.37it/s]\n"
     ]
    },
    {
     "name": "stdout",
     "output_type": "stream",
     "text": [
      "✅ Saved frames in: /Users/mario/Desktop/Desktop/UofA/4.Winter-2025/ece-910/Batman/VLM-testing/batman-frames/Batman (1989)-002_part_749\n",
      "\n",
      "🎥 Processing: /Users/mario/Desktop/Desktop/UofA/4.Winter-2025/ece-910/Batman/Batman-(1989)-002/Batman (1989)-002_part_75.mp4\n",
      "📸 Total Frames: 117\n"
     ]
    },
    {
     "name": "stderr",
     "output_type": "stream",
     "text": [
      "Extracting Frames from Batman (1989)-002_part_75.mp4: 100%|██████████| 117/117 [00:00<00:00, 598.65it/s]\n"
     ]
    },
    {
     "name": "stdout",
     "output_type": "stream",
     "text": [
      "✅ Saved frames in: /Users/mario/Desktop/Desktop/UofA/4.Winter-2025/ece-910/Batman/VLM-testing/batman-frames/Batman (1989)-002_part_75\n",
      "\n",
      "🎥 Processing: /Users/mario/Desktop/Desktop/UofA/4.Winter-2025/ece-910/Batman/Batman-(1989)-002/Batman (1989)-002_part_750.mp4\n",
      "📸 Total Frames: 42\n"
     ]
    },
    {
     "name": "stderr",
     "output_type": "stream",
     "text": [
      "Extracting Frames from Batman (1989)-002_part_750.mp4: 100%|██████████| 42/42 [00:00<00:00, 566.57it/s]\n"
     ]
    },
    {
     "name": "stdout",
     "output_type": "stream",
     "text": [
      "✅ Saved frames in: /Users/mario/Desktop/Desktop/UofA/4.Winter-2025/ece-910/Batman/VLM-testing/batman-frames/Batman (1989)-002_part_750\n",
      "\n",
      "🎥 Processing: /Users/mario/Desktop/Desktop/UofA/4.Winter-2025/ece-910/Batman/Batman-(1989)-002/Batman (1989)-002_part_751.mp4\n",
      "📸 Total Frames: 40\n"
     ]
    },
    {
     "name": "stderr",
     "output_type": "stream",
     "text": [
      "Extracting Frames from Batman (1989)-002_part_751.mp4: 100%|██████████| 40/40 [00:00<00:00, 561.78it/s]\n"
     ]
    },
    {
     "name": "stdout",
     "output_type": "stream",
     "text": [
      "✅ Saved frames in: /Users/mario/Desktop/Desktop/UofA/4.Winter-2025/ece-910/Batman/VLM-testing/batman-frames/Batman (1989)-002_part_751\n",
      "\n",
      "🎥 Processing: /Users/mario/Desktop/Desktop/UofA/4.Winter-2025/ece-910/Batman/Batman-(1989)-002/Batman (1989)-002_part_752.mp4\n",
      "📸 Total Frames: 11\n"
     ]
    },
    {
     "name": "stderr",
     "output_type": "stream",
     "text": [
      "Extracting Frames from Batman (1989)-002_part_752.mp4: 100%|██████████| 11/11 [00:00<00:00, 521.23it/s]\n"
     ]
    },
    {
     "name": "stdout",
     "output_type": "stream",
     "text": [
      "✅ Saved frames in: /Users/mario/Desktop/Desktop/UofA/4.Winter-2025/ece-910/Batman/VLM-testing/batman-frames/Batman (1989)-002_part_752\n",
      "\n",
      "🎥 Processing: /Users/mario/Desktop/Desktop/UofA/4.Winter-2025/ece-910/Batman/Batman-(1989)-002/Batman (1989)-002_part_753.mp4\n",
      "📸 Total Frames: 45\n"
     ]
    },
    {
     "name": "stderr",
     "output_type": "stream",
     "text": [
      "Extracting Frames from Batman (1989)-002_part_753.mp4: 100%|██████████| 45/45 [00:00<00:00, 588.30it/s]\n"
     ]
    },
    {
     "name": "stdout",
     "output_type": "stream",
     "text": [
      "✅ Saved frames in: /Users/mario/Desktop/Desktop/UofA/4.Winter-2025/ece-910/Batman/VLM-testing/batman-frames/Batman (1989)-002_part_753\n",
      "\n",
      "🎥 Processing: /Users/mario/Desktop/Desktop/UofA/4.Winter-2025/ece-910/Batman/Batman-(1989)-002/Batman (1989)-002_part_754.mp4\n",
      "📸 Total Frames: 177\n"
     ]
    },
    {
     "name": "stderr",
     "output_type": "stream",
     "text": [
      "Extracting Frames from Batman (1989)-002_part_754.mp4: 100%|██████████| 177/177 [00:00<00:00, 600.22it/s]\n"
     ]
    },
    {
     "name": "stdout",
     "output_type": "stream",
     "text": [
      "✅ Saved frames in: /Users/mario/Desktop/Desktop/UofA/4.Winter-2025/ece-910/Batman/VLM-testing/batman-frames/Batman (1989)-002_part_754\n",
      "\n",
      "🎥 Processing: /Users/mario/Desktop/Desktop/UofA/4.Winter-2025/ece-910/Batman/Batman-(1989)-002/Batman (1989)-002_part_755.mp4\n",
      "📸 Total Frames: 66\n"
     ]
    },
    {
     "name": "stderr",
     "output_type": "stream",
     "text": [
      "Extracting Frames from Batman (1989)-002_part_755.mp4: 100%|██████████| 66/66 [00:00<00:00, 370.14it/s]\n"
     ]
    },
    {
     "name": "stdout",
     "output_type": "stream",
     "text": [
      "✅ Saved frames in: /Users/mario/Desktop/Desktop/UofA/4.Winter-2025/ece-910/Batman/VLM-testing/batman-frames/Batman (1989)-002_part_755\n",
      "\n",
      "🎥 Processing: /Users/mario/Desktop/Desktop/UofA/4.Winter-2025/ece-910/Batman/Batman-(1989)-002/Batman (1989)-002_part_756.mp4\n",
      "📸 Total Frames: 146\n"
     ]
    },
    {
     "name": "stderr",
     "output_type": "stream",
     "text": [
      "Extracting Frames from Batman (1989)-002_part_756.mp4: 100%|██████████| 146/146 [00:00<00:00, 553.27it/s]\n"
     ]
    },
    {
     "name": "stdout",
     "output_type": "stream",
     "text": [
      "✅ Saved frames in: /Users/mario/Desktop/Desktop/UofA/4.Winter-2025/ece-910/Batman/VLM-testing/batman-frames/Batman (1989)-002_part_756\n",
      "\n",
      "🎥 Processing: /Users/mario/Desktop/Desktop/UofA/4.Winter-2025/ece-910/Batman/Batman-(1989)-002/Batman (1989)-002_part_757.mp4\n",
      "📸 Total Frames: 54\n"
     ]
    },
    {
     "name": "stderr",
     "output_type": "stream",
     "text": [
      "Extracting Frames from Batman (1989)-002_part_757.mp4: 100%|██████████| 54/54 [00:00<00:00, 623.94it/s]\n"
     ]
    },
    {
     "name": "stdout",
     "output_type": "stream",
     "text": [
      "✅ Saved frames in: /Users/mario/Desktop/Desktop/UofA/4.Winter-2025/ece-910/Batman/VLM-testing/batman-frames/Batman (1989)-002_part_757\n",
      "\n",
      "🎥 Processing: /Users/mario/Desktop/Desktop/UofA/4.Winter-2025/ece-910/Batman/Batman-(1989)-002/Batman (1989)-002_part_758.mp4\n",
      "📸 Total Frames: 147\n"
     ]
    },
    {
     "name": "stderr",
     "output_type": "stream",
     "text": [
      "Extracting Frames from Batman (1989)-002_part_758.mp4: 100%|██████████| 147/147 [00:00<00:00, 642.82it/s]\n"
     ]
    },
    {
     "name": "stdout",
     "output_type": "stream",
     "text": [
      "✅ Saved frames in: /Users/mario/Desktop/Desktop/UofA/4.Winter-2025/ece-910/Batman/VLM-testing/batman-frames/Batman (1989)-002_part_758\n",
      "\n",
      "🎥 Processing: /Users/mario/Desktop/Desktop/UofA/4.Winter-2025/ece-910/Batman/Batman-(1989)-002/Batman (1989)-002_part_759.mp4\n",
      "📸 Total Frames: 246\n"
     ]
    },
    {
     "name": "stderr",
     "output_type": "stream",
     "text": [
      "Extracting Frames from Batman (1989)-002_part_759.mp4: 100%|██████████| 246/246 [00:00<00:00, 607.02it/s]\n"
     ]
    },
    {
     "name": "stdout",
     "output_type": "stream",
     "text": [
      "✅ Saved frames in: /Users/mario/Desktop/Desktop/UofA/4.Winter-2025/ece-910/Batman/VLM-testing/batman-frames/Batman (1989)-002_part_759\n",
      "\n",
      "🎥 Processing: /Users/mario/Desktop/Desktop/UofA/4.Winter-2025/ece-910/Batman/Batman-(1989)-002/Batman (1989)-002_part_76.mp4\n",
      "📸 Total Frames: 69\n"
     ]
    },
    {
     "name": "stderr",
     "output_type": "stream",
     "text": [
      "Extracting Frames from Batman (1989)-002_part_76.mp4: 100%|██████████| 69/69 [00:00<00:00, 600.74it/s]\n"
     ]
    },
    {
     "name": "stdout",
     "output_type": "stream",
     "text": [
      "✅ Saved frames in: /Users/mario/Desktop/Desktop/UofA/4.Winter-2025/ece-910/Batman/VLM-testing/batman-frames/Batman (1989)-002_part_76\n",
      "\n",
      "🎥 Processing: /Users/mario/Desktop/Desktop/UofA/4.Winter-2025/ece-910/Batman/Batman-(1989)-002/Batman (1989)-002_part_760.mp4\n",
      "📸 Total Frames: 95\n"
     ]
    },
    {
     "name": "stderr",
     "output_type": "stream",
     "text": [
      "Extracting Frames from Batman (1989)-002_part_760.mp4: 100%|██████████| 95/95 [00:00<00:00, 604.99it/s]\n"
     ]
    },
    {
     "name": "stdout",
     "output_type": "stream",
     "text": [
      "✅ Saved frames in: /Users/mario/Desktop/Desktop/UofA/4.Winter-2025/ece-910/Batman/VLM-testing/batman-frames/Batman (1989)-002_part_760\n",
      "\n",
      "🎥 Processing: /Users/mario/Desktop/Desktop/UofA/4.Winter-2025/ece-910/Batman/Batman-(1989)-002/Batman (1989)-002_part_761.mp4\n",
      "📸 Total Frames: 110\n"
     ]
    },
    {
     "name": "stderr",
     "output_type": "stream",
     "text": [
      "Extracting Frames from Batman (1989)-002_part_761.mp4: 100%|██████████| 110/110 [00:00<00:00, 619.22it/s]\n"
     ]
    },
    {
     "name": "stdout",
     "output_type": "stream",
     "text": [
      "✅ Saved frames in: /Users/mario/Desktop/Desktop/UofA/4.Winter-2025/ece-910/Batman/VLM-testing/batman-frames/Batman (1989)-002_part_761\n",
      "\n",
      "🎥 Processing: /Users/mario/Desktop/Desktop/UofA/4.Winter-2025/ece-910/Batman/Batman-(1989)-002/Batman (1989)-002_part_762.mp4\n",
      "📸 Total Frames: 48\n"
     ]
    },
    {
     "name": "stderr",
     "output_type": "stream",
     "text": [
      "Extracting Frames from Batman (1989)-002_part_762.mp4: 100%|██████████| 48/48 [00:00<00:00, 560.30it/s]\n"
     ]
    },
    {
     "name": "stdout",
     "output_type": "stream",
     "text": [
      "✅ Saved frames in: /Users/mario/Desktop/Desktop/UofA/4.Winter-2025/ece-910/Batman/VLM-testing/batman-frames/Batman (1989)-002_part_762\n",
      "\n",
      "🎥 Processing: /Users/mario/Desktop/Desktop/UofA/4.Winter-2025/ece-910/Batman/Batman-(1989)-002/Batman (1989)-002_part_763.mp4\n",
      "📸 Total Frames: 80\n"
     ]
    },
    {
     "name": "stderr",
     "output_type": "stream",
     "text": [
      "Extracting Frames from Batman (1989)-002_part_763.mp4: 100%|██████████| 80/80 [00:00<00:00, 588.85it/s]\n"
     ]
    },
    {
     "name": "stdout",
     "output_type": "stream",
     "text": [
      "✅ Saved frames in: /Users/mario/Desktop/Desktop/UofA/4.Winter-2025/ece-910/Batman/VLM-testing/batman-frames/Batman (1989)-002_part_763\n",
      "\n",
      "🎥 Processing: /Users/mario/Desktop/Desktop/UofA/4.Winter-2025/ece-910/Batman/Batman-(1989)-002/Batman (1989)-002_part_764.mp4\n",
      "📸 Total Frames: 57\n"
     ]
    },
    {
     "name": "stderr",
     "output_type": "stream",
     "text": [
      "Extracting Frames from Batman (1989)-002_part_764.mp4: 100%|██████████| 57/57 [00:00<00:00, 537.31it/s]\n"
     ]
    },
    {
     "name": "stdout",
     "output_type": "stream",
     "text": [
      "✅ Saved frames in: /Users/mario/Desktop/Desktop/UofA/4.Winter-2025/ece-910/Batman/VLM-testing/batman-frames/Batman (1989)-002_part_764\n",
      "\n",
      "🎥 Processing: /Users/mario/Desktop/Desktop/UofA/4.Winter-2025/ece-910/Batman/Batman-(1989)-002/Batman (1989)-002_part_765.mp4\n",
      "📸 Total Frames: 82\n"
     ]
    },
    {
     "name": "stderr",
     "output_type": "stream",
     "text": [
      "Extracting Frames from Batman (1989)-002_part_765.mp4: 100%|██████████| 82/82 [00:00<00:00, 568.71it/s]\n"
     ]
    },
    {
     "name": "stdout",
     "output_type": "stream",
     "text": [
      "✅ Saved frames in: /Users/mario/Desktop/Desktop/UofA/4.Winter-2025/ece-910/Batman/VLM-testing/batman-frames/Batman (1989)-002_part_765\n",
      "\n",
      "🎥 Processing: /Users/mario/Desktop/Desktop/UofA/4.Winter-2025/ece-910/Batman/Batman-(1989)-002/Batman (1989)-002_part_766.mp4\n",
      "📸 Total Frames: 2201\n"
     ]
    },
    {
     "name": "stderr",
     "output_type": "stream",
     "text": [
      "Extracting Frames from Batman (1989)-002_part_766.mp4: 100%|██████████| 2201/2201 [00:03<00:00, 578.70it/s]\n"
     ]
    },
    {
     "name": "stdout",
     "output_type": "stream",
     "text": [
      "✅ Saved frames in: /Users/mario/Desktop/Desktop/UofA/4.Winter-2025/ece-910/Batman/VLM-testing/batman-frames/Batman (1989)-002_part_766\n",
      "\n",
      "🎥 Processing: /Users/mario/Desktop/Desktop/UofA/4.Winter-2025/ece-910/Batman/Batman-(1989)-002/Batman (1989)-002_part_767.mp4\n",
      "📸 Total Frames: 146\n"
     ]
    },
    {
     "name": "stderr",
     "output_type": "stream",
     "text": [
      "Extracting Frames from Batman (1989)-002_part_767.mp4: 100%|██████████| 146/146 [00:00<00:00, 636.50it/s]\n"
     ]
    },
    {
     "name": "stdout",
     "output_type": "stream",
     "text": [
      "✅ Saved frames in: /Users/mario/Desktop/Desktop/UofA/4.Winter-2025/ece-910/Batman/VLM-testing/batman-frames/Batman (1989)-002_part_767\n",
      "\n",
      "🎥 Processing: /Users/mario/Desktop/Desktop/UofA/4.Winter-2025/ece-910/Batman/Batman-(1989)-002/Batman (1989)-002_part_768.mp4\n",
      "📸 Total Frames: 27\n"
     ]
    },
    {
     "name": "stderr",
     "output_type": "stream",
     "text": [
      "Extracting Frames from Batman (1989)-002_part_768.mp4: 100%|██████████| 27/27 [00:00<00:00, 551.77it/s]\n"
     ]
    },
    {
     "name": "stdout",
     "output_type": "stream",
     "text": [
      "✅ Saved frames in: /Users/mario/Desktop/Desktop/UofA/4.Winter-2025/ece-910/Batman/VLM-testing/batman-frames/Batman (1989)-002_part_768\n",
      "\n",
      "🎥 Processing: /Users/mario/Desktop/Desktop/UofA/4.Winter-2025/ece-910/Batman/Batman-(1989)-002/Batman (1989)-002_part_769.mp4\n",
      "📸 Total Frames: 12\n"
     ]
    },
    {
     "name": "stderr",
     "output_type": "stream",
     "text": [
      "Extracting Frames from Batman (1989)-002_part_769.mp4: 100%|██████████| 12/12 [00:00<00:00, 556.46it/s]\n"
     ]
    },
    {
     "name": "stdout",
     "output_type": "stream",
     "text": [
      "✅ Saved frames in: /Users/mario/Desktop/Desktop/UofA/4.Winter-2025/ece-910/Batman/VLM-testing/batman-frames/Batman (1989)-002_part_769\n",
      "\n",
      "🎥 Processing: /Users/mario/Desktop/Desktop/UofA/4.Winter-2025/ece-910/Batman/Batman-(1989)-002/Batman (1989)-002_part_77.mp4\n",
      "📸 Total Frames: 43\n"
     ]
    },
    {
     "name": "stderr",
     "output_type": "stream",
     "text": [
      "Extracting Frames from Batman (1989)-002_part_77.mp4: 100%|██████████| 43/43 [00:00<00:00, 551.89it/s]\n"
     ]
    },
    {
     "name": "stdout",
     "output_type": "stream",
     "text": [
      "✅ Saved frames in: /Users/mario/Desktop/Desktop/UofA/4.Winter-2025/ece-910/Batman/VLM-testing/batman-frames/Batman (1989)-002_part_77\n",
      "\n",
      "🎥 Processing: /Users/mario/Desktop/Desktop/UofA/4.Winter-2025/ece-910/Batman/Batman-(1989)-002/Batman (1989)-002_part_770.mp4\n",
      "📸 Total Frames: 194\n"
     ]
    },
    {
     "name": "stderr",
     "output_type": "stream",
     "text": [
      "Extracting Frames from Batman (1989)-002_part_770.mp4: 100%|██████████| 194/194 [00:00<00:00, 628.51it/s]\n"
     ]
    },
    {
     "name": "stdout",
     "output_type": "stream",
     "text": [
      "✅ Saved frames in: /Users/mario/Desktop/Desktop/UofA/4.Winter-2025/ece-910/Batman/VLM-testing/batman-frames/Batman (1989)-002_part_770\n",
      "\n",
      "🎥 Processing: /Users/mario/Desktop/Desktop/UofA/4.Winter-2025/ece-910/Batman/Batman-(1989)-002/Batman (1989)-002_part_771.mp4\n",
      "📸 Total Frames: 223\n"
     ]
    },
    {
     "name": "stderr",
     "output_type": "stream",
     "text": [
      "Extracting Frames from Batman (1989)-002_part_771.mp4: 100%|██████████| 223/223 [00:00<00:00, 535.34it/s]\n"
     ]
    },
    {
     "name": "stdout",
     "output_type": "stream",
     "text": [
      "✅ Saved frames in: /Users/mario/Desktop/Desktop/UofA/4.Winter-2025/ece-910/Batman/VLM-testing/batman-frames/Batman (1989)-002_part_771\n",
      "\n",
      "🎥 Processing: /Users/mario/Desktop/Desktop/UofA/4.Winter-2025/ece-910/Batman/Batman-(1989)-002/Batman (1989)-002_part_772.mp4\n",
      "📸 Total Frames: 19\n"
     ]
    },
    {
     "name": "stderr",
     "output_type": "stream",
     "text": [
      "Extracting Frames from Batman (1989)-002_part_772.mp4: 100%|██████████| 19/19 [00:00<00:00, 399.84it/s]\n"
     ]
    },
    {
     "name": "stdout",
     "output_type": "stream",
     "text": [
      "✅ Saved frames in: /Users/mario/Desktop/Desktop/UofA/4.Winter-2025/ece-910/Batman/VLM-testing/batman-frames/Batman (1989)-002_part_772\n",
      "\n",
      "🎥 Processing: /Users/mario/Desktop/Desktop/UofA/4.Winter-2025/ece-910/Batman/Batman-(1989)-002/Batman (1989)-002_part_773.mp4\n",
      "📸 Total Frames: 151\n"
     ]
    },
    {
     "name": "stderr",
     "output_type": "stream",
     "text": [
      "Extracting Frames from Batman (1989)-002_part_773.mp4: 100%|██████████| 151/151 [00:00<00:00, 580.58it/s]\n"
     ]
    },
    {
     "name": "stdout",
     "output_type": "stream",
     "text": [
      "✅ Saved frames in: /Users/mario/Desktop/Desktop/UofA/4.Winter-2025/ece-910/Batman/VLM-testing/batman-frames/Batman (1989)-002_part_773\n",
      "\n",
      "🎥 Processing: /Users/mario/Desktop/Desktop/UofA/4.Winter-2025/ece-910/Batman/Batman-(1989)-002/Batman (1989)-002_part_774.mp4\n",
      "📸 Total Frames: 111\n"
     ]
    },
    {
     "name": "stderr",
     "output_type": "stream",
     "text": [
      "Extracting Frames from Batman (1989)-002_part_774.mp4: 100%|██████████| 111/111 [00:00<00:00, 579.41it/s]\n"
     ]
    },
    {
     "name": "stdout",
     "output_type": "stream",
     "text": [
      "✅ Saved frames in: /Users/mario/Desktop/Desktop/UofA/4.Winter-2025/ece-910/Batman/VLM-testing/batman-frames/Batman (1989)-002_part_774\n",
      "\n",
      "🎥 Processing: /Users/mario/Desktop/Desktop/UofA/4.Winter-2025/ece-910/Batman/Batman-(1989)-002/Batman (1989)-002_part_775.mp4\n",
      "📸 Total Frames: 157\n"
     ]
    },
    {
     "name": "stderr",
     "output_type": "stream",
     "text": [
      "Extracting Frames from Batman (1989)-002_part_775.mp4: 100%|██████████| 157/157 [00:00<00:00, 607.87it/s]\n"
     ]
    },
    {
     "name": "stdout",
     "output_type": "stream",
     "text": [
      "✅ Saved frames in: /Users/mario/Desktop/Desktop/UofA/4.Winter-2025/ece-910/Batman/VLM-testing/batman-frames/Batman (1989)-002_part_775\n",
      "\n",
      "🎥 Processing: /Users/mario/Desktop/Desktop/UofA/4.Winter-2025/ece-910/Batman/Batman-(1989)-002/Batman (1989)-002_part_776.mp4\n",
      "📸 Total Frames: 35\n"
     ]
    },
    {
     "name": "stderr",
     "output_type": "stream",
     "text": [
      "Extracting Frames from Batman (1989)-002_part_776.mp4: 100%|██████████| 35/35 [00:00<00:00, 523.29it/s]\n"
     ]
    },
    {
     "name": "stdout",
     "output_type": "stream",
     "text": [
      "✅ Saved frames in: /Users/mario/Desktop/Desktop/UofA/4.Winter-2025/ece-910/Batman/VLM-testing/batman-frames/Batman (1989)-002_part_776\n",
      "\n",
      "🎥 Processing: /Users/mario/Desktop/Desktop/UofA/4.Winter-2025/ece-910/Batman/Batman-(1989)-002/Batman (1989)-002_part_777.mp4\n",
      "📸 Total Frames: 104\n"
     ]
    },
    {
     "name": "stderr",
     "output_type": "stream",
     "text": [
      "Extracting Frames from Batman (1989)-002_part_777.mp4: 100%|██████████| 104/104 [00:00<00:00, 581.19it/s]\n"
     ]
    },
    {
     "name": "stdout",
     "output_type": "stream",
     "text": [
      "✅ Saved frames in: /Users/mario/Desktop/Desktop/UofA/4.Winter-2025/ece-910/Batman/VLM-testing/batman-frames/Batman (1989)-002_part_777\n",
      "\n",
      "🎥 Processing: /Users/mario/Desktop/Desktop/UofA/4.Winter-2025/ece-910/Batman/Batman-(1989)-002/Batman (1989)-002_part_778.mp4\n",
      "📸 Total Frames: 46\n"
     ]
    },
    {
     "name": "stderr",
     "output_type": "stream",
     "text": [
      "Extracting Frames from Batman (1989)-002_part_778.mp4: 100%|██████████| 46/46 [00:00<00:00, 598.38it/s]\n"
     ]
    },
    {
     "name": "stdout",
     "output_type": "stream",
     "text": [
      "✅ Saved frames in: /Users/mario/Desktop/Desktop/UofA/4.Winter-2025/ece-910/Batman/VLM-testing/batman-frames/Batman (1989)-002_part_778\n",
      "\n",
      "🎥 Processing: /Users/mario/Desktop/Desktop/UofA/4.Winter-2025/ece-910/Batman/Batman-(1989)-002/Batman (1989)-002_part_779.mp4\n",
      "📸 Total Frames: 49\n"
     ]
    },
    {
     "name": "stderr",
     "output_type": "stream",
     "text": [
      "Extracting Frames from Batman (1989)-002_part_779.mp4: 100%|██████████| 49/49 [00:00<00:00, 583.63it/s]\n"
     ]
    },
    {
     "name": "stdout",
     "output_type": "stream",
     "text": [
      "✅ Saved frames in: /Users/mario/Desktop/Desktop/UofA/4.Winter-2025/ece-910/Batman/VLM-testing/batman-frames/Batman (1989)-002_part_779\n",
      "\n",
      "🎥 Processing: /Users/mario/Desktop/Desktop/UofA/4.Winter-2025/ece-910/Batman/Batman-(1989)-002/Batman (1989)-002_part_78.mp4\n",
      "📸 Total Frames: 56\n"
     ]
    },
    {
     "name": "stderr",
     "output_type": "stream",
     "text": [
      "Extracting Frames from Batman (1989)-002_part_78.mp4: 100%|██████████| 56/56 [00:00<00:00, 579.24it/s]\n"
     ]
    },
    {
     "name": "stdout",
     "output_type": "stream",
     "text": [
      "✅ Saved frames in: /Users/mario/Desktop/Desktop/UofA/4.Winter-2025/ece-910/Batman/VLM-testing/batman-frames/Batman (1989)-002_part_78\n",
      "\n",
      "🎥 Processing: /Users/mario/Desktop/Desktop/UofA/4.Winter-2025/ece-910/Batman/Batman-(1989)-002/Batman (1989)-002_part_780.mp4\n",
      "📸 Total Frames: 58\n"
     ]
    },
    {
     "name": "stderr",
     "output_type": "stream",
     "text": [
      "Extracting Frames from Batman (1989)-002_part_780.mp4: 100%|██████████| 58/58 [00:00<00:00, 628.20it/s]\n"
     ]
    },
    {
     "name": "stdout",
     "output_type": "stream",
     "text": [
      "✅ Saved frames in: /Users/mario/Desktop/Desktop/UofA/4.Winter-2025/ece-910/Batman/VLM-testing/batman-frames/Batman (1989)-002_part_780\n",
      "\n",
      "🎥 Processing: /Users/mario/Desktop/Desktop/UofA/4.Winter-2025/ece-910/Batman/Batman-(1989)-002/Batman (1989)-002_part_781.mp4\n",
      "📸 Total Frames: 230\n"
     ]
    },
    {
     "name": "stderr",
     "output_type": "stream",
     "text": [
      "Extracting Frames from Batman (1989)-002_part_781.mp4: 100%|██████████| 230/230 [00:00<00:00, 628.76it/s]\n"
     ]
    },
    {
     "name": "stdout",
     "output_type": "stream",
     "text": [
      "✅ Saved frames in: /Users/mario/Desktop/Desktop/UofA/4.Winter-2025/ece-910/Batman/VLM-testing/batman-frames/Batman (1989)-002_part_781\n",
      "\n",
      "🎥 Processing: /Users/mario/Desktop/Desktop/UofA/4.Winter-2025/ece-910/Batman/Batman-(1989)-002/Batman (1989)-002_part_782.mp4\n",
      "📸 Total Frames: 72\n"
     ]
    },
    {
     "name": "stderr",
     "output_type": "stream",
     "text": [
      "Extracting Frames from Batman (1989)-002_part_782.mp4: 100%|██████████| 72/72 [00:00<00:00, 583.89it/s]\n"
     ]
    },
    {
     "name": "stdout",
     "output_type": "stream",
     "text": [
      "✅ Saved frames in: /Users/mario/Desktop/Desktop/UofA/4.Winter-2025/ece-910/Batman/VLM-testing/batman-frames/Batman (1989)-002_part_782\n",
      "\n",
      "🎥 Processing: /Users/mario/Desktop/Desktop/UofA/4.Winter-2025/ece-910/Batman/Batman-(1989)-002/Batman (1989)-002_part_783.mp4\n",
      "📸 Total Frames: 38\n"
     ]
    },
    {
     "name": "stderr",
     "output_type": "stream",
     "text": [
      "Extracting Frames from Batman (1989)-002_part_783.mp4: 100%|██████████| 38/38 [00:00<00:00, 556.35it/s]\n"
     ]
    },
    {
     "name": "stdout",
     "output_type": "stream",
     "text": [
      "✅ Saved frames in: /Users/mario/Desktop/Desktop/UofA/4.Winter-2025/ece-910/Batman/VLM-testing/batman-frames/Batman (1989)-002_part_783\n",
      "\n",
      "🎥 Processing: /Users/mario/Desktop/Desktop/UofA/4.Winter-2025/ece-910/Batman/Batman-(1989)-002/Batman (1989)-002_part_784.mp4\n",
      "📸 Total Frames: 125\n"
     ]
    },
    {
     "name": "stderr",
     "output_type": "stream",
     "text": [
      "Extracting Frames from Batman (1989)-002_part_784.mp4: 100%|██████████| 125/125 [00:00<00:00, 345.14it/s]\n"
     ]
    },
    {
     "name": "stdout",
     "output_type": "stream",
     "text": [
      "✅ Saved frames in: /Users/mario/Desktop/Desktop/UofA/4.Winter-2025/ece-910/Batman/VLM-testing/batman-frames/Batman (1989)-002_part_784\n",
      "\n",
      "🎥 Processing: /Users/mario/Desktop/Desktop/UofA/4.Winter-2025/ece-910/Batman/Batman-(1989)-002/Batman (1989)-002_part_785.mp4\n",
      "📸 Total Frames: 53\n"
     ]
    },
    {
     "name": "stderr",
     "output_type": "stream",
     "text": [
      "Extracting Frames from Batman (1989)-002_part_785.mp4: 100%|██████████| 53/53 [00:00<00:00, 529.57it/s]\n"
     ]
    },
    {
     "name": "stdout",
     "output_type": "stream",
     "text": [
      "✅ Saved frames in: /Users/mario/Desktop/Desktop/UofA/4.Winter-2025/ece-910/Batman/VLM-testing/batman-frames/Batman (1989)-002_part_785\n",
      "\n",
      "🎥 Processing: /Users/mario/Desktop/Desktop/UofA/4.Winter-2025/ece-910/Batman/Batman-(1989)-002/Batman (1989)-002_part_786.mp4\n",
      "📸 Total Frames: 13\n"
     ]
    },
    {
     "name": "stderr",
     "output_type": "stream",
     "text": [
      "Extracting Frames from Batman (1989)-002_part_786.mp4: 100%|██████████| 13/13 [00:00<00:00, 503.45it/s]\n"
     ]
    },
    {
     "name": "stdout",
     "output_type": "stream",
     "text": [
      "✅ Saved frames in: /Users/mario/Desktop/Desktop/UofA/4.Winter-2025/ece-910/Batman/VLM-testing/batman-frames/Batman (1989)-002_part_786\n",
      "\n",
      "🎥 Processing: /Users/mario/Desktop/Desktop/UofA/4.Winter-2025/ece-910/Batman/Batman-(1989)-002/Batman (1989)-002_part_787.mp4\n",
      "📸 Total Frames: 221\n"
     ]
    },
    {
     "name": "stderr",
     "output_type": "stream",
     "text": [
      "Extracting Frames from Batman (1989)-002_part_787.mp4: 100%|██████████| 221/221 [00:00<00:00, 606.77it/s]\n"
     ]
    },
    {
     "name": "stdout",
     "output_type": "stream",
     "text": [
      "✅ Saved frames in: /Users/mario/Desktop/Desktop/UofA/4.Winter-2025/ece-910/Batman/VLM-testing/batman-frames/Batman (1989)-002_part_787\n",
      "\n",
      "🎥 Processing: /Users/mario/Desktop/Desktop/UofA/4.Winter-2025/ece-910/Batman/Batman-(1989)-002/Batman (1989)-002_part_788.mp4\n",
      "📸 Total Frames: 230\n"
     ]
    },
    {
     "name": "stderr",
     "output_type": "stream",
     "text": [
      "Extracting Frames from Batman (1989)-002_part_788.mp4: 100%|██████████| 230/230 [00:00<00:00, 592.82it/s]\n"
     ]
    },
    {
     "name": "stdout",
     "output_type": "stream",
     "text": [
      "✅ Saved frames in: /Users/mario/Desktop/Desktop/UofA/4.Winter-2025/ece-910/Batman/VLM-testing/batman-frames/Batman (1989)-002_part_788\n",
      "\n",
      "🎥 Processing: /Users/mario/Desktop/Desktop/UofA/4.Winter-2025/ece-910/Batman/Batman-(1989)-002/Batman (1989)-002_part_789.mp4\n",
      "📸 Total Frames: 49\n"
     ]
    },
    {
     "name": "stderr",
     "output_type": "stream",
     "text": [
      "Extracting Frames from Batman (1989)-002_part_789.mp4: 100%|██████████| 49/49 [00:00<00:00, 559.62it/s]\n"
     ]
    },
    {
     "name": "stdout",
     "output_type": "stream",
     "text": [
      "✅ Saved frames in: /Users/mario/Desktop/Desktop/UofA/4.Winter-2025/ece-910/Batman/VLM-testing/batman-frames/Batman (1989)-002_part_789\n",
      "\n",
      "🎥 Processing: /Users/mario/Desktop/Desktop/UofA/4.Winter-2025/ece-910/Batman/Batman-(1989)-002/Batman (1989)-002_part_79.mp4\n",
      "📸 Total Frames: 172\n"
     ]
    },
    {
     "name": "stderr",
     "output_type": "stream",
     "text": [
      "Extracting Frames from Batman (1989)-002_part_79.mp4: 100%|██████████| 172/172 [00:00<00:00, 591.38it/s]\n"
     ]
    },
    {
     "name": "stdout",
     "output_type": "stream",
     "text": [
      "✅ Saved frames in: /Users/mario/Desktop/Desktop/UofA/4.Winter-2025/ece-910/Batman/VLM-testing/batman-frames/Batman (1989)-002_part_79\n",
      "\n",
      "🎥 Processing: /Users/mario/Desktop/Desktop/UofA/4.Winter-2025/ece-910/Batman/Batman-(1989)-002/Batman (1989)-002_part_790.mp4\n",
      "📸 Total Frames: 43\n"
     ]
    },
    {
     "name": "stderr",
     "output_type": "stream",
     "text": [
      "Extracting Frames from Batman (1989)-002_part_790.mp4: 100%|██████████| 43/43 [00:00<00:00, 536.33it/s]\n"
     ]
    },
    {
     "name": "stdout",
     "output_type": "stream",
     "text": [
      "✅ Saved frames in: /Users/mario/Desktop/Desktop/UofA/4.Winter-2025/ece-910/Batman/VLM-testing/batman-frames/Batman (1989)-002_part_790\n",
      "\n",
      "🎥 Processing: /Users/mario/Desktop/Desktop/UofA/4.Winter-2025/ece-910/Batman/Batman-(1989)-002/Batman (1989)-002_part_791.mp4\n",
      "📸 Total Frames: 52\n"
     ]
    },
    {
     "name": "stderr",
     "output_type": "stream",
     "text": [
      "Extracting Frames from Batman (1989)-002_part_791.mp4: 100%|██████████| 52/52 [00:00<00:00, 591.40it/s]\n"
     ]
    },
    {
     "name": "stdout",
     "output_type": "stream",
     "text": [
      "✅ Saved frames in: /Users/mario/Desktop/Desktop/UofA/4.Winter-2025/ece-910/Batman/VLM-testing/batman-frames/Batman (1989)-002_part_791\n",
      "\n",
      "🎥 Processing: /Users/mario/Desktop/Desktop/UofA/4.Winter-2025/ece-910/Batman/Batman-(1989)-002/Batman (1989)-002_part_792.mp4\n",
      "📸 Total Frames: 64\n"
     ]
    },
    {
     "name": "stderr",
     "output_type": "stream",
     "text": [
      "Extracting Frames from Batman (1989)-002_part_792.mp4: 100%|██████████| 64/64 [00:00<00:00, 564.61it/s]\n"
     ]
    },
    {
     "name": "stdout",
     "output_type": "stream",
     "text": [
      "✅ Saved frames in: /Users/mario/Desktop/Desktop/UofA/4.Winter-2025/ece-910/Batman/VLM-testing/batman-frames/Batman (1989)-002_part_792\n",
      "\n",
      "🎥 Processing: /Users/mario/Desktop/Desktop/UofA/4.Winter-2025/ece-910/Batman/Batman-(1989)-002/Batman (1989)-002_part_793.mp4\n",
      "📸 Total Frames: 72\n"
     ]
    },
    {
     "name": "stderr",
     "output_type": "stream",
     "text": [
      "Extracting Frames from Batman (1989)-002_part_793.mp4: 100%|██████████| 72/72 [00:00<00:00, 486.90it/s]\n"
     ]
    },
    {
     "name": "stdout",
     "output_type": "stream",
     "text": [
      "✅ Saved frames in: /Users/mario/Desktop/Desktop/UofA/4.Winter-2025/ece-910/Batman/VLM-testing/batman-frames/Batman (1989)-002_part_793\n",
      "\n",
      "🎥 Processing: /Users/mario/Desktop/Desktop/UofA/4.Winter-2025/ece-910/Batman/Batman-(1989)-002/Batman (1989)-002_part_794.mp4\n",
      "📸 Total Frames: 35\n"
     ]
    },
    {
     "name": "stderr",
     "output_type": "stream",
     "text": [
      "Extracting Frames from Batman (1989)-002_part_794.mp4: 100%|██████████| 35/35 [00:00<00:00, 587.95it/s]\n"
     ]
    },
    {
     "name": "stdout",
     "output_type": "stream",
     "text": [
      "✅ Saved frames in: /Users/mario/Desktop/Desktop/UofA/4.Winter-2025/ece-910/Batman/VLM-testing/batman-frames/Batman (1989)-002_part_794\n",
      "\n",
      "🎥 Processing: /Users/mario/Desktop/Desktop/UofA/4.Winter-2025/ece-910/Batman/Batman-(1989)-002/Batman (1989)-002_part_795.mp4\n",
      "📸 Total Frames: 35\n"
     ]
    },
    {
     "name": "stderr",
     "output_type": "stream",
     "text": [
      "Extracting Frames from Batman (1989)-002_part_795.mp4: 100%|██████████| 35/35 [00:00<00:00, 567.47it/s]\n"
     ]
    },
    {
     "name": "stdout",
     "output_type": "stream",
     "text": [
      "✅ Saved frames in: /Users/mario/Desktop/Desktop/UofA/4.Winter-2025/ece-910/Batman/VLM-testing/batman-frames/Batman (1989)-002_part_795\n",
      "\n",
      "🎥 Processing: /Users/mario/Desktop/Desktop/UofA/4.Winter-2025/ece-910/Batman/Batman-(1989)-002/Batman (1989)-002_part_796.mp4\n",
      "📸 Total Frames: 216\n"
     ]
    },
    {
     "name": "stderr",
     "output_type": "stream",
     "text": [
      "Extracting Frames from Batman (1989)-002_part_796.mp4: 100%|██████████| 216/216 [00:00<00:00, 617.39it/s]\n"
     ]
    },
    {
     "name": "stdout",
     "output_type": "stream",
     "text": [
      "✅ Saved frames in: /Users/mario/Desktop/Desktop/UofA/4.Winter-2025/ece-910/Batman/VLM-testing/batman-frames/Batman (1989)-002_part_796\n",
      "\n",
      "🎥 Processing: /Users/mario/Desktop/Desktop/UofA/4.Winter-2025/ece-910/Batman/Batman-(1989)-002/Batman (1989)-002_part_797.mp4\n",
      "📸 Total Frames: 81\n"
     ]
    },
    {
     "name": "stderr",
     "output_type": "stream",
     "text": [
      "Extracting Frames from Batman (1989)-002_part_797.mp4: 100%|██████████| 81/81 [00:00<00:00, 599.45it/s]\n"
     ]
    },
    {
     "name": "stdout",
     "output_type": "stream",
     "text": [
      "✅ Saved frames in: /Users/mario/Desktop/Desktop/UofA/4.Winter-2025/ece-910/Batman/VLM-testing/batman-frames/Batman (1989)-002_part_797\n",
      "\n",
      "🎥 Processing: /Users/mario/Desktop/Desktop/UofA/4.Winter-2025/ece-910/Batman/Batman-(1989)-002/Batman (1989)-002_part_798.mp4\n",
      "📸 Total Frames: 48\n"
     ]
    },
    {
     "name": "stderr",
     "output_type": "stream",
     "text": [
      "Extracting Frames from Batman (1989)-002_part_798.mp4: 100%|██████████| 48/48 [00:00<00:00, 594.62it/s]\n"
     ]
    },
    {
     "name": "stdout",
     "output_type": "stream",
     "text": [
      "✅ Saved frames in: /Users/mario/Desktop/Desktop/UofA/4.Winter-2025/ece-910/Batman/VLM-testing/batman-frames/Batman (1989)-002_part_798\n",
      "\n",
      "🎥 Processing: /Users/mario/Desktop/Desktop/UofA/4.Winter-2025/ece-910/Batman/Batman-(1989)-002/Batman (1989)-002_part_799.mp4\n",
      "📸 Total Frames: 121\n"
     ]
    },
    {
     "name": "stderr",
     "output_type": "stream",
     "text": [
      "Extracting Frames from Batman (1989)-002_part_799.mp4: 100%|██████████| 121/121 [00:00<00:00, 532.88it/s]\n"
     ]
    },
    {
     "name": "stdout",
     "output_type": "stream",
     "text": [
      "✅ Saved frames in: /Users/mario/Desktop/Desktop/UofA/4.Winter-2025/ece-910/Batman/VLM-testing/batman-frames/Batman (1989)-002_part_799\n",
      "\n",
      "🎥 Processing: /Users/mario/Desktop/Desktop/UofA/4.Winter-2025/ece-910/Batman/Batman-(1989)-002/Batman (1989)-002_part_8.mp4\n",
      "📸 Total Frames: 41\n"
     ]
    },
    {
     "name": "stderr",
     "output_type": "stream",
     "text": [
      "Extracting Frames from Batman (1989)-002_part_8.mp4: 100%|██████████| 41/41 [00:00<00:00, 582.45it/s]\n"
     ]
    },
    {
     "name": "stdout",
     "output_type": "stream",
     "text": [
      "✅ Saved frames in: /Users/mario/Desktop/Desktop/UofA/4.Winter-2025/ece-910/Batman/VLM-testing/batman-frames/Batman (1989)-002_part_8\n",
      "\n",
      "🎥 Processing: /Users/mario/Desktop/Desktop/UofA/4.Winter-2025/ece-910/Batman/Batman-(1989)-002/Batman (1989)-002_part_80.mp4\n",
      "📸 Total Frames: 57\n"
     ]
    },
    {
     "name": "stderr",
     "output_type": "stream",
     "text": [
      "Extracting Frames from Batman (1989)-002_part_80.mp4: 100%|██████████| 57/57 [00:00<00:00, 595.86it/s]\n"
     ]
    },
    {
     "name": "stdout",
     "output_type": "stream",
     "text": [
      "✅ Saved frames in: /Users/mario/Desktop/Desktop/UofA/4.Winter-2025/ece-910/Batman/VLM-testing/batman-frames/Batman (1989)-002_part_80\n",
      "\n",
      "🎥 Processing: /Users/mario/Desktop/Desktop/UofA/4.Winter-2025/ece-910/Batman/Batman-(1989)-002/Batman (1989)-002_part_800.mp4\n",
      "📸 Total Frames: 148\n"
     ]
    },
    {
     "name": "stderr",
     "output_type": "stream",
     "text": [
      "Extracting Frames from Batman (1989)-002_part_800.mp4: 100%|██████████| 148/148 [00:00<00:00, 596.97it/s]\n"
     ]
    },
    {
     "name": "stdout",
     "output_type": "stream",
     "text": [
      "✅ Saved frames in: /Users/mario/Desktop/Desktop/UofA/4.Winter-2025/ece-910/Batman/VLM-testing/batman-frames/Batman (1989)-002_part_800\n",
      "\n",
      "🎥 Processing: /Users/mario/Desktop/Desktop/UofA/4.Winter-2025/ece-910/Batman/Batman-(1989)-002/Batman (1989)-002_part_801.mp4\n",
      "📸 Total Frames: 103\n"
     ]
    },
    {
     "name": "stderr",
     "output_type": "stream",
     "text": [
      "Extracting Frames from Batman (1989)-002_part_801.mp4: 100%|██████████| 103/103 [00:00<00:00, 569.37it/s]\n"
     ]
    },
    {
     "name": "stdout",
     "output_type": "stream",
     "text": [
      "✅ Saved frames in: /Users/mario/Desktop/Desktop/UofA/4.Winter-2025/ece-910/Batman/VLM-testing/batman-frames/Batman (1989)-002_part_801\n",
      "\n",
      "🎥 Processing: /Users/mario/Desktop/Desktop/UofA/4.Winter-2025/ece-910/Batman/Batman-(1989)-002/Batman (1989)-002_part_802.mp4\n",
      "📸 Total Frames: 104\n"
     ]
    },
    {
     "name": "stderr",
     "output_type": "stream",
     "text": [
      "Extracting Frames from Batman (1989)-002_part_802.mp4: 100%|██████████| 104/104 [00:00<00:00, 558.60it/s]\n"
     ]
    },
    {
     "name": "stdout",
     "output_type": "stream",
     "text": [
      "✅ Saved frames in: /Users/mario/Desktop/Desktop/UofA/4.Winter-2025/ece-910/Batman/VLM-testing/batman-frames/Batman (1989)-002_part_802\n",
      "\n",
      "🎥 Processing: /Users/mario/Desktop/Desktop/UofA/4.Winter-2025/ece-910/Batman/Batman-(1989)-002/Batman (1989)-002_part_803.mp4\n",
      "📸 Total Frames: 113\n"
     ]
    },
    {
     "name": "stderr",
     "output_type": "stream",
     "text": [
      "Extracting Frames from Batman (1989)-002_part_803.mp4: 100%|██████████| 113/113 [00:00<00:00, 332.62it/s]\n"
     ]
    },
    {
     "name": "stdout",
     "output_type": "stream",
     "text": [
      "✅ Saved frames in: /Users/mario/Desktop/Desktop/UofA/4.Winter-2025/ece-910/Batman/VLM-testing/batman-frames/Batman (1989)-002_part_803\n",
      "\n",
      "🎥 Processing: /Users/mario/Desktop/Desktop/UofA/4.Winter-2025/ece-910/Batman/Batman-(1989)-002/Batman (1989)-002_part_804.mp4\n",
      "📸 Total Frames: 49\n"
     ]
    },
    {
     "name": "stderr",
     "output_type": "stream",
     "text": [
      "Extracting Frames from Batman (1989)-002_part_804.mp4: 100%|██████████| 49/49 [00:00<00:00, 573.95it/s]\n"
     ]
    },
    {
     "name": "stdout",
     "output_type": "stream",
     "text": [
      "✅ Saved frames in: /Users/mario/Desktop/Desktop/UofA/4.Winter-2025/ece-910/Batman/VLM-testing/batman-frames/Batman (1989)-002_part_804\n",
      "\n",
      "🎥 Processing: /Users/mario/Desktop/Desktop/UofA/4.Winter-2025/ece-910/Batman/Batman-(1989)-002/Batman (1989)-002_part_805.mp4\n",
      "📸 Total Frames: 40\n"
     ]
    },
    {
     "name": "stderr",
     "output_type": "stream",
     "text": [
      "Extracting Frames from Batman (1989)-002_part_805.mp4: 100%|██████████| 40/40 [00:00<00:00, 547.15it/s]\n"
     ]
    },
    {
     "name": "stdout",
     "output_type": "stream",
     "text": [
      "✅ Saved frames in: /Users/mario/Desktop/Desktop/UofA/4.Winter-2025/ece-910/Batman/VLM-testing/batman-frames/Batman (1989)-002_part_805\n",
      "\n",
      "🎥 Processing: /Users/mario/Desktop/Desktop/UofA/4.Winter-2025/ece-910/Batman/Batman-(1989)-002/Batman (1989)-002_part_806.mp4\n",
      "📸 Total Frames: 35\n"
     ]
    },
    {
     "name": "stderr",
     "output_type": "stream",
     "text": [
      "Extracting Frames from Batman (1989)-002_part_806.mp4: 100%|██████████| 35/35 [00:00<00:00, 480.32it/s]\n"
     ]
    },
    {
     "name": "stdout",
     "output_type": "stream",
     "text": [
      "✅ Saved frames in: /Users/mario/Desktop/Desktop/UofA/4.Winter-2025/ece-910/Batman/VLM-testing/batman-frames/Batman (1989)-002_part_806\n",
      "\n",
      "🎥 Processing: /Users/mario/Desktop/Desktop/UofA/4.Winter-2025/ece-910/Batman/Batman-(1989)-002/Batman (1989)-002_part_807.mp4\n",
      "📸 Total Frames: 98\n"
     ]
    },
    {
     "name": "stderr",
     "output_type": "stream",
     "text": [
      "Extracting Frames from Batman (1989)-002_part_807.mp4: 100%|██████████| 98/98 [00:00<00:00, 579.23it/s]\n"
     ]
    },
    {
     "name": "stdout",
     "output_type": "stream",
     "text": [
      "✅ Saved frames in: /Users/mario/Desktop/Desktop/UofA/4.Winter-2025/ece-910/Batman/VLM-testing/batman-frames/Batman (1989)-002_part_807\n",
      "\n",
      "🎥 Processing: /Users/mario/Desktop/Desktop/UofA/4.Winter-2025/ece-910/Batman/Batman-(1989)-002/Batman (1989)-002_part_808.mp4\n",
      "📸 Total Frames: 162\n"
     ]
    },
    {
     "name": "stderr",
     "output_type": "stream",
     "text": [
      "Extracting Frames from Batman (1989)-002_part_808.mp4: 100%|██████████| 162/162 [00:00<00:00, 597.21it/s]\n"
     ]
    },
    {
     "name": "stdout",
     "output_type": "stream",
     "text": [
      "✅ Saved frames in: /Users/mario/Desktop/Desktop/UofA/4.Winter-2025/ece-910/Batman/VLM-testing/batman-frames/Batman (1989)-002_part_808\n",
      "\n",
      "🎥 Processing: /Users/mario/Desktop/Desktop/UofA/4.Winter-2025/ece-910/Batman/Batman-(1989)-002/Batman (1989)-002_part_809.mp4\n",
      "📸 Total Frames: 119\n"
     ]
    },
    {
     "name": "stderr",
     "output_type": "stream",
     "text": [
      "Extracting Frames from Batman (1989)-002_part_809.mp4: 100%|██████████| 119/119 [00:00<00:00, 533.97it/s]\n"
     ]
    },
    {
     "name": "stdout",
     "output_type": "stream",
     "text": [
      "✅ Saved frames in: /Users/mario/Desktop/Desktop/UofA/4.Winter-2025/ece-910/Batman/VLM-testing/batman-frames/Batman (1989)-002_part_809\n",
      "\n",
      "🎥 Processing: /Users/mario/Desktop/Desktop/UofA/4.Winter-2025/ece-910/Batman/Batman-(1989)-002/Batman (1989)-002_part_81.mp4\n",
      "📸 Total Frames: 43\n"
     ]
    },
    {
     "name": "stderr",
     "output_type": "stream",
     "text": [
      "Extracting Frames from Batman (1989)-002_part_81.mp4: 100%|██████████| 43/43 [00:00<00:00, 578.28it/s]\n"
     ]
    },
    {
     "name": "stdout",
     "output_type": "stream",
     "text": [
      "✅ Saved frames in: /Users/mario/Desktop/Desktop/UofA/4.Winter-2025/ece-910/Batman/VLM-testing/batman-frames/Batman (1989)-002_part_81\n",
      "\n",
      "🎥 Processing: /Users/mario/Desktop/Desktop/UofA/4.Winter-2025/ece-910/Batman/Batman-(1989)-002/Batman (1989)-002_part_810.mp4\n",
      "📸 Total Frames: 125\n"
     ]
    },
    {
     "name": "stderr",
     "output_type": "stream",
     "text": [
      "Extracting Frames from Batman (1989)-002_part_810.mp4: 100%|██████████| 125/125 [00:00<00:00, 549.95it/s]\n"
     ]
    },
    {
     "name": "stdout",
     "output_type": "stream",
     "text": [
      "✅ Saved frames in: /Users/mario/Desktop/Desktop/UofA/4.Winter-2025/ece-910/Batman/VLM-testing/batman-frames/Batman (1989)-002_part_810\n",
      "\n",
      "🎥 Processing: /Users/mario/Desktop/Desktop/UofA/4.Winter-2025/ece-910/Batman/Batman-(1989)-002/Batman (1989)-002_part_811.mp4\n",
      "📸 Total Frames: 120\n"
     ]
    },
    {
     "name": "stderr",
     "output_type": "stream",
     "text": [
      "Extracting Frames from Batman (1989)-002_part_811.mp4: 100%|██████████| 120/120 [00:00<00:00, 585.23it/s]\n"
     ]
    },
    {
     "name": "stdout",
     "output_type": "stream",
     "text": [
      "✅ Saved frames in: /Users/mario/Desktop/Desktop/UofA/4.Winter-2025/ece-910/Batman/VLM-testing/batman-frames/Batman (1989)-002_part_811\n",
      "\n",
      "🎥 Processing: /Users/mario/Desktop/Desktop/UofA/4.Winter-2025/ece-910/Batman/Batman-(1989)-002/Batman (1989)-002_part_812.mp4\n",
      "📸 Total Frames: 115\n"
     ]
    },
    {
     "name": "stderr",
     "output_type": "stream",
     "text": [
      "Extracting Frames from Batman (1989)-002_part_812.mp4: 100%|██████████| 115/115 [00:00<00:00, 566.58it/s]\n"
     ]
    },
    {
     "name": "stdout",
     "output_type": "stream",
     "text": [
      "✅ Saved frames in: /Users/mario/Desktop/Desktop/UofA/4.Winter-2025/ece-910/Batman/VLM-testing/batman-frames/Batman (1989)-002_part_812\n",
      "\n",
      "🎥 Processing: /Users/mario/Desktop/Desktop/UofA/4.Winter-2025/ece-910/Batman/Batman-(1989)-002/Batman (1989)-002_part_813.mp4\n",
      "📸 Total Frames: 99\n"
     ]
    },
    {
     "name": "stderr",
     "output_type": "stream",
     "text": [
      "Extracting Frames from Batman (1989)-002_part_813.mp4: 100%|██████████| 99/99 [00:00<00:00, 498.32it/s]\n"
     ]
    },
    {
     "name": "stdout",
     "output_type": "stream",
     "text": [
      "✅ Saved frames in: /Users/mario/Desktop/Desktop/UofA/4.Winter-2025/ece-910/Batman/VLM-testing/batman-frames/Batman (1989)-002_part_813\n",
      "\n",
      "🎥 Processing: /Users/mario/Desktop/Desktop/UofA/4.Winter-2025/ece-910/Batman/Batman-(1989)-002/Batman (1989)-002_part_814.mp4\n",
      "📸 Total Frames: 99\n"
     ]
    },
    {
     "name": "stderr",
     "output_type": "stream",
     "text": [
      "Extracting Frames from Batman (1989)-002_part_814.mp4: 100%|██████████| 99/99 [00:00<00:00, 587.54it/s]\n"
     ]
    },
    {
     "name": "stdout",
     "output_type": "stream",
     "text": [
      "✅ Saved frames in: /Users/mario/Desktop/Desktop/UofA/4.Winter-2025/ece-910/Batman/VLM-testing/batman-frames/Batman (1989)-002_part_814\n",
      "\n",
      "🎥 Processing: /Users/mario/Desktop/Desktop/UofA/4.Winter-2025/ece-910/Batman/Batman-(1989)-002/Batman (1989)-002_part_815.mp4\n",
      "📸 Total Frames: 197\n"
     ]
    },
    {
     "name": "stderr",
     "output_type": "stream",
     "text": [
      "Extracting Frames from Batman (1989)-002_part_815.mp4: 100%|██████████| 197/197 [00:00<00:00, 551.56it/s]\n"
     ]
    },
    {
     "name": "stdout",
     "output_type": "stream",
     "text": [
      "✅ Saved frames in: /Users/mario/Desktop/Desktop/UofA/4.Winter-2025/ece-910/Batman/VLM-testing/batman-frames/Batman (1989)-002_part_815\n",
      "\n",
      "🎥 Processing: /Users/mario/Desktop/Desktop/UofA/4.Winter-2025/ece-910/Batman/Batman-(1989)-002/Batman (1989)-002_part_816.mp4\n",
      "📸 Total Frames: 73\n"
     ]
    },
    {
     "name": "stderr",
     "output_type": "stream",
     "text": [
      "Extracting Frames from Batman (1989)-002_part_816.mp4: 100%|██████████| 73/73 [00:00<00:00, 512.08it/s]\n"
     ]
    },
    {
     "name": "stdout",
     "output_type": "stream",
     "text": [
      "✅ Saved frames in: /Users/mario/Desktop/Desktop/UofA/4.Winter-2025/ece-910/Batman/VLM-testing/batman-frames/Batman (1989)-002_part_816\n",
      "\n",
      "🎥 Processing: /Users/mario/Desktop/Desktop/UofA/4.Winter-2025/ece-910/Batman/Batman-(1989)-002/Batman (1989)-002_part_817.mp4\n",
      "📸 Total Frames: 150\n"
     ]
    },
    {
     "name": "stderr",
     "output_type": "stream",
     "text": [
      "Extracting Frames from Batman (1989)-002_part_817.mp4: 100%|██████████| 150/150 [00:00<00:00, 537.38it/s]\n"
     ]
    },
    {
     "name": "stdout",
     "output_type": "stream",
     "text": [
      "✅ Saved frames in: /Users/mario/Desktop/Desktop/UofA/4.Winter-2025/ece-910/Batman/VLM-testing/batman-frames/Batman (1989)-002_part_817\n",
      "\n",
      "🎥 Processing: /Users/mario/Desktop/Desktop/UofA/4.Winter-2025/ece-910/Batman/Batman-(1989)-002/Batman (1989)-002_part_818.mp4\n",
      "📸 Total Frames: 63\n"
     ]
    },
    {
     "name": "stderr",
     "output_type": "stream",
     "text": [
      "Extracting Frames from Batman (1989)-002_part_818.mp4: 100%|██████████| 63/63 [00:00<00:00, 415.90it/s]\n"
     ]
    },
    {
     "name": "stdout",
     "output_type": "stream",
     "text": [
      "✅ Saved frames in: /Users/mario/Desktop/Desktop/UofA/4.Winter-2025/ece-910/Batman/VLM-testing/batman-frames/Batman (1989)-002_part_818\n",
      "\n",
      "🎥 Processing: /Users/mario/Desktop/Desktop/UofA/4.Winter-2025/ece-910/Batman/Batman-(1989)-002/Batman (1989)-002_part_819.mp4\n",
      "📸 Total Frames: 74\n"
     ]
    },
    {
     "name": "stderr",
     "output_type": "stream",
     "text": [
      "Extracting Frames from Batman (1989)-002_part_819.mp4: 100%|██████████| 74/74 [00:00<00:00, 551.92it/s]\n"
     ]
    },
    {
     "name": "stdout",
     "output_type": "stream",
     "text": [
      "✅ Saved frames in: /Users/mario/Desktop/Desktop/UofA/4.Winter-2025/ece-910/Batman/VLM-testing/batman-frames/Batman (1989)-002_part_819\n",
      "\n",
      "🎥 Processing: /Users/mario/Desktop/Desktop/UofA/4.Winter-2025/ece-910/Batman/Batman-(1989)-002/Batman (1989)-002_part_82.mp4\n",
      "📸 Total Frames: 439\n"
     ]
    },
    {
     "name": "stderr",
     "output_type": "stream",
     "text": [
      "Extracting Frames from Batman (1989)-002_part_82.mp4: 100%|██████████| 439/439 [00:00<00:00, 525.16it/s]\n"
     ]
    },
    {
     "name": "stdout",
     "output_type": "stream",
     "text": [
      "✅ Saved frames in: /Users/mario/Desktop/Desktop/UofA/4.Winter-2025/ece-910/Batman/VLM-testing/batman-frames/Batman (1989)-002_part_82\n",
      "\n",
      "🎥 Processing: /Users/mario/Desktop/Desktop/UofA/4.Winter-2025/ece-910/Batman/Batman-(1989)-002/Batman (1989)-002_part_820.mp4\n",
      "📸 Total Frames: 107\n"
     ]
    },
    {
     "name": "stderr",
     "output_type": "stream",
     "text": [
      "Extracting Frames from Batman (1989)-002_part_820.mp4: 100%|██████████| 107/107 [00:00<00:00, 560.92it/s]\n"
     ]
    },
    {
     "name": "stdout",
     "output_type": "stream",
     "text": [
      "✅ Saved frames in: /Users/mario/Desktop/Desktop/UofA/4.Winter-2025/ece-910/Batman/VLM-testing/batman-frames/Batman (1989)-002_part_820\n",
      "\n",
      "🎥 Processing: /Users/mario/Desktop/Desktop/UofA/4.Winter-2025/ece-910/Batman/Batman-(1989)-002/Batman (1989)-002_part_821.mp4\n",
      "📸 Total Frames: 129\n"
     ]
    },
    {
     "name": "stderr",
     "output_type": "stream",
     "text": [
      "Extracting Frames from Batman (1989)-002_part_821.mp4: 100%|██████████| 129/129 [00:00<00:00, 338.24it/s]\n"
     ]
    },
    {
     "name": "stdout",
     "output_type": "stream",
     "text": [
      "✅ Saved frames in: /Users/mario/Desktop/Desktop/UofA/4.Winter-2025/ece-910/Batman/VLM-testing/batman-frames/Batman (1989)-002_part_821\n",
      "\n",
      "🎥 Processing: /Users/mario/Desktop/Desktop/UofA/4.Winter-2025/ece-910/Batman/Batman-(1989)-002/Batman (1989)-002_part_822.mp4\n",
      "📸 Total Frames: 97\n"
     ]
    },
    {
     "name": "stderr",
     "output_type": "stream",
     "text": [
      "Extracting Frames from Batman (1989)-002_part_822.mp4: 100%|██████████| 97/97 [00:00<00:00, 559.05it/s]\n"
     ]
    },
    {
     "name": "stdout",
     "output_type": "stream",
     "text": [
      "✅ Saved frames in: /Users/mario/Desktop/Desktop/UofA/4.Winter-2025/ece-910/Batman/VLM-testing/batman-frames/Batman (1989)-002_part_822\n",
      "\n",
      "🎥 Processing: /Users/mario/Desktop/Desktop/UofA/4.Winter-2025/ece-910/Batman/Batman-(1989)-002/Batman (1989)-002_part_823.mp4\n",
      "📸 Total Frames: 64\n"
     ]
    },
    {
     "name": "stderr",
     "output_type": "stream",
     "text": [
      "Extracting Frames from Batman (1989)-002_part_823.mp4: 100%|██████████| 64/64 [00:00<00:00, 533.39it/s]\n"
     ]
    },
    {
     "name": "stdout",
     "output_type": "stream",
     "text": [
      "✅ Saved frames in: /Users/mario/Desktop/Desktop/UofA/4.Winter-2025/ece-910/Batman/VLM-testing/batman-frames/Batman (1989)-002_part_823\n",
      "\n",
      "🎥 Processing: /Users/mario/Desktop/Desktop/UofA/4.Winter-2025/ece-910/Batman/Batman-(1989)-002/Batman (1989)-002_part_824.mp4\n",
      "📸 Total Frames: 128\n"
     ]
    },
    {
     "name": "stderr",
     "output_type": "stream",
     "text": [
      "Extracting Frames from Batman (1989)-002_part_824.mp4: 100%|██████████| 128/128 [00:00<00:00, 587.83it/s]\n"
     ]
    },
    {
     "name": "stdout",
     "output_type": "stream",
     "text": [
      "✅ Saved frames in: /Users/mario/Desktop/Desktop/UofA/4.Winter-2025/ece-910/Batman/VLM-testing/batman-frames/Batman (1989)-002_part_824\n",
      "\n",
      "🎥 Processing: /Users/mario/Desktop/Desktop/UofA/4.Winter-2025/ece-910/Batman/Batman-(1989)-002/Batman (1989)-002_part_825.mp4\n",
      "📸 Total Frames: 41\n"
     ]
    },
    {
     "name": "stderr",
     "output_type": "stream",
     "text": [
      "Extracting Frames from Batman (1989)-002_part_825.mp4: 100%|██████████| 41/41 [00:00<00:00, 602.06it/s]\n"
     ]
    },
    {
     "name": "stdout",
     "output_type": "stream",
     "text": [
      "✅ Saved frames in: /Users/mario/Desktop/Desktop/UofA/4.Winter-2025/ece-910/Batman/VLM-testing/batman-frames/Batman (1989)-002_part_825\n",
      "\n",
      "🎥 Processing: /Users/mario/Desktop/Desktop/UofA/4.Winter-2025/ece-910/Batman/Batman-(1989)-002/Batman (1989)-002_part_826.mp4\n",
      "📸 Total Frames: 1\n"
     ]
    },
    {
     "name": "stderr",
     "output_type": "stream",
     "text": [
      "Extracting Frames from Batman (1989)-002_part_826.mp4: 100%|██████████| 1/1 [00:00<00:00, 335.12it/s]\n"
     ]
    },
    {
     "name": "stdout",
     "output_type": "stream",
     "text": [
      "✅ Saved frames in: /Users/mario/Desktop/Desktop/UofA/4.Winter-2025/ece-910/Batman/VLM-testing/batman-frames/Batman (1989)-002_part_826\n",
      "\n",
      "🎥 Processing: /Users/mario/Desktop/Desktop/UofA/4.Winter-2025/ece-910/Batman/Batman-(1989)-002/Batman (1989)-002_part_827.mp4\n",
      "📸 Total Frames: 47\n"
     ]
    },
    {
     "name": "stderr",
     "output_type": "stream",
     "text": [
      "Extracting Frames from Batman (1989)-002_part_827.mp4: 100%|██████████| 47/47 [00:00<00:00, 541.11it/s]\n"
     ]
    },
    {
     "name": "stdout",
     "output_type": "stream",
     "text": [
      "✅ Saved frames in: /Users/mario/Desktop/Desktop/UofA/4.Winter-2025/ece-910/Batman/VLM-testing/batman-frames/Batman (1989)-002_part_827\n",
      "\n",
      "🎥 Processing: /Users/mario/Desktop/Desktop/UofA/4.Winter-2025/ece-910/Batman/Batman-(1989)-002/Batman (1989)-002_part_828.mp4\n",
      "📸 Total Frames: 162\n"
     ]
    },
    {
     "name": "stderr",
     "output_type": "stream",
     "text": [
      "Extracting Frames from Batman (1989)-002_part_828.mp4: 100%|██████████| 162/162 [00:00<00:00, 609.98it/s]\n"
     ]
    },
    {
     "name": "stdout",
     "output_type": "stream",
     "text": [
      "✅ Saved frames in: /Users/mario/Desktop/Desktop/UofA/4.Winter-2025/ece-910/Batman/VLM-testing/batman-frames/Batman (1989)-002_part_828\n",
      "\n",
      "🎥 Processing: /Users/mario/Desktop/Desktop/UofA/4.Winter-2025/ece-910/Batman/Batman-(1989)-002/Batman (1989)-002_part_829.mp4\n",
      "📸 Total Frames: 35\n"
     ]
    },
    {
     "name": "stderr",
     "output_type": "stream",
     "text": [
      "Extracting Frames from Batman (1989)-002_part_829.mp4: 100%|██████████| 35/35 [00:00<00:00, 561.04it/s]\n"
     ]
    },
    {
     "name": "stdout",
     "output_type": "stream",
     "text": [
      "✅ Saved frames in: /Users/mario/Desktop/Desktop/UofA/4.Winter-2025/ece-910/Batman/VLM-testing/batman-frames/Batman (1989)-002_part_829\n",
      "\n",
      "🎥 Processing: /Users/mario/Desktop/Desktop/UofA/4.Winter-2025/ece-910/Batman/Batman-(1989)-002/Batman (1989)-002_part_83.mp4\n",
      "📸 Total Frames: 282\n"
     ]
    },
    {
     "name": "stderr",
     "output_type": "stream",
     "text": [
      "Extracting Frames from Batman (1989)-002_part_83.mp4: 100%|██████████| 282/282 [00:00<00:00, 539.35it/s]\n"
     ]
    },
    {
     "name": "stdout",
     "output_type": "stream",
     "text": [
      "✅ Saved frames in: /Users/mario/Desktop/Desktop/UofA/4.Winter-2025/ece-910/Batman/VLM-testing/batman-frames/Batman (1989)-002_part_83\n",
      "\n",
      "🎥 Processing: /Users/mario/Desktop/Desktop/UofA/4.Winter-2025/ece-910/Batman/Batman-(1989)-002/Batman (1989)-002_part_830.mp4\n",
      "📸 Total Frames: 89\n"
     ]
    },
    {
     "name": "stderr",
     "output_type": "stream",
     "text": [
      "Extracting Frames from Batman (1989)-002_part_830.mp4: 100%|██████████| 89/89 [00:00<00:00, 594.39it/s]\n"
     ]
    },
    {
     "name": "stdout",
     "output_type": "stream",
     "text": [
      "✅ Saved frames in: /Users/mario/Desktop/Desktop/UofA/4.Winter-2025/ece-910/Batman/VLM-testing/batman-frames/Batman (1989)-002_part_830\n",
      "\n",
      "🎥 Processing: /Users/mario/Desktop/Desktop/UofA/4.Winter-2025/ece-910/Batman/Batman-(1989)-002/Batman (1989)-002_part_831.mp4\n",
      "📸 Total Frames: 172\n"
     ]
    },
    {
     "name": "stderr",
     "output_type": "stream",
     "text": [
      "Extracting Frames from Batman (1989)-002_part_831.mp4: 100%|██████████| 172/172 [00:00<00:00, 665.09it/s]\n"
     ]
    },
    {
     "name": "stdout",
     "output_type": "stream",
     "text": [
      "✅ Saved frames in: /Users/mario/Desktop/Desktop/UofA/4.Winter-2025/ece-910/Batman/VLM-testing/batman-frames/Batman (1989)-002_part_831\n",
      "\n",
      "🎥 Processing: /Users/mario/Desktop/Desktop/UofA/4.Winter-2025/ece-910/Batman/Batman-(1989)-002/Batman (1989)-002_part_832.mp4\n",
      "📸 Total Frames: 56\n"
     ]
    },
    {
     "name": "stderr",
     "output_type": "stream",
     "text": [
      "Extracting Frames from Batman (1989)-002_part_832.mp4: 100%|██████████| 56/56 [00:00<00:00, 628.81it/s]\n"
     ]
    },
    {
     "name": "stdout",
     "output_type": "stream",
     "text": [
      "✅ Saved frames in: /Users/mario/Desktop/Desktop/UofA/4.Winter-2025/ece-910/Batman/VLM-testing/batman-frames/Batman (1989)-002_part_832\n",
      "\n",
      "🎥 Processing: /Users/mario/Desktop/Desktop/UofA/4.Winter-2025/ece-910/Batman/Batman-(1989)-002/Batman (1989)-002_part_833.mp4\n",
      "📸 Total Frames: 202\n"
     ]
    },
    {
     "name": "stderr",
     "output_type": "stream",
     "text": [
      "Extracting Frames from Batman (1989)-002_part_833.mp4: 100%|██████████| 202/202 [00:00<00:00, 651.05it/s]\n"
     ]
    },
    {
     "name": "stdout",
     "output_type": "stream",
     "text": [
      "✅ Saved frames in: /Users/mario/Desktop/Desktop/UofA/4.Winter-2025/ece-910/Batman/VLM-testing/batman-frames/Batman (1989)-002_part_833\n",
      "\n",
      "🎥 Processing: /Users/mario/Desktop/Desktop/UofA/4.Winter-2025/ece-910/Batman/Batman-(1989)-002/Batman (1989)-002_part_834.mp4\n",
      "📸 Total Frames: 30\n"
     ]
    },
    {
     "name": "stderr",
     "output_type": "stream",
     "text": [
      "Extracting Frames from Batman (1989)-002_part_834.mp4: 100%|██████████| 30/30 [00:00<00:00, 483.33it/s]\n"
     ]
    },
    {
     "name": "stdout",
     "output_type": "stream",
     "text": [
      "✅ Saved frames in: /Users/mario/Desktop/Desktop/UofA/4.Winter-2025/ece-910/Batman/VLM-testing/batman-frames/Batman (1989)-002_part_834\n",
      "\n",
      "🎥 Processing: /Users/mario/Desktop/Desktop/UofA/4.Winter-2025/ece-910/Batman/Batman-(1989)-002/Batman (1989)-002_part_835.mp4\n",
      "📸 Total Frames: 641\n"
     ]
    },
    {
     "name": "stderr",
     "output_type": "stream",
     "text": [
      "Extracting Frames from Batman (1989)-002_part_835.mp4: 100%|██████████| 641/641 [00:01<00:00, 594.66it/s]\n"
     ]
    },
    {
     "name": "stdout",
     "output_type": "stream",
     "text": [
      "✅ Saved frames in: /Users/mario/Desktop/Desktop/UofA/4.Winter-2025/ece-910/Batman/VLM-testing/batman-frames/Batman (1989)-002_part_835\n",
      "\n",
      "🎥 Processing: /Users/mario/Desktop/Desktop/UofA/4.Winter-2025/ece-910/Batman/Batman-(1989)-002/Batman (1989)-002_part_836.mp4\n",
      "📸 Total Frames: 87\n"
     ]
    },
    {
     "name": "stderr",
     "output_type": "stream",
     "text": [
      "Extracting Frames from Batman (1989)-002_part_836.mp4: 100%|██████████| 87/87 [00:00<00:00, 610.98it/s]\n"
     ]
    },
    {
     "name": "stdout",
     "output_type": "stream",
     "text": [
      "✅ Saved frames in: /Users/mario/Desktop/Desktop/UofA/4.Winter-2025/ece-910/Batman/VLM-testing/batman-frames/Batman (1989)-002_part_836\n",
      "\n",
      "🎥 Processing: /Users/mario/Desktop/Desktop/UofA/4.Winter-2025/ece-910/Batman/Batman-(1989)-002/Batman (1989)-002_part_837.mp4\n",
      "📸 Total Frames: 167\n"
     ]
    },
    {
     "name": "stderr",
     "output_type": "stream",
     "text": [
      "Extracting Frames from Batman (1989)-002_part_837.mp4: 100%|██████████| 167/167 [00:00<00:00, 572.48it/s]\n"
     ]
    },
    {
     "name": "stdout",
     "output_type": "stream",
     "text": [
      "✅ Saved frames in: /Users/mario/Desktop/Desktop/UofA/4.Winter-2025/ece-910/Batman/VLM-testing/batman-frames/Batman (1989)-002_part_837\n",
      "\n",
      "🎥 Processing: /Users/mario/Desktop/Desktop/UofA/4.Winter-2025/ece-910/Batman/Batman-(1989)-002/Batman (1989)-002_part_838.mp4\n",
      "📸 Total Frames: 80\n"
     ]
    },
    {
     "name": "stderr",
     "output_type": "stream",
     "text": [
      "Extracting Frames from Batman (1989)-002_part_838.mp4: 100%|██████████| 80/80 [00:00<00:00, 570.84it/s]\n"
     ]
    },
    {
     "name": "stdout",
     "output_type": "stream",
     "text": [
      "✅ Saved frames in: /Users/mario/Desktop/Desktop/UofA/4.Winter-2025/ece-910/Batman/VLM-testing/batman-frames/Batman (1989)-002_part_838\n",
      "\n",
      "🎥 Processing: /Users/mario/Desktop/Desktop/UofA/4.Winter-2025/ece-910/Batman/Batman-(1989)-002/Batman (1989)-002_part_839.mp4\n",
      "📸 Total Frames: 571\n"
     ]
    },
    {
     "name": "stderr",
     "output_type": "stream",
     "text": [
      "Extracting Frames from Batman (1989)-002_part_839.mp4: 100%|██████████| 571/571 [00:01<00:00, 509.99it/s]\n"
     ]
    },
    {
     "name": "stdout",
     "output_type": "stream",
     "text": [
      "✅ Saved frames in: /Users/mario/Desktop/Desktop/UofA/4.Winter-2025/ece-910/Batman/VLM-testing/batman-frames/Batman (1989)-002_part_839\n",
      "\n",
      "🎥 Processing: /Users/mario/Desktop/Desktop/UofA/4.Winter-2025/ece-910/Batman/Batman-(1989)-002/Batman (1989)-002_part_84.mp4\n",
      "📸 Total Frames: 75\n"
     ]
    },
    {
     "name": "stderr",
     "output_type": "stream",
     "text": [
      "Extracting Frames from Batman (1989)-002_part_84.mp4: 100%|██████████| 75/75 [00:00<00:00, 557.26it/s]\n"
     ]
    },
    {
     "name": "stdout",
     "output_type": "stream",
     "text": [
      "✅ Saved frames in: /Users/mario/Desktop/Desktop/UofA/4.Winter-2025/ece-910/Batman/VLM-testing/batman-frames/Batman (1989)-002_part_84\n",
      "\n",
      "🎥 Processing: /Users/mario/Desktop/Desktop/UofA/4.Winter-2025/ece-910/Batman/Batman-(1989)-002/Batman (1989)-002_part_840.mp4\n",
      "📸 Total Frames: 174\n"
     ]
    },
    {
     "name": "stderr",
     "output_type": "stream",
     "text": [
      "Extracting Frames from Batman (1989)-002_part_840.mp4: 100%|██████████| 174/174 [00:00<00:00, 604.67it/s]\n"
     ]
    },
    {
     "name": "stdout",
     "output_type": "stream",
     "text": [
      "✅ Saved frames in: /Users/mario/Desktop/Desktop/UofA/4.Winter-2025/ece-910/Batman/VLM-testing/batman-frames/Batman (1989)-002_part_840\n",
      "\n",
      "🎥 Processing: /Users/mario/Desktop/Desktop/UofA/4.Winter-2025/ece-910/Batman/Batman-(1989)-002/Batman (1989)-002_part_841.mp4\n",
      "📸 Total Frames: 157\n"
     ]
    },
    {
     "name": "stderr",
     "output_type": "stream",
     "text": [
      "Extracting Frames from Batman (1989)-002_part_841.mp4: 100%|██████████| 157/157 [00:00<00:00, 591.17it/s]\n"
     ]
    },
    {
     "name": "stdout",
     "output_type": "stream",
     "text": [
      "✅ Saved frames in: /Users/mario/Desktop/Desktop/UofA/4.Winter-2025/ece-910/Batman/VLM-testing/batman-frames/Batman (1989)-002_part_841\n",
      "\n",
      "🎥 Processing: /Users/mario/Desktop/Desktop/UofA/4.Winter-2025/ece-910/Batman/Batman-(1989)-002/Batman (1989)-002_part_842.mp4\n",
      "📸 Total Frames: 57\n"
     ]
    },
    {
     "name": "stderr",
     "output_type": "stream",
     "text": [
      "Extracting Frames from Batman (1989)-002_part_842.mp4: 100%|██████████| 57/57 [00:00<00:00, 649.68it/s]\n"
     ]
    },
    {
     "name": "stdout",
     "output_type": "stream",
     "text": [
      "✅ Saved frames in: /Users/mario/Desktop/Desktop/UofA/4.Winter-2025/ece-910/Batman/VLM-testing/batman-frames/Batman (1989)-002_part_842\n",
      "\n",
      "🎥 Processing: /Users/mario/Desktop/Desktop/UofA/4.Winter-2025/ece-910/Batman/Batman-(1989)-002/Batman (1989)-002_part_843.mp4\n",
      "📸 Total Frames: 83\n"
     ]
    },
    {
     "name": "stderr",
     "output_type": "stream",
     "text": [
      "Extracting Frames from Batman (1989)-002_part_843.mp4: 100%|██████████| 83/83 [00:00<00:00, 594.41it/s]\n"
     ]
    },
    {
     "name": "stdout",
     "output_type": "stream",
     "text": [
      "✅ Saved frames in: /Users/mario/Desktop/Desktop/UofA/4.Winter-2025/ece-910/Batman/VLM-testing/batman-frames/Batman (1989)-002_part_843\n",
      "\n",
      "🎥 Processing: /Users/mario/Desktop/Desktop/UofA/4.Winter-2025/ece-910/Batman/Batman-(1989)-002/Batman (1989)-002_part_844.mp4\n",
      "📸 Total Frames: 60\n"
     ]
    },
    {
     "name": "stderr",
     "output_type": "stream",
     "text": [
      "Extracting Frames from Batman (1989)-002_part_844.mp4: 100%|██████████| 60/60 [00:00<00:00, 616.03it/s]\n"
     ]
    },
    {
     "name": "stdout",
     "output_type": "stream",
     "text": [
      "✅ Saved frames in: /Users/mario/Desktop/Desktop/UofA/4.Winter-2025/ece-910/Batman/VLM-testing/batman-frames/Batman (1989)-002_part_844\n",
      "\n",
      "🎥 Processing: /Users/mario/Desktop/Desktop/UofA/4.Winter-2025/ece-910/Batman/Batman-(1989)-002/Batman (1989)-002_part_845.mp4\n",
      "📸 Total Frames: 123\n"
     ]
    },
    {
     "name": "stderr",
     "output_type": "stream",
     "text": [
      "Extracting Frames from Batman (1989)-002_part_845.mp4: 100%|██████████| 123/123 [00:00<00:00, 603.08it/s]\n"
     ]
    },
    {
     "name": "stdout",
     "output_type": "stream",
     "text": [
      "✅ Saved frames in: /Users/mario/Desktop/Desktop/UofA/4.Winter-2025/ece-910/Batman/VLM-testing/batman-frames/Batman (1989)-002_part_845\n",
      "\n",
      "🎥 Processing: /Users/mario/Desktop/Desktop/UofA/4.Winter-2025/ece-910/Batman/Batman-(1989)-002/Batman (1989)-002_part_846.mp4\n",
      "📸 Total Frames: 56\n"
     ]
    },
    {
     "name": "stderr",
     "output_type": "stream",
     "text": [
      "Extracting Frames from Batman (1989)-002_part_846.mp4: 100%|██████████| 56/56 [00:00<00:00, 600.63it/s]\n"
     ]
    },
    {
     "name": "stdout",
     "output_type": "stream",
     "text": [
      "✅ Saved frames in: /Users/mario/Desktop/Desktop/UofA/4.Winter-2025/ece-910/Batman/VLM-testing/batman-frames/Batman (1989)-002_part_846\n",
      "\n",
      "🎥 Processing: /Users/mario/Desktop/Desktop/UofA/4.Winter-2025/ece-910/Batman/Batman-(1989)-002/Batman (1989)-002_part_847.mp4\n",
      "📸 Total Frames: 121\n"
     ]
    },
    {
     "name": "stderr",
     "output_type": "stream",
     "text": [
      "Extracting Frames from Batman (1989)-002_part_847.mp4: 100%|██████████| 121/121 [00:00<00:00, 588.03it/s]\n"
     ]
    },
    {
     "name": "stdout",
     "output_type": "stream",
     "text": [
      "✅ Saved frames in: /Users/mario/Desktop/Desktop/UofA/4.Winter-2025/ece-910/Batman/VLM-testing/batman-frames/Batman (1989)-002_part_847\n",
      "\n",
      "🎥 Processing: /Users/mario/Desktop/Desktop/UofA/4.Winter-2025/ece-910/Batman/Batman-(1989)-002/Batman (1989)-002_part_848.mp4\n",
      "📸 Total Frames: 235\n"
     ]
    },
    {
     "name": "stderr",
     "output_type": "stream",
     "text": [
      "Extracting Frames from Batman (1989)-002_part_848.mp4: 100%|██████████| 235/235 [00:00<00:00, 489.12it/s]\n"
     ]
    },
    {
     "name": "stdout",
     "output_type": "stream",
     "text": [
      "✅ Saved frames in: /Users/mario/Desktop/Desktop/UofA/4.Winter-2025/ece-910/Batman/VLM-testing/batman-frames/Batman (1989)-002_part_848\n",
      "\n",
      "🎥 Processing: /Users/mario/Desktop/Desktop/UofA/4.Winter-2025/ece-910/Batman/Batman-(1989)-002/Batman (1989)-002_part_849.mp4\n",
      "📸 Total Frames: 75\n"
     ]
    },
    {
     "name": "stderr",
     "output_type": "stream",
     "text": [
      "Extracting Frames from Batman (1989)-002_part_849.mp4: 100%|██████████| 75/75 [00:00<00:00, 601.96it/s]\n"
     ]
    },
    {
     "name": "stdout",
     "output_type": "stream",
     "text": [
      "✅ Saved frames in: /Users/mario/Desktop/Desktop/UofA/4.Winter-2025/ece-910/Batman/VLM-testing/batman-frames/Batman (1989)-002_part_849\n",
      "\n",
      "🎥 Processing: /Users/mario/Desktop/Desktop/UofA/4.Winter-2025/ece-910/Batman/Batman-(1989)-002/Batman (1989)-002_part_85.mp4\n",
      "📸 Total Frames: 135\n"
     ]
    },
    {
     "name": "stderr",
     "output_type": "stream",
     "text": [
      "Extracting Frames from Batman (1989)-002_part_85.mp4: 100%|██████████| 135/135 [00:00<00:00, 575.49it/s]\n"
     ]
    },
    {
     "name": "stdout",
     "output_type": "stream",
     "text": [
      "✅ Saved frames in: /Users/mario/Desktop/Desktop/UofA/4.Winter-2025/ece-910/Batman/VLM-testing/batman-frames/Batman (1989)-002_part_85\n",
      "\n",
      "🎥 Processing: /Users/mario/Desktop/Desktop/UofA/4.Winter-2025/ece-910/Batman/Batman-(1989)-002/Batman (1989)-002_part_850.mp4\n",
      "📸 Total Frames: 76\n"
     ]
    },
    {
     "name": "stderr",
     "output_type": "stream",
     "text": [
      "Extracting Frames from Batman (1989)-002_part_850.mp4: 100%|██████████| 76/76 [00:00<00:00, 418.83it/s]\n"
     ]
    },
    {
     "name": "stdout",
     "output_type": "stream",
     "text": [
      "✅ Saved frames in: /Users/mario/Desktop/Desktop/UofA/4.Winter-2025/ece-910/Batman/VLM-testing/batman-frames/Batman (1989)-002_part_850\n",
      "\n",
      "🎥 Processing: /Users/mario/Desktop/Desktop/UofA/4.Winter-2025/ece-910/Batman/Batman-(1989)-002/Batman (1989)-002_part_851.mp4\n",
      "📸 Total Frames: 204\n"
     ]
    },
    {
     "name": "stderr",
     "output_type": "stream",
     "text": [
      "Extracting Frames from Batman (1989)-002_part_851.mp4: 100%|██████████| 204/204 [00:00<00:00, 612.86it/s]\n"
     ]
    },
    {
     "name": "stdout",
     "output_type": "stream",
     "text": [
      "✅ Saved frames in: /Users/mario/Desktop/Desktop/UofA/4.Winter-2025/ece-910/Batman/VLM-testing/batman-frames/Batman (1989)-002_part_851\n",
      "\n",
      "🎥 Processing: /Users/mario/Desktop/Desktop/UofA/4.Winter-2025/ece-910/Batman/Batman-(1989)-002/Batman (1989)-002_part_852.mp4\n",
      "📸 Total Frames: 46\n"
     ]
    },
    {
     "name": "stderr",
     "output_type": "stream",
     "text": [
      "Extracting Frames from Batman (1989)-002_part_852.mp4: 100%|██████████| 46/46 [00:00<00:00, 556.79it/s]\n"
     ]
    },
    {
     "name": "stdout",
     "output_type": "stream",
     "text": [
      "✅ Saved frames in: /Users/mario/Desktop/Desktop/UofA/4.Winter-2025/ece-910/Batman/VLM-testing/batman-frames/Batman (1989)-002_part_852\n",
      "\n",
      "🎥 Processing: /Users/mario/Desktop/Desktop/UofA/4.Winter-2025/ece-910/Batman/Batman-(1989)-002/Batman (1989)-002_part_853.mp4\n",
      "📸 Total Frames: 185\n"
     ]
    },
    {
     "name": "stderr",
     "output_type": "stream",
     "text": [
      "Extracting Frames from Batman (1989)-002_part_853.mp4: 100%|██████████| 185/185 [00:00<00:00, 635.78it/s]\n"
     ]
    },
    {
     "name": "stdout",
     "output_type": "stream",
     "text": [
      "✅ Saved frames in: /Users/mario/Desktop/Desktop/UofA/4.Winter-2025/ece-910/Batman/VLM-testing/batman-frames/Batman (1989)-002_part_853\n",
      "\n",
      "🎥 Processing: /Users/mario/Desktop/Desktop/UofA/4.Winter-2025/ece-910/Batman/Batman-(1989)-002/Batman (1989)-002_part_854.mp4\n",
      "📸 Total Frames: 89\n"
     ]
    },
    {
     "name": "stderr",
     "output_type": "stream",
     "text": [
      "Extracting Frames from Batman (1989)-002_part_854.mp4: 100%|██████████| 89/89 [00:00<00:00, 633.52it/s]\n"
     ]
    },
    {
     "name": "stdout",
     "output_type": "stream",
     "text": [
      "✅ Saved frames in: /Users/mario/Desktop/Desktop/UofA/4.Winter-2025/ece-910/Batman/VLM-testing/batman-frames/Batman (1989)-002_part_854\n",
      "\n",
      "🎥 Processing: /Users/mario/Desktop/Desktop/UofA/4.Winter-2025/ece-910/Batman/Batman-(1989)-002/Batman (1989)-002_part_855.mp4\n",
      "📸 Total Frames: 91\n"
     ]
    },
    {
     "name": "stderr",
     "output_type": "stream",
     "text": [
      "Extracting Frames from Batman (1989)-002_part_855.mp4: 100%|██████████| 91/91 [00:00<00:00, 621.86it/s]\n"
     ]
    },
    {
     "name": "stdout",
     "output_type": "stream",
     "text": [
      "✅ Saved frames in: /Users/mario/Desktop/Desktop/UofA/4.Winter-2025/ece-910/Batman/VLM-testing/batman-frames/Batman (1989)-002_part_855\n",
      "\n",
      "🎥 Processing: /Users/mario/Desktop/Desktop/UofA/4.Winter-2025/ece-910/Batman/Batman-(1989)-002/Batman (1989)-002_part_856.mp4\n",
      "📸 Total Frames: 51\n"
     ]
    },
    {
     "name": "stderr",
     "output_type": "stream",
     "text": [
      "Extracting Frames from Batman (1989)-002_part_856.mp4: 100%|██████████| 51/51 [00:00<00:00, 208.36it/s]\n"
     ]
    },
    {
     "name": "stdout",
     "output_type": "stream",
     "text": [
      "✅ Saved frames in: /Users/mario/Desktop/Desktop/UofA/4.Winter-2025/ece-910/Batman/VLM-testing/batman-frames/Batman (1989)-002_part_856\n",
      "\n",
      "🎥 Processing: /Users/mario/Desktop/Desktop/UofA/4.Winter-2025/ece-910/Batman/Batman-(1989)-002/Batman (1989)-002_part_857.mp4\n",
      "📸 Total Frames: 108\n"
     ]
    },
    {
     "name": "stderr",
     "output_type": "stream",
     "text": [
      "Extracting Frames from Batman (1989)-002_part_857.mp4: 100%|██████████| 108/108 [00:00<00:00, 386.09it/s]\n"
     ]
    },
    {
     "name": "stdout",
     "output_type": "stream",
     "text": [
      "✅ Saved frames in: /Users/mario/Desktop/Desktop/UofA/4.Winter-2025/ece-910/Batman/VLM-testing/batman-frames/Batman (1989)-002_part_857\n",
      "\n",
      "🎥 Processing: /Users/mario/Desktop/Desktop/UofA/4.Winter-2025/ece-910/Batman/Batman-(1989)-002/Batman (1989)-002_part_858.mp4\n",
      "📸 Total Frames: 64\n"
     ]
    },
    {
     "name": "stderr",
     "output_type": "stream",
     "text": [
      "Extracting Frames from Batman (1989)-002_part_858.mp4: 100%|██████████| 64/64 [00:00<00:00, 560.60it/s]\n"
     ]
    },
    {
     "name": "stdout",
     "output_type": "stream",
     "text": [
      "✅ Saved frames in: /Users/mario/Desktop/Desktop/UofA/4.Winter-2025/ece-910/Batman/VLM-testing/batman-frames/Batman (1989)-002_part_858\n",
      "\n",
      "🎥 Processing: /Users/mario/Desktop/Desktop/UofA/4.Winter-2025/ece-910/Batman/Batman-(1989)-002/Batman (1989)-002_part_859.mp4\n",
      "📸 Total Frames: 61\n"
     ]
    },
    {
     "name": "stderr",
     "output_type": "stream",
     "text": [
      "Extracting Frames from Batman (1989)-002_part_859.mp4: 100%|██████████| 61/61 [00:00<00:00, 572.58it/s]\n"
     ]
    },
    {
     "name": "stdout",
     "output_type": "stream",
     "text": [
      "✅ Saved frames in: /Users/mario/Desktop/Desktop/UofA/4.Winter-2025/ece-910/Batman/VLM-testing/batman-frames/Batman (1989)-002_part_859\n",
      "\n",
      "🎥 Processing: /Users/mario/Desktop/Desktop/UofA/4.Winter-2025/ece-910/Batman/Batman-(1989)-002/Batman (1989)-002_part_86.mp4\n",
      "📸 Total Frames: 70\n"
     ]
    },
    {
     "name": "stderr",
     "output_type": "stream",
     "text": [
      "Extracting Frames from Batman (1989)-002_part_86.mp4: 100%|██████████| 70/70 [00:00<00:00, 601.80it/s]\n"
     ]
    },
    {
     "name": "stdout",
     "output_type": "stream",
     "text": [
      "✅ Saved frames in: /Users/mario/Desktop/Desktop/UofA/4.Winter-2025/ece-910/Batman/VLM-testing/batman-frames/Batman (1989)-002_part_86\n",
      "\n",
      "🎥 Processing: /Users/mario/Desktop/Desktop/UofA/4.Winter-2025/ece-910/Batman/Batman-(1989)-002/Batman (1989)-002_part_860.mp4\n",
      "📸 Total Frames: 193\n"
     ]
    },
    {
     "name": "stderr",
     "output_type": "stream",
     "text": [
      "Extracting Frames from Batman (1989)-002_part_860.mp4: 100%|██████████| 193/193 [00:00<00:00, 612.87it/s]\n"
     ]
    },
    {
     "name": "stdout",
     "output_type": "stream",
     "text": [
      "✅ Saved frames in: /Users/mario/Desktop/Desktop/UofA/4.Winter-2025/ece-910/Batman/VLM-testing/batman-frames/Batman (1989)-002_part_860\n",
      "\n",
      "🎥 Processing: /Users/mario/Desktop/Desktop/UofA/4.Winter-2025/ece-910/Batman/Batman-(1989)-002/Batman (1989)-002_part_861.mp4\n",
      "📸 Total Frames: 176\n"
     ]
    },
    {
     "name": "stderr",
     "output_type": "stream",
     "text": [
      "Extracting Frames from Batman (1989)-002_part_861.mp4: 100%|██████████| 176/176 [00:00<00:00, 641.47it/s]\n"
     ]
    },
    {
     "name": "stdout",
     "output_type": "stream",
     "text": [
      "✅ Saved frames in: /Users/mario/Desktop/Desktop/UofA/4.Winter-2025/ece-910/Batman/VLM-testing/batman-frames/Batman (1989)-002_part_861\n",
      "\n",
      "🎥 Processing: /Users/mario/Desktop/Desktop/UofA/4.Winter-2025/ece-910/Batman/Batman-(1989)-002/Batman (1989)-002_part_862.mp4\n",
      "📸 Total Frames: 64\n"
     ]
    },
    {
     "name": "stderr",
     "output_type": "stream",
     "text": [
      "Extracting Frames from Batman (1989)-002_part_862.mp4: 100%|██████████| 64/64 [00:00<00:00, 568.66it/s]\n"
     ]
    },
    {
     "name": "stdout",
     "output_type": "stream",
     "text": [
      "✅ Saved frames in: /Users/mario/Desktop/Desktop/UofA/4.Winter-2025/ece-910/Batman/VLM-testing/batman-frames/Batman (1989)-002_part_862\n",
      "\n",
      "🎥 Processing: /Users/mario/Desktop/Desktop/UofA/4.Winter-2025/ece-910/Batman/Batman-(1989)-002/Batman (1989)-002_part_863.mp4\n",
      "📸 Total Frames: 67\n"
     ]
    },
    {
     "name": "stderr",
     "output_type": "stream",
     "text": [
      "Extracting Frames from Batman (1989)-002_part_863.mp4: 100%|██████████| 67/67 [00:00<00:00, 601.45it/s]\n"
     ]
    },
    {
     "name": "stdout",
     "output_type": "stream",
     "text": [
      "✅ Saved frames in: /Users/mario/Desktop/Desktop/UofA/4.Winter-2025/ece-910/Batman/VLM-testing/batman-frames/Batman (1989)-002_part_863\n",
      "\n",
      "🎥 Processing: /Users/mario/Desktop/Desktop/UofA/4.Winter-2025/ece-910/Batman/Batman-(1989)-002/Batman (1989)-002_part_864.mp4\n",
      "📸 Total Frames: 24\n"
     ]
    },
    {
     "name": "stderr",
     "output_type": "stream",
     "text": [
      "Extracting Frames from Batman (1989)-002_part_864.mp4: 100%|██████████| 24/24 [00:00<00:00, 473.50it/s]\n"
     ]
    },
    {
     "name": "stdout",
     "output_type": "stream",
     "text": [
      "✅ Saved frames in: /Users/mario/Desktop/Desktop/UofA/4.Winter-2025/ece-910/Batman/VLM-testing/batman-frames/Batman (1989)-002_part_864\n",
      "\n",
      "🎥 Processing: /Users/mario/Desktop/Desktop/UofA/4.Winter-2025/ece-910/Batman/Batman-(1989)-002/Batman (1989)-002_part_865.mp4\n",
      "📸 Total Frames: 39\n"
     ]
    },
    {
     "name": "stderr",
     "output_type": "stream",
     "text": [
      "Extracting Frames from Batman (1989)-002_part_865.mp4: 100%|██████████| 39/39 [00:00<00:00, 583.82it/s]\n"
     ]
    },
    {
     "name": "stdout",
     "output_type": "stream",
     "text": [
      "✅ Saved frames in: /Users/mario/Desktop/Desktop/UofA/4.Winter-2025/ece-910/Batman/VLM-testing/batman-frames/Batman (1989)-002_part_865\n",
      "\n",
      "🎥 Processing: /Users/mario/Desktop/Desktop/UofA/4.Winter-2025/ece-910/Batman/Batman-(1989)-002/Batman (1989)-002_part_866.mp4\n",
      "📸 Total Frames: 27\n"
     ]
    },
    {
     "name": "stderr",
     "output_type": "stream",
     "text": [
      "Extracting Frames from Batman (1989)-002_part_866.mp4: 100%|██████████| 27/27 [00:00<00:00, 549.89it/s]\n"
     ]
    },
    {
     "name": "stdout",
     "output_type": "stream",
     "text": [
      "✅ Saved frames in: /Users/mario/Desktop/Desktop/UofA/4.Winter-2025/ece-910/Batman/VLM-testing/batman-frames/Batman (1989)-002_part_866\n",
      "\n",
      "🎥 Processing: /Users/mario/Desktop/Desktop/UofA/4.Winter-2025/ece-910/Batman/Batman-(1989)-002/Batman (1989)-002_part_867.mp4\n",
      "📸 Total Frames: 60\n"
     ]
    },
    {
     "name": "stderr",
     "output_type": "stream",
     "text": [
      "Extracting Frames from Batman (1989)-002_part_867.mp4: 100%|██████████| 60/60 [00:00<00:00, 590.11it/s]\n"
     ]
    },
    {
     "name": "stdout",
     "output_type": "stream",
     "text": [
      "✅ Saved frames in: /Users/mario/Desktop/Desktop/UofA/4.Winter-2025/ece-910/Batman/VLM-testing/batman-frames/Batman (1989)-002_part_867\n",
      "\n",
      "🎥 Processing: /Users/mario/Desktop/Desktop/UofA/4.Winter-2025/ece-910/Batman/Batman-(1989)-002/Batman (1989)-002_part_868.mp4\n",
      "📸 Total Frames: 15\n"
     ]
    },
    {
     "name": "stderr",
     "output_type": "stream",
     "text": [
      "Extracting Frames from Batman (1989)-002_part_868.mp4: 100%|██████████| 15/15 [00:00<00:00, 452.84it/s]\n"
     ]
    },
    {
     "name": "stdout",
     "output_type": "stream",
     "text": [
      "✅ Saved frames in: /Users/mario/Desktop/Desktop/UofA/4.Winter-2025/ece-910/Batman/VLM-testing/batman-frames/Batman (1989)-002_part_868\n",
      "\n",
      "🎥 Processing: /Users/mario/Desktop/Desktop/UofA/4.Winter-2025/ece-910/Batman/Batman-(1989)-002/Batman (1989)-002_part_869.mp4\n",
      "📸 Total Frames: 63\n"
     ]
    },
    {
     "name": "stderr",
     "output_type": "stream",
     "text": [
      "Extracting Frames from Batman (1989)-002_part_869.mp4: 100%|██████████| 63/63 [00:00<00:00, 497.09it/s]\n"
     ]
    },
    {
     "name": "stdout",
     "output_type": "stream",
     "text": [
      "✅ Saved frames in: /Users/mario/Desktop/Desktop/UofA/4.Winter-2025/ece-910/Batman/VLM-testing/batman-frames/Batman (1989)-002_part_869\n",
      "\n",
      "🎥 Processing: /Users/mario/Desktop/Desktop/UofA/4.Winter-2025/ece-910/Batman/Batman-(1989)-002/Batman (1989)-002_part_87.mp4\n",
      "📸 Total Frames: 139\n"
     ]
    },
    {
     "name": "stderr",
     "output_type": "stream",
     "text": [
      "Extracting Frames from Batman (1989)-002_part_87.mp4: 100%|██████████| 139/139 [00:00<00:00, 581.07it/s]\n"
     ]
    },
    {
     "name": "stdout",
     "output_type": "stream",
     "text": [
      "✅ Saved frames in: /Users/mario/Desktop/Desktop/UofA/4.Winter-2025/ece-910/Batman/VLM-testing/batman-frames/Batman (1989)-002_part_87\n",
      "\n",
      "🎥 Processing: /Users/mario/Desktop/Desktop/UofA/4.Winter-2025/ece-910/Batman/Batman-(1989)-002/Batman (1989)-002_part_870.mp4\n",
      "📸 Total Frames: 34\n"
     ]
    },
    {
     "name": "stderr",
     "output_type": "stream",
     "text": [
      "Extracting Frames from Batman (1989)-002_part_870.mp4: 100%|██████████| 34/34 [00:00<00:00, 575.01it/s]\n"
     ]
    },
    {
     "name": "stdout",
     "output_type": "stream",
     "text": [
      "✅ Saved frames in: /Users/mario/Desktop/Desktop/UofA/4.Winter-2025/ece-910/Batman/VLM-testing/batman-frames/Batman (1989)-002_part_870\n",
      "\n",
      "🎥 Processing: /Users/mario/Desktop/Desktop/UofA/4.Winter-2025/ece-910/Batman/Batman-(1989)-002/Batman (1989)-002_part_871.mp4\n",
      "📸 Total Frames: 104\n"
     ]
    },
    {
     "name": "stderr",
     "output_type": "stream",
     "text": [
      "Extracting Frames from Batman (1989)-002_part_871.mp4: 100%|██████████| 104/104 [00:00<00:00, 586.62it/s]\n"
     ]
    },
    {
     "name": "stdout",
     "output_type": "stream",
     "text": [
      "✅ Saved frames in: /Users/mario/Desktop/Desktop/UofA/4.Winter-2025/ece-910/Batman/VLM-testing/batman-frames/Batman (1989)-002_part_871\n",
      "\n",
      "🎥 Processing: /Users/mario/Desktop/Desktop/UofA/4.Winter-2025/ece-910/Batman/Batman-(1989)-002/Batman (1989)-002_part_872.mp4\n",
      "📸 Total Frames: 123\n"
     ]
    },
    {
     "name": "stderr",
     "output_type": "stream",
     "text": [
      "Extracting Frames from Batman (1989)-002_part_872.mp4: 100%|██████████| 123/123 [00:00<00:00, 623.83it/s]\n"
     ]
    },
    {
     "name": "stdout",
     "output_type": "stream",
     "text": [
      "✅ Saved frames in: /Users/mario/Desktop/Desktop/UofA/4.Winter-2025/ece-910/Batman/VLM-testing/batman-frames/Batman (1989)-002_part_872\n",
      "\n",
      "🎥 Processing: /Users/mario/Desktop/Desktop/UofA/4.Winter-2025/ece-910/Batman/Batman-(1989)-002/Batman (1989)-002_part_873.mp4\n",
      "📸 Total Frames: 49\n"
     ]
    },
    {
     "name": "stderr",
     "output_type": "stream",
     "text": [
      "Extracting Frames from Batman (1989)-002_part_873.mp4: 100%|██████████| 49/49 [00:00<00:00, 539.11it/s]\n"
     ]
    },
    {
     "name": "stdout",
     "output_type": "stream",
     "text": [
      "✅ Saved frames in: /Users/mario/Desktop/Desktop/UofA/4.Winter-2025/ece-910/Batman/VLM-testing/batman-frames/Batman (1989)-002_part_873\n",
      "\n",
      "🎥 Processing: /Users/mario/Desktop/Desktop/UofA/4.Winter-2025/ece-910/Batman/Batman-(1989)-002/Batman (1989)-002_part_874.mp4\n",
      "📸 Total Frames: 90\n"
     ]
    },
    {
     "name": "stderr",
     "output_type": "stream",
     "text": [
      "Extracting Frames from Batman (1989)-002_part_874.mp4: 100%|██████████| 90/90 [00:00<00:00, 597.55it/s]\n"
     ]
    },
    {
     "name": "stdout",
     "output_type": "stream",
     "text": [
      "✅ Saved frames in: /Users/mario/Desktop/Desktop/UofA/4.Winter-2025/ece-910/Batman/VLM-testing/batman-frames/Batman (1989)-002_part_874\n",
      "\n",
      "🎥 Processing: /Users/mario/Desktop/Desktop/UofA/4.Winter-2025/ece-910/Batman/Batman-(1989)-002/Batman (1989)-002_part_875.mp4\n",
      "📸 Total Frames: 30\n"
     ]
    },
    {
     "name": "stderr",
     "output_type": "stream",
     "text": [
      "Extracting Frames from Batman (1989)-002_part_875.mp4: 100%|██████████| 30/30 [00:00<00:00, 593.94it/s]\n"
     ]
    },
    {
     "name": "stdout",
     "output_type": "stream",
     "text": [
      "✅ Saved frames in: /Users/mario/Desktop/Desktop/UofA/4.Winter-2025/ece-910/Batman/VLM-testing/batman-frames/Batman (1989)-002_part_875\n",
      "\n",
      "🎥 Processing: /Users/mario/Desktop/Desktop/UofA/4.Winter-2025/ece-910/Batman/Batman-(1989)-002/Batman (1989)-002_part_876.mp4\n",
      "📸 Total Frames: 68\n"
     ]
    },
    {
     "name": "stderr",
     "output_type": "stream",
     "text": [
      "Extracting Frames from Batman (1989)-002_part_876.mp4: 100%|██████████| 68/68 [00:00<00:00, 262.56it/s]\n"
     ]
    },
    {
     "name": "stdout",
     "output_type": "stream",
     "text": [
      "✅ Saved frames in: /Users/mario/Desktop/Desktop/UofA/4.Winter-2025/ece-910/Batman/VLM-testing/batman-frames/Batman (1989)-002_part_876\n",
      "\n",
      "🎥 Processing: /Users/mario/Desktop/Desktop/UofA/4.Winter-2025/ece-910/Batman/Batman-(1989)-002/Batman (1989)-002_part_877.mp4\n",
      "📸 Total Frames: 47\n"
     ]
    },
    {
     "name": "stderr",
     "output_type": "stream",
     "text": [
      "Extracting Frames from Batman (1989)-002_part_877.mp4: 100%|██████████| 47/47 [00:00<00:00, 596.37it/s]\n"
     ]
    },
    {
     "name": "stdout",
     "output_type": "stream",
     "text": [
      "✅ Saved frames in: /Users/mario/Desktop/Desktop/UofA/4.Winter-2025/ece-910/Batman/VLM-testing/batman-frames/Batman (1989)-002_part_877\n",
      "\n",
      "🎥 Processing: /Users/mario/Desktop/Desktop/UofA/4.Winter-2025/ece-910/Batman/Batman-(1989)-002/Batman (1989)-002_part_878.mp4\n",
      "📸 Total Frames: 73\n"
     ]
    },
    {
     "name": "stderr",
     "output_type": "stream",
     "text": [
      "Extracting Frames from Batman (1989)-002_part_878.mp4: 100%|██████████| 73/73 [00:00<00:00, 630.76it/s]\n"
     ]
    },
    {
     "name": "stdout",
     "output_type": "stream",
     "text": [
      "✅ Saved frames in: /Users/mario/Desktop/Desktop/UofA/4.Winter-2025/ece-910/Batman/VLM-testing/batman-frames/Batman (1989)-002_part_878\n",
      "\n",
      "🎥 Processing: /Users/mario/Desktop/Desktop/UofA/4.Winter-2025/ece-910/Batman/Batman-(1989)-002/Batman (1989)-002_part_879.mp4\n",
      "📸 Total Frames: 28\n"
     ]
    },
    {
     "name": "stderr",
     "output_type": "stream",
     "text": [
      "Extracting Frames from Batman (1989)-002_part_879.mp4: 100%|██████████| 28/28 [00:00<00:00, 541.72it/s]\n"
     ]
    },
    {
     "name": "stdout",
     "output_type": "stream",
     "text": [
      "✅ Saved frames in: /Users/mario/Desktop/Desktop/UofA/4.Winter-2025/ece-910/Batman/VLM-testing/batman-frames/Batman (1989)-002_part_879\n",
      "\n",
      "🎥 Processing: /Users/mario/Desktop/Desktop/UofA/4.Winter-2025/ece-910/Batman/Batman-(1989)-002/Batman (1989)-002_part_88.mp4\n",
      "📸 Total Frames: 72\n"
     ]
    },
    {
     "name": "stderr",
     "output_type": "stream",
     "text": [
      "Extracting Frames from Batman (1989)-002_part_88.mp4: 100%|██████████| 72/72 [00:00<00:00, 585.70it/s]\n"
     ]
    },
    {
     "name": "stdout",
     "output_type": "stream",
     "text": [
      "✅ Saved frames in: /Users/mario/Desktop/Desktop/UofA/4.Winter-2025/ece-910/Batman/VLM-testing/batman-frames/Batman (1989)-002_part_88\n",
      "\n",
      "🎥 Processing: /Users/mario/Desktop/Desktop/UofA/4.Winter-2025/ece-910/Batman/Batman-(1989)-002/Batman (1989)-002_part_880.mp4\n",
      "📸 Total Frames: 36\n"
     ]
    },
    {
     "name": "stderr",
     "output_type": "stream",
     "text": [
      "Extracting Frames from Batman (1989)-002_part_880.mp4: 100%|██████████| 36/36 [00:00<00:00, 592.71it/s]\n"
     ]
    },
    {
     "name": "stdout",
     "output_type": "stream",
     "text": [
      "✅ Saved frames in: /Users/mario/Desktop/Desktop/UofA/4.Winter-2025/ece-910/Batman/VLM-testing/batman-frames/Batman (1989)-002_part_880\n",
      "\n",
      "🎥 Processing: /Users/mario/Desktop/Desktop/UofA/4.Winter-2025/ece-910/Batman/Batman-(1989)-002/Batman (1989)-002_part_881.mp4\n",
      "📸 Total Frames: 25\n"
     ]
    },
    {
     "name": "stderr",
     "output_type": "stream",
     "text": [
      "Extracting Frames from Batman (1989)-002_part_881.mp4: 100%|██████████| 25/25 [00:00<00:00, 556.89it/s]\n"
     ]
    },
    {
     "name": "stdout",
     "output_type": "stream",
     "text": [
      "✅ Saved frames in: /Users/mario/Desktop/Desktop/UofA/4.Winter-2025/ece-910/Batman/VLM-testing/batman-frames/Batman (1989)-002_part_881\n",
      "\n",
      "🎥 Processing: /Users/mario/Desktop/Desktop/UofA/4.Winter-2025/ece-910/Batman/Batman-(1989)-002/Batman (1989)-002_part_882.mp4\n",
      "📸 Total Frames: 91\n"
     ]
    },
    {
     "name": "stderr",
     "output_type": "stream",
     "text": [
      "Extracting Frames from Batman (1989)-002_part_882.mp4: 100%|██████████| 91/91 [00:00<00:00, 613.81it/s]\n"
     ]
    },
    {
     "name": "stdout",
     "output_type": "stream",
     "text": [
      "✅ Saved frames in: /Users/mario/Desktop/Desktop/UofA/4.Winter-2025/ece-910/Batman/VLM-testing/batman-frames/Batman (1989)-002_part_882\n",
      "\n",
      "🎥 Processing: /Users/mario/Desktop/Desktop/UofA/4.Winter-2025/ece-910/Batman/Batman-(1989)-002/Batman (1989)-002_part_883.mp4\n",
      "📸 Total Frames: 20\n"
     ]
    },
    {
     "name": "stderr",
     "output_type": "stream",
     "text": [
      "Extracting Frames from Batman (1989)-002_part_883.mp4: 100%|██████████| 20/20 [00:00<00:00, 574.50it/s]\n"
     ]
    },
    {
     "name": "stdout",
     "output_type": "stream",
     "text": [
      "✅ Saved frames in: /Users/mario/Desktop/Desktop/UofA/4.Winter-2025/ece-910/Batman/VLM-testing/batman-frames/Batman (1989)-002_part_883\n",
      "\n",
      "🎥 Processing: /Users/mario/Desktop/Desktop/UofA/4.Winter-2025/ece-910/Batman/Batman-(1989)-002/Batman (1989)-002_part_884.mp4\n",
      "📸 Total Frames: 28\n"
     ]
    },
    {
     "name": "stderr",
     "output_type": "stream",
     "text": [
      "Extracting Frames from Batman (1989)-002_part_884.mp4: 100%|██████████| 28/28 [00:00<00:00, 563.87it/s]\n"
     ]
    },
    {
     "name": "stdout",
     "output_type": "stream",
     "text": [
      "✅ Saved frames in: /Users/mario/Desktop/Desktop/UofA/4.Winter-2025/ece-910/Batman/VLM-testing/batman-frames/Batman (1989)-002_part_884\n",
      "\n",
      "🎥 Processing: /Users/mario/Desktop/Desktop/UofA/4.Winter-2025/ece-910/Batman/Batman-(1989)-002/Batman (1989)-002_part_885.mp4\n",
      "📸 Total Frames: 37\n"
     ]
    },
    {
     "name": "stderr",
     "output_type": "stream",
     "text": [
      "Extracting Frames from Batman (1989)-002_part_885.mp4: 100%|██████████| 37/37 [00:00<00:00, 541.05it/s]\n"
     ]
    },
    {
     "name": "stdout",
     "output_type": "stream",
     "text": [
      "✅ Saved frames in: /Users/mario/Desktop/Desktop/UofA/4.Winter-2025/ece-910/Batman/VLM-testing/batman-frames/Batman (1989)-002_part_885\n",
      "\n",
      "🎥 Processing: /Users/mario/Desktop/Desktop/UofA/4.Winter-2025/ece-910/Batman/Batman-(1989)-002/Batman (1989)-002_part_886.mp4\n",
      "📸 Total Frames: 140\n"
     ]
    },
    {
     "name": "stderr",
     "output_type": "stream",
     "text": [
      "Extracting Frames from Batman (1989)-002_part_886.mp4: 100%|██████████| 140/140 [00:00<00:00, 628.45it/s]\n"
     ]
    },
    {
     "name": "stdout",
     "output_type": "stream",
     "text": [
      "✅ Saved frames in: /Users/mario/Desktop/Desktop/UofA/4.Winter-2025/ece-910/Batman/VLM-testing/batman-frames/Batman (1989)-002_part_886\n",
      "\n",
      "🎥 Processing: /Users/mario/Desktop/Desktop/UofA/4.Winter-2025/ece-910/Batman/Batman-(1989)-002/Batman (1989)-002_part_887.mp4\n",
      "📸 Total Frames: 64\n"
     ]
    },
    {
     "name": "stderr",
     "output_type": "stream",
     "text": [
      "Extracting Frames from Batman (1989)-002_part_887.mp4: 100%|██████████| 64/64 [00:00<00:00, 643.48it/s]\n"
     ]
    },
    {
     "name": "stdout",
     "output_type": "stream",
     "text": [
      "✅ Saved frames in: /Users/mario/Desktop/Desktop/UofA/4.Winter-2025/ece-910/Batman/VLM-testing/batman-frames/Batman (1989)-002_part_887\n",
      "\n",
      "🎥 Processing: /Users/mario/Desktop/Desktop/UofA/4.Winter-2025/ece-910/Batman/Batman-(1989)-002/Batman (1989)-002_part_888.mp4\n",
      "📸 Total Frames: 80\n"
     ]
    },
    {
     "name": "stderr",
     "output_type": "stream",
     "text": [
      "Extracting Frames from Batman (1989)-002_part_888.mp4: 100%|██████████| 80/80 [00:00<00:00, 600.87it/s]\n"
     ]
    },
    {
     "name": "stdout",
     "output_type": "stream",
     "text": [
      "✅ Saved frames in: /Users/mario/Desktop/Desktop/UofA/4.Winter-2025/ece-910/Batman/VLM-testing/batman-frames/Batman (1989)-002_part_888\n",
      "\n",
      "🎥 Processing: /Users/mario/Desktop/Desktop/UofA/4.Winter-2025/ece-910/Batman/Batman-(1989)-002/Batman (1989)-002_part_889.mp4\n",
      "📸 Total Frames: 77\n"
     ]
    },
    {
     "name": "stderr",
     "output_type": "stream",
     "text": [
      "Extracting Frames from Batman (1989)-002_part_889.mp4: 100%|██████████| 77/77 [00:00<00:00, 643.71it/s]\n"
     ]
    },
    {
     "name": "stdout",
     "output_type": "stream",
     "text": [
      "✅ Saved frames in: /Users/mario/Desktop/Desktop/UofA/4.Winter-2025/ece-910/Batman/VLM-testing/batman-frames/Batman (1989)-002_part_889\n",
      "\n",
      "🎥 Processing: /Users/mario/Desktop/Desktop/UofA/4.Winter-2025/ece-910/Batman/Batman-(1989)-002/Batman (1989)-002_part_89.mp4\n",
      "📸 Total Frames: 50\n"
     ]
    },
    {
     "name": "stderr",
     "output_type": "stream",
     "text": [
      "Extracting Frames from Batman (1989)-002_part_89.mp4: 100%|██████████| 50/50 [00:00<00:00, 562.00it/s]\n"
     ]
    },
    {
     "name": "stdout",
     "output_type": "stream",
     "text": [
      "✅ Saved frames in: /Users/mario/Desktop/Desktop/UofA/4.Winter-2025/ece-910/Batman/VLM-testing/batman-frames/Batman (1989)-002_part_89\n",
      "\n",
      "🎥 Processing: /Users/mario/Desktop/Desktop/UofA/4.Winter-2025/ece-910/Batman/Batman-(1989)-002/Batman (1989)-002_part_890.mp4\n",
      "📸 Total Frames: 52\n"
     ]
    },
    {
     "name": "stderr",
     "output_type": "stream",
     "text": [
      "Extracting Frames from Batman (1989)-002_part_890.mp4: 100%|██████████| 52/52 [00:00<00:00, 502.19it/s]\n"
     ]
    },
    {
     "name": "stdout",
     "output_type": "stream",
     "text": [
      "✅ Saved frames in: /Users/mario/Desktop/Desktop/UofA/4.Winter-2025/ece-910/Batman/VLM-testing/batman-frames/Batman (1989)-002_part_890\n",
      "\n",
      "🎥 Processing: /Users/mario/Desktop/Desktop/UofA/4.Winter-2025/ece-910/Batman/Batman-(1989)-002/Batman (1989)-002_part_891.mp4\n",
      "📸 Total Frames: 47\n"
     ]
    },
    {
     "name": "stderr",
     "output_type": "stream",
     "text": [
      "Extracting Frames from Batman (1989)-002_part_891.mp4: 100%|██████████| 47/47 [00:00<00:00, 559.49it/s]\n"
     ]
    },
    {
     "name": "stdout",
     "output_type": "stream",
     "text": [
      "✅ Saved frames in: /Users/mario/Desktop/Desktop/UofA/4.Winter-2025/ece-910/Batman/VLM-testing/batman-frames/Batman (1989)-002_part_891\n",
      "\n",
      "🎥 Processing: /Users/mario/Desktop/Desktop/UofA/4.Winter-2025/ece-910/Batman/Batman-(1989)-002/Batman (1989)-002_part_892.mp4\n",
      "📸 Total Frames: 172\n"
     ]
    },
    {
     "name": "stderr",
     "output_type": "stream",
     "text": [
      "Extracting Frames from Batman (1989)-002_part_892.mp4: 100%|██████████| 172/172 [00:00<00:00, 637.16it/s]\n"
     ]
    },
    {
     "name": "stdout",
     "output_type": "stream",
     "text": [
      "✅ Saved frames in: /Users/mario/Desktop/Desktop/UofA/4.Winter-2025/ece-910/Batman/VLM-testing/batman-frames/Batman (1989)-002_part_892\n",
      "\n",
      "🎥 Processing: /Users/mario/Desktop/Desktop/UofA/4.Winter-2025/ece-910/Batman/Batman-(1989)-002/Batman (1989)-002_part_893.mp4\n",
      "📸 Total Frames: 558\n"
     ]
    },
    {
     "name": "stderr",
     "output_type": "stream",
     "text": [
      "Extracting Frames from Batman (1989)-002_part_893.mp4: 100%|██████████| 558/558 [00:00<00:00, 576.79it/s]\n"
     ]
    },
    {
     "name": "stdout",
     "output_type": "stream",
     "text": [
      "✅ Saved frames in: /Users/mario/Desktop/Desktop/UofA/4.Winter-2025/ece-910/Batman/VLM-testing/batman-frames/Batman (1989)-002_part_893\n",
      "\n",
      "🎥 Processing: /Users/mario/Desktop/Desktop/UofA/4.Winter-2025/ece-910/Batman/Batman-(1989)-002/Batman (1989)-002_part_894.mp4\n",
      "📸 Total Frames: 38\n"
     ]
    },
    {
     "name": "stderr",
     "output_type": "stream",
     "text": [
      "Extracting Frames from Batman (1989)-002_part_894.mp4: 100%|██████████| 38/38 [00:00<00:00, 548.51it/s]\n"
     ]
    },
    {
     "name": "stdout",
     "output_type": "stream",
     "text": [
      "✅ Saved frames in: /Users/mario/Desktop/Desktop/UofA/4.Winter-2025/ece-910/Batman/VLM-testing/batman-frames/Batman (1989)-002_part_894\n",
      "\n",
      "🎥 Processing: /Users/mario/Desktop/Desktop/UofA/4.Winter-2025/ece-910/Batman/Batman-(1989)-002/Batman (1989)-002_part_895.mp4\n",
      "📸 Total Frames: 265\n"
     ]
    },
    {
     "name": "stderr",
     "output_type": "stream",
     "text": [
      "Extracting Frames from Batman (1989)-002_part_895.mp4: 100%|██████████| 265/265 [00:00<00:00, 579.38it/s]\n"
     ]
    },
    {
     "name": "stdout",
     "output_type": "stream",
     "text": [
      "✅ Saved frames in: /Users/mario/Desktop/Desktop/UofA/4.Winter-2025/ece-910/Batman/VLM-testing/batman-frames/Batman (1989)-002_part_895\n",
      "\n",
      "🎥 Processing: /Users/mario/Desktop/Desktop/UofA/4.Winter-2025/ece-910/Batman/Batman-(1989)-002/Batman (1989)-002_part_896.mp4\n",
      "📸 Total Frames: 84\n"
     ]
    },
    {
     "name": "stderr",
     "output_type": "stream",
     "text": [
      "Extracting Frames from Batman (1989)-002_part_896.mp4: 100%|██████████| 84/84 [00:00<00:00, 288.21it/s]\n"
     ]
    },
    {
     "name": "stdout",
     "output_type": "stream",
     "text": [
      "✅ Saved frames in: /Users/mario/Desktop/Desktop/UofA/4.Winter-2025/ece-910/Batman/VLM-testing/batman-frames/Batman (1989)-002_part_896\n",
      "\n",
      "🎥 Processing: /Users/mario/Desktop/Desktop/UofA/4.Winter-2025/ece-910/Batman/Batman-(1989)-002/Batman (1989)-002_part_897.mp4\n",
      "📸 Total Frames: 131\n"
     ]
    },
    {
     "name": "stderr",
     "output_type": "stream",
     "text": [
      "Extracting Frames from Batman (1989)-002_part_897.mp4: 100%|██████████| 131/131 [00:00<00:00, 681.39it/s]\n"
     ]
    },
    {
     "name": "stdout",
     "output_type": "stream",
     "text": [
      "✅ Saved frames in: /Users/mario/Desktop/Desktop/UofA/4.Winter-2025/ece-910/Batman/VLM-testing/batman-frames/Batman (1989)-002_part_897\n",
      "\n",
      "🎥 Processing: /Users/mario/Desktop/Desktop/UofA/4.Winter-2025/ece-910/Batman/Batman-(1989)-002/Batman (1989)-002_part_898.mp4\n",
      "📸 Total Frames: 230\n"
     ]
    },
    {
     "name": "stderr",
     "output_type": "stream",
     "text": [
      "Extracting Frames from Batman (1989)-002_part_898.mp4: 100%|██████████| 230/230 [00:00<00:00, 675.88it/s]\n"
     ]
    },
    {
     "name": "stdout",
     "output_type": "stream",
     "text": [
      "✅ Saved frames in: /Users/mario/Desktop/Desktop/UofA/4.Winter-2025/ece-910/Batman/VLM-testing/batman-frames/Batman (1989)-002_part_898\n",
      "\n",
      "🎥 Processing: /Users/mario/Desktop/Desktop/UofA/4.Winter-2025/ece-910/Batman/Batman-(1989)-002/Batman (1989)-002_part_899.mp4\n",
      "📸 Total Frames: 31\n"
     ]
    },
    {
     "name": "stderr",
     "output_type": "stream",
     "text": [
      "Extracting Frames from Batman (1989)-002_part_899.mp4: 100%|██████████| 31/31 [00:00<00:00, 559.95it/s]\n"
     ]
    },
    {
     "name": "stdout",
     "output_type": "stream",
     "text": [
      "✅ Saved frames in: /Users/mario/Desktop/Desktop/UofA/4.Winter-2025/ece-910/Batman/VLM-testing/batman-frames/Batman (1989)-002_part_899\n",
      "\n",
      "🎥 Processing: /Users/mario/Desktop/Desktop/UofA/4.Winter-2025/ece-910/Batman/Batman-(1989)-002/Batman (1989)-002_part_9.mp4\n",
      "📸 Total Frames: 36\n"
     ]
    },
    {
     "name": "stderr",
     "output_type": "stream",
     "text": [
      "Extracting Frames from Batman (1989)-002_part_9.mp4: 100%|██████████| 36/36 [00:00<00:00, 550.80it/s]\n"
     ]
    },
    {
     "name": "stdout",
     "output_type": "stream",
     "text": [
      "✅ Saved frames in: /Users/mario/Desktop/Desktop/UofA/4.Winter-2025/ece-910/Batman/VLM-testing/batman-frames/Batman (1989)-002_part_9\n",
      "\n",
      "🎥 Processing: /Users/mario/Desktop/Desktop/UofA/4.Winter-2025/ece-910/Batman/Batman-(1989)-002/Batman (1989)-002_part_90.mp4\n",
      "📸 Total Frames: 64\n"
     ]
    },
    {
     "name": "stderr",
     "output_type": "stream",
     "text": [
      "Extracting Frames from Batman (1989)-002_part_90.mp4: 100%|██████████| 64/64 [00:00<00:00, 497.91it/s]\n"
     ]
    },
    {
     "name": "stdout",
     "output_type": "stream",
     "text": [
      "✅ Saved frames in: /Users/mario/Desktop/Desktop/UofA/4.Winter-2025/ece-910/Batman/VLM-testing/batman-frames/Batman (1989)-002_part_90\n",
      "\n",
      "🎥 Processing: /Users/mario/Desktop/Desktop/UofA/4.Winter-2025/ece-910/Batman/Batman-(1989)-002/Batman (1989)-002_part_900.mp4\n",
      "📸 Total Frames: 28\n"
     ]
    },
    {
     "name": "stderr",
     "output_type": "stream",
     "text": [
      "Extracting Frames from Batman (1989)-002_part_900.mp4: 100%|██████████| 28/28 [00:00<00:00, 558.30it/s]\n"
     ]
    },
    {
     "name": "stdout",
     "output_type": "stream",
     "text": [
      "✅ Saved frames in: /Users/mario/Desktop/Desktop/UofA/4.Winter-2025/ece-910/Batman/VLM-testing/batman-frames/Batman (1989)-002_part_900\n",
      "\n",
      "🎥 Processing: /Users/mario/Desktop/Desktop/UofA/4.Winter-2025/ece-910/Batman/Batman-(1989)-002/Batman (1989)-002_part_901.mp4\n",
      "📸 Total Frames: 32\n"
     ]
    },
    {
     "name": "stderr",
     "output_type": "stream",
     "text": [
      "Extracting Frames from Batman (1989)-002_part_901.mp4: 100%|██████████| 32/32 [00:00<00:00, 447.91it/s]\n"
     ]
    },
    {
     "name": "stdout",
     "output_type": "stream",
     "text": [
      "✅ Saved frames in: /Users/mario/Desktop/Desktop/UofA/4.Winter-2025/ece-910/Batman/VLM-testing/batman-frames/Batman (1989)-002_part_901\n",
      "\n",
      "🎥 Processing: /Users/mario/Desktop/Desktop/UofA/4.Winter-2025/ece-910/Batman/Batman-(1989)-002/Batman (1989)-002_part_902.mp4\n",
      "📸 Total Frames: 40\n"
     ]
    },
    {
     "name": "stderr",
     "output_type": "stream",
     "text": [
      "Extracting Frames from Batman (1989)-002_part_902.mp4: 100%|██████████| 40/40 [00:00<00:00, 568.06it/s]\n"
     ]
    },
    {
     "name": "stdout",
     "output_type": "stream",
     "text": [
      "✅ Saved frames in: /Users/mario/Desktop/Desktop/UofA/4.Winter-2025/ece-910/Batman/VLM-testing/batman-frames/Batman (1989)-002_part_902\n",
      "\n",
      "🎥 Processing: /Users/mario/Desktop/Desktop/UofA/4.Winter-2025/ece-910/Batman/Batman-(1989)-002/Batman (1989)-002_part_903.mp4\n",
      "📸 Total Frames: 38\n"
     ]
    },
    {
     "name": "stderr",
     "output_type": "stream",
     "text": [
      "Extracting Frames from Batman (1989)-002_part_903.mp4: 100%|██████████| 38/38 [00:00<00:00, 599.76it/s]\n"
     ]
    },
    {
     "name": "stdout",
     "output_type": "stream",
     "text": [
      "✅ Saved frames in: /Users/mario/Desktop/Desktop/UofA/4.Winter-2025/ece-910/Batman/VLM-testing/batman-frames/Batman (1989)-002_part_903\n",
      "\n",
      "🎥 Processing: /Users/mario/Desktop/Desktop/UofA/4.Winter-2025/ece-910/Batman/Batman-(1989)-002/Batman (1989)-002_part_904.mp4\n",
      "📸 Total Frames: 113\n"
     ]
    },
    {
     "name": "stderr",
     "output_type": "stream",
     "text": [
      "Extracting Frames from Batman (1989)-002_part_904.mp4: 100%|██████████| 113/113 [00:00<00:00, 643.04it/s]\n"
     ]
    },
    {
     "name": "stdout",
     "output_type": "stream",
     "text": [
      "✅ Saved frames in: /Users/mario/Desktop/Desktop/UofA/4.Winter-2025/ece-910/Batman/VLM-testing/batman-frames/Batman (1989)-002_part_904\n",
      "\n",
      "🎥 Processing: /Users/mario/Desktop/Desktop/UofA/4.Winter-2025/ece-910/Batman/Batman-(1989)-002/Batman (1989)-002_part_905.mp4\n",
      "📸 Total Frames: 64\n"
     ]
    },
    {
     "name": "stderr",
     "output_type": "stream",
     "text": [
      "Extracting Frames from Batman (1989)-002_part_905.mp4: 100%|██████████| 64/64 [00:00<00:00, 611.34it/s]\n"
     ]
    },
    {
     "name": "stdout",
     "output_type": "stream",
     "text": [
      "✅ Saved frames in: /Users/mario/Desktop/Desktop/UofA/4.Winter-2025/ece-910/Batman/VLM-testing/batman-frames/Batman (1989)-002_part_905\n",
      "\n",
      "🎥 Processing: /Users/mario/Desktop/Desktop/UofA/4.Winter-2025/ece-910/Batman/Batman-(1989)-002/Batman (1989)-002_part_906.mp4\n",
      "📸 Total Frames: 99\n"
     ]
    },
    {
     "name": "stderr",
     "output_type": "stream",
     "text": [
      "Extracting Frames from Batman (1989)-002_part_906.mp4: 100%|██████████| 99/99 [00:00<00:00, 608.67it/s]\n"
     ]
    },
    {
     "name": "stdout",
     "output_type": "stream",
     "text": [
      "✅ Saved frames in: /Users/mario/Desktop/Desktop/UofA/4.Winter-2025/ece-910/Batman/VLM-testing/batman-frames/Batman (1989)-002_part_906\n",
      "\n",
      "🎥 Processing: /Users/mario/Desktop/Desktop/UofA/4.Winter-2025/ece-910/Batman/Batman-(1989)-002/Batman (1989)-002_part_907.mp4\n",
      "📸 Total Frames: 217\n"
     ]
    },
    {
     "name": "stderr",
     "output_type": "stream",
     "text": [
      "Extracting Frames from Batman (1989)-002_part_907.mp4: 100%|██████████| 217/217 [00:00<00:00, 595.86it/s]\n"
     ]
    },
    {
     "name": "stdout",
     "output_type": "stream",
     "text": [
      "✅ Saved frames in: /Users/mario/Desktop/Desktop/UofA/4.Winter-2025/ece-910/Batman/VLM-testing/batman-frames/Batman (1989)-002_part_907\n",
      "\n",
      "🎥 Processing: /Users/mario/Desktop/Desktop/UofA/4.Winter-2025/ece-910/Batman/Batman-(1989)-002/Batman (1989)-002_part_908.mp4\n",
      "📸 Total Frames: 81\n"
     ]
    },
    {
     "name": "stderr",
     "output_type": "stream",
     "text": [
      "Extracting Frames from Batman (1989)-002_part_908.mp4: 100%|██████████| 81/81 [00:00<00:00, 610.84it/s]\n"
     ]
    },
    {
     "name": "stdout",
     "output_type": "stream",
     "text": [
      "✅ Saved frames in: /Users/mario/Desktop/Desktop/UofA/4.Winter-2025/ece-910/Batman/VLM-testing/batman-frames/Batman (1989)-002_part_908\n",
      "\n",
      "🎥 Processing: /Users/mario/Desktop/Desktop/UofA/4.Winter-2025/ece-910/Batman/Batman-(1989)-002/Batman (1989)-002_part_909.mp4\n",
      "📸 Total Frames: 99\n"
     ]
    },
    {
     "name": "stderr",
     "output_type": "stream",
     "text": [
      "Extracting Frames from Batman (1989)-002_part_909.mp4: 100%|██████████| 99/99 [00:00<00:00, 597.92it/s]\n"
     ]
    },
    {
     "name": "stdout",
     "output_type": "stream",
     "text": [
      "✅ Saved frames in: /Users/mario/Desktop/Desktop/UofA/4.Winter-2025/ece-910/Batman/VLM-testing/batman-frames/Batman (1989)-002_part_909\n",
      "\n",
      "🎥 Processing: /Users/mario/Desktop/Desktop/UofA/4.Winter-2025/ece-910/Batman/Batman-(1989)-002/Batman (1989)-002_part_91.mp4\n",
      "📸 Total Frames: 332\n"
     ]
    },
    {
     "name": "stderr",
     "output_type": "stream",
     "text": [
      "Extracting Frames from Batman (1989)-002_part_91.mp4: 100%|██████████| 332/332 [00:00<00:00, 594.11it/s]\n"
     ]
    },
    {
     "name": "stdout",
     "output_type": "stream",
     "text": [
      "✅ Saved frames in: /Users/mario/Desktop/Desktop/UofA/4.Winter-2025/ece-910/Batman/VLM-testing/batman-frames/Batman (1989)-002_part_91\n",
      "\n",
      "🎥 Processing: /Users/mario/Desktop/Desktop/UofA/4.Winter-2025/ece-910/Batman/Batman-(1989)-002/Batman (1989)-002_part_910.mp4\n",
      "📸 Total Frames: 95\n"
     ]
    },
    {
     "name": "stderr",
     "output_type": "stream",
     "text": [
      "Extracting Frames from Batman (1989)-002_part_910.mp4: 100%|██████████| 95/95 [00:00<00:00, 616.44it/s]\n"
     ]
    },
    {
     "name": "stdout",
     "output_type": "stream",
     "text": [
      "✅ Saved frames in: /Users/mario/Desktop/Desktop/UofA/4.Winter-2025/ece-910/Batman/VLM-testing/batman-frames/Batman (1989)-002_part_910\n",
      "\n",
      "🎥 Processing: /Users/mario/Desktop/Desktop/UofA/4.Winter-2025/ece-910/Batman/Batman-(1989)-002/Batman (1989)-002_part_911.mp4\n",
      "📸 Total Frames: 53\n"
     ]
    },
    {
     "name": "stderr",
     "output_type": "stream",
     "text": [
      "Extracting Frames from Batman (1989)-002_part_911.mp4: 100%|██████████| 53/53 [00:00<00:00, 645.17it/s]\n"
     ]
    },
    {
     "name": "stdout",
     "output_type": "stream",
     "text": [
      "✅ Saved frames in: /Users/mario/Desktop/Desktop/UofA/4.Winter-2025/ece-910/Batman/VLM-testing/batman-frames/Batman (1989)-002_part_911\n",
      "\n",
      "🎥 Processing: /Users/mario/Desktop/Desktop/UofA/4.Winter-2025/ece-910/Batman/Batman-(1989)-002/Batman (1989)-002_part_912.mp4\n",
      "📸 Total Frames: 181\n"
     ]
    },
    {
     "name": "stderr",
     "output_type": "stream",
     "text": [
      "Extracting Frames from Batman (1989)-002_part_912.mp4: 100%|██████████| 181/181 [00:00<00:00, 620.94it/s]\n"
     ]
    },
    {
     "name": "stdout",
     "output_type": "stream",
     "text": [
      "✅ Saved frames in: /Users/mario/Desktop/Desktop/UofA/4.Winter-2025/ece-910/Batman/VLM-testing/batman-frames/Batman (1989)-002_part_912\n",
      "\n",
      "🎥 Processing: /Users/mario/Desktop/Desktop/UofA/4.Winter-2025/ece-910/Batman/Batman-(1989)-002/Batman (1989)-002_part_913.mp4\n",
      "📸 Total Frames: 48\n"
     ]
    },
    {
     "name": "stderr",
     "output_type": "stream",
     "text": [
      "Extracting Frames from Batman (1989)-002_part_913.mp4: 100%|██████████| 48/48 [00:00<00:00, 214.53it/s]\n"
     ]
    },
    {
     "name": "stdout",
     "output_type": "stream",
     "text": [
      "✅ Saved frames in: /Users/mario/Desktop/Desktop/UofA/4.Winter-2025/ece-910/Batman/VLM-testing/batman-frames/Batman (1989)-002_part_913\n",
      "\n",
      "🎥 Processing: /Users/mario/Desktop/Desktop/UofA/4.Winter-2025/ece-910/Batman/Batman-(1989)-002/Batman (1989)-002_part_914.mp4\n",
      "📸 Total Frames: 41\n"
     ]
    },
    {
     "name": "stderr",
     "output_type": "stream",
     "text": [
      "Extracting Frames from Batman (1989)-002_part_914.mp4: 100%|██████████| 41/41 [00:00<00:00, 549.95it/s]\n"
     ]
    },
    {
     "name": "stdout",
     "output_type": "stream",
     "text": [
      "✅ Saved frames in: /Users/mario/Desktop/Desktop/UofA/4.Winter-2025/ece-910/Batman/VLM-testing/batman-frames/Batman (1989)-002_part_914\n",
      "\n",
      "🎥 Processing: /Users/mario/Desktop/Desktop/UofA/4.Winter-2025/ece-910/Batman/Batman-(1989)-002/Batman (1989)-002_part_915.mp4\n",
      "📸 Total Frames: 22\n"
     ]
    },
    {
     "name": "stderr",
     "output_type": "stream",
     "text": [
      "Extracting Frames from Batman (1989)-002_part_915.mp4: 100%|██████████| 22/22 [00:00<00:00, 452.25it/s]\n"
     ]
    },
    {
     "name": "stdout",
     "output_type": "stream",
     "text": [
      "✅ Saved frames in: /Users/mario/Desktop/Desktop/UofA/4.Winter-2025/ece-910/Batman/VLM-testing/batman-frames/Batman (1989)-002_part_915\n",
      "\n",
      "🎥 Processing: /Users/mario/Desktop/Desktop/UofA/4.Winter-2025/ece-910/Batman/Batman-(1989)-002/Batman (1989)-002_part_916.mp4\n",
      "📸 Total Frames: 58\n"
     ]
    },
    {
     "name": "stderr",
     "output_type": "stream",
     "text": [
      "Extracting Frames from Batman (1989)-002_part_916.mp4: 100%|██████████| 58/58 [00:00<00:00, 566.58it/s]\n"
     ]
    },
    {
     "name": "stdout",
     "output_type": "stream",
     "text": [
      "✅ Saved frames in: /Users/mario/Desktop/Desktop/UofA/4.Winter-2025/ece-910/Batman/VLM-testing/batman-frames/Batman (1989)-002_part_916\n",
      "\n",
      "🎥 Processing: /Users/mario/Desktop/Desktop/UofA/4.Winter-2025/ece-910/Batman/Batman-(1989)-002/Batman (1989)-002_part_917.mp4\n",
      "📸 Total Frames: 25\n"
     ]
    },
    {
     "name": "stderr",
     "output_type": "stream",
     "text": [
      "Extracting Frames from Batman (1989)-002_part_917.mp4: 100%|██████████| 25/25 [00:00<00:00, 586.80it/s]\n"
     ]
    },
    {
     "name": "stdout",
     "output_type": "stream",
     "text": [
      "✅ Saved frames in: /Users/mario/Desktop/Desktop/UofA/4.Winter-2025/ece-910/Batman/VLM-testing/batman-frames/Batman (1989)-002_part_917\n",
      "\n",
      "🎥 Processing: /Users/mario/Desktop/Desktop/UofA/4.Winter-2025/ece-910/Batman/Batman-(1989)-002/Batman (1989)-002_part_918.mp4\n",
      "📸 Total Frames: 31\n"
     ]
    },
    {
     "name": "stderr",
     "output_type": "stream",
     "text": [
      "Extracting Frames from Batman (1989)-002_part_918.mp4: 100%|██████████| 31/31 [00:00<00:00, 556.51it/s]\n"
     ]
    },
    {
     "name": "stdout",
     "output_type": "stream",
     "text": [
      "✅ Saved frames in: /Users/mario/Desktop/Desktop/UofA/4.Winter-2025/ece-910/Batman/VLM-testing/batman-frames/Batman (1989)-002_part_918\n",
      "\n",
      "🎥 Processing: /Users/mario/Desktop/Desktop/UofA/4.Winter-2025/ece-910/Batman/Batman-(1989)-002/Batman (1989)-002_part_919.mp4\n",
      "📸 Total Frames: 2\n"
     ]
    },
    {
     "name": "stderr",
     "output_type": "stream",
     "text": [
      "Extracting Frames from Batman (1989)-002_part_919.mp4: 100%|██████████| 2/2 [00:00<00:00, 381.98it/s]\n"
     ]
    },
    {
     "name": "stdout",
     "output_type": "stream",
     "text": [
      "✅ Saved frames in: /Users/mario/Desktop/Desktop/UofA/4.Winter-2025/ece-910/Batman/VLM-testing/batman-frames/Batman (1989)-002_part_919\n",
      "\n",
      "🎥 Processing: /Users/mario/Desktop/Desktop/UofA/4.Winter-2025/ece-910/Batman/Batman-(1989)-002/Batman (1989)-002_part_92.mp4\n",
      "📸 Total Frames: 37\n"
     ]
    },
    {
     "name": "stderr",
     "output_type": "stream",
     "text": [
      "Extracting Frames from Batman (1989)-002_part_92.mp4: 100%|██████████| 37/37 [00:00<00:00, 203.64it/s]\n"
     ]
    },
    {
     "name": "stdout",
     "output_type": "stream",
     "text": [
      "✅ Saved frames in: /Users/mario/Desktop/Desktop/UofA/4.Winter-2025/ece-910/Batman/VLM-testing/batman-frames/Batman (1989)-002_part_92\n",
      "\n",
      "🎥 Processing: /Users/mario/Desktop/Desktop/UofA/4.Winter-2025/ece-910/Batman/Batman-(1989)-002/Batman (1989)-002_part_920.mp4\n",
      "📸 Total Frames: 24\n"
     ]
    },
    {
     "name": "stderr",
     "output_type": "stream",
     "text": [
      "Extracting Frames from Batman (1989)-002_part_920.mp4: 100%|██████████| 24/24 [00:00<00:00, 398.83it/s]\n"
     ]
    },
    {
     "name": "stdout",
     "output_type": "stream",
     "text": [
      "✅ Saved frames in: /Users/mario/Desktop/Desktop/UofA/4.Winter-2025/ece-910/Batman/VLM-testing/batman-frames/Batman (1989)-002_part_920\n",
      "\n",
      "🎥 Processing: /Users/mario/Desktop/Desktop/UofA/4.Winter-2025/ece-910/Batman/Batman-(1989)-002/Batman (1989)-002_part_921.mp4\n",
      "📸 Total Frames: 53\n"
     ]
    },
    {
     "name": "stderr",
     "output_type": "stream",
     "text": [
      "Extracting Frames from Batman (1989)-002_part_921.mp4: 100%|██████████| 53/53 [00:00<00:00, 501.48it/s]\n"
     ]
    },
    {
     "name": "stdout",
     "output_type": "stream",
     "text": [
      "✅ Saved frames in: /Users/mario/Desktop/Desktop/UofA/4.Winter-2025/ece-910/Batman/VLM-testing/batman-frames/Batman (1989)-002_part_921\n",
      "\n",
      "🎥 Processing: /Users/mario/Desktop/Desktop/UofA/4.Winter-2025/ece-910/Batman/Batman-(1989)-002/Batman (1989)-002_part_922.mp4\n",
      "📸 Total Frames: 117\n"
     ]
    },
    {
     "name": "stderr",
     "output_type": "stream",
     "text": [
      "Extracting Frames from Batman (1989)-002_part_922.mp4: 100%|██████████| 117/117 [00:00<00:00, 604.03it/s]\n"
     ]
    },
    {
     "name": "stdout",
     "output_type": "stream",
     "text": [
      "✅ Saved frames in: /Users/mario/Desktop/Desktop/UofA/4.Winter-2025/ece-910/Batman/VLM-testing/batman-frames/Batman (1989)-002_part_922\n",
      "\n",
      "🎥 Processing: /Users/mario/Desktop/Desktop/UofA/4.Winter-2025/ece-910/Batman/Batman-(1989)-002/Batman (1989)-002_part_923.mp4\n",
      "📸 Total Frames: 20\n"
     ]
    },
    {
     "name": "stderr",
     "output_type": "stream",
     "text": [
      "Extracting Frames from Batman (1989)-002_part_923.mp4: 100%|██████████| 20/20 [00:00<00:00, 563.95it/s]\n"
     ]
    },
    {
     "name": "stdout",
     "output_type": "stream",
     "text": [
      "✅ Saved frames in: /Users/mario/Desktop/Desktop/UofA/4.Winter-2025/ece-910/Batman/VLM-testing/batman-frames/Batman (1989)-002_part_923\n",
      "\n",
      "🎥 Processing: /Users/mario/Desktop/Desktop/UofA/4.Winter-2025/ece-910/Batman/Batman-(1989)-002/Batman (1989)-002_part_924.mp4\n",
      "📸 Total Frames: 115\n"
     ]
    },
    {
     "name": "stderr",
     "output_type": "stream",
     "text": [
      "Extracting Frames from Batman (1989)-002_part_924.mp4: 100%|██████████| 115/115 [00:00<00:00, 598.12it/s]\n"
     ]
    },
    {
     "name": "stdout",
     "output_type": "stream",
     "text": [
      "✅ Saved frames in: /Users/mario/Desktop/Desktop/UofA/4.Winter-2025/ece-910/Batman/VLM-testing/batman-frames/Batman (1989)-002_part_924\n",
      "\n",
      "🎥 Processing: /Users/mario/Desktop/Desktop/UofA/4.Winter-2025/ece-910/Batman/Batman-(1989)-002/Batman (1989)-002_part_925.mp4\n",
      "📸 Total Frames: 21\n"
     ]
    },
    {
     "name": "stderr",
     "output_type": "stream",
     "text": [
      "Extracting Frames from Batman (1989)-002_part_925.mp4: 100%|██████████| 21/21 [00:00<00:00, 529.65it/s]\n"
     ]
    },
    {
     "name": "stdout",
     "output_type": "stream",
     "text": [
      "✅ Saved frames in: /Users/mario/Desktop/Desktop/UofA/4.Winter-2025/ece-910/Batman/VLM-testing/batman-frames/Batman (1989)-002_part_925\n",
      "\n",
      "🎥 Processing: /Users/mario/Desktop/Desktop/UofA/4.Winter-2025/ece-910/Batman/Batman-(1989)-002/Batman (1989)-002_part_926.mp4\n",
      "📸 Total Frames: 82\n"
     ]
    },
    {
     "name": "stderr",
     "output_type": "stream",
     "text": [
      "Extracting Frames from Batman (1989)-002_part_926.mp4: 100%|██████████| 82/82 [00:00<00:00, 554.82it/s]\n"
     ]
    },
    {
     "name": "stdout",
     "output_type": "stream",
     "text": [
      "✅ Saved frames in: /Users/mario/Desktop/Desktop/UofA/4.Winter-2025/ece-910/Batman/VLM-testing/batman-frames/Batman (1989)-002_part_926\n",
      "\n",
      "🎥 Processing: /Users/mario/Desktop/Desktop/UofA/4.Winter-2025/ece-910/Batman/Batman-(1989)-002/Batman (1989)-002_part_927.mp4\n",
      "📸 Total Frames: 8\n"
     ]
    },
    {
     "name": "stderr",
     "output_type": "stream",
     "text": [
      "Extracting Frames from Batman (1989)-002_part_927.mp4: 100%|██████████| 8/8 [00:00<00:00, 516.99it/s]\n"
     ]
    },
    {
     "name": "stdout",
     "output_type": "stream",
     "text": [
      "✅ Saved frames in: /Users/mario/Desktop/Desktop/UofA/4.Winter-2025/ece-910/Batman/VLM-testing/batman-frames/Batman (1989)-002_part_927\n",
      "\n",
      "🎥 Processing: /Users/mario/Desktop/Desktop/UofA/4.Winter-2025/ece-910/Batman/Batman-(1989)-002/Batman (1989)-002_part_928.mp4\n",
      "📸 Total Frames: 4\n"
     ]
    },
    {
     "name": "stderr",
     "output_type": "stream",
     "text": [
      "Extracting Frames from Batman (1989)-002_part_928.mp4: 100%|██████████| 4/4 [00:00<00:00, 446.98it/s]\n"
     ]
    },
    {
     "name": "stdout",
     "output_type": "stream",
     "text": [
      "✅ Saved frames in: /Users/mario/Desktop/Desktop/UofA/4.Winter-2025/ece-910/Batman/VLM-testing/batman-frames/Batman (1989)-002_part_928\n",
      "\n",
      "🎥 Processing: /Users/mario/Desktop/Desktop/UofA/4.Winter-2025/ece-910/Batman/Batman-(1989)-002/Batman (1989)-002_part_93.mp4\n",
      "📸 Total Frames: 121\n"
     ]
    },
    {
     "name": "stderr",
     "output_type": "stream",
     "text": [
      "Extracting Frames from Batman (1989)-002_part_93.mp4: 100%|██████████| 121/121 [00:00<00:00, 590.02it/s]\n"
     ]
    },
    {
     "name": "stdout",
     "output_type": "stream",
     "text": [
      "✅ Saved frames in: /Users/mario/Desktop/Desktop/UofA/4.Winter-2025/ece-910/Batman/VLM-testing/batman-frames/Batman (1989)-002_part_93\n",
      "\n",
      "🎥 Processing: /Users/mario/Desktop/Desktop/UofA/4.Winter-2025/ece-910/Batman/Batman-(1989)-002/Batman (1989)-002_part_930.mp4\n",
      "📸 Total Frames: 31\n"
     ]
    },
    {
     "name": "stderr",
     "output_type": "stream",
     "text": [
      "Extracting Frames from Batman (1989)-002_part_930.mp4: 100%|██████████| 31/31 [00:00<00:00, 531.36it/s]\n"
     ]
    },
    {
     "name": "stdout",
     "output_type": "stream",
     "text": [
      "✅ Saved frames in: /Users/mario/Desktop/Desktop/UofA/4.Winter-2025/ece-910/Batman/VLM-testing/batman-frames/Batman (1989)-002_part_930\n",
      "\n",
      "🎥 Processing: /Users/mario/Desktop/Desktop/UofA/4.Winter-2025/ece-910/Batman/Batman-(1989)-002/Batman (1989)-002_part_931.mp4\n",
      "📸 Total Frames: 91\n"
     ]
    },
    {
     "name": "stderr",
     "output_type": "stream",
     "text": [
      "Extracting Frames from Batman (1989)-002_part_931.mp4: 100%|██████████| 91/91 [00:00<00:00, 607.16it/s]\n"
     ]
    },
    {
     "name": "stdout",
     "output_type": "stream",
     "text": [
      "✅ Saved frames in: /Users/mario/Desktop/Desktop/UofA/4.Winter-2025/ece-910/Batman/VLM-testing/batman-frames/Batman (1989)-002_part_931\n",
      "\n",
      "🎥 Processing: /Users/mario/Desktop/Desktop/UofA/4.Winter-2025/ece-910/Batman/Batman-(1989)-002/Batman (1989)-002_part_932.mp4\n",
      "📸 Total Frames: 68\n"
     ]
    },
    {
     "name": "stderr",
     "output_type": "stream",
     "text": [
      "Extracting Frames from Batman (1989)-002_part_932.mp4: 100%|██████████| 68/68 [00:00<00:00, 602.20it/s]\n"
     ]
    },
    {
     "name": "stdout",
     "output_type": "stream",
     "text": [
      "✅ Saved frames in: /Users/mario/Desktop/Desktop/UofA/4.Winter-2025/ece-910/Batman/VLM-testing/batman-frames/Batman (1989)-002_part_932\n",
      "\n",
      "🎥 Processing: /Users/mario/Desktop/Desktop/UofA/4.Winter-2025/ece-910/Batman/Batman-(1989)-002/Batman (1989)-002_part_933.mp4\n",
      "📸 Total Frames: 27\n"
     ]
    },
    {
     "name": "stderr",
     "output_type": "stream",
     "text": [
      "Extracting Frames from Batman (1989)-002_part_933.mp4: 100%|██████████| 27/27 [00:00<00:00, 572.05it/s]\n"
     ]
    },
    {
     "name": "stdout",
     "output_type": "stream",
     "text": [
      "✅ Saved frames in: /Users/mario/Desktop/Desktop/UofA/4.Winter-2025/ece-910/Batman/VLM-testing/batman-frames/Batman (1989)-002_part_933\n",
      "\n",
      "🎥 Processing: /Users/mario/Desktop/Desktop/UofA/4.Winter-2025/ece-910/Batman/Batman-(1989)-002/Batman (1989)-002_part_934.mp4\n",
      "📸 Total Frames: 116\n"
     ]
    },
    {
     "name": "stderr",
     "output_type": "stream",
     "text": [
      "Extracting Frames from Batman (1989)-002_part_934.mp4: 100%|██████████| 116/116 [00:00<00:00, 619.74it/s]\n"
     ]
    },
    {
     "name": "stdout",
     "output_type": "stream",
     "text": [
      "✅ Saved frames in: /Users/mario/Desktop/Desktop/UofA/4.Winter-2025/ece-910/Batman/VLM-testing/batman-frames/Batman (1989)-002_part_934\n",
      "\n",
      "🎥 Processing: /Users/mario/Desktop/Desktop/UofA/4.Winter-2025/ece-910/Batman/Batman-(1989)-002/Batman (1989)-002_part_935.mp4\n",
      "📸 Total Frames: 26\n"
     ]
    },
    {
     "name": "stderr",
     "output_type": "stream",
     "text": [
      "Extracting Frames from Batman (1989)-002_part_935.mp4: 100%|██████████| 26/26 [00:00<00:00, 128.05it/s]\n"
     ]
    },
    {
     "name": "stdout",
     "output_type": "stream",
     "text": [
      "✅ Saved frames in: /Users/mario/Desktop/Desktop/UofA/4.Winter-2025/ece-910/Batman/VLM-testing/batman-frames/Batman (1989)-002_part_935\n",
      "\n",
      "🎥 Processing: /Users/mario/Desktop/Desktop/UofA/4.Winter-2025/ece-910/Batman/Batman-(1989)-002/Batman (1989)-002_part_936.mp4\n",
      "📸 Total Frames: 670\n"
     ]
    },
    {
     "name": "stderr",
     "output_type": "stream",
     "text": [
      "Extracting Frames from Batman (1989)-002_part_936.mp4: 100%|██████████| 670/670 [00:01<00:00, 619.72it/s]\n"
     ]
    },
    {
     "name": "stdout",
     "output_type": "stream",
     "text": [
      "✅ Saved frames in: /Users/mario/Desktop/Desktop/UofA/4.Winter-2025/ece-910/Batman/VLM-testing/batman-frames/Batman (1989)-002_part_936\n",
      "\n",
      "🎥 Processing: /Users/mario/Desktop/Desktop/UofA/4.Winter-2025/ece-910/Batman/Batman-(1989)-002/Batman (1989)-002_part_937.mp4\n",
      "📸 Total Frames: 13\n"
     ]
    },
    {
     "name": "stderr",
     "output_type": "stream",
     "text": [
      "Extracting Frames from Batman (1989)-002_part_937.mp4: 100%|██████████| 13/13 [00:00<00:00, 564.75it/s]\n"
     ]
    },
    {
     "name": "stdout",
     "output_type": "stream",
     "text": [
      "✅ Saved frames in: /Users/mario/Desktop/Desktop/UofA/4.Winter-2025/ece-910/Batman/VLM-testing/batman-frames/Batman (1989)-002_part_937\n",
      "\n",
      "🎥 Processing: /Users/mario/Desktop/Desktop/UofA/4.Winter-2025/ece-910/Batman/Batman-(1989)-002/Batman (1989)-002_part_938.mp4\n",
      "📸 Total Frames: 643\n"
     ]
    },
    {
     "name": "stderr",
     "output_type": "stream",
     "text": [
      "Extracting Frames from Batman (1989)-002_part_938.mp4: 100%|██████████| 643/643 [00:01<00:00, 641.88it/s]\n"
     ]
    },
    {
     "name": "stdout",
     "output_type": "stream",
     "text": [
      "✅ Saved frames in: /Users/mario/Desktop/Desktop/UofA/4.Winter-2025/ece-910/Batman/VLM-testing/batman-frames/Batman (1989)-002_part_938\n",
      "\n",
      "🎥 Processing: /Users/mario/Desktop/Desktop/UofA/4.Winter-2025/ece-910/Batman/Batman-(1989)-002/Batman (1989)-002_part_939.mp4\n",
      "📸 Total Frames: 51\n"
     ]
    },
    {
     "name": "stderr",
     "output_type": "stream",
     "text": [
      "Extracting Frames from Batman (1989)-002_part_939.mp4: 100%|██████████| 51/51 [00:00<00:00, 576.09it/s]\n"
     ]
    },
    {
     "name": "stdout",
     "output_type": "stream",
     "text": [
      "✅ Saved frames in: /Users/mario/Desktop/Desktop/UofA/4.Winter-2025/ece-910/Batman/VLM-testing/batman-frames/Batman (1989)-002_part_939\n",
      "\n",
      "🎥 Processing: /Users/mario/Desktop/Desktop/UofA/4.Winter-2025/ece-910/Batman/Batman-(1989)-002/Batman (1989)-002_part_94.mp4\n",
      "📸 Total Frames: 16\n"
     ]
    },
    {
     "name": "stderr",
     "output_type": "stream",
     "text": [
      "Extracting Frames from Batman (1989)-002_part_94.mp4: 100%|██████████| 16/16 [00:00<00:00, 464.32it/s]\n"
     ]
    },
    {
     "name": "stdout",
     "output_type": "stream",
     "text": [
      "✅ Saved frames in: /Users/mario/Desktop/Desktop/UofA/4.Winter-2025/ece-910/Batman/VLM-testing/batman-frames/Batman (1989)-002_part_94\n",
      "\n",
      "🎥 Processing: /Users/mario/Desktop/Desktop/UofA/4.Winter-2025/ece-910/Batman/Batman-(1989)-002/Batman (1989)-002_part_940.mp4\n",
      "📸 Total Frames: 73\n"
     ]
    },
    {
     "name": "stderr",
     "output_type": "stream",
     "text": [
      "Extracting Frames from Batman (1989)-002_part_940.mp4: 100%|██████████| 73/73 [00:00<00:00, 497.92it/s]\n"
     ]
    },
    {
     "name": "stdout",
     "output_type": "stream",
     "text": [
      "✅ Saved frames in: /Users/mario/Desktop/Desktop/UofA/4.Winter-2025/ece-910/Batman/VLM-testing/batman-frames/Batman (1989)-002_part_940\n",
      "\n",
      "🎥 Processing: /Users/mario/Desktop/Desktop/UofA/4.Winter-2025/ece-910/Batman/Batman-(1989)-002/Batman (1989)-002_part_941.mp4\n",
      "📸 Total Frames: 39\n"
     ]
    },
    {
     "name": "stderr",
     "output_type": "stream",
     "text": [
      "Extracting Frames from Batman (1989)-002_part_941.mp4: 100%|██████████| 39/39 [00:00<00:00, 363.01it/s]\n"
     ]
    },
    {
     "name": "stdout",
     "output_type": "stream",
     "text": [
      "✅ Saved frames in: /Users/mario/Desktop/Desktop/UofA/4.Winter-2025/ece-910/Batman/VLM-testing/batman-frames/Batman (1989)-002_part_941\n",
      "\n",
      "🎥 Processing: /Users/mario/Desktop/Desktop/UofA/4.Winter-2025/ece-910/Batman/Batman-(1989)-002/Batman (1989)-002_part_942.mp4\n",
      "📸 Total Frames: 137\n"
     ]
    },
    {
     "name": "stderr",
     "output_type": "stream",
     "text": [
      "Extracting Frames from Batman (1989)-002_part_942.mp4: 100%|██████████| 137/137 [00:00<00:00, 561.09it/s]\n"
     ]
    },
    {
     "name": "stdout",
     "output_type": "stream",
     "text": [
      "✅ Saved frames in: /Users/mario/Desktop/Desktop/UofA/4.Winter-2025/ece-910/Batman/VLM-testing/batman-frames/Batman (1989)-002_part_942\n",
      "\n",
      "🎥 Processing: /Users/mario/Desktop/Desktop/UofA/4.Winter-2025/ece-910/Batman/Batman-(1989)-002/Batman (1989)-002_part_943.mp4\n",
      "📸 Total Frames: 175\n"
     ]
    },
    {
     "name": "stderr",
     "output_type": "stream",
     "text": [
      "Extracting Frames from Batman (1989)-002_part_943.mp4: 100%|██████████| 175/175 [00:00<00:00, 610.44it/s]\n"
     ]
    },
    {
     "name": "stdout",
     "output_type": "stream",
     "text": [
      "✅ Saved frames in: /Users/mario/Desktop/Desktop/UofA/4.Winter-2025/ece-910/Batman/VLM-testing/batman-frames/Batman (1989)-002_part_943\n",
      "\n",
      "🎥 Processing: /Users/mario/Desktop/Desktop/UofA/4.Winter-2025/ece-910/Batman/Batman-(1989)-002/Batman (1989)-002_part_944.mp4\n",
      "📸 Total Frames: 789\n"
     ]
    },
    {
     "name": "stderr",
     "output_type": "stream",
     "text": [
      "Extracting Frames from Batman (1989)-002_part_944.mp4: 100%|██████████| 789/789 [00:01<00:00, 647.81it/s]\n"
     ]
    },
    {
     "name": "stdout",
     "output_type": "stream",
     "text": [
      "✅ Saved frames in: /Users/mario/Desktop/Desktop/UofA/4.Winter-2025/ece-910/Batman/VLM-testing/batman-frames/Batman (1989)-002_part_944\n",
      "\n",
      "🎥 Processing: /Users/mario/Desktop/Desktop/UofA/4.Winter-2025/ece-910/Batman/Batman-(1989)-002/Batman (1989)-002_part_945.mp4\n",
      "📸 Total Frames: 231\n"
     ]
    },
    {
     "name": "stderr",
     "output_type": "stream",
     "text": [
      "Extracting Frames from Batman (1989)-002_part_945.mp4: 100%|██████████| 231/231 [00:00<00:00, 626.58it/s]\n"
     ]
    },
    {
     "name": "stdout",
     "output_type": "stream",
     "text": [
      "✅ Saved frames in: /Users/mario/Desktop/Desktop/UofA/4.Winter-2025/ece-910/Batman/VLM-testing/batman-frames/Batman (1989)-002_part_945\n",
      "\n",
      "🎥 Processing: /Users/mario/Desktop/Desktop/UofA/4.Winter-2025/ece-910/Batman/Batman-(1989)-002/Batman (1989)-002_part_946.mp4\n",
      "📸 Total Frames: 245\n"
     ]
    },
    {
     "name": "stderr",
     "output_type": "stream",
     "text": [
      "Extracting Frames from Batman (1989)-002_part_946.mp4: 100%|██████████| 245/245 [00:00<00:00, 619.37it/s]\n"
     ]
    },
    {
     "name": "stdout",
     "output_type": "stream",
     "text": [
      "✅ Saved frames in: /Users/mario/Desktop/Desktop/UofA/4.Winter-2025/ece-910/Batman/VLM-testing/batman-frames/Batman (1989)-002_part_946\n",
      "\n",
      "🎥 Processing: /Users/mario/Desktop/Desktop/UofA/4.Winter-2025/ece-910/Batman/Batman-(1989)-002/Batman (1989)-002_part_947.mp4\n",
      "📸 Total Frames: 126\n"
     ]
    },
    {
     "name": "stderr",
     "output_type": "stream",
     "text": [
      "Extracting Frames from Batman (1989)-002_part_947.mp4: 100%|██████████| 126/126 [00:00<00:00, 642.34it/s]\n"
     ]
    },
    {
     "name": "stdout",
     "output_type": "stream",
     "text": [
      "✅ Saved frames in: /Users/mario/Desktop/Desktop/UofA/4.Winter-2025/ece-910/Batman/VLM-testing/batman-frames/Batman (1989)-002_part_947\n",
      "\n",
      "🎥 Processing: /Users/mario/Desktop/Desktop/UofA/4.Winter-2025/ece-910/Batman/Batman-(1989)-002/Batman (1989)-002_part_948.mp4\n",
      "📸 Total Frames: 593\n"
     ]
    },
    {
     "name": "stderr",
     "output_type": "stream",
     "text": [
      "Extracting Frames from Batman (1989)-002_part_948.mp4: 100%|██████████| 593/593 [00:00<00:00, 627.18it/s]\n"
     ]
    },
    {
     "name": "stdout",
     "output_type": "stream",
     "text": [
      "✅ Saved frames in: /Users/mario/Desktop/Desktop/UofA/4.Winter-2025/ece-910/Batman/VLM-testing/batman-frames/Batman (1989)-002_part_948\n",
      "\n",
      "🎥 Processing: /Users/mario/Desktop/Desktop/UofA/4.Winter-2025/ece-910/Batman/Batman-(1989)-002/Batman (1989)-002_part_949.mp4\n",
      "📸 Total Frames: 243\n"
     ]
    },
    {
     "name": "stderr",
     "output_type": "stream",
     "text": [
      "Extracting Frames from Batman (1989)-002_part_949.mp4: 100%|██████████| 243/243 [00:00<00:00, 465.97it/s]\n"
     ]
    },
    {
     "name": "stdout",
     "output_type": "stream",
     "text": [
      "✅ Saved frames in: /Users/mario/Desktop/Desktop/UofA/4.Winter-2025/ece-910/Batman/VLM-testing/batman-frames/Batman (1989)-002_part_949\n",
      "\n",
      "🎥 Processing: /Users/mario/Desktop/Desktop/UofA/4.Winter-2025/ece-910/Batman/Batman-(1989)-002/Batman (1989)-002_part_95.mp4\n",
      "📸 Total Frames: 79\n"
     ]
    },
    {
     "name": "stderr",
     "output_type": "stream",
     "text": [
      "Extracting Frames from Batman (1989)-002_part_95.mp4: 100%|██████████| 79/79 [00:00<00:00, 539.51it/s]\n"
     ]
    },
    {
     "name": "stdout",
     "output_type": "stream",
     "text": [
      "✅ Saved frames in: /Users/mario/Desktop/Desktop/UofA/4.Winter-2025/ece-910/Batman/VLM-testing/batman-frames/Batman (1989)-002_part_95\n",
      "\n",
      "🎥 Processing: /Users/mario/Desktop/Desktop/UofA/4.Winter-2025/ece-910/Batman/Batman-(1989)-002/Batman (1989)-002_part_950.mp4\n",
      "📸 Total Frames: 176\n"
     ]
    },
    {
     "name": "stderr",
     "output_type": "stream",
     "text": [
      "Extracting Frames from Batman (1989)-002_part_950.mp4: 100%|██████████| 176/176 [00:00<00:00, 636.86it/s]\n"
     ]
    },
    {
     "name": "stdout",
     "output_type": "stream",
     "text": [
      "✅ Saved frames in: /Users/mario/Desktop/Desktop/UofA/4.Winter-2025/ece-910/Batman/VLM-testing/batman-frames/Batman (1989)-002_part_950\n",
      "\n",
      "🎥 Processing: /Users/mario/Desktop/Desktop/UofA/4.Winter-2025/ece-910/Batman/Batman-(1989)-002/Batman (1989)-002_part_951.mp4\n",
      "📸 Total Frames: 155\n"
     ]
    },
    {
     "name": "stderr",
     "output_type": "stream",
     "text": [
      "Extracting Frames from Batman (1989)-002_part_951.mp4: 100%|██████████| 155/155 [00:00<00:00, 621.54it/s]\n"
     ]
    },
    {
     "name": "stdout",
     "output_type": "stream",
     "text": [
      "✅ Saved frames in: /Users/mario/Desktop/Desktop/UofA/4.Winter-2025/ece-910/Batman/VLM-testing/batman-frames/Batman (1989)-002_part_951\n",
      "\n",
      "🎥 Processing: /Users/mario/Desktop/Desktop/UofA/4.Winter-2025/ece-910/Batman/Batman-(1989)-002/Batman (1989)-002_part_952.mp4\n",
      "📸 Total Frames: 416\n"
     ]
    },
    {
     "name": "stderr",
     "output_type": "stream",
     "text": [
      "Extracting Frames from Batman (1989)-002_part_952.mp4: 100%|██████████| 416/416 [00:00<00:00, 620.48it/s]\n"
     ]
    },
    {
     "name": "stdout",
     "output_type": "stream",
     "text": [
      "✅ Saved frames in: /Users/mario/Desktop/Desktop/UofA/4.Winter-2025/ece-910/Batman/VLM-testing/batman-frames/Batman (1989)-002_part_952\n",
      "\n",
      "🎥 Processing: /Users/mario/Desktop/Desktop/UofA/4.Winter-2025/ece-910/Batman/Batman-(1989)-002/Batman (1989)-002_part_953.mp4\n",
      "📸 Total Frames: 558\n"
     ]
    },
    {
     "name": "stderr",
     "output_type": "stream",
     "text": [
      "Extracting Frames from Batman (1989)-002_part_953.mp4: 100%|██████████| 558/558 [00:00<00:00, 650.88it/s]\n"
     ]
    },
    {
     "name": "stdout",
     "output_type": "stream",
     "text": [
      "✅ Saved frames in: /Users/mario/Desktop/Desktop/UofA/4.Winter-2025/ece-910/Batman/VLM-testing/batman-frames/Batman (1989)-002_part_953\n",
      "\n",
      "🎥 Processing: /Users/mario/Desktop/Desktop/UofA/4.Winter-2025/ece-910/Batman/Batman-(1989)-002/Batman (1989)-002_part_954.mp4\n",
      "📸 Total Frames: 140\n"
     ]
    },
    {
     "name": "stderr",
     "output_type": "stream",
     "text": [
      "Extracting Frames from Batman (1989)-002_part_954.mp4: 100%|██████████| 140/140 [00:00<00:00, 538.47it/s]\n"
     ]
    },
    {
     "name": "stdout",
     "output_type": "stream",
     "text": [
      "✅ Saved frames in: /Users/mario/Desktop/Desktop/UofA/4.Winter-2025/ece-910/Batman/VLM-testing/batman-frames/Batman (1989)-002_part_954\n",
      "\n",
      "🎥 Processing: /Users/mario/Desktop/Desktop/UofA/4.Winter-2025/ece-910/Batman/Batman-(1989)-002/Batman (1989)-002_part_955.mp4\n",
      "📸 Total Frames: 80\n"
     ]
    },
    {
     "name": "stderr",
     "output_type": "stream",
     "text": [
      "Extracting Frames from Batman (1989)-002_part_955.mp4: 100%|██████████| 80/80 [00:00<00:00, 590.74it/s]\n"
     ]
    },
    {
     "name": "stdout",
     "output_type": "stream",
     "text": [
      "✅ Saved frames in: /Users/mario/Desktop/Desktop/UofA/4.Winter-2025/ece-910/Batman/VLM-testing/batman-frames/Batman (1989)-002_part_955\n",
      "\n",
      "🎥 Processing: /Users/mario/Desktop/Desktop/UofA/4.Winter-2025/ece-910/Batman/Batman-(1989)-002/Batman (1989)-002_part_956.mp4\n",
      "📸 Total Frames: 132\n"
     ]
    },
    {
     "name": "stderr",
     "output_type": "stream",
     "text": [
      "Extracting Frames from Batman (1989)-002_part_956.mp4: 100%|██████████| 132/132 [00:00<00:00, 619.56it/s]\n"
     ]
    },
    {
     "name": "stdout",
     "output_type": "stream",
     "text": [
      "✅ Saved frames in: /Users/mario/Desktop/Desktop/UofA/4.Winter-2025/ece-910/Batman/VLM-testing/batman-frames/Batman (1989)-002_part_956\n",
      "\n",
      "🎥 Processing: /Users/mario/Desktop/Desktop/UofA/4.Winter-2025/ece-910/Batman/Batman-(1989)-002/Batman (1989)-002_part_957.mp4\n",
      "📸 Total Frames: 16\n"
     ]
    },
    {
     "name": "stderr",
     "output_type": "stream",
     "text": [
      "Extracting Frames from Batman (1989)-002_part_957.mp4: 100%|██████████| 16/16 [00:00<00:00, 567.94it/s]\n"
     ]
    },
    {
     "name": "stdout",
     "output_type": "stream",
     "text": [
      "✅ Saved frames in: /Users/mario/Desktop/Desktop/UofA/4.Winter-2025/ece-910/Batman/VLM-testing/batman-frames/Batman (1989)-002_part_957\n",
      "\n",
      "🎥 Processing: /Users/mario/Desktop/Desktop/UofA/4.Winter-2025/ece-910/Batman/Batman-(1989)-002/Batman (1989)-002_part_958.mp4\n",
      "📸 Total Frames: 22\n"
     ]
    },
    {
     "name": "stderr",
     "output_type": "stream",
     "text": [
      "Extracting Frames from Batman (1989)-002_part_958.mp4: 100%|██████████| 22/22 [00:00<00:00, 515.99it/s]\n"
     ]
    },
    {
     "name": "stdout",
     "output_type": "stream",
     "text": [
      "✅ Saved frames in: /Users/mario/Desktop/Desktop/UofA/4.Winter-2025/ece-910/Batman/VLM-testing/batman-frames/Batman (1989)-002_part_958\n",
      "\n",
      "🎥 Processing: /Users/mario/Desktop/Desktop/UofA/4.Winter-2025/ece-910/Batman/Batman-(1989)-002/Batman (1989)-002_part_959.mp4\n",
      "📸 Total Frames: 424\n"
     ]
    },
    {
     "name": "stderr",
     "output_type": "stream",
     "text": [
      "Extracting Frames from Batman (1989)-002_part_959.mp4: 100%|██████████| 424/424 [00:00<00:00, 554.38it/s]\n"
     ]
    },
    {
     "name": "stdout",
     "output_type": "stream",
     "text": [
      "✅ Saved frames in: /Users/mario/Desktop/Desktop/UofA/4.Winter-2025/ece-910/Batman/VLM-testing/batman-frames/Batman (1989)-002_part_959\n",
      "\n",
      "🎥 Processing: /Users/mario/Desktop/Desktop/UofA/4.Winter-2025/ece-910/Batman/Batman-(1989)-002/Batman (1989)-002_part_96.mp4\n",
      "📸 Total Frames: 43\n"
     ]
    },
    {
     "name": "stderr",
     "output_type": "stream",
     "text": [
      "Extracting Frames from Batman (1989)-002_part_96.mp4: 100%|██████████| 43/43 [00:00<00:00, 488.77it/s]\n"
     ]
    },
    {
     "name": "stdout",
     "output_type": "stream",
     "text": [
      "✅ Saved frames in: /Users/mario/Desktop/Desktop/UofA/4.Winter-2025/ece-910/Batman/VLM-testing/batman-frames/Batman (1989)-002_part_96\n",
      "\n",
      "🎥 Processing: /Users/mario/Desktop/Desktop/UofA/4.Winter-2025/ece-910/Batman/Batman-(1989)-002/Batman (1989)-002_part_960.mp4\n",
      "📸 Total Frames: 629\n"
     ]
    },
    {
     "name": "stderr",
     "output_type": "stream",
     "text": [
      "Extracting Frames from Batman (1989)-002_part_960.mp4: 100%|██████████| 629/629 [00:00<00:00, 643.95it/s]\n"
     ]
    },
    {
     "name": "stdout",
     "output_type": "stream",
     "text": [
      "✅ Saved frames in: /Users/mario/Desktop/Desktop/UofA/4.Winter-2025/ece-910/Batman/VLM-testing/batman-frames/Batman (1989)-002_part_960\n",
      "\n",
      "🎥 Processing: /Users/mario/Desktop/Desktop/UofA/4.Winter-2025/ece-910/Batman/Batman-(1989)-002/Batman (1989)-002_part_961.mp4\n",
      "📸 Total Frames: 134\n"
     ]
    },
    {
     "name": "stderr",
     "output_type": "stream",
     "text": [
      "Extracting Frames from Batman (1989)-002_part_961.mp4: 100%|██████████| 134/134 [00:00<00:00, 613.34it/s]\n"
     ]
    },
    {
     "name": "stdout",
     "output_type": "stream",
     "text": [
      "✅ Saved frames in: /Users/mario/Desktop/Desktop/UofA/4.Winter-2025/ece-910/Batman/VLM-testing/batman-frames/Batman (1989)-002_part_961\n",
      "\n",
      "🎥 Processing: /Users/mario/Desktop/Desktop/UofA/4.Winter-2025/ece-910/Batman/Batman-(1989)-002/Batman (1989)-002_part_962.mp4\n",
      "📸 Total Frames: 32\n"
     ]
    },
    {
     "name": "stderr",
     "output_type": "stream",
     "text": [
      "Extracting Frames from Batman (1989)-002_part_962.mp4: 100%|██████████| 32/32 [00:00<00:00, 606.34it/s]\n"
     ]
    },
    {
     "name": "stdout",
     "output_type": "stream",
     "text": [
      "✅ Saved frames in: /Users/mario/Desktop/Desktop/UofA/4.Winter-2025/ece-910/Batman/VLM-testing/batman-frames/Batman (1989)-002_part_962\n",
      "\n",
      "🎥 Processing: /Users/mario/Desktop/Desktop/UofA/4.Winter-2025/ece-910/Batman/Batman-(1989)-002/Batman (1989)-002_part_963.mp4\n",
      "📸 Total Frames: 125\n"
     ]
    },
    {
     "name": "stderr",
     "output_type": "stream",
     "text": [
      "Extracting Frames from Batman (1989)-002_part_963.mp4: 100%|██████████| 125/125 [00:00<00:00, 591.43it/s]\n"
     ]
    },
    {
     "name": "stdout",
     "output_type": "stream",
     "text": [
      "✅ Saved frames in: /Users/mario/Desktop/Desktop/UofA/4.Winter-2025/ece-910/Batman/VLM-testing/batman-frames/Batman (1989)-002_part_963\n",
      "\n",
      "🎥 Processing: /Users/mario/Desktop/Desktop/UofA/4.Winter-2025/ece-910/Batman/Batman-(1989)-002/Batman (1989)-002_part_964.mp4\n",
      "📸 Total Frames: 697\n"
     ]
    },
    {
     "name": "stderr",
     "output_type": "stream",
     "text": [
      "Extracting Frames from Batman (1989)-002_part_964.mp4: 100%|██████████| 697/697 [00:01<00:00, 557.52it/s]\n"
     ]
    },
    {
     "name": "stdout",
     "output_type": "stream",
     "text": [
      "✅ Saved frames in: /Users/mario/Desktop/Desktop/UofA/4.Winter-2025/ece-910/Batman/VLM-testing/batman-frames/Batman (1989)-002_part_964\n",
      "\n",
      "🎥 Processing: /Users/mario/Desktop/Desktop/UofA/4.Winter-2025/ece-910/Batman/Batman-(1989)-002/Batman (1989)-002_part_965.mp4\n",
      "📸 Total Frames: 104\n"
     ]
    },
    {
     "name": "stderr",
     "output_type": "stream",
     "text": [
      "Extracting Frames from Batman (1989)-002_part_965.mp4: 100%|██████████| 104/104 [00:00<00:00, 620.31it/s]\n"
     ]
    },
    {
     "name": "stdout",
     "output_type": "stream",
     "text": [
      "✅ Saved frames in: /Users/mario/Desktop/Desktop/UofA/4.Winter-2025/ece-910/Batman/VLM-testing/batman-frames/Batman (1989)-002_part_965\n",
      "\n",
      "🎥 Processing: /Users/mario/Desktop/Desktop/UofA/4.Winter-2025/ece-910/Batman/Batman-(1989)-002/Batman (1989)-002_part_966.mp4\n",
      "📸 Total Frames: 59\n"
     ]
    },
    {
     "name": "stderr",
     "output_type": "stream",
     "text": [
      "Extracting Frames from Batman (1989)-002_part_966.mp4: 100%|██████████| 59/59 [00:00<00:00, 612.66it/s]\n"
     ]
    },
    {
     "name": "stdout",
     "output_type": "stream",
     "text": [
      "✅ Saved frames in: /Users/mario/Desktop/Desktop/UofA/4.Winter-2025/ece-910/Batman/VLM-testing/batman-frames/Batman (1989)-002_part_966\n",
      "\n",
      "🎥 Processing: /Users/mario/Desktop/Desktop/UofA/4.Winter-2025/ece-910/Batman/Batman-(1989)-002/Batman (1989)-002_part_967.mp4\n",
      "📸 Total Frames: 70\n"
     ]
    },
    {
     "name": "stderr",
     "output_type": "stream",
     "text": [
      "Extracting Frames from Batman (1989)-002_part_967.mp4: 100%|██████████| 70/70 [00:00<00:00, 630.01it/s]\n"
     ]
    },
    {
     "name": "stdout",
     "output_type": "stream",
     "text": [
      "✅ Saved frames in: /Users/mario/Desktop/Desktop/UofA/4.Winter-2025/ece-910/Batman/VLM-testing/batman-frames/Batman (1989)-002_part_967\n",
      "\n",
      "🎥 Processing: /Users/mario/Desktop/Desktop/UofA/4.Winter-2025/ece-910/Batman/Batman-(1989)-002/Batman (1989)-002_part_968.mp4\n",
      "📸 Total Frames: 165\n"
     ]
    },
    {
     "name": "stderr",
     "output_type": "stream",
     "text": [
      "Extracting Frames from Batman (1989)-002_part_968.mp4: 100%|██████████| 165/165 [00:00<00:00, 635.20it/s]\n"
     ]
    },
    {
     "name": "stdout",
     "output_type": "stream",
     "text": [
      "✅ Saved frames in: /Users/mario/Desktop/Desktop/UofA/4.Winter-2025/ece-910/Batman/VLM-testing/batman-frames/Batman (1989)-002_part_968\n",
      "\n",
      "🎥 Processing: /Users/mario/Desktop/Desktop/UofA/4.Winter-2025/ece-910/Batman/Batman-(1989)-002/Batman (1989)-002_part_969.mp4\n",
      "📸 Total Frames: 5\n"
     ]
    },
    {
     "name": "stderr",
     "output_type": "stream",
     "text": [
      "Extracting Frames from Batman (1989)-002_part_969.mp4: 100%|██████████| 5/5 [00:00<00:00, 486.72it/s]\n"
     ]
    },
    {
     "name": "stdout",
     "output_type": "stream",
     "text": [
      "✅ Saved frames in: /Users/mario/Desktop/Desktop/UofA/4.Winter-2025/ece-910/Batman/VLM-testing/batman-frames/Batman (1989)-002_part_969\n",
      "\n",
      "🎥 Processing: /Users/mario/Desktop/Desktop/UofA/4.Winter-2025/ece-910/Batman/Batman-(1989)-002/Batman (1989)-002_part_97.mp4\n",
      "📸 Total Frames: 98\n"
     ]
    },
    {
     "name": "stderr",
     "output_type": "stream",
     "text": [
      "Extracting Frames from Batman (1989)-002_part_97.mp4: 100%|██████████| 98/98 [00:00<00:00, 583.36it/s]\n"
     ]
    },
    {
     "name": "stdout",
     "output_type": "stream",
     "text": [
      "✅ Saved frames in: /Users/mario/Desktop/Desktop/UofA/4.Winter-2025/ece-910/Batman/VLM-testing/batman-frames/Batman (1989)-002_part_97\n",
      "\n",
      "🎥 Processing: /Users/mario/Desktop/Desktop/UofA/4.Winter-2025/ece-910/Batman/Batman-(1989)-002/Batman (1989)-002_part_970.mp4\n",
      "📸 Total Frames: 14\n"
     ]
    },
    {
     "name": "stderr",
     "output_type": "stream",
     "text": [
      "Extracting Frames from Batman (1989)-002_part_970.mp4: 100%|██████████| 14/14 [00:00<00:00, 555.25it/s]\n"
     ]
    },
    {
     "name": "stdout",
     "output_type": "stream",
     "text": [
      "✅ Saved frames in: /Users/mario/Desktop/Desktop/UofA/4.Winter-2025/ece-910/Batman/VLM-testing/batman-frames/Batman (1989)-002_part_970\n",
      "\n",
      "🎥 Processing: /Users/mario/Desktop/Desktop/UofA/4.Winter-2025/ece-910/Batman/Batman-(1989)-002/Batman (1989)-002_part_971.mp4\n",
      "📸 Total Frames: 15\n"
     ]
    },
    {
     "name": "stderr",
     "output_type": "stream",
     "text": [
      "Extracting Frames from Batman (1989)-002_part_971.mp4: 100%|██████████| 15/15 [00:00<00:00, 509.18it/s]\n"
     ]
    },
    {
     "name": "stdout",
     "output_type": "stream",
     "text": [
      "✅ Saved frames in: /Users/mario/Desktop/Desktop/UofA/4.Winter-2025/ece-910/Batman/VLM-testing/batman-frames/Batman (1989)-002_part_971\n",
      "\n",
      "🎥 Processing: /Users/mario/Desktop/Desktop/UofA/4.Winter-2025/ece-910/Batman/Batman-(1989)-002/Batman (1989)-002_part_972.mp4\n",
      "📸 Total Frames: 22\n"
     ]
    },
    {
     "name": "stderr",
     "output_type": "stream",
     "text": [
      "Extracting Frames from Batman (1989)-002_part_972.mp4: 100%|██████████| 22/22 [00:00<00:00, 582.35it/s]\n"
     ]
    },
    {
     "name": "stdout",
     "output_type": "stream",
     "text": [
      "✅ Saved frames in: /Users/mario/Desktop/Desktop/UofA/4.Winter-2025/ece-910/Batman/VLM-testing/batman-frames/Batman (1989)-002_part_972\n",
      "\n",
      "🎥 Processing: /Users/mario/Desktop/Desktop/UofA/4.Winter-2025/ece-910/Batman/Batman-(1989)-002/Batman (1989)-002_part_973.mp4\n",
      "📸 Total Frames: 20\n"
     ]
    },
    {
     "name": "stderr",
     "output_type": "stream",
     "text": [
      "Extracting Frames from Batman (1989)-002_part_973.mp4: 100%|██████████| 20/20 [00:00<00:00, 548.97it/s]\n"
     ]
    },
    {
     "name": "stdout",
     "output_type": "stream",
     "text": [
      "✅ Saved frames in: /Users/mario/Desktop/Desktop/UofA/4.Winter-2025/ece-910/Batman/VLM-testing/batman-frames/Batman (1989)-002_part_973\n",
      "\n",
      "🎥 Processing: /Users/mario/Desktop/Desktop/UofA/4.Winter-2025/ece-910/Batman/Batman-(1989)-002/Batman (1989)-002_part_974.mp4\n",
      "📸 Total Frames: 13\n"
     ]
    },
    {
     "name": "stderr",
     "output_type": "stream",
     "text": [
      "Extracting Frames from Batman (1989)-002_part_974.mp4: 100%|██████████| 13/13 [00:00<00:00, 548.34it/s]\n"
     ]
    },
    {
     "name": "stdout",
     "output_type": "stream",
     "text": [
      "✅ Saved frames in: /Users/mario/Desktop/Desktop/UofA/4.Winter-2025/ece-910/Batman/VLM-testing/batman-frames/Batman (1989)-002_part_974\n",
      "\n",
      "🎥 Processing: /Users/mario/Desktop/Desktop/UofA/4.Winter-2025/ece-910/Batman/Batman-(1989)-002/Batman (1989)-002_part_975.mp4\n",
      "📸 Total Frames: 18\n"
     ]
    },
    {
     "name": "stderr",
     "output_type": "stream",
     "text": [
      "Extracting Frames from Batman (1989)-002_part_975.mp4: 100%|██████████| 18/18 [00:00<00:00, 484.48it/s]\n"
     ]
    },
    {
     "name": "stdout",
     "output_type": "stream",
     "text": [
      "✅ Saved frames in: /Users/mario/Desktop/Desktop/UofA/4.Winter-2025/ece-910/Batman/VLM-testing/batman-frames/Batman (1989)-002_part_975\n",
      "\n",
      "🎥 Processing: /Users/mario/Desktop/Desktop/UofA/4.Winter-2025/ece-910/Batman/Batman-(1989)-002/Batman (1989)-002_part_976.mp4\n",
      "📸 Total Frames: 26\n"
     ]
    },
    {
     "name": "stderr",
     "output_type": "stream",
     "text": [
      "Extracting Frames from Batman (1989)-002_part_976.mp4: 100%|██████████| 26/26 [00:00<00:00, 550.28it/s]\n"
     ]
    },
    {
     "name": "stdout",
     "output_type": "stream",
     "text": [
      "✅ Saved frames in: /Users/mario/Desktop/Desktop/UofA/4.Winter-2025/ece-910/Batman/VLM-testing/batman-frames/Batman (1989)-002_part_976\n",
      "\n",
      "🎥 Processing: /Users/mario/Desktop/Desktop/UofA/4.Winter-2025/ece-910/Batman/Batman-(1989)-002/Batman (1989)-002_part_977.mp4\n",
      "📸 Total Frames: 54\n"
     ]
    },
    {
     "name": "stderr",
     "output_type": "stream",
     "text": [
      "Extracting Frames from Batman (1989)-002_part_977.mp4: 100%|██████████| 54/54 [00:00<00:00, 622.67it/s]\n"
     ]
    },
    {
     "name": "stdout",
     "output_type": "stream",
     "text": [
      "✅ Saved frames in: /Users/mario/Desktop/Desktop/UofA/4.Winter-2025/ece-910/Batman/VLM-testing/batman-frames/Batman (1989)-002_part_977\n",
      "\n",
      "🎥 Processing: /Users/mario/Desktop/Desktop/UofA/4.Winter-2025/ece-910/Batman/Batman-(1989)-002/Batman (1989)-002_part_978.mp4\n",
      "📸 Total Frames: 433\n"
     ]
    },
    {
     "name": "stderr",
     "output_type": "stream",
     "text": [
      "Extracting Frames from Batman (1989)-002_part_978.mp4: 100%|██████████| 433/433 [00:00<00:00, 652.61it/s]\n"
     ]
    },
    {
     "name": "stdout",
     "output_type": "stream",
     "text": [
      "✅ Saved frames in: /Users/mario/Desktop/Desktop/UofA/4.Winter-2025/ece-910/Batman/VLM-testing/batman-frames/Batman (1989)-002_part_978\n",
      "\n",
      "🎥 Processing: /Users/mario/Desktop/Desktop/UofA/4.Winter-2025/ece-910/Batman/Batman-(1989)-002/Batman (1989)-002_part_979.mp4\n",
      "📸 Total Frames: 255\n"
     ]
    },
    {
     "name": "stderr",
     "output_type": "stream",
     "text": [
      "Extracting Frames from Batman (1989)-002_part_979.mp4: 100%|██████████| 255/255 [00:00<00:00, 643.75it/s]\n"
     ]
    },
    {
     "name": "stdout",
     "output_type": "stream",
     "text": [
      "✅ Saved frames in: /Users/mario/Desktop/Desktop/UofA/4.Winter-2025/ece-910/Batman/VLM-testing/batman-frames/Batman (1989)-002_part_979\n",
      "\n",
      "🎥 Processing: /Users/mario/Desktop/Desktop/UofA/4.Winter-2025/ece-910/Batman/Batman-(1989)-002/Batman (1989)-002_part_98.mp4\n",
      "📸 Total Frames: 41\n"
     ]
    },
    {
     "name": "stderr",
     "output_type": "stream",
     "text": [
      "Extracting Frames from Batman (1989)-002_part_98.mp4: 100%|██████████| 41/41 [00:00<00:00, 564.97it/s]\n"
     ]
    },
    {
     "name": "stdout",
     "output_type": "stream",
     "text": [
      "✅ Saved frames in: /Users/mario/Desktop/Desktop/UofA/4.Winter-2025/ece-910/Batman/VLM-testing/batman-frames/Batman (1989)-002_part_98\n",
      "\n",
      "🎥 Processing: /Users/mario/Desktop/Desktop/UofA/4.Winter-2025/ece-910/Batman/Batman-(1989)-002/Batman (1989)-002_part_980.mp4\n",
      "📸 Total Frames: 767\n"
     ]
    },
    {
     "name": "stderr",
     "output_type": "stream",
     "text": [
      "Extracting Frames from Batman (1989)-002_part_980.mp4: 100%|██████████| 767/767 [00:01<00:00, 572.48it/s]\n"
     ]
    },
    {
     "name": "stdout",
     "output_type": "stream",
     "text": [
      "✅ Saved frames in: /Users/mario/Desktop/Desktop/UofA/4.Winter-2025/ece-910/Batman/VLM-testing/batman-frames/Batman (1989)-002_part_980\n",
      "\n",
      "🎥 Processing: /Users/mario/Desktop/Desktop/UofA/4.Winter-2025/ece-910/Batman/Batman-(1989)-002/Batman (1989)-002_part_981.mp4\n",
      "📸 Total Frames: 470\n"
     ]
    },
    {
     "name": "stderr",
     "output_type": "stream",
     "text": [
      "Extracting Frames from Batman (1989)-002_part_981.mp4: 100%|██████████| 470/470 [00:00<00:00, 575.75it/s]\n"
     ]
    },
    {
     "name": "stdout",
     "output_type": "stream",
     "text": [
      "✅ Saved frames in: /Users/mario/Desktop/Desktop/UofA/4.Winter-2025/ece-910/Batman/VLM-testing/batman-frames/Batman (1989)-002_part_981\n",
      "\n",
      "🎥 Processing: /Users/mario/Desktop/Desktop/UofA/4.Winter-2025/ece-910/Batman/Batman-(1989)-002/Batman (1989)-002_part_982.mp4\n",
      "📸 Total Frames: 253\n"
     ]
    },
    {
     "name": "stderr",
     "output_type": "stream",
     "text": [
      "Extracting Frames from Batman (1989)-002_part_982.mp4: 100%|██████████| 253/253 [00:00<00:00, 626.13it/s]\n"
     ]
    },
    {
     "name": "stdout",
     "output_type": "stream",
     "text": [
      "✅ Saved frames in: /Users/mario/Desktop/Desktop/UofA/4.Winter-2025/ece-910/Batman/VLM-testing/batman-frames/Batman (1989)-002_part_982\n",
      "\n",
      "🎥 Processing: /Users/mario/Desktop/Desktop/UofA/4.Winter-2025/ece-910/Batman/Batman-(1989)-002/Batman (1989)-002_part_983.mp4\n",
      "📸 Total Frames: 82\n"
     ]
    },
    {
     "name": "stderr",
     "output_type": "stream",
     "text": [
      "Extracting Frames from Batman (1989)-002_part_983.mp4: 100%|██████████| 82/82 [00:00<00:00, 602.16it/s]\n"
     ]
    },
    {
     "name": "stdout",
     "output_type": "stream",
     "text": [
      "✅ Saved frames in: /Users/mario/Desktop/Desktop/UofA/4.Winter-2025/ece-910/Batman/VLM-testing/batman-frames/Batman (1989)-002_part_983\n",
      "\n",
      "🎥 Processing: /Users/mario/Desktop/Desktop/UofA/4.Winter-2025/ece-910/Batman/Batman-(1989)-002/Batman (1989)-002_part_984.mp4\n",
      "📸 Total Frames: 77\n"
     ]
    },
    {
     "name": "stderr",
     "output_type": "stream",
     "text": [
      "Extracting Frames from Batman (1989)-002_part_984.mp4: 100%|██████████| 77/77 [00:00<00:00, 581.15it/s]\n"
     ]
    },
    {
     "name": "stdout",
     "output_type": "stream",
     "text": [
      "✅ Saved frames in: /Users/mario/Desktop/Desktop/UofA/4.Winter-2025/ece-910/Batman/VLM-testing/batman-frames/Batman (1989)-002_part_984\n",
      "\n",
      "🎥 Processing: /Users/mario/Desktop/Desktop/UofA/4.Winter-2025/ece-910/Batman/Batman-(1989)-002/Batman (1989)-002_part_985.mp4\n",
      "📸 Total Frames: 331\n"
     ]
    },
    {
     "name": "stderr",
     "output_type": "stream",
     "text": [
      "Extracting Frames from Batman (1989)-002_part_985.mp4: 100%|██████████| 331/331 [00:00<00:00, 644.72it/s]\n"
     ]
    },
    {
     "name": "stdout",
     "output_type": "stream",
     "text": [
      "✅ Saved frames in: /Users/mario/Desktop/Desktop/UofA/4.Winter-2025/ece-910/Batman/VLM-testing/batman-frames/Batman (1989)-002_part_985\n",
      "\n",
      "🎥 Processing: /Users/mario/Desktop/Desktop/UofA/4.Winter-2025/ece-910/Batman/Batman-(1989)-002/Batman (1989)-002_part_986.mp4\n",
      "📸 Total Frames: 38\n"
     ]
    },
    {
     "name": "stderr",
     "output_type": "stream",
     "text": [
      "Extracting Frames from Batman (1989)-002_part_986.mp4: 100%|██████████| 38/38 [00:00<00:00, 590.49it/s]\n"
     ]
    },
    {
     "name": "stdout",
     "output_type": "stream",
     "text": [
      "✅ Saved frames in: /Users/mario/Desktop/Desktop/UofA/4.Winter-2025/ece-910/Batman/VLM-testing/batman-frames/Batman (1989)-002_part_986\n",
      "\n",
      "🎥 Processing: /Users/mario/Desktop/Desktop/UofA/4.Winter-2025/ece-910/Batman/Batman-(1989)-002/Batman (1989)-002_part_987.mp4\n",
      "📸 Total Frames: 52\n"
     ]
    },
    {
     "name": "stderr",
     "output_type": "stream",
     "text": [
      "Extracting Frames from Batman (1989)-002_part_987.mp4: 100%|██████████| 52/52 [00:00<00:00, 609.47it/s]\n"
     ]
    },
    {
     "name": "stdout",
     "output_type": "stream",
     "text": [
      "✅ Saved frames in: /Users/mario/Desktop/Desktop/UofA/4.Winter-2025/ece-910/Batman/VLM-testing/batman-frames/Batman (1989)-002_part_987\n",
      "\n",
      "🎥 Processing: /Users/mario/Desktop/Desktop/UofA/4.Winter-2025/ece-910/Batman/Batman-(1989)-002/Batman (1989)-002_part_988.mp4\n",
      "📸 Total Frames: 254\n"
     ]
    },
    {
     "name": "stderr",
     "output_type": "stream",
     "text": [
      "Extracting Frames from Batman (1989)-002_part_988.mp4: 100%|██████████| 254/254 [00:00<00:00, 643.11it/s]\n"
     ]
    },
    {
     "name": "stdout",
     "output_type": "stream",
     "text": [
      "✅ Saved frames in: /Users/mario/Desktop/Desktop/UofA/4.Winter-2025/ece-910/Batman/VLM-testing/batman-frames/Batman (1989)-002_part_988\n",
      "\n",
      "🎥 Processing: /Users/mario/Desktop/Desktop/UofA/4.Winter-2025/ece-910/Batman/Batman-(1989)-002/Batman (1989)-002_part_989.mp4\n",
      "📸 Total Frames: 18\n"
     ]
    },
    {
     "name": "stderr",
     "output_type": "stream",
     "text": [
      "Extracting Frames from Batman (1989)-002_part_989.mp4: 100%|██████████| 18/18 [00:00<00:00, 508.99it/s]\n"
     ]
    },
    {
     "name": "stdout",
     "output_type": "stream",
     "text": [
      "✅ Saved frames in: /Users/mario/Desktop/Desktop/UofA/4.Winter-2025/ece-910/Batman/VLM-testing/batman-frames/Batman (1989)-002_part_989\n",
      "\n",
      "🎥 Processing: /Users/mario/Desktop/Desktop/UofA/4.Winter-2025/ece-910/Batman/Batman-(1989)-002/Batman (1989)-002_part_99.mp4\n",
      "📸 Total Frames: 93\n"
     ]
    },
    {
     "name": "stderr",
     "output_type": "stream",
     "text": [
      "Extracting Frames from Batman (1989)-002_part_99.mp4: 100%|██████████| 93/93 [00:00<00:00, 337.15it/s]\n"
     ]
    },
    {
     "name": "stdout",
     "output_type": "stream",
     "text": [
      "✅ Saved frames in: /Users/mario/Desktop/Desktop/UofA/4.Winter-2025/ece-910/Batman/VLM-testing/batman-frames/Batman (1989)-002_part_99\n",
      "\n",
      "🎥 Processing: /Users/mario/Desktop/Desktop/UofA/4.Winter-2025/ece-910/Batman/Batman-(1989)-002/Batman (1989)-002_part_990.mp4\n",
      "📸 Total Frames: 15\n"
     ]
    },
    {
     "name": "stderr",
     "output_type": "stream",
     "text": [
      "Extracting Frames from Batman (1989)-002_part_990.mp4: 100%|██████████| 15/15 [00:00<00:00, 362.75it/s]\n"
     ]
    },
    {
     "name": "stdout",
     "output_type": "stream",
     "text": [
      "✅ Saved frames in: /Users/mario/Desktop/Desktop/UofA/4.Winter-2025/ece-910/Batman/VLM-testing/batman-frames/Batman (1989)-002_part_990\n",
      "\n",
      "🎥 Processing: /Users/mario/Desktop/Desktop/UofA/4.Winter-2025/ece-910/Batman/Batman-(1989)-002/Batman (1989)-002_part_991.mp4\n",
      "📸 Total Frames: 1238\n"
     ]
    },
    {
     "name": "stderr",
     "output_type": "stream",
     "text": [
      "Extracting Frames from Batman (1989)-002_part_991.mp4: 100%|██████████| 1238/1238 [00:02<00:00, 560.47it/s]\n"
     ]
    },
    {
     "name": "stdout",
     "output_type": "stream",
     "text": [
      "✅ Saved frames in: /Users/mario/Desktop/Desktop/UofA/4.Winter-2025/ece-910/Batman/VLM-testing/batman-frames/Batman (1989)-002_part_991\n",
      "\n",
      "🎥 Processing: /Users/mario/Desktop/Desktop/UofA/4.Winter-2025/ece-910/Batman/Batman-(1989)-002/Batman (1989)-002_part_992.mp4\n",
      "📸 Total Frames: 28\n"
     ]
    },
    {
     "name": "stderr",
     "output_type": "stream",
     "text": [
      "Extracting Frames from Batman (1989)-002_part_992.mp4: 100%|██████████| 28/28 [00:00<00:00, 494.46it/s]\n"
     ]
    },
    {
     "name": "stdout",
     "output_type": "stream",
     "text": [
      "✅ Saved frames in: /Users/mario/Desktop/Desktop/UofA/4.Winter-2025/ece-910/Batman/VLM-testing/batman-frames/Batman (1989)-002_part_992\n",
      "\n",
      "🎥 Processing: /Users/mario/Desktop/Desktop/UofA/4.Winter-2025/ece-910/Batman/Batman-(1989)-002/Batman (1989)-002_part_993.mp4\n",
      "📸 Total Frames: 245\n"
     ]
    },
    {
     "name": "stderr",
     "output_type": "stream",
     "text": [
      "Extracting Frames from Batman (1989)-002_part_993.mp4: 100%|██████████| 245/245 [00:00<00:00, 637.71it/s]\n"
     ]
    },
    {
     "name": "stdout",
     "output_type": "stream",
     "text": [
      "✅ Saved frames in: /Users/mario/Desktop/Desktop/UofA/4.Winter-2025/ece-910/Batman/VLM-testing/batman-frames/Batman (1989)-002_part_993\n",
      "\n",
      "🎥 Processing: /Users/mario/Desktop/Desktop/UofA/4.Winter-2025/ece-910/Batman/Batman-(1989)-002/Batman (1989)-002_part_994.mp4\n",
      "📸 Total Frames: 132\n"
     ]
    },
    {
     "name": "stderr",
     "output_type": "stream",
     "text": [
      "Extracting Frames from Batman (1989)-002_part_994.mp4: 100%|██████████| 132/132 [00:00<00:00, 244.41it/s]\n"
     ]
    },
    {
     "name": "stdout",
     "output_type": "stream",
     "text": [
      "✅ Saved frames in: /Users/mario/Desktop/Desktop/UofA/4.Winter-2025/ece-910/Batman/VLM-testing/batman-frames/Batman (1989)-002_part_994\n",
      "\n",
      "🎥 Processing: /Users/mario/Desktop/Desktop/UofA/4.Winter-2025/ece-910/Batman/Batman-(1989)-002/Batman (1989)-002_part_995.mp4\n",
      "📸 Total Frames: 112\n"
     ]
    },
    {
     "name": "stderr",
     "output_type": "stream",
     "text": [
      "Extracting Frames from Batman (1989)-002_part_995.mp4: 100%|██████████| 112/112 [00:00<00:00, 589.14it/s]\n"
     ]
    },
    {
     "name": "stdout",
     "output_type": "stream",
     "text": [
      "✅ Saved frames in: /Users/mario/Desktop/Desktop/UofA/4.Winter-2025/ece-910/Batman/VLM-testing/batman-frames/Batman (1989)-002_part_995\n",
      "\n",
      "🎥 Processing: /Users/mario/Desktop/Desktop/UofA/4.Winter-2025/ece-910/Batman/Batman-(1989)-002/Batman (1989)-002_part_996.mp4\n",
      "📸 Total Frames: 505\n"
     ]
    },
    {
     "name": "stderr",
     "output_type": "stream",
     "text": [
      "Extracting Frames from Batman (1989)-002_part_996.mp4: 100%|██████████| 505/505 [00:00<00:00, 564.22it/s]\n"
     ]
    },
    {
     "name": "stdout",
     "output_type": "stream",
     "text": [
      "✅ Saved frames in: /Users/mario/Desktop/Desktop/UofA/4.Winter-2025/ece-910/Batman/VLM-testing/batman-frames/Batman (1989)-002_part_996\n",
      "\n",
      "🎥 Processing: /Users/mario/Desktop/Desktop/UofA/4.Winter-2025/ece-910/Batman/Batman-(1989)-002/Batman (1989)-002_part_997.mp4\n",
      "📸 Total Frames: 36\n"
     ]
    },
    {
     "name": "stderr",
     "output_type": "stream",
     "text": [
      "Extracting Frames from Batman (1989)-002_part_997.mp4: 100%|██████████| 36/36 [00:00<00:00, 557.19it/s]\n"
     ]
    },
    {
     "name": "stdout",
     "output_type": "stream",
     "text": [
      "✅ Saved frames in: /Users/mario/Desktop/Desktop/UofA/4.Winter-2025/ece-910/Batman/VLM-testing/batman-frames/Batman (1989)-002_part_997\n",
      "\n",
      "🎥 Processing: /Users/mario/Desktop/Desktop/UofA/4.Winter-2025/ece-910/Batman/Batman-(1989)-002/Batman (1989)-002_part_998.mp4\n",
      "📸 Total Frames: 561\n"
     ]
    },
    {
     "name": "stderr",
     "output_type": "stream",
     "text": [
      "Extracting Frames from Batman (1989)-002_part_998.mp4: 100%|██████████| 561/561 [00:00<00:00, 630.43it/s]\n"
     ]
    },
    {
     "name": "stdout",
     "output_type": "stream",
     "text": [
      "✅ Saved frames in: /Users/mario/Desktop/Desktop/UofA/4.Winter-2025/ece-910/Batman/VLM-testing/batman-frames/Batman (1989)-002_part_998\n",
      "\n",
      "🎥 Processing: /Users/mario/Desktop/Desktop/UofA/4.Winter-2025/ece-910/Batman/Batman-(1989)-002/Batman (1989)-002_part_999.mp4\n",
      "📸 Total Frames: 114\n"
     ]
    },
    {
     "name": "stderr",
     "output_type": "stream",
     "text": [
      "Extracting Frames from Batman (1989)-002_part_999.mp4: 100%|██████████| 114/114 [00:00<00:00, 616.60it/s]"
     ]
    },
    {
     "name": "stdout",
     "output_type": "stream",
     "text": [
      "✅ Saved frames in: /Users/mario/Desktop/Desktop/UofA/4.Winter-2025/ece-910/Batman/VLM-testing/batman-frames/Batman (1989)-002_part_999\n",
      "\n",
      "🎬 Frame extraction completed for all video clips!\n"
     ]
    },
    {
     "name": "stderr",
     "output_type": "stream",
     "text": [
      "\n"
     ]
    }
   ],
   "source": [
    "import os\n",
    "import cv2\n",
    "from tqdm import tqdm\n",
    "\n",
    "# Define paths\n",
    "input_dir = \"/Users/mario/Desktop/Desktop/UofA/4.Winter-2025/ece-910/Batman/Batman-(1989)-002\"  # Main directory containing video clips\n",
    "output_base_dir = \"/Users/mario/Desktop/Desktop/UofA/4.Winter-2025/ece-910/Batman/VLM-testing/batman-frames\"\n",
    "\n",
    "# Ensure output directory exists\n",
    "os.makedirs(output_base_dir, exist_ok=True)\n",
    "\n",
    "# Get all video files in the input directory\n",
    "video_files = sorted([f for f in os.listdir(input_dir) if f.endswith(\".mp4\")])\n",
    "\n",
    "# Function to extract frames\n",
    "def extract_frames(video_path, output_dir, resize_dim=(224, 224), image_quality=85):\n",
    "    print(f\"\\n🎥 Processing: {video_path}\")\n",
    "\n",
    "    # Create output directory for the current video\n",
    "    os.makedirs(output_dir, exist_ok=True)\n",
    "\n",
    "    # Load video\n",
    "    video = cv2.VideoCapture(video_path)\n",
    "    total_frames = int(video.get(cv2.CAP_PROP_FRAME_COUNT))\n",
    "    print(f\"📸 Total Frames: {total_frames}\")\n",
    "\n",
    "    frame_count = 1  # Start frame numbering from 1\n",
    "    for _ in tqdm(range(total_frames), desc=f\"Extracting Frames from {os.path.basename(video_path)}\"):\n",
    "        ret, frame = video.read()\n",
    "        if not ret:\n",
    "            break\n",
    "\n",
    "        # Convert BGR to RGB\n",
    "        frame_rgb = cv2.cvtColor(frame, cv2.COLOR_BGR2RGB)\n",
    "\n",
    "        # Define output frame filename\n",
    "        frame_filename = os.path.join(output_dir, f\"frame_{frame_count}.jpg\")\n",
    "\n",
    "        # Save the frame\n",
    "        cv2.imwrite(frame_filename, frame_rgb, [cv2.IMWRITE_JPEG_QUALITY, image_quality])\n",
    "\n",
    "        frame_count += 1\n",
    "\n",
    "    video.release()\n",
    "    print(f\"✅ Saved frames in: {output_dir}\")\n",
    "\n",
    "# Process each video file\n",
    "for video_file in video_files:\n",
    "    video_path = os.path.join(input_dir, video_file)\n",
    "    output_dir = os.path.join(output_base_dir, os.path.splitext(video_file)[0])  # Remove \".mp4\" and use as folder name\n",
    "    extract_frames(video_path, output_dir)\n",
    "\n",
    "print(\"\\n🎬 Frame extraction completed for all video clips!\")"
   ]
  },
  {
   "cell_type": "code",
   "execution_count": null,
   "metadata": {},
   "outputs": [],
   "source": []
  }
 ],
 "metadata": {
  "kernelspec": {
   "display_name": "Python 3",
   "language": "python",
   "name": "python3"
  },
  "language_info": {
   "codemirror_mode": {
    "name": "ipython",
    "version": 3
   },
   "file_extension": ".py",
   "mimetype": "text/x-python",
   "name": "python",
   "nbconvert_exporter": "python",
   "pygments_lexer": "ipython3",
   "version": "3.10.13"
  }
 },
 "nbformat": 4,
 "nbformat_minor": 2
}
