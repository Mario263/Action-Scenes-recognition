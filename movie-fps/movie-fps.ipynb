{
 "cells": [
  {
   "cell_type": "code",
   "execution_count": 1,
   "metadata": {},
   "outputs": [
    {
     "name": "stdout",
     "output_type": "stream",
     "text": [
      "🎥 FPS of the movie: 59.94\n"
     ]
    }
   ],
   "source": [
    "import cv2\n",
    "\n",
    "# Define video path\n",
    "VIDEO_PATH = \"/Users/mario/Desktop/ece910/Wild-Bunch-output/TheWildBunch(1969).mp4\"\n",
    "\n",
    "def get_fps(video_path):\n",
    "    cap = cv2.VideoCapture(video_path)\n",
    "    fps = cap.get(cv2.CAP_PROP_FPS)\n",
    "    cap.release()\n",
    "    return fps\n",
    "\n",
    "# Get and print FPS\n",
    "fps = get_fps(VIDEO_PATH)\n",
    "print(f\"🎥 FPS of the movie: {fps}\")"
   ]
  },
  {
   "cell_type": "code",
   "execution_count": null,
   "metadata": {},
   "outputs": [],
   "source": []
  }
 ],
 "metadata": {
  "kernelspec": {
   "display_name": "Python 3",
   "language": "python",
   "name": "python3"
  },
  "language_info": {
   "codemirror_mode": {
    "name": "ipython",
    "version": 3
   },
   "file_extension": ".py",
   "mimetype": "text/x-python",
   "name": "python",
   "nbconvert_exporter": "python",
   "pygments_lexer": "ipython3",
   "version": "3.10.13"
  }
 },
 "nbformat": 4,
 "nbformat_minor": 2
}
